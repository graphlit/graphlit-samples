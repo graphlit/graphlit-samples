{
  "nbformat": 4,
  "nbformat_minor": 0,
  "metadata": {
    "colab": {
      "provenance": [],
      "mount_file_id": "1cSnEIDnT7SYyUpfap5KiK6Y_LWLQdk6s",
      "authorship_tag": "ABX9TyPWrCw5v74W0qLRh9gHyDxc",
      "include_colab_link": true
    },
    "kernelspec": {
      "name": "python3",
      "display_name": "Python 3"
    },
    "language_info": {
      "name": "python"
    }
  },
  "cells": [
    {
      "cell_type": "markdown",
      "metadata": {
        "id": "view-in-github",
        "colab_type": "text"
      },
      "source": [
        "<a href=\"https://colab.research.google.com/github/graphlit/graphlit-samples/blob/main/python/Notebook%20Examples/Graphlit_2024_12_09_Locate_Microsoft_Emails_by_Organization.ipynb\" target=\"_parent\"><img src=\"https://colab.research.google.com/assets/colab-badge.svg\" alt=\"Open In Colab\"/></a>"
      ]
    },
    {
      "cell_type": "markdown",
      "source": [
        "**Description**\n",
        "\n",
        "This example shows how to ingest emails from a user's Microsoft email account, automatically extract Organizations using Anthropic Claude Sonnet 3.5, and filter emails by a specific Organization."
      ],
      "metadata": {
        "id": "M7pOtiP1OaKd"
      }
    },
    {
      "cell_type": "markdown",
      "source": [
        "**Requirements**\n",
        "\n",
        "Prior to running this notebook, you will need to [signup](https://docs.graphlit.dev/getting-started/signup) for Graphlit, and [create a project](https://docs.graphlit.dev/getting-started/create-project).\n",
        "\n",
        "You will need the Graphlit organization ID, preview environment ID and JWT secret from your created project.\n",
        "\n",
        "Assign these properties as Colab secrets: GRAPHLIT_ORGANIZATION_ID, GRAPHLIT_ENVIRONMENT_ID and GRAPHLIT_JWT_SECRET.\n",
        "\n",
        "To access your Microsoft email, assign these properties as Colab secrets: MICROSOFT_CLIENT_ID, MICROSOFT_CLIENT_SECRET and MICROSOFT_REFRESH_TOKEN.\n",
        "\n",
        "---"
      ],
      "metadata": {
        "id": "laG2MXUIhNnx"
      }
    },
    {
      "cell_type": "markdown",
      "source": [
        "Install Graphlit Python client SDK"
      ],
      "metadata": {
        "id": "NwRzDHWWienC"
      }
    },
    {
      "cell_type": "code",
      "execution_count": null,
      "metadata": {
        "id": "fefizrrh4xGD"
      },
      "outputs": [],
      "source": [
        "!pip install --upgrade graphlit-client"
      ]
    },
    {
      "cell_type": "markdown",
      "source": [
        "Initialize Graphlit"
      ],
      "metadata": {
        "id": "abV1114jL-bR"
      }
    },
    {
      "cell_type": "code",
      "source": [
        "import os\n",
        "from google.colab import userdata\n",
        "from graphlit import Graphlit\n",
        "from graphlit_api import input_types, enums, exceptions\n",
        "\n",
        "os.environ['GRAPHLIT_ORGANIZATION_ID'] = userdata.get('GRAPHLIT_ORGANIZATION_ID')\n",
        "os.environ['GRAPHLIT_ENVIRONMENT_ID'] = userdata.get('GRAPHLIT_ENVIRONMENT_ID')\n",
        "os.environ['GRAPHLIT_JWT_SECRET'] = userdata.get('GRAPHLIT_JWT_SECRET')\n",
        "\n",
        "graphlit = Graphlit()"
      ],
      "metadata": {
        "id": "WoMAWD4LLP_q"
      },
      "execution_count": null,
      "outputs": []
    },
    {
      "cell_type": "code",
      "source": [
        "os.environ['MICROSOFT_CLIENT_ID'] = userdata.get('MICROSOFT_CLIENT_ID')\n",
        "os.environ['MICROSOFT_CLIENT_SECRET'] = userdata.get('MICROSOFT_CLIENT_SECRET')\n",
        "os.environ['MICROSOFT_REFRESH_TOKEN'] = userdata.get('MICROSOFT_REFRESH_TOKEN')"
      ],
      "metadata": {
        "id": "OH82BIMRAceL"
      },
      "execution_count": null,
      "outputs": []
    },
    {
      "cell_type": "markdown",
      "source": [
        "Define Graphlit helper functions"
      ],
      "metadata": {
        "id": "pgRX57EHMVfl"
      }
    },
    {
      "cell_type": "code",
      "source": [
        "from typing import List, Optional\n",
        "\n",
        "async def create_extraction_specification(model: enums.AnthropicModels):\n",
        "    if graphlit.client is None:\n",
        "        return;\n",
        "\n",
        "    input = input_types.SpecificationInput(\n",
        "        name=f\"Anthropic [{str(model)}]\",\n",
        "        type=enums.SpecificationTypes.EXTRACTION,\n",
        "        serviceType=enums.ModelServiceTypes.ANTHROPIC,\n",
        "        anthropic=input_types.AnthropicModelPropertiesInput(\n",
        "            model=model\n",
        "        )\n",
        "    )\n",
        "\n",
        "    try:\n",
        "        response = await graphlit.client.create_specification(input)\n",
        "\n",
        "        return response.create_specification.id if response.create_specification is not None else None\n",
        "    except exceptions.GraphQLClientError as e:\n",
        "        print(str(e))\n",
        "        return None\n",
        "\n",
        "    return None\n",
        "\n",
        "async def create_workflow(extraction_specification_id: Optional[str]):\n",
        "    if graphlit.client is None:\n",
        "        return;\n",
        "\n",
        "    input = input_types.WorkflowInput(\n",
        "        name=\"Workflow\",\n",
        "        extraction=input_types.ExtractionWorkflowStageInput(\n",
        "            jobs=[\n",
        "                input_types.ExtractionWorkflowJobInput(\n",
        "                    connector=input_types.EntityExtractionConnectorInput(\n",
        "                        type=enums.EntityExtractionServiceTypes.MODEL_TEXT,\n",
        "                        modelText=input_types.ModelTextExtractionPropertiesInput(\n",
        "                            specification=input_types.EntityReferenceInput(id=extraction_specification_id)\n",
        "                        )\n",
        "                    )\n",
        "                )\n",
        "            ]\n",
        "        ) if extraction_specification_id is not None else None,\n",
        "    )\n",
        "\n",
        "    try:\n",
        "        response = await graphlit.client.create_workflow(input)\n",
        "\n",
        "        return response.create_workflow.id if response.create_workflow is not None else None\n",
        "    except exceptions.GraphQLClientError as e:\n",
        "        print(str(e))\n",
        "        return None\n",
        "\n",
        "    return None\n",
        "\n",
        "async def create_feed(workflow_id: str):\n",
        "    if graphlit.client is None:\n",
        "        return;\n",
        "\n",
        "    input = input_types.FeedInput(\n",
        "        name=\"Microsoft Email\",\n",
        "        type=enums.FeedTypes.EMAIL,\n",
        "        email=input_types.EmailFeedPropertiesInput(\n",
        "            type=enums.FeedServiceTypes.MICROSOFT_EMAIL,\n",
        "            microsoft=input_types.MicrosoftEmailFeedPropertiesInput(\n",
        "                type=enums.EmailListingTypes.PAST,\n",
        "                refreshToken=os.environ['MICROSOFT_REFRESH_TOKEN'],\n",
        "                clientId=os.environ['MICROSOFT_CLIENT_ID'],\n",
        "                clientSecret=os.environ['MICROSOFT_CLIENT_SECRET']\n",
        "            ),\n",
        "            readLimit=100 # limiting to 100 emails\n",
        "        ),\n",
        "        workflow=input_types.EntityReferenceInput(id=workflow_id) if workflow_id is not None else None,\n",
        "    )\n",
        "\n",
        "    try:\n",
        "        response = await graphlit.client.create_feed(input)\n",
        "\n",
        "        return response.create_feed.id if response.create_feed is not None else None\n",
        "    except exceptions.GraphQLClientError as e:\n",
        "        print(str(e))\n",
        "        return None\n",
        "\n",
        "    return None\n",
        "\n",
        "async def is_feed_done(feed_id: str):\n",
        "    if graphlit.client is None:\n",
        "        return;\n",
        "\n",
        "    response = await graphlit.client.is_feed_done(feed_id)\n",
        "\n",
        "    return response.is_feed_done.result if response.is_feed_done is not None else None\n",
        "\n",
        "async def query_organizations(name: str):\n",
        "    if graphlit.client is None:\n",
        "        return;\n",
        "\n",
        "    try:\n",
        "        response = await graphlit.client.query_organizations(\n",
        "            filter=input_types.OrganizationFilter(\n",
        "                name=name\n",
        "            )\n",
        "        )\n",
        "\n",
        "        return response.organizations.results if response.organizations is not None else None\n",
        "    except exceptions.GraphQLClientError as e:\n",
        "        print(str(e))\n",
        "        return None\n",
        "\n",
        "# Locate contents where organization was observed, with relevant search text\n",
        "async def query_contents(organization_id: str, search_text: str):\n",
        "    if graphlit.client is None:\n",
        "        return;\n",
        "\n",
        "    try:\n",
        "        response = await graphlit.client.query_contents(\n",
        "            filter=input_types.ContentFilter(\n",
        "                search=search_text,\n",
        "                searchType=enums.SearchTypes.HYBRID,\n",
        "                observations=[\n",
        "                    input_types.ObservationReferenceFilter(\n",
        "                        type=enums.ObservableTypes.ORGANIZATION,\n",
        "                        observable=input_types.EntityReferenceFilter(\n",
        "                            id=organization_id\n",
        "                        )\n",
        "                    )\n",
        "                ]\n",
        "            )\n",
        "        )\n",
        "\n",
        "        return response.contents.results if response.contents is not None else None\n",
        "    except exceptions.GraphQLClientError as e:\n",
        "        print(str(e))\n",
        "        return None\n",
        "\n",
        "async def delete_all_feeds():\n",
        "    if graphlit.client is None:\n",
        "        return;\n",
        "\n",
        "    _ = await graphlit.client.delete_all_feeds(is_synchronous=True)\n"
      ],
      "metadata": {
        "id": "mtwjJsvVOVCh"
      },
      "execution_count": null,
      "outputs": []
    },
    {
      "cell_type": "markdown",
      "source": [
        "Execute Graphlit example"
      ],
      "metadata": {
        "id": "srzhQt4COLVI"
      }
    },
    {
      "cell_type": "code",
      "source": [
        "from IPython.display import display, Markdown\n",
        "import time\n",
        "\n",
        "# Remove any existing feeds; only needed for notebook example\n",
        "await delete_all_feeds()\n",
        "\n",
        "print('Deleted all feeds.')\n",
        "\n",
        "specification_id = await create_extraction_specification(enums.AnthropicModels.CLAUDE_3_5_SONNET)\n",
        "\n",
        "if specification_id is not None:\n",
        "    print(f'Created extraction specification [{specification_id}].')\n",
        "\n",
        "    workflow_id = await create_workflow(specification_id)\n",
        "\n",
        "    if workflow_id is not None:\n",
        "        print(f'Created workflow [{workflow_id}].')\n",
        "\n",
        "        feed_id = await create_feed(workflow_id)\n",
        "\n",
        "        if feed_id is not None:\n",
        "            print(f'Created feed [{feed_id}].')\n",
        "\n",
        "            # Wait for feed to complete, since ingestion happens asychronously\n",
        "            done = False\n",
        "            time.sleep(5)\n",
        "            while not done:\n",
        "                done = await is_feed_done(feed_id)\n",
        "\n",
        "                if not done:\n",
        "                    time.sleep(2)\n",
        "\n",
        "            print(f'Completed feed [{feed_id}].')"
      ],
      "metadata": {
        "id": "fOb6COcONZIJ"
      },
      "execution_count": null,
      "outputs": []
    },
    {
      "cell_type": "code",
      "source": [
        "# NOTE: specify the name of the Organization to locate\n",
        "name = \"Microsoft\"\n",
        "\n",
        "# NOTE: specify the text to search for in the filtered emails\n",
        "search_text = \"Azure subscription\"\n",
        "\n",
        "organizations = await query_organizations(name)\n",
        "\n",
        "organization = organizations[0] if organizations is not None and len(organizations) > 0 else None\n",
        "\n",
        "if organization is not None:\n",
        "    print(f'Found organization [{organization.id}] named [{organization.name}].')\n",
        "\n",
        "    # Query contents by organization and search text\n",
        "    contents = await query_contents(organization.id, search_text)\n",
        "\n",
        "    if contents is not None:\n",
        "        for content in contents:\n",
        "            if content is not None:\n",
        "                display(Markdown(f'### Found Microsoft email [{content.id}] that referenced organization [{name}] and search text [{search_text}].'))\n",
        "\n",
        "                if content.original_date is not None:\n",
        "                    print(\"Date: \" + content.original_date)\n",
        "\n",
        "                metadata = content.email\n",
        "\n",
        "                if metadata is not None:\n",
        "                    if metadata.subject is not None:\n",
        "                        print(\"Subject: \" + metadata.subject)\n",
        "                    if metadata.to is not None and len(metadata.to) > 0:\n",
        "                        print(\"To: \" + \", \".join([f'\"{item.name}\" <{item.email}>' for item in metadata.to if item is not None]))\n",
        "                    if metadata.from_ is not None and len(metadata.from_) > 0:\n",
        "                        print(\"From: \" + \", \".join([f'\"{item.name}\" <{item.email}>' for item in metadata.from_ if item is not None]))\n",
        "\n",
        "                display(Markdown(content.markdown))\n",
        "                print()\n",
        "else:\n",
        "    print(f'No organization with name [{name}] found.')"
      ],
      "metadata": {
        "id": "ziNt4DIzJSBp"
      },
      "execution_count": null,
      "outputs": []
    }
  ]
}