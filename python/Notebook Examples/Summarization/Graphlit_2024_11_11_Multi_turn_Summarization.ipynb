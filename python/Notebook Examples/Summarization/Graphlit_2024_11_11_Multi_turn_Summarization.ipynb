{
  "nbformat": 4,
  "nbformat_minor": 0,
  "metadata": {
    "colab": {
      "provenance": [],
      "mount_file_id": "1cSnEIDnT7SYyUpfap5KiK6Y_LWLQdk6s",
      "authorship_tag": "ABX9TyP+x1uD3SCwKMs48tSuTJS/",
      "include_colab_link": true
    },
    "kernelspec": {
      "name": "python3",
      "display_name": "Python 3"
    },
    "language_info": {
      "name": "python"
    }
  },
  "cells": [
    {
      "cell_type": "markdown",
      "metadata": {
        "id": "view-in-github",
        "colab_type": "text"
      },
      "source": [
        "<a href=\"https://colab.research.google.com/github/graphlit/graphlit-samples/blob/main/python/Notebook%20Examples/Graphlit_2024_11_11_Multi_turn_Summarization.ipynb\" target=\"_parent\"><img src=\"https://colab.research.google.com/assets/colab-badge.svg\" alt=\"Open In Colab\"/></a>"
      ]
    },
    {
      "cell_type": "markdown",
      "source": [
        "**Description**\n",
        "\n",
        "This example shows how to use Graphlit to perform multi-step summarization of provided text."
      ],
      "metadata": {
        "id": "pDz1gRPjOtn5"
      }
    },
    {
      "cell_type": "markdown",
      "source": [
        "**Requirements**\n",
        "\n",
        "Prior to running this notebook, you will need to [signup](https://docs.graphlit.dev/getting-started/signup) for Graphlit, and [create a project](https://docs.graphlit.dev/getting-started/create-project).\n",
        "\n",
        "You will need the Graphlit organization ID, preview environment ID and JWT secret from your created project.\n",
        "\n",
        "Assign these properties as Colab secrets: GRAPHLIT_ORGANIZATION_ID, GRAPHLIT_ENVIRONMENT_ID and GRAPHLIT_JWT_SECRET.\n",
        "\n",
        "\n",
        "---"
      ],
      "metadata": {
        "id": "laG2MXUIhNnx"
      }
    },
    {
      "cell_type": "markdown",
      "source": [
        "Install Graphlit Python client SDK"
      ],
      "metadata": {
        "id": "NwRzDHWWienC"
      }
    },
    {
      "cell_type": "code",
      "execution_count": 8,
      "metadata": {
        "id": "fefizrrh4xGD",
        "colab": {
          "base_uri": "https://localhost:8080/"
        },
        "outputId": "ed5af09a-6a8f-4a68-8f53-c177b598ff8b"
      },
      "outputs": [
        {
          "output_type": "stream",
          "name": "stdout",
          "text": [
            "Requirement already satisfied: graphlit-client in /usr/local/lib/python3.10/dist-packages (1.0.20241116001)\n",
            "Requirement already satisfied: httpx in /usr/local/lib/python3.10/dist-packages (from graphlit-client) (0.27.2)\n",
            "Requirement already satisfied: pydantic<3.0.0,>=2.0.0 in /usr/local/lib/python3.10/dist-packages (from graphlit-client) (2.9.2)\n",
            "Requirement already satisfied: PyJWT in /usr/local/lib/python3.10/dist-packages (from graphlit-client) (2.9.0)\n",
            "Requirement already satisfied: websockets in /usr/local/lib/python3.10/dist-packages (from graphlit-client) (14.1)\n",
            "Requirement already satisfied: annotated-types>=0.6.0 in /usr/local/lib/python3.10/dist-packages (from pydantic<3.0.0,>=2.0.0->graphlit-client) (0.7.0)\n",
            "Requirement already satisfied: pydantic-core==2.23.4 in /usr/local/lib/python3.10/dist-packages (from pydantic<3.0.0,>=2.0.0->graphlit-client) (2.23.4)\n",
            "Requirement already satisfied: typing-extensions>=4.6.1 in /usr/local/lib/python3.10/dist-packages (from pydantic<3.0.0,>=2.0.0->graphlit-client) (4.12.2)\n",
            "Requirement already satisfied: anyio in /usr/local/lib/python3.10/dist-packages (from httpx->graphlit-client) (3.7.1)\n",
            "Requirement already satisfied: certifi in /usr/local/lib/python3.10/dist-packages (from httpx->graphlit-client) (2024.8.30)\n",
            "Requirement already satisfied: httpcore==1.* in /usr/local/lib/python3.10/dist-packages (from httpx->graphlit-client) (1.0.6)\n",
            "Requirement already satisfied: idna in /usr/local/lib/python3.10/dist-packages (from httpx->graphlit-client) (3.10)\n",
            "Requirement already satisfied: sniffio in /usr/local/lib/python3.10/dist-packages (from httpx->graphlit-client) (1.3.1)\n",
            "Requirement already satisfied: h11<0.15,>=0.13 in /usr/local/lib/python3.10/dist-packages (from httpcore==1.*->httpx->graphlit-client) (0.14.0)\n",
            "Requirement already satisfied: exceptiongroup in /usr/local/lib/python3.10/dist-packages (from anyio->httpx->graphlit-client) (1.2.2)\n"
          ]
        }
      ],
      "source": [
        "!pip install --upgrade graphlit-client"
      ]
    },
    {
      "cell_type": "markdown",
      "source": [
        "Initialize Graphlit"
      ],
      "metadata": {
        "id": "abV1114jL-bR"
      }
    },
    {
      "cell_type": "code",
      "source": [
        "import os\n",
        "from google.colab import userdata\n",
        "from graphlit import Graphlit\n",
        "from graphlit_api import input_types, enums, exceptions\n",
        "\n",
        "os.environ['GRAPHLIT_ORGANIZATION_ID'] = userdata.get('GRAPHLIT_ORGANIZATION_ID')\n",
        "os.environ['GRAPHLIT_ENVIRONMENT_ID'] = userdata.get('GRAPHLIT_ENVIRONMENT_ID')\n",
        "os.environ['GRAPHLIT_JWT_SECRET'] = userdata.get('GRAPHLIT_JWT_SECRET')\n",
        "\n",
        "graphlit = Graphlit()"
      ],
      "metadata": {
        "id": "WoMAWD4LLP_q"
      },
      "execution_count": 9,
      "outputs": []
    },
    {
      "cell_type": "markdown",
      "source": [
        "Define Graphlit helper functions"
      ],
      "metadata": {
        "id": "pgRX57EHMVfl"
      }
    },
    {
      "cell_type": "code",
      "source": [
        "from typing import List, Optional\n",
        "\n",
        "async def create_openai_specification(model: enums.OpenAIModels):\n",
        "    if graphlit.client is None:\n",
        "        return;\n",
        "\n",
        "    input = input_types.SpecificationInput(\n",
        "        name=f\"OpenAI [{str(model)}]\",\n",
        "        type=enums.SpecificationTypes.COMPLETION,\n",
        "        serviceType=enums.ModelServiceTypes.OPEN_AI,\n",
        "        openAI=input_types.OpenAIModelPropertiesInput(\n",
        "            model=model,\n",
        "        )\n",
        "    )\n",
        "\n",
        "    try:\n",
        "        response = await graphlit.client.create_specification(input)\n",
        "\n",
        "        return response.create_specification.id if response.create_specification is not None else None\n",
        "    except exceptions.GraphQLClientError as e:\n",
        "        print(str(e))\n",
        "        return None\n",
        "\n",
        "    return None\n",
        "\n",
        "async def revise_text(prompt: str, text: str, specification_id: str, conversation_id: Optional[str] = None):\n",
        "    if graphlit.client is None:\n",
        "        return None, None\n",
        "\n",
        "    try:\n",
        "        response = await graphlit.client.revise_text(prompt=prompt, text=text, id=conversation_id, specification=input_types.EntityReferenceInput(id=specification_id))\n",
        "\n",
        "        message = response.revise_text.message.message if response.revise_text is not None and response.revise_text.message is not None else None\n",
        "        conversation_id = response.revise_text.conversation.id if response.revise_text is not None and response.revise_text.conversation is not None else None\n",
        "\n",
        "        return message, conversation_id\n",
        "    except exceptions.GraphQLClientError as e:\n",
        "        print(str(e))\n",
        "        return None, None\n",
        "\n",
        "async def delete_all_specifications():\n",
        "    if graphlit.client is None:\n",
        "        return;\n",
        "\n",
        "    _ = await graphlit.client.delete_all_specifications(is_synchronous=True)\n",
        "\n",
        "async def delete_all_conversations():\n",
        "    if graphlit.client is None:\n",
        "        return;\n",
        "\n",
        "    _ = await graphlit.client.delete_all_conversations(is_synchronous=True)\n"
      ],
      "metadata": {
        "id": "mtwjJsvVOVCh"
      },
      "execution_count": 10,
      "outputs": []
    },
    {
      "cell_type": "markdown",
      "source": [
        "Execute Graphlit example"
      ],
      "metadata": {
        "id": "srzhQt4COLVI"
      }
    },
    {
      "cell_type": "code",
      "source": [
        "from IPython.display import display, Markdown, HTML\n",
        "import time\n",
        "\n",
        "# Remove any existing conversations and specifications; only needed for notebook example\n",
        "await delete_all_conversations()\n",
        "await delete_all_specifications()\n",
        "\n",
        "print('Deleted all conversations and specifications.')\n",
        "\n",
        "text = \"\"\"Sample Written History and Physical Examination\n",
        "History and Physical Examination\n",
        " Patient Name:\n",
        "Date:\n",
        " Rogers, Pamela\n",
        " 6/2/04\n",
        "Referral Source: Emergency Department\n",
        "Data Source:\n",
        "Patient\n",
        "Chief Complaint & ID:  Ms. Rogers is a 56 y/o WF\n",
        "having chest pains for the last week.\n",
        "History of Present Illness\n",
        " This is the first admission for this 56 year old woman,\n",
        "who states she was in her usual state of good health until\n",
        "one week prior to admission.  At that time she noticed the\n",
        "abrupt onset (over a few seconds to a minute) of chest pain\n",
        "which she describes as dull and aching in character.  The\n",
        "pain began in the left para-sternal area and radiated up to\n",
        "her neck.  The first episode of pain one week ago occurred\n",
        "when she was working in her garden in the middle of the\n",
        "day.  She states she had been working for approximately 45\n",
        "minutes and began to feel tired before the onset of the pain.\n",
        "Her discomfort was accompanied by shortness of breath, but\n",
        "no sweating, nausea, or vomiting.  The pain lasted\n",
        "approximately 5 to 10 minutes and resolved when she went\n",
        "inside and rested in a cool area.\n",
        "Since that initial pain one week ago she has had 2 additional\n",
        "episodes of pain, similar in quality and location to the first\n",
        "episode.  Three days ago she had a 15 minute episode of\n",
        "pain while walking her dog, which resolved with rest.  This\n",
        "evening she had an episode of pain awaken her from sleep,\n",
        "lasting 30 minutes, which prompted her visit to the\n",
        "Emergency Department.  At no time has she attempted any\n",
        "specific measures to relieve her pain, other than rest.  She\n",
        "describes no other associated symptoms during these\n",
        "episodes of pain, including dizziness, or palpitations.  She\n",
        "becomes short of breath during these\n",
        "episodes but describes no other exertional dyspnea,\n",
        "orthopnea, or paroxysmal nocturnal dyspnea.  No change in the pain\n",
        "with movement, no association with food, no GERD sx, no palpable pain.\n",
        "She has never been told she has heart problems, never had any\n",
        "chest pains before, does not have claudication.  She was diagnosed with\n",
        "HTN 3 years ago,\n",
        "She does not smoke nor does she have diabetes.\n",
        "She was diagnosed with hypertension 3 years ago and had a\n",
        "TAH with BSO 6 years ago.  She is not on hormone replacement\n",
        "therapy.  There is a family history of premature CAD.\n",
        "She does not know her cholesterol level.\n",
        "Past Medical History\n",
        " Surgical –\n",
        "1994:\n",
        "1998:\n",
        " Total abdominal hysterectomy and bilateral\n",
        "oophorectomy for uterine fibroids.\n",
        "Comments\n",
        " Define the reason for the patient’s visit as who has been\n",
        "specifically as possible.\n",
        "Convey the acute or chronic nature of the problem and\n",
        "establish a chronology.\n",
        "onset\n",
        "character\n",
        "location\n",
        "radiation\n",
        "circumstances; exacerbating factors\n",
        "associated symptoms\n",
        "duration\n",
        "resolution; alleviating factors\n",
        "Describe the natural history of her problem since its\n",
        "onset\n",
        "Change or new circumstances to the problem\n",
        "New duration\n",
        "Reason she come in for visit\n",
        "What has patient tried for relief\n",
        "    Relevant positive and negative ROS for this complaint\n",
        "Review of systems for the relevant organ system\n",
        "Relevant risk factor/environmental conditions\n",
        "This highly relevant, although it may seem like a\n",
        "trivial detail at first\n",
        " Bunionectomy\n",
        "\n",
        "Medical History –\n",
        "1998: Diagnosed with hypertension and began on\n",
        "  unknown medication.  Stopped after 6 months\n",
        "  because of drowsiness.\n",
        "1990: Diagnosed with peptic ulcer disease, which\n",
        "  resolved after three months on cimetidine.  She  Always use generic names\n",
        "  describes no history of cancer, lung disease\n",
        "or previous heart disease.\n",
        "\n",
        "Allergy: Penicillin; experienced rash and hives in 1985.  Always list the type of reported reaction\n",
        "\n",
        "Social History –\n",
        "Alcohol use: 1 or 2 beers each weekend; 1 glass of   Quantity\n",
        "   wine once a week with dinner.\n",
        "Tobacco use: None.\n",
        "Medications: No prescription or illegal drug use.\n",
        "   Occasional OTC ibuprofen (Advil) for  Include over-the-counter drugs\n",
        "   headache (QOD).\n",
        "\n",
        "Family History\n",
        "\n",
        "Mother:  79, alive and well.     Comment specifically on the presence or absence of\n",
        "Father:  54, deceased, heart attack.  No brothers  diseases relevant to the chief complaint\n",
        "   or sisters.  There is a positive family history of\n",
        "   hypertension, but no diabetes, or cancer.\n",
        "\n",
        "Review of Systems\n",
        "\n",
        "HEENT:\n",
        "No complaints of headache change in vision, nose or ear   Separate each ROS section for easy identification\n",
        "problems, or sore throat.\n",
        "\n",
        "Cadiovascular:\n",
        "See HPI        OK to refer to HPI if adequately covered there\n",
        "\n",
        "\n",
        "Gastrointestinal:\n",
        "No complaints of dysphagia, nausea, vomiting, or change in  List positive and negative findings in brief, concise\n",
        "stool pattern, consistency, or color.  She complains of   phrases or sentences\n",
        "epigastric pain, burning in quality, approximately twice a\n",
        "month, which she notices primarily at night.\n",
        "\n",
        "Genitourinary:\n",
        "No complaints of dysuria, nocturia, polyuria, hematuria, or\n",
        "vaginal bleeding.\n",
        "\n",
        "Musculoskeletal:\n",
        "She complains of lower back pain, aching in quality,\n",
        "approximately once every week after working in her garden.\n",
        "This pain is usually relieved with Tylenol.  She complains of\n",
        "no other arthralgias, muscle aches, or pains.\n",
        "\n",
        "Neurological:\n",
        "She complains of no weakness, numbness, or incoordination.\n",
        "\n",
        "Physical Examination\n",
        " Vital Signs:\n",
        "Blood Pressure 168/98, Pulse 90, Respirations 20,\n",
        "Temperature 37 degrees.\n",
        "General:\n",
        "Ms. Rogers appears alert, oriented and cooperative.\n",
        "Skin:\n",
        "Normal in appearance, texture, and temperature\n",
        "HEENT:\n",
        "Scalp normal.\n",
        "Pupils equally round, 4 mm, reactive to light and\n",
        "accommodation, sclera and conjunctiva normal.\n",
        "Fundoscopic examination reveals normal vessels without\n",
        "hemorrhage.\n",
        "Tympanic membranes and external auditory canals normal.\n",
        "Nasal mucosa normal.\n",
        "Oral pharynx is normal without erythema or exudate.  Tongue\n",
        "and gums are normal.\n",
        "Neck:\n",
        "Easily moveable without resistance, no abnormal adenopathy\n",
        "in the cervical or supraclavicular areas.  Trachea is midline\n",
        "and thyroid gland is normal without masses.  Carotid artery\n",
        "upstroke is normal bilaterally without bruits.  Jugular venous\n",
        "pressure is measured as 8 cm with patient at 45 degrees.\n",
        "Chest:\n",
        "Lungs are clear to auscultation and percussion bilaterally\n",
        "except for crackles heard in the lung bases bilaterally.  PMI\n",
        "is in the 5th inter-costal space at the mid clavicular line.  A\n",
        "grade 2/6 systolic decrescendo murmur is heard best at the\n",
        "second right inter-costal space which radiates to the neck.\n",
        "A third heard sound is heard at the apex.  No fourth heart\n",
        "sound or rub are heard.  Cystic changes are noted in the\n",
        "breasts bilaterally but no masses or nipple discharge is\n",
        "Seen.\n",
        "Abdomen:\n",
        "The abdomen is symmetrical without distention; bowel\n",
        "sounds are normal in quality and intensity in all areas; a\n",
        "bruit is heard in the right paraumbilical area.  No masses or\n",
        "splenomegaly are noted; liver span is 8 cm by percussion.\n",
        "Extremities:\n",
        "No cyanosis, clubbing, or edema are noted.  Peripheral\n",
        "pulses in the femoral, popliteal, anterior tibial, dorsalis pedis,\n",
        "brachial, and radial areas are normal.\n",
        "Nodes:\n",
        "No palpable nodes in the cervical, supraclavicular, axillary\n",
        "or inguinal areas.\n",
        "Genital/Rectal:\n",
        "Normal rectal sphincter tone;  no rectal masses or\n",
        "tenderness.  Stool is brown and guaiac negative.  Pelvic\n",
        "Always list vital signs.  Check for orthostatic BP/P\n",
        "     changes if it is relevant to the patient’s complaint\n",
        "Description may give very important clues as to the\n",
        "        nature or severity of the patient’s problem\n",
        "Comment on all organ systems\n",
        "      List specific normal or pathological findings when\n",
        "        relevant to the patient’s complaint\n",
        "This patient needs a detailed cardiac examination\n",
        "More precise than saying “no hepatomegaly”\n",
        "Always include these exams, or comment specifically\n",
        "why they were omitted\n",
        "exmaination reveals normal external genitalia, and normal\n",
        "vagina and cervix on speculum examination.  Bimanual\n",
        "examination reveals no palpable uterus, ovaries, or masses.\n",
        "\n",
        "Neurological:\n",
        "Cranial nerves II-XII are normal.  Motor and sensory\n",
        "examination of the upper and lower extremities is normal.\n",
        "Gait and cerebellar function are also normal.  Reflexes are\n",
        "normal and symmetrical bilaterally in both extremities.\n",
        "\n",
        "Initial Problem List\n",
        "\n",
        "1. Chest Pain      Although you can omit this initial problem list from your\n",
        "2. Dyspnea       final written H&P, (and just list a final problem list\n",
        "3. History of HTN (4 years)     shown below), it is useful to make an initial list simply\n",
        "4. History of TAH/BSO     to keep track of all problems uncovered in the interview\n",
        "5. History of peptic ulcer disease    (#1-9 in this list) and exam (#10-13)\n",
        "6. Penicillin allergy\n",
        "7. FH of early ASCVD\n",
        "8. Epigastric pain\n",
        "9. Low back pain\n",
        "10. Hypertension\n",
        "11. Systolic murmur\n",
        "12. Cystic changes of breasts\n",
        "13. Abdominal bruit\n",
        "\n",
        "Revised Problem List\n",
        "\n",
        "1. Chest pain      This list regroups related problems (or those you\n",
        "2. FH of early ASCVD     suspect are related) into a more logical sequence\n",
        "3. Early surgical menopause\n",
        "4. Dyspnea\n",
        "5. Recent onset HTN\n",
        "6. Abdominal bruit\n",
        "7. Systolic ejection murmur\n",
        "8. Epigastric pain\n",
        "9. History of peptic ulcer disease\n",
        "10. Lumbosacral back pain\n",
        "11. OTC non-steroidal analgesic use\n",
        "12. Cystic changes of breasts\n",
        "13. Penicillin allergy\n",
        "\n",
        "Assessment and Differential Diagnosis\n",
        "\n",
        "1. Chest pain with features of angina pectoris\n",
        "\n",
        "This patient’s description of dull, aching, exertion\n",
        "related substernal chest pain is suggestive of ischemic cardiac\n",
        "origin.  Her findings of a FH of early ASCVD, hypertension, and\n",
        "early surgical menopause are pertinent risk factors for development\n",
        "of coronary artery disease.  Therefore, the combination of this\n",
        "patient’s presentation, and the multiple risk factors make angina\n",
        "pectoris the most likely diagnosis.  The pain symptoms appear to\n",
        "be increasing, and the occurrence of pain at rest suggests this\n",
        "fits the presentation of unstable angina, and hospitalization is\n",
        "indicated.\n",
        "\n",
        "  Other processes may explain her chest pain, but\n",
        "are less likely.  Gastro-esophageal reflux disease (GERD) may\n",
        "occur at night with recumbency, but usually is not associated with\n",
        "exertion.  The pain of GERD is usually burning, and the patient\n",
        "describes no associated gastrointestinal symptoms such as\n",
        "nausea, vomiting or abdominal pain which might suggest peptic\n",
        "ulcer disease.  The presence of dyspnea might suggest a\n",
        "pulmonary component to this patient’s disease process, but\n",
        "the absence of fever, cough or abnormal pulmonary examination\n",
        "findings make a pulmonary infection less likely, and the\n",
        "association of the dyspnea with the chest pain supports the\n",
        "theory that both symptoms may be from ischemic heart disease.\n",
        "\n",
        "2. Dyspnea\n",
        "\n",
        "Her dyspnea may correlate with findings on physical\n",
        "exam of a third heart sound and pulmonary crackles,\n",
        "suggesting left ventricular dysfunction.  In that case, she may\n",
        "be manifesting symptoms and findings of congestive heart\n",
        "failure from myocardial ischemia.\n",
        "\n",
        "3. Recent onset hypertension and abdominal bruit\n",
        "\n",
        "This combination raises the possibility of a\n",
        "secondary cause of hypertension, specifically ASCVD of the\n",
        "renal artery leading to renovascular hypertension.  The lack\n",
        "of hypertensive retinopathy and left ventricular hypertrophy\n",
        "on physical examination further support a recent onset of her\n",
        "BP elevation.\n",
        "\n",
        "4. Systolic murmur\n",
        "\n",
        "The possibility of important valvular heart disease\n",
        "is raised by the murmur, specifically, aortic stenosis.  The\n",
        "murmur radiates to the neck as an aortic valvular murmur\n",
        "often does, but a normal carotid upstroke may mean this\n",
        "murmur is not significant.\n",
        "\n",
        "5. Epigastric discomfort, NSAID use with a history\n",
        "of peptic ulcer disease.\n",
        "\n",
        "6. Lumbo-sacral back pain\n",
        "\n",
        "7. Fibrocystic breast disease\n",
        "\n",
        "8. Penicillin allergy\n",
        "\n",
        "In the assessment you take each of the patient’s major\n",
        "problems and draw conclusions, in this case that the chest\n",
        "pain is more likely due to ischemic heart disease instead\n",
        "of other possibilities.  You tie in several of the other\n",
        "problems as risk factors for ischemic heart disease, and\n",
        "not merely as random unrelated problems.  You should list\n",
        "and extensive justification for your most likely diagnosis.\n",
        "You should also explain why you are less suspicious of\n",
        "alternative diagnoses, such as esophageal reflux disease,\n",
        "pulmonary or musculoskeletal pain.\n",
        "\n",
        "As in the previous problem, you should explain, in more\n",
        "detail than is shown in this example, why you felt the dyspnea\n",
        "is more likely to be from ischemic heart disease, and not\n",
        "asthma, bronchitis, or other possibilities.  Follow this pattern\n",
        "for all subsequent problems.\n",
        "\n",
        "Plan:\n",
        "\n",
        "1. Carefully monitor the patient for any increased chest pain that\n",
        "might be indicative of impending myocardial infarction by admitting\n",
        "the patient to the telemetry floor.\n",
        "\n",
        "2. Start platelet inhibitors, such as aspirin to decrease the risk of\n",
        "myocardial infarction; start nitrates to decrease the risk of occlusion\n",
        "and to treat her symptoms of pain.  For prolonged pain un-\n",
        "responsive to nitrates, she may need an analgesic such as\n",
        "morphine.  The nitrates will also help to lower her BP.\n",
        "\n",
        "3. Patient should have her cholesterol monitored and when\n",
        "discharged she should be started on an appropriate exercise and\n",
        "weight loss program, including a low-fat diet.  If her cholesterol\n",
        "is elevated, she may need cholesterol-lowering medication such\n",
        "as HMG Co-reductases.\n",
        "\n",
        "4. Schedule a cardiac catheterization since non-invasive\n",
        "tests have a high pretest probability for being positive and regard-\n",
        "less of the result, negative or positive, she will need a cath\n",
        "\n",
        "5. Begin diuretics for her dyspnea which is most likely secondary\n",
        "to volume overload – this will treat her high BP as well.  She should\n",
        "have a ventriculogram with the cath that will assess cardiac size\n",
        "and presence of wall motion abnormalities.\n",
        "\n",
        "6. Appropriate lab work would include BUN/Creatinine\n",
        "to assess kidney function, electrolytes and baseline EKG.\n",
        "\n",
        "You should develop a diagnostic and therapeutic plan\n",
        "for the patient.  Your plan should incorporate acute and\n",
        "long-term care of the patient’s most likely problem.  You\n",
        "should consider pharmacologic and non-pharmacologic\n",
        "measures and be cognizant of the fact that you need to\n",
        "treat the symptoms (i.e. make the patient comfortable) as\n",
        "much as treating the disease when possible.  You are\n",
        "expected to know the usual classes of medications used\n",
        "to treat these illnesses.\n",
        " \"\"\""
      ],
      "metadata": {
        "id": "fOb6COcONZIJ",
        "colab": {
          "base_uri": "https://localhost:8080/"
        },
        "outputId": "84b397de-bb1a-431c-e8c4-bb30f0a56efa"
      },
      "execution_count": 11,
      "outputs": [
        {
          "output_type": "stream",
          "name": "stdout",
          "text": [
            "Deleted all conversations and specifications.\n"
          ]
        }
      ]
    },
    {
      "cell_type": "markdown",
      "source": [
        "Create specification, and start multi-turn summarization conversation."
      ],
      "metadata": {
        "id": "kqG9WHXhbld-"
      }
    },
    {
      "cell_type": "code",
      "source": [
        "specification_id = await create_openai_specification(enums.OpenAIModels.O1_MINI_128K)\n",
        "\n",
        "if specification_id is not None:\n",
        "    print(f'Created specification [{specification_id}].')\n",
        "\n",
        "    prompt = \"Summarize this for me.\"\n",
        "\n",
        "    message, conversation_id = await revise_text(prompt, text, specification_id)\n",
        "\n",
        "    if message is not None:\n",
        "        display(Markdown(f'**Revision:**\\n{message}'))\n",
        "        print()\n"
      ],
      "metadata": {
        "id": "uSwSy3gXq7AN",
        "colab": {
          "base_uri": "https://localhost:8080/",
          "height": 221
        },
        "outputId": "aec28dc2-3a4a-4d4b-b393-892d16d6f215"
      },
      "execution_count": 12,
      "outputs": [
        {
          "output_type": "stream",
          "name": "stdout",
          "text": [
            "Created specification [4eac23b3-e600-4dc7-9162-666e449a7d2a].\n"
          ]
        },
        {
          "output_type": "display_data",
          "data": {
            "text/plain": [
              "<IPython.core.display.Markdown object>"
            ],
            "text/markdown": "**Revision:**\nPamela Rogers, a 56-year-old woman, presents with a one-week history of intermittent chest pain.\n\nThe pain is described as dull and aching, located substernally, radiating to the neck, and is often triggered by exertion.\n\nShe has a history of hypertension diagnosed three years ago and underwent total abdominal hysterectomy and bilateral oophorectomy six years ago.\n\nHer family history is significant for premature coronary artery disease.\n\nPhysical examination reveals elevated blood pressure, crackles in the lung bases, and a systolic murmur.\n\nAssessment suggests angina pectoris likely due to ischemic heart disease, with a concern for unstable angina.\n\nThe management plan includes admission for telemetry, initiation of aspirin and nitrates, cholesterol monitoring, and scheduling cardiac catheterization."
          },
          "metadata": {}
        },
        {
          "output_type": "stream",
          "name": "stdout",
          "text": [
            "\n"
          ]
        }
      ]
    },
    {
      "cell_type": "code",
      "source": [
        "    prompt = \"OK, not bad, but make it longer.\"\n",
        "\n",
        "    message, conversation_id = await revise_text(prompt, text, specification_id, conversation_id)\n",
        "\n",
        "    if message is not None:\n",
        "        display(Markdown(f'**Revision:**\\n{message}'))\n",
        "        print()\n"
      ],
      "metadata": {
        "id": "RitZHrG1TyFg",
        "colab": {
          "base_uri": "https://localhost:8080/",
          "height": 400
        },
        "outputId": "36ad37e3-3413-4a42-c809-13f98b35b67c"
      },
      "execution_count": 13,
      "outputs": [
        {
          "output_type": "display_data",
          "data": {
            "text/plain": [
              "<IPython.core.display.Markdown object>"
            ],
            "text/markdown": "**Revision:**\nPamela Rogers is a 56-year-old white female who presented to the Emergency Department with a one-week history of intermittent chest pain. Her initial episode occurred while gardening, lasting approximately 5 to 10 minutes, and was accompanied by shortness of breath. Since then, she has experienced additional episodes of similar chest pain, including one three days prior while walking her dog and a recent episode that awakened her from sleep for 30 minutes.\n\nThe chest pain is described as dull and aching, located in the left para-sternal area, and radiates to the neck. It is often triggered by exertion and relieved by rest. She denies associated symptoms such as sweating, nausea, vomiting, dizziness, or palpitations. Her medical history is significant for hypertension diagnosed three years ago, for which she discontinued medication due to drowsiness, and a total abdominal hysterectomy with bilateral oophorectomy performed six years ago. She also has a history of peptic ulcer disease resolved with cimetidine.\n\nFamily history is notable for premature coronary artery disease, with her father having died of a heart attack at age 54. She does not smoke, consume alcohol excessively, or use illicit drugs. Her review of systems is largely negative except for occasional epigastric pain and lower back pain relieved by Tylenol. Physical examination revealed elevated blood pressure of 168/98 mmHg, pulse of 90 bpm, and crackles at the lung bases. A grade 2/6 systolic decrescendo murmur was heard best at the second right inter-costal space, radiating to the neck.\n\nThe assessment indicates angina pectoris likely due to ischemic heart disease, with features suggestive of unstable angina given the recent onset and increasing frequency of chest pain episodes, including pain at rest. Additionally, the presence of a systolic murmur raises concerns for possible valvular heart disease, although the normal carotid upstroke may indicate it is not significant. Her dyspnea and pulmonary crackles suggest possible left ventricular dysfunction and early signs of congestive heart failure.\n\nThe management plan involves admitting Ms. Rogers to the telemetry floor for continuous monitoring, initiating aspirin and nitrates to manage her chest pain and reduce the risk of myocardial infarction, and scheduling cardiac catheterization to assess the extent of coronary artery disease. Additionally, her cholesterol levels will be monitored, and she will be advised on lifestyle modifications including diet and exercise. Diuretics may be started to address her dyspnea and elevated blood pressure."
          },
          "metadata": {}
        },
        {
          "output_type": "stream",
          "name": "stdout",
          "text": [
            "\n"
          ]
        }
      ]
    },
    {
      "cell_type": "code",
      "source": [
        "    prompt = \"Rewrite from the perspective of a medical content writer. Add additional medical details. Format nicely with Markdown for a blog post.\"\n",
        "\n",
        "    message, conversation_id = await revise_text(prompt, text, specification_id, conversation_id)\n",
        "\n",
        "    if message is not None:\n",
        "        display(Markdown(f'**Revision:**\\n{message}'))\n",
        "        print()\n"
      ],
      "metadata": {
        "id": "CbmjHmjXTzgg",
        "colab": {
          "base_uri": "https://localhost:8080/",
          "height": 834
        },
        "outputId": "4afee021-68f2-4e24-efb9-65da88aba1e7"
      },
      "execution_count": 14,
      "outputs": [
        {
          "output_type": "display_data",
          "data": {
            "text/plain": [
              "<IPython.core.display.Markdown object>"
            ],
            "text/markdown": "**Revision:**\n# Understanding Angina Pectoris: A Comprehensive Case Study\n\n## Patient Background\n\nPamela Rogers is a 56-year-old Caucasian woman with a significant medical history including hypertension diagnosed three years ago and a total abdominal hysterectomy with bilateral oophorectomy performed six years prior. Her family history is notable for premature coronary artery disease, as her father succumbed to a heart attack at the age of 54. Ms. Rogers maintains a relatively healthy lifestyle, abstaining from smoking and illicit drug use, and consumes alcohol moderately.\n\n## Clinical Presentation\n\nMs. Rogers presented to the Emergency Department with a one-week history of intermittent chest pain. The initial episode occurred while gardening, lasting between five to ten minutes, and was accompanied by shortness of breath. She has since experienced additional episodes, including one while walking her dog and another that awakened her from sleep, lasting approximately thirty minutes. The pain is described as dull and aching, originating substernally and radiating to the neck, typically triggered by exertion and relieved by rest. Notably, she denies associated symptoms such as sweating, nausea, or palpitations.\n\nUpon physical examination, Ms. Rogers exhibited elevated blood pressure (168/98 mmHg) and a systolic decrescendo murmur heard best at the second right intercostal space, radiating to the neck. Additionally, crackles were noted at the lung bases, and a third heart sound was present at the apex, suggesting possible left ventricular dysfunction.\n\n## Assessment and Differential Diagnosis\n\nThe primary assessment indicates angina pectoris likely due to ischemic heart disease, given the patient's presentation and risk factors such as hypertension and a family history of coronary artery disease. The increasing frequency of chest pain episodes, including pain at rest, raises concern for unstable angina. The presence of a systolic murmur warrants evaluation for potential valvular heart disease, though the lack of a significant carotid upstroke suggests it may be benign.\n\nDifferential diagnoses include gastroesophageal reflux disease (GERD), which is less likely due to the exertional nature of the pain and absence of gastrointestinal symptoms. Pulmonary conditions such as infections are also considered but are deemed unlikely given the absence of fever and cough. Musculoskeletal pain is another consideration; however, the radiating nature of the chest pain and associated dyspnea support a cardiac origin.\n\n## Management and Treatment Plan\n\nMs. Rogers has been admitted to the telemetry unit for continuous cardiac monitoring. Initial management includes the administration of aspirin to inhibit platelet aggregation and nitrates to alleviate chest pain and reduce myocardial oxygen demand. Given her hypertensive state, nitrates also aid in lowering blood pressure. Additionally, cholesterol levels will be assessed, and lifestyle modifications such as a low-fat diet and regular exercise will be recommended to mitigate further cardiovascular risk.\n\nA cardiac catheterization has been scheduled to evaluate the extent of coronary artery disease. This invasive procedure will provide detailed insights into the coronary anatomy and guide potential interventional treatments. Considering her pulmonary findings, diuretics may be initiated to manage possible left ventricular dysfunction and prevent the progression to congestive heart failure.\n\n## Conclusion\n\nThis case underscores the importance of a thorough clinical evaluation in patients presenting with chest pain. Recognizing the signs of unstable angina and initiating prompt management can significantly impact patient outcomes. Ongoing monitoring and tailored therapeutic interventions are essential in managing ischemic heart disease and preventing adverse cardiac events."
          },
          "metadata": {}
        },
        {
          "output_type": "stream",
          "name": "stdout",
          "text": [
            "\n"
          ]
        }
      ]
    }
  ]
}