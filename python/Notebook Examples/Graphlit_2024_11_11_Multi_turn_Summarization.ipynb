{
  "nbformat": 4,
  "nbformat_minor": 0,
  "metadata": {
    "colab": {
      "provenance": [],
      "mount_file_id": "1cSnEIDnT7SYyUpfap5KiK6Y_LWLQdk6s",
      "authorship_tag": "ABX9TyN2GPftPnCFIszskJOSfQCA",
      "include_colab_link": true
    },
    "kernelspec": {
      "name": "python3",
      "display_name": "Python 3"
    },
    "language_info": {
      "name": "python"
    }
  },
  "cells": [
    {
      "cell_type": "markdown",
      "metadata": {
        "id": "view-in-github",
        "colab_type": "text"
      },
      "source": [
        "<a href=\"https://colab.research.google.com/github/graphlit/graphlit-samples/blob/main/python/Notebook%20Examples/Graphlit_2024_11_11_Multi_turn_Summarization.ipynb\" target=\"_parent\"><img src=\"https://colab.research.google.com/assets/colab-badge.svg\" alt=\"Open In Colab\"/></a>"
      ]
    },
    {
      "cell_type": "markdown",
      "source": [
        "**Description**\n",
        "\n",
        "This example shows how to use Graphlit to perform multi-step summarization of documents."
      ],
      "metadata": {
        "id": "pDz1gRPjOtn5"
      }
    },
    {
      "cell_type": "markdown",
      "source": [
        "**Requirements**\n",
        "\n",
        "Prior to running this notebook, you will need to [signup](https://docs.graphlit.dev/getting-started/signup) for Graphlit, and [create a project](https://docs.graphlit.dev/getting-started/create-project).\n",
        "\n",
        "You will need the Graphlit organization ID, preview environment ID and JWT secret from your created project.\n",
        "\n",
        "Assign these properties as Colab secrets: GRAPHLIT_ORGANIZATION_ID, GRAPHLIT_ENVIRONMENT_ID and GRAPHLIT_JWT_SECRET.\n",
        "\n",
        "\n",
        "---"
      ],
      "metadata": {
        "id": "laG2MXUIhNnx"
      }
    },
    {
      "cell_type": "markdown",
      "source": [
        "Install Graphlit Python client SDK"
      ],
      "metadata": {
        "id": "NwRzDHWWienC"
      }
    },
    {
      "cell_type": "code",
      "execution_count": 3,
      "metadata": {
        "id": "fefizrrh4xGD",
        "colab": {
          "base_uri": "https://localhost:8080/"
        },
        "outputId": "0f6a380e-de34-44ab-b0e7-acd8caf9903b"
      },
      "outputs": [
        {
          "output_type": "stream",
          "name": "stdout",
          "text": [
            "Requirement already satisfied: graphlit-client in /usr/local/lib/python3.10/dist-packages (1.0.20241110001)\n",
            "Requirement already satisfied: httpx in /usr/local/lib/python3.10/dist-packages (from graphlit-client) (0.27.2)\n",
            "Requirement already satisfied: pydantic<3.0.0,>=2.0.0 in /usr/local/lib/python3.10/dist-packages (from graphlit-client) (2.9.2)\n",
            "Requirement already satisfied: PyJWT in /usr/local/lib/python3.10/dist-packages (from graphlit-client) (2.9.0)\n",
            "Requirement already satisfied: websockets in /usr/local/lib/python3.10/dist-packages (from graphlit-client) (14.0)\n",
            "Requirement already satisfied: annotated-types>=0.6.0 in /usr/local/lib/python3.10/dist-packages (from pydantic<3.0.0,>=2.0.0->graphlit-client) (0.7.0)\n",
            "Requirement already satisfied: pydantic-core==2.23.4 in /usr/local/lib/python3.10/dist-packages (from pydantic<3.0.0,>=2.0.0->graphlit-client) (2.23.4)\n",
            "Requirement already satisfied: typing-extensions>=4.6.1 in /usr/local/lib/python3.10/dist-packages (from pydantic<3.0.0,>=2.0.0->graphlit-client) (4.12.2)\n",
            "Requirement already satisfied: anyio in /usr/local/lib/python3.10/dist-packages (from httpx->graphlit-client) (3.7.1)\n",
            "Requirement already satisfied: certifi in /usr/local/lib/python3.10/dist-packages (from httpx->graphlit-client) (2024.8.30)\n",
            "Requirement already satisfied: httpcore==1.* in /usr/local/lib/python3.10/dist-packages (from httpx->graphlit-client) (1.0.6)\n",
            "Requirement already satisfied: idna in /usr/local/lib/python3.10/dist-packages (from httpx->graphlit-client) (3.10)\n",
            "Requirement already satisfied: sniffio in /usr/local/lib/python3.10/dist-packages (from httpx->graphlit-client) (1.3.1)\n",
            "Requirement already satisfied: h11<0.15,>=0.13 in /usr/local/lib/python3.10/dist-packages (from httpcore==1.*->httpx->graphlit-client) (0.14.0)\n",
            "Requirement already satisfied: exceptiongroup in /usr/local/lib/python3.10/dist-packages (from anyio->httpx->graphlit-client) (1.2.2)\n"
          ]
        }
      ],
      "source": [
        "!pip install --upgrade graphlit-client"
      ]
    },
    {
      "cell_type": "markdown",
      "source": [
        "Initialize Graphlit"
      ],
      "metadata": {
        "id": "abV1114jL-bR"
      }
    },
    {
      "cell_type": "code",
      "source": [
        "import os\n",
        "from google.colab import userdata\n",
        "from graphlit import Graphlit\n",
        "from graphlit_api import input_types, enums, exceptions\n",
        "\n",
        "os.environ['GRAPHLIT_ORGANIZATION_ID'] = userdata.get('GRAPHLIT_ORGANIZATION_ID')\n",
        "os.environ['GRAPHLIT_ENVIRONMENT_ID'] = userdata.get('GRAPHLIT_ENVIRONMENT_ID')\n",
        "os.environ['GRAPHLIT_JWT_SECRET'] = userdata.get('GRAPHLIT_JWT_SECRET')\n",
        "\n",
        "graphlit = Graphlit()"
      ],
      "metadata": {
        "id": "WoMAWD4LLP_q"
      },
      "execution_count": 4,
      "outputs": []
    },
    {
      "cell_type": "markdown",
      "source": [
        "Define Graphlit helper functions"
      ],
      "metadata": {
        "id": "pgRX57EHMVfl"
      }
    },
    {
      "cell_type": "code",
      "source": [
        "from typing import List, Optional\n",
        "\n",
        "async def ingest_uri(uri: str):\n",
        "    if graphlit.client is None:\n",
        "        return;\n",
        "\n",
        "    try:\n",
        "        # Using synchronous mode, so the notebook waits for the content to be ingested\n",
        "        response = await graphlit.client.ingest_uri(uri=uri, is_synchronous=True)\n",
        "\n",
        "        return response.ingest_uri.id if response.ingest_uri is not None else None\n",
        "    except exceptions.GraphQLClientError as e:\n",
        "        print(str(e))\n",
        "        return None\n",
        "\n",
        "async def create_openai_specification(model: enums.OpenAIModels):\n",
        "    if graphlit.client is None:\n",
        "        return;\n",
        "\n",
        "    input = input_types.SpecificationInput(\n",
        "        name=f\"OpenAI [{str(model)}]\",\n",
        "        type=enums.SpecificationTypes.COMPLETION,\n",
        "        serviceType=enums.ModelServiceTypes.OPEN_AI,\n",
        "        openAI=input_types.OpenAIModelPropertiesInput(\n",
        "            model=model,\n",
        "        )\n",
        "    )\n",
        "\n",
        "    try:\n",
        "        response = await graphlit.client.create_specification(input)\n",
        "\n",
        "        return response.create_specification.id if response.create_specification is not None else None\n",
        "    except exceptions.GraphQLClientError as e:\n",
        "        print(str(e))\n",
        "        return None\n",
        "\n",
        "    return None\n",
        "\n",
        "async def revise_content(prompt: str, content_id: str, specification_id: str, conversation_id: Optional[str] = None):\n",
        "    if graphlit.client is None:\n",
        "        return None, None\n",
        "\n",
        "    try:\n",
        "        response = await graphlit.client.revise_content(prompt=prompt, content=input_types.EntityReferenceInput(id=content_id), id=conversation_id, specification=input_types.EntityReferenceInput(id=specification_id))\n",
        "\n",
        "        message = response.revise_content.message.message if response.revise_content is not None and response.revise_content.message is not None else None\n",
        "        conversation_id = response.revise_content.conversation.id if response.revise_content is not None and response.revise_content.conversation is not None else None\n",
        "\n",
        "        return message, conversation_id\n",
        "    except exceptions.GraphQLClientError as e:\n",
        "        print(str(e))\n",
        "        return None, None\n",
        "\n",
        "async def delete_all_specifications():\n",
        "    if graphlit.client is None:\n",
        "        return;\n",
        "\n",
        "    _ = await graphlit.client.delete_all_specifications(is_synchronous=True)\n",
        "\n",
        "async def delete_all_conversations():\n",
        "    if graphlit.client is None:\n",
        "        return;\n",
        "\n",
        "    _ = await graphlit.client.delete_all_conversations(is_synchronous=True)\n",
        "\n",
        "async def delete_all_contents():\n",
        "    if graphlit.client is None:\n",
        "        return;\n",
        "\n",
        "    _ = await graphlit.client.delete_all_contents(is_synchronous=True)\n"
      ],
      "metadata": {
        "id": "mtwjJsvVOVCh"
      },
      "execution_count": 5,
      "outputs": []
    },
    {
      "cell_type": "markdown",
      "source": [
        "Execute Graphlit example"
      ],
      "metadata": {
        "id": "srzhQt4COLVI"
      }
    },
    {
      "cell_type": "code",
      "source": [
        "from IPython.display import display, Markdown, HTML\n",
        "import time\n",
        "\n",
        "# Remove any existing contents, conversations and specifications; only needed for notebook example\n",
        "await delete_all_conversations()\n",
        "await delete_all_specifications()\n",
        "await delete_all_contents()\n",
        "\n",
        "print('Deleted all contents, conversations and specifications.')\n",
        "\n",
        "uri = \"https://graphlitplatform.blob.core.windows.net/test/documents/UMNwriteup.pdf\"\n",
        "\n",
        "content_id = await ingest_uri(uri=uri)\n",
        "\n",
        "if content_id is not None:\n",
        "    print(f'Ingested content [{content_id}]:')"
      ],
      "metadata": {
        "id": "fOb6COcONZIJ",
        "colab": {
          "base_uri": "https://localhost:8080/"
        },
        "outputId": "86b5bef4-333b-4bf6-dfee-be38b9f85812"
      },
      "execution_count": 6,
      "outputs": [
        {
          "output_type": "stream",
          "name": "stdout",
          "text": [
            "Deleted all contents, conversations and specifications.\n",
            "Ingested content [f0815445-3ae0-4634-a53f-aaad74cfe6d8]:\n"
          ]
        }
      ]
    },
    {
      "cell_type": "markdown",
      "source": [
        "Create specification, and start multi-turn summarization conversation."
      ],
      "metadata": {
        "id": "kqG9WHXhbld-"
      }
    },
    {
      "cell_type": "code",
      "source": [
        "    specification_id = await create_openai_specification(enums.OpenAIModels.O1_MINI_128K)\n",
        "\n",
        "    if specification_id is not None:\n",
        "        print(f'Created specification [{specification_id}].')\n",
        "\n",
        "        prompt = \"Summarize this for me.\"\n",
        "\n",
        "        message, conversation_id = await revise_content(prompt, content_id, specification_id)\n",
        "\n",
        "        if message is not None:\n",
        "            display(Markdown(f'**Revision:**\\n{message}'))\n",
        "            print()\n"
      ],
      "metadata": {
        "id": "uSwSy3gXq7AN",
        "colab": {
          "base_uri": "https://localhost:8080/",
          "height": 209
        },
        "outputId": "3a51b640-1f82-4737-8c40-a7f4ed653288"
      },
      "execution_count": 7,
      "outputs": [
        {
          "output_type": "stream",
          "name": "stdout",
          "text": [
            "Created specification [646cb568-b5ff-414d-ad8e-579ac9ac7b9f].\n"
          ]
        },
        {
          "output_type": "display_data",
          "data": {
            "text/plain": [
              "<IPython.core.display.Markdown object>"
            ],
            "text/markdown": "**Revision:**\nThe patient presents with chest pain and dyspnea, indicating possible ischemic heart disease and renovascular hypertension.\n\nRisk factors include a history of hypertension, peptic ulcer disease, surgical menopause, and a family history of early atherosclerotic cardiovascular disease.\n\nRecommended diagnostic steps involve admitting the patient to telemetry for monitoring, initiating diuretics to manage volume overload and high blood pressure, and performing a ventriculogram with catheterization to assess cardiac function.\n\nLong-term care plans should include cholesterol monitoring, implementing an exercise and weight loss program, adopting a low-fat diet, and considering cholesterol-lowering medications if necessary.\n\nAdditional considerations involve evaluating for fibrocystic breast disease and assessing the significance of aortic stenosis suggested by the presence of a murmur."
          },
          "metadata": {}
        },
        {
          "output_type": "stream",
          "name": "stdout",
          "text": [
            "\n"
          ]
        }
      ]
    },
    {
      "cell_type": "code",
      "source": [
        "        prompt = \"OK, not bad, but make it longer.\"\n",
        "\n",
        "        message, conversation_id = await revise_content(prompt, content_id, specification_id, conversation_id)\n",
        "\n",
        "        if message is not None:\n",
        "            display(Markdown(f'**Revision:**\\n{message}'))\n",
        "            print()\n"
      ],
      "metadata": {
        "id": "RitZHrG1TyFg",
        "colab": {
          "base_uri": "https://localhost:8080/",
          "height": 447
        },
        "outputId": "92d5ac96-a926-4223-dfd3-46598971751c"
      },
      "execution_count": 8,
      "outputs": [
        {
          "output_type": "display_data",
          "data": {
            "text/plain": [
              "<IPython.core.display.Markdown object>"
            ],
            "text/markdown": "**Revision:**\nThe patient presents with chest pain and dyspnea, suggesting possible ischemic heart disease and renovascular hypertension. A detailed cardiac examination is essential to evaluate the severity and underlying causes of these symptoms.\n\nComprehensive assessment of all organ systems reveals no cyanosis, clubbing, or edema. Peripheral pulses in the femoral, popliteal, anterior tibial, dorsalis pedis, brachial, and radial areas are normal, indicating adequate peripheral circulation.\n\nVital signs should always be listed and monitored closely. Orthostatic blood pressure changes should be checked if relevant to the patient's complaints to rule out any autonomic dysfunction or volume depletion.\n\nThe abdominal examination shows a symmetrical abdomen without distention, normal bowel sounds, and no masses or splenomegaly. A bruit in the right paraumbilical area may suggest renal artery stenosis or other vascular abnormalities.\n\nNeurological assessment includes checking for lumbo-sacral back pain, which the patient reports. This symptom should be evaluated to rule out any spinal or musculoskeletal issues contributing to the patient's overall condition.\n\nGenital and rectal examinations are part of the comprehensive assessment to identify any unrelated or contributing factors to the patient's primary complaints. No abnormalities were noted in these areas.\n\nThe presence of a systolic murmur, particularly one that radiates to the neck, raises the possibility of aortic stenosis. However, a normal carotid upstroke may indicate that the murmur is not clinically significant.\n\nAn extensive diagnostic and therapeutic plan is necessary, incorporating both acute management and long-term care. This includes pharmacologic treatments like diuretics and platelet inhibitors, as well as non-pharmacologic measures such as a low-fat diet and exercise.\n\nAppropriate laboratory work should include BUN/Creatinine to assess kidney function, electrolytes, and a baseline EKG to monitor cardiac activity. These tests are crucial for guiding treatment decisions and managing potential complications.\n\nLong-term care should focus on cholesterol monitoring and implementing lifestyle changes, including an exercise and weight loss program. If cholesterol levels are elevated, cholesterol-lowering medications such as HMG-CoA reductase inhibitors may be necessary."
          },
          "metadata": {}
        },
        {
          "output_type": "stream",
          "name": "stdout",
          "text": [
            "\n"
          ]
        }
      ]
    },
    {
      "cell_type": "code",
      "source": [
        "        prompt = \"Rewrite from the perspective of a medical content writer. Add additional medical details. Format nicely with Markdown for a blog post.\"\n",
        "\n",
        "        message, conversation_id = await revise_content(prompt, content_id, specification_id, conversation_id)\n",
        "\n",
        "        if message is not None:\n",
        "            display(Markdown(f'**Revision:**\\n{message}'))\n",
        "            print()\n"
      ],
      "metadata": {
        "id": "CbmjHmjXTzgg",
        "colab": {
          "base_uri": "https://localhost:8080/",
          "height": 1000
        },
        "outputId": "e24dfcca-2ea8-4436-d243-1d37b24f37dc"
      },
      "execution_count": 9,
      "outputs": [
        {
          "output_type": "display_data",
          "data": {
            "text/plain": [
              "<IPython.core.display.Markdown object>"
            ],
            "text/markdown": "**Revision:**\n# Comprehensive Management of a Patient Presenting with Chest Pain and Dyspnea\n\n## Introduction\nA patient presenting with chest pain and dyspnea warrants a thorough evaluation to determine the underlying cause. These symptoms are highly suggestive of ischemic heart disease and renovascular hypertension, conditions that require prompt diagnosis and management to prevent adverse outcomes.\n\n## Clinical Presentation\nThe patient exhibits symptoms of **chest pain** and **dyspnea**, which are classic indicators of cardiac distress. The chest pain is described as dull and aching, occurring with exertion and at rest, which raises the concern for unstable angina. Dyspnea may correlate with physical findings such as a third heart sound and pulmonary crackles, suggesting left ventricular dysfunction and potential congestive heart failure due to myocardial ischemia.\n\n## Risk Factors\nSeveral risk factors contribute to the patient's presentation:\n\n- **Hypertension**: A longstanding history increases the risk of coronary artery disease.\n- **Peptic Ulcer Disease**: May complicate the clinical picture and influence medication choices.\n- **Surgical Menopause**: Hormonal changes can impact cardiovascular health.\n- **Family History of Early Atherosclerotic Cardiovascular Disease**: Genetics play a significant role in the development of coronary artery disease.\n\n## Diagnostic Approach\nA comprehensive diagnostic plan is essential:\n\n1. **Telemetry Monitoring**: Admitting the patient to telemetry allows for continuous cardiac monitoring to detect arrhythmias or ischemic changes.\n2. **Pharmacologic Interventions**:\n   - **Diuretics**: Initiate to manage volume overload and reduce high blood pressure.\n   - **Platelet Inhibitors (e.g., Aspirin)**: Decrease the risk of myocardial infarction by preventing platelet aggregation.\n   - **Nitrates**: Alleviate chest pain and reduce the risk of arterial occlusion while also helping to lower blood pressure.\n   - **Analgesics (e.g., Morphine)**: Consider for prolonged chest pain unresponsive to nitrates.\n3. **Ventriculogram with Catheterization**: Assess cardiac size and identify any wall motion abnormalities indicative of ischemic heart disease.\n4. **Orthostatic Blood Pressure Measurements**: Evaluate for autonomic dysfunction or volume depletion as part of vital sign monitoring.\n\n## Physical Examination Findings\n- **Cardiovascular**:\n  - Presence of a systolic murmur, particularly a grade 2/6 systolic decrescendo murmur heard best at the second right intercostal space radiating to the neck, raises the possibility of aortic stenosis. However, a normal carotid upstroke may indicate that the murmur is not clinically significant.\n  - Third heart sound detected at the apex suggests left ventricular dysfunction.\n- **Respiratory**:\n  - Clear lung fields except for crackles at the bases, consistent with pulmonary congestion.\n- **Neurological**:\n  - Absence of motor and sensory deficits with normal reflexes and gait indicates no apparent neurological compromise.\n- **Breast Examination**:\n  - Cystic changes bilaterally without masses or nipple discharge suggest fibrocystic breast disease.\n\n## Long-Term Management\nEffective long-term care strategies are crucial for preventing recurrence and managing underlying conditions:\n\n- **Cholesterol Monitoring**: Regular assessment of lipid profiles to manage and mitigate the risk of atherosclerosis.\n- **Lifestyle Modifications**:\n  - **Exercise Program**: Structured physical activity to improve cardiovascular health and aid in weight loss.\n  - **Low-Fat Diet**: Dietary adjustments to reduce cholesterol levels and manage hypertension.\n- **Pharmacotherapy**:\n  - **Cholesterol-Lowering Medications (e.g., HMG-CoA Reductase Inhibitors)**: Prescribe if lipid levels remain elevated despite lifestyle changes.\n\n## Additional Considerations\n- **Fibrocystic Breast Disease Evaluation**: Monitor breast health as part of comprehensive care.\n- **Aortic Stenosis Assessment**: Further investigate the significance of the detected murmur to rule out valvular heart disease.\n\n## Conclusion\nThis patient's presentation of chest pain and dyspnea, combined with significant risk factors and diagnostic findings, points towards ischemic heart disease as the most likely diagnosis. A structured approach encompassing immediate pharmacologic interventions, detailed diagnostic evaluations, and comprehensive long-term management plans is essential to optimize patient outcomes and prevent complications."
          },
          "metadata": {}
        },
        {
          "output_type": "stream",
          "name": "stdout",
          "text": [
            "\n"
          ]
        }
      ]
    }
  ]
}