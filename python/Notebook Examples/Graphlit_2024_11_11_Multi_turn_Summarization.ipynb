{
  "nbformat": 4,
  "nbformat_minor": 0,
  "metadata": {
    "colab": {
      "provenance": [],
      "mount_file_id": "1cSnEIDnT7SYyUpfap5KiK6Y_LWLQdk6s",
      "authorship_tag": "ABX9TyPbfmyu2novR6zLyAgLGUWx",
      "include_colab_link": true
    },
    "kernelspec": {
      "name": "python3",
      "display_name": "Python 3"
    },
    "language_info": {
      "name": "python"
    }
  },
  "cells": [
    {
      "cell_type": "markdown",
      "metadata": {
        "id": "view-in-github",
        "colab_type": "text"
      },
      "source": [
        "<a href=\"https://colab.research.google.com/github/graphlit/graphlit-samples/blob/main/python/Notebook%20Examples/Graphlit_2024_11_11_Multi_turn_Summarization.ipynb\" target=\"_parent\"><img src=\"https://colab.research.google.com/assets/colab-badge.svg\" alt=\"Open In Colab\"/></a>"
      ]
    },
    {
      "cell_type": "markdown",
      "source": [
        "**Description**\n",
        "\n",
        "This example shows how to use Graphlit to perform multi-step summarization of provided text."
      ],
      "metadata": {
        "id": "pDz1gRPjOtn5"
      }
    },
    {
      "cell_type": "markdown",
      "source": [
        "**Requirements**\n",
        "\n",
        "Prior to running this notebook, you will need to [signup](https://docs.graphlit.dev/getting-started/signup) for Graphlit, and [create a project](https://docs.graphlit.dev/getting-started/create-project).\n",
        "\n",
        "You will need the Graphlit organization ID, preview environment ID and JWT secret from your created project.\n",
        "\n",
        "Assign these properties as Colab secrets: GRAPHLIT_ORGANIZATION_ID, GRAPHLIT_ENVIRONMENT_ID and GRAPHLIT_JWT_SECRET.\n",
        "\n",
        "\n",
        "---"
      ],
      "metadata": {
        "id": "laG2MXUIhNnx"
      }
    },
    {
      "cell_type": "markdown",
      "source": [
        "Install Graphlit Python client SDK"
      ],
      "metadata": {
        "id": "NwRzDHWWienC"
      }
    },
    {
      "cell_type": "code",
      "execution_count": 1,
      "metadata": {
        "id": "fefizrrh4xGD",
        "colab": {
          "base_uri": "https://localhost:8080/"
        },
        "outputId": "48591960-63e7-4b23-f741-a77df44cd5e7"
      },
      "outputs": [
        {
          "output_type": "stream",
          "name": "stdout",
          "text": [
            "Collecting graphlit-client\n",
            "  Downloading graphlit_client-1.0.20241116001-py3-none-any.whl.metadata (2.7 kB)\n",
            "Requirement already satisfied: httpx in /usr/local/lib/python3.10/dist-packages (from graphlit-client) (0.27.2)\n",
            "Requirement already satisfied: pydantic<3.0.0,>=2.0.0 in /usr/local/lib/python3.10/dist-packages (from graphlit-client) (2.9.2)\n",
            "Requirement already satisfied: PyJWT in /usr/local/lib/python3.10/dist-packages (from graphlit-client) (2.9.0)\n",
            "Collecting websockets (from graphlit-client)\n",
            "  Downloading websockets-14.1-cp310-cp310-manylinux_2_5_x86_64.manylinux1_x86_64.manylinux_2_17_x86_64.manylinux2014_x86_64.whl.metadata (6.7 kB)\n",
            "Requirement already satisfied: annotated-types>=0.6.0 in /usr/local/lib/python3.10/dist-packages (from pydantic<3.0.0,>=2.0.0->graphlit-client) (0.7.0)\n",
            "Requirement already satisfied: pydantic-core==2.23.4 in /usr/local/lib/python3.10/dist-packages (from pydantic<3.0.0,>=2.0.0->graphlit-client) (2.23.4)\n",
            "Requirement already satisfied: typing-extensions>=4.6.1 in /usr/local/lib/python3.10/dist-packages (from pydantic<3.0.0,>=2.0.0->graphlit-client) (4.12.2)\n",
            "Requirement already satisfied: anyio in /usr/local/lib/python3.10/dist-packages (from httpx->graphlit-client) (3.7.1)\n",
            "Requirement already satisfied: certifi in /usr/local/lib/python3.10/dist-packages (from httpx->graphlit-client) (2024.8.30)\n",
            "Requirement already satisfied: httpcore==1.* in /usr/local/lib/python3.10/dist-packages (from httpx->graphlit-client) (1.0.6)\n",
            "Requirement already satisfied: idna in /usr/local/lib/python3.10/dist-packages (from httpx->graphlit-client) (3.10)\n",
            "Requirement already satisfied: sniffio in /usr/local/lib/python3.10/dist-packages (from httpx->graphlit-client) (1.3.1)\n",
            "Requirement already satisfied: h11<0.15,>=0.13 in /usr/local/lib/python3.10/dist-packages (from httpcore==1.*->httpx->graphlit-client) (0.14.0)\n",
            "Requirement already satisfied: exceptiongroup in /usr/local/lib/python3.10/dist-packages (from anyio->httpx->graphlit-client) (1.2.2)\n",
            "Downloading graphlit_client-1.0.20241116001-py3-none-any.whl (212 kB)\n",
            "\u001b[2K   \u001b[90m━━━━━━━━━━━━━━━━━━━━━━━━━━━━━━━━━━━━━━━━\u001b[0m \u001b[32m212.4/212.4 kB\u001b[0m \u001b[31m3.5 MB/s\u001b[0m eta \u001b[36m0:00:00\u001b[0m\n",
            "\u001b[?25hDownloading websockets-14.1-cp310-cp310-manylinux_2_5_x86_64.manylinux1_x86_64.manylinux_2_17_x86_64.manylinux2014_x86_64.whl (168 kB)\n",
            "\u001b[2K   \u001b[90m━━━━━━━━━━━━━━━━━━━━━━━━━━━━━━━━━━━━━━━━\u001b[0m \u001b[32m168.2/168.2 kB\u001b[0m \u001b[31m5.9 MB/s\u001b[0m eta \u001b[36m0:00:00\u001b[0m\n",
            "\u001b[?25hInstalling collected packages: websockets, graphlit-client\n",
            "Successfully installed graphlit-client-1.0.20241116001 websockets-14.1\n"
          ]
        }
      ],
      "source": [
        "!pip install --upgrade graphlit-client"
      ]
    },
    {
      "cell_type": "markdown",
      "source": [
        "Initialize Graphlit"
      ],
      "metadata": {
        "id": "abV1114jL-bR"
      }
    },
    {
      "cell_type": "code",
      "source": [
        "import os\n",
        "from google.colab import userdata\n",
        "from graphlit import Graphlit\n",
        "from graphlit_api import input_types, enums, exceptions\n",
        "\n",
        "os.environ['GRAPHLIT_ORGANIZATION_ID'] = userdata.get('GRAPHLIT_ORGANIZATION_ID')\n",
        "os.environ['GRAPHLIT_ENVIRONMENT_ID'] = userdata.get('GRAPHLIT_ENVIRONMENT_ID')\n",
        "os.environ['GRAPHLIT_JWT_SECRET'] = userdata.get('GRAPHLIT_JWT_SECRET')\n",
        "\n",
        "graphlit = Graphlit()"
      ],
      "metadata": {
        "id": "WoMAWD4LLP_q"
      },
      "execution_count": 2,
      "outputs": []
    },
    {
      "cell_type": "markdown",
      "source": [
        "Define Graphlit helper functions"
      ],
      "metadata": {
        "id": "pgRX57EHMVfl"
      }
    },
    {
      "cell_type": "code",
      "source": [
        "from typing import List, Optional\n",
        "\n",
        "async def ingest_uri(uri: str):\n",
        "    if graphlit.client is None:\n",
        "        return;\n",
        "\n",
        "    try:\n",
        "        # Using synchronous mode, so the notebook waits for the content to be ingested\n",
        "        response = await graphlit.client.ingest_uri(uri=uri, is_synchronous=True)\n",
        "\n",
        "        return response.ingest_uri.id if response.ingest_uri is not None else None\n",
        "    except exceptions.GraphQLClientError as e:\n",
        "        print(str(e))\n",
        "        return None\n",
        "\n",
        "async def create_openai_specification(model: enums.OpenAIModels):\n",
        "    if graphlit.client is None:\n",
        "        return;\n",
        "\n",
        "    input = input_types.SpecificationInput(\n",
        "        name=f\"OpenAI [{str(model)}]\",\n",
        "        type=enums.SpecificationTypes.COMPLETION,\n",
        "        serviceType=enums.ModelServiceTypes.OPEN_AI,\n",
        "        openAI=input_types.OpenAIModelPropertiesInput(\n",
        "            model=model,\n",
        "        )\n",
        "    )\n",
        "\n",
        "    try:\n",
        "        response = await graphlit.client.create_specification(input)\n",
        "\n",
        "        return response.create_specification.id if response.create_specification is not None else None\n",
        "    except exceptions.GraphQLClientError as e:\n",
        "        print(str(e))\n",
        "        return None\n",
        "\n",
        "    return None\n",
        "\n",
        "async def revise_text(prompt: str, text: str, specification_id: str, conversation_id: Optional[str] = None):\n",
        "    if graphlit.client is None:\n",
        "        return None, None\n",
        "\n",
        "    try:\n",
        "        response = await graphlit.client.revise_text(prompt=prompt, text=text, id=conversation_id, specification=input_types.EntityReferenceInput(id=specification_id))\n",
        "\n",
        "        message = response.revise_text.message.message if response.revise_text is not None and response.revise_text.message is not None else None\n",
        "        conversation_id = response.revise_text.conversation.id if response.revise_text is not None and response.revise_text.conversation is not None else None\n",
        "\n",
        "        return message, conversation_id\n",
        "    except exceptions.GraphQLClientError as e:\n",
        "        print(str(e))\n",
        "        return None, None\n",
        "\n",
        "async def delete_all_specifications():\n",
        "    if graphlit.client is None:\n",
        "        return;\n",
        "\n",
        "    _ = await graphlit.client.delete_all_specifications(is_synchronous=True)\n",
        "\n",
        "async def delete_all_conversations():\n",
        "    if graphlit.client is None:\n",
        "        return;\n",
        "\n",
        "    _ = await graphlit.client.delete_all_conversations(is_synchronous=True)\n",
        "\n",
        "async def delete_all_contents():\n",
        "    if graphlit.client is None:\n",
        "        return;\n",
        "\n",
        "    _ = await graphlit.client.delete_all_contents(is_synchronous=True)\n"
      ],
      "metadata": {
        "id": "mtwjJsvVOVCh"
      },
      "execution_count": 3,
      "outputs": []
    },
    {
      "cell_type": "markdown",
      "source": [
        "Execute Graphlit example"
      ],
      "metadata": {
        "id": "srzhQt4COLVI"
      }
    },
    {
      "cell_type": "code",
      "source": [
        "from IPython.display import display, Markdown, HTML\n",
        "import time\n",
        "\n",
        "# Remove any existing contents, conversations and specifications; only needed for notebook example\n",
        "await delete_all_conversations()\n",
        "await delete_all_specifications()\n",
        "await delete_all_contents()\n",
        "\n",
        "print('Deleted all contents, conversations and specifications.')\n",
        "\n",
        "text = \"\"\"Sample Written History and Physical Examination\n",
        "History and Physical Examination\n",
        " Patient Name:\n",
        "Date:\n",
        " Rogers, Pamela\n",
        " 6/2/04\n",
        "Referral Source: Emergency Department\n",
        "Data Source:\n",
        "Patient\n",
        "Chief Complaint & ID:  Ms. Rogers is a 56 y/o WF\n",
        "having chest pains for the last week.\n",
        "History of Present Illness\n",
        " This is the first admission for this 56 year old woman,\n",
        "who states she was in her usual state of good health until\n",
        "one week prior to admission.  At that time she noticed the\n",
        "abrupt onset (over a few seconds to a minute) of chest pain\n",
        "which she describes as dull and aching in character.  The\n",
        "pain began in the left para-sternal area and radiated up to\n",
        "her neck.  The first episode of pain one week ago occurred\n",
        "when she was working in her garden in the middle of the\n",
        "day.  She states she had been working for approximately 45\n",
        "minutes and began to feel tired before the onset of the pain.\n",
        "Her discomfort was accompanied by shortness of breath, but\n",
        "no sweating, nausea, or vomiting.  The pain lasted\n",
        "approximately 5 to 10 minutes and resolved when she went\n",
        "inside and rested in a cool area.\n",
        "Since that initial pain one week ago she has had 2 additional\n",
        "episodes of pain, similar in quality and location to the first\n",
        "episode.  Three days ago she had a 15 minute episode of\n",
        "pain while walking her dog, which resolved with rest.  This\n",
        "evening she had an episode of pain awaken her from sleep,\n",
        "lasting 30 minutes, which prompted her visit to the\n",
        "Emergency Department.  At no time has she attempted any\n",
        "specific measures to relieve her pain, other than rest.  She\n",
        "describes no other associated symptoms during these\n",
        "episodes of pain, including dizziness, or palpitations.  She\n",
        "becomes short of breath during these\n",
        "episodes but describes no other exertional dyspnea,\n",
        "orthopnea, or paroxysmal nocturnal dyspnea.  No change in the pain\n",
        "with movement, no association with food, no GERD sx, no palpable pain.\n",
        "She has never been told she has heart problems, never had any\n",
        "chest pains before, does not have claudication.  She was diagnosed with\n",
        "HTN 3 years ago,\n",
        "She does not smoke nor does she have diabetes.\n",
        "She was diagnosed with hypertension 3 years ago and had a\n",
        "TAH with BSO 6 years ago.  She is not on hormone replacement\n",
        "therapy.  There is a family history of premature CAD.\n",
        "She does not know her cholesterol level.\n",
        "Past Medical History\n",
        " Surgical –\n",
        "1994:\n",
        "1998:\n",
        " Total abdominal hysterectomy and bilateral\n",
        "oophorectomy for uterine fibroids.\n",
        "Comments\n",
        " Define the reason for the patient’s visit as who has been\n",
        "specifically as possible.\n",
        "Convey the acute or chronic nature of the problem and\n",
        "establish a chronology.\n",
        "onset\n",
        "character\n",
        "location\n",
        "radiation\n",
        "circumstances; exacerbating factors\n",
        "associated symptoms\n",
        "duration\n",
        "resolution; alleviating factors\n",
        "Describe the natural history of her problem since its\n",
        "onset\n",
        "Change or new circumstances to the problem\n",
        "New duration\n",
        "Reason she come in for visit\n",
        "What has patient tried for relief\n",
        "    Relevant positive and negative ROS for this complaint\n",
        "Review of systems for the relevant organ system\n",
        "Relevant risk factor/environmental conditions\n",
        "This highly relevant, although it may seem like a\n",
        "trivial detail at first\n",
        " Bunionectomy\n",
        "\n",
        "Medical History –\n",
        "1998: Diagnosed with hypertension and began on\n",
        "  unknown medication.  Stopped after 6 months\n",
        "  because of drowsiness.\n",
        "1990: Diagnosed with peptic ulcer disease, which\n",
        "  resolved after three months on cimetidine.  She  Always use generic names\n",
        "  describes no history of cancer, lung disease\n",
        "or previous heart disease.\n",
        "\n",
        "Allergy: Penicillin; experienced rash and hives in 1985.  Always list the type of reported reaction\n",
        "\n",
        "Social History –\n",
        "Alcohol use: 1 or 2 beers each weekend; 1 glass of   Quantity\n",
        "   wine once a week with dinner.\n",
        "Tobacco use: None.\n",
        "Medications: No prescription or illegal drug use.\n",
        "   Occasional OTC ibuprofen (Advil) for  Include over-the-counter drugs\n",
        "   headache (QOD).\n",
        "\n",
        "Family History\n",
        "\n",
        "Mother:  79, alive and well.     Comment specifically on the presence or absence of\n",
        "Father:  54, deceased, heart attack.  No brothers  diseases relevant to the chief complaint\n",
        "   or sisters.  There is a positive family history of\n",
        "   hypertension, but no diabetes, or cancer.\n",
        "\n",
        "Review of Systems\n",
        "\n",
        "HEENT:\n",
        "No complaints of headache change in vision, nose or ear   Separate each ROS section for easy identification\n",
        "problems, or sore throat.\n",
        "\n",
        "Cadiovascular:\n",
        "See HPI        OK to refer to HPI if adequately covered there\n",
        "\n",
        "\n",
        "Gastrointestinal:\n",
        "No complaints of dysphagia, nausea, vomiting, or change in  List positive and negative findings in brief, concise\n",
        "stool pattern, consistency, or color.  She complains of   phrases or sentences\n",
        "epigastric pain, burning in quality, approximately twice a\n",
        "month, which she notices primarily at night.\n",
        "\n",
        "Genitourinary:\n",
        "No complaints of dysuria, nocturia, polyuria, hematuria, or\n",
        "vaginal bleeding.\n",
        "\n",
        "Musculoskeletal:\n",
        "She complains of lower back pain, aching in quality,\n",
        "approximately once every week after working in her garden.\n",
        "This pain is usually relieved with Tylenol.  She complains of\n",
        "no other arthralgias, muscle aches, or pains.\n",
        "\n",
        "Neurological:\n",
        "She complains of no weakness, numbness, or incoordination.\n",
        "\n",
        "Physical Examination\n",
        " Vital Signs:\n",
        "Blood Pressure 168/98, Pulse 90, Respirations 20,\n",
        "Temperature 37 degrees.\n",
        "General:\n",
        "Ms. Rogers appears alert, oriented and cooperative.\n",
        "Skin:\n",
        "Normal in appearance, texture, and temperature\n",
        "HEENT:\n",
        "Scalp normal.\n",
        "Pupils equally round, 4 mm, reactive to light and\n",
        "accommodation, sclera and conjunctiva normal.\n",
        "Fundoscopic examination reveals normal vessels without\n",
        "hemorrhage.\n",
        "Tympanic membranes and external auditory canals normal.\n",
        "Nasal mucosa normal.\n",
        "Oral pharynx is normal without erythema or exudate.  Tongue\n",
        "and gums are normal.\n",
        "Neck:\n",
        "Easily moveable without resistance, no abnormal adenopathy\n",
        "in the cervical or supraclavicular areas.  Trachea is midline\n",
        "and thyroid gland is normal without masses.  Carotid artery\n",
        "upstroke is normal bilaterally without bruits.  Jugular venous\n",
        "pressure is measured as 8 cm with patient at 45 degrees.\n",
        "Chest:\n",
        "Lungs are clear to auscultation and percussion bilaterally\n",
        "except for crackles heard in the lung bases bilaterally.  PMI\n",
        "is in the 5th inter-costal space at the mid clavicular line.  A\n",
        "grade 2/6 systolic decrescendo murmur is heard best at the\n",
        "second right inter-costal space which radiates to the neck.\n",
        "A third heard sound is heard at the apex.  No fourth heart\n",
        "sound or rub are heard.  Cystic changes are noted in the\n",
        "breasts bilaterally but no masses or nipple discharge is\n",
        "Seen.\n",
        "Abdomen:\n",
        "The abdomen is symmetrical without distention; bowel\n",
        "sounds are normal in quality and intensity in all areas; a\n",
        "bruit is heard in the right paraumbilical area.  No masses or\n",
        "splenomegaly are noted; liver span is 8 cm by percussion.\n",
        "Extremities:\n",
        "No cyanosis, clubbing, or edema are noted.  Peripheral\n",
        "pulses in the femoral, popliteal, anterior tibial, dorsalis pedis,\n",
        "brachial, and radial areas are normal.\n",
        "Nodes:\n",
        "No palpable nodes in the cervical, supraclavicular, axillary\n",
        "or inguinal areas.\n",
        "Genital/Rectal:\n",
        "Normal rectal sphincter tone;  no rectal masses or\n",
        "tenderness.  Stool is brown and guaiac negative.  Pelvic\n",
        "Always list vital signs.  Check for orthostatic BP/P\n",
        "     changes if it is relevant to the patient’s complaint\n",
        "Description may give very important clues as to the\n",
        "        nature or severity of the patient’s problem\n",
        "Comment on all organ systems\n",
        "      List specific normal or pathological findings when\n",
        "        relevant to the patient’s complaint\n",
        "This patient needs a detailed cardiac examination\n",
        "More precise than saying “no hepatomegaly”\n",
        "Always include these exams, or comment specifically\n",
        "why they were omitted\n",
        "exmaination reveals normal external genitalia, and normal\n",
        "vagina and cervix on speculum examination.  Bimanual\n",
        "examination reveals no palpable uterus, ovaries, or masses.\n",
        "\n",
        "Neurological:\n",
        "Cranial nerves II-XII are normal.  Motor and sensory\n",
        "examination of the upper and lower extremities is normal.\n",
        "Gait and cerebellar function are also normal.  Reflexes are\n",
        "normal and symmetrical bilaterally in both extremities.\n",
        "\n",
        "Initial Problem List\n",
        "\n",
        "1. Chest Pain      Although you can omit this initial problem list from your\n",
        "2. Dyspnea       final written H&P, (and just list a final problem list\n",
        "3. History of HTN (4 years)     shown below), it is useful to make an initial list simply\n",
        "4. History of TAH/BSO     to keep track of all problems uncovered in the interview\n",
        "5. History of peptic ulcer disease    (#1-9 in this list) and exam (#10-13)\n",
        "6. Penicillin allergy\n",
        "7. FH of early ASCVD\n",
        "8. Epigastric pain\n",
        "9. Low back pain\n",
        "10. Hypertension\n",
        "11. Systolic murmur\n",
        "12. Cystic changes of breasts\n",
        "13. Abdominal bruit\n",
        "\n",
        "Revised Problem List\n",
        "\n",
        "1. Chest pain      This list regroups related problems (or those you\n",
        "2. FH of early ASCVD     suspect are related) into a more logical sequence\n",
        "3. Early surgical menopause\n",
        "4. Dyspnea\n",
        "5. Recent onset HTN\n",
        "6. Abdominal bruit\n",
        "7. Systolic ejection murmur\n",
        "8. Epigastric pain\n",
        "9. History of peptic ulcer disease\n",
        "10. Lumbosacral back pain\n",
        "11. OTC non-steroidal analgesic use\n",
        "12. Cystic changes of breasts\n",
        "13. Penicillin allergy\n",
        "\n",
        "Assessment and Differential Diagnosis\n",
        "\n",
        "1. Chest pain with features of angina pectoris\n",
        "\n",
        "This patient’s description of dull, aching, exertion\n",
        "related substernal chest pain is suggestive of ischemic cardiac\n",
        "origin.  Her findings of a FH of early ASCVD, hypertension, and\n",
        "early surgical menopause are pertinent risk factors for development\n",
        "of coronary artery disease.  Therefore, the combination of this\n",
        "patient’s presentation, and the multiple risk factors make angina\n",
        "pectoris the most likely diagnosis.  The pain symptoms appear to\n",
        "be increasing, and the occurrence of pain at rest suggests this\n",
        "fits the presentation of unstable angina, and hospitalization is\n",
        "indicated.\n",
        "\n",
        "  Other processes may explain her chest pain, but\n",
        "are less likely.  Gastro-esophageal reflux disease (GERD) may\n",
        "occur at night with recumbency, but usually is not associated with\n",
        "exertion.  The pain of GERD is usually burning, and the patient\n",
        "describes no associated gastrointestinal symptoms such as\n",
        "nausea, vomiting or abdominal pain which might suggest peptic\n",
        "ulcer disease.  The presence of dyspnea might suggest a\n",
        "pulmonary component to this patient’s disease process, but\n",
        "the absence of fever, cough or abnormal pulmonary examination\n",
        "findings make a pulmonary infection less likely, and the\n",
        "association of the dyspnea with the chest pain supports the\n",
        "theory that both symptoms may be from ischemic heart disease.\n",
        "\n",
        "2. Dyspnea\n",
        "\n",
        "Her dyspnea may correlate with findings on physical\n",
        "exam of a third heart sound and pulmonary crackles,\n",
        "suggesting left ventricular dysfunction.  In that case, she may\n",
        "be manifesting symptoms and findings of congestive heart\n",
        "failure from myocardial ischemia.\n",
        "\n",
        "3. Recent onset hypertension and abdominal bruit\n",
        "\n",
        "This combination raises the possibility of a\n",
        "secondary cause of hypertension, specifically ASCVD of the\n",
        "renal artery leading to renovascular hypertension.  The lack\n",
        "of hypertensive retinopathy and left ventricular hypertrophy\n",
        "on physical examination further support a recent onset of her\n",
        "BP elevation.\n",
        "\n",
        "4. Systolic murmur\n",
        "\n",
        "The possibility of important valvular heart disease\n",
        "is raised by the murmur, specifically, aortic stenosis.  The\n",
        "murmur radiates to the neck as an aortic valvular murmur\n",
        "often does, but a normal carotid upstroke may mean this\n",
        "murmur is not significant.\n",
        "\n",
        "5. Epigastric discomfort, NSAID use with a history\n",
        "of peptic ulcer disease.\n",
        "\n",
        "6. Lumbo-sacral back pain\n",
        "\n",
        "7. Fibrocystic breast disease\n",
        "\n",
        "8. Penicillin allergy\n",
        "\n",
        "In the assessment you take each of the patient’s major\n",
        "problems and draw conclusions, in this case that the chest\n",
        "pain is more likely due to ischemic heart disease instead\n",
        "of other possibilities.  You tie in several of the other\n",
        "problems as risk factors for ischemic heart disease, and\n",
        "not merely as random unrelated problems.  You should list\n",
        "and extensive justification for your most likely diagnosis.\n",
        "You should also explain why you are less suspicious of\n",
        "alternative diagnoses, such as esophageal reflux disease,\n",
        "pulmonary or musculoskeletal pain.\n",
        "\n",
        "As in the previous problem, you should explain, in more\n",
        "detail than is shown in this example, why you felt the dyspnea\n",
        "is more likely to be from ischemic heart disease, and not\n",
        "asthma, bronchitis, or other possibilities.  Follow this pattern\n",
        "for all subsequent problems.\n",
        "\n",
        "Plan:\n",
        "\n",
        "1. Carefully monitor the patient for any increased chest pain that\n",
        "might be indicative of impending myocardial infarction by admitting\n",
        "the patient to the telemetry floor.\n",
        "\n",
        "2. Start platelet inhibitors, such as aspirin to decrease the risk of\n",
        "myocardial infarction; start nitrates to decrease the risk of occlusion\n",
        "and to treat her symptoms of pain.  For prolonged pain un-\n",
        "responsive to nitrates, she may need an analgesic such as\n",
        "morphine.  The nitrates will also help to lower her BP.\n",
        "\n",
        "3. Patient should have her cholesterol monitored and when\n",
        "discharged she should be started on an appropriate exercise and\n",
        "weight loss program, including a low-fat diet.  If her cholesterol\n",
        "is elevated, she may need cholesterol-lowering medication such\n",
        "as HMG Co-reductases.\n",
        "\n",
        "4. Schedule a cardiac catheterization since non-invasive\n",
        "tests have a high pretest probability for being positive and regard-\n",
        "less of the result, negative or positive, she will need a cath\n",
        "\n",
        "5. Begin diuretics for her dyspnea which is most likely secondary\n",
        "to volume overload – this will treat her high BP as well.  She should\n",
        "have a ventriculogram with the cath that will assess cardiac size\n",
        "and presence of wall motion abnormalities.\n",
        "\n",
        "6. Appropriate lab work would include BUN/Creatinine\n",
        "to assess kidney function, electrolytes and baseline EKG.\n",
        "\n",
        "You should develop a diagnostic and therapeutic plan\n",
        "for the patient.  Your plan should incorporate acute and\n",
        "long-term care of the patient’s most likely problem.  You\n",
        "should consider pharmacologic and non-pharmacologic\n",
        "measures and be cognizant of the fact that you need to\n",
        "treat the symptoms (i.e. make the patient comfortable) as\n",
        "much as treating the disease when possible.  You are\n",
        "expected to know the usual classes of medications used\n",
        "to treat these illnesses.\n",
        " \"\"\""
      ],
      "metadata": {
        "id": "fOb6COcONZIJ",
        "colab": {
          "base_uri": "https://localhost:8080/"
        },
        "outputId": "286efc8f-02be-4a30-fe94-7ccd8969cc5d"
      },
      "execution_count": 4,
      "outputs": [
        {
          "output_type": "stream",
          "name": "stdout",
          "text": [
            "Deleted all contents, conversations and specifications.\n"
          ]
        }
      ]
    },
    {
      "cell_type": "markdown",
      "source": [
        "Create specification, and start multi-turn summarization conversation."
      ],
      "metadata": {
        "id": "kqG9WHXhbld-"
      }
    },
    {
      "cell_type": "code",
      "source": [
        "specification_id = await create_openai_specification(enums.OpenAIModels.O1_MINI_128K)\n",
        "\n",
        "if specification_id is not None:\n",
        "    print(f'Created specification [{specification_id}].')\n",
        "\n",
        "    prompt = \"Summarize this for me.\"\n",
        "\n",
        "    message, conversation_id = await revise_text(prompt, text, specification_id)\n",
        "\n",
        "    if message is not None:\n",
        "        display(Markdown(f'**Revision:**\\n{message}'))\n",
        "        print()\n"
      ],
      "metadata": {
        "id": "uSwSy3gXq7AN",
        "colab": {
          "base_uri": "https://localhost:8080/",
          "height": 191
        },
        "outputId": "2f079aed-8b3e-4a98-8344-af867568b903"
      },
      "execution_count": 5,
      "outputs": [
        {
          "output_type": "stream",
          "name": "stdout",
          "text": [
            "Created specification [2f1a5995-d1be-43a2-8782-9052a5d4110b].\n"
          ]
        },
        {
          "output_type": "display_data",
          "data": {
            "text/plain": [
              "<IPython.core.display.Markdown object>"
            ],
            "text/markdown": "**Revision:**\nPamela Rogers, a 56-year-old woman with a history of hypertension and early surgical menopause, presents with recurrent chest pain over the past week. The pain is described as dull and aching, located in the left para-sternal area, radiating to the neck, and associated with shortness of breath. Physical examination reveals elevated blood pressure, a systolic murmur, pulmonary crackles, and an abdominal bruit, suggesting possible ischemic heart disease and renovascular hypertension.\n\nThe assessment indicates unstable angina as the most likely diagnosis, given her symptoms and risk factors. The management plan includes monitoring for myocardial infarction, initiating platelet inhibitors and nitrates, scheduling cardiac catheterization, and starting diuretics for dyspnea. Long-term care will involve cholesterol monitoring, lifestyle modifications, and potential medication adjustments."
          },
          "metadata": {}
        },
        {
          "output_type": "stream",
          "name": "stdout",
          "text": [
            "\n"
          ]
        }
      ]
    },
    {
      "cell_type": "code",
      "source": [
        "    prompt = \"OK, not bad, but make it longer.\"\n",
        "\n",
        "    message, conversation_id = await revise_text(prompt, text, specification_id, conversation_id)\n",
        "\n",
        "    if message is not None:\n",
        "        display(Markdown(f'**Revision:**\\n{message}'))\n",
        "        print()\n"
      ],
      "metadata": {
        "id": "RitZHrG1TyFg",
        "colab": {
          "base_uri": "https://localhost:8080/",
          "height": 552
        },
        "outputId": "76ac3902-12c2-4333-e1d4-3508ca314f3e"
      },
      "execution_count": 6,
      "outputs": [
        {
          "output_type": "display_data",
          "data": {
            "text/plain": [
              "<IPython.core.display.Markdown object>"
            ],
            "text/markdown": "**Revision:**\nPamela Rogers is a 56-year-old white female with a medical history significant for hypertension diagnosed three years ago and early surgical menopause following a total abdominal hysterectomy and bilateral salpingo-oophorectomy performed six years prior. She presents to the Emergency Department with recurrent episodes of chest pain over the past week.\n\nHer chest pain is characterized as a dull, aching sensation located in the left para-sternal region, radiating to the neck. The pain episodes began abruptly while she was gardening and have recurred with similar quality and location, occurring both with exertion and at rest. Each episode is accompanied by shortness of breath but without associated symptoms such as sweating, nausea, or vomiting.\n\nPhysical examination reveals elevated blood pressure at 168/98 mmHg, a systolic decrescendo murmur heard best at the second right inter-costal space radiating to the neck, and pulmonary crackles in the lung bases. An abdominal bruit was noted in the right paraumbilical area. These findings raise concerns for ischemic heart disease and possible renovascular hypertension.\n\nHer risk factors for coronary artery disease are notable, including hypertension, a family history of premature coronary artery disease, and early surgical menopause, which is associated with increased cardiovascular risk. She does not smoke and has no history of diabetes, further focusing the differential on ischemic cardiac conditions.\n\nThe differential diagnosis primarily includes unstable angina, given the nature of her chest pain and associated symptoms. Other considerations such as gastro-esophageal reflux disease and pulmonary conditions like infection were deemed less likely based on her presentation and physical findings.\n\nAssessment indicates that Pamela is most likely suffering from unstable angina, a condition that necessitates prompt medical intervention to prevent progression to myocardial infarction. Her dyspnea may suggest left ventricular dysfunction, potentially indicating the onset of congestive heart failure secondary to myocardial ischemia.\n\nThe presence of an abdominal bruit combined with recent onset hypertension suggests a secondary cause, possibly renovascular hypertension due to atherosclerosis of the renal arteries. This warrants further investigation to manage her hypertension effectively.\n\nManagement includes immediate monitoring for myocardial infarction through telemetry, initiation of platelet inhibitors like aspirin, administration of nitrates to alleviate chest pain and reduce blood pressure, and scheduling cardiac catheterization for definitive diagnosis and management. Diuretics may be started to address her dyspnea and potential volume overload.\n\nLong-term care plans involve cholesterol monitoring and management, lifestyle modifications including diet and exercise, and possible initiation of cholesterol-lowering medications if levels are elevated. Additionally, addressing her hypertension with appropriate antihypertensive therapy is crucial.\n\nComprehensive diagnostic workup should include laboratory tests such as BUN/Creatinine to evaluate renal function, electrolytes, and a baseline EKG. A ventriculogram during cardiac catheterization will help assess cardiac size and wall motion abnormalities, providing further insight into her cardiac function."
          },
          "metadata": {}
        },
        {
          "output_type": "stream",
          "name": "stdout",
          "text": [
            "\n"
          ]
        }
      ]
    },
    {
      "cell_type": "code",
      "source": [
        "    prompt = \"Rewrite from the perspective of a medical content writer. Add additional medical details. Format nicely with Markdown for a blog post.\"\n",
        "\n",
        "    message, conversation_id = await revise_text(prompt, text, specification_id, conversation_id)\n",
        "\n",
        "    if message is not None:\n",
        "        display(Markdown(f'**Revision:**\\n{message}'))\n",
        "        print()\n"
      ],
      "metadata": {
        "id": "CbmjHmjXTzgg",
        "colab": {
          "base_uri": "https://localhost:8080/",
          "height": 1000
        },
        "outputId": "423b2f6c-b081-45cb-f308-b5d6d1fc8bed"
      },
      "execution_count": 7,
      "outputs": [
        {
          "output_type": "display_data",
          "data": {
            "text/plain": [
              "<IPython.core.display.Markdown object>"
            ],
            "text/markdown": "**Revision:**\n# Case Study: Unstable Angina in a Middle-Aged Patient with Hypertension\n\n**Patient Profile**\n\n**Name:** Pamela Rogers\n**Age:** 56\n**Sex:** Female\n**Medical History:** Hypertension (diagnosed 3 years ago), Early Surgical Menopause (6 years ago; total abdominal hysterectomy and bilateral salpingo-oophorectomy), Peptic Ulcer Disease (resolved with medication), Penicillin Allergy\n\n## Introduction\n\nPamela Rogers, a 56-year-old woman with a significant medical history, presents to the Emergency Department exhibiting recurrent chest pain over the past week. Her case is a classic representation of unstable angina, particularly in patients with multiple cardiovascular risk factors.\n\n## Clinical Presentation\n\nMs. Rogers reports a week-long history of chest pain characterized by a dull and aching sensation located in the left parasternal area. Notably, the pain radiates to the neck and is accompanied by shortness of breath. The initial episode occurred abruptly while gardening after approximately 45 minutes of exertion, accompanied by fatigue. The episodes have since recurred, including one that disrupted her sleep, lasting 30 minutes. Importantly, she denies associated symptoms such as sweating, nausea, or vomiting.\n\n## Physical Examination Findings\n\n- **Vital Signs:** Blood pressure of 168/98 mmHg, pulse 90 bpm, respirations 20/min, temperature 37°C\n- **Cardiovascular:** Grade 2/6 systolic decrescendo murmur best heard at the second right intercostal space, radiating to the neck\n- **Pulmonary:** Crackles at lung bases\n- **Abdominal:** Bruit in the right paraumbilical area\n- **Other Systems:** No peripheral edema, normal peripheral pulses\n\n## Diagnostic Assessment\n\nGiven Ms. Rogers' presentation and physical findings, the differential diagnosis includes unstable angina, gastroesophageal reflux disease (GERD), and pulmonary conditions. However, the nature of the chest pain, its association with exertion and rest, and the presence of risk factors such as hypertension and family history of premature coronary artery disease strongly suggest an ischemic cardiac origin.\n\nThe presence of an abdominal bruit raises the concern for renovascular hypertension, potentially due to atherosclerosis of the renal arteries, necessitating further evaluation.\n\n## Management Plan\n\n### Acute Management\n\n1. **Monitoring:** Admit Ms. Rogers to the telemetry unit for continuous cardiac monitoring to detect any progression to myocardial infarction.\n2. **Pharmacologic Therapy:** Initiate platelet inhibitors (e.g., aspirin) to reduce myocardial infarction risk. Administer nitrates to alleviate chest pain and lower blood pressure. Consider analgesics like morphine for pain unresponsive to nitrates.\n3. **Diagnostic Procedures:** Schedule cardiac catheterization for definitive assessment of coronary artery status. A ventriculogram during the procedure will evaluate cardiac size and wall motion abnormalities.\n4. **Diuretics:** Begin diuretic therapy to manage dyspnea, addressing potential volume overload and assisting in blood pressure control.\n5. **Laboratory Tests:** Order BUN and creatinine levels to assess renal function, electrolytes, and obtain a baseline EKG.\n\n### Long-Term Care\n\n1. **Lifestyle Modifications:** Implement a low-fat diet and an exercise regimen for weight management.\n2. **Cholesterol Management:** Monitor and manage cholesterol levels, initiating statin therapy if necessary.\n3. **Blood Pressure Control:** Optimize antihypertensive therapy to manage renovascular hypertension, considering potential surgical interventions if indicated.\n4. **Follow-Up:** Schedule regular follow-ups for cardiac evaluation and management of comorbid conditions.\n\n## Conclusion\n\nPamela Rogers' presentation epitomizes the complexities in diagnosing and managing unstable angina, especially in patients with overlapping cardiovascular risk factors. A comprehensive approach integrating pharmacologic therapy, diagnostic procedures, and lifestyle modifications is essential for effective management and prevention of adverse cardiac events."
          },
          "metadata": {}
        },
        {
          "output_type": "stream",
          "name": "stdout",
          "text": [
            "\n"
          ]
        }
      ]
    }
  ]
}