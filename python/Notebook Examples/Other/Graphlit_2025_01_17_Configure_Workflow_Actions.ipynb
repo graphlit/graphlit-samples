{
  "nbformat": 4,
  "nbformat_minor": 0,
  "metadata": {
    "colab": {
      "provenance": [],
      "mount_file_id": "1cSnEIDnT7SYyUpfap5KiK6Y_LWLQdk6s",
      "authorship_tag": "ABX9TyM4qKpkq8nKkHw9YHw7FXUw",
      "include_colab_link": true
    },
    "kernelspec": {
      "name": "python3",
      "display_name": "Python 3"
    },
    "language_info": {
      "name": "python"
    }
  },
  "cells": [
    {
      "cell_type": "markdown",
      "metadata": {
        "id": "view-in-github",
        "colab_type": "text"
      },
      "source": [
        "<a href=\"https://colab.research.google.com/github/graphlit/graphlit-samples/blob/main/python/Notebook%20Examples/Graphlit_2025_01_17_Configure_Workflow_Actions.ipynb\" target=\"_parent\"><img src=\"https://colab.research.google.com/assets/colab-badge.svg\" alt=\"Open In Colab\"/></a>"
      ]
    },
    {
      "cell_type": "markdown",
      "source": [
        "**Description**\n",
        "\n",
        "This example shows how to configure a webhook action in a Graphlit workflow, and validate success and failure events."
      ],
      "metadata": {
        "id": "pDz1gRPjOtn5"
      }
    },
    {
      "cell_type": "markdown",
      "source": [
        "**Requirements**\n",
        "\n",
        "Prior to running this notebook, you will need to [signup](https://docs.graphlit.dev/getting-started/signup) for Graphlit, and [create a project](https://docs.graphlit.dev/getting-started/create-project).\n",
        "\n",
        "You will need the Graphlit organization ID, preview environment ID and JWT secret from your created project.\n",
        "\n",
        "Assign these properties as Colab secrets: GRAPHLIT_ORGANIZATION_ID, GRAPHLIT_ENVIRONMENT_ID and GRAPHLIT_JWT_SECRET.\n",
        "\n",
        "Visit https://webhook.site to get a unique Webhook URL for testing.\n",
        "\n",
        "---"
      ],
      "metadata": {
        "id": "laG2MXUIhNnx"
      }
    },
    {
      "cell_type": "markdown",
      "source": [
        "Install Graphlit Python client SDK"
      ],
      "metadata": {
        "id": "NwRzDHWWienC"
      }
    },
    {
      "cell_type": "code",
      "execution_count": 8,
      "metadata": {
        "id": "fefizrrh4xGD",
        "colab": {
          "base_uri": "https://localhost:8080/"
        },
        "outputId": "346706e6-bd39-482b-93c8-b611f05a3e6c"
      },
      "outputs": [
        {
          "output_type": "stream",
          "name": "stdout",
          "text": [
            "Requirement already satisfied: graphlit-client in /usr/local/lib/python3.11/dist-packages (1.0.20250114001)\n",
            "Requirement already satisfied: httpx in /usr/local/lib/python3.11/dist-packages (from graphlit-client) (0.28.1)\n",
            "Requirement already satisfied: pydantic<3.0.0,>=2.0.0 in /usr/local/lib/python3.11/dist-packages (from graphlit-client) (2.10.5)\n",
            "Requirement already satisfied: PyJWT in /usr/local/lib/python3.11/dist-packages (from graphlit-client) (2.10.1)\n",
            "Requirement already satisfied: websockets in /usr/local/lib/python3.11/dist-packages (from graphlit-client) (14.1)\n",
            "Requirement already satisfied: annotated-types>=0.6.0 in /usr/local/lib/python3.11/dist-packages (from pydantic<3.0.0,>=2.0.0->graphlit-client) (0.7.0)\n",
            "Requirement already satisfied: pydantic-core==2.27.2 in /usr/local/lib/python3.11/dist-packages (from pydantic<3.0.0,>=2.0.0->graphlit-client) (2.27.2)\n",
            "Requirement already satisfied: typing-extensions>=4.12.2 in /usr/local/lib/python3.11/dist-packages (from pydantic<3.0.0,>=2.0.0->graphlit-client) (4.12.2)\n",
            "Requirement already satisfied: anyio in /usr/local/lib/python3.11/dist-packages (from httpx->graphlit-client) (3.7.1)\n",
            "Requirement already satisfied: certifi in /usr/local/lib/python3.11/dist-packages (from httpx->graphlit-client) (2024.12.14)\n",
            "Requirement already satisfied: httpcore==1.* in /usr/local/lib/python3.11/dist-packages (from httpx->graphlit-client) (1.0.7)\n",
            "Requirement already satisfied: idna in /usr/local/lib/python3.11/dist-packages (from httpx->graphlit-client) (3.10)\n",
            "Requirement already satisfied: h11<0.15,>=0.13 in /usr/local/lib/python3.11/dist-packages (from httpcore==1.*->httpx->graphlit-client) (0.14.0)\n",
            "Requirement already satisfied: sniffio>=1.1 in /usr/local/lib/python3.11/dist-packages (from anyio->httpx->graphlit-client) (1.3.1)\n"
          ]
        }
      ],
      "source": [
        "!pip install --upgrade graphlit-client"
      ]
    },
    {
      "cell_type": "markdown",
      "source": [
        "Initialize Graphlit"
      ],
      "metadata": {
        "id": "abV1114jL-bR"
      }
    },
    {
      "cell_type": "code",
      "source": [
        "import os\n",
        "from google.colab import userdata\n",
        "from graphlit import Graphlit\n",
        "from graphlit_api import input_types, enums, exceptions\n",
        "\n",
        "os.environ['GRAPHLIT_ORGANIZATION_ID'] = userdata.get('GRAPHLIT_ORGANIZATION_ID')\n",
        "os.environ['GRAPHLIT_ENVIRONMENT_ID'] = userdata.get('GRAPHLIT_ENVIRONMENT_ID')\n",
        "os.environ['GRAPHLIT_JWT_SECRET'] = userdata.get('GRAPHLIT_JWT_SECRET')\n",
        "\n",
        "graphlit = Graphlit()"
      ],
      "metadata": {
        "id": "WoMAWD4LLP_q"
      },
      "execution_count": 9,
      "outputs": []
    },
    {
      "cell_type": "markdown",
      "source": [
        "Define Graphlit helper functions"
      ],
      "metadata": {
        "id": "pgRX57EHMVfl"
      }
    },
    {
      "cell_type": "code",
      "source": [
        "from typing import List, Optional\n",
        "from datetime import datetime, timedelta\n",
        "\n",
        "async def ingest_uri(uri: str, workflow_id: str):\n",
        "    if graphlit.client is None:\n",
        "        return;\n",
        "\n",
        "    try:\n",
        "        # Using synchronous mode, so the notebook waits for the content to be ingested\n",
        "        response = await graphlit.client.ingest_uri(uri=uri, workflow=input_types.EntityReferenceInput(id=workflow_id), is_synchronous=True)\n",
        "\n",
        "        return response.ingest_uri.id if response.ingest_uri is not None else None\n",
        "    except exceptions.GraphQLClientError as e:\n",
        "        print(str(e))\n",
        "        return None\n",
        "\n",
        "async def create_workflow(webhook_uri: str):\n",
        "    if graphlit.client is None:\n",
        "        return;\n",
        "\n",
        "    input = input_types.WorkflowInput(\n",
        "        name=\"Workflow\",\n",
        "        actions=[input_types.WorkflowActionInput(\n",
        "            connector=input_types.IntegrationConnectorInput(\n",
        "                type=enums.IntegrationServiceTypes.WEB_HOOK,\n",
        "                uri=webhook_uri\n",
        "            )\n",
        "        )],\n",
        "    )\n",
        "\n",
        "    try:\n",
        "        response = await graphlit.client.create_workflow(input)\n",
        "\n",
        "        return response.create_workflow.id if response.create_workflow is not None else None\n",
        "    except exceptions.GraphQLClientError as e:\n",
        "        print(str(e))\n",
        "        return None\n",
        "\n",
        "async def delete_all_workflows():\n",
        "    if graphlit.client is None:\n",
        "        return;\n",
        "\n",
        "    _ = await graphlit.client.delete_all_workflows(is_synchronous=True)\n",
        "\n",
        "async def delete_all_contents():\n",
        "    if graphlit.client is None:\n",
        "        return;\n",
        "\n",
        "    _ = await graphlit.client.delete_all_contents(is_synchronous=True)\n"
      ],
      "metadata": {
        "id": "mtwjJsvVOVCh"
      },
      "execution_count": 10,
      "outputs": []
    },
    {
      "cell_type": "markdown",
      "source": [
        "Execute Graphlit example"
      ],
      "metadata": {
        "id": "srzhQt4COLVI"
      }
    },
    {
      "cell_type": "code",
      "source": [
        "from IPython.display import display, Markdown, HTML\n",
        "import time\n",
        "from datetime import datetime\n",
        "\n",
        "# Remove any existing contents and workflows; only needed for notebook example\n",
        "await delete_all_workflows()\n",
        "await delete_all_contents()\n",
        "\n",
        "print('Deleted all contents and workflows.')\n",
        "\n",
        "# NOTE: go to https://webhook.site/, and copy your unique URL\n",
        "webhook_uri = \"https://webhook.site/TODO\"\n",
        "\n",
        "uri = \"https://graphlitplatform.blob.core.windows.net/test/documents/2404.17723v2.pdf\" # FINISHED\n",
        "#uri = \"https://graphlitplatform.blob.core.windows.net/test/documents/bad-document.pdf\" # ERRORED: image saved as .pdf\n",
        "\n",
        "workflow_id = await create_workflow(webhook_uri)\n",
        "\n",
        "if workflow_id is not None:\n",
        "    print(f'Created workflow [{workflow_id}].')\n",
        "\n",
        "    content_id = await ingest_uri(uri, workflow_id)\n",
        "\n",
        "    if content_id is not None:\n",
        "        print(f'Ingested content [{content_id}].')\n"
      ],
      "metadata": {
        "id": "fOb6COcONZIJ",
        "colab": {
          "base_uri": "https://localhost:8080/"
        },
        "outputId": "b9b0e737-f280-4281-f386-0a5bbfbb2618"
      },
      "execution_count": 11,
      "outputs": [
        {
          "output_type": "stream",
          "name": "stdout",
          "text": [
            "Deleted all contents and workflows.\n",
            "Created workflow [1d741fed-38d5-4165-8035-20260e803492].\n",
            "Ingested content [c7e95daf-fd9e-4873-a13d-661595d7e5b4].\n"
          ]
        }
      ]
    },
    {
      "cell_type": "markdown",
      "source": [
        "Will receive this JSON on errored entity event.\n",
        "\n",
        "```\n",
        "{\n",
        "    \"entity\": {\n",
        "        \"contentType\": \"File\",\n",
        "        \"c4id\": \"c42gAzYkp2QxDf5oVEbHSag2VHARYVPRs6Agc3d6sUpY6hwW4KBhBDvhXy93ExFNxykGzHXm5cLiHsjJJKVevfjvQV\",\n",
        "        \"fileType\": \"Document\",\n",
        "        \"mimeType\": \"application/pdf\",\n",
        "        \"format\": \"PDF\",\n",
        "        \"formatName\": \"Adobe Portable Document Format\",\n",
        "        \"fileExtension\": \".pdf\",\n",
        "        \"fileName\": \"bad-document.pdf\",\n",
        "        \"fileSize\": 321215,\n",
        "        \"masterUri\": \"https://graphlit202407156de7e4a2.blob.core.windows.net/files/551d03f8-680f-4a97-8c94-fb62bc55df40/bad-document.pdf\",\n",
        "        \"workflowId\": \"a1c329fc-6568-4028-8276-66e8ccbb70a5\",\n",
        "        \"projectId\": \"6df74633-edfc-4a1e-b49d-a51ed2220caa\",\n",
        "        \"name\": \"bad-document.pdf\",\n",
        "        \"uri\": \"https://graphlitplatform.blob.core.windows.net/test/documents/bad-document.pdf\",\n",
        "        \"error\": \"Failed to handle rendition [https://graphlit202407156de7e4a2.blob.core.windows.net/files/551d03f8-680f-4a97-8c94-fb62bc55df40/bad-document.pdf] metadata indexing.\",\n",
        "        \"modifiedDate\": {\n",
        "            \"date\": \"2025-01-18T04:01:53Z\",\n",
        "            \"epoch\": 1737172913\n",
        "        },\n",
        "        \"startedDate\": {\n",
        "            \"date\": \"2025-01-18T04:01:50Z\",\n",
        "            \"epoch\": 1737172910\n",
        "        },\n",
        "        \"finishedDate\": {\n",
        "            \"date\": \"2025-01-18T04:01:53Z\",\n",
        "            \"epoch\": 1737172913\n",
        "        },\n",
        "        \"id\": \"551d03f8-680f-4a97-8c94-fb62bc55df40\",\n",
        "        \"ownerId\": \"6df74633-edfc-4a1e-b49d-a51ed2220caa\",\n",
        "        \"state\": \"Errored\",\n",
        "        \"creationDate\": {\n",
        "            \"date\": \"2025-01-18T04:01:49Z\",\n",
        "            \"epoch\": 1737172909\n",
        "        },\n",
        "        \"type\": \"Content\"\n",
        "    },\n",
        "    \"eventType\": \"EntityErrored\"\n",
        "}\n",
        "```\n",
        "\n",
        "Will receive this JSON on finished entity event.\n",
        "\n",
        "```\n",
        "{\n",
        "    \"entity\": {\n",
        "        \"contentType\": \"File\",\n",
        "        \"c4id\": \"c421g7w2AWf1xCiP6vRgNU3iCtr65ZqVkT1DdrvC5RuCFK6syEVfrg24E3BKjELkPXKpBTGztervLkbUtegjcv9Gnt\",\n",
        "        \"fileType\": \"Document\",\n",
        "        \"originalDate\": {\n",
        "            \"date\": \"2024-05-07T00:55:08Z\",\n",
        "            \"epoch\": 1715043308\n",
        "        },\n",
        "        \"metadata\": [{\n",
        "                \"name\": \"C4ID\",\n",
        "                \"id\": \"e18af4bb-267e-4d2a-91a9-97fdbe88ffd3\"\n",
        "            }, {\n",
        "                \"name\": \"Document\",\n",
        "                \"id\": \"ace98f3d-7794-4f69-aa59-1dbb64ec89ad\"\n",
        "            }\n",
        "        ],\n",
        "        \"renditions\": [{\n",
        "                \"name\": \"Master\",\n",
        "                \"id\": \"8c3dcf6f-0fa5-4d34-9d98-875909551c9a\"\n",
        "            }, {\n",
        "                \"name\": \"Source\",\n",
        "                \"id\": \"4583b569-3640-4f5b-b5e9-3a4e71d11c82\"\n",
        "            }, {\n",
        "                \"name\": \"Mezzanine\",\n",
        "                \"id\": \"68dec874-0e8b-4213-9032-5776c1a3a149\"\n",
        "            }\n",
        "        ],\n",
        "        \"links\": [{\n",
        "                \"uri\": \"https://orcid.org/0009-0000-5827-7879\",\n",
        "                \"linkType\": \"Web\"\n",
        "            }, {\n",
        "                \"uri\": \"https://orcid.org/0009-0009-4121-6880\",\n",
        "                \"linkType\": \"Web\"\n",
        "            }, {\n",
        "                \"uri\": \"https://orcid.org/0009-0009-1570-3730\",\n",
        "                \"linkType\": \"Web\"\n",
        "            }, {\n",
        "                \"uri\": \"https://orcid.org/0009-0009-5345-1773\",\n",
        "                \"linkType\": \"Web\"\n",
        "            }, {\n",
        "                \"uri\": \"https://orcid.org/0009-0007-5670-2748\",\n",
        "                \"linkType\": \"Web\"\n",
        "            }, {\n",
        "                \"uri\": \"https://orcid.org/0009-0009-5648-4183\",\n",
        "                \"linkType\": \"Web\"\n",
        "            }, {\n",
        "                \"uri\": \"https://orcid.org/0009-0006-6892-3073\",\n",
        "                \"linkType\": \"Web\"\n",
        "            }, {\n",
        "                \"uri\": \"https://doi.org/10.1145/3626772.3661370\",\n",
        "                \"linkType\": \"Web\"\n",
        "            }, {\n",
        "                \"uri\": \"https://www.linkedin.com/company/linkedin/about/\",\n",
        "                \"linkType\": \"LinkedIn\"\n",
        "            }, {\n",
        "                \"uri\": \"https://www.atlassian.com/software/jira\",\n",
        "                \"linkType\": \"Web\"\n",
        "            }, {\n",
        "                \"uri\": \"https://qdrant.tech/\",\n",
        "                \"linkType\": \"Web\"\n",
        "            }, {\n",
        "                \"uri\": \"https://doi.org/10.18653/v1/D18-1455\",\n",
        "                \"linkType\": \"Web\"\n",
        "            }\n",
        "        ],\n",
        "        \"mimeType\": \"application/pdf\",\n",
        "        \"format\": \"PDF\",\n",
        "        \"formatName\": \"Adobe Portable Document Format\",\n",
        "        \"fileExtension\": \".pdf\",\n",
        "        \"fileName\": \"2404.17723v2.pdf\",\n",
        "        \"fileSize\": 794291,\n",
        "        \"masterUri\": \"https://graphlit20250109270424b0.blob.core.windows.net/files/c7e95daf-fd9e-4873-a13d-661595d7e5b4/2404.17723v2.pdf\",\n",
        "        \"mezzanineUri\": \"https://graphlit20250109270424b0.blob.core.windows.net/files/c7e95daf-fd9e-4873-a13d-661595d7e5b4/Mezzanine/2404.17723v2.json\",\n",
        "        \"textUri\": \"https://graphlit20250109270424b0.blob.core.windows.net/files/c7e95daf-fd9e-4873-a13d-661595d7e5b4/Mezzanine/2404.17723v2.json\",\n",
        "        \"document\": {\n",
        "            \"title\": \"Retrieval-Augmented Generation with Knowledge Graphs for Customer Service Question Answering\",\n",
        "            \"subject\": \"-  Computing methodologies  ->  Information extraction.Natural language generation.\",\n",
        "            \"software\": \"pdfTeX, Version 3.141592653-2.6-1.40.25 (TeX Live 2023) kpathsea version 6.3.5\",\n",
        "            \"pageCount\": 5,\n",
        "            \"creationDate\": \"2024-05-07T00:55:08Z\",\n",
        "            \"modifiedDate\": \"2024-05-07T00:55:08Z\"\n",
        "        },\n",
        "        \"workflowId\": \"1d741fed-38d5-4165-8035-20260e803492\",\n",
        "        \"projectId\": \"d1d1a13d-3dba-463d-90bd-e6e78ab97274\",\n",
        "        \"name\": \"2404.17723v2.pdf\",\n",
        "        \"uri\": \"https://graphlitplatform.blob.core.windows.net/test/documents/2404.17723v2.pdf\",\n",
        "        \"modifiedDate\": {\n",
        "            \"date\": \"2025-01-18T04:06:20Z\",\n",
        "            \"epoch\": 1737173180\n",
        "        },\n",
        "        \"startedDate\": {\n",
        "            \"date\": \"2025-01-18T04:06:08Z\",\n",
        "            \"epoch\": 1737173168\n",
        "        },\n",
        "        \"finishedDate\": {\n",
        "            \"date\": \"2025-01-18T04:06:20Z\",\n",
        "            \"epoch\": 1737173180\n",
        "        },\n",
        "        \"workflowDuration\": {\n",
        "            \"time\": \"00:00:12.3250810\",\n",
        "            \"ticks\": 123250810\n",
        "        },\n",
        "        \"id\": \"c7e95daf-fd9e-4873-a13d-661595d7e5b4\",\n",
        "        \"ownerId\": \"d1d1a13d-3dba-463d-90bd-e6e78ab97274\",\n",
        "        \"state\": \"Finished\",\n",
        "        \"creationDate\": {\n",
        "            \"date\": \"2025-01-18T04:06:07Z\",\n",
        "            \"epoch\": 1737173167\n",
        "        },\n",
        "        \"type\": \"Content\"\n",
        "    },\n",
        "    \"eventType\": \"EntityFinished\"\n",
        "}\n",
        "```\n"
      ],
      "metadata": {
        "id": "PcMvgrORlQzL"
      }
    },
    {
      "cell_type": "code",
      "source": [],
      "metadata": {
        "id": "GTPGvbL5mSJD"
      },
      "execution_count": null,
      "outputs": []
    }
  ]
}