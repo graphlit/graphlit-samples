{
  "nbformat": 4,
  "nbformat_minor": 0,
  "metadata": {
    "colab": {
      "provenance": [],
      "mount_file_id": "1cSnEIDnT7SYyUpfap5KiK6Y_LWLQdk6s",
      "authorship_tag": "ABX9TyPPz9Tc4DbZOxxbJdDzEGdk",
      "include_colab_link": true
    },
    "kernelspec": {
      "name": "python3",
      "display_name": "Python 3"
    },
    "language_info": {
      "name": "python"
    }
  },
  "cells": [
    {
      "cell_type": "markdown",
      "metadata": {
        "id": "view-in-github",
        "colab_type": "text"
      },
      "source": [
        "<a href=\"https://colab.research.google.com/github/graphlit/graphlit-samples/blob/main/python/Notebook%20Examples/Graphlit_2024_11_25_SharePoint_to_RAG.ipynb\" target=\"_parent\"><img src=\"https://colab.research.google.com/assets/colab-badge.svg\" alt=\"Open In Colab\"/></a>"
      ]
    },
    {
      "cell_type": "markdown",
      "source": [
        "**Description**\n",
        "\n",
        "This example shows how to ingest files from SharePoint, and then search for relevant results and respond based on user prompt."
      ],
      "metadata": {
        "id": "pDz1gRPjOtn5"
      }
    },
    {
      "cell_type": "markdown",
      "source": [
        "**Requirements**\n",
        "\n",
        "Prior to running this notebook, you will need to [signup](https://docs.graphlit.dev/getting-started/signup) for Graphlit, and [create a project](https://docs.graphlit.dev/getting-started/create-project).\n",
        "\n",
        "You will need the Graphlit organization ID, preview environment ID and JWT secret from your created project.\n",
        "\n",
        "Assign these properties as Colab secrets: GRAPHLIT_ORGANIZATION_ID, GRAPHLIT_ENVIRONMENT_ID and GRAPHLIT_JWT_SECRET.\n",
        "\n",
        "\n",
        "---"
      ],
      "metadata": {
        "id": "laG2MXUIhNnx"
      }
    },
    {
      "cell_type": "markdown",
      "source": [
        "Install Graphlit Python client SDK"
      ],
      "metadata": {
        "id": "NwRzDHWWienC"
      }
    },
    {
      "cell_type": "code",
      "execution_count": null,
      "metadata": {
        "id": "fefizrrh4xGD"
      },
      "outputs": [],
      "source": [
        "!pip install --upgrade graphlit-client"
      ]
    },
    {
      "cell_type": "markdown",
      "source": [
        "Initialize Graphlit"
      ],
      "metadata": {
        "id": "abV1114jL-bR"
      }
    },
    {
      "cell_type": "code",
      "source": [
        "import os\n",
        "from google.colab import userdata\n",
        "from graphlit import Graphlit\n",
        "from graphlit_api import input_types, enums, exceptions\n",
        "\n",
        "os.environ['GRAPHLIT_ORGANIZATION_ID'] = userdata.get('GRAPHLIT_ORGANIZATION_ID')\n",
        "os.environ['GRAPHLIT_ENVIRONMENT_ID'] = userdata.get('GRAPHLIT_ENVIRONMENT_ID')\n",
        "os.environ['GRAPHLIT_JWT_SECRET'] = userdata.get('GRAPHLIT_JWT_SECRET')\n",
        "\n",
        "graphlit = Graphlit()"
      ],
      "metadata": {
        "id": "WoMAWD4LLP_q"
      },
      "execution_count": null,
      "outputs": []
    },
    {
      "cell_type": "markdown",
      "source": [
        "Configure SharePoint user credentials."
      ],
      "metadata": {
        "id": "vT0eKkkhNRbN"
      }
    },
    {
      "cell_type": "code",
      "source": [
        "os.environ['SHAREPOINT_CLIENT_ID'] = userdata.get('SHAREPOINT_CLIENT_ID')\n",
        "os.environ['SHAREPOINT_CLIENT_SECRET'] = userdata.get('SHAREPOINT_CLIENT_SECRET')\n",
        "os.environ['SHAREPOINT_REFRESH_TOKEN'] = userdata.get('SHAREPOINT_REFRESH_TOKEN')"
      ],
      "metadata": {
        "id": "CeOs_PT24dcG"
      },
      "execution_count": null,
      "outputs": []
    },
    {
      "cell_type": "markdown",
      "source": [
        "Define Graphlit helper functions"
      ],
      "metadata": {
        "id": "pgRX57EHMVfl"
      }
    },
    {
      "cell_type": "code",
      "source": [
        "from typing import List, Optional\n",
        "\n",
        "# Create specification for OpenAI GPT-4o Mini\n",
        "async def create_completion_specification(content_limit: Optional[int] = None):\n",
        "    if graphlit.client is None:\n",
        "        return;\n",
        "\n",
        "    input = input_types.SpecificationInput(\n",
        "        name=\"OpenAI GPT-4o\",\n",
        "        type=enums.SpecificationTypes.COMPLETION,\n",
        "        serviceType=enums.ModelServiceTypes.OPEN_AI,\n",
        "        openAI=input_types.OpenAIModelPropertiesInput(\n",
        "            model=enums.OpenAIModels.GPT4O_MINI_128K,\n",
        "        ),\n",
        "        strategy=input_types.ConversationStrategyInput(\n",
        "            embedCitations=True\n",
        "        ),\n",
        "        retrievalStrategy=input_types.RetrievalStrategyInput(\n",
        "            type=enums.RetrievalStrategyTypes.SECTION,\n",
        "            contentLimit=content_limit if content_limit is not None else 5\n",
        "        )\n",
        "    )\n",
        "\n",
        "    try:\n",
        "        response = await graphlit.client.create_specification(input)\n",
        "\n",
        "        return response.create_specification.id if response.create_specification is not None else None\n",
        "    except exceptions.GraphQLClientError as e:\n",
        "        print(str(e))\n",
        "        return None\n",
        "\n",
        "    return None\n",
        "\n",
        "async def query_sharepoint_libraries():\n",
        "    if graphlit.client is None:\n",
        "        return None, None\n",
        "\n",
        "    input = input_types.SharePointLibrariesInput(\n",
        "        authenticationType=enums.SharePointAuthenticationTypes.USER,\n",
        "        clientId=os.environ.get('SHAREPOINT_CLIENT_ID'),\n",
        "        clientSecret=os.environ.get('SHAREPOINT_CLIENT_SECRET'),\n",
        "        refreshToken=os.environ.get('SHAREPOINT_REFRESH_TOKEN')\n",
        "    )\n",
        "\n",
        "    try:\n",
        "        response = await graphlit.client.query_share_point_libraries(input)\n",
        "\n",
        "        return response.share_point_libraries.account_name if response.share_point_libraries is not None else None, response.share_point_libraries.results if response.share_point_libraries is not None else None\n",
        "    except exceptions.GraphQLClientError as e:\n",
        "        print(str(e))\n",
        "        return None, None\n",
        "\n",
        "async def query_sharepoint_folders(library_id: str):\n",
        "    if graphlit.client is None:\n",
        "        return None\n",
        "\n",
        "    input = input_types.SharePointFoldersInput(\n",
        "        authenticationType=enums.SharePointAuthenticationTypes.USER,\n",
        "        clientId=os.environ.get('SHAREPOINT_CLIENT_ID'),\n",
        "        clientSecret=os.environ.get('SHAREPOINT_CLIENT_SECRET'),\n",
        "        refreshToken=os.environ.get('SHAREPOINT_REFRESH_TOKEN')\n",
        "    )\n",
        "\n",
        "    try:\n",
        "        response = await graphlit.client.query_share_point_folders(input, library_id)\n",
        "\n",
        "        return response.share_point_folders.results if response.share_point_folders is not None else None\n",
        "    except exceptions.GraphQLClientError as e:\n",
        "        print(str(e))\n",
        "        return None\n",
        "\n",
        "async def create_feed(library_id: str, folder_id: str, account_name: str, read_limit: int):\n",
        "    if graphlit.client is None:\n",
        "        return;\n",
        "\n",
        "    input = input_types.FeedInput(\n",
        "        name=\"SharePoint\",\n",
        "        type=enums.FeedTypes.SITE,\n",
        "        site=input_types.SiteFeedPropertiesInput(\n",
        "            type=enums.FeedServiceTypes.SHARE_POINT,\n",
        "            sharePoint=input_types.SharePointFeedPropertiesInput(\n",
        "                authenticationType=enums.SharePointAuthenticationTypes.USER,\n",
        "                accountName=account_name,\n",
        "                libraryId=library_id,\n",
        "                folderId=folder_id,\n",
        "                clientId=os.environ.get('SHAREPOINT_CLIENT_ID'),\n",
        "                clientSecret=os.environ.get('SHAREPOINT_CLIENT_SECRET'),\n",
        "                refreshToken=os.environ.get('SHAREPOINT_REFRESH_TOKEN')\n",
        "            ),\n",
        "            readLimit=read_limit\n",
        "        )\n",
        "    )\n",
        "\n",
        "    try:\n",
        "        response = await graphlit.client.create_feed(input)\n",
        "\n",
        "        return response.create_feed.id if response.create_feed is not None else None\n",
        "    except exceptions.GraphQLClientError as e:\n",
        "        print(str(e))\n",
        "        return None\n",
        "\n",
        "    return None\n",
        "\n",
        "async def is_feed_done(feed_id: str):\n",
        "    if graphlit.client is None:\n",
        "        return;\n",
        "\n",
        "    response = await graphlit.client.is_feed_done(feed_id)\n",
        "\n",
        "    return response.is_feed_done.result if response.is_feed_done is not None else None\n",
        "\n",
        "async def create_conversation(specification_id: str, feed_id: str):\n",
        "    if graphlit.client is None:\n",
        "        return;\n",
        "\n",
        "    input = input_types.ConversationInput(\n",
        "        name=\"Conversation\",\n",
        "        specification=input_types.EntityReferenceInput(\n",
        "            id=specification_id\n",
        "        ),\n",
        "        filter=input_types.ContentCriteriaInput(\n",
        "            feeds=[\n",
        "                input_types.EntityReferenceInput(id=feed_id)\n",
        "            ]\n",
        "        )\n",
        "    )\n",
        "\n",
        "    try:\n",
        "        response = await graphlit.client.create_conversation(input)\n",
        "\n",
        "        return response.create_conversation.id if response.create_conversation is not None else None\n",
        "    except exceptions.GraphQLClientError as e:\n",
        "        print(str(e))\n",
        "        return None\n",
        "\n",
        "async def delete_conversation(conversation_id: str):\n",
        "    if graphlit.client is None:\n",
        "        return;\n",
        "\n",
        "    if conversation_id is not None:\n",
        "        _ = await graphlit.client.delete_conversation(conversation_id)\n",
        "\n",
        "async def prompt_conversation(conversation_id: str, prompt: str):\n",
        "    if graphlit.client is None:\n",
        "        return None, None\n",
        "\n",
        "    try:\n",
        "        response = await graphlit.client.prompt_conversation(prompt, conversation_id)\n",
        "\n",
        "        message = response.prompt_conversation.message.message if response.prompt_conversation is not None and response.prompt_conversation.message is not None else None\n",
        "        citations = response.prompt_conversation.message.citations if response.prompt_conversation is not None and response.prompt_conversation.message is not None else None\n",
        "\n",
        "        return message, citations\n",
        "    except exceptions.GraphQLClientError as e:\n",
        "        print(str(e))\n",
        "        return None, None\n",
        "\n",
        "async def delete_all_specifications():\n",
        "    if graphlit.client is None:\n",
        "        return;\n",
        "\n",
        "    _ = await graphlit.client.delete_all_specifications(is_synchronous=True)\n",
        "\n",
        "async def delete_all_conversations():\n",
        "    if graphlit.client is None:\n",
        "        return;\n",
        "\n",
        "    _ = await graphlit.client.delete_all_conversations(is_synchronous=True)\n",
        "\n",
        "async def delete_all_feeds():\n",
        "    if graphlit.client is None:\n",
        "        return;\n",
        "\n",
        "    _ = await graphlit.client.delete_all_feeds(is_synchronous=True)\n"
      ],
      "metadata": {
        "id": "mtwjJsvVOVCh"
      },
      "execution_count": null,
      "outputs": []
    },
    {
      "cell_type": "markdown",
      "source": [
        "Execute Graphlit example"
      ],
      "metadata": {
        "id": "srzhQt4COLVI"
      }
    },
    {
      "cell_type": "code",
      "source": [
        "from IPython.display import display, Markdown, Image\n",
        "import time\n",
        "\n",
        "# Remove any existing specifications, conversations and workflows; only needed for notebook example\n",
        "await delete_all_specifications()\n",
        "await delete_all_conversations()\n",
        "await delete_all_feeds()\n",
        "\n",
        "print('Deleted all specifications, conversations and feeds.')\n",
        "\n",
        "account_name, libraries = await query_sharepoint_libraries()\n",
        "\n",
        "if account_name is not None and libraries is not None:\n",
        "    print(f'Using SharePoint account [{account_name}].')\n",
        "\n",
        "    for library in libraries:\n",
        "        if library is not None:\n",
        "            print(f'Found SharePoint library [{library.library_id}], name [{library.library_name}].')\n",
        "\n",
        "            if library.library_id is not None:\n",
        "                folders = await query_sharepoint_folders(library.library_id)\n",
        "\n",
        "                if folders is not None:\n",
        "                    for folder in folders:\n",
        "                        if folder is not None:\n",
        "                            print(f'Found SharePoint folder [{folder.folder_id}], name [{folder.folder_name}].')\n"
      ],
      "metadata": {
        "id": "fOb6COcONZIJ"
      },
      "execution_count": null,
      "outputs": []
    },
    {
      "cell_type": "code",
      "source": [
        "    read_limit = 25 # how many files to ingest from SharePoint folder\n",
        "\n",
        "    # NOTE: copy the desired library and folder identifiers from above\n",
        "\n",
        "    library_id = input(\"Enter SharePoint library identifier: \")\n",
        "    folder_id = input(\"Enter SharePoint folder identifier: \")\n",
        "\n",
        "    content_limit = 10 # NOTE: Number of ingested files to inject into LLM context window\n",
        "\n",
        "    feed_id = await create_feed(library_id, folder_id, account_name, read_limit)\n",
        "\n",
        "    if feed_id is not None:\n",
        "        print(f'Created feed [{feed_id}].')\n",
        "\n",
        "        # Wait for feed to complete, since ingestion happens asychronously\n",
        "        done = False\n",
        "        time.sleep(5)\n",
        "        while not done:\n",
        "            done = await is_feed_done(feed_id)\n",
        "\n",
        "            if not done:\n",
        "                print('.', end='')\n",
        "                time.sleep(10)\n",
        "\n",
        "        print()\n",
        "        print(f'Completed feed [{feed_id}].')"
      ],
      "metadata": {
        "id": "gxAgxcrxG7yi"
      },
      "execution_count": null,
      "outputs": []
    },
    {
      "cell_type": "code",
      "source": [
        "        specification_id = await create_completion_specification(content_limit)\n",
        "\n",
        "        if specification_id is not None:\n",
        "            print(f'Created specification [{specification_id}].')\n",
        "\n",
        "            conversation_id = await create_conversation(specification_id, feed_id)\n",
        "\n",
        "            if conversation_id is not None:\n",
        "                print(f'Created conversation [{conversation_id}].')\n",
        "\n",
        "                # NOTE: replace with a prompt relevant to your SharePoint files\n",
        "\n",
        "                prompt = \"Explain the value of unstructured data to businesses, in Markdown format\"\n",
        "\n",
        "                message, citations = await prompt_conversation(conversation_id, prompt)\n",
        "\n",
        "                if message is not None:\n",
        "                    display(Markdown('### Conversation:'))\n",
        "                    display(Markdown(f'**User:**\\n{prompt}'))\n",
        "                    display(Markdown(f'**Assistant:**\\n{message}'))\n",
        "                    print()\n",
        "\n",
        "                    if citations is not None:\n",
        "                        for citation in citations:\n",
        "                            if citation is not None and citation.content is not None:\n",
        "                                display(Markdown(f'**Citation [{citation.index}]:** {citation.content.name}'))\n",
        "                                display(Markdown(citation.text))\n",
        "                                print()\n",
        "\n",
        "                await delete_conversation(conversation_id)"
      ],
      "metadata": {
        "id": "TCwVfYrXEDrJ"
      },
      "execution_count": null,
      "outputs": []
    }
  ]
}