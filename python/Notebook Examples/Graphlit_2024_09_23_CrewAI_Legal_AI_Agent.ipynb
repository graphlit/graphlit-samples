{
  "nbformat": 4,
  "nbformat_minor": 0,
  "metadata": {
    "colab": {
      "provenance": [],
      "authorship_tag": "ABX9TyPEGumikrI4McYF2WEBbPRR",
      "include_colab_link": true
    },
    "kernelspec": {
      "name": "python3",
      "display_name": "Python 3"
    },
    "language_info": {
      "name": "python"
    }
  },
  "cells": [
    {
      "cell_type": "markdown",
      "metadata": {
        "id": "view-in-github",
        "colab_type": "text"
      },
      "source": [
        "<a href=\"https://colab.research.google.com/github/graphlit/graphlit-samples/blob/main/python/Notebook%20Examples/Graphlit_2024_09_23_CrewAI_Legal_AI_Agent.ipynb\" target=\"_parent\"><img src=\"https://colab.research.google.com/assets/colab-badge.svg\" alt=\"Open In Colab\"/></a>"
      ]
    },
    {
      "cell_type": "markdown",
      "source": [
        "**Description**\n",
        "\n",
        "This example shows how to use Graphlit with CrewAI. Based on this [great blog post](https://farzzy.hashnode.dev/building-a-legal-ai-agent-using-azure-ai-search-azure-openai-llamaindex-and-crewai) and [notebook](https://github.com/farzad528/azure-ai-search-python-playground/blob/main/azure-ai-search-crewai.ipynb) written by Farzad Sunavala, we emulate Farzad's workflow and show how to use Graphlit instead of LlamaIndex, while already leveraging Azure AI Search under the hood."
      ],
      "metadata": {
        "id": "gvxWpDjVamY1"
      }
    },
    {
      "cell_type": "markdown",
      "source": [
        "**Requirements**\n",
        "\n",
        "Prior to running this notebook, you will need to [signup](https://docs.graphlit.dev/getting-started/signup) for Graphlit, and [create a project](https://docs.graphlit.dev/getting-started/create-project).\n",
        "\n",
        "You will need the Graphlit organization ID, preview environment ID and JWT secret from your created project.\n",
        "\n",
        "Assign these properties as Colab secrets: GRAPHLIT_ORGANIZATION_ID, GRAPHLIT_ENVIRONMENT_ID and GRAPHLIT_JWT_SECRET.\n",
        "\n",
        "For CrewAI, you will need your OpenAI API key.\n",
        "\n",
        "Assign this property as Colab secret: OPENAI_API_KEY.\n",
        "\n",
        "For HuggingFace, you will need a HuggingFace token. To authenticate with the Hugging Face Hub, create a token in your settings tab (https://huggingface.co/settings/tokens)\n",
        "\n",
        "Assign this property as Colab secret: HF_TOKEN.\n",
        "\n",
        "---"
      ],
      "metadata": {
        "id": "6fUPAkNqaNic"
      }
    },
    {
      "cell_type": "code",
      "source": [
        "!pip install --upgrade crewai"
      ],
      "metadata": {
        "id": "mtOGlxwGfjMJ",
        "colab": {
          "base_uri": "https://localhost:8080/"
        },
        "outputId": "52b79e84-3ed9-4326-eec1-1800c5a1ef03"
      },
      "execution_count": null,
      "outputs": [
        {
          "output_type": "stream",
          "name": "stdout",
          "text": [
            "Requirement already satisfied: crewai in /usr/local/lib/python3.10/dist-packages (0.61.0)\n",
            "Requirement already satisfied: appdirs<2.0.0,>=1.4.4 in /usr/local/lib/python3.10/dist-packages (from crewai) (1.4.4)\n",
            "Requirement already satisfied: auth0-python<5.0.0,>=4.7.1 in /usr/local/lib/python3.10/dist-packages (from crewai) (4.7.2)\n",
            "Requirement already satisfied: click<9.0.0,>=8.1.7 in /usr/local/lib/python3.10/dist-packages (from crewai) (8.1.7)\n",
            "Requirement already satisfied: embedchain<0.2.0,>=0.1.114 in /usr/local/lib/python3.10/dist-packages (from crewai) (0.1.121)\n",
            "Requirement already satisfied: instructor==1.3.3 in /usr/local/lib/python3.10/dist-packages (from crewai) (1.3.3)\n",
            "Requirement already satisfied: json-repair<0.26.0,>=0.25.2 in /usr/local/lib/python3.10/dist-packages (from crewai) (0.25.3)\n",
            "Requirement already satisfied: jsonref<2.0.0,>=1.1.0 in /usr/local/lib/python3.10/dist-packages (from crewai) (1.1.0)\n",
            "Requirement already satisfied: langchain<0.3.0,>=0.2.16 in /usr/local/lib/python3.10/dist-packages (from crewai) (0.2.16)\n",
            "Requirement already satisfied: litellm<2.0.0,>=1.44.22 in /usr/local/lib/python3.10/dist-packages (from crewai) (1.47.1)\n",
            "Requirement already satisfied: openai<2.0.0,>=1.13.3 in /usr/local/lib/python3.10/dist-packages (from crewai) (1.47.0)\n",
            "Requirement already satisfied: opentelemetry-api<2.0.0,>=1.22.0 in /usr/local/lib/python3.10/dist-packages (from crewai) (1.27.0)\n",
            "Requirement already satisfied: opentelemetry-exporter-otlp-proto-http<2.0.0,>=1.22.0 in /usr/local/lib/python3.10/dist-packages (from crewai) (1.27.0)\n",
            "Requirement already satisfied: opentelemetry-sdk<2.0.0,>=1.22.0 in /usr/local/lib/python3.10/dist-packages (from crewai) (1.27.0)\n",
            "Requirement already satisfied: poetry<2.0.0,>=1.8.3 in /usr/local/lib/python3.10/dist-packages (from crewai) (1.8.3)\n",
            "Requirement already satisfied: pydantic<3.0.0,>=2.4.2 in /usr/local/lib/python3.10/dist-packages (from crewai) (2.9.2)\n",
            "Requirement already satisfied: python-dotenv<2.0.0,>=1.0.0 in /usr/local/lib/python3.10/dist-packages (from crewai) (1.0.1)\n",
            "Requirement already satisfied: regex<2025.0.0,>=2024.9.11 in /usr/local/lib/python3.10/dist-packages (from crewai) (2024.9.11)\n",
            "Requirement already satisfied: aiohttp<4.0.0,>=3.9.1 in /usr/local/lib/python3.10/dist-packages (from instructor==1.3.3->crewai) (3.10.5)\n",
            "Requirement already satisfied: docstring-parser<0.17,>=0.16 in /usr/local/lib/python3.10/dist-packages (from instructor==1.3.3->crewai) (0.16)\n",
            "Requirement already satisfied: jiter<0.5.0,>=0.4.1 in /usr/local/lib/python3.10/dist-packages (from instructor==1.3.3->crewai) (0.4.2)\n",
            "Requirement already satisfied: pydantic-core<3.0.0,>=2.18.0 in /usr/local/lib/python3.10/dist-packages (from instructor==1.3.3->crewai) (2.23.4)\n",
            "Requirement already satisfied: rich<14.0.0,>=13.7.0 in /usr/local/lib/python3.10/dist-packages (from instructor==1.3.3->crewai) (13.8.1)\n",
            "Requirement already satisfied: tenacity<9.0.0,>=8.2.3 in /usr/local/lib/python3.10/dist-packages (from instructor==1.3.3->crewai) (8.5.0)\n",
            "Requirement already satisfied: typer<1.0.0,>=0.9.0 in /usr/local/lib/python3.10/dist-packages (from instructor==1.3.3->crewai) (0.12.5)\n",
            "Requirement already satisfied: cryptography<44.0.0,>=43.0.1 in /usr/local/lib/python3.10/dist-packages (from auth0-python<5.0.0,>=4.7.1->crewai) (43.0.1)\n",
            "Requirement already satisfied: pyjwt<3.0.0,>=2.8.0 in /usr/local/lib/python3.10/dist-packages (from auth0-python<5.0.0,>=4.7.1->crewai) (2.9.0)\n",
            "Requirement already satisfied: requests<3.0.0,>=2.31.0 in /usr/local/lib/python3.10/dist-packages (from auth0-python<5.0.0,>=4.7.1->crewai) (2.32.3)\n",
            "Requirement already satisfied: urllib3<3.0.0,>=2.0.7 in /usr/local/lib/python3.10/dist-packages (from auth0-python<5.0.0,>=4.7.1->crewai) (2.0.7)\n",
            "Requirement already satisfied: alembic<2.0.0,>=1.13.1 in /usr/local/lib/python3.10/dist-packages (from embedchain<0.2.0,>=0.1.114->crewai) (1.13.2)\n",
            "Requirement already satisfied: beautifulsoup4<5.0.0,>=4.12.2 in /usr/local/lib/python3.10/dist-packages (from embedchain<0.2.0,>=0.1.114->crewai) (4.12.3)\n",
            "Requirement already satisfied: chromadb<0.5.0,>=0.4.24 in /usr/local/lib/python3.10/dist-packages (from embedchain<0.2.0,>=0.1.114->crewai) (0.4.24)\n",
            "Requirement already satisfied: cohere<6.0,>=5.3 in /usr/local/lib/python3.10/dist-packages (from embedchain<0.2.0,>=0.1.114->crewai) (5.9.4)\n",
            "Requirement already satisfied: google-cloud-aiplatform<2.0.0,>=1.26.1 in /usr/local/lib/python3.10/dist-packages (from embedchain<0.2.0,>=0.1.114->crewai) (1.67.0)\n",
            "Requirement already satisfied: gptcache<0.2.0,>=0.1.43 in /usr/local/lib/python3.10/dist-packages (from embedchain<0.2.0,>=0.1.114->crewai) (0.1.44)\n",
            "Requirement already satisfied: langchain-cohere<0.2.0,>=0.1.4 in /usr/local/lib/python3.10/dist-packages (from embedchain<0.2.0,>=0.1.114->crewai) (0.1.9)\n",
            "Requirement already satisfied: langchain-community<0.3.0,>=0.2.6 in /usr/local/lib/python3.10/dist-packages (from embedchain<0.2.0,>=0.1.114->crewai) (0.2.17)\n",
            "Requirement already satisfied: langchain-openai<0.2.0,>=0.1.7 in /usr/local/lib/python3.10/dist-packages (from embedchain<0.2.0,>=0.1.114->crewai) (0.1.25)\n",
            "Requirement already satisfied: mem0ai<0.0.21,>=0.0.20 in /usr/local/lib/python3.10/dist-packages (from embedchain<0.2.0,>=0.1.114->crewai) (0.0.20)\n",
            "Requirement already satisfied: posthog<4.0.0,>=3.0.2 in /usr/local/lib/python3.10/dist-packages (from embedchain<0.2.0,>=0.1.114->crewai) (3.6.6)\n",
            "Requirement already satisfied: pypdf<5.0.0,>=4.0.1 in /usr/local/lib/python3.10/dist-packages (from embedchain<0.2.0,>=0.1.114->crewai) (4.3.1)\n",
            "Requirement already satisfied: pysbd<0.4.0,>=0.3.4 in /usr/local/lib/python3.10/dist-packages (from embedchain<0.2.0,>=0.1.114->crewai) (0.3.4)\n",
            "Requirement already satisfied: schema<0.8.0,>=0.7.5 in /usr/local/lib/python3.10/dist-packages (from embedchain<0.2.0,>=0.1.114->crewai) (0.7.7)\n",
            "Requirement already satisfied: sqlalchemy<3.0.0,>=2.0.27 in /usr/local/lib/python3.10/dist-packages (from embedchain<0.2.0,>=0.1.114->crewai) (2.0.35)\n",
            "Requirement already satisfied: tiktoken<0.8.0,>=0.7.0 in /usr/local/lib/python3.10/dist-packages (from embedchain<0.2.0,>=0.1.114->crewai) (0.7.0)\n",
            "Requirement already satisfied: PyYAML>=5.3 in /usr/local/lib/python3.10/dist-packages (from langchain<0.3.0,>=0.2.16->crewai) (6.0.2)\n",
            "Requirement already satisfied: async-timeout<5.0.0,>=4.0.0 in /usr/local/lib/python3.10/dist-packages (from langchain<0.3.0,>=0.2.16->crewai) (4.0.3)\n",
            "Requirement already satisfied: langchain-core<0.3.0,>=0.2.38 in /usr/local/lib/python3.10/dist-packages (from langchain<0.3.0,>=0.2.16->crewai) (0.2.41)\n",
            "Requirement already satisfied: langchain-text-splitters<0.3.0,>=0.2.0 in /usr/local/lib/python3.10/dist-packages (from langchain<0.3.0,>=0.2.16->crewai) (0.2.4)\n",
            "Requirement already satisfied: langsmith<0.2.0,>=0.1.17 in /usr/local/lib/python3.10/dist-packages (from langchain<0.3.0,>=0.2.16->crewai) (0.1.125)\n",
            "Requirement already satisfied: numpy<2,>=1 in /usr/local/lib/python3.10/dist-packages (from langchain<0.3.0,>=0.2.16->crewai) (1.26.4)\n",
            "Requirement already satisfied: importlib-metadata>=6.8.0 in /usr/local/lib/python3.10/dist-packages (from litellm<2.0.0,>=1.44.22->crewai) (8.4.0)\n",
            "Requirement already satisfied: jinja2<4.0.0,>=3.1.2 in /usr/local/lib/python3.10/dist-packages (from litellm<2.0.0,>=1.44.22->crewai) (3.1.4)\n",
            "Requirement already satisfied: jsonschema<5.0.0,>=4.22.0 in /usr/local/lib/python3.10/dist-packages (from litellm<2.0.0,>=1.44.22->crewai) (4.23.0)\n",
            "Requirement already satisfied: tokenizers in /usr/local/lib/python3.10/dist-packages (from litellm<2.0.0,>=1.44.22->crewai) (0.19.1)\n",
            "Requirement already satisfied: anyio<5,>=3.5.0 in /usr/local/lib/python3.10/dist-packages (from openai<2.0.0,>=1.13.3->crewai) (3.7.1)\n",
            "Requirement already satisfied: distro<2,>=1.7.0 in /usr/lib/python3/dist-packages (from openai<2.0.0,>=1.13.3->crewai) (1.7.0)\n",
            "Requirement already satisfied: httpx<1,>=0.23.0 in /usr/local/lib/python3.10/dist-packages (from openai<2.0.0,>=1.13.3->crewai) (0.27.2)\n",
            "Requirement already satisfied: sniffio in /usr/local/lib/python3.10/dist-packages (from openai<2.0.0,>=1.13.3->crewai) (1.3.1)\n",
            "Requirement already satisfied: tqdm>4 in /usr/local/lib/python3.10/dist-packages (from openai<2.0.0,>=1.13.3->crewai) (4.66.5)\n",
            "Requirement already satisfied: typing-extensions<5,>=4.11 in /usr/local/lib/python3.10/dist-packages (from openai<2.0.0,>=1.13.3->crewai) (4.12.2)\n",
            "Requirement already satisfied: deprecated>=1.2.6 in /usr/local/lib/python3.10/dist-packages (from opentelemetry-api<2.0.0,>=1.22.0->crewai) (1.2.14)\n",
            "Requirement already satisfied: googleapis-common-protos~=1.52 in /usr/local/lib/python3.10/dist-packages (from opentelemetry-exporter-otlp-proto-http<2.0.0,>=1.22.0->crewai) (1.65.0)\n",
            "Requirement already satisfied: opentelemetry-exporter-otlp-proto-common==1.27.0 in /usr/local/lib/python3.10/dist-packages (from opentelemetry-exporter-otlp-proto-http<2.0.0,>=1.22.0->crewai) (1.27.0)\n",
            "Requirement already satisfied: opentelemetry-proto==1.27.0 in /usr/local/lib/python3.10/dist-packages (from opentelemetry-exporter-otlp-proto-http<2.0.0,>=1.22.0->crewai) (1.27.0)\n",
            "Requirement already satisfied: protobuf<5.0,>=3.19 in /usr/local/lib/python3.10/dist-packages (from opentelemetry-proto==1.27.0->opentelemetry-exporter-otlp-proto-http<2.0.0,>=1.22.0->crewai) (4.25.5)\n",
            "Requirement already satisfied: opentelemetry-semantic-conventions==0.48b0 in /usr/local/lib/python3.10/dist-packages (from opentelemetry-sdk<2.0.0,>=1.22.0->crewai) (0.48b0)\n",
            "Requirement already satisfied: build<2.0.0,>=1.0.3 in /usr/local/lib/python3.10/dist-packages (from poetry<2.0.0,>=1.8.3->crewai) (1.2.2)\n",
            "Requirement already satisfied: cachecontrol<0.15.0,>=0.14.0 in /usr/local/lib/python3.10/dist-packages (from cachecontrol[filecache]<0.15.0,>=0.14.0->poetry<2.0.0,>=1.8.3->crewai) (0.14.0)\n",
            "Requirement already satisfied: cleo<3.0.0,>=2.1.0 in /usr/local/lib/python3.10/dist-packages (from poetry<2.0.0,>=1.8.3->crewai) (2.1.0)\n",
            "Requirement already satisfied: crashtest<0.5.0,>=0.4.1 in /usr/local/lib/python3.10/dist-packages (from poetry<2.0.0,>=1.8.3->crewai) (0.4.1)\n",
            "Requirement already satisfied: dulwich<0.22.0,>=0.21.2 in /usr/local/lib/python3.10/dist-packages (from poetry<2.0.0,>=1.8.3->crewai) (0.21.7)\n",
            "Requirement already satisfied: fastjsonschema<3.0.0,>=2.18.0 in /usr/local/lib/python3.10/dist-packages (from poetry<2.0.0,>=1.8.3->crewai) (2.20.0)\n",
            "Requirement already satisfied: installer<0.8.0,>=0.7.0 in /usr/local/lib/python3.10/dist-packages (from poetry<2.0.0,>=1.8.3->crewai) (0.7.0)\n",
            "Requirement already satisfied: keyring<25.0.0,>=24.0.0 in /usr/local/lib/python3.10/dist-packages (from poetry<2.0.0,>=1.8.3->crewai) (24.3.1)\n",
            "Requirement already satisfied: packaging>=23.1 in /usr/local/lib/python3.10/dist-packages (from poetry<2.0.0,>=1.8.3->crewai) (24.1)\n",
            "Requirement already satisfied: pexpect<5.0.0,>=4.7.0 in /usr/local/lib/python3.10/dist-packages (from poetry<2.0.0,>=1.8.3->crewai) (4.9.0)\n",
            "Requirement already satisfied: pkginfo<2.0,>=1.10 in /usr/local/lib/python3.10/dist-packages (from poetry<2.0.0,>=1.8.3->crewai) (1.11.1)\n",
            "Requirement already satisfied: platformdirs<5,>=3.0.0 in /usr/local/lib/python3.10/dist-packages (from poetry<2.0.0,>=1.8.3->crewai) (4.3.6)\n",
            "Requirement already satisfied: poetry-core==1.9.0 in /usr/local/lib/python3.10/dist-packages (from poetry<2.0.0,>=1.8.3->crewai) (1.9.0)\n",
            "Requirement already satisfied: poetry-plugin-export<2.0.0,>=1.6.0 in /usr/local/lib/python3.10/dist-packages (from poetry<2.0.0,>=1.8.3->crewai) (1.8.0)\n",
            "Requirement already satisfied: pyproject-hooks<2.0.0,>=1.0.0 in /usr/local/lib/python3.10/dist-packages (from poetry<2.0.0,>=1.8.3->crewai) (1.1.0)\n",
            "Requirement already satisfied: requests-toolbelt<2.0.0,>=1.0.0 in /usr/local/lib/python3.10/dist-packages (from poetry<2.0.0,>=1.8.3->crewai) (1.0.0)\n",
            "Requirement already satisfied: shellingham<2.0,>=1.5 in /usr/local/lib/python3.10/dist-packages (from poetry<2.0.0,>=1.8.3->crewai) (1.5.4)\n",
            "Requirement already satisfied: tomli<3.0.0,>=2.0.1 in /usr/local/lib/python3.10/dist-packages (from poetry<2.0.0,>=1.8.3->crewai) (2.0.1)\n",
            "Requirement already satisfied: tomlkit<1.0.0,>=0.11.4 in /usr/local/lib/python3.10/dist-packages (from poetry<2.0.0,>=1.8.3->crewai) (0.13.2)\n",
            "Requirement already satisfied: trove-classifiers>=2022.5.19 in /usr/local/lib/python3.10/dist-packages (from poetry<2.0.0,>=1.8.3->crewai) (2024.9.12)\n",
            "Requirement already satisfied: virtualenv<21.0.0,>=20.23.0 in /usr/local/lib/python3.10/dist-packages (from poetry<2.0.0,>=1.8.3->crewai) (20.26.5)\n",
            "Requirement already satisfied: annotated-types>=0.6.0 in /usr/local/lib/python3.10/dist-packages (from pydantic<3.0.0,>=2.4.2->crewai) (0.7.0)\n",
            "Requirement already satisfied: aiohappyeyeballs>=2.3.0 in /usr/local/lib/python3.10/dist-packages (from aiohttp<4.0.0,>=3.9.1->instructor==1.3.3->crewai) (2.4.0)\n",
            "Requirement already satisfied: aiosignal>=1.1.2 in /usr/local/lib/python3.10/dist-packages (from aiohttp<4.0.0,>=3.9.1->instructor==1.3.3->crewai) (1.3.1)\n",
            "Requirement already satisfied: attrs>=17.3.0 in /usr/local/lib/python3.10/dist-packages (from aiohttp<4.0.0,>=3.9.1->instructor==1.3.3->crewai) (24.2.0)\n",
            "Requirement already satisfied: frozenlist>=1.1.1 in /usr/local/lib/python3.10/dist-packages (from aiohttp<4.0.0,>=3.9.1->instructor==1.3.3->crewai) (1.4.1)\n",
            "Requirement already satisfied: multidict<7.0,>=4.5 in /usr/local/lib/python3.10/dist-packages (from aiohttp<4.0.0,>=3.9.1->instructor==1.3.3->crewai) (6.1.0)\n",
            "Requirement already satisfied: yarl<2.0,>=1.0 in /usr/local/lib/python3.10/dist-packages (from aiohttp<4.0.0,>=3.9.1->instructor==1.3.3->crewai) (1.11.1)\n",
            "Requirement already satisfied: Mako in /usr/local/lib/python3.10/dist-packages (from alembic<2.0.0,>=1.13.1->embedchain<0.2.0,>=0.1.114->crewai) (1.3.5)\n",
            "Requirement already satisfied: idna>=2.8 in /usr/local/lib/python3.10/dist-packages (from anyio<5,>=3.5.0->openai<2.0.0,>=1.13.3->crewai) (3.10)\n",
            "Requirement already satisfied: exceptiongroup in /usr/local/lib/python3.10/dist-packages (from anyio<5,>=3.5.0->openai<2.0.0,>=1.13.3->crewai) (1.2.2)\n",
            "Requirement already satisfied: soupsieve>1.2 in /usr/local/lib/python3.10/dist-packages (from beautifulsoup4<5.0.0,>=4.12.2->embedchain<0.2.0,>=0.1.114->crewai) (2.6)\n",
            "Requirement already satisfied: msgpack<2.0.0,>=0.5.2 in /usr/local/lib/python3.10/dist-packages (from cachecontrol<0.15.0,>=0.14.0->cachecontrol[filecache]<0.15.0,>=0.14.0->poetry<2.0.0,>=1.8.3->crewai) (1.0.8)\n",
            "Requirement already satisfied: filelock>=3.8.0 in /usr/local/lib/python3.10/dist-packages (from cachecontrol[filecache]<0.15.0,>=0.14.0->poetry<2.0.0,>=1.8.3->crewai) (3.16.1)\n",
            "Requirement already satisfied: chroma-hnswlib==0.7.3 in /usr/local/lib/python3.10/dist-packages (from chromadb<0.5.0,>=0.4.24->embedchain<0.2.0,>=0.1.114->crewai) (0.7.3)\n",
            "Requirement already satisfied: fastapi>=0.95.2 in /usr/local/lib/python3.10/dist-packages (from chromadb<0.5.0,>=0.4.24->embedchain<0.2.0,>=0.1.114->crewai) (0.115.0)\n",
            "Requirement already satisfied: uvicorn>=0.18.3 in /usr/local/lib/python3.10/dist-packages (from uvicorn[standard]>=0.18.3->chromadb<0.5.0,>=0.4.24->embedchain<0.2.0,>=0.1.114->crewai) (0.30.6)\n",
            "Requirement already satisfied: pulsar-client>=3.1.0 in /usr/local/lib/python3.10/dist-packages (from chromadb<0.5.0,>=0.4.24->embedchain<0.2.0,>=0.1.114->crewai) (3.5.0)\n",
            "Requirement already satisfied: onnxruntime>=1.14.1 in /usr/local/lib/python3.10/dist-packages (from chromadb<0.5.0,>=0.4.24->embedchain<0.2.0,>=0.1.114->crewai) (1.19.2)\n",
            "Requirement already satisfied: opentelemetry-exporter-otlp-proto-grpc>=1.2.0 in /usr/local/lib/python3.10/dist-packages (from chromadb<0.5.0,>=0.4.24->embedchain<0.2.0,>=0.1.114->crewai) (1.27.0)\n",
            "Requirement already satisfied: opentelemetry-instrumentation-fastapi>=0.41b0 in /usr/local/lib/python3.10/dist-packages (from chromadb<0.5.0,>=0.4.24->embedchain<0.2.0,>=0.1.114->crewai) (0.48b0)\n",
            "Requirement already satisfied: pypika>=0.48.9 in /usr/local/lib/python3.10/dist-packages (from chromadb<0.5.0,>=0.4.24->embedchain<0.2.0,>=0.1.114->crewai) (0.48.9)\n",
            "Requirement already satisfied: overrides>=7.3.1 in /usr/local/lib/python3.10/dist-packages (from chromadb<0.5.0,>=0.4.24->embedchain<0.2.0,>=0.1.114->crewai) (7.7.0)\n",
            "Requirement already satisfied: importlib-resources in /usr/local/lib/python3.10/dist-packages (from chromadb<0.5.0,>=0.4.24->embedchain<0.2.0,>=0.1.114->crewai) (6.4.5)\n",
            "Requirement already satisfied: grpcio>=1.58.0 in /usr/local/lib/python3.10/dist-packages (from chromadb<0.5.0,>=0.4.24->embedchain<0.2.0,>=0.1.114->crewai) (1.64.1)\n",
            "Requirement already satisfied: bcrypt>=4.0.1 in /usr/local/lib/python3.10/dist-packages (from chromadb<0.5.0,>=0.4.24->embedchain<0.2.0,>=0.1.114->crewai) (4.2.0)\n",
            "Requirement already satisfied: kubernetes>=28.1.0 in /usr/local/lib/python3.10/dist-packages (from chromadb<0.5.0,>=0.4.24->embedchain<0.2.0,>=0.1.114->crewai) (31.0.0)\n",
            "Requirement already satisfied: mmh3>=4.0.1 in /usr/local/lib/python3.10/dist-packages (from chromadb<0.5.0,>=0.4.24->embedchain<0.2.0,>=0.1.114->crewai) (5.0.0)\n",
            "Requirement already satisfied: orjson>=3.9.12 in /usr/local/lib/python3.10/dist-packages (from chromadb<0.5.0,>=0.4.24->embedchain<0.2.0,>=0.1.114->crewai) (3.10.7)\n",
            "Requirement already satisfied: rapidfuzz<4.0.0,>=3.0.0 in /usr/local/lib/python3.10/dist-packages (from cleo<3.0.0,>=2.1.0->poetry<2.0.0,>=1.8.3->crewai) (3.9.7)\n",
            "Requirement already satisfied: boto3<2.0.0,>=1.34.0 in /usr/local/lib/python3.10/dist-packages (from cohere<6.0,>=5.3->embedchain<0.2.0,>=0.1.114->crewai) (1.35.24)\n",
            "Requirement already satisfied: fastavro<2.0.0,>=1.9.4 in /usr/local/lib/python3.10/dist-packages (from cohere<6.0,>=5.3->embedchain<0.2.0,>=0.1.114->crewai) (1.9.7)\n",
            "Requirement already satisfied: httpx-sse==0.4.0 in /usr/local/lib/python3.10/dist-packages (from cohere<6.0,>=5.3->embedchain<0.2.0,>=0.1.114->crewai) (0.4.0)\n",
            "Requirement already satisfied: parameterized<0.10.0,>=0.9.0 in /usr/local/lib/python3.10/dist-packages (from cohere<6.0,>=5.3->embedchain<0.2.0,>=0.1.114->crewai) (0.9.0)\n",
            "Requirement already satisfied: types-requests<3.0.0,>=2.0.0 in /usr/local/lib/python3.10/dist-packages (from cohere<6.0,>=5.3->embedchain<0.2.0,>=0.1.114->crewai) (2.32.0.20240914)\n",
            "Requirement already satisfied: cffi>=1.12 in /usr/local/lib/python3.10/dist-packages (from cryptography<44.0.0,>=43.0.1->auth0-python<5.0.0,>=4.7.1->crewai) (1.17.1)\n",
            "Requirement already satisfied: wrapt<2,>=1.10 in /usr/local/lib/python3.10/dist-packages (from deprecated>=1.2.6->opentelemetry-api<2.0.0,>=1.22.0->crewai) (1.16.0)\n",
            "Requirement already satisfied: google-api-core!=2.0.*,!=2.1.*,!=2.2.*,!=2.3.*,!=2.4.*,!=2.5.*,!=2.6.*,!=2.7.*,<3.0.0dev,>=1.34.1 in /usr/local/lib/python3.10/dist-packages (from google-api-core[grpc]!=2.0.*,!=2.1.*,!=2.2.*,!=2.3.*,!=2.4.*,!=2.5.*,!=2.6.*,!=2.7.*,<3.0.0dev,>=1.34.1->google-cloud-aiplatform<2.0.0,>=1.26.1->embedchain<0.2.0,>=0.1.114->crewai) (2.19.2)\n",
            "Requirement already satisfied: google-auth<3.0.0dev,>=2.14.1 in /usr/local/lib/python3.10/dist-packages (from google-cloud-aiplatform<2.0.0,>=1.26.1->embedchain<0.2.0,>=0.1.114->crewai) (2.27.0)\n",
            "Requirement already satisfied: proto-plus<2.0.0dev,>=1.22.3 in /usr/local/lib/python3.10/dist-packages (from google-cloud-aiplatform<2.0.0,>=1.26.1->embedchain<0.2.0,>=0.1.114->crewai) (1.24.0)\n",
            "Requirement already satisfied: google-cloud-storage<3.0.0dev,>=1.32.0 in /usr/local/lib/python3.10/dist-packages (from google-cloud-aiplatform<2.0.0,>=1.26.1->embedchain<0.2.0,>=0.1.114->crewai) (2.8.0)\n",
            "Requirement already satisfied: google-cloud-bigquery!=3.20.0,<4.0.0dev,>=1.15.0 in /usr/local/lib/python3.10/dist-packages (from google-cloud-aiplatform<2.0.0,>=1.26.1->embedchain<0.2.0,>=0.1.114->crewai) (3.25.0)\n",
            "Requirement already satisfied: google-cloud-resource-manager<3.0.0dev,>=1.3.3 in /usr/local/lib/python3.10/dist-packages (from google-cloud-aiplatform<2.0.0,>=1.26.1->embedchain<0.2.0,>=0.1.114->crewai) (1.12.5)\n",
            "Requirement already satisfied: shapely<3.0.0dev in /usr/local/lib/python3.10/dist-packages (from google-cloud-aiplatform<2.0.0,>=1.26.1->embedchain<0.2.0,>=0.1.114->crewai) (2.0.6)\n",
            "Requirement already satisfied: cachetools in /usr/local/lib/python3.10/dist-packages (from gptcache<0.2.0,>=0.1.43->embedchain<0.2.0,>=0.1.114->crewai) (5.5.0)\n",
            "Requirement already satisfied: certifi in /usr/local/lib/python3.10/dist-packages (from httpx<1,>=0.23.0->openai<2.0.0,>=1.13.3->crewai) (2024.8.30)\n",
            "Requirement already satisfied: httpcore==1.* in /usr/local/lib/python3.10/dist-packages (from httpx<1,>=0.23.0->openai<2.0.0,>=1.13.3->crewai) (1.0.5)\n",
            "Requirement already satisfied: h11<0.15,>=0.13 in /usr/local/lib/python3.10/dist-packages (from httpcore==1.*->httpx<1,>=0.23.0->openai<2.0.0,>=1.13.3->crewai) (0.14.0)\n",
            "Requirement already satisfied: zipp>=0.5 in /usr/local/lib/python3.10/dist-packages (from importlib-metadata>=6.8.0->litellm<2.0.0,>=1.44.22->crewai) (3.20.2)\n",
            "Requirement already satisfied: MarkupSafe>=2.0 in /usr/local/lib/python3.10/dist-packages (from jinja2<4.0.0,>=3.1.2->litellm<2.0.0,>=1.44.22->crewai) (2.1.5)\n",
            "Requirement already satisfied: jsonschema-specifications>=2023.03.6 in /usr/local/lib/python3.10/dist-packages (from jsonschema<5.0.0,>=4.22.0->litellm<2.0.0,>=1.44.22->crewai) (2023.12.1)\n",
            "Requirement already satisfied: referencing>=0.28.4 in /usr/local/lib/python3.10/dist-packages (from jsonschema<5.0.0,>=4.22.0->litellm<2.0.0,>=1.44.22->crewai) (0.35.1)\n",
            "Requirement already satisfied: rpds-py>=0.7.1 in /usr/local/lib/python3.10/dist-packages (from jsonschema<5.0.0,>=4.22.0->litellm<2.0.0,>=1.44.22->crewai) (0.20.0)\n",
            "Requirement already satisfied: jaraco.classes in /usr/local/lib/python3.10/dist-packages (from keyring<25.0.0,>=24.0.0->poetry<2.0.0,>=1.8.3->crewai) (3.4.0)\n",
            "Requirement already satisfied: SecretStorage>=3.2 in /usr/lib/python3/dist-packages (from keyring<25.0.0,>=24.0.0->poetry<2.0.0,>=1.8.3->crewai) (3.3.1)\n",
            "Requirement already satisfied: jeepney>=0.4.2 in /usr/lib/python3/dist-packages (from keyring<25.0.0,>=24.0.0->poetry<2.0.0,>=1.8.3->crewai) (0.7.1)\n",
            "Requirement already satisfied: langchain-experimental>=0.0.6 in /usr/local/lib/python3.10/dist-packages (from langchain-cohere<0.2.0,>=0.1.4->embedchain<0.2.0,>=0.1.114->crewai) (0.0.65)\n",
            "Requirement already satisfied: pandas>=1.4.3 in /usr/local/lib/python3.10/dist-packages (from langchain-cohere<0.2.0,>=0.1.4->embedchain<0.2.0,>=0.1.114->crewai) (2.1.4)\n",
            "Requirement already satisfied: tabulate<0.10.0,>=0.9.0 in /usr/local/lib/python3.10/dist-packages (from langchain-cohere<0.2.0,>=0.1.4->embedchain<0.2.0,>=0.1.114->crewai) (0.9.0)\n",
            "Requirement already satisfied: dataclasses-json<0.7,>=0.5.7 in /usr/local/lib/python3.10/dist-packages (from langchain-community<0.3.0,>=0.2.6->embedchain<0.2.0,>=0.1.114->crewai) (0.6.7)\n",
            "Requirement already satisfied: jsonpatch<2.0,>=1.33 in /usr/local/lib/python3.10/dist-packages (from langchain-core<0.3.0,>=0.2.38->langchain<0.3.0,>=0.2.16->crewai) (1.33)\n",
            "Requirement already satisfied: pytz<2025.0,>=2024.1 in /usr/local/lib/python3.10/dist-packages (from mem0ai<0.0.21,>=0.0.20->embedchain<0.2.0,>=0.1.114->crewai) (2024.2)\n",
            "Requirement already satisfied: qdrant-client<2.0.0,>=1.9.1 in /usr/local/lib/python3.10/dist-packages (from mem0ai<0.0.21,>=0.0.20->embedchain<0.2.0,>=0.1.114->crewai) (1.11.2)\n",
            "Requirement already satisfied: ptyprocess>=0.5 in /usr/local/lib/python3.10/dist-packages (from pexpect<5.0.0,>=4.7.0->poetry<2.0.0,>=1.8.3->crewai) (0.7.0)\n",
            "Requirement already satisfied: six>=1.5 in /usr/local/lib/python3.10/dist-packages (from posthog<4.0.0,>=3.0.2->embedchain<0.2.0,>=0.1.114->crewai) (1.16.0)\n",
            "Requirement already satisfied: monotonic>=1.5 in /usr/local/lib/python3.10/dist-packages (from posthog<4.0.0,>=3.0.2->embedchain<0.2.0,>=0.1.114->crewai) (1.6)\n",
            "Requirement already satisfied: backoff>=1.10.0 in /usr/local/lib/python3.10/dist-packages (from posthog<4.0.0,>=3.0.2->embedchain<0.2.0,>=0.1.114->crewai) (2.2.1)\n",
            "Requirement already satisfied: python-dateutil>2.1 in /usr/local/lib/python3.10/dist-packages (from posthog<4.0.0,>=3.0.2->embedchain<0.2.0,>=0.1.114->crewai) (2.8.2)\n",
            "Requirement already satisfied: charset-normalizer<4,>=2 in /usr/local/lib/python3.10/dist-packages (from requests<3.0.0,>=2.31.0->auth0-python<5.0.0,>=4.7.1->crewai) (3.3.2)\n",
            "Requirement already satisfied: markdown-it-py>=2.2.0 in /usr/local/lib/python3.10/dist-packages (from rich<14.0.0,>=13.7.0->instructor==1.3.3->crewai) (3.0.0)\n",
            "Requirement already satisfied: pygments<3.0.0,>=2.13.0 in /usr/local/lib/python3.10/dist-packages (from rich<14.0.0,>=13.7.0->instructor==1.3.3->crewai) (2.18.0)\n",
            "Requirement already satisfied: greenlet!=0.4.17 in /usr/local/lib/python3.10/dist-packages (from sqlalchemy<3.0.0,>=2.0.27->embedchain<0.2.0,>=0.1.114->crewai) (3.1.0)\n",
            "Requirement already satisfied: huggingface-hub<1.0,>=0.16.4 in /usr/local/lib/python3.10/dist-packages (from tokenizers->litellm<2.0.0,>=1.44.22->crewai) (0.24.7)\n",
            "Requirement already satisfied: distlib<1,>=0.3.7 in /usr/local/lib/python3.10/dist-packages (from virtualenv<21.0.0,>=20.23.0->poetry<2.0.0,>=1.8.3->crewai) (0.3.8)\n",
            "Requirement already satisfied: botocore<1.36.0,>=1.35.24 in /usr/local/lib/python3.10/dist-packages (from boto3<2.0.0,>=1.34.0->cohere<6.0,>=5.3->embedchain<0.2.0,>=0.1.114->crewai) (1.35.24)\n",
            "Requirement already satisfied: jmespath<2.0.0,>=0.7.1 in /usr/local/lib/python3.10/dist-packages (from boto3<2.0.0,>=1.34.0->cohere<6.0,>=5.3->embedchain<0.2.0,>=0.1.114->crewai) (1.0.1)\n",
            "Requirement already satisfied: s3transfer<0.11.0,>=0.10.0 in /usr/local/lib/python3.10/dist-packages (from boto3<2.0.0,>=1.34.0->cohere<6.0,>=5.3->embedchain<0.2.0,>=0.1.114->crewai) (0.10.2)\n",
            "Requirement already satisfied: pycparser in /usr/local/lib/python3.10/dist-packages (from cffi>=1.12->cryptography<44.0.0,>=43.0.1->auth0-python<5.0.0,>=4.7.1->crewai) (2.22)\n",
            "Requirement already satisfied: marshmallow<4.0.0,>=3.18.0 in /usr/local/lib/python3.10/dist-packages (from dataclasses-json<0.7,>=0.5.7->langchain-community<0.3.0,>=0.2.6->embedchain<0.2.0,>=0.1.114->crewai) (3.22.0)\n",
            "Requirement already satisfied: typing-inspect<1,>=0.4.0 in /usr/local/lib/python3.10/dist-packages (from dataclasses-json<0.7,>=0.5.7->langchain-community<0.3.0,>=0.2.6->embedchain<0.2.0,>=0.1.114->crewai) (0.9.0)\n",
            "Requirement already satisfied: starlette<0.39.0,>=0.37.2 in /usr/local/lib/python3.10/dist-packages (from fastapi>=0.95.2->chromadb<0.5.0,>=0.4.24->embedchain<0.2.0,>=0.1.114->crewai) (0.38.5)\n",
            "Requirement already satisfied: grpcio-status<2.0.dev0,>=1.33.2 in /usr/local/lib/python3.10/dist-packages (from google-api-core[grpc]!=2.0.*,!=2.1.*,!=2.2.*,!=2.3.*,!=2.4.*,!=2.5.*,!=2.6.*,!=2.7.*,<3.0.0dev,>=1.34.1->google-cloud-aiplatform<2.0.0,>=1.26.1->embedchain<0.2.0,>=0.1.114->crewai) (1.48.2)\n",
            "Requirement already satisfied: pyasn1-modules>=0.2.1 in /usr/local/lib/python3.10/dist-packages (from google-auth<3.0.0dev,>=2.14.1->google-cloud-aiplatform<2.0.0,>=1.26.1->embedchain<0.2.0,>=0.1.114->crewai) (0.4.1)\n",
            "Requirement already satisfied: rsa<5,>=3.1.4 in /usr/local/lib/python3.10/dist-packages (from google-auth<3.0.0dev,>=2.14.1->google-cloud-aiplatform<2.0.0,>=1.26.1->embedchain<0.2.0,>=0.1.114->crewai) (4.9)\n",
            "Requirement already satisfied: google-cloud-core<3.0.0dev,>=1.6.0 in /usr/local/lib/python3.10/dist-packages (from google-cloud-bigquery!=3.20.0,<4.0.0dev,>=1.15.0->google-cloud-aiplatform<2.0.0,>=1.26.1->embedchain<0.2.0,>=0.1.114->crewai) (2.4.1)\n",
            "Requirement already satisfied: google-resumable-media<3.0dev,>=0.6.0 in /usr/local/lib/python3.10/dist-packages (from google-cloud-bigquery!=3.20.0,<4.0.0dev,>=1.15.0->google-cloud-aiplatform<2.0.0,>=1.26.1->embedchain<0.2.0,>=0.1.114->crewai) (2.7.2)\n",
            "Requirement already satisfied: grpc-google-iam-v1<1.0.0dev,>=0.12.4 in /usr/local/lib/python3.10/dist-packages (from google-cloud-resource-manager<3.0.0dev,>=1.3.3->google-cloud-aiplatform<2.0.0,>=1.26.1->embedchain<0.2.0,>=0.1.114->crewai) (0.13.1)\n",
            "Requirement already satisfied: fsspec>=2023.5.0 in /usr/local/lib/python3.10/dist-packages (from huggingface-hub<1.0,>=0.16.4->tokenizers->litellm<2.0.0,>=1.44.22->crewai) (2024.6.1)\n",
            "Requirement already satisfied: jsonpointer>=1.9 in /usr/local/lib/python3.10/dist-packages (from jsonpatch<2.0,>=1.33->langchain-core<0.3.0,>=0.2.38->langchain<0.3.0,>=0.2.16->crewai) (3.0.0)\n",
            "Requirement already satisfied: websocket-client!=0.40.0,!=0.41.*,!=0.42.*,>=0.32.0 in /usr/local/lib/python3.10/dist-packages (from kubernetes>=28.1.0->chromadb<0.5.0,>=0.4.24->embedchain<0.2.0,>=0.1.114->crewai) (1.8.0)\n",
            "Requirement already satisfied: requests-oauthlib in /usr/local/lib/python3.10/dist-packages (from kubernetes>=28.1.0->chromadb<0.5.0,>=0.4.24->embedchain<0.2.0,>=0.1.114->crewai) (1.3.1)\n",
            "Requirement already satisfied: oauthlib>=3.2.2 in /usr/local/lib/python3.10/dist-packages (from kubernetes>=28.1.0->chromadb<0.5.0,>=0.4.24->embedchain<0.2.0,>=0.1.114->crewai) (3.2.2)\n",
            "Requirement already satisfied: durationpy>=0.7 in /usr/local/lib/python3.10/dist-packages (from kubernetes>=28.1.0->chromadb<0.5.0,>=0.4.24->embedchain<0.2.0,>=0.1.114->crewai) (0.7)\n",
            "Requirement already satisfied: mdurl~=0.1 in /usr/local/lib/python3.10/dist-packages (from markdown-it-py>=2.2.0->rich<14.0.0,>=13.7.0->instructor==1.3.3->crewai) (0.1.2)\n",
            "Requirement already satisfied: coloredlogs in /usr/local/lib/python3.10/dist-packages (from onnxruntime>=1.14.1->chromadb<0.5.0,>=0.4.24->embedchain<0.2.0,>=0.1.114->crewai) (15.0.1)\n",
            "Requirement already satisfied: flatbuffers in /usr/local/lib/python3.10/dist-packages (from onnxruntime>=1.14.1->chromadb<0.5.0,>=0.4.24->embedchain<0.2.0,>=0.1.114->crewai) (24.3.25)\n",
            "Requirement already satisfied: sympy in /usr/local/lib/python3.10/dist-packages (from onnxruntime>=1.14.1->chromadb<0.5.0,>=0.4.24->embedchain<0.2.0,>=0.1.114->crewai) (1.13.2)\n",
            "Requirement already satisfied: opentelemetry-instrumentation-asgi==0.48b0 in /usr/local/lib/python3.10/dist-packages (from opentelemetry-instrumentation-fastapi>=0.41b0->chromadb<0.5.0,>=0.4.24->embedchain<0.2.0,>=0.1.114->crewai) (0.48b0)\n",
            "Requirement already satisfied: opentelemetry-instrumentation==0.48b0 in /usr/local/lib/python3.10/dist-packages (from opentelemetry-instrumentation-fastapi>=0.41b0->chromadb<0.5.0,>=0.4.24->embedchain<0.2.0,>=0.1.114->crewai) (0.48b0)\n",
            "Requirement already satisfied: opentelemetry-util-http==0.48b0 in /usr/local/lib/python3.10/dist-packages (from opentelemetry-instrumentation-fastapi>=0.41b0->chromadb<0.5.0,>=0.4.24->embedchain<0.2.0,>=0.1.114->crewai) (0.48b0)\n",
            "Requirement already satisfied: setuptools>=16.0 in /usr/local/lib/python3.10/dist-packages (from opentelemetry-instrumentation==0.48b0->opentelemetry-instrumentation-fastapi>=0.41b0->chromadb<0.5.0,>=0.4.24->embedchain<0.2.0,>=0.1.114->crewai) (71.0.4)\n",
            "Requirement already satisfied: asgiref~=3.0 in /usr/local/lib/python3.10/dist-packages (from opentelemetry-instrumentation-asgi==0.48b0->opentelemetry-instrumentation-fastapi>=0.41b0->chromadb<0.5.0,>=0.4.24->embedchain<0.2.0,>=0.1.114->crewai) (3.8.1)\n",
            "Requirement already satisfied: tzdata>=2022.1 in /usr/local/lib/python3.10/dist-packages (from pandas>=1.4.3->langchain-cohere<0.2.0,>=0.1.4->embedchain<0.2.0,>=0.1.114->crewai) (2024.1)\n",
            "Requirement already satisfied: grpcio-tools>=1.41.0 in /usr/local/lib/python3.10/dist-packages (from qdrant-client<2.0.0,>=1.9.1->mem0ai<0.0.21,>=0.0.20->embedchain<0.2.0,>=0.1.114->crewai) (1.62.3)\n",
            "Requirement already satisfied: portalocker<3.0.0,>=2.7.0 in /usr/local/lib/python3.10/dist-packages (from qdrant-client<2.0.0,>=1.9.1->mem0ai<0.0.21,>=0.0.20->embedchain<0.2.0,>=0.1.114->crewai) (2.10.1)\n",
            "Requirement already satisfied: httptools>=0.5.0 in /usr/local/lib/python3.10/dist-packages (from uvicorn[standard]>=0.18.3->chromadb<0.5.0,>=0.4.24->embedchain<0.2.0,>=0.1.114->crewai) (0.6.1)\n",
            "Requirement already satisfied: uvloop!=0.15.0,!=0.15.1,>=0.14.0 in /usr/local/lib/python3.10/dist-packages (from uvicorn[standard]>=0.18.3->chromadb<0.5.0,>=0.4.24->embedchain<0.2.0,>=0.1.114->crewai) (0.20.0)\n",
            "Requirement already satisfied: watchfiles>=0.13 in /usr/local/lib/python3.10/dist-packages (from uvicorn[standard]>=0.18.3->chromadb<0.5.0,>=0.4.24->embedchain<0.2.0,>=0.1.114->crewai) (0.24.0)\n",
            "Requirement already satisfied: websockets>=10.4 in /usr/local/lib/python3.10/dist-packages (from uvicorn[standard]>=0.18.3->chromadb<0.5.0,>=0.4.24->embedchain<0.2.0,>=0.1.114->crewai) (13.1)\n",
            "Requirement already satisfied: more-itertools in /usr/local/lib/python3.10/dist-packages (from jaraco.classes->keyring<25.0.0,>=24.0.0->poetry<2.0.0,>=1.8.3->crewai) (10.5.0)\n",
            "Requirement already satisfied: google-crc32c<2.0dev,>=1.0 in /usr/local/lib/python3.10/dist-packages (from google-resumable-media<3.0dev,>=0.6.0->google-cloud-bigquery!=3.20.0,<4.0.0dev,>=1.15.0->google-cloud-aiplatform<2.0.0,>=1.26.1->embedchain<0.2.0,>=0.1.114->crewai) (1.6.0)\n",
            "Requirement already satisfied: h2<5,>=3 in /usr/local/lib/python3.10/dist-packages (from httpx[http2]>=0.20.0->qdrant-client<2.0.0,>=1.9.1->mem0ai<0.0.21,>=0.0.20->embedchain<0.2.0,>=0.1.114->crewai) (4.1.0)\n",
            "Requirement already satisfied: pyasn1<0.7.0,>=0.4.6 in /usr/local/lib/python3.10/dist-packages (from pyasn1-modules>=0.2.1->google-auth<3.0.0dev,>=2.14.1->google-cloud-aiplatform<2.0.0,>=1.26.1->embedchain<0.2.0,>=0.1.114->crewai) (0.6.1)\n",
            "Requirement already satisfied: mypy-extensions>=0.3.0 in /usr/local/lib/python3.10/dist-packages (from typing-inspect<1,>=0.4.0->dataclasses-json<0.7,>=0.5.7->langchain-community<0.3.0,>=0.2.6->embedchain<0.2.0,>=0.1.114->crewai) (1.0.0)\n",
            "Requirement already satisfied: humanfriendly>=9.1 in /usr/local/lib/python3.10/dist-packages (from coloredlogs->onnxruntime>=1.14.1->chromadb<0.5.0,>=0.4.24->embedchain<0.2.0,>=0.1.114->crewai) (10.0)\n",
            "Requirement already satisfied: mpmath<1.4,>=1.1.0 in /usr/local/lib/python3.10/dist-packages (from sympy->onnxruntime>=1.14.1->chromadb<0.5.0,>=0.4.24->embedchain<0.2.0,>=0.1.114->crewai) (1.3.0)\n",
            "Requirement already satisfied: hyperframe<7,>=6.0 in /usr/local/lib/python3.10/dist-packages (from h2<5,>=3->httpx[http2]>=0.20.0->qdrant-client<2.0.0,>=1.9.1->mem0ai<0.0.21,>=0.0.20->embedchain<0.2.0,>=0.1.114->crewai) (6.0.1)\n",
            "Requirement already satisfied: hpack<5,>=4.0 in /usr/local/lib/python3.10/dist-packages (from h2<5,>=3->httpx[http2]>=0.20.0->qdrant-client<2.0.0,>=1.9.1->mem0ai<0.0.21,>=0.0.20->embedchain<0.2.0,>=0.1.114->crewai) (4.0.0)\n"
          ]
        }
      ]
    },
    {
      "cell_type": "code",
      "source": [
        "!pip install --upgrade graphlit-tools"
      ],
      "metadata": {
        "id": "DlIzErtofaWT",
        "colab": {
          "base_uri": "https://localhost:8080/"
        },
        "outputId": "6b8f85a4-32df-42d6-c0bf-3715ccce847f"
      },
      "execution_count": null,
      "outputs": [
        {
          "output_type": "stream",
          "name": "stdout",
          "text": [
            "Requirement already satisfied: graphlit-tools in /usr/local/lib/python3.10/dist-packages (1.0.20240921021)\n",
            "Requirement already satisfied: graphlit-client in /usr/local/lib/python3.10/dist-packages (from graphlit-tools) (1.0.20240914001)\n",
            "Requirement already satisfied: langchain-core in /usr/local/lib/python3.10/dist-packages (from graphlit-tools) (0.2.41)\n",
            "Requirement already satisfied: httpx in /usr/local/lib/python3.10/dist-packages (from graphlit-client->graphlit-tools) (0.27.2)\n",
            "Requirement already satisfied: pydantic<3.0.0,>=2.0.0 in /usr/local/lib/python3.10/dist-packages (from graphlit-client->graphlit-tools) (2.9.2)\n",
            "Requirement already satisfied: PyJWT in /usr/local/lib/python3.10/dist-packages (from graphlit-client->graphlit-tools) (2.9.0)\n",
            "Requirement already satisfied: websockets in /usr/local/lib/python3.10/dist-packages (from graphlit-client->graphlit-tools) (13.1)\n",
            "Requirement already satisfied: PyYAML>=5.3 in /usr/local/lib/python3.10/dist-packages (from langchain-core->graphlit-tools) (6.0.2)\n",
            "Requirement already satisfied: jsonpatch<2.0,>=1.33 in /usr/local/lib/python3.10/dist-packages (from langchain-core->graphlit-tools) (1.33)\n",
            "Requirement already satisfied: langsmith<0.2.0,>=0.1.112 in /usr/local/lib/python3.10/dist-packages (from langchain-core->graphlit-tools) (0.1.125)\n",
            "Requirement already satisfied: packaging<25,>=23.2 in /usr/local/lib/python3.10/dist-packages (from langchain-core->graphlit-tools) (24.1)\n",
            "Requirement already satisfied: tenacity!=8.4.0,<9.0.0,>=8.1.0 in /usr/local/lib/python3.10/dist-packages (from langchain-core->graphlit-tools) (8.5.0)\n",
            "Requirement already satisfied: typing-extensions>=4.7 in /usr/local/lib/python3.10/dist-packages (from langchain-core->graphlit-tools) (4.12.2)\n",
            "Requirement already satisfied: jsonpointer>=1.9 in /usr/local/lib/python3.10/dist-packages (from jsonpatch<2.0,>=1.33->langchain-core->graphlit-tools) (3.0.0)\n",
            "Requirement already satisfied: orjson<4.0.0,>=3.9.14 in /usr/local/lib/python3.10/dist-packages (from langsmith<0.2.0,>=0.1.112->langchain-core->graphlit-tools) (3.10.7)\n",
            "Requirement already satisfied: requests<3,>=2 in /usr/local/lib/python3.10/dist-packages (from langsmith<0.2.0,>=0.1.112->langchain-core->graphlit-tools) (2.32.3)\n",
            "Requirement already satisfied: anyio in /usr/local/lib/python3.10/dist-packages (from httpx->graphlit-client->graphlit-tools) (3.7.1)\n",
            "Requirement already satisfied: certifi in /usr/local/lib/python3.10/dist-packages (from httpx->graphlit-client->graphlit-tools) (2024.8.30)\n",
            "Requirement already satisfied: httpcore==1.* in /usr/local/lib/python3.10/dist-packages (from httpx->graphlit-client->graphlit-tools) (1.0.5)\n",
            "Requirement already satisfied: idna in /usr/local/lib/python3.10/dist-packages (from httpx->graphlit-client->graphlit-tools) (3.10)\n",
            "Requirement already satisfied: sniffio in /usr/local/lib/python3.10/dist-packages (from httpx->graphlit-client->graphlit-tools) (1.3.1)\n",
            "Requirement already satisfied: h11<0.15,>=0.13 in /usr/local/lib/python3.10/dist-packages (from httpcore==1.*->httpx->graphlit-client->graphlit-tools) (0.14.0)\n",
            "Requirement already satisfied: annotated-types>=0.6.0 in /usr/local/lib/python3.10/dist-packages (from pydantic<3.0.0,>=2.0.0->graphlit-client->graphlit-tools) (0.7.0)\n",
            "Requirement already satisfied: pydantic-core==2.23.4 in /usr/local/lib/python3.10/dist-packages (from pydantic<3.0.0,>=2.0.0->graphlit-client->graphlit-tools) (2.23.4)\n",
            "Requirement already satisfied: charset-normalizer<4,>=2 in /usr/local/lib/python3.10/dist-packages (from requests<3,>=2->langsmith<0.2.0,>=0.1.112->langchain-core->graphlit-tools) (3.3.2)\n",
            "Requirement already satisfied: urllib3<3,>=1.21.1 in /usr/local/lib/python3.10/dist-packages (from requests<3,>=2->langsmith<0.2.0,>=0.1.112->langchain-core->graphlit-tools) (2.0.7)\n",
            "Requirement already satisfied: exceptiongroup in /usr/local/lib/python3.10/dist-packages (from anyio->httpx->graphlit-client->graphlit-tools) (1.2.2)\n"
          ]
        }
      ]
    },
    {
      "cell_type": "code",
      "source": [
        "!pip install --upgrade datasets"
      ],
      "metadata": {
        "colab": {
          "base_uri": "https://localhost:8080/"
        },
        "id": "mpPSSpELru-K",
        "outputId": "ed12e119-1ca5-4a30-d652-dcfe399bdabf"
      },
      "execution_count": null,
      "outputs": [
        {
          "output_type": "stream",
          "name": "stdout",
          "text": [
            "Requirement already satisfied: datasets in /usr/local/lib/python3.10/dist-packages (3.0.0)\n",
            "Requirement already satisfied: filelock in /usr/local/lib/python3.10/dist-packages (from datasets) (3.16.1)\n",
            "Requirement already satisfied: numpy>=1.17 in /usr/local/lib/python3.10/dist-packages (from datasets) (1.26.4)\n",
            "Requirement already satisfied: pyarrow>=15.0.0 in /usr/local/lib/python3.10/dist-packages (from datasets) (17.0.0)\n",
            "Requirement already satisfied: dill<0.3.9,>=0.3.0 in /usr/local/lib/python3.10/dist-packages (from datasets) (0.3.8)\n",
            "Requirement already satisfied: pandas in /usr/local/lib/python3.10/dist-packages (from datasets) (2.1.4)\n",
            "Requirement already satisfied: requests>=2.32.2 in /usr/local/lib/python3.10/dist-packages (from datasets) (2.32.3)\n",
            "Requirement already satisfied: tqdm>=4.66.3 in /usr/local/lib/python3.10/dist-packages (from datasets) (4.66.5)\n",
            "Requirement already satisfied: xxhash in /usr/local/lib/python3.10/dist-packages (from datasets) (3.5.0)\n",
            "Requirement already satisfied: multiprocess in /usr/local/lib/python3.10/dist-packages (from datasets) (0.70.16)\n",
            "Requirement already satisfied: fsspec<=2024.6.1,>=2023.1.0 in /usr/local/lib/python3.10/dist-packages (from fsspec[http]<=2024.6.1,>=2023.1.0->datasets) (2024.6.1)\n",
            "Requirement already satisfied: aiohttp in /usr/local/lib/python3.10/dist-packages (from datasets) (3.10.5)\n",
            "Requirement already satisfied: huggingface-hub>=0.22.0 in /usr/local/lib/python3.10/dist-packages (from datasets) (0.24.7)\n",
            "Requirement already satisfied: packaging in /usr/local/lib/python3.10/dist-packages (from datasets) (24.1)\n",
            "Requirement already satisfied: pyyaml>=5.1 in /usr/local/lib/python3.10/dist-packages (from datasets) (6.0.2)\n",
            "Requirement already satisfied: aiohappyeyeballs>=2.3.0 in /usr/local/lib/python3.10/dist-packages (from aiohttp->datasets) (2.4.0)\n",
            "Requirement already satisfied: aiosignal>=1.1.2 in /usr/local/lib/python3.10/dist-packages (from aiohttp->datasets) (1.3.1)\n",
            "Requirement already satisfied: attrs>=17.3.0 in /usr/local/lib/python3.10/dist-packages (from aiohttp->datasets) (24.2.0)\n",
            "Requirement already satisfied: frozenlist>=1.1.1 in /usr/local/lib/python3.10/dist-packages (from aiohttp->datasets) (1.4.1)\n",
            "Requirement already satisfied: multidict<7.0,>=4.5 in /usr/local/lib/python3.10/dist-packages (from aiohttp->datasets) (6.1.0)\n",
            "Requirement already satisfied: yarl<2.0,>=1.0 in /usr/local/lib/python3.10/dist-packages (from aiohttp->datasets) (1.11.1)\n",
            "Requirement already satisfied: async-timeout<5.0,>=4.0 in /usr/local/lib/python3.10/dist-packages (from aiohttp->datasets) (4.0.3)\n",
            "Requirement already satisfied: typing-extensions>=3.7.4.3 in /usr/local/lib/python3.10/dist-packages (from huggingface-hub>=0.22.0->datasets) (4.12.2)\n",
            "Requirement already satisfied: charset-normalizer<4,>=2 in /usr/local/lib/python3.10/dist-packages (from requests>=2.32.2->datasets) (3.3.2)\n",
            "Requirement already satisfied: idna<4,>=2.5 in /usr/local/lib/python3.10/dist-packages (from requests>=2.32.2->datasets) (3.10)\n",
            "Requirement already satisfied: urllib3<3,>=1.21.1 in /usr/local/lib/python3.10/dist-packages (from requests>=2.32.2->datasets) (2.0.7)\n",
            "Requirement already satisfied: certifi>=2017.4.17 in /usr/local/lib/python3.10/dist-packages (from requests>=2.32.2->datasets) (2024.8.30)\n",
            "Requirement already satisfied: python-dateutil>=2.8.2 in /usr/local/lib/python3.10/dist-packages (from pandas->datasets) (2.8.2)\n",
            "Requirement already satisfied: pytz>=2020.1 in /usr/local/lib/python3.10/dist-packages (from pandas->datasets) (2024.2)\n",
            "Requirement already satisfied: tzdata>=2022.1 in /usr/local/lib/python3.10/dist-packages (from pandas->datasets) (2024.1)\n",
            "Requirement already satisfied: six>=1.5 in /usr/local/lib/python3.10/dist-packages (from python-dateutil>=2.8.2->pandas->datasets) (1.16.0)\n"
          ]
        }
      ]
    },
    {
      "cell_type": "markdown",
      "source": [
        "Initialize Graphlit"
      ],
      "metadata": {
        "id": "XqGt4RCaagNv"
      }
    },
    {
      "cell_type": "code",
      "source": [
        "import os\n",
        "from google.colab import userdata\n",
        "from graphlit import Graphlit\n",
        "from graphlit_api import input_types, enums, exceptions\n",
        "\n",
        "os.environ['GRAPHLIT_ORGANIZATION_ID'] = userdata.get('GRAPHLIT_ORGANIZATION_ID')\n",
        "os.environ['GRAPHLIT_ENVIRONMENT_ID'] = userdata.get('GRAPHLIT_ENVIRONMENT_ID')\n",
        "os.environ['GRAPHLIT_JWT_SECRET'] = userdata.get('GRAPHLIT_JWT_SECRET')\n",
        "\n",
        "graphlit = Graphlit()"
      ],
      "metadata": {
        "id": "eF6MdPG4aWc7"
      },
      "execution_count": null,
      "outputs": []
    },
    {
      "cell_type": "markdown",
      "source": [
        "Initialize sample data"
      ],
      "metadata": {
        "id": "rKo8ZqoS5vnD"
      }
    },
    {
      "cell_type": "code",
      "source": [
        "from datasets import load_dataset\n",
        "import pandas as pd\n",
        "\n",
        "# https://huggingface.co/datasets/umarbutler/open-australian-legal-corpus\n",
        "\n",
        "# Load only the first 100 rows from the JSONL file\n",
        "dataset_df = pd.read_json(\"hf://datasets/umarbutler/open-australian-legal-corpus/corpus.jsonl\", lines=True, nrows=100)"
      ],
      "metadata": {
        "id": "bqzYqYXvf5VA"
      },
      "execution_count": null,
      "outputs": []
    },
    {
      "cell_type": "code",
      "source": [
        "dataset_df.head()"
      ],
      "metadata": {
        "colab": {
          "base_uri": "https://localhost:8080/",
          "height": 573
        },
        "id": "6YYbJxC-sEeR",
        "outputId": "8cc9befc-fcd3-4851-d873-b02492b731a3"
      },
      "execution_count": null,
      "outputs": [
        {
          "output_type": "execute_result",
          "data": {
            "text/plain": [
              "                                          version_id                   type  \\\n",
              "0  south_australian_legislation:46593b41d5646f59/...  secondary_legislation   \n",
              "1  south_australian_legislation:2021-01-01/1999.4...    primary_legislation   \n",
              "2  south_australian_legislation:2018-11-01/2005.7...    primary_legislation   \n",
              "3  south_australian_legislation:2023-11-23/2021.5...    primary_legislation   \n",
              "4  south_australian_legislation:2023-03-30/2021.1...  secondary_legislation   \n",
              "\n",
              "      jurisdiction                        source             mime       date  \\\n",
              "0  south_australia  south_australian_legislation  application/rtf 2018-06-14   \n",
              "1  south_australia  south_australian_legislation  application/rtf 2021-01-01   \n",
              "2  south_australia  south_australian_legislation  application/rtf 2018-11-01   \n",
              "3  south_australia  south_australian_legislation  application/rtf 2023-11-23   \n",
              "4  south_australia  south_australian_legislation  application/rtf 2023-03-30   \n",
              "\n",
              "                                            citation  \\\n",
              "0                       Fences Regulations 2018 (SA)   \n",
              "1  Federal Courts (State Jurisdiction) Act 1999 (SA)   \n",
              "2            Terrorism (Police Powers) Act 2005 (SA)   \n",
              "3          Social Workers Registration Act 2021 (SA)   \n",
              "4  Primary Industry Funding Schemes (Clare Valley...   \n",
              "\n",
              "                                                 url  \\\n",
              "0  https://www.legislation.sa.gov.au/__legislatio...   \n",
              "1  https://www.legislation.sa.gov.au/__legislatio...   \n",
              "2  https://www.legislation.sa.gov.au/__legislatio...   \n",
              "3  https://www.legislation.sa.gov.au/__legislatio...   \n",
              "4  https://www.legislation.sa.gov.au/__legislatio...   \n",
              "\n",
              "                       when_scraped  \\\n",
              "0  2024-05-25T23:27:15.691552+10:00   \n",
              "1  2024-05-25T23:27:15.730486+10:00   \n",
              "2  2024-05-25T23:27:15.817516+10:00   \n",
              "3  2024-05-25T23:27:15.988610+10:00   \n",
              "4  2024-05-25T23:27:16.550214+10:00   \n",
              "\n",
              "                                                text  \n",
              "0  South Australia\\nFences Regulations 2018\\nunde...  \n",
              "1  South Australia\\nFederal Courts (State Jurisdi...  \n",
              "2  South Australia\\nTerrorism (Police Powers) Act...  \n",
              "3  South Australia\\nSocial Workers Registration A...  \n",
              "4  South Australia\\nPrimary Industry Funding Sche...  "
            ],
            "text/html": [
              "\n",
              "  <div id=\"df-c7c699e7-9842-459b-ae62-8f0d9d50da7f\" class=\"colab-df-container\">\n",
              "    <div>\n",
              "<style scoped>\n",
              "    .dataframe tbody tr th:only-of-type {\n",
              "        vertical-align: middle;\n",
              "    }\n",
              "\n",
              "    .dataframe tbody tr th {\n",
              "        vertical-align: top;\n",
              "    }\n",
              "\n",
              "    .dataframe thead th {\n",
              "        text-align: right;\n",
              "    }\n",
              "</style>\n",
              "<table border=\"1\" class=\"dataframe\">\n",
              "  <thead>\n",
              "    <tr style=\"text-align: right;\">\n",
              "      <th></th>\n",
              "      <th>version_id</th>\n",
              "      <th>type</th>\n",
              "      <th>jurisdiction</th>\n",
              "      <th>source</th>\n",
              "      <th>mime</th>\n",
              "      <th>date</th>\n",
              "      <th>citation</th>\n",
              "      <th>url</th>\n",
              "      <th>when_scraped</th>\n",
              "      <th>text</th>\n",
              "    </tr>\n",
              "  </thead>\n",
              "  <tbody>\n",
              "    <tr>\n",
              "      <th>0</th>\n",
              "      <td>south_australian_legislation:46593b41d5646f59/...</td>\n",
              "      <td>secondary_legislation</td>\n",
              "      <td>south_australia</td>\n",
              "      <td>south_australian_legislation</td>\n",
              "      <td>application/rtf</td>\n",
              "      <td>2018-06-14</td>\n",
              "      <td>Fences Regulations 2018 (SA)</td>\n",
              "      <td>https://www.legislation.sa.gov.au/__legislatio...</td>\n",
              "      <td>2024-05-25T23:27:15.691552+10:00</td>\n",
              "      <td>South Australia\\nFences Regulations 2018\\nunde...</td>\n",
              "    </tr>\n",
              "    <tr>\n",
              "      <th>1</th>\n",
              "      <td>south_australian_legislation:2021-01-01/1999.4...</td>\n",
              "      <td>primary_legislation</td>\n",
              "      <td>south_australia</td>\n",
              "      <td>south_australian_legislation</td>\n",
              "      <td>application/rtf</td>\n",
              "      <td>2021-01-01</td>\n",
              "      <td>Federal Courts (State Jurisdiction) Act 1999 (SA)</td>\n",
              "      <td>https://www.legislation.sa.gov.au/__legislatio...</td>\n",
              "      <td>2024-05-25T23:27:15.730486+10:00</td>\n",
              "      <td>South Australia\\nFederal Courts (State Jurisdi...</td>\n",
              "    </tr>\n",
              "    <tr>\n",
              "      <th>2</th>\n",
              "      <td>south_australian_legislation:2018-11-01/2005.7...</td>\n",
              "      <td>primary_legislation</td>\n",
              "      <td>south_australia</td>\n",
              "      <td>south_australian_legislation</td>\n",
              "      <td>application/rtf</td>\n",
              "      <td>2018-11-01</td>\n",
              "      <td>Terrorism (Police Powers) Act 2005 (SA)</td>\n",
              "      <td>https://www.legislation.sa.gov.au/__legislatio...</td>\n",
              "      <td>2024-05-25T23:27:15.817516+10:00</td>\n",
              "      <td>South Australia\\nTerrorism (Police Powers) Act...</td>\n",
              "    </tr>\n",
              "    <tr>\n",
              "      <th>3</th>\n",
              "      <td>south_australian_legislation:2023-11-23/2021.5...</td>\n",
              "      <td>primary_legislation</td>\n",
              "      <td>south_australia</td>\n",
              "      <td>south_australian_legislation</td>\n",
              "      <td>application/rtf</td>\n",
              "      <td>2023-11-23</td>\n",
              "      <td>Social Workers Registration Act 2021 (SA)</td>\n",
              "      <td>https://www.legislation.sa.gov.au/__legislatio...</td>\n",
              "      <td>2024-05-25T23:27:15.988610+10:00</td>\n",
              "      <td>South Australia\\nSocial Workers Registration A...</td>\n",
              "    </tr>\n",
              "    <tr>\n",
              "      <th>4</th>\n",
              "      <td>south_australian_legislation:2023-03-30/2021.1...</td>\n",
              "      <td>secondary_legislation</td>\n",
              "      <td>south_australia</td>\n",
              "      <td>south_australian_legislation</td>\n",
              "      <td>application/rtf</td>\n",
              "      <td>2023-03-30</td>\n",
              "      <td>Primary Industry Funding Schemes (Clare Valley...</td>\n",
              "      <td>https://www.legislation.sa.gov.au/__legislatio...</td>\n",
              "      <td>2024-05-25T23:27:16.550214+10:00</td>\n",
              "      <td>South Australia\\nPrimary Industry Funding Sche...</td>\n",
              "    </tr>\n",
              "  </tbody>\n",
              "</table>\n",
              "</div>\n",
              "    <div class=\"colab-df-buttons\">\n",
              "\n",
              "  <div class=\"colab-df-container\">\n",
              "    <button class=\"colab-df-convert\" onclick=\"convertToInteractive('df-c7c699e7-9842-459b-ae62-8f0d9d50da7f')\"\n",
              "            title=\"Convert this dataframe to an interactive table.\"\n",
              "            style=\"display:none;\">\n",
              "\n",
              "  <svg xmlns=\"http://www.w3.org/2000/svg\" height=\"24px\" viewBox=\"0 -960 960 960\">\n",
              "    <path d=\"M120-120v-720h720v720H120Zm60-500h600v-160H180v160Zm220 220h160v-160H400v160Zm0 220h160v-160H400v160ZM180-400h160v-160H180v160Zm440 0h160v-160H620v160ZM180-180h160v-160H180v160Zm440 0h160v-160H620v160Z\"/>\n",
              "  </svg>\n",
              "    </button>\n",
              "\n",
              "  <style>\n",
              "    .colab-df-container {\n",
              "      display:flex;\n",
              "      gap: 12px;\n",
              "    }\n",
              "\n",
              "    .colab-df-convert {\n",
              "      background-color: #E8F0FE;\n",
              "      border: none;\n",
              "      border-radius: 50%;\n",
              "      cursor: pointer;\n",
              "      display: none;\n",
              "      fill: #1967D2;\n",
              "      height: 32px;\n",
              "      padding: 0 0 0 0;\n",
              "      width: 32px;\n",
              "    }\n",
              "\n",
              "    .colab-df-convert:hover {\n",
              "      background-color: #E2EBFA;\n",
              "      box-shadow: 0px 1px 2px rgba(60, 64, 67, 0.3), 0px 1px 3px 1px rgba(60, 64, 67, 0.15);\n",
              "      fill: #174EA6;\n",
              "    }\n",
              "\n",
              "    .colab-df-buttons div {\n",
              "      margin-bottom: 4px;\n",
              "    }\n",
              "\n",
              "    [theme=dark] .colab-df-convert {\n",
              "      background-color: #3B4455;\n",
              "      fill: #D2E3FC;\n",
              "    }\n",
              "\n",
              "    [theme=dark] .colab-df-convert:hover {\n",
              "      background-color: #434B5C;\n",
              "      box-shadow: 0px 1px 3px 1px rgba(0, 0, 0, 0.15);\n",
              "      filter: drop-shadow(0px 1px 2px rgba(0, 0, 0, 0.3));\n",
              "      fill: #FFFFFF;\n",
              "    }\n",
              "  </style>\n",
              "\n",
              "    <script>\n",
              "      const buttonEl =\n",
              "        document.querySelector('#df-c7c699e7-9842-459b-ae62-8f0d9d50da7f button.colab-df-convert');\n",
              "      buttonEl.style.display =\n",
              "        google.colab.kernel.accessAllowed ? 'block' : 'none';\n",
              "\n",
              "      async function convertToInteractive(key) {\n",
              "        const element = document.querySelector('#df-c7c699e7-9842-459b-ae62-8f0d9d50da7f');\n",
              "        const dataTable =\n",
              "          await google.colab.kernel.invokeFunction('convertToInteractive',\n",
              "                                                    [key], {});\n",
              "        if (!dataTable) return;\n",
              "\n",
              "        const docLinkHtml = 'Like what you see? Visit the ' +\n",
              "          '<a target=\"_blank\" href=https://colab.research.google.com/notebooks/data_table.ipynb>data table notebook</a>'\n",
              "          + ' to learn more about interactive tables.';\n",
              "        element.innerHTML = '';\n",
              "        dataTable['output_type'] = 'display_data';\n",
              "        await google.colab.output.renderOutput(dataTable, element);\n",
              "        const docLink = document.createElement('div');\n",
              "        docLink.innerHTML = docLinkHtml;\n",
              "        element.appendChild(docLink);\n",
              "      }\n",
              "    </script>\n",
              "  </div>\n",
              "\n",
              "\n",
              "<div id=\"df-c6b2d835-82b2-4dbb-b715-1d9f8aaf04ce\">\n",
              "  <button class=\"colab-df-quickchart\" onclick=\"quickchart('df-c6b2d835-82b2-4dbb-b715-1d9f8aaf04ce')\"\n",
              "            title=\"Suggest charts\"\n",
              "            style=\"display:none;\">\n",
              "\n",
              "<svg xmlns=\"http://www.w3.org/2000/svg\" height=\"24px\"viewBox=\"0 0 24 24\"\n",
              "     width=\"24px\">\n",
              "    <g>\n",
              "        <path d=\"M19 3H5c-1.1 0-2 .9-2 2v14c0 1.1.9 2 2 2h14c1.1 0 2-.9 2-2V5c0-1.1-.9-2-2-2zM9 17H7v-7h2v7zm4 0h-2V7h2v10zm4 0h-2v-4h2v4z\"/>\n",
              "    </g>\n",
              "</svg>\n",
              "  </button>\n",
              "\n",
              "<style>\n",
              "  .colab-df-quickchart {\n",
              "      --bg-color: #E8F0FE;\n",
              "      --fill-color: #1967D2;\n",
              "      --hover-bg-color: #E2EBFA;\n",
              "      --hover-fill-color: #174EA6;\n",
              "      --disabled-fill-color: #AAA;\n",
              "      --disabled-bg-color: #DDD;\n",
              "  }\n",
              "\n",
              "  [theme=dark] .colab-df-quickchart {\n",
              "      --bg-color: #3B4455;\n",
              "      --fill-color: #D2E3FC;\n",
              "      --hover-bg-color: #434B5C;\n",
              "      --hover-fill-color: #FFFFFF;\n",
              "      --disabled-bg-color: #3B4455;\n",
              "      --disabled-fill-color: #666;\n",
              "  }\n",
              "\n",
              "  .colab-df-quickchart {\n",
              "    background-color: var(--bg-color);\n",
              "    border: none;\n",
              "    border-radius: 50%;\n",
              "    cursor: pointer;\n",
              "    display: none;\n",
              "    fill: var(--fill-color);\n",
              "    height: 32px;\n",
              "    padding: 0;\n",
              "    width: 32px;\n",
              "  }\n",
              "\n",
              "  .colab-df-quickchart:hover {\n",
              "    background-color: var(--hover-bg-color);\n",
              "    box-shadow: 0 1px 2px rgba(60, 64, 67, 0.3), 0 1px 3px 1px rgba(60, 64, 67, 0.15);\n",
              "    fill: var(--button-hover-fill-color);\n",
              "  }\n",
              "\n",
              "  .colab-df-quickchart-complete:disabled,\n",
              "  .colab-df-quickchart-complete:disabled:hover {\n",
              "    background-color: var(--disabled-bg-color);\n",
              "    fill: var(--disabled-fill-color);\n",
              "    box-shadow: none;\n",
              "  }\n",
              "\n",
              "  .colab-df-spinner {\n",
              "    border: 2px solid var(--fill-color);\n",
              "    border-color: transparent;\n",
              "    border-bottom-color: var(--fill-color);\n",
              "    animation:\n",
              "      spin 1s steps(1) infinite;\n",
              "  }\n",
              "\n",
              "  @keyframes spin {\n",
              "    0% {\n",
              "      border-color: transparent;\n",
              "      border-bottom-color: var(--fill-color);\n",
              "      border-left-color: var(--fill-color);\n",
              "    }\n",
              "    20% {\n",
              "      border-color: transparent;\n",
              "      border-left-color: var(--fill-color);\n",
              "      border-top-color: var(--fill-color);\n",
              "    }\n",
              "    30% {\n",
              "      border-color: transparent;\n",
              "      border-left-color: var(--fill-color);\n",
              "      border-top-color: var(--fill-color);\n",
              "      border-right-color: var(--fill-color);\n",
              "    }\n",
              "    40% {\n",
              "      border-color: transparent;\n",
              "      border-right-color: var(--fill-color);\n",
              "      border-top-color: var(--fill-color);\n",
              "    }\n",
              "    60% {\n",
              "      border-color: transparent;\n",
              "      border-right-color: var(--fill-color);\n",
              "    }\n",
              "    80% {\n",
              "      border-color: transparent;\n",
              "      border-right-color: var(--fill-color);\n",
              "      border-bottom-color: var(--fill-color);\n",
              "    }\n",
              "    90% {\n",
              "      border-color: transparent;\n",
              "      border-bottom-color: var(--fill-color);\n",
              "    }\n",
              "  }\n",
              "</style>\n",
              "\n",
              "  <script>\n",
              "    async function quickchart(key) {\n",
              "      const quickchartButtonEl =\n",
              "        document.querySelector('#' + key + ' button');\n",
              "      quickchartButtonEl.disabled = true;  // To prevent multiple clicks.\n",
              "      quickchartButtonEl.classList.add('colab-df-spinner');\n",
              "      try {\n",
              "        const charts = await google.colab.kernel.invokeFunction(\n",
              "            'suggestCharts', [key], {});\n",
              "      } catch (error) {\n",
              "        console.error('Error during call to suggestCharts:', error);\n",
              "      }\n",
              "      quickchartButtonEl.classList.remove('colab-df-spinner');\n",
              "      quickchartButtonEl.classList.add('colab-df-quickchart-complete');\n",
              "    }\n",
              "    (() => {\n",
              "      let quickchartButtonEl =\n",
              "        document.querySelector('#df-c6b2d835-82b2-4dbb-b715-1d9f8aaf04ce button');\n",
              "      quickchartButtonEl.style.display =\n",
              "        google.colab.kernel.accessAllowed ? 'block' : 'none';\n",
              "    })();\n",
              "  </script>\n",
              "</div>\n",
              "\n",
              "    </div>\n",
              "  </div>\n"
            ],
            "application/vnd.google.colaboratory.intrinsic+json": {
              "type": "dataframe",
              "variable_name": "dataset_df",
              "summary": "{\n  \"name\": \"dataset_df\",\n  \"rows\": 100,\n  \"fields\": [\n    {\n      \"column\": \"version_id\",\n      \"properties\": {\n        \"dtype\": \"string\",\n        \"num_unique_values\": 100,\n        \"samples\": [\n          \"nsw_caselaw:5dfc1f29e4b0c3247d7147f3\",\n          \"nsw_legislation:2018-07-01/act-1990-019\",\n          \"nsw_caselaw:18dcdadf1e3b6911ffdedb20\"\n        ],\n        \"semantic_type\": \"\",\n        \"description\": \"\"\n      }\n    },\n    {\n      \"column\": \"type\",\n      \"properties\": {\n        \"dtype\": \"category\",\n        \"num_unique_values\": 4,\n        \"samples\": [\n          \"primary_legislation\",\n          \"bill\",\n          \"secondary_legislation\"\n        ],\n        \"semantic_type\": \"\",\n        \"description\": \"\"\n      }\n    },\n    {\n      \"column\": \"jurisdiction\",\n      \"properties\": {\n        \"dtype\": \"category\",\n        \"num_unique_values\": 5,\n        \"samples\": [\n          \"tasmania\",\n          \"queensland\",\n          \"new_south_wales\"\n        ],\n        \"semantic_type\": \"\",\n        \"description\": \"\"\n      }\n    },\n    {\n      \"column\": \"source\",\n      \"properties\": {\n        \"dtype\": \"category\",\n        \"num_unique_values\": 7,\n        \"samples\": [\n          \"south_australian_legislation\",\n          \"tasmanian_legislation\",\n          \"queensland_legislation\"\n        ],\n        \"semantic_type\": \"\",\n        \"description\": \"\"\n      }\n    },\n    {\n      \"column\": \"mime\",\n      \"properties\": {\n        \"dtype\": \"category\",\n        \"num_unique_values\": 3,\n        \"samples\": [\n          \"application/rtf\",\n          \"text/html\",\n          \"application/pdf\"\n        ],\n        \"semantic_type\": \"\",\n        \"description\": \"\"\n      }\n    },\n    {\n      \"column\": \"date\",\n      \"properties\": {\n        \"dtype\": \"date\",\n        \"min\": \"1964-04-30 00:00:00\",\n        \"max\": \"2024-04-12 00:00:00\",\n        \"num_unique_values\": 85,\n        \"samples\": [\n          \"2022-08-23 00:00:00\",\n          \"2018-06-14 00:00:00\",\n          \"2017-06-05 00:00:00\"\n        ],\n        \"semantic_type\": \"\",\n        \"description\": \"\"\n      }\n    },\n    {\n      \"column\": \"citation\",\n      \"properties\": {\n        \"dtype\": \"string\",\n        \"num_unique_values\": 100,\n        \"samples\": [\n          \"Bonus v Inner West Council [2020] NSWLEC 1016\",\n          \"Coal Ownership (Restitution) Act 1990 (NSW)\",\n          \"Hunt Leather Pty Ltd v Transport for NSW (No 4) [2024] NSWSC 140\"\n        ],\n        \"semantic_type\": \"\",\n        \"description\": \"\"\n      }\n    },\n    {\n      \"column\": \"url\",\n      \"properties\": {\n        \"dtype\": \"string\",\n        \"num_unique_values\": 100,\n        \"samples\": [\n          \"https://www.caselaw.nsw.gov.au/decision/5dfc1f29e4b0c3247d7147f3\",\n          \"https://legislation.nsw.gov.au/view/whole/html/inforce/2018-07-01/act-1990-019\",\n          \"https://www.caselaw.nsw.gov.au/decision/18dcdadf1e3b6911ffdedb20\"\n        ],\n        \"semantic_type\": \"\",\n        \"description\": \"\"\n      }\n    },\n    {\n      \"column\": \"when_scraped\",\n      \"properties\": {\n        \"dtype\": \"object\",\n        \"num_unique_values\": 99,\n        \"samples\": [\n          \"2024-05-25T23:27:35.527872+10:00\",\n          \"2024-05-25T23:27:31.514397+10:00\",\n          \"2024-05-25T23:27:40.766027+10:00\"\n        ],\n        \"semantic_type\": \"\",\n        \"description\": \"\"\n      }\n    },\n    {\n      \"column\": \"text\",\n      \"properties\": {\n        \"dtype\": \"string\",\n        \"num_unique_values\": 100,\n        \"samples\": [\n          \"Land and Environment Court\\nNew South Wales\\n\\n\\nMedium Neutral Citation:  Bonus v Inner West Council [2020] NSWLEC 1016\\nHearing dates:            Conciliation conference on 14 October 2019; 25 October 2019; 1 November 2019; 15 November 2019; 19 December 2019\\nDate of orders:           21 January 2020\\nDecision date:            21 January 2020\\nJurisdiction:             Class 1\\nBefore:                   Horton C\\nDecision:                 The Court orders:\\n                          (1) Leave is granted to the Applicant to amend the development application and rely on the amended plans listed in condition 4 of Annexure A.\\n                          (2) The Applicant is to pay the Respondent\\u2019s re-notification costs of $1,105 payable within 28 days of this agreement.\\n                          (3) The applicants are to pay the Respondent\\u2019s costs thrown away as a result of the amendment of the application in the amount of $7,000 payable within 28 days of this agreement.\\n                          (4) The applicant\\u2019s written requests under clause 4.6 of the Leichhardt Local Environmental Plan 2013 seeking a variation of the development standards for floor space ratio and foreshore building line under clauses 4.4 and 6.5 of the Leichhardt Local Environmental Plan 2013 are upheld.\\n                          (5) The appeal is upheld.\\n                          (6) Development consent is granted to development application DA/2019/455 for demolition of existing structures, tree removal, construction of two semi-detached dwellings with on-site parking, and associated works, including retention of existing boat shed, landscaping works, Torrens title subdivision and remediation of site at 80-82 Louisa Road, Birchgrove is approved subject to the conditions in Annexure A.\\nCatchwords:               DEVELOPMENT APPEAL \\u2013 semi-detached dwelling development \\u2013 heritage conservation \\u2013 conciliation conference \\u2013 agreement between the parties - orders\\nLegislation Cited:        Environmental Planning and Assessment Act 1979\\n                          Land and Environment Court Act 1979\\n                          Leichhardt Local Environmental Plan 2013\\n                          State Environmental Planning Policy No 55 Remediation of Land\\nCategory:                 Principal judgment\\nParties:                  Geoff Bonus (Applicant)\\n                          Inner West Council (Respondent)\\nRepresentation:           Counsel:\\n                          D Baird (Solicitor) (Applicant)\\n                          S Turner (Solicitor) (Respondent)\\n\\n\\n                          Solicitors:\\n                          Baird Lawyers (Applicant)\\n                          Inner West Council (Respondent)\\nFile Number(s):           19/48549\\nPublication restriction:  No\\n\\n\\n\\nJudgment\\n1. COMMISSIONER: This is an appeal under s 8.7 of the Environmental Planning and Assessment Act 1979 (NSW) (EPA Act) relating to the refusal of Development Application No. D/2018/455 seeking consent for the demolition of existing structures, tree removal, construction of two part-two and part-four storey semi-detached dwellings with on-site parking, and associated works, including swimming pools, landscaping works, Torrens title subdivision and remediation of the site at 80-82 Louisa Road, Birchgrove.\\n2. The site comprises 3 allotments, which are legally described as Lot 27 in DP 741370, Lot 1 in DP 189851 and Lot 2 in DP 189851 having a total site area of 469m\\u00b2.\\n3. The Court arranged a conciliation conference under s 34(1) of the Land and Environment Court Act 1979 (LEC Act) between the parties, which was held on 14 October 2019, 25 October 2019, 1 November 2019, 15 November 2019 and 19 December 2019. The proceedings commenced onsite, with one resident objection being heard at the neighbouring property during which the Court, in the company of the parties and experts, was invited to view the subject site from various rooms inside the neighbouring property.\\n4. Following the onsite view, the parties continued conciliation discussions at which the parties reached in-principle agreement on the matters in contention. I presided over the conciliation conference, and adjourned the conference to allow amended plans to be prepared.\\n5. The conciliation conference was reconvened a number of times before a signed agreement was prepared in accordance with s 34(10) of the LEC Act and was filed with the Court on 19 December 2019. This decision involved the Court upholding the appeal and granting conditional development consent to the development application.\\n6. The parties ask me to approve their decision as set out in the s 34 agreement before the Court. In general terms, the agreement approves the development subject to amended plans that were prepared by the applicant, and noting that the final detail of the works and plans are specified in the agreed conditions of development consent annexed to the s 34 agreement.\\n7. Under s 34(3) of the LEC Act, I must dispose of the proceedings in accordance with the parties\\u2019 decision if the parties\\u2019 decision is a decision that the Court could have made in the proper exercise of its functions. There are jurisdictional prerequisites contained in the relevant provisions of the following:\\n          * State Environmental Planning Policy No 55 \\u2013 Remediation of Land (SEPP 55)\\n          * Leichhardt Local Environmental Plan 2013\\n8. The parties explained to me during the conference as to how the jurisdictional requirements have been satisfied in order to allow the Court to make orders that give effect to the parties\\u2019 agreement. I am satisfied that each of the pre-jurisdictional requirements identified by the parties has been met, for the following reasons:\\n         1. The land to which the development application relates is within the R1 General Residential zone under the provisions of the Leichhardt Local Environmental Plan 2013 (LLEP). Development for the purposes of attached dwellings is permitted with consent, and I am satisfied that the proposal is consistent with the objectives of the zone which are in the following terms:\\n                \\u2022 To provide for the housing needs of the community.\\n                \\u2022 To provide for a variety of housing types and densities.\\n                \\u2022 To enable other land uses that provide facilities or services to meet the day to day needs of residents.\\n                \\u2022 To improve opportunities to work from home.\\n                \\u2022 To provide housing that is compatible with the character, style, orientation and pattern of surrounding buildings, streetscapes, works and landscaped areas.\\n                \\u2022 To provide landscaped areas for the use and enjoyment of existing and future residents.\\n                \\u2022 To ensure that subdivision creates lots of regular shapes that are complementary to, and compatible with, the character, style, orientation and pattern of the surrounding area.\\n                \\u2022 To protect and enhance the amenity of existing and future residents and the neighbourhood.\\n         2. On the basis of the Detailed Contamination Assessment and Remediation Action Plan prepared by Geotechnique dated 31 May 2018, I am satisfied that the land will be remediated before the land is used for the purpose for which the development is proposed to be carried out, pursuant to cl 7(1) of SEPP 55, and as provided for in the conditions of consent at Annexure \\u2018A\\u2019.\\n         3. Clause 4.4 of the LLEP provides for a maximum floor space ratio (FSR) of 0.7:1. The parties are agreed that the building exceeds the FSR control, and the Applicant relies on a written request prepared by GSA Planning dated December 2019 pursuant to cl 4.6 of the LLEP to justify the contravention of the FSR control. I am satisfied that the written request adequately addresses the provisions of cl 4.6 of the LLEP for the following reasons:\\n          * The FSR in the proposal is measured at 1.065:1 for the dwellings, and with the inclusion of the existing boatshed, 1.125:1.\\n          * Compliance with the development standard is unreasonable or unnecessary as the objectives of the height control at cl 4.4 of the LLEP are achieved notwithstanding the non-compliance with the standard. These objectives are set out as follows:\\n        (1) The objectives of this clause are as follows\\u2014\\n                (a) to ensure that residential accommodation\\u2014\\n                    (i) is compatible with the desired future character of the area in relation to building bulk, form and scale, and\\n                    (ii) provides a suitable balance between landscaped areas and the built form, and\\n                    (iii) minimises the impact of the bulk and scale of buildings,\\n          * I accept that the proposal presents as a single storey plus roof volume when viewed from the street, and that a considerable portion of the lower ground level is below ground and does not contribute to the bulk of the building. Further, the retention of the boatshed is a desirable element of the proposal, despite this adding to floorspace.\\n          * I also accept that the proposal complies with the landscape area and site coverage development standards prescribed in the LLEP, providing appropriate balance between landscaped area and built form.\\n          * Finally I am satisfied that the proposal\\u2019s envelope comprises an external volume that is similar to a compliant building (with a similar roof form), and that the proposed building provides a greater rear setback than the existing building on the site.\\n          * Next, I consider there to be sufficient environmental planning grounds to justify the contravention of the height control as the objectives of the FSR control and R1 zone are achieved by the proposal presenting an appropriate built form that is compatible with the bulk and scale of recently approved neighbouring dwelling houses, and with pre-existing dwellings that were constructed in an era before the gazettal of the current LEP and associated FSR development standard. I am also satisfied that the proposed dwellings have been designed to be largely within the existing building envelope, and I consider it relevant that unacceptable environmental and amenity impacts result.\\n          * On the basis of the above, I am satisfied that the proposed development is consistent with the objectives of the development standard, and the objectives of the zone, set out at [8(1)], and so is in the public interest.\\n         4. The application also relies on a written request seeking to justify the contravention of cl 6.5 of the LLEP which limits development on foreshore area. In general terms, the request relies on the exceedance being an existing non-compliance, and in consideration of the particular alignment of the foreshore building line on the site given the irregular water\\u2019s edge. I am satisfied that the written request adequately addresses the provisions of cl 4.6 of the LLEP for the following reasons:\\n          * Compliance with the development standard is unreasonable or unnecessary as the objective of the height control at cl 6.5 of the LLEP is achieved notwithstanding the non-compliance with the standard. The relevant objective being \\u201cto ensure that development in the foreshore area will not adversely impact on natural foreshore processes or affect the significance and amenity of the area.\\u201d\\n          * I am satisfied that the elements located within the foreshore building line are limited to the north-eastern portion of the building, are complementary to the building design, are not out of character with neighbouring development and will not interfere with the intertidal zone. Relevantly, the proposal preserves the natural foreshore area, retains the existing boatshed and improves the amenity and visual qualities of the site from Parramatta River.\\n          * Next, I consider there to be sufficient environmental planning grounds to justify the contravention of the foreshore building line control as the objectives of the control and R1 zone are achieved by the proposal presenting an appropriate built form, which is compatible with the bulk and scale of the recently approved neighbouring dwelling houses. In arriving at this opinion of satisfaction, I also consider the particular aspects of the site relevant, being shorter in length, and displaying aspects of the natural shoreline when viewed in context with adjoining properties.\\n          * On the basis of the above, I am satisfied that the proposed development is consistent with the objectives of the development standard, and the objectives of the zone, set out at [8(1)], and so is in the public interest.\\n9. Having formed an opinion of satisfaction that the decision is one that the Court could make in the exercise of its functions, s 34(3)(a) of the LEC Act requires me to \\u201cdispose of the proceedings in accordance with the decision\\u201d. The Court Act also required me to \\u201cset out in writing the terms of the decision\\u201d (s 34(3)(b)).\\n10. In making the orders to give effect to the agreement between the parties, I was not required to make, and have not made, any assessment of the merits of the development application.\\n11. The Court orders that:\\n         1. Leave is granted to the Applicant to amend the development application and rely on the amended plans listed in condition 4 of Annexure A.\\n         2. The Applicant is to pay the Respondent\\u2019s re-notification costs of $1,105 payable within 28 days of this agreement.\\n         3. The applicants are to pay the Respondent\\u2019s costs thrown away as a result of the amendment of the application in the amount of $7,000 payable within 28 days of this agreement.\\n         4. The applicant\\u2019s written requests under clause 4.6 of the Leichhardt Local Environmental Plan 2013 seeking a variation of the development standards for floor space ratio and foreshore building line under clauses 4.4 and 6.5 of the Leichhardt Local Environmental Plan 2013 are upheld.\\n         5. The appeal is upheld.\\n         6. Development consent is granted to development application DA/2019/455 for demolition of existing structures, tree removal, construction of two semi-detached dwellings with on-site parking, and associated works, including retention of existing boat shed, landscaping works, Torrens title subdivision and remediation of site at 80-82 Louisa Road, Birchgrove is approved subject to the conditions in Annexure A.\\n\\n\\n\\u2026\\u2026\\u2026\\u2026\\u2026\\u2026\\u2026\\u2026\\u2026\\u2026\\u2026\\u2026\\n\\n\\nT Horton\\n\\n\\nCommissioner of the Court\\nAnnexure A (533 KB)\\nArchitectural Plans (5.41 MB)\\n\\n\\n**********\\nDISCLAIMER - Every effort has been made to comply with suppression orders or statutory provisions prohibiting publication that may apply to this judgment or decision. The onus remains on any person using material in the judgment or decision to ensure that the intended use of that material does not breach any such order or provision. Further enquiries may be directed to the Registry of the Court or Tribunal in which it was generated.\\nDecision last updated: 21 January 2020\",\n          \"Coal Ownership (Restitution) Act 1990 No 19\\n\\n\\nAn Act to provide for the restitution of certain coal acquired by the Crown as a result of the operation of the Coal Acquisition Act 1981 and to provide for related matters.\\n\\n\\n1 Name of Act\\n    This Act may be cited as the Coal Ownership (Restitution) Act 1990.\\n\\n\\n2 Commencement\\n    This Act commences on a day or days to be appointed by proclamation.\\n\\n\\n3 Definitions\\n    In this Act:\\n    coal has the same meaning as in the Coal Acquisition Act 1981.\\n    coal to which this Act applies means coal that:\\n        (a) was vested in the Crown by the operation of section 5 of the Coal Acquisition Act 1981, and\\n        (b) on 1 January 1986, was located in land outside a colliery holding.\\n    colliery holding has the same meaning as in the Mining Act 1992.\\n    Compensation Arrangements means the Coal Acquisition (Compensation) Arrangements 1985.\\n    Compensation Board means the New South Wales Coal Compensation Board established under the Compensation Arrangements.\\n    eligible claimant means a person who has made a claim for compensation in accordance with the Compensation Arrangements and whose claim has been allowed by the Compensation Board, either before or after the commencement of this section, or:\\n        (a) if such a person has died\\u2014means the person\\u2019s legal personal representative, or\\n        (b) if such a person is a protected person within the meaning of the NSW Trustee and Guardian Act 2009\\u2014means the manager of the person\\u2019s estate under that Act, or\\n        (c) if such a person is an insolvent under administration\\u2014means the trustee in bankruptcy of the person\\u2019s estate, or\\n        (d) if such a person is a minor\\u2014means the minor\\u2019s next friend, or\\n        (e) if such a person was a body corporate, whether a company or not, which has been dissolved and the property of that body is, by law, vested in a specified person\\u2014means that specified person.\\n    insolvent under administration means a person who:\\n        (a) under the Bankruptcy Act 1966 of the Commonwealth or the law of an external Territory of the Commonwealth, is a bankrupt in respect of a bankruptcy from which the person has not been discharged, or\\n        (b) under the law of a country other than Australia or the law of an external Territory of the Commonwealth, has the status of an undischarged bankrupt,\\n    and includes:\\n        (c) a person who has executed a deed of arrangement under Part X of the Bankruptcy Act 1966 of the Commonwealth, or under the corresponding provisions of the law of an external Territory of the Commonwealth or of the law of a country other than Australia, where the terms of the deed have not been fully complied with, and\\n        (d) a person whose creditors have accepted a composition under Part X of the Bankruptcy Act 1966 of the Commonwealth, or under the corresponding provisions of the law of an external Territory of the Commonwealth or of the law of a country other than Australia, where a final payment has not been made under that composition.\\n\\n\\n4 Power of the Minister to grant coal in accordance with this Act\\n        (1) The Minister may, in accordance with this Act, grant to eligible claimants coal to which this Act applies.\\n        (2) The Minister may exercise the power conferred by this section only on the recommendation of the Compensation Board.\\n        (3) Coal granted under this Act is to be granted for an estate in fee simple.\\n        (4) The Crown Land Management Act 2016 applies to the disposal of coal under this Act only to the extent (if any) that the regulations provide.\\n\\n\\n5 Eligible claimant may apply for restitution of ownership of coal to which this Act applies\\n        (1) If coal to which this Act applies was, immediately before 1 January 1982, owned by an eligible claimant or a person through whom the claimant claims, the claimant may make an application to the Compensation Board requesting the Board to make a recommendation to the Minister that the ownership of the coal be restored to the claimant.\\n        (2) An application under this section must:\\n            (a) be made in the manner and within the period prescribed by the regulations, and\\n            (b) contain the information so prescribed, and\\n            (c) be accompanied by any documents of a kind so prescribed.\\n        (3) As soon as practicable after such an application is received by the Compensation Board, the Board must inquire into the application and make a report of its findings to the Minister, together with a recommendation as to whether or not the application should be granted.\\n        (4) If:\\n            (a) 2 or more eligible claimants have received or would, but for this Act, be entitled to receive compensation under the Compensation Arrangements for or in respect of the same coal, and\\n            (b) any of those claimants has made an application under this section,\\n        the Compensation Board may reject the application.\\n\\n\\n6 Eligible claimant must refund compensation\\n        (1) The Minister must not grant to an eligible claimant coal to which this Act applies unless the claimant has refunded to the Compensation Board any amount of compensation paid to the claimant, or a person through whom the claimant claims, by that Board in respect of the acquisition of the coal by the Crown under the Coal Acquisition Act 1981.\\n        (2) (Repealed)\\n\\n\\n7 Decision of Minister not to be questioned except in limited circumstances\\n        (1) A decision as to whether or not coal should be granted under this Act is, subject to this Act, in the absolute discretion of the Minister.\\n        (1A) Without limiting subsection (1):\\n            (a) nothing in this Act, or any recommendation under this Act, requires the Minister to grant coal to eligible claimants, and\\n            (b) in particular, the Minister may refuse to grant coal to an eligible claimant if of the opinion that the Crown would lose significant revenue were the coal to cease to be vested in the Crown.\\n        (2) A court has no jurisdiction to question a decision of the Minister, or a recommendation of the Compensation Board, under this Act, except on the ground of lack of procedural fairness.\\n\\n\\n8 Power of the Minister to delegate functions under this Act\\n    The Minister may, by instrument in writing, delegate to a specified person or a person holding a specified office any of the Minister\\u2019s functions under this Act, other than this power of delegation.\\n\\n\\n9 Regulations\\n        (1) The Governor may make regulations, not inconsistent with this Act, for or with respect to any matter that by this Act is required or permitted to be prescribed or that is necessary or convenient to be prescribed for carrying out or giving effect to this Act.\\n        (2) In particular, the regulations may make provision for or with respect to the following:\\n            (a) the information to be provided in applications under this Act and in documents required to accompany those applications,\\n            (b) the period within which such applications must be made,\\n            (c) the procedure for determining of such applications,\\n            (d) the factors to be taken into account in determining such applications.\\n\\n\\n10 (Repealed)\",\n          \"Supreme Court\\nNew South Wales\\n\\n\\nMedium Neutral Citation:  Hunt Leather Pty Ltd v Transport for NSW (No 4) [2024] NSWSC 140\\nHearing dates:            13 and 14 December 2023\\nDate of orders:           22 February 2024\\nDecision date:            22 February 2024\\nJurisdiction:             Common Law\\nBefore:                   Cavanagh J\\nDecision:                 (1) The answer to question 10 is no \\u2013 the plaintiffs are not entitled to recover the funder\\u2019s commission as damages.\\n                          (2) Question 11 does not arise.\\n                          (3) I list this matter for further directions on 13 March 2024.\\nCatchwords:               CIVIL PROCEDURE \\u2014 Representative proceedings \\u2013 where plaintiffs entered into a litigation funding agreement \\u2013 whether plaintiffs may claim as a head of damages the litigation funder\\u2019s commission.\\nLegislation Cited:        Civil Procedure Act 2005 (NSW), ss 3, 19\\n                          Federal Court of Australia Act 1976 (Cth), pt IVA\\n                          Civil Liability Act 2002 (NSW), ss 5D, 5E, pt 1A\\nCases Cited:              Hunt Leather Pty Ltd v Transport for NSW (No 3) [2023] NSWSC 1598\\n                          Overseas Tankship (UK) Ltd v Miller Steamship Co Pty Ltd (The Wagon Mound (No 2)) [1967] 1 AC 617\\n                          Roberts v Goodwin Street Developments Pty Ltd [2023] NSWCA 5\\n                          Talacko v Talacko (2021) 272 CLR 478\\n                          Landoro (Qld) Pty Ltd v Jensen International Pty Ltd [1999] QCA 318\\n                          Money Max Int Pty Ltd v QBE Insurance Group Ltd (2016) 245 FCR 191\\n                          Arsalan v Rixon (2021) 274 CLR 606\\n                          Griffiths v Kerkemeyer (1977) 139 CLR 161\\n                          Van Gervan v Fenton (1992) 175 CLR 327\\n                          Hungerfords v Walker (1989) 171 CLR 125\\n                          Nominal Defendant v Gardikiotis (1996) 186 CLR 49\\n                          Essar Oilfields Services Ltd v Norscot Rig Management Pvt Ltd [2016] EWHC 2361\\n                          Henville v Walker (2001) 206 CLR 459\\n                          Wallace v Kam (2013) 250 CLR 375\\nCategory:                 Procedural rulings\\nParties:                  Hunt Leather Pty Ltd (First Plaintiff)\\n                          Sophie Hunt (Second Plaintiff)\\n                          Ancio Investments Pty Ltd (Third Plaintiff)\\n                          Nicholas Zisti (Fourth Plaintiff)\\n                          Transport for NSW (Defendant)\\nRepresentation:           Counsel:\\n                          A Bannon SC with A Hochroth (Plaintiffs)\\n                          D McLure SC with N Simpson (Defendant)\\n\\n\\n                          Solicitors:\\n                          Banton Group (Plaintiffs)\\n                          Lander & Rogers (Defendant)\\nFile Number(s):           2018/263841\\nPublication restriction:  None\\n\\n\\n\\nJUDGMENT\\n1. This is the judgment in respect of the remaining common questions agreed to by the parties arising out of the plaintiffs\\u2019 claims for damages due to interference with their businesses during the construction of the Sydney Light Rail. The remaining questions, common questions 10 and 11, were deferred until after determination of the liability issues.\\n2. These questions relate to the plaintiffs\\u2019 contention that the litigation funder\\u2019s commission of 40% (\\u201cthe funder\\u2019s commission\\u201d) is recoverable as damages payable to the plaintiffs.\\n3. On 19 July 2023, I entered judgment for the first and third plaintiffs (\\u201cthe corporate plaintiffs\\u201d) in nuisance with damages to be finalised in accordance with the findings set out in that judgment. I rejected the second and fourth plaintiffs\\u2019 claim in public nuisance.\\n4. On 13 and 14 December 2023, there was a further hearing in relation to three issues being:\\n         1. common questions 10 and 11;\\n         2. an application under the slip rule to correct certain mathematical calculations or findings in the principal judgment; and\\n         3. further argument on some specific damages issues.\\n5. On 14 December 2023, I delivered a further judgment (see Hunt Leather Pty Ltd v Transport for NSW (No 3) [2023] NSWSC 1598) dealing with the application under the slip rule and the further damages issues.\\n6. Subsequent to that judgment, I made orders by consent, thereby finalising the amounts payable to the first and third plaintiffs, subject only to common questions 10 and 11. That is, although judgment was entered for specific amounts, that was subject to there being any further entitlement on the part of the first and third plaintiffs to recover an additional sum in respect of the funder\\u2019s commission.\\n7. The rest of this judgment deals with common questions 10 (as amended) and 11, which are in the following terms:\\n        Common question 10\\n        Are such Group Members as have suffered loss or damage as a result of private or public nuisance for which the defendant is responsible and who have entered into a litigation funding agreement in connection with these proceedings entitled to claim as a head of damages their reasonable litigation funding costs incurred under any such agreement without needing to show:\\n                (a) that it was the nuisance of the defendant which rendered them impecunious so as to be unable to pursue their claims without the benefit of litigation funding;\\n                (b) that they would have pursued their claims against the defendant without litigation funding had they the means to do so; or\\n                (c) that they negotiated over the terms of the litigation funding agreement?\\n        Common question 11\\n        If yes to 10, what is a reasonable rate of litigation funding costs recoverable by such Group Members?\\n8. The plaintiffs claim that in respect of each sum awarded or recovered by each Group Member who entered into a funding agreement, including the lead plaintiffs, (I will describe those persons as the plaintiffs in this judgment) there should be an additional amount of 40% added on account of the commission which the plaintiffs have agreed to pay the litigation funder on resolution of the proceedings (either by settlement or a judgment).\\n9. In support of their submission that the plaintiffs should recover the funder\\u2019s commission, the plaintiffs rely on:\\n         1. Statement of Sophie Hunt dated 25 October 2022 and Statement of Nicholas Zisti dated 25 October 2022;\\n         2. Affidavit of Paul Lindholm, an authorised representative of the litigation funder, dated 2 November 2023; and\\n         3. A report of John Walker dated 2 November 2023, a person said to be an expert in litigation funding.\\n10. No witness was required for cross-examination. The defendant did not call any evidence in response. The defendant thus did not seek to challenge the factual evidence contained in the affidavit of Mr Lindholm as to the circumstances leading up to the agreement to fund the litigation.\\n11. Further, there was no challenge to the expertise of Mr Walker. The defendant\\u2019s approach to the evidence of Mr Walker was to submit that I would not accept his central opinion, being that the 40% figure agreed to was reasonable, because the plaintiffs had not established the principal assumptions on which Mr Walker relied for the purposes of offering his opinion. That is, as he says in his report, he assumes that no other litigation funder was willing to offer funding in respect of these proceedings. Having made that assumption, he then identifies the factors relevant to these proceedings and to the process which would lead to an assessment of the percentage that a litigation funder might charge.\\n\\n\\nThe plaintiffs\\u2019 contentions\\n12. It is accepted by the plaintiffs that this is a novel claim, in the sense that they acknowledge that there is no prior decision in which a court has awarded such a sum as damages. It seems that it has never been claimed previously, although it might be more accurate to say that it has not been claimed in any case which has proceeded to a court determination.\\n13. The plaintiffs say that they have suffered loss as a result of the tortious conduct of the defendant and that they are entitled to be put back into the position they would have been but for that tortious conduct. Their loss includes the funder\\u2019s commission. The plaintiffs submit that they are entitled to recover such losses as are the reasonably foreseeable consequence of the tortious conduct (Overseas Tankship (UK) Ltd v Miller Steamship Co Pty Ltd (The Wagon Mound (No 2)) [1967] 1 AC 617). Recoverability of such losses is subject to the losses being not too remote.\\n14. It is accepted by the plaintiffs that damages must be assessed by reference to the circumstances of each case and must be assessed according to what is reasonable in all the circumstances (Roberts v Goodwin Street Developments Pty Ltd [2023] NSWCA 5 at [92]-[93] per Kirk JA and Griffiths AJA).\\n15. Further, the plaintiffs submit that it is not necessary for them to establish that the particular harm or loss was foreseeable but losses of the kind they seek must have been reasonably foreseeable. They submit that there is no reason in principle why \\u201creasonable litigation funding costs\\u201d expended for the purpose of an action to recover damages such as this should not be recoverable, suggesting that costs of litigation that are reasonably incurred in an attempt to reduce losses caused by a wrongdoing are a head of loss (Talacko v Talacko (2021) 272 CLR 478 at [60]).\\n16. It is a feature of the plaintiffs\\u2019 submissions that they describe the funder\\u2019s commission as \\u201creasonable litigation funding costs\\u201d, albeit it is really a straight commission. They also suggest that costs incurred to reduce their losses should be recoverable, but they disavow any suggestion that they were attempting to mitigate their losses by agreeing to pay the funder\\u2019s commission.\\n17. Whilst they accept that there has been no case decided in support of the proposition they advance, they point to the decision of the Queensland Court of Appeal of Landoro (Qld) Pty Ltd v Jensen International Pty Ltd [1999] QCA 318 (\\u201cLandoro\\u201d), in which the Queensland Court of Appeal allowed an amendment to a statement of claim to recover the costs of litigation finance.\\n18. Specifically, they submit that the Court (per Davies JA) did not find that it was necessary for the plaintiffs to prove that they had been rendered impecunious by reason of the defendant\\u2019s wrongful conduct. Having said that, the plaintiffs accept that the Court in Landoro was considering a strikeout application rather than determining the matter on a final basis.\\n19. The plaintiffs submit that \\u201cthe litigation funding costs\\u201d incurred by the plaintiffs were caused by the nuisance and that they form part of the reasonably foreseeable consequences of a nuisance for the following reasons:\\n         1. it was reasonably foreseeable that any nuisance for which the defendant was responsible would impact a range of persons and entities along the light rail route;\\n         2. it was reasonably foreseeable that it would be uneconomic for individuals and businesses impacted by the nuisance to bring claims against the defendant individually;\\n         3. it was reasonably foreseeable that individuals and businesses likely to be impacted by the nuisance would be unwilling to take on the substantial adverse costs and risks involved in bringing proceedings against the defendant;\\n         4. it was thus reasonably foreseeable that any proceedings would likely be brought by way of a class action and that the proceedings would be likely to be funded proceedings;\\n         5. the defendant actually foresaw and anticipated the risk of a class-action pointing to the statements in the defendant\\u2019s risk register;\\n         6. the funding agreement would not have been entered into without the nuisance for which the defendant has been found to be responsible; and\\n         7. in the circumstances of the present case, in the absence of litigation funding, the case would not have been brought.\\n20. The plaintiffs submit that the litigation funding costs should not be considered too remote as they were a kind of loss which was reasonably foreseeable at the time of commission of the tort.\\n21. Further, the plaintiffs submit that acceptance of their claim in this matter does not mean that a funder\\u2019s commission will be recoverable in every funded class-action or that funding costs will always be recoverable. They point to the specific, unique and individual circumstances of this matter as supporting their claim, accepting that such circumstances would not always exist, even in class actions.\\n22. They submit that the Court should not stifle recovery in a case such as this and the plaintiffs should not be penalised because their only means of pursuing litigation was through a litigation funder. Further, they reject any suggestion that a finding that the funder\\u2019s commission is recoverable as a head of damage would \\u2018open the floodgates'.\\n23. Finally, the plaintiffs submit that it is not necessary to establish:\\n        \\u201c(a) that it was the nuisance of the defendant which rendered them impecunious so as to be unable to pursue the claims without the benefit of litigation funding;\\n        (b) that they would have pursued their claims against the defendant without litigation funding had they had the means to do so; or\\n        (c) that they negotiated over the terms of the litigation funding agreement.\\u201d\\n24. The plaintiffs say that their failure to establish these matters does not preclude them from recovering the funder\\u2019s commission.\\n\\n\\nThe defendant\\u2019s position\\n25. The defendant disputes that the plaintiffs are entitled to recover the funder\\u2019s commission as damages. It does so for two principal reasons, submitting that:\\n         1. the plaintiffs have not established that the funder\\u2019s commission is a loss caused by the defendant\\u2019s tortious conduct, particularly having regard to remoteness, foreseeability and normative considerations.\\n         2. the funder\\u2019s commission should be viewed as costs, rather than damages, particularly having regard to the statutory regulations which govern the awarding of costs.\\n26. Further, the defendant submits that the plaintiffs have not established that the commission is reasonable as the assumptions on which Mr Walker relied to form his opinion have not been established.\\n\\n\\nEvidence\\n27. Ms Hunt says in her affidavit of 25 October 2022 that she registered as a group member on 15 June 2018 and signed a funding agreement with International Litigation Partners No. 16 Pte Ltd (\\u201cILP\\u201d) in her own capacity and on behalf of Hunt Leather.\\n28. On 9 September 2019 she was approached by her lawyers and asked whether she and Hunt Leather would be willing to be appointed as lead plaintiffs. She agreed to this request. She says that, at the time, she was aware that the legal costs of running the proceedings would likely be several million dollars.\\n29. In his evidentiary statement dated 25 October 2022, Mr Zisti comments to a similar effect. He understood that because of the ILP agreement, Ancio and he would not have to pay the costs associated with the proceedings because those costs would be paid by ILP.\\n30. Had it not been for the ILP agreement, he would not have been willing for Ancio or himself to be appointed as lead plaintiffs because he did not have the financial resources to pay any costs. At the time, that is October 2022, Mr Ancio worked as an uber diver and was struggling with debt. He did not have any ability to borrow funds through traditional finance options.\\n\\n\\nMr Lindholm (the funder)\\n31. Paul Lindholm describes himself as a financial consultant. He is the authorised representative of ILP. ILP is the litigation funder in these proceedings. ILP has paid the plaintiffs\\u2019 costs. He is also the agent for several other funding entities which fund litigation in Australia under what is loosely described as the International Litigation Partners or ILP group. ILP is part of the group of companies which acquire capital from several funding participants around the world. That capital is then invested in the funding of litigation for reward.\\n32. Part of Mr Lindholm's role is to assess potential claims for their suitability as funded litigation projects and to monitor the conduct of those claims. There are particular stages in class action litigation when a funder is required to consider the financial impact of the different courses of action available.\\n33. The first stage is the commencement of the proceedings. He says that it is a significant decision to commence proceedings because, in his experience, the cost of class-action proceedings typically range from $10 to 20 million. In the absence of a common fund order, unless a significant number of group members sign a funding agreement, the reward that the funder might expect to obtain upon a successful resolution of the proceedings may be minimal.\\n34. Indeed, the funder\\u2019s return could be negative in the event that the aggregate commission earned was less than the cost of capital over the duration of litigation.\\n35. Mr Lindholm says that there are a number of factors that must be considered prior to agreeing to provide funding for a claim, including the merits of the claim; the nature and extent of the evidence required, including expert evidence; the volume of documentation; the make-up of the class of people; the estimated damages; the likelihood that another law firm might file a competing claim; and potential adverse costs orders.\\n36. After proceedings have commenced, the litigation funder must consider the ongoing financial impacts and viability of the claim. Mr Lindholm says that ILP was able to assess the financial impacts of these proceedings whilst they were on foot because, pursuant to clause 13.1 of the funding agreement, ILP could terminate the funding agreement at any time at its own discretion.\\n37. He says it was the general practice of ILP to offer funding for cases that other funders do not wish to fund and, in doing so, this allows ILP to seek a greater funder\\u2019s commission and avoid having to compete with multiple funders.\\n38. In around May 2018, Mr Lindholm was introduced to Rick Mitry (the solicitor for the plaintiffs) regarding these proceedings (at that stage potential). After considering the material available, he identified that these proceedings had a high degree of risk relative to other class actions generally, particularly because:\\n         1. only 50 to 70 potential group members had been signed up;\\n         2. Mr Mitry had not conducted any damages modelling for the class or engaged a quantum expert;\\n         3. the proceedings had been commenced against a New South Wales State government entity and he considered that the government may not wish to set a precedent by settling such an action;\\n         4. there would be limited common issues;\\n         5. the prospect of early settlement was low;\\n         6. the defendant would offer financial assistance to some group members;\\n         7. a portion of the class may not want their accounts to be scrutinised;\\n         8. the claim was novel and precedent setting; and\\n         9. it may be difficult for the plaintiffs to engage experts to give evidence against the government on a large infrastructure project.\\n39. At the time, Mr Lindholm thought there was a possibility that a common fund order could be obtained but he was aware of the risk that it would not occur.\\n40. Following his viability assessment, he caused ILP to fund the proceedings based on the funder\\u2019s commission rates included in the funding agreement. He does not know whether Mr Mitry sought funding from anyone else.\\n\\n\\nMr Walker (the expert on funding)\\n41. Mr Walker was retained by the plaintiff to offer an expert opinion on the arrangements. Mr Walker has extensive experience in litigation funding and management. He has been involved in over 500 litigated disputes since 1996.\\n42. Mr Walker explains the creation and development of the market, and comments on the number of litigation funders in the market and their funding rates. He then deposes to the relevant characteristics of the risks associated with these proceedings, referring to generic liability risks, mass tort liability risks and damages risks.\\n43. He says that there would have only been a limited number of funders who would have been prepared to fund these proceedings. He refers to the range of contractual funder\\u2019s commission rates in the market as of 1 January 2014, and the changes in the market between 1 January 2014 and 15 January 2018. He concludes that the contractual funding rates included in the Funding Agreement in June 2018 were reasonable. He also considers that the rates would have been reasonable if the Funding Agreement was entered into in October 2023.\\n44. It is not necessary that I say anything further about his report at this time as the report is relied on for the purposes of establishing that the funder\\u2019s commission rate was reasonable. The defendant did not call any evidence in response to Mr Walker. Mr McLure did not cross-examine Mr Walker. He merely challenged the validity of the assumptions that he made.\\n\\n\\nThe litigation funding agreement (\\u201cthe Funding Agreement\\u201d)\\n45. Ms Hunt entered into the Funding Agreement of 15 June 2018. For the purposes of the agreement, she is described as the claimant, as is any other person who entered into the agreement. The recitals to the agreement are in the following terms:\\n        A. The Claimant has or may have claims against the Respondent(s) arising out of the Matter described in Schedule 2.\\n        B. The Claimant wishes to make its claims against the Respondent(s), and to the extent practicable wishes to make its claims concurrently with the similar or related claims of other persons. The Claimant is or will be a Group Member in the Proceedings which may be brought in respect of the Claims.\\n        C. The Claimant wishes to manage its risks of litigating or otherwise pressing its claims against the Respondent(s) by obtaining financial assistance from the Funder as a commercial claim funder.\\n        D. The Claimant and the Funder intend in good faith to make an arrangement under which the Funder provides financial assistance to the Claimant in connection with the Investigation of contemplated proceedings and if proceedings are instituted, for the prosecution of claims by the Claimant and the other persons described in paragraph B above against the Respondent(s) and such other persons as may be determined in accordance with the terms set out below, in return for the remuneration to the Funder identified in this Agreement.\\n        E. To give effect to the mutual objective described in paragraph D, the Claimant and the Funder have agreed upon the terms set out below and agree that the said terms supersede and replace any prior agreement between them in respect of any matter described in this Agreement.\\n46. As set out in clause 5.1, the funder agreed to pay:\\n         1. all legal costs and disbursements of the claimant reasonably incurred; and\\n         2. any adverse costs order or other costs order which the court makes against any funded person.\\n47. As set out in clause 5.8, in addition to the funding assistance offered, the funder agreed to provide management services during the term of the agreement.\\n48. Clause 7.1 is in the following terms:\\n        Upon Resolution, the Claimant will pay to the Funder or its nominee, from the Resolution Sum:\\n        (a) Claimant\\u2019s Common Costs Share \\u2013 being the Claimant\\u2019s Pro Rata share of the Legal Costs incurred in respect of Common Benefit Work;\\n        (b) Claimant\\u2019s Individual Costs \\u2013 being the Legal Costs incurred in respect of Individual Benefit Work in respect of the Claimant\\u2019s Claims;\\n        (c) Claimant\\u2019s Appeal Costs Share \\u2013 being the Claimant\\u2019s Pro Rata share of Appeal Costs;\\n        (d) Funder\\u2019s Commission \\u2013 being the Claimant\\u2019s Pro Rata share of the Funder\\u2019s Commission;\\n        (such amounts being the Deductions), plus any GST in accordance with Section 17 below.\\n49. Resolution costs and resolution sum are defined as follows:\\n        Resolution Costs means the total amount of any costs payable to or to the benefit of the Claimant or any Representative representing Claims including the Claimant\\u2019s Claims, whether by an order of a court, tribunal or arbitrator pursuant to any agreement with any Respondent.\\n        Resolution Sum means the amount or amounts, or the value of any goods or services, to which the Claimant, or any part of the Group including the Claimant, becomes entitled in connection with or satisfaction or part satisfaction of the Claims, including (without limitation) as a result of a settlement, judgment or arbitration and whether the said amount or value is provided by the Respondent (or if more than one, any of them) or any other person, and for the avoidance of doubt includes any amount or value to be provided by or in respect of a person against whom any Respondent claims any indemnity, apportionment or contribution.\\n50. Schedule 4 sets out the funder\\u2019s remuneration. The funder\\u2019s commission scale is as follows:\\nResolution on or before 31 March 2019  Resolution after 31 March 2019 and on or before 31 December 2019  Resolution after 31 December 2019  In the event that there is a Common Fund Order\\n30%                                    35%                                                               40%                                25%\\n\\n\\n51. There was no common fund order. The matter proceeded to a full hearing after 31 December 2019 and the funder\\u2019s commission is thus 40%.\\n52. It can be seen that the benefit that a claimant, such as the plaintiffs, obtain from the funding agreement is:\\n         1. payment of their ongoing costs and disbursements, thereby enabling them to pursue the claims against the defendant;\\n         2. indemnity in respect of costs orders made against them, thereby ensuring that they bore no costs risks in pursuing the claims; and\\n         3. litigation management services, thereby adding another layer of benefit to them, in terms of expert management of the litigation.\\n53. The benefit that the litigation funder obtains from the funding agreement is the funder\\u2019s commission if the claims are successful.\\n\\n\\nCategorisation of the loss\\n54. It is important to consider the loss in the context in which it arises and in the context of the whole of the funding agreement.\\n55. This is so for a number of reasons, including that:\\n         1. the amount of the funder\\u2019s commission bears no relationship to any legal work undertaken;\\n         2. the amount is not payable to or on behalf of legal professionals;\\n         3. the agreement to pay is between the plaintiffs and the litigation funder;\\n         4. the Court has no supervisory power in respect of the funder\\u2019s commission, other than should it be necessary to approve a settlement; and\\n         5. the funder\\u2019s commission is calculated as a percentage of the sum recovered.\\n56. The plaintiffs do not assert that every amount payable by them or the funder pursuant to the funding agreement is recoverable as part of their damages claim. They submit only that the agreed percentage (that is, 40%) which each plaintiff must pay on resolution is recoverable as part of their damages claim.\\n57. As such, they do not seek to recover as damages the other sums referred to in the funding agreement, which might more readily be identified as costs.\\n58. There was some uncertainty about this point during the hearing (perhaps caused by the plaintiffs\\u2019 description of their loss as being litigation funding costs rather than the funder\\u2019s commission) but, in response to the defendant\\u2019s submissions on the issue, Mr Bannon clarified that the plaintiffs were only seeking to include the funder\\u2019s commission as damages.\\n59. The plaintiffs submit that this sum is not \\u201ccosts\\u201d irrespective of how costs are broadly defined in the Civil Procedure Act 2005 (NSW) (\\u201cCPA\\u201d).\\n60. I do not consider that the funder\\u2019s commission could be described as costs for the following reasons:\\n         1. there is a clear distinction between the costs and the funder\\u2019s commission in the funding agreement;\\n         2. the amount of the commission is not calculated with reference to the amount of work undertaken by the legal representatives, albeit the commission varies depending upon at what stage of the proceedings there is resolution;\\n         3. the amount of the funder\\u2019s commission has been determined by way of a commercial agreement entered into between the plaintiffs and the litigation funder;\\n         4. the commission is the funder\\u2019s consideration for providing the benefits to the plaintiffs which I have already outlined;\\n         5. the funders commission is not a contingency fee as that term might be commonly understood, in the sense that the commission is not a percentage fee charged by the lawyers in lieu of costs;\\n         6. solicitors and barristers still charge fees and issued invoices in the usual way. It is just that those fees are paid by the litigation funder;\\n         7. similarly, any adverse costs order obtained against the plaintiffs would be made against the plaintiffs personally. It is just that the funder has agreed to pay those costs;\\n         8. the Court has no supervisory jurisdiction over the funder\\u2019s commission in the sense that, at least in these proceedings, the Court does not have the power to set aside or vary it or even assess its reasonableness (subject to the plaintiffs seeking to claim it as damages). The amount of commission may be wholly unreasonable (assessed objectively for the purposes of the damages claim) but the plaintiffs entered into the agreement on those terms;\\n         9. I do not consider that the funder\\u2019s commission falls within the meaning of costs in s 19 of the CPA. Costs is defined in s 3(1) of the CPA as follows:\\n        costs, in relation to proceedings, means costs payable in or in relation to the proceedings, and includes fees, disbursements, expenses, and remuneration.\\n        10. The court's power in respect of costs is limited to those sums which fall within the meaning of costs set out in s 3(1). The definition is intended to refer to fees, disbursements, expenses, and remuneration paid or payable to legally qualified persons or other persons retained in the proceedings, such as experts.\\n61. As such, in my view, the funder\\u2019s commission is not \\u201ccosts\\u201d.\\n62. Nor could the funder\\u2019s commission be aptly described as finance to fund the litigation. There was no loan agreement between the funder and the plaintiffs. The amount claimed is not interest (compound or otherwise) on money borrowed to pay legal costs. Describing the arrangement as litigation finance would not be accurate. Similarly, the plaintiffs\\u2019 description of the funder\\u2019s commission as being litigation funding costs is not an apt description.\\n63. Further, the commission is not being claimed as a business expense, in the sense that it represents amounts paid as part of the operation of the plaintiffs\\u2019 businesses for the purposes of deriving income.\\n64. The lead plaintiffs did not include the funder\\u2019s commission in their calculation of loss of profits, which has already been agreed and determined.\\n65. Nor do the plaintiffs submit that the commission is a sum which they paid in mitigation of their losses. I raised that with Mr Bannon and he specifically denied the proposition that the funder\\u2019s commission should be viewed as a sum paid in mitigation of other losses.\\n66. To the extent that the funder\\u2019s commission might be assessed as a loss of a sum capable of being the subject of an award of damages, it could only be viewed as a loss arising from a contingent liability.\\n67. At the time of the assessment of damages and entry of judgment, the plaintiffs had not paid any amount to the litigation funder. Indeed, they did not become liable to pay any amount to the litigation funder at the time that the nuisance occurred. Whilst liability to pay might be viewed as a loss capable of being subject to an award of damages, it is a feature of this aspect of the claim that the liability to pay (which is said to be the loss) did not crystalise until after a judgment was otherwise entered in favour of the plaintiffs (whether by Court determination or agreement) for a sum of money. The plaintiffs only become liable to pay the funder\\u2019s commission after they become entitled to receive a sum from the defendant by way of a judgment (either determined or by consent).\\n68. The plaintiffs are thus seeking to recover \\u201ca loss\\u201d which does not crystalise until after the defendant has been ordered, or has agreed, to compensate the plaintiffs in respect of their economic loss. It is a loss which the plaintiffs are not even obliged to tell the defendant about until a time of their choosing.\\n69. It is an amount payable which arises because of, and is determined by reference to, a contractual arrangement between the plaintiffs and a third party, that is, an entity which is not a party to the litigation, which played no role in the circumstances leading to the other losses sustained by the plaintiffs and had nothing to do with any attempt by the plaintiffs to mitigate their other losses.\\n70. It is difficult to accept that the funder\\u2019s commission is a \\u201closs\\u201d in the compensatory sense. Of course, the liability to pay only arises after the plaintiffs have won but that is not the point. Yet, it is significant that the obligation to pay the funder\\u2019s commission arises out of the funding agreement. All of the terms of the funding agreement must be considered. When doing so, the contention that the funder\\u2019s commission is a loss for the purposes of a damages claim becomes even less clear. I will return to this.\\n71. However, on the plaintiffs\\u2019 case, it is a sum which they are required to pay and which, on their case, will have the consequence that they will not be put back in the position they would have been but for the tortfeasor\\u2019s (i.e. defendant\\u2019s) conduct. This is despite damages being compensatory and despite the tortious measure of damages being the amount that is necessary to put the party back in the position that it would have been but for the tortious conduct.\\n72. In the end it is only necessary to say that the amount claimed is an amount which the plaintiffs become liable to pay pursuant to their agreement with the litigation funder after the entry of judgment in their favour for a specified sum.\\n\\n\\nDetermination of question 10\\n73. As identified by the plaintiffs, common question 10 raises two questions being:\\n         1. as a matter of principle, are the plaintiffs entitled to claim reasonable litigation funding costs as a head of damages in nuisance? and\\n         2. in order to do so, must the plaintiffs demonstrate the matters set out in subparagraphs (a), (b) and (c).\\n74. I will deal with subparagraphs (a), (b) and (c) at the outset.\\n75. I agree with the plaintiffs\\u2019 submissions that, if the funder\\u2019s commission is otherwise recoverable as a head of damages, it would not be necessary for each individual plaintiff who seeks to recover the funder\\u2019s commission as a separate head of damages to establish each of the matters set out in subparagraphs (a), (b) and (c).\\n76. The ultimate question in assessing any amount claimed by way of damages is whether the amount claimed is reasonable in all the circumstances. Whether the amount claimed is reasonable must be assessed objectively, such that whether the parties to the funding agreement negotiated and achieved the result that they wished to achieve could not be determinative of whether the amount claimed is recoverable. The amount would be recoverable if it was objectively reasonable, whether or not the plaintiffs negotiated for the best deal or shopped around for the best funder.\\n77. In a claim such as this, it would be a matter of assessing a range of factors to determine whether the amount claimed is reasonable, including whether the percentage falls within the range generally available in the particular market; whether there are factors about the particular matter which meant that, although the percentage claimed was higher than in other matters, it remained within an appropriate range, and whether on a consideration of the likely available funding the agreed figure represented a reasonable rate in all circumstances.\\n78. In respect of subparagraphs (a) and (b), it must be remembered that the real benefit to litigation funding is that the persons who enter into such agreements do not have to pay their own legal fees and are also not exposed to payment of the defendant's legal fees should they be unsuccessful.\\n79. The idea that the entitlement to recover the funder\\u2019s commission as damages would be limited with reference to whether the person so claiming was impecunious seems rather contrary to the whole point of litigation funding.\\n80. In Money Max Int Pty Ltd v QBE Insurance Group Ltd (2016) 245 FCR 191 (\\u201cMoney Max\\u201d), the Full Federal Court (per Murphy, Gleeson and Beach JJ) considered whether it had power to make a common fund order. In doing so, the court made a number of observations about class actions and litigation funding under the heading \\u2018policy considerations', specifically in relation to the scope and intent of representative proceedings as contained in part IVA of the Federal Court of Australia Act 1976 (Cth).\\n81. The Court observed at [180] that:\\n        \\u201cDespite the intent of the legislature, the costs and risks associated with class action proceedings have placed such litigation beyond the resources of ordinary and even most wealthy Australians.\\u201d\\n82. The Court went on to note at [182] that, \\u201cthese costs and risks posed (and continue to pose) a serious obstacle to the enhancement of access to justice envisaged by the legislature.\\u201d\\n83. Further, at [183], the court observed:\\n        \\u201cLitigation funders stepped in to fill this gap and the High Court endorsed their role in doing so. In [Campbells Cash and Carry Pty Ltd v Fostif Pty Ltd (2006) 229 CLR 386], Gummow, Hayne and Crennan JJ at [65] (with Gleeson CJ at [1] and Kirby J at [147]-[148] agreeing) endorsed the views of Mason P in Fostif Pty Ltd v Campbells Cash & Carry Pty Ltd (2005) 63 NSWLR 203 at [105] where his Honour said:\\n                \\u2018The law now looks favourably on funding arrangements that offer access to justice so long as any tendency to abuse of process is controlled. (citations omitted). As I explain below, the present litigation attracts the following principle recently stated by Lord Phillips MR giving the judgment of the English Court of Appeal in Gulf Azov Shipping Co Ltd v Idisi [2004] EWCA Civ 292 at [52]: \\u2018\\u2026\\n                Public policy now recognises that it is desirable, in order to facilitate access to justice, that third parties should provide assistance designed to ensure that those who are involved in litigation have the benefit of legal representation\\u2019.\\u201d\\n84. Those observations were made in the context of considering whether to make a common fund order. The question arising in these proceedings was not addressed but the court\\u2019s observations rather detract from any suggestion that it would always be necessary for a member of a class to establish that he or she was impecunious and would not have embarked upon the litigation without litigation funding, in order to recover the funder\\u2019s commission as damages.\\n85. It does not seem to me that it must be necessary for the court to engage in an enquiry into the financial status of each plaintiff who enters into a litigation funding agreement prior to allowing the claims. This is evident in this matter as the persons who have suffered the losses, whether they be corporate entities or individuals, operate businesses. The idea that only those businesses that went broke could obtain the benefit of the funder\\u2019s commission (in the sense of a damages claim) cannot be accepted.\\n86. This view is perhaps consistent with or analogous to the approach of the High Court in Arsalan v Rixon (2021) 274 CLR 606 (\\u201cArsalan\\u201d). Arsalan involved the question of whether the cost of hiring a replacement vehicle following a motor vehicle accident was recoverable. Specifically, the question arose as to whether it was necessary for the plaintiff to establish that he had a need for the replacement vehicle and whether the hiring of a prestige vehicle was unreasonable.\\n87. The Court distinguished between the needs-based test which may be applicable in claims for personal injury relating to care gratuitously rendered (see Griffiths v Kerkemeyer (1977) 139 CLR 161 then Van Gervan v Fenton (1992) 175 CLR 327) and the consideration of the real loss suffered as a result of damage to a chattel, including the actual cost of hiring a replacement vehicle.\\n88. The Court did not accept that it was necessary that the claimant demonstrate a need for the replacement vehicle as a pre-condition to recovery of the cost of the replacement vehicle.\\n89. The question of whether the plaintiffs can recover the funder\\u2019s commission must be assessed having regard to conventional principles and having regard to whether the amount claimed is objectively reasonable, rather than a subjective assessment of the financial position of each plaintiff and a consideration of what each plaintiff might have done should a litigation funding arrangement not have been available or if they had the financial capacity to pursue the claim without such funding.\\n\\n\\nIs the funder\\u2019s commission recoverable as damages in these proceedings?\\n90. The outcome of this case must depend on the application of conventional principles.\\n91. As described in Hungerfords v Walker (1989) 171 CLR 125 at 143 per Mason CJ and Wilson J:\\n        \\u201c\\u2026 a plaintiff is entitled to restitutio in integrum. According to that principle, the plaintiff is entitled to full compensation for the loss which he sustains in consequence of the defendant\\u2019s wrong, subject to the rules as to remoteness of damage and to the plaintiff\\u2019s duty to mitigate his loss.\\u201d\\n92. The Court allowed a claim for loss of use of money observing at 144:\\n        \\u201cIncurred expense and opportunity cost arising from paying money away or the withholding of moneys due to the defendant's wrong are something more than the late payment of damages. They are pecuniary losses suffered by the plaintiff as a result of the defendant's wrong and therefore constitute an integral element of the loss for which he is entitled to be compensated by an award of damages.\\u201d\\n93. In Nominal Defendant v Gardikiotis (1996) 186 CLR 49 at 54 McHugh J observed:\\n        [W]hen a plaintiff asserts that, but for the defendant's negligence, he or she would not have incurred a particular expense, questions of causation and reasonable foreseeability arise. Is the particular expense causally connected to the defendant's negligence? If so, ought the defendant to have reasonably foreseen that an expense of that kind might be incurred?\\n94. As was said in Arsalan at [25], the basic goal of the compensatory principle is to \\\"undo, by monetary equivalent, the consequences of the wrong experienced by the plaintiff so far as is reasonable\\u201d.\\n95. There is no case in which the funder\\u2019s commission has been allowed as a component of the damages awarded.\\n96. The only similar case the plaintiffs could point to was the decision of the Queensland Court of Appeal in Landoro.\\n97. In Landoro, the Court allowed the plaintiff to file a proposed amendment to the statement of claim including a claim based on a litigation finance agreement. The claim in Landoro included a claim for the additional costs of litigation finance which came at a higher price than ordinary business loans. Davies JA (with whom McMurdo P agreed on this point), allowed the claim to proceed, that is allowed the amendment. As his Honour said at [12]:\\n        \\u201cTo allow these claims to proceed is not, by any means, to assert their correctness. It is no more than, as mentioned earlier, to deny that they are so obviously untenable that they cannot possibly succeed.\\u201d\\n98. Demack J would not have allowed the amendment to include the litigation finance cost. His Honour found at [22] that:\\n        \\u201cJust as a litigant cannot recover compensation for the loss of time spent in the preparation and conduct of the case (Cachia v Hanes (1994) 179 CLR 403), so a party cannot recover loss which consists of \\u201cexpenditure on litigation\\u201d: Berry v British Transport Commission [1962] 1 QB 306, per Devlin LJ at 328. The reason for that latter rule was examined in detail by Devlin LJ, and although it could not be said that taxed costs provided a full indemnity, His Lordship found a justification for the stringent standards which prevail in a taxation of party and party costs: \\u201cit helps to keep down extravagance in litigation and that is a benefit to all those who resort to the law\\u201d (p 322). As long as this rule remains, the necessity to borrow money and to insure against an adverse result is properly categorised as expenditure on litigation and is not recoverable. The amendment to claim this amount should not be allowed.\\u201d\\n99. The plaintiffs also referred to Essar Oilfields Services Ltd v Norscot Rig Management Pvt Ltd [2016] EWHC 2361. That case involved an application under s 68 of the Arbitration Act 1996 (UK) to set aside the award of an arbitrator that included an allowance of the costs of litigation funding. The arbitrator's decision was based on an interpretation of s 59(1)(c) of the Arbitration Act 1996 (UK) and the meaning of \\u201cother costs\\u201d. As the outcome of the case depended upon the construction of the words in an English statute, it is of no relevance to these proceedings.\\n\\n\\nForeseeability and remoteness\\n100. Whilst it may have been foreseeable on the part of the defendant that the business owners along the route may take action against it (the defendant\\u2019s own risk register identifies that risk) and that they might join together to do so, mere foreseeability is insufficient.\\n101. The loss must not be too remote. Remoteness is a question of fact. This requires an evaluative judgment having regard to all of the circumstances of the case.\\n102. The plaintiffs are entitled to be put back in the position they would have been but for the tortious conduct but they are only entitled to recover their actual loss. The funder\\u2019s commission arises because, once they found themselves in the position of having suffered a loss of profit, they entered into an agreement with a third party to enable them to recover their loss of profit. In that sense, the loss is removed or remote from the tortious conduct. It arises from measures which the plaintiffs chose to take after they had suffered a loss of profit, not in mitigation of their losses (the plaintiffs disavow this) but to reduce their risks associated with recovery of their loss of profits. It may be more properly viewed as expenditure on litigation, a step removed from the actual losses sustained by the plaintiffs caused by the defendant\\u2019s tortious conduct. In that sense remoteness is intertwined with causation.\\n\\n\\nCausation\\n103. I have already determined that part 1A of the Civil Liability Act 2002 (NSW) (\\u201cCLA\\u201d) does not apply, contrary to the contention of the plaintiffs. As such, I am not bound to apply ss 5D and 5E. Having said that, at common law, the plaintiff bears the onus of proving each fact that he or she relies on to succeed in a cause of action. Causation is a question of fact.\\n104. Section 5E of the CLA merely adopts the common law position. Similarly, whilst s 5D introduces the concepts of factual causation and scope of liability causation, as two separate matters which the plaintiffs must establish, the common law recognises that causation involves a normative question, not just a factual question: see, for example, Henville v Walker (2001) 206 CLR 459 at [98] per McHugh J. The result will be the same whether or not the CLA applies.\\n105. Unlike the question of breach, which is considered prospectively or in a forward-looking manner, causation is considered looking backwards at what has actually happened. It is not applying hindsight but merely considering the facts as they are known and determining the relationship between those facts. On this issue, the Court is considering the relationship between the tortious interference with the plaintiffs\\u2019 businesses and the agreement to pay a commission to a litigation funder as part of a mutually beneficial commercial agreement supporting the plaintiffs\\u2019 maintenance of the litigation against the defendant.\\n106. It is known that the defendant was guilty of tortious conduct in the nature of a nuisance. It is known that, having regard to my judgment, the defendant\\u2019s tortious conduct caused the plaintiffs to suffer economic loss in the nature of loss of profits. It is known that the lead plaintiffs have been awarded a sum by way of damages representing their loss of profits. It is known that the defendant is liable to pay those sums to the plaintiffs. It is also known that the plaintiffs will be liable to pay 40% of those sums to the litigation funder on receipt of the damages sums, having regard to the agreement they entered into with the litigation funder.\\n107. The chronological course of events I have just identified does not include the two further steps which must be considered a necessary condition of the loss, being the taking of proceedings by the plaintiffs and their entry into the litigation funding agreement pursuant to which they agreed to pay the funder\\u2019s commission. Both of those steps were taken by the plaintiffs independently of anything done by the defendant. They were taken by the plaintiffs well after the defendant\\u2019s tortious conduct ended and at a time either when the individual plaintiffs had resumed their businesses or ceased to trade at all (in the case of Ancio). The litigation was commenced to recover the losses sustained by the plaintiffs. The funding agreement was entered into by the plaintiffs, both as a means of enabling them to pursue the litigation and to eliminate the burden of any legal costs and expenditure or other financial risks which would otherwise fall on them consequent on pursuit of the litigation.\\n108. That is, if the funder\\u2019s commission should be considered a properly compensable head of damages, in the sense that it is a \\u201closs\\u201d, then it is a loss deliberately incurred by the plaintiffs which has the effect of breaking any chain of causation between the defendant\\u2019s conduct and that loss.\\n109. What the plaintiffs have really done is enter into a bargain with a third party, by which they agreed to give the third party an amount of money in return for the third party taking the risk on the litigation. The loss arises from the plaintiffs\\u2019 own conduct or decision to pursue the litigation on a risk free basis. Without reference to the defendant, the plaintiffs have increased \\u201ctheir loss\\u201d by 40% so as to ensure that they did not bear any costs associated with the litigation. They have not otherwise reduced their loss of profits flowing from the defendant\\u2019s conduct. They have agreed to \\u201ctake a loss\\u201d on the amount they actually recover from the defendant by way of actual losses caused by the defendant, so as to enable them to not only pursue the litigation but to do so on a risk free basis.\\n110. The funder\\u2019s commission is different from litigation finance provide by a third party to a plaintiff to enable the plaintiff to pay its legal costs. The funder\\u2019s commission represents the funder\\u2019s return on its investment. The funder did not lend money to the plaintiffs. It agreed to pay the plaintiffs\\u2019 expenses in return for a slice of the damages.\\n111. In those circumstances, the causal chain between the defendant \\u2018s conduct and the loss has been broken. The plaintiffs\\u2019 conduct in entering into such an agreement was an intervening act which broke the causal chain between the tortious conduct and the so called loss. I do not accept that the defendant caused the claimed loss, being the funder\\u2019s commission.\\n112. Further, even if I be wrong on that assessment, I do not accept that it is appropriate, in all of the circumstances, for the defendant to be responsible for such a loss for similar reasons (the normative or s 5D(1)(b) CLA question). The matters to which I have already referred are also relevant to this question.\\n113. In assessing whether a defendant\\u2019s tortious conduct caused the loss, it is necessary to have regard not only to whether, but for the defendant\\u2019s conduct, the loss would have been sustained, but also whether it is appropriate in all the circumstances for the defendant to be responsible for such a loss. That approach is enshrined in s 5D of the CLA \\u2013 that is, factual causation and scope of liability causation.\\n114. There is no prescription of the circumstances which a court might consider in undertaking that normative assessment. Each case must depend on its own facts and circumstances. I must consider whether or not and why responsibility should be imposed on the defendant for the funder\\u2019s commission. The normative or scope of liability evaluation provides a basis for limiting the liability of a defendant even when the \\u201cbut for\\u201d test is satisfied.\\n115. In Wallace v Kam (2013) 250 CLR 375, when referring to s 5D(4) of the CLA, the Court said at [23]-[24]:\\n        \\u201cIn a novel case, however, s 5D(4) makes it incumbent on a court answering the normative question posed by s 5D(1)(b) explicitly to consider and to explain in terms of legal policy whether or not, and if so why, responsibility for the harm should be imposed on the negligent party. What is required in such a case is the identification and articulation of an evaluative judgment by reference to \\u201cthe purposes and policy of the relevant part of the law\\u201d. Language of \\u201cdirectness\\u201d, \\u201creality\\u201d, \\u201ceffectiveness\\u201d or \\u201cproximity\\u201d will rarely be adequate to that task. Resort to \\u201ccommon sense\\u201d will ordinarily be of limited utility unless the perceptions or experience informing the sense that is common can be unpacked and explained.\\n        A limiting principle of the common law is that the scope of liability in negligence normally does not extend beyond liability for the occurrence of such harm the risk of which it was the duty of the negligent party to exercise reasonable care and skill to avoid\\u2026\\u201d\\n116. At the heart of the law of tort and the principle of damages is the idea of compensation. The common law recognises that persons should be compensated in respect of conduct towards them which is tortious. Yet there must be limits.\\n117. As I said in the principal judgment (at [579]) the law of torts is concerned with the allocation of losses which arise incidental to the activities of people in modern society. The plaintiffs sustained substantial business losses as a result of the conduct of the defendant. In my judgment, it is appropriate that they be compensated for such losses by the defendant.\\n118. However, I do not consider it appropriate for the scope of such a liability to extend to amounts which the plaintiffs have to pay a third party, not in mitigation of such losses, but as a means of enabling them to pursue litigation against the defendant on a cost and risk free basis.\\n119. That would be to visit upon the defendant not just the consequences of its own conduct but the consequences of a decision taken by the plaintiffs, freely and willingly, to share the proceeds of the litigation in return for a benefit to them, being the payment and indemnification of costs (as well as the oversight and management of the litigation).\\n120. Further, it does not seem to me that this case is so different or unique that the principle which would arise could only ever be applied to this case. As was observed in Money Max, litigation funders now fill a gap in that they allow access to justice in circumstances in which the costs of such access are beyond the means of ordinary people. The old rules preventing third party support of litigation thus no longer apply.\\n121. However, that does not mean that the commercial arrangements entered into between plaintiffs and litigation funders should all be visited upon the tortfeasor. To do so in this case would be to extend the compensatory principle to expenditure on litigation. It would be to not merely compensate the plaintiffs but advantage them and others who might adopt the same course by making the defendant responsible to reimburse the plaintiffs for the consequences of their own bargain which at the time of entry into the bargain provided a substantial benefit to them.\\n122. I do not consider it appropriate that the defendant\\u2019s liability extend that far.\\n123. For the reasons set out above, the answer to question 10 is thus:\\nNo \\u2013 the plaintiffs are not entitled to recover the funder\\u2019s commission as damages.\\n124. Question 11 does not arise and I do not consider it appropriate to offer a hypothetical opinion on whether a 40% commission is reasonable.\\n125. I list this matter for further directions on 13 March 2024.\\nDISCLAIMER - Every effort has been made to comply with suppression orders or statutory provisions prohibiting publication that may apply to this judgment or decision. The onus remains on any person using material in the judgment or decision to ensure that the intended use of that material does not breach any such order or provision. Further enquiries may be directed to the Registry of the Court or Tribunal in which it was generated.\\nDecision last updated: 22 February 2024\"\n        ],\n        \"semantic_type\": \"\",\n        \"description\": \"\"\n      }\n    }\n  ]\n}"
            }
          },
          "metadata": {},
          "execution_count": 6
        }
      ]
    },
    {
      "cell_type": "code",
      "source": [
        "# Drop the 'mime' and 'when_scraped' columns\n",
        "dataset_df = dataset_df.drop(columns=['mime', 'when_scraped'])\n",
        "\n",
        "# Verify the columns have been dropped\n",
        "print(dataset_df.columns)"
      ],
      "metadata": {
        "colab": {
          "base_uri": "https://localhost:8080/"
        },
        "id": "3MvnDCsYttbS",
        "outputId": "1499bed1-24ee-4d4c-bc57-1e46589378ed"
      },
      "execution_count": null,
      "outputs": [
        {
          "output_type": "stream",
          "name": "stdout",
          "text": [
            "Index(['version_id', 'type', 'jurisdiction', 'source', 'date', 'citation',\n",
            "       'url', 'text'],\n",
            "      dtype='object')\n"
          ]
        }
      ]
    },
    {
      "cell_type": "code",
      "source": [
        "# Convert 'date' column to the correct DateTimeOffset string format (ISO 8601 format)\n",
        "# Assuming that the original date field is in UTC, but if it's not, you might need to adjust the timezone\n",
        "dataset_df['date'] = dataset_df['date'].dt.strftime('%Y-%m-%dT%H:%M:%S.%fZ')\n",
        "\n",
        "# Ensure other fields are properly cast as strings\n",
        "dataset_df['type'] = dataset_df['type'].astype(str)\n",
        "dataset_df['source'] = dataset_df['source'].astype(str)\n",
        "dataset_df['jurisdiction'] = dataset_df['jurisdiction'].astype(str)\n",
        "dataset_df['citation'] = dataset_df['citation'].astype(str)\n",
        "dataset_df['version_id'] = dataset_df['version_id'].astype(str)\n",
        "dataset_df['url'] = dataset_df['url'].astype(str)\n",
        "dataset_df['text'] = dataset_df['text'].astype(str)"
      ],
      "metadata": {
        "id": "_ehavFV2txsz"
      },
      "execution_count": null,
      "outputs": []
    },
    {
      "cell_type": "markdown",
      "source": [
        "Load list of documents"
      ],
      "metadata": {
        "id": "Buk-Us98x0Bn"
      }
    },
    {
      "cell_type": "code",
      "source": [
        "import json\n",
        "from IPython.display import display, Markdown, HTML\n",
        "\n",
        "# Convert the DataFrame to a JSON string representation\n",
        "documents_json = dataset_df.to_json(orient=\"records\")\n",
        "\n",
        "# Load the JSON string into a Python list of dictionaries\n",
        "documents_list = json.loads(documents_json)\n",
        "\n",
        "document = documents_list[0]\n",
        "\n",
        "display(Markdown(f'### Document: [{document[\"date\"]}] {document[\"version_id\"]}'))\n",
        "display(Markdown(f'**URI** [{document[\"url\"]}] '))\n",
        "display(Markdown(f'**Type** [{document[\"type\"]}]'))\n",
        "display(Markdown(f'**Source** [{document[\"source\"]}]'))\n",
        "display(Markdown(f'**Jurisdiction** [{document[\"jurisdiction\"]}]'))\n",
        "display(Markdown(f'**Citation** [{document[\"citation\"]}]'))\n",
        "display(Markdown(document[\"text\"]))"
      ],
      "metadata": {
        "colab": {
          "base_uri": "https://localhost:8080/",
          "height": 363
        },
        "id": "U8hHq43Vt2OG",
        "outputId": "a1ec2f9b-01f0-4932-88ee-1c19c9b13f82"
      },
      "execution_count": null,
      "outputs": [
        {
          "output_type": "display_data",
          "data": {
            "text/plain": [
              "<IPython.core.display.Markdown object>"
            ],
            "text/markdown": "### Document: [2018-06-14T00:00:00.000000Z] south_australian_legislation:46593b41d5646f59/2018.74.un"
          },
          "metadata": {}
        },
        {
          "output_type": "display_data",
          "data": {
            "text/plain": [
              "<IPython.core.display.Markdown object>"
            ],
            "text/markdown": "**URI** [https://www.legislation.sa.gov.au/__legislation/lz/c/r/fences%20regulations%202018/current/2018.74.un.rtf] "
          },
          "metadata": {}
        },
        {
          "output_type": "display_data",
          "data": {
            "text/plain": [
              "<IPython.core.display.Markdown object>"
            ],
            "text/markdown": "**Type** [secondary_legislation]"
          },
          "metadata": {}
        },
        {
          "output_type": "display_data",
          "data": {
            "text/plain": [
              "<IPython.core.display.Markdown object>"
            ],
            "text/markdown": "**Source** [south_australian_legislation]"
          },
          "metadata": {}
        },
        {
          "output_type": "display_data",
          "data": {
            "text/plain": [
              "<IPython.core.display.Markdown object>"
            ],
            "text/markdown": "**Jurisdiction** [south_australia]"
          },
          "metadata": {}
        },
        {
          "output_type": "display_data",
          "data": {
            "text/plain": [
              "<IPython.core.display.Markdown object>"
            ],
            "text/markdown": "**Citation** [Fences Regulations 2018 (SA)]"
          },
          "metadata": {}
        },
        {
          "output_type": "display_data",
          "data": {
            "text/plain": [
              "<IPython.core.display.Markdown object>"
            ],
            "text/markdown": "South Australia\nFences Regulations 2018\nunder the Fences Act 1975\n\n\n\nContents\n1\tShort title\n2\tCommencement\n3\tExempt classes of Land\nSchedule 1—Revocation of Fences Regulations 2003\nLegislative history\n\n\n\n1—Short title\nThese regulations may be cited as the Fences Regulations 2018.\n2—Commencement\nThese regulations come into operation on the day on which they are made.\n3—Exempt classes of Land\nPursuant to section 20(3) of the Fences Act 1975, the following classes of land are exempt from the provisions of that Act:\n\t(a)\tland held by the Commissioner of Highways or any council for the purposes of controlling access to a road or proposed road from land abutting the road or proposed road;\n\t(b)\tland of, or used by, the Crown, an instrumentality or agency of the Crown or a council that is used solely or principally for the purpose of drainage.\n\n\n\nSchedule 1—Revocation of Fences Regulations 2003\nThe Fences Regulations 2003 are revoked.\n\n\n\nLegislative history\nNotes\n\t•\tFor further information relating to the Act and subordinate legislation made under the Act see the Index of South Australian Statutes or www.legislation.sa.gov.au.\nPrincipal regulations\nYear|No|Reference|Commencement|\n2018|74|Gazette 14.6.2018 p2162 |14.6.2018: r 2|"
          },
          "metadata": {}
        }
      ]
    },
    {
      "cell_type": "markdown",
      "source": [
        "Define Graphlit helper functions"
      ],
      "metadata": {
        "id": "PWRSPFD51pMR"
      }
    },
    {
      "cell_type": "code",
      "source": [
        "import base64\n",
        "import mimetypes\n",
        "import asyncio\n",
        "from typing import List, Optional\n",
        "from tqdm.asyncio import tqdm\n",
        "\n",
        "async def process_text(document, progress_bar):\n",
        "    content_id = await ingest_text(document)\n",
        "\n",
        "    if content_id is not None:\n",
        "        print(f'Ingested content [{content_id}].')\n",
        "\n",
        "    progress_bar.update(1)\n",
        "\n",
        "async def ingest_text(document):\n",
        "    if graphlit.client is None:\n",
        "        return;\n",
        "\n",
        "    try:\n",
        "        name = document['version_id']\n",
        "        text = document['text']\n",
        "        url = document['url']\n",
        "\n",
        "        # TODO: consider how to assign custom metadata with ingestion, i.e. type, source, jurisdiction, citation\n",
        "\n",
        "        # Using synchronous mode, so the notebook waits for the content to be ingested\n",
        "        response = await graphlit.client.ingest_text(name=name, text=text, text_type=enums.TextTypes.PLAIN, uri=url, is_synchronous=True)\n",
        "\n",
        "        return response.ingest_text.id if response.ingest_text is not None else None\n",
        "    except exceptions.GraphQLClientError as e:\n",
        "        print(str(e))\n",
        "        return None\n",
        "\n",
        "async def create_openai_specification(model: enums.OpenAIModels):\n",
        "    if graphlit.client is None:\n",
        "        return;\n",
        "\n",
        "    input = input_types.SpecificationInput(\n",
        "        name=f\"OpenAI [{str(model)}]\",\n",
        "        type=enums.SpecificationTypes.COMPLETION,\n",
        "        serviceType=enums.ModelServiceTypes.OPEN_AI,\n",
        "        openAI=input_types.OpenAIModelPropertiesInput(\n",
        "            model=model,\n",
        "        ),\n",
        "        strategy=input_types.ConversationStrategyInput(\n",
        "            embedCitations=True\n",
        "        ),\n",
        "        retrievalStrategy=input_types.RetrievalStrategyInput(\n",
        "            type=enums.RetrievalStrategyTypes.SECTION\n",
        "        ),\n",
        "        rerankingStrategy=input_types.RerankingStrategyInput(\n",
        "            serviceType=enums.RerankingModelServiceTypes.COHERE\n",
        "        )\n",
        "    )\n",
        "\n",
        "    try:\n",
        "        response = await graphlit.client.create_specification(input)\n",
        "\n",
        "        return response.create_specification.id if response.create_specification is not None else None\n",
        "    except exceptions.GraphQLClientError as e:\n",
        "        print(str(e))\n",
        "        return None\n",
        "\n",
        "    return None\n",
        "\n",
        "async def create_conversation(specification_id: str):\n",
        "    if graphlit.client is None:\n",
        "        return;\n",
        "\n",
        "    input = input_types.ConversationInput(\n",
        "        name=\"Conversation\",\n",
        "        specification=input_types.EntityReferenceInput(\n",
        "            id=specification_id\n",
        "        )\n",
        "    )\n",
        "\n",
        "    try:\n",
        "        response = await graphlit.client.create_conversation(input)\n",
        "\n",
        "        return response.create_conversation.id if response.create_conversation is not None else None\n",
        "    except exceptions.GraphQLClientError as e:\n",
        "        print(str(e))\n",
        "        return None\n",
        "\n",
        "async def prompt_conversation(conversation_id: str, prompt: str):\n",
        "    if graphlit.client is None:\n",
        "        return None, None\n",
        "\n",
        "    try:\n",
        "        response = await graphlit.client.prompt_conversation(prompt, conversation_id)\n",
        "\n",
        "        message = response.prompt_conversation.message.message if response.prompt_conversation is not None and response.prompt_conversation.message is not None else None\n",
        "        citations = response.prompt_conversation.message.citations if response.prompt_conversation is not None and response.prompt_conversation.message is not None else None\n",
        "\n",
        "        return message, citations\n",
        "    except exceptions.GraphQLClientError as e:\n",
        "        print(str(e))\n",
        "        return None, None\n",
        "\n",
        "# NOTE: these functions are just used to clean-up old data before executing the example\n",
        "async def delete_all_specifications():\n",
        "    if graphlit.client is None:\n",
        "        return;\n",
        "\n",
        "    _ = await graphlit.client.delete_all_specifications(is_synchronous=True)\n",
        "\n",
        "async def delete_all_conversations():\n",
        "    if graphlit.client is None:\n",
        "        return;\n",
        "\n",
        "    _ = await graphlit.client.delete_all_conversations(is_synchronous=True)\n",
        "\n",
        "async def delete_all_contents():\n",
        "    if graphlit.client is None:\n",
        "        return;\n",
        "\n",
        "    _ = await graphlit.client.delete_all_contents(is_synchronous=True)"
      ],
      "metadata": {
        "id": "cJFYJ0091rKj"
      },
      "execution_count": null,
      "outputs": []
    },
    {
      "cell_type": "markdown",
      "source": [
        "Ingest sample documents"
      ],
      "metadata": {
        "id": "PEmBPRxG17IP"
      }
    },
    {
      "cell_type": "code",
      "source": [
        "# Remove any existing contents; only needed for notebook example\n",
        "await delete_all_contents()\n",
        "\n",
        "print('Deleted all contents.')\n",
        "\n",
        "progress_bar = tqdm(total=len(documents_list))\n",
        "\n",
        "tasks = [process_text(document, progress_bar) for document in documents_list]\n",
        "\n",
        "await asyncio.gather(*tasks)\n",
        "\n",
        "print('Ingested all contents.')"
      ],
      "metadata": {
        "id": "Zg9Nb0XR13uL",
        "colab": {
          "base_uri": "https://localhost:8080/"
        },
        "outputId": "6ef0707e-e549-4aa9-fb22-f5390f34be6c"
      },
      "execution_count": null,
      "outputs": [
        {
          "output_type": "stream",
          "name": "stdout",
          "text": [
            "Deleted all contents.\n"
          ]
        },
        {
          "output_type": "stream",
          "name": "stderr",
          "text": [
            "  1%|          | 1/100 [00:07<13:11,  7.99s/it]"
          ]
        },
        {
          "output_type": "stream",
          "name": "stdout",
          "text": [
            "Ingested content [ef6efaf8-9370-4784-9d2a-e9bd34c8173b].\n"
          ]
        },
        {
          "output_type": "stream",
          "name": "stderr",
          "text": [
            "\r  2%|▏         | 2/100 [00:08<05:43,  3.50s/it]"
          ]
        },
        {
          "output_type": "stream",
          "name": "stdout",
          "text": [
            "Ingested content [1338c010-2fcc-4520-99b1-6c2d71898399].\n",
            "Ingested content [7c8e0759-da9d-40ab-8a36-d66903f1242c].\n",
            "Ingested content [57910a7d-198d-4db6-bfae-2ed51d85be05].\n"
          ]
        },
        {
          "output_type": "stream",
          "name": "stderr",
          "text": [
            "\r  5%|▌         | 5/100 [00:08<01:39,  1.05s/it]"
          ]
        },
        {
          "output_type": "stream",
          "name": "stdout",
          "text": [
            "Ingested content [d9ff350d-8229-453e-bf6d-71bff157dd87].\n",
            "Ingested content [d877d81c-3549-45d6-a544-e8f33b105114].\n",
            "Ingested content [d027da8e-3b91-4a90-af5d-ece58d3e40f5].\n"
          ]
        },
        {
          "output_type": "stream",
          "name": "stderr",
          "text": [
            "\r  8%|▊         | 8/100 [00:08<00:52,  1.75it/s]"
          ]
        },
        {
          "output_type": "stream",
          "name": "stdout",
          "text": [
            "Ingested content [fc5daacf-5ba4-4b4d-b468-e36996c972a8].\n"
          ]
        },
        {
          "output_type": "stream",
          "name": "stderr",
          "text": [
            "\r  9%|▉         | 9/100 [00:10<01:02,  1.46it/s]"
          ]
        },
        {
          "output_type": "stream",
          "name": "stdout",
          "text": [
            "Ingested content [993058f8-496f-42dc-97e2-b66791d3c78f].\n"
          ]
        },
        {
          "output_type": "stream",
          "name": "stderr",
          "text": [
            " 11%|█         | 11/100 [00:13<01:30,  1.02s/it]"
          ]
        },
        {
          "output_type": "stream",
          "name": "stdout",
          "text": [
            "Ingested content [410d7e68-0149-478f-b39c-d01313ceb8ce].\n",
            "Ingested content [a92890f1-4fd9-4115-a37c-02c779cbde2b].\n"
          ]
        },
        {
          "output_type": "stream",
          "name": "stderr",
          "text": [
            "\r 12%|█▏        | 12/100 [00:15<01:36,  1.09s/it]"
          ]
        },
        {
          "output_type": "stream",
          "name": "stdout",
          "text": [
            "Ingested content [b3368490-7958-4e4d-a559-cbd42ea92e19].\n"
          ]
        },
        {
          "output_type": "stream",
          "name": "stderr",
          "text": [
            "\r 13%|█▎        | 13/100 [00:15<01:16,  1.14it/s]"
          ]
        },
        {
          "output_type": "stream",
          "name": "stdout",
          "text": [
            "Ingested content [058c3c4f-342d-4b6c-861a-0e2e44c19027].\n"
          ]
        },
        {
          "output_type": "stream",
          "name": "stderr",
          "text": [
            "\r 14%|█▍        | 14/100 [00:15<01:06,  1.30it/s]"
          ]
        },
        {
          "output_type": "stream",
          "name": "stdout",
          "text": [
            "Ingested content [e8a60135-ad36-4104-bad6-5f48d9fba4fc].\n"
          ]
        },
        {
          "output_type": "stream",
          "name": "stderr",
          "text": [
            " 18%|█▊        | 18/100 [00:16<00:30,  2.69it/s]"
          ]
        },
        {
          "output_type": "stream",
          "name": "stdout",
          "text": [
            "Ingested content [1392ce28-32e2-48d4-b3b3-afa00edf3191].\n",
            "Ingested content [fdec07bf-3195-4e78-b82d-1ad8c4c1844c].\n",
            "Ingested content [f79338b9-554c-4141-8cce-f8a3023feb5a].\n",
            "Ingested content [4340fb1d-2487-49d8-836c-1ea69b2f406b].\n"
          ]
        },
        {
          "output_type": "stream",
          "name": "stderr",
          "text": [
            "\r 20%|██        | 20/100 [00:16<00:23,  3.44it/s]"
          ]
        },
        {
          "output_type": "stream",
          "name": "stdout",
          "text": [
            "Ingested content [b02ea260-5b6d-49f5-80de-15f2d2410704].\n",
            "Ingested content [1607514b-d518-44ed-8848-af918d3890d9].\n",
            "Ingested content [f2c02982-09ac-427e-9e45-6b061386f0f2].\n",
            "Ingested content [e9fb68ce-6b3d-4c3b-8ef6-291f6110dd56].\n",
            "Ingested content [34791c79-550a-45e5-812a-ae3e89e96a33].\n",
            "Ingested content [bae187e7-e942-45cc-bfbd-e17d38171125].\n",
            "Ingested content [3c701b29-efd9-4605-ad25-c423520bf21c].\n",
            "Ingested content [c38a8c78-f57c-4076-abac-652841d382d6].\n",
            "Ingested content [dc89ff94-94b6-48d1-832a-4d5cddc37468].\n"
          ]
        },
        {
          "output_type": "stream",
          "name": "stderr",
          "text": [
            "\r 29%|██▉       | 29/100 [00:17<00:07,  8.91it/s]"
          ]
        },
        {
          "output_type": "stream",
          "name": "stdout",
          "text": [
            "Ingested content [4aca23c1-a1c7-4c1b-81b0-4195640c2149].\n",
            "Ingested content [4d4a044d-ec60-4cbf-a295-ccf3b24757d4].\n"
          ]
        },
        {
          "output_type": "stream",
          "name": "stderr",
          "text": [
            "\r 31%|███       | 31/100 [00:17<00:07,  9.78it/s]"
          ]
        },
        {
          "output_type": "stream",
          "name": "stdout",
          "text": [
            "Ingested content [1cf5e4fd-6c30-4b20-a84f-c34f77784a6c].\n",
            "Ingested content [2400138f-6577-4d83-916a-d112ca7cacd0].\n",
            "Ingested content [e640817d-67e1-4c12-a5da-564d9630ec3c].\n"
          ]
        },
        {
          "output_type": "stream",
          "name": "stderr",
          "text": [
            "\r 33%|███▎      | 33/100 [00:17<00:09,  7.34it/s]"
          ]
        },
        {
          "output_type": "stream",
          "name": "stdout",
          "text": [
            "Ingested content [f68f90e3-a08c-41b4-a4b8-4d8b95f672e0].\n",
            "Ingested content [af1b3067-5504-477d-921b-1f5f2351030b].\n"
          ]
        },
        {
          "output_type": "stream",
          "name": "stderr",
          "text": [
            "\r 35%|███▌      | 35/100 [00:18<00:09,  6.69it/s]"
          ]
        },
        {
          "output_type": "stream",
          "name": "stdout",
          "text": [
            "Ingested content [437997e0-f5b9-4a2a-ace7-e8721b86fe7b].\n",
            "Ingested content [d5768894-f26a-4710-ba79-0a8578fe0909].\n",
            "Ingested content [e63e1222-91c8-4c2a-8693-6334a23b1f13].\n"
          ]
        },
        {
          "output_type": "stream",
          "name": "stderr",
          "text": [
            " 41%|████      | 41/100 [00:18<00:06,  8.62it/s]"
          ]
        },
        {
          "output_type": "stream",
          "name": "stdout",
          "text": [
            "Ingested content [d21b7f80-fed4-4f1b-ac9a-6dbdaef4243f].\n",
            "Ingested content [7aacdb61-e14d-4e9e-9847-f974427b498e].\n",
            "Ingested content [6dcae3d7-0e5d-4064-a901-7146e4d870e1].\n",
            "Ingested content [ad357f04-8e90-4c8f-a5ed-fab163bae175].\n"
          ]
        },
        {
          "output_type": "stream",
          "name": "stderr",
          "text": [
            " 45%|████▌     | 45/100 [00:21<00:18,  3.05it/s]"
          ]
        },
        {
          "output_type": "stream",
          "name": "stdout",
          "text": [
            "Ingested content [9f82b8bf-452b-43f2-b06b-f3ed7b8ed7ad].\n",
            "Ingested content [64a652ea-5008-4d03-b01c-ec78d74fad02].\n",
            "Ingested content [3206e722-1202-469d-83f2-a8ef35d0e03f].\n",
            "Ingested content [69ae4f57-df17-4110-9b1a-36139e1e0657].\n",
            "Ingested content [626d205a-7235-45ae-b4fa-a9b0ce1707a0].\n",
            "Ingested content [502bbf2e-c5d8-4879-aa64-9ad90b3dce1f].\n"
          ]
        },
        {
          "output_type": "stream",
          "name": "stderr",
          "text": [
            " 53%|█████▎    | 53/100 [00:22<00:06,  7.16it/s]"
          ]
        },
        {
          "output_type": "stream",
          "name": "stdout",
          "text": [
            "Ingested content [7854a7a8-ee4b-47bb-91ee-669924b16ed4].\n",
            "Ingested content [8b17e705-1fb4-4632-a061-960b752e51ea].\n",
            "Ingested content [160ae2bc-9668-4fc3-b5ff-97ddfbe1ce68].\n",
            "Ingested content [12f26ddf-c6d8-4eff-b3d3-1e167ef1e80b].\n",
            "Ingested content [de6e08c8-a87e-43e6-8607-74ed0480d706].\n",
            "Ingested content [bfb3b470-5f73-4ca6-8232-5736f942434c].\n",
            "Ingested content [17c7f9ae-531b-441a-b2b3-2fd024deeb1e].\n",
            "Ingested content [c82fa373-dfb8-47be-ad1d-bb70256f5b5a].\n",
            "Ingested content [36b40541-d3e6-4739-ae15-2033ae472450].\n"
          ]
        },
        {
          "output_type": "stream",
          "name": "stderr",
          "text": [
            "\r 57%|█████▋    | 57/100 [00:22<00:05,  8.44it/s]"
          ]
        },
        {
          "output_type": "stream",
          "name": "stdout",
          "text": [
            "Ingested content [1487439a-0d68-4e62-9316-45faecd9ef9d].\n",
            "Ingested content [6402a12d-7213-4025-8dd6-9f2555c6ca8d].\n"
          ]
        },
        {
          "output_type": "stream",
          "name": "stderr",
          "text": [
            "\r 60%|██████    | 60/100 [00:22<00:04,  8.79it/s]"
          ]
        },
        {
          "output_type": "stream",
          "name": "stdout",
          "text": [
            "Ingested content [6991f5ba-ea7d-4a4e-932b-580be9e782d0].\n",
            "Ingested content [18251108-a5f0-40f1-915f-056a174db03f].\n",
            "Ingested content [71304073-baf3-4650-b8fa-77d1c8c01d19].\n"
          ]
        },
        {
          "output_type": "stream",
          "name": "stderr",
          "text": [
            "\r 62%|██████▏   | 62/100 [00:22<00:04,  8.97it/s]"
          ]
        },
        {
          "output_type": "stream",
          "name": "stdout",
          "text": [
            "Ingested content [8bf55b4f-4869-4488-9d18-228887dc55b6].\n",
            "Ingested content [e8f7bf01-6a25-47fd-9831-f6d70ec8f300].\n"
          ]
        },
        {
          "output_type": "stream",
          "name": "stderr",
          "text": [
            "\r 64%|██████▍   | 64/100 [00:23<00:05,  6.42it/s]"
          ]
        },
        {
          "output_type": "stream",
          "name": "stdout",
          "text": [
            "Ingested content [6a467082-7585-4e27-a9d8-e30157238a90].\n",
            "Ingested content [c85d6392-0b79-4ba9-b80f-7c9d6bdd30eb].\n"
          ]
        },
        {
          "output_type": "stream",
          "name": "stderr",
          "text": [
            " 70%|███████   | 70/100 [00:23<00:03,  9.99it/s]"
          ]
        },
        {
          "output_type": "stream",
          "name": "stdout",
          "text": [
            "Ingested content [f54b69b7-9822-4cc8-b027-7f149e31a3cb].\n",
            "Ingested content [d35de005-d1d2-444c-bf0d-0fbe89c2ba9c].\n",
            "Ingested content [821940f0-db2a-48f2-8c2b-05c427cc00bb].\n",
            "Ingested content [f9c2f1ce-7e1b-436c-a70a-3875b8a41fb8].\n",
            "Ingested content [24d1b08f-0ff1-44c3-8e6a-816a6ceb3294].\n",
            "Ingested content [42718fe7-1bd5-4abf-bc7b-a4d700ef310a].\n"
          ]
        },
        {
          "output_type": "stream",
          "name": "stderr",
          "text": [
            " 77%|███████▋  | 77/100 [00:24<00:01, 15.65it/s]"
          ]
        },
        {
          "output_type": "stream",
          "name": "stdout",
          "text": [
            "Ingested content [afb0786a-503c-4583-a5a5-f73acefd95e1].\n",
            "Ingested content [6d92bdc8-8dcf-4b06-a9e0-a4efbfdc0a56].\n",
            "Ingested content [34156c81-190f-4ed5-bde9-1b7ac477b4c3].\n",
            "Ingested content [a29f8819-9135-416c-af87-3ef268f4b2db].\n",
            "Ingested content [89a3a1c3-db30-4aa8-9f20-17c17d436881].\n",
            "Ingested content [5cd8db3d-a8ba-4c42-a88c-fb1aec0d3049].\n",
            "Ingested content [80b1edb4-1f3c-4456-be0e-7bc233a4ef7a].\n",
            "Ingested content [0dcb8037-b724-4181-b9e5-41b87a4024aa].\n"
          ]
        },
        {
          "output_type": "stream",
          "name": "stderr",
          "text": [
            "\r 80%|████████  | 80/100 [00:25<00:02,  7.71it/s]"
          ]
        },
        {
          "output_type": "stream",
          "name": "stdout",
          "text": [
            "Ingested content [a926d141-7058-4d90-b672-1ae9ec885aed].\n"
          ]
        },
        {
          "output_type": "stream",
          "name": "stderr",
          "text": [
            "\r 82%|████████▏ | 82/100 [00:25<00:03,  5.59it/s]"
          ]
        },
        {
          "output_type": "stream",
          "name": "stdout",
          "text": [
            "Ingested content [dbab6bd5-b56f-44d9-9b61-3345b6f96ce2].\n",
            "Ingested content [40b6b46d-e103-47da-a900-a818ff5673c7].\n"
          ]
        },
        {
          "output_type": "stream",
          "name": "stderr",
          "text": [
            "\r 84%|████████▍ | 84/100 [00:33<00:17,  1.07s/it]"
          ]
        },
        {
          "output_type": "stream",
          "name": "stdout",
          "text": [
            "Ingested content [fbf19535-0f88-49e7-bf0c-b1415c00d17a].\n",
            "Ingested content [43eea040-f8c3-4f35-a8f0-bf523476e8ad].\n"
          ]
        },
        {
          "output_type": "stream",
          "name": "stderr",
          "text": [
            "\r 85%|████████▌ | 85/100 [00:34<00:15,  1.05s/it]"
          ]
        },
        {
          "output_type": "stream",
          "name": "stdout",
          "text": [
            "Ingested content [20662f12-6ce0-44be-a899-5c5fb3cc9e4f].\n"
          ]
        },
        {
          "output_type": "stream",
          "name": "stderr",
          "text": [
            "\r 86%|████████▌ | 86/100 [00:35<00:13,  1.01it/s]"
          ]
        },
        {
          "output_type": "stream",
          "name": "stdout",
          "text": [
            "Ingested content [3d814ba3-0cff-4dee-8ccf-9e4f7abe5d5a].\n"
          ]
        },
        {
          "output_type": "stream",
          "name": "stderr",
          "text": [
            "\r 87%|████████▋ | 87/100 [00:36<00:13,  1.02s/it]"
          ]
        },
        {
          "output_type": "stream",
          "name": "stdout",
          "text": [
            "Ingested content [fdddc5b8-679c-4fab-81e7-b135af790804].\n"
          ]
        },
        {
          "output_type": "stream",
          "name": "stderr",
          "text": [
            " 89%|████████▉ | 89/100 [00:37<00:07,  1.45it/s]"
          ]
        },
        {
          "output_type": "stream",
          "name": "stdout",
          "text": [
            "Ingested content [313c648a-2c46-4b35-9b45-f8443a5646e4].\n",
            "Ingested content [ceef065b-12d2-4c31-85da-d4fca99b2408].\n",
            "Ingested content [7f337fb6-5ecd-4a1a-9f72-a60345ea4a9c].\n",
            "Ingested content [1e8a5253-7302-4919-a5bf-83b25e567302].\n"
          ]
        },
        {
          "output_type": "stream",
          "name": "stderr",
          "text": [
            " 93%|█████████▎| 93/100 [00:37<00:02,  2.48it/s]"
          ]
        },
        {
          "output_type": "stream",
          "name": "stdout",
          "text": [
            "Ingested content [4a9d4746-95e8-4aa1-b488-9e86c6bc8e09].\n",
            "Ingested content [47e08613-62bb-4280-9ccf-c939461a6383].\n"
          ]
        },
        {
          "output_type": "stream",
          "name": "stderr",
          "text": [
            "\r 94%|█████████▍| 94/100 [00:38<00:03,  1.97it/s]"
          ]
        },
        {
          "output_type": "stream",
          "name": "stdout",
          "text": [
            "Ingested content [f89dc340-f8ba-44d2-8f7e-4e8deae7a971].\n",
            "Ingested content [9dff5a48-03d0-4960-9a9b-d21b9b1f8718].\n"
          ]
        },
        {
          "output_type": "stream",
          "name": "stderr",
          "text": [
            "\r 96%|█████████▌| 96/100 [00:39<00:01,  2.70it/s]"
          ]
        },
        {
          "output_type": "stream",
          "name": "stdout",
          "text": [
            "Ingested content [4825973b-00dc-4892-94a4-fd011099606c].\n",
            "Ingested content [ebfb6e62-84ca-4de6-bdcc-dff3c01a826b].\n"
          ]
        },
        {
          "output_type": "stream",
          "name": "stderr",
          "text": [
            "\r 98%|█████████▊| 98/100 [00:39<00:00,  3.40it/s]"
          ]
        },
        {
          "output_type": "stream",
          "name": "stdout",
          "text": [
            "Ingested content [5de38f4d-1fb7-4e24-8348-c8d054e47865].\n"
          ]
        },
        {
          "output_type": "stream",
          "name": "stderr",
          "text": [
            "\r 99%|█████████▉| 99/100 [00:41<00:00,  1.38it/s]"
          ]
        },
        {
          "output_type": "stream",
          "name": "stdout",
          "text": [
            "Ingested content [4e3a0552-2aba-4ce1-bfa6-faa195f17f94].\n"
          ]
        },
        {
          "output_type": "stream",
          "name": "stderr",
          "text": [
            "\r100%|██████████| 100/100 [00:44<00:00,  1.09s/it]"
          ]
        },
        {
          "output_type": "stream",
          "name": "stdout",
          "text": [
            "Ingested content [887aeb24-3bfe-4c51-877a-f2a882ac2f5f].\n",
            "Ingested all contents.\n"
          ]
        }
      ]
    },
    {
      "cell_type": "markdown",
      "source": [
        "Execute example RAG prompt with citations"
      ],
      "metadata": {
        "id": "P0jwfpfN6dbJ"
      }
    },
    {
      "cell_type": "code",
      "source": [
        "import time\n",
        "\n",
        "# Remove any existing conversations and specifications; only needed for notebook example\n",
        "await delete_all_conversations()\n",
        "await delete_all_specifications()\n",
        "\n",
        "print('Deleted all conversations and specifications.')\n",
        "\n",
        "prompt = 'If a Clare Valley winemaker inadvertently underpays their contributions to the Fund, what are the potential consequences, and is there a grace period for making up the shortfall?'\n",
        "\n",
        "model = enums.OpenAIModels.GPT4O_MINI_128K\n",
        "#model = enums.OpenAIModels.O1_MINI_128K\n",
        "\n",
        "specification_id = await create_openai_specification(model)\n",
        "\n",
        "if specification_id is not None:\n",
        "    print(f'Created specification [{specification_id}].')\n",
        "\n",
        "    conversation_id = await create_conversation(specification_id=specification_id)\n",
        "\n",
        "    if conversation_id is not None:\n",
        "        message, citations = await prompt_conversation(conversation_id, prompt)\n",
        "\n",
        "        if message is not None:\n",
        "            display(Markdown(f'**Final Response:**\\n{message}'))\n",
        "            print()\n",
        "\n",
        "        if citations is not None:\n",
        "            print(\"\\nReference Information:\")\n",
        "\n",
        "            for citation in citations:\n",
        "                if citation is not None and citation.content is not None:\n",
        "                    display(Markdown(f'**Citation [{citation.index}]:** {citation.content.name}'))\n",
        "                    display(Markdown(citation.text))\n",
        "                    print()\n"
      ],
      "metadata": {
        "id": "2NDBOdLzmuq_",
        "colab": {
          "base_uri": "https://localhost:8080/",
          "height": 1000
        },
        "outputId": "18535bd5-a196-44a0-f28d-ca7d51332562"
      },
      "execution_count": null,
      "outputs": [
        {
          "output_type": "stream",
          "name": "stdout",
          "text": [
            "Deleted all conversations and specifications.\n",
            "Created specification [a9f062b5-7e0d-4139-b7f5-da9e26cd27ec].\n"
          ]
        },
        {
          "output_type": "display_data",
          "data": {
            "text/plain": [
              "<IPython.core.display.Markdown object>"
            ],
            "text/markdown": "**Final Response:**\nIf a Clare Valley winemaker underpays their contributions to the Fund, they may be considered in default regarding their contributions. This status can lead to exclusion from receiving direct benefits or services funded by the contributions to the Fund. Additionally, the winemaker is required to make up the shortfall by paying the outstanding contributions, which must be done by the last day of the month following the prescribed period. [1][2][3]\n\nThere is no explicit grace period mentioned for making up the shortfall in contributions. However, the regulations stipulate that contributions are due on or before the last day of the month following the prescribed period, implying that timely payment is crucial to avoid penalties or default status. [2][1]\n\n"
          },
          "metadata": {}
        },
        {
          "output_type": "stream",
          "name": "stdout",
          "text": [
            "\n",
            "\n",
            "Reference Information:\n"
          ]
        },
        {
          "output_type": "display_data",
          "data": {
            "text/plain": [
              "<IPython.core.display.Markdown object>"
            ],
            "text/markdown": "**Citation [1]:** south_australian_legislation:2023-03-30/2021.127.un"
          },
          "metadata": {}
        },
        {
          "output_type": "display_data",
          "data": {
            "text/plain": [
              "<IPython.core.display.Markdown object>"
            ],
            "text/markdown": "(5)\tThe Minister may, by notice in the Gazette published before the date for payment of contributions for a prescribed period, vary an amount fixed under subregulation (1) or (2) in respect of the prescribed period.\n\t(6)\tIf the Minister varies an amount payable under subregulation (1) in respect of a prescribed period after the commencement of the prescribed period, the amount as varied applies only in respect of the part of the prescribed period following the date on which the variation takes effect.\n\t(7)\tA Clare Valley winemaker must—\n\t(a)\tkeep proper records relating to the tonnage of Clare Valley grapes delivered to the winemaker, the growers of those grapes and the contributions required to be made (on the winemaker's own behalf and on behalf of growers) in respect of those grapes; and\n\t(b)\tmake those records available for inspection at any reasonable time by a person authorised by the Minister for the purpose.\n\t(8)\tA Clare Valley winemaker must, on or before the last day of the month that immediately follows a prescribed period—\n\t(a)\tfurnish the Minister with a financial statement relating to the contributions (on the winemaker's own behalf and on behalf of growers) for Clare Valley grapes delivered during that prescribed period that—\n\t(i)\tis in the form, and contains the information, required by the Minister; and\n\t(ii)\tis, if the person has the necessary equipment, in an electronic form acceptable to the Minister; and\n\t(b)\tforward to the Minister, with the financial statement required by paragraph (a), the required contributions (on the winemaker's own behalf and on behalf of growers) for Clare Valley grapes delivered during the prescribed period to which the financial statement relates.\n6—Refunds of contributions\n\t(1)\tRefunds of contributions paid under these regulations in respect of Clare Valley grapes delivered during a prescribed period may be claimed by notice in writing to the Minister within the 6 months following that prescribed period as follows:\n\t(a)\ta grower of Clare Valley grapes may claim a refund in respect of contributions paid by the grower or by a Clare Valley winemaker on behalf of the grower;\n\t(b)\ta Clare Valley winemaker may claim a refund in respect of contributions paid on the winemaker's own behalf.\n\t(2)\tA person claiming a refund under subregulation (1) must supply the Minister with evidence acceptable to the Minister of the contributions made by or on behalf of the claimant in respect of which the claim for refund is made.\n\t(3)\tIf the person satisfies the Minister that the person is entitled to a refund, the Minister must refund to the person the amount of the contributions paid by or on behalf of the person, together with interest (at the official cash rate) on that amount for the period commencing on the date of payment of the contributions to the Minister and ending on the date of lodgment of the claim for the refund.\n\t(4)\tIn this regulation—\nofficial cash rate means the cash rate fixed by the Reserve Bank of Australia and prevailing on the date of lodgment of the claim for the refund.\n7—Application of Fund\nThe Fund may be applied by the Minister for any of the following purposes:\n\t(a)\tpayments to a body that, in the opinion of the Minister, represents Clare Valley winemakers or growers of Clare Valley grapes (or both) for 1 or more of the following purposes:\n\t(i)\tthe reasonable operating and management expenses of the body;\n\t(ii)\tpromoting the Clare Valley wine industry;\n\t(iii)\tundertaking or facilitating research and development, or the collection and dissemination to Clare Valley winemakers and growers of Clare Valley grapes of information, relevant to the Clare Valley wine industry and, in particular, to the improvement of practices in the industry;\n\t(iv)\tthe participation of the body in regional, State and national wine industry events;\n\t(v)\tprograms designed to encourage communication and cooperation between Clare Valley winemakers and growers of Clare Valley grapes;\n\t(vi)\tother purposes of the body;\n\t(b)\tpayments for other purposes for the benefit of the Clare Valley wine industry;\n\t(c)\tpayment of the expenses of administering the Fund;\n\t(d)\trepayment of contributions to the Fund under regulation 6.\n8—Exchange of information\nThe Minister may provide a body to which payments are made out of the Fund under regulation 7(a) with information identifying growers of Clare Valley grapes and Clare Valley winemakers who have paid or been refunded contributions under these regulations.\n9—Exclusion from benefits of person in default in relation to contributions\nA person who is in default in relation to contributions to the Fund is not entitled to receive direct benefits or services funded by payments from the Fund.\n10—False or misleading statements\nA person must not make a statement that is false or misleading in a material particular (whether by reason of the inclusion or omission of any particular) in any information provided, or record kept, for the purposes of these regulations.\nMaximum penalty: $5 000.\n\n\n\nSchedule 1—Map showing Clare Valley\nThe following map is provided for information purposes only.\n\n\n\nSchedule 2—Transitional provisions\nPart 2—Transitional provisions\n2—Transitional provisions\n\t(1)\tSubject to this clause, the revoked regulations, as in force immediately before their revocation under clause 1 of this Schedule, continue to operate in respect of the prescribed period under the revoked regulations that commenced on 1 June 2021 (the transitional prescribed period).\n\t(2)\tThe Minister may, by notice in the Gazette published before the date for payment of contributions for the transitional prescribed period, vary an amount fixed under regulation 5 of the revoked regulations in respect of that period."
          },
          "metadata": {}
        },
        {
          "output_type": "stream",
          "name": "stdout",
          "text": [
            "\n"
          ]
        },
        {
          "output_type": "display_data",
          "data": {
            "text/plain": [
              "<IPython.core.display.Markdown object>"
            ],
            "text/markdown": "**Citation [2]:** south_australian_legislation:2023-03-30/2021.127.un"
          },
          "metadata": {}
        },
        {
          "output_type": "display_data",
          "data": {
            "text/plain": [
              "<IPython.core.display.Markdown object>"
            ],
            "text/markdown": "South Australia\nPrimary Industry Funding Schemes (Clare Valley Wine Industry Fund) Regulations 2021\nunder the Primary Industry Funding Schemes Act 1998\n\n\n\nContents\n1\tShort title\n3\tInterpretation\n4\tClare Valley Wine Industry Fund\n5\tContributions to Fund\n6\tRefunds of contributions\n7\tApplication of Fund\n8\tExchange of information\n9\tExclusion from benefits of person in default in relation to contributions\n10\tFalse or misleading statements\nSchedule 1—Map showing Clare Valley\nSchedule 2—Transitional provisions\nPart 2—Transitional provisions\n2\tTransitional provisions\nLegislative history\n\n\n\n1—Short title\nThese regulations may be cited as the Primary Industry Funding Schemes (Clare Valley Wine Industry Fund) Regulations 2021.\n3—Interpretation\n\t(1)\tIn these regulations, unless the contrary intention appears—\nAct means the Primary Industry Funding Schemes Act 1998;\nClare Valley means the geographical area in relation to which the geographical indication \"Clare Valley\" is in force under the Wine Australia Act 2013 of the Commonwealth at the commencement of these regulations (see Schedule 1);\nClare Valley grapes means any variety of grapes grown in the Clare Valley and used or intended to be used for wine;\nClare Valley winemaker means a person who carries on a business of making wine and who processes Clare Valley grapes for that purpose;\ndefault in relation to contributions to the Fund—see subregulation (2);\ndelivered—see subregulation (3);\nFund—see regulation 4;\nprescribed period means each of the following periods:\n\t(a)\ta prescribed period within the meaning of the revoked regulations (up to and including the period of 12 months commencing on 1 June 2021);\n\t(b)\tthe period of 12 months commencing on 1 June 2022 or on 1 June in any subsequent year;\nrevoked regulations means the Primary Industry Funding Schemes (Clare Valley Wine Industry Fund) Regulations 2008.\n\t(2)\tA person is in default in relation to contributions to the Fund if, within the immediately preceding 2 prescribed periods—\n\t(a)\tall or some of the contributions payable to the Fund by the person under these or the revoked regulations have not been paid; or\n\t(b)\tthe person has been refunded contributions from the Fund under these or the revoked regulations.\n\t(3)\tFor the purposes of these regulations—\n\t(a)\tgrapes will be taken to be delivered to a Clare Valley winemaker by a grower of Clare Valley grapes when the winemaker takes possession of the grapes; and\n\t(b)\tif a Clare Valley winemaker processes Clare Valley grapes grown by the winemaker, grapes will be taken to be delivered to the winemaker when the winemaker places the grapes in a container for the purposes of commencing processing of the grapes (including placing the grapes in a container for fermentation or in preparation for crushing or pressing).\n4—Clare Valley Wine Industry Fund\n\t(1)\tThe Clare Valley Wine Industry Fund (the Fund) established under the revoked regulations continues in existence.\n\t(2)\tThe Fund is administered by the Minister.\n\t(3)\tThe Fund consists of—\n\t(a)\tthe amount held in the Fund at the commencement of these regulations; and\n\t(b)\tcontributions paid or collected in accordance with the revoked regulations; and\n\t(c)\tcontributions paid or collected in accordance with these regulations; and\n\t(d)\tincome of the Fund from investment; and\n\t(e)\tany other sums received by the Minister for payment into the Fund.\n5—Contributions to Fund\n\t(1)\tSubject to these regulations, the following contributions are payable to the Minister for payment into the Fund for Clare Valley grapes delivered to a Clare Valley winemaker during a prescribed period commencing on or after 1 June 2022:\n\t(a)\tin the case of a Clare Valley winemaker who has a vineyard, winemaking facility or cellar door in the Clare Valley, the winemaker must contribute whichever of the following is the greater amount:\n\t(i)\tthe amount fixed by the Minister, by notice in the Gazette, as the minimum contribution for the period;\n\t(ii)\tan amount being the sum of—\n\t(A)\tthe amount fixed by the Minister for the period, by notice in the Gazette, for each tonne of grapes grown by the winemaker delivered during the period; and\n\t(B)\tthe amount fixed by the Minister for the period, by notice in the Gazette, for each tonne of grapes grown by a person other than the winemaker delivered during the prescribed period;\n\t(b)\tin the case of any other Clare Valley winemaker, the winemaker must contribute the amount fixed for the period by the Minister, by notice in the Gazette, for each tonne of grapes grown by a person other than the winemaker delivered during the prescribed period;\n\t(c)\tif the grapes are grown by a person other than the winemaker, the grower of the grapes must contribute the amount fixed by the Minister for the period by notice in the Gazette for each tonne of grapes delivered during the prescribed period.\n\t(2)\tThe Minister may, by notice in the Gazette, fix maximum amounts that are to be payable for a prescribed period by the grower of grapes or a winemaker under this regulation.\n\t(3)\tThe contributions in respect of a prescribed period are payable on or before the last day of the month that immediately follows the prescribed period.\n\t(4)\tContributions payable by a grower of Clare Valley grapes must be paid on behalf of the grower by the Clare Valley winemaker who purchases the grapes out of the amount payable by the winemaker to the grower for the grapes."
          },
          "metadata": {}
        },
        {
          "output_type": "stream",
          "name": "stdout",
          "text": [
            "\n"
          ]
        },
        {
          "output_type": "display_data",
          "data": {
            "text/plain": [
              "<IPython.core.display.Markdown object>"
            ],
            "text/markdown": "**Citation [3]:** south_australian_legislation:2023-03-30/2021.127.un"
          },
          "metadata": {}
        },
        {
          "output_type": "display_data",
          "data": {
            "text/plain": [
              "<IPython.core.display.Markdown object>"
            ],
            "text/markdown": "(3)\tThe period within which a person may claim a refund in respect of contributions paid into the Fund for the transitional prescribed period under regulation 6 of the revoked regulations is modified to be the period of 6 months following the transitional prescribed period.\n\n\n\nLegislative history\nNotes\n\t•\tFor further information relating to the Act and subordinate legislation made under the Act see the Index of South Australian Statutes or www.legislation.sa.gov.au.\nLegislation revoked by principal regulations\nThe Primary Industry Funding Schemes (Clare Valley Wine Industry Fund) Regulations 2021 revoked the following:\nPrimary Industry Funding Schemes (Clare Valley Wine Industry Fund) Regulations 2008\nPrincipal regulations and variations\nNew entries appear in bold.\nYear|No|Reference|Commencement|\n2021|127|Gazette 2.9.2021 p3446 |2.9.2021: r 2|\n2023|13|Gazette 30.3.2023 p627|30.3.2023: r 2|\nProvisions varied\nNew entries appear in bold.\nEntries that relate to provisions that have been deleted appear in italics.\nProvision|How varied|Commencement|\nr 2|omitted under Legislation Revision and Publication Act 2002|30.3.2023|\nr 3|||\nr 3(1)|||\nprescribed period|amended by 13/2023 r 3|30.3.2023|\nSch 2|||\nPt 1|omitted under Legislation Revision and Publication Act 2002|30.3.2023|"
          },
          "metadata": {}
        },
        {
          "output_type": "stream",
          "name": "stdout",
          "text": [
            "\n"
          ]
        }
      ]
    },
    {
      "cell_type": "markdown",
      "source": [
        "Initialize CrewAI"
      ],
      "metadata": {
        "id": "DSLk4gDLazBc"
      }
    },
    {
      "cell_type": "code",
      "source": [
        "from crewai import Agent, Task, Crew, Process\n",
        "from graphlit_tools import PromptTool\n",
        "from textwrap import dedent\n",
        "\n",
        "os.environ['OPENAI_API_KEY'] = userdata.get('OPENAI_API_KEY')\n",
        "\n",
        "# NOTE: providing LLM specification which specifies the model to use for LLM completion\n",
        "prompt_tool = PromptTool(graphlit, specification_id=specification_id)\n",
        "\n",
        "# Agents\n",
        "legal_review_agent = Agent(\n",
        "    role=\"Senior Legal Document Reviewer\",\n",
        "    goal=\"Review and summarize legal documents, flag important clauses, and retrieve relevant case law.\",\n",
        "    backstory=(\n",
        "        \"You are an experienced legal professional with expertise in Australian legislation \"\n",
        "        \"and case law. You have been tasked with reviewing the legal obligations of a Clare Valley \"\n",
        "        \"winemaker who has underpaid their contributions to the Fund.\"\n",
        "    ),\n",
        "    verbose=True,\n",
        "    tools=[prompt_tool],\n",
        "    max_execution_time=60,\n",
        "    max_rpm=None,\n",
        ")\n",
        "\n",
        "compliance_agent = Agent(\n",
        "    role=\"Legal Compliance Expert\",\n",
        "    goal=\"Identify and flag compliance-related issues, ensuring adherence to legal standards.\",\n",
        "    backstory=(\n",
        "        \"You specialize in legal compliance, with a focus on ensuring that organizations \"\n",
        "        \"meet their regulatory obligations. Your task is to assess the compliance risks \"\n",
        "        \"associated with the winemaker's underpayment and determine how to rectify the issue.\"\n",
        "    ),\n",
        "    verbose=True,\n",
        "    tools=[prompt_tool],\n",
        "    max_execution_time=60,\n",
        "    max_rpm=None,\n",
        ")\n",
        "\n",
        "case_law_researcher = Agent(\n",
        "    role=\"Case Law Researcher\",\n",
        "    goal=\"Retrieve relevant case law and provide context for legal decisions.\",\n",
        "    backstory=(\n",
        "        \"You are a legal researcher focused on finding and analyzing relevant legal precedents. \"\n",
        "        \"In this case, you need to identify any case law that provides guidance on similar compliance \"\n",
        "        \"issues within the wine industry or related sectors.\"\n",
        "    ),\n",
        "    verbose=True,\n",
        "    tools=[prompt_tool],\n",
        "    max_execution_time=60,\n",
        "    max_rpm=None,\n",
        ")\n",
        "\n",
        "legal_drafter = Agent(\n",
        "    role=\"Legal Drafting Specialist\",\n",
        "    goal=\"Draft legal documents that are compliant with legal standards and aligned with organizational goals.\",\n",
        "    backstory=(\n",
        "        \"You are a skilled legal drafter responsible for creating precise and legally sound documents. \"\n",
        "        \"In this task, you will draft a formal response on behalf of the winemaker to the regulatory body, \"\n",
        "        \"addressing the underpayment issue and proposing a compliant solution.\"\n",
        "    ),\n",
        "    verbose=True,\n",
        "    max_execution_time=60,\n",
        "    max_rpm=None,\n",
        ")\n",
        "\n",
        "# Tasks\n",
        "review_task = Task(\n",
        "    description=(\n",
        "        \"Review the Clare Valley Wine Industry Fund regulations and summarize the key points. \"\n",
        "        \"Flag any important clauses or terms that require further attention, particularly those \"\n",
        "        \"related to underpayment and compliance.\"\n",
        "    ),\n",
        "    expected_output=\"Summarized report with flagged clauses.\",\n",
        "    agent=legal_review_agent,\n",
        ")\n",
        "\n",
        "compliance_task = Task(\n",
        "    description=(\n",
        "        \"Analyze the summary and identify any compliance issues or potential risks associated with \"\n",
        "        \"the winemaker's underpayment. Provide recommendations on how to rectify the situation.\"\n",
        "    ),\n",
        "    expected_output=\"Compliance report with risk assessment and recommendations.\",\n",
        "    agent=compliance_agent,\n",
        ")\n",
        "\n",
        "case_law_task = Task(\n",
        "    description=(\n",
        "        \"Retrieve relevant case law that may provide guidance on similar compliance issues in the wine industry. \"\n",
        "        \"Analyze how these precedents might impact the current legal situation.\"\n",
        "    ),\n",
        "    expected_output=\"Case law report with analysis.\",\n",
        "    agent=case_law_researcher,\n",
        ")\n",
        "\n",
        "drafting_task = Task(\n",
        "    description=(\n",
        "        \"Draft a formal legal response on behalf of the winemaker to the regulatory body. \"\n",
        "        \"The document should address the underpayment issue, propose a compliant solution, \"\n",
        "        \"and reference relevant regulations and case law.\"\n",
        "    ),\n",
        "    expected_output=\"Drafted legal document in markdown format of max 2000 characters.\",\n",
        "    agent=legal_drafter,\n",
        ")\n",
        "\n",
        "# Crew process\n",
        "crew = Crew(\n",
        "    agents=[legal_review_agent, compliance_agent, case_law_researcher, legal_drafter],\n",
        "    tasks=[review_task, compliance_task, case_law_task, drafting_task],\n",
        "    verbose=True,\n",
        "    process=Process.sequential,\n",
        "    memory=True\n",
        ")\n",
        "\n",
        "# Kick off the process\n",
        "result = await crew.kickoff_async()\n",
        "\n",
        "print(result)"
      ],
      "metadata": {
        "id": "0uZ-KmQ8gTf7",
        "colab": {
          "base_uri": "https://localhost:8080/"
        },
        "outputId": "60a38cce-5699-496a-aa78-b8f836358e29"
      },
      "execution_count": null,
      "outputs": [
        {
          "output_type": "stream",
          "name": "stdout",
          "text": [
            "\u001b[1m\u001b[95m# Agent:\u001b[00m \u001b[1m\u001b[92mSenior Legal Document Reviewer\u001b[00m\n",
            "\u001b[95m## Task:\u001b[00m \u001b[92mReview the Clare Valley Wine Industry Fund regulations and summarize the key points. Flag any important clauses or terms that require further attention, particularly those related to underpayment and compliance.\u001b[00m\n",
            "\n",
            "\n",
            "\u001b[1m\u001b[95m# Agent:\u001b[00m \u001b[1m\u001b[92mSenior Legal Document Reviewer\u001b[00m\n",
            "\u001b[95m## Thought:\u001b[00m \u001b[92mThought: I should use the Graphlit prompt tool to retrieve the relevant content from the Clare Valley Wine Industry Fund regulations to understand the key points, especially those related to underpayment and compliance.\u001b[00m\n",
            "\u001b[95m## Using tool:\u001b[00m \u001b[92mGraphlit prompt tool\u001b[00m\n",
            "\u001b[95m## Tool Input:\u001b[00m \u001b[92m\n",
            "{\n",
            "  \"prompt\": \"Retrieve and summarize key points from the Clare Valley Wine Industry Fund regulations, particularly focusing on clauses related to underpayment and compliance.\"\n",
            "}\u001b[00m\n",
            "\u001b[95m## Tool Output:\u001b[00m \u001b[92m\n",
            "The Clare Valley Wine Industry Fund is administered by the Minister and consists of contributions from winemakers and growers, income from investments, and other sums received by the Minister.\n",
            "\n",
            "Contributions to the Fund are required from Clare Valley winemakers and growers based on the tonnage of grapes delivered during a prescribed period, with amounts fixed by the Minister.\n",
            "\n",
            "Winemakers must keep proper records of grape deliveries and contributions, and provide financial statements and contributions to the Minister by the end of the month following the prescribed period.\n",
            "\n",
            "Refunds of contributions can be claimed within six months following the prescribed period, provided acceptable evidence of contributions is supplied to the Minister.\n",
            "\n",
            "A person in default of contributions is not entitled to receive direct benefits or services funded by the Fund.\n",
            "\n",
            "False or misleading statements in information provided or records kept for the purposes of these regulations are subject to a maximum penalty of $5,000.\u001b[00m\n",
            "\n",
            "\n",
            "\u001b[1m\u001b[95m# Agent:\u001b[00m \u001b[1m\u001b[92mSenior Legal Document Reviewer\u001b[00m\n",
            "\u001b[95m## Final Answer:\u001b[00m \u001b[92m\n",
            "The Clare Valley Wine Industry Fund operates under specific regulations with a focus on compliance and proper contribution by winemakers and growers. Below are the key points and flagged clauses from the regulations:\n",
            "\n",
            "1. **Fund Administration**: The Fund is administered by the Minister and includes contributions from winemakers and growers, investment income, and other sums received.\n",
            "\n",
            "2. **Contribution Requirements**: \n",
            "   - Contributions are based on the tonnage of grapes delivered during a prescribed period.\n",
            "   - Amounts are fixed by the Minister.\n",
            "   - Proper records of grape deliveries and contributions must be maintained by winemakers.\n",
            "\n",
            "3. **Financial Reporting**:\n",
            "   - Winemakers must provide financial statements and contributions to the Minister by the end of the month following the prescribed period.\n",
            "\n",
            "4. **Refund Claims**:\n",
            "   - Refunds of contributions can be claimed within six months following the prescribed period.\n",
            "   - Acceptable evidence of contributions must be supplied to the Minister for claiming refunds.\n",
            "\n",
            "5. **Compliance and Penalties**:\n",
            "   - Persons in default of contributions are not entitled to receive direct benefits or services funded by the Fund.\n",
            "   - False or misleading statements in information provided or records kept are subject to a maximum penalty of $5,000.\n",
            "\n",
            "Flagged Clauses for Further Attention:\n",
            "- Obligation to maintain proper records and submit financial statements.\n",
            "- Timely provision of contributions and claims for refunds.\n",
            "- Penalties for false or misleading information, emphasizing the $5,000 penalty.\n",
            "\n",
            "These points encapsulate the critical aspects of the Clare Valley Wine Industry Fund regulations pertinent to underpayment and compliance.\u001b[00m\n",
            "\u001b[1m\u001b[95m# Agent:\u001b[00m \u001b[1m\u001b[92mLegal Compliance Expert\u001b[00m\n",
            "\u001b[95m## Task:\u001b[00m \u001b[92mAnalyze the summary and identify any compliance issues or potential risks associated with the winemaker's underpayment. Provide recommendations on how to rectify the situation.\u001b[00m\n",
            "\n",
            "\n",
            "\u001b[1m\u001b[95m# Agent:\u001b[00m \u001b[1m\u001b[92mLegal Compliance Expert\u001b[00m\n",
            "\u001b[95m## Thought:\u001b[00m \u001b[92mTo provide a thorough compliance report with risk assessment and recommendations, I need to analyze the given context on the Clare Valley Wine Industry Fund regulations and identify how underpayment by a winemaker would intersect with these guidelines. \n",
            "Firstly, let's identify the compliance risks related to underpayment:\n",
            "- Risk of non-compliance with contribution requirements.\n",
            "- Potential penalties for incorrect or incomplete financial reporting.\n",
            "- The risk of being ineligible to receive benefits from the Fund.\n",
            "- Risk of penalties for false or misleading information.\n",
            "I'll use the Graphlit prompt tool to gain a deeper insight into the specific clauses that might be relevant to these risks.\n",
            "Thought: I need to conduct a detailed assessment of the potential compliance issues with contributions and reporting under the Clare Valley Wine Industry Fund.\u001b[00m\n",
            "\u001b[95m## Using tool:\u001b[00m \u001b[92mGraphlit prompt tool\u001b[00m\n",
            "\u001b[95m## Tool Input:\u001b[00m \u001b[92m\n",
            "{\n",
            "  \"prompt\": \"Analyze the risk of non-compliance with contribution requirements and financial reporting under the Clare Valley Wine Industry Fund regulations.\"\n",
            "}\u001b[00m\n",
            "\u001b[95m## Tool Output:\u001b[00m \u001b[92m\n",
            "Non-compliance with contribution requirements can result in exclusion from benefits or services funded by the Clare Valley Wine Industry Fund.\n",
            "\n",
            "Winemakers must keep proper records of grape deliveries and contributions, and make these records available for inspection by authorized persons.\n",
            "\n",
            "Refunds of contributions can be claimed within six months following the prescribed period, provided acceptable evidence is supplied.\n",
            "\n",
            "False or misleading statements in information provided or records kept for the purposes of these regulations can incur a maximum penalty of $5,000.\n",
            "\n",
            "The Minister may vary the amounts payable for contributions by notice in the Gazette, and these variations apply only to the part of the prescribed period following the date of the variation.\n",
            "\n",
            "Financial statements relating to contributions must be furnished to the Minister by the last day of the month following the prescribed period.\n",
            "\n",
            "Failure to comply with financial reporting requirements can lead to significant penalties and exclusion from fund benefits.\n",
            "\n",
            "The Fund may be applied for various purposes including promoting the Clare Valley wine industry and facilitating research and development.\u001b[00m\n",
            "\n",
            "\n",
            "\u001b[1m\u001b[95m# Agent:\u001b[00m \u001b[1m\u001b[92mLegal Compliance Expert\u001b[00m\n",
            "\u001b[95m## Final Answer:\u001b[00m \u001b[92m\n",
            "**Compliance Report with Risk Assessment and Recommendations**\n",
            "\n",
            "**Risk Assessment:**\n",
            "\n",
            "1. **Non-compliance with Contribution Requirements:**\n",
            "   - Winemaker's underpayment directly results in non-compliance with the Clare Valley Wine Industry Fund’s contribution requirements.\n",
            "   - Consequences include exclusion from benefits or services funded by the Fund and potential penalties for false or misleading information (maximum $5,000).\n",
            "\n",
            "2. **Financial Reporting Risks:**\n",
            "   - Inaccurate or incomplete financial statements pose a significant risk.\n",
            "   - Late submissions can result in penalties and impact compliance status.\n",
            "\n",
            "**Recommendations:**\n",
            "\n",
            "1. **Ensure Accurate Record Keeping:**\n",
            "   - **Action:** Implement rigorous controls to maintain accurate and detailed records of grape deliveries and contributions.\n",
            "   - **Rationale:** This will confirm that all contributions are accurately tracked and reported, minimizing the risk of underpayment and regulatory breaches.\n",
            "   - **Steps:**\n",
            "     - Introduce digital record-keeping systems.\n",
            "     - Schedule regular internal audits.\n",
            "\n",
            "2. **Timely and Correct Financial Reporting:**\n",
            "   - **Action:** Create a systematic process for timely submission of financial statements.\n",
            "   - **Rationale:** Meeting deadlines and accurate submissions will help avoid penalties and show compliance with the Fund’s requirements.\n",
            "   - **Steps:**\n",
            "     - Install reminder systems for reporting deadlines.\n",
            "     - Appoint a compliance officer to review financial data prior to submission.\n",
            "\n",
            "3. **Training and Awareness:**\n",
            "   - **Action:** Conduct regular compliance training sessions for staff.\n",
            "   - **Rationale:** Ensuring that employees understand the regulatory requirements will help prevent inadvertent non-compliance.\n",
            "   - **Steps:**\n",
            "     - Organize quarterly training workshops.\n",
            "     - Circulate updates on any changes in regulations.\n",
            "\n",
            "4. **Seek Professional Advice:**\n",
            "   - **Action:** Engage legal and financial professionals for compliance consultation.\n",
            "   - **Rationale:** Expert advice can provide insights and ensure that the organization’s practices align with regulatory expectations.\n",
            "   - **Steps:**\n",
            "     - Schedule regular consultations with a legal compliance expert.\n",
            "     - Consider an annual compliance audit by an external firm.\n",
            "\n",
            "By implementing these recommendations, the winemaker can mitigate risks associated with underpayment, ensure adherence to the Clare Valley Wine Industry Fund regulations, and maintain eligibility for benefits.\u001b[00m\n",
            "\u001b[1m\u001b[95m# Agent:\u001b[00m \u001b[1m\u001b[92mCase Law Researcher\u001b[00m\n",
            "\u001b[95m## Task:\u001b[00m \u001b[92mRetrieve relevant case law that may provide guidance on similar compliance issues in the wine industry. Analyze how these precedents might impact the current legal situation.\u001b[00m\n",
            "\n",
            "\n",
            "\u001b[1m\u001b[95m# Agent:\u001b[00m \u001b[1m\u001b[92mCase Law Researcher\u001b[00m\n",
            "\u001b[95m## Thought:\u001b[00m \u001b[92mI need to identify any relevant case law about compliance issues within the wine industry or closely related sectors. This will involve looking for precedents that address similar challenges such as non-compliance with industry contribution requirements, financial reporting risks, and regulatory breaches.\u001b[00m\n",
            "\u001b[95m## Using tool:\u001b[00m \u001b[92mGraphlit prompt tool\u001b[00m\n",
            "\u001b[95m## Tool Input:\u001b[00m \u001b[92m\n",
            "{\n",
            "  \"prompt\": \"Retrieve relevant case law that provides guidance on similar compliance issues within the wine industry or related sectors, particularly concerning non-compliance with contribution requirements, financial reporting risks, and regulatory breaches.\"\n",
            "}\u001b[00m\n",
            "\u001b[95m## Tool Output:\u001b[00m \u001b[92m\n",
            "In the case of Cooper Brookes (Wollongong) Pty Ltd v Federal Commissioner of Taxation (1981) CLR 297, the High Court emphasized the importance of statutory construction to ascertain legislative intent, which can be relevant in interpreting compliance requirements in the wine industry.\n",
            "\n",
            "The Federal Court in Phonographic Performance Company of Australia Ltd v Copyright Tribunal of Australia [2019] FCAFC 95 highlighted the role of regulatory bodies in supervising compliance and addressing market power, which can be analogous to the oversight of financial contributions in the wine industry.\n",
            "\n",
            "In Application by Australasian Performing Right Association Limited v Australasian Mechanical Copyright Owners Society [2009] ACopyT 2, the Tribunal dealt with issues of compliance and market power, providing insights into regulatory breaches and financial reporting risks.\n",
            "\n",
            "The case of Rich v Australian Securities and Investments Commission (2004) 220 CLR 129 discussed the principles of general deterrence and public protection, which can be applied to non-compliance with contribution requirements in the wine industry.\n",
            "\n",
            "In Federal Commissioner of Taxation v Cooper Brookes (Wollongong) Pty Ltd (1981) 147 CLR 297, the court addressed the need for practical statutory interpretation to ensure sensible and commercial operation, relevant to compliance in financial reporting.\u001b[00m\n",
            "\n",
            "\n",
            "\u001b[1m\u001b[95m# Agent:\u001b[00m \u001b[1m\u001b[92mCase Law Researcher\u001b[00m\n",
            "\u001b[95m## Final Answer:\u001b[00m \u001b[92m\n",
            "Here is a comprehensive case law report with analysis related to compliance issues within the wine industry, focusing on non-compliance with contribution requirements, financial reporting risks, and regulatory breaches:\n",
            "\n",
            "**Case Law Report and Analysis**\n",
            "\n",
            "1. **Cooper Brookes (Wollongong) Pty Ltd v Federal Commissioner of Taxation (1981) CLR 297**\n",
            "   - **Context:** The High Court emphasized the importance of statutory construction to ascertain legislative intent.\n",
            "   - **Relevance:** This case highlights the need for clear interpretation of compliance requirements, which is critical in the wine industry where precise adherence to contribution requirements and financial reporting is essential. Ensuring the legislative intent behind these regulations is understood can guide compliance efforts effectively.\n",
            "   - **Impact:** The focus on statutory interpretation can assist wine producers in better understanding and conforming to legal requirements, thereby reducing the risk of non-compliance and associated penalties.\n",
            "\n",
            "2. **Phonographic Performance Company of Australia Ltd v Copyright Tribunal of Australia [2019] FCAFC 95**\n",
            "   - **Context:** The Federal Court addressed the role of regulatory bodies in supervising compliance and addressing market power.\n",
            "   - **Relevance:** This case underscores the importance of oversight by regulatory bodies. In the context of the wine industry, analogous regulatory bodies would be responsible for ensuring compliance with financial contributions and reporting standards.\n",
            "   - **Impact:** The decision here can influence how regulatory bodies in the wine industry enforce compliance, potentially leading to stricter monitoring and enforcement to ensure all industry participants meet their financial and reporting obligations.\n",
            "\n",
            "3. **Application by Australasian Performing Right Association Limited v Australasian Mechanical Copyright Owners Society [2009] ACopyT 2**\n",
            "   - **Context:** The Tribunal dealt with compliance issues and market power.\n",
            "   - **Relevance:** This case provides insights into how regulatory breaches and financial reporting risks can be managed, which is pertinent to the wine industry’s need to adhere to contribution and reporting regulations.\n",
            "   - **Impact:** The principles applied in this decision can offer guidance on managing compliance risks and ensuring accurate financial reporting in the wine industry, thus helping to prevent regulatory breaches.\n",
            "\n",
            "4. **Rich v Australian Securities and Investments Commission (2004) 220 CLR 129**\n",
            "   - **Context:** The case discussed the principles of general deterrence and public protection.\n",
            "   - **Relevance:** General deterrence and public protection are essential principles that underpin regulatory frameworks, including those governing the wine industry. This case emphasizes the need for compliance to protect public interests and maintain the integrity of the industry.\n",
            "   - **Impact:** Applying these principles to the wine industry can lead to more rigorous enforcement of compliance requirements, thereby deterring non-compliance and protecting the industry’s reputation.\n",
            "\n",
            "5. **Federal Commissioner of Taxation v Cooper Brookes (Wollongong) Pty Ltd (1981) 147 CLR 297**\n",
            "   - **Context:** The court addressed the need for practical statutory interpretation to ensure sensible and commercial operation.\n",
            "   - **Relevance:** Practical statutory interpretation is crucial for compliance in financial reporting within the wine industry. This case suggests that regulations should be interpreted in a way that facilitates reasonable and workable compliance.\n",
            "   - **Impact:** This approach can aid wine producers in implementing compliance measures that are both effective and commercially viable, thereby reducing the likelihood of regulatory breaches.\n",
            "\n",
            "**Analysis:**\n",
            "The above cases collectively offer significant guidance on handling compliance issues within the wine industry. Understanding and interpreting statutory requirements (as highlighted in Cooper Brookes) is vital for ensuring accurate compliance. The role of regulatory bodies (as seen in the Phonographic Performance Company case) underscores the importance of oversight and enforcement, which can influence how regulations are implemented and monitored in the wine sector.\n",
            "\n",
            "Moreover, the principles of deterrence and public protection (emphasized in Rich v ASIC) reinforce the need for rigorous compliance to safeguard the industry’s integrity and public trust. Finally, the practical approach to statutory interpretation (as in Federal Commissioner of Taxation v Cooper Brookes) ensures that regulations are not only adhered to but also feasible for industry participants to follow.\n",
            "\n",
            "By drawing on these precedents, wine industry participants can better navigate compliance requirements, mitigate risks, and enhance their adherence to regulatory standards, thereby ensuring their continued eligibility for industry benefits and avoiding penalties.\u001b[00m\n",
            "\u001b[1m\u001b[95m# Agent:\u001b[00m \u001b[1m\u001b[92mLegal Drafting Specialist\u001b[00m\n",
            "\u001b[95m## Task:\u001b[00m \u001b[92mDraft a formal legal response on behalf of the winemaker to the regulatory body. The document should address the underpayment issue, propose a compliant solution, and reference relevant regulations and case law.\u001b[00m\n",
            "\n",
            "\n",
            "\u001b[1m\u001b[95m# Agent:\u001b[00m \u001b[1m\u001b[92mLegal Drafting Specialist\u001b[00m\n",
            "\u001b[95m## Final Answer:\u001b[00m \u001b[92m\n",
            "```markdown\n",
            "[Date]\n",
            "\n",
            "[Recipient Name]\n",
            "[Title]\n",
            "[Regulatory Body Name]\n",
            "[Address Line 1]\n",
            "[Address Line 2]\n",
            "[City, State, ZIP Code]\n",
            "\n",
            "Re: Resolution of Underpayment Issue and Compliance with Financial Contribution Requirements\n",
            "\n",
            "Dear [Recipient Name],\n",
            "\n",
            "I write on behalf of [Winemaker’s Name], in response to your notice regarding the underpayment issue related to our contributions to the [specific fund or regulatory requirement]. We take compliance with all regulatory requirements very seriously and regret any oversight that may have led to this situation.\n",
            "\n",
            "**Acknowledgment of Underpayment**\n",
            "\n",
            "Firstly, we acknowledge the underpayment identified by your office and understand the implications of such discrepancies. We have thoroughly reviewed our financial records and compliance practices to ensure that the appropriate contributions were calculated and submitted in accordance with regulatory guidelines. \n",
            "\n",
            "**Legal Basis for Compliance**\n",
            "\n",
            "In addressing this issue, we refer to several key precedents to reaffirm our commitment to compliance and propose a solution:\n",
            "\n",
            "1. **Cooper Brookes (Wollongong) Pty Ltd v Federal Commissioner of Taxation (1981) CLR 297:** As highlighted by the High Court, adherence to statutory construction and understanding legislative intent are crucial. We admit that an error in interpreting the contributions statute may have led to the underpayment. We have since sought to clarify these requirements to prevent future errors.\n",
            "\n",
            "2. **Phonographic Performance Company of Australia Ltd v Copyright Tribunal of Australia [2019] FCAFC 95:** This case underscores the importance of regulatory oversight in ensuring compliance. We appreciate the regulatory body's role in identifying the oversight and are committed to resolving it in accordance with the prescribed procedures.\n",
            "\n",
            "3. **Rich v Australian Securities and Investments Commission (2004) 220 CLR 129:** Emphasizing general deterrence and public protection, this case strengthens our resolve to rigorously comply with financial reporting requirements. Such adherence protects both public interest and industry integrity.\n",
            "\n",
            "**Proposed Compliant Solution**\n",
            "\n",
            "To rectify the underpayment, [Winemaker’s Name] proposes the following steps:\n",
            "\n",
            "1. **Immediate Payment of Due Contributions:** We will process the outstanding contributions amounting to $[specific amount], inclusive of any calculated interest or penalties imposed by [regulatory body/wine industry fund], within [specified timeframe, e.g., 30 days].\n",
            "\n",
            "2. **Implementation of Enhanced Compliance Measures:** To prevent future occurrences, we will:\n",
            "   - Engage an independent auditor to review our financial practices annually.\n",
            "   - Provide additional training to our financial team on compliance with regulatory requirements.\n",
            "   - Establish a liaison officer responsible for regular communication with your office to ensure ongoing compliance.\n",
            "\n",
            "3. **Quarterly Reporting:** We will submit detailed quarterly reports on our contributions to [regulatory body/fund] for the next twelve months to demonstrate ongoing compliance.\n",
            "\n",
            "[Winemaker’s Name] recognizes the importance of compliance for maintaining the integrity of the wine industry and assures you of our full cooperation and commitment to all regulatory requirements.\n",
            "\n",
            "We appreciate your understanding and look forward to working with your office to resolve this matter comprehensively. \n",
            "\n",
            "Please contact me at [Phone Number] or [Email Address] should you require any additional information or wish to discuss the proposed measures.\n",
            "\n",
            "Yours sincerely,\n",
            "\n",
            "[Your Name]  \n",
            "[Your Title]  \n",
            "[Winemaker’s Name]  \n",
            "[Address Line 1]  \n",
            "[Address Line 2]  \n",
            "[City, State, ZIP Code]\n",
            "```\n",
            "\n",
            "This response ensures that all relevant legal precedents are considered and demonstrates a proactive approach to compliance, aligned with the organizational goal of maintaining regulatory standards and industry reputation.\u001b[00m\n",
            "```markdown\n",
            "[Date]\n",
            "\n",
            "[Recipient Name]\n",
            "[Title]\n",
            "[Regulatory Body Name]\n",
            "[Address Line 1]\n",
            "[Address Line 2]\n",
            "[City, State, ZIP Code]\n",
            "\n",
            "Re: Resolution of Underpayment Issue and Compliance with Financial Contribution Requirements\n",
            "\n",
            "Dear [Recipient Name],\n",
            "\n",
            "I write on behalf of [Winemaker’s Name], in response to your notice regarding the underpayment issue related to our contributions to the [specific fund or regulatory requirement]. We take compliance with all regulatory requirements very seriously and regret any oversight that may have led to this situation.\n",
            "\n",
            "**Acknowledgment of Underpayment**\n",
            "\n",
            "Firstly, we acknowledge the underpayment identified by your office and understand the implications of such discrepancies. We have thoroughly reviewed our financial records and compliance practices to ensure that the appropriate contributions were calculated and submitted in accordance with regulatory guidelines. \n",
            "\n",
            "**Legal Basis for Compliance**\n",
            "\n",
            "In addressing this issue, we refer to several key precedents to reaffirm our commitment to compliance and propose a solution:\n",
            "\n",
            "1. **Cooper Brookes (Wollongong) Pty Ltd v Federal Commissioner of Taxation (1981) CLR 297:** As highlighted by the High Court, adherence to statutory construction and understanding legislative intent are crucial. We admit that an error in interpreting the contributions statute may have led to the underpayment. We have since sought to clarify these requirements to prevent future errors.\n",
            "\n",
            "2. **Phonographic Performance Company of Australia Ltd v Copyright Tribunal of Australia [2019] FCAFC 95:** This case underscores the importance of regulatory oversight in ensuring compliance. We appreciate the regulatory body's role in identifying the oversight and are committed to resolving it in accordance with the prescribed procedures.\n",
            "\n",
            "3. **Rich v Australian Securities and Investments Commission (2004) 220 CLR 129:** Emphasizing general deterrence and public protection, this case strengthens our resolve to rigorously comply with financial reporting requirements. Such adherence protects both public interest and industry integrity.\n",
            "\n",
            "**Proposed Compliant Solution**\n",
            "\n",
            "To rectify the underpayment, [Winemaker’s Name] proposes the following steps:\n",
            "\n",
            "1. **Immediate Payment of Due Contributions:** We will process the outstanding contributions amounting to $[specific amount], inclusive of any calculated interest or penalties imposed by [regulatory body/wine industry fund], within [specified timeframe, e.g., 30 days].\n",
            "\n",
            "2. **Implementation of Enhanced Compliance Measures:** To prevent future occurrences, we will:\n",
            "   - Engage an independent auditor to review our financial practices annually.\n",
            "   - Provide additional training to our financial team on compliance with regulatory requirements.\n",
            "   - Establish a liaison officer responsible for regular communication with your office to ensure ongoing compliance.\n",
            "\n",
            "3. **Quarterly Reporting:** We will submit detailed quarterly reports on our contributions to [regulatory body/fund] for the next twelve months to demonstrate ongoing compliance.\n",
            "\n",
            "[Winemaker’s Name] recognizes the importance of compliance for maintaining the integrity of the wine industry and assures you of our full cooperation and commitment to all regulatory requirements.\n",
            "\n",
            "We appreciate your understanding and look forward to working with your office to resolve this matter comprehensively. \n",
            "\n",
            "Please contact me at [Phone Number] or [Email Address] should you require any additional information or wish to discuss the proposed measures.\n",
            "\n",
            "Yours sincerely,\n",
            "\n",
            "[Your Name]  \n",
            "[Your Title]  \n",
            "[Winemaker’s Name]  \n",
            "[Address Line 1]  \n",
            "[Address Line 2]  \n",
            "[City, State, ZIP Code]\n",
            "```\n",
            "\n",
            "This response ensures that all relevant legal precedents are considered and demonstrates a proactive approach to compliance, aligned with the organizational goal of maintaining regulatory standards and industry reputation.\n"
          ]
        }
      ]
    }
  ]
}