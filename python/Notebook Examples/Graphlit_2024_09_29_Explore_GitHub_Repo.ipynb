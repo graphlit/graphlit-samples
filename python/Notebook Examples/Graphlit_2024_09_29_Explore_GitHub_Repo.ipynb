{
  "nbformat": 4,
  "nbformat_minor": 0,
  "metadata": {
    "colab": {
      "provenance": [],
      "authorship_tag": "ABX9TyPHiMqroyESFBM382VXnqas",
      "include_colab_link": true
    },
    "kernelspec": {
      "name": "python3",
      "display_name": "Python 3"
    },
    "language_info": {
      "name": "python"
    }
  },
  "cells": [
    {
      "cell_type": "markdown",
      "metadata": {
        "id": "view-in-github",
        "colab_type": "text"
      },
      "source": [
        "<a href=\"https://colab.research.google.com/github/graphlit/graphlit-samples/blob/main/python/Notebook%20Examples/Graphlit_2024_09_29_Explore_GitHub_Repo.ipynb\" target=\"_parent\"><img src=\"https://colab.research.google.com/assets/colab-badge.svg\" alt=\"Open In Colab\"/></a>"
      ]
    },
    {
      "cell_type": "markdown",
      "source": [
        "**Description**\n",
        "\n",
        "This example shows how to explore a GitHub repository with Graphlit, and the large context window of Google Gemini. Here we show how to use 'augmented content' to bring in the entire code base as context for the RAG prompt."
      ],
      "metadata": {
        "id": "gvxWpDjVamY1"
      }
    },
    {
      "cell_type": "markdown",
      "source": [
        "**Requirements**\n",
        "\n",
        "Prior to running this notebook, you will need to [signup](https://docs.graphlit.dev/getting-started/signup) for Graphlit, and [create a project](https://docs.graphlit.dev/getting-started/create-project).\n",
        "\n",
        "You will need the Graphlit organization ID, preview environment ID and JWT secret from your created project.\n",
        "\n",
        "Assign these properties as Colab secrets: GRAPHLIT_ORGANIZATION_ID, GRAPHLIT_ENVIRONMENT_ID and GRAPHLIT_JWT_SECRET.\n",
        "\n",
        "---"
      ],
      "metadata": {
        "id": "6fUPAkNqaNic"
      }
    },
    {
      "cell_type": "code",
      "source": [
        "!pip install --upgrade graphlit-client"
      ],
      "metadata": {
        "id": "DlIzErtofaWT",
        "colab": {
          "base_uri": "https://localhost:8080/"
        },
        "outputId": "5592d531-c835-4f93-94e7-5c6a98f1b0ec"
      },
      "execution_count": 1,
      "outputs": [
        {
          "output_type": "stream",
          "name": "stdout",
          "text": [
            "Collecting graphlit-client\n",
            "  Downloading graphlit_client-1.0.20240927001-py3-none-any.whl.metadata (2.7 kB)\n",
            "Collecting httpx (from graphlit-client)\n",
            "  Downloading httpx-0.27.2-py3-none-any.whl.metadata (7.1 kB)\n",
            "Requirement already satisfied: pydantic<3.0.0,>=2.0.0 in /usr/local/lib/python3.10/dist-packages (from graphlit-client) (2.9.2)\n",
            "Requirement already satisfied: PyJWT in /usr/local/lib/python3.10/dist-packages (from graphlit-client) (2.9.0)\n",
            "Collecting websockets (from graphlit-client)\n",
            "  Downloading websockets-13.1-cp310-cp310-manylinux_2_5_x86_64.manylinux1_x86_64.manylinux_2_17_x86_64.manylinux2014_x86_64.whl.metadata (6.8 kB)\n",
            "Requirement already satisfied: annotated-types>=0.6.0 in /usr/local/lib/python3.10/dist-packages (from pydantic<3.0.0,>=2.0.0->graphlit-client) (0.7.0)\n",
            "Requirement already satisfied: pydantic-core==2.23.4 in /usr/local/lib/python3.10/dist-packages (from pydantic<3.0.0,>=2.0.0->graphlit-client) (2.23.4)\n",
            "Requirement already satisfied: typing-extensions>=4.6.1 in /usr/local/lib/python3.10/dist-packages (from pydantic<3.0.0,>=2.0.0->graphlit-client) (4.12.2)\n",
            "Requirement already satisfied: anyio in /usr/local/lib/python3.10/dist-packages (from httpx->graphlit-client) (3.7.1)\n",
            "Requirement already satisfied: certifi in /usr/local/lib/python3.10/dist-packages (from httpx->graphlit-client) (2024.8.30)\n",
            "Collecting httpcore==1.* (from httpx->graphlit-client)\n",
            "  Downloading httpcore-1.0.5-py3-none-any.whl.metadata (20 kB)\n",
            "Requirement already satisfied: idna in /usr/local/lib/python3.10/dist-packages (from httpx->graphlit-client) (3.10)\n",
            "Requirement already satisfied: sniffio in /usr/local/lib/python3.10/dist-packages (from httpx->graphlit-client) (1.3.1)\n",
            "Collecting h11<0.15,>=0.13 (from httpcore==1.*->httpx->graphlit-client)\n",
            "  Downloading h11-0.14.0-py3-none-any.whl.metadata (8.2 kB)\n",
            "Requirement already satisfied: exceptiongroup in /usr/local/lib/python3.10/dist-packages (from anyio->httpx->graphlit-client) (1.2.2)\n",
            "Downloading graphlit_client-1.0.20240927001-py3-none-any.whl (198 kB)\n",
            "\u001b[2K   \u001b[90m━━━━━━━━━━━━━━━━━━━━━━━━━━━━━━━━━━━━━━━━\u001b[0m \u001b[32m198.3/198.3 kB\u001b[0m \u001b[31m6.1 MB/s\u001b[0m eta \u001b[36m0:00:00\u001b[0m\n",
            "\u001b[?25hDownloading httpx-0.27.2-py3-none-any.whl (76 kB)\n",
            "\u001b[2K   \u001b[90m━━━━━━━━━━━━━━━━━━━━━━━━━━━━━━━━━━━━━━━━\u001b[0m \u001b[32m76.4/76.4 kB\u001b[0m \u001b[31m2.0 MB/s\u001b[0m eta \u001b[36m0:00:00\u001b[0m\n",
            "\u001b[?25hDownloading httpcore-1.0.5-py3-none-any.whl (77 kB)\n",
            "\u001b[2K   \u001b[90m━━━━━━━━━━━━━━━━━━━━━━━━━━━━━━━━━━━━━━━━\u001b[0m \u001b[32m77.9/77.9 kB\u001b[0m \u001b[31m3.2 MB/s\u001b[0m eta \u001b[36m0:00:00\u001b[0m\n",
            "\u001b[?25hDownloading websockets-13.1-cp310-cp310-manylinux_2_5_x86_64.manylinux1_x86_64.manylinux_2_17_x86_64.manylinux2014_x86_64.whl (164 kB)\n",
            "\u001b[2K   \u001b[90m━━━━━━━━━━━━━━━━━━━━━━━━━━━━━━━━━━━━━━━━\u001b[0m \u001b[32m164.1/164.1 kB\u001b[0m \u001b[31m6.0 MB/s\u001b[0m eta \u001b[36m0:00:00\u001b[0m\n",
            "\u001b[?25hDownloading h11-0.14.0-py3-none-any.whl (58 kB)\n",
            "\u001b[2K   \u001b[90m━━━━━━━━━━━━━━━━━━━━━━━━━━━━━━━━━━━━━━━━\u001b[0m \u001b[32m58.3/58.3 kB\u001b[0m \u001b[31m2.7 MB/s\u001b[0m eta \u001b[36m0:00:00\u001b[0m\n",
            "\u001b[?25hInstalling collected packages: websockets, h11, httpcore, httpx, graphlit-client\n",
            "Successfully installed graphlit-client-1.0.20240927001 h11-0.14.0 httpcore-1.0.5 httpx-0.27.2 websockets-13.1\n"
          ]
        }
      ]
    },
    {
      "cell_type": "markdown",
      "source": [
        "Clone the repo you want to explore"
      ],
      "metadata": {
        "id": "LgvjqV-Y5GKo"
      }
    },
    {
      "cell_type": "code",
      "source": [
        "!rm -rf crewAI\n",
        "!git clone https://github.com/crewAIInc/crewAI/"
      ],
      "metadata": {
        "colab": {
          "base_uri": "https://localhost:8080/"
        },
        "id": "wx1jyCbfeNU9",
        "outputId": "d37bed28-5bb3-4061-8ce7-5f75f2c93f99"
      },
      "execution_count": 2,
      "outputs": [
        {
          "output_type": "stream",
          "name": "stdout",
          "text": [
            "Cloning into 'crewAI'...\n",
            "remote: Enumerating objects: 10554, done.\u001b[K\n",
            "remote: Counting objects: 100% (4221/4221), done.\u001b[K\n",
            "remote: Compressing objects: 100% (1062/1062), done.\u001b[K\n",
            "remote: Total 10554 (delta 3110), reused 3846 (delta 2925), pack-reused 6333 (from 1)\u001b[K\n",
            "Receiving objects: 100% (10554/10554), 26.17 MiB | 17.20 MiB/s, done.\n",
            "Resolving deltas: 100% (6989/6989), done.\n"
          ]
        }
      ]
    },
    {
      "cell_type": "markdown",
      "source": [
        "Initialize Graphlit"
      ],
      "metadata": {
        "id": "XqGt4RCaagNv"
      }
    },
    {
      "cell_type": "code",
      "source": [
        "import os\n",
        "from google.colab import userdata\n",
        "from graphlit import Graphlit\n",
        "from graphlit_api import input_types, enums, exceptions\n",
        "\n",
        "os.environ['GRAPHLIT_ORGANIZATION_ID'] = userdata.get('GRAPHLIT_ORGANIZATION_ID')\n",
        "os.environ['GRAPHLIT_ENVIRONMENT_ID'] = userdata.get('GRAPHLIT_ENVIRONMENT_ID')\n",
        "os.environ['GRAPHLIT_JWT_SECRET'] = userdata.get('GRAPHLIT_JWT_SECRET')\n",
        "\n",
        "graphlit = Graphlit()"
      ],
      "metadata": {
        "id": "eF6MdPG4aWc7"
      },
      "execution_count": 11,
      "outputs": []
    },
    {
      "cell_type": "markdown",
      "source": [
        "Initialize sample data"
      ],
      "metadata": {
        "id": "rKo8ZqoS5vnD"
      }
    },
    {
      "cell_type": "code",
      "source": [
        "DATA_DIRECTORY = \"crewAI\"\n",
        "\n",
        "PATH_CODE = DATA_DIRECTORY + \"/src/crewai/\""
      ],
      "metadata": {
        "id": "bqzYqYXvf5VA"
      },
      "execution_count": 10,
      "outputs": []
    },
    {
      "cell_type": "markdown",
      "source": [
        "Define Graphlit helper functions"
      ],
      "metadata": {
        "id": "PWRSPFD51pMR"
      }
    },
    {
      "cell_type": "code",
      "source": [
        "import base64\n",
        "import mimetypes\n",
        "import asyncio\n",
        "from typing import List, Optional\n",
        "from tqdm.asyncio import tqdm\n",
        "\n",
        "async def process_file(filename: str, progress_bar, workflow_id: Optional[str] = None):\n",
        "    print(f'Ingesting content from [{filename}]')\n",
        "\n",
        "    content_id = await ingest_file(filename, workflow_id)\n",
        "\n",
        "    if content_id is not None:\n",
        "        print(f'Ingested content [{content_id}] from [{filename}].')\n",
        "    else:\n",
        "        print(f'Failed to ingest content from [{filename}].')\n",
        "\n",
        "    progress_bar.update(1)\n",
        "\n",
        "# NOTE: for local files, load from disk and convert to Base64 data\n",
        "async def ingest_file(file_path: str, workflow_id: Optional[str] = None):\n",
        "    if graphlit.client is None:\n",
        "        return;\n",
        "\n",
        "    try:\n",
        "        file_name = os.path.basename(file_path)\n",
        "        content_name, _ = os.path.splitext(file_name)\n",
        "\n",
        "        if file_name[0] == \".\":\n",
        "            print(f'Skipping dot file [{file_name}]')\n",
        "            return None\n",
        "\n",
        "        mime_type = mimetypes.guess_type(file_name)[0]\n",
        "\n",
        "        if mime_type is None:\n",
        "            print(f'Failed to infer MIME type [{file_name}], treat as plain text')\n",
        "            mime_type = \"text/plain\"\n",
        "\n",
        "        if not os.path.exists(file_path):\n",
        "            print(f'File [{file_path}] does not exist')\n",
        "            return None\n",
        "\n",
        "        with open(file_path, \"rb\") as file:\n",
        "            file_content = file.read()\n",
        "\n",
        "            if file_content is not None and len(file_content) > 0:\n",
        "                base64_content = base64.b64encode(file_content).decode('utf-8')\n",
        "\n",
        "                # Using synchronous mode, so the notebook waits for the content to be ingested\n",
        "                response = await graphlit.client.ingest_encoded_file(name=content_name, data=base64_content, mime_type=mime_type,\n",
        "                                                                    workflow=input_types.EntityReferenceInput(id=workflow_id) if workflow_id is not None else None, is_synchronous=True)\n",
        "\n",
        "                return response.ingest_encoded_file.id if response.ingest_encoded_file is not None else None\n",
        "            else:\n",
        "                print(f'Ignoring empty file [{file_path}].')\n",
        "                return None\n",
        "    except exceptions.GraphQLClientError as e:\n",
        "        print(str(e))\n",
        "        return None\n",
        "\n",
        "async def create_google_specification(model: enums.GoogleModels):\n",
        "    if graphlit.client is None:\n",
        "        return;\n",
        "\n",
        "    input = input_types.SpecificationInput(\n",
        "        name=f\"Google [{str(model)}]\",\n",
        "        type=enums.SpecificationTypes.COMPLETION,\n",
        "        serviceType=enums.ModelServiceTypes.GOOGLE,\n",
        "        google=input_types.GoogleModelPropertiesInput(\n",
        "            model=model,\n",
        "        ),\n",
        "        retrievalStrategy=input_types.RetrievalStrategyInput(\n",
        "            type=enums.RetrievalStrategyTypes.CONTENT, # NOTE: load entire code file, for any search hits\n",
        "            contentLimit=100\n",
        "        )\n",
        "    )\n",
        "\n",
        "    try:\n",
        "        response = await graphlit.client.create_specification(input)\n",
        "\n",
        "        return response.create_specification.id if response.create_specification is not None else None\n",
        "    except exceptions.GraphQLClientError as e:\n",
        "        print(str(e))\n",
        "        return None\n",
        "\n",
        "    return None\n",
        "\n",
        "async def create_conversation(specification_id: str):\n",
        "    if graphlit.client is None:\n",
        "        return;\n",
        "\n",
        "    input = input_types.ConversationInput(\n",
        "        name=\"Conversation\",\n",
        "        specification=input_types.EntityReferenceInput(\n",
        "            id=specification_id\n",
        "        ),\n",
        "        # NOTE: bring in all ingested code as context for the conversation, no matter if it was relevant to the user prompt\n",
        "        augmentedFilter=input_types.ContentCriteriaInput(\n",
        "            types=[enums.ContentTypes.FILE],\n",
        "            fileTypes=[enums.FileTypes.CODE]\n",
        "        )\n",
        "    )\n",
        "\n",
        "    try:\n",
        "        response = await graphlit.client.create_conversation(input)\n",
        "\n",
        "        return response.create_conversation.id if response.create_conversation is not None else None\n",
        "    except exceptions.GraphQLClientError as e:\n",
        "        print(str(e))\n",
        "        return None\n",
        "\n",
        "async def prompt_conversation(conversation_id: str, prompt: str):\n",
        "    if graphlit.client is None:\n",
        "        return None\n",
        "\n",
        "    try:\n",
        "        response = await graphlit.client.prompt_conversation(prompt, conversation_id)\n",
        "\n",
        "        return response.prompt_conversation.message.message if response.prompt_conversation is not None and response.prompt_conversation.message is not None else None\n",
        "    except exceptions.GraphQLClientError as e:\n",
        "        print(str(e))\n",
        "        return None\n",
        "\n",
        "# NOTE: these functions are just used to clean-up old data before executing the example\n",
        "async def delete_all_specifications():\n",
        "    if graphlit.client is None:\n",
        "        return;\n",
        "\n",
        "    _ = await graphlit.client.delete_all_specifications(is_synchronous=True)\n",
        "\n",
        "async def delete_all_conversations():\n",
        "    if graphlit.client is None:\n",
        "        return;\n",
        "\n",
        "    _ = await graphlit.client.delete_all_conversations(is_synchronous=True)\n",
        "\n",
        "async def delete_all_contents():\n",
        "    if graphlit.client is None:\n",
        "        return;\n",
        "\n",
        "    _ = await graphlit.client.delete_all_contents(is_synchronous=True)"
      ],
      "metadata": {
        "id": "cJFYJ0091rKj"
      },
      "execution_count": 22,
      "outputs": []
    },
    {
      "cell_type": "markdown",
      "source": [
        "Ingest sample PDFs"
      ],
      "metadata": {
        "id": "PEmBPRxG17IP"
      }
    },
    {
      "cell_type": "code",
      "source": [
        "# Remove any existing contents; only needed for notebook example\n",
        "await delete_all_contents()\n",
        "\n",
        "print('Deleted all contents.')\n",
        "\n",
        "# List of files to process\n",
        "files = [os.path.join(root, file) for root, _, files in os.walk(PATH_CODE) for file in files]\n",
        "\n",
        "progress_bar = tqdm(total=len(files))\n",
        "\n",
        "tasks = [process_file(filename, progress_bar) for filename in files]\n",
        "\n",
        "await asyncio.gather(*tasks)\n",
        "\n",
        "print('Ingested all contents.')"
      ],
      "metadata": {
        "id": "Zg9Nb0XR13uL",
        "colab": {
          "base_uri": "https://localhost:8080/"
        },
        "outputId": "0f6f4383-fea3-42a7-f01c-ae97240fa58f"
      },
      "execution_count": 18,
      "outputs": [
        {
          "output_type": "stream",
          "name": "stdout",
          "text": [
            "Deleted all contents.\n"
          ]
        },
        {
          "output_type": "stream",
          "name": "stderr",
          "text": [
            "\n",
            "100%|██████████| 171/171 [01:29<00:00,  1.91it/s]\n",
            "\n",
            "  5%|▍         | 8/171 [00:00<00:02, 78.45it/s]\u001b[A"
          ]
        },
        {
          "output_type": "stream",
          "name": "stdout",
          "text": [
            "Ingesting content from [crewAI/src/crewai/crew.py]\n",
            "Ingesting content from [crewAI/src/crewai/agent.py]\n",
            "Ingesting content from [crewAI/src/crewai/__init__.py]\n",
            "Ingesting content from [crewAI/src/crewai/task.py]\n",
            "Ingesting content from [crewAI/src/crewai/process.py]\n",
            "Ingesting content from [crewAI/src/crewai/llm.py]\n",
            "Ingesting content from [crewAI/src/crewai/routers/__init__.py]\n",
            "Ingesting content from [crewAI/src/crewai/routers/router.py]\n",
            "Ingesting content from [crewAI/src/crewai/tasks/task_output.py]\n",
            "Ingesting content from [crewAI/src/crewai/tasks/__init__.py]\n",
            "Ingesting content from [crewAI/src/crewai/tasks/conditional_task.py]\n",
            "Ingesting content from [crewAI/src/crewai/tasks/output_format.py]\n",
            "Ingesting content from [crewAI/src/crewai/utilities/planning_handler.py]\n",
            "Ingesting content from [crewAI/src/crewai/utilities/crew_json_encoder.py]\n",
            "Ingesting content from [crewAI/src/crewai/utilities/i18n.py]\n",
            "Ingesting content from [crewAI/src/crewai/utilities/config.py]\n",
            "Ingesting content from [crewAI/src/crewai/utilities/constants.py]\n",
            "Ingesting content from [crewAI/src/crewai/utilities/printer.py]\n",
            "Ingesting content from [crewAI/src/crewai/utilities/logger.py]\n",
            "Ingesting content from [crewAI/src/crewai/utilities/prompts.py]\n",
            "Ingesting content from [crewAI/src/crewai/utilities/__init__.py]\n",
            "Ingesting content from [crewAI/src/crewai/utilities/parser.py]\n",
            "Ingesting content from [crewAI/src/crewai/utilities/converter.py]\n",
            "Ingesting content from [crewAI/src/crewai/utilities/file_handler.py]\n",
            "Ingesting content from [crewAI/src/crewai/utilities/formatter.py]\n",
            "Ingesting content from [crewAI/src/crewai/utilities/crew_pydantic_output_parser.py]\n",
            "Ingesting content from [crewAI/src/crewai/utilities/task_output_storage_handler.py]\n",
            "Ingesting content from [crewAI/src/crewai/utilities/token_counter_callback.py]\n",
            "Ingesting content from [crewAI/src/crewai/utilities/paths.py]\n",
            "Ingesting content from [crewAI/src/crewai/utilities/rpm_controller.py]\n",
            "Ingesting content from [crewAI/src/crewai/utilities/training_handler.py]\n",
            "Ingesting content from [crewAI/src/crewai/utilities/internal_instructor.py]\n",
            "Ingesting content from [crewAI/src/crewai/utilities/pydantic_schema_parser.py]\n",
            "Ingesting content from [crewAI/src/crewai/utilities/exceptions/context_window_exceeding_exception.py]\n",
            "Ingesting content from [crewAI/src/crewai/utilities/evaluators/task_evaluator.py]\n",
            "Ingesting content from [crewAI/src/crewai/utilities/evaluators/crew_evaluator_handler.py]\n",
            "Ingesting content from [crewAI/src/crewai/pipeline/__init__.py]\n",
            "Ingesting content from [crewAI/src/crewai/pipeline/pipeline.py]\n",
            "Ingesting content from [crewAI/src/crewai/pipeline/pipeline_output.py]\n",
            "Ingesting content from [crewAI/src/crewai/pipeline/pipeline_kickoff_result.py]\n",
            "Ingesting content from [crewAI/src/crewai/crews/__init__.py]\n",
            "Ingesting content from [crewAI/src/crewai/crews/crew_output.py]\n",
            "Ingesting content from [crewAI/src/crewai/types/__init__.py]\n",
            "Ignoring empty file [crewAI/src/crewai/types/__init__.py].\n",
            "Failed to ingest content from [crewAI/src/crewai/types/__init__.py].\n",
            "Ingesting content from [crewAI/src/crewai/types/usage_metrics.py]\n",
            "Ingesting content from [crewAI/src/crewai/memory/__init__.py]\n",
            "Ingesting content from [crewAI/src/crewai/memory/memory.py]\n",
            "Ingesting content from [crewAI/src/crewai/memory/contextual/__init__.py]\n",
            "Ignoring empty file [crewAI/src/crewai/memory/contextual/__init__.py].\n",
            "Failed to ingest content from [crewAI/src/crewai/memory/contextual/__init__.py].\n",
            "Ingesting content from [crewAI/src/crewai/memory/contextual/contextual_memory.py]\n",
            "Ingesting content from [crewAI/src/crewai/memory/long_term/long_term_memory_item.py]\n",
            "Ingesting content from [crewAI/src/crewai/memory/long_term/__init__.py]\n",
            "Ignoring empty file [crewAI/src/crewai/memory/long_term/__init__.py].\n",
            "Failed to ingest content from [crewAI/src/crewai/memory/long_term/__init__.py].\n",
            "Ingesting content from [crewAI/src/crewai/memory/long_term/long_term_memory.py]\n",
            "Ingesting content from [crewAI/src/crewai/memory/storage/interface.py]\n",
            "Ingesting content from [crewAI/src/crewai/memory/storage/kickoff_task_outputs_storage.py]\n",
            "Ingesting content from [crewAI/src/crewai/memory/storage/ltm_sqlite_storage.py]\n",
            "Ingesting content from [crewAI/src/crewai/memory/storage/rag_storage.py]\n",
            "Ingesting content from [crewAI/src/crewai/memory/entity/__init__.py]\n",
            "Ignoring empty file [crewAI/src/crewai/memory/entity/__init__.py].\n",
            "Failed to ingest content from [crewAI/src/crewai/memory/entity/__init__.py].\n",
            "Ingesting content from [crewAI/src/crewai/memory/entity/entity_memory.py]\n",
            "Ingesting content from [crewAI/src/crewai/memory/entity/entity_memory_item.py]\n",
            "Ingesting content from [crewAI/src/crewai/memory/short_term/__init__.py]\n",
            "Ignoring empty file [crewAI/src/crewai/memory/short_term/__init__.py].\n",
            "Failed to ingest content from [crewAI/src/crewai/memory/short_term/__init__.py].\n",
            "Ingesting content from [crewAI/src/crewai/memory/short_term/short_term_memory.py]\n",
            "Ingesting content from [crewAI/src/crewai/memory/short_term/short_term_memory_item.py]\n",
            "Ingesting content from [crewAI/src/crewai/translations/en.json]\n",
            "Ingesting content from [crewAI/src/crewai/cli/command.py]\n",
            "Ingesting content from [crewAI/src/crewai/cli/create_pipeline.py]\n",
            "Ingesting content from [crewAI/src/crewai/cli/create_flow.py]\n",
            "Ingesting content from [crewAI/src/crewai/cli/train_crew.py]\n",
            "Ingesting content from [crewAI/src/crewai/cli/__init__.py]\n",
            "Ignoring empty file [crewAI/src/crewai/cli/__init__.py].\n",
            "Failed to ingest content from [crewAI/src/crewai/cli/__init__.py].\n",
            "Ingesting content from [crewAI/src/crewai/cli/plus_api.py]\n",
            "Ingesting content from [crewAI/src/crewai/cli/run_crew.py]\n",
            "Ingesting content from [crewAI/src/crewai/cli/reset_memories_command.py]\n",
            "Ingesting content from [crewAI/src/crewai/cli/replay_from_task.py]\n",
            "Ingesting content from [crewAI/src/crewai/cli/install_crew.py]\n",
            "Ingesting content from [crewAI/src/crewai/cli/utils.py]\n",
            "Ingesting content from [crewAI/src/crewai/cli/create_crew.py]\n",
            "Ingesting content from [crewAI/src/crewai/cli/evaluate_crew.py]\n",
            "Ingesting content from [crewAI/src/crewai/cli/cli.py]\n",
            "Ingesting content from [crewAI/src/crewai/cli/templates/__init__.py]\n",
            "Ignoring empty file [crewAI/src/crewai/cli/templates/__init__.py].\n",
            "Failed to ingest content from [crewAI/src/crewai/cli/templates/__init__.py].\n",
            "Ingesting content from [crewAI/src/crewai/cli/templates/pipeline/main.py]\n",
            "Ingesting content from [crewAI/src/crewai/cli/templates/pipeline/.gitignore]\n",
            "Skipping dot file [.gitignore]\n",
            "Failed to ingest content from [crewAI/src/crewai/cli/templates/pipeline/.gitignore].\n",
            "Ingesting content from [crewAI/src/crewai/cli/templates/pipeline/__init__.py]\n",
            "Ignoring empty file [crewAI/src/crewai/cli/templates/pipeline/__init__.py].\n",
            "Failed to ingest content from [crewAI/src/crewai/cli/templates/pipeline/__init__.py].\n",
            "Ingesting content from [crewAI/src/crewai/cli/templates/pipeline/pyproject.toml]\n",
            "Failed to infer MIME type [pyproject.toml], treat as plain text\n",
            "Ingesting content from [crewAI/src/crewai/cli/templates/pipeline/README.md]\n",
            "Ingesting content from [crewAI/src/crewai/cli/templates/pipeline/crews/research_crew/research_crew.py]\n",
            "Ingesting content from [crewAI/src/crewai/cli/templates/pipeline/crews/research_crew/config/tasks.yaml]\n",
            "Failed to infer MIME type [tasks.yaml], treat as plain text\n",
            "Ingesting content from [crewAI/src/crewai/cli/templates/pipeline/crews/research_crew/config/agents.yaml]\n",
            "Failed to infer MIME type [agents.yaml], treat as plain text\n",
            "Ingesting content from [crewAI/src/crewai/cli/templates/pipeline/crews/write_linkedin_crew/write_linkedin_crew.py]\n",
            "Ingesting content from [crewAI/src/crewai/cli/templates/pipeline/crews/write_linkedin_crew/config/tasks.yaml]\n",
            "Failed to infer MIME type [tasks.yaml], treat as plain text\n",
            "Ignoring empty file [crewAI/src/crewai/cli/templates/pipeline/crews/write_linkedin_crew/config/tasks.yaml].\n",
            "Failed to ingest content from [crewAI/src/crewai/cli/templates/pipeline/crews/write_linkedin_crew/config/tasks.yaml].\n",
            "Ingesting content from [crewAI/src/crewai/cli/templates/pipeline/crews/write_linkedin_crew/config/agents.yaml]\n",
            "Failed to infer MIME type [agents.yaml], treat as plain text\n",
            "Ignoring empty file [crewAI/src/crewai/cli/templates/pipeline/crews/write_linkedin_crew/config/agents.yaml].\n",
            "Failed to ingest content from [crewAI/src/crewai/cli/templates/pipeline/crews/write_linkedin_crew/config/agents.yaml].\n",
            "Ingesting content from [crewAI/src/crewai/cli/templates/pipeline/crews/write_x_crew/write_x_crew.py]\n",
            "Ingesting content from [crewAI/src/crewai/cli/templates/pipeline/crews/write_x_crew/config/tasks.yaml]\n",
            "Failed to infer MIME type [tasks.yaml], treat as plain text\n",
            "Ingesting content from [crewAI/src/crewai/cli/templates/pipeline/crews/write_x_crew/config/agents.yaml]\n",
            "Failed to infer MIME type [agents.yaml], treat as plain text\n",
            "Ingesting content from [crewAI/src/crewai/cli/templates/pipeline/tools/custom_tool.py]\n",
            "Ingesting content from [crewAI/src/crewai/cli/templates/pipeline/tools/__init__.py]\n",
            "Ignoring empty file [crewAI/src/crewai/cli/templates/pipeline/tools/__init__.py].\n",
            "Failed to ingest content from [crewAI/src/crewai/cli/templates/pipeline/tools/__init__.py].\n",
            "Ingesting content from [crewAI/src/crewai/cli/templates/pipeline/pipelines/__init__.py]\n",
            "Ignoring empty file [crewAI/src/crewai/cli/templates/pipeline/pipelines/__init__.py].\n",
            "Failed to ingest content from [crewAI/src/crewai/cli/templates/pipeline/pipelines/__init__.py].\n",
            "Ingesting content from [crewAI/src/crewai/cli/templates/pipeline/pipelines/pipeline.py]\n",
            "Ingesting content from [crewAI/src/crewai/cli/templates/pipeline_router/main.py]\n",
            "Ingesting content from [crewAI/src/crewai/cli/templates/pipeline_router/.gitignore]\n",
            "Skipping dot file [.gitignore]\n",
            "Failed to ingest content from [crewAI/src/crewai/cli/templates/pipeline_router/.gitignore].\n",
            "Ingesting content from [crewAI/src/crewai/cli/templates/pipeline_router/__init__.py]\n",
            "Ignoring empty file [crewAI/src/crewai/cli/templates/pipeline_router/__init__.py].\n",
            "Failed to ingest content from [crewAI/src/crewai/cli/templates/pipeline_router/__init__.py].\n",
            "Ingesting content from [crewAI/src/crewai/cli/templates/pipeline_router/pyproject.toml]\n",
            "Failed to infer MIME type [pyproject.toml], treat as plain text\n",
            "Ingesting content from [crewAI/src/crewai/cli/templates/pipeline_router/README.md]\n",
            "Ingesting content from [crewAI/src/crewai/cli/templates/pipeline_router/crews/classifier_crew/classifier_crew.py]\n",
            "Ingesting content from [crewAI/src/crewai/cli/templates/pipeline_router/crews/classifier_crew/config/tasks.yaml]\n",
            "Failed to infer MIME type [tasks.yaml], treat as plain text\n",
            "Ingesting content from [crewAI/src/crewai/cli/templates/pipeline_router/crews/classifier_crew/config/agents.yaml]\n",
            "Failed to infer MIME type [agents.yaml], treat as plain text\n",
            "Ingesting content from [crewAI/src/crewai/cli/templates/pipeline_router/crews/urgent_crew/urgent_crew.py]\n",
            "Ingesting content from [crewAI/src/crewai/cli/templates/pipeline_router/crews/urgent_crew/config/tasks.yaml]\n",
            "Failed to infer MIME type [tasks.yaml], treat as plain text\n",
            "Ingesting content from [crewAI/src/crewai/cli/templates/pipeline_router/crews/urgent_crew/config/agents.yaml]\n",
            "Failed to infer MIME type [agents.yaml], treat as plain text\n",
            "Ingesting content from [crewAI/src/crewai/cli/templates/pipeline_router/crews/normal_crew/normal_crew.py]\n",
            "Ingesting content from [crewAI/src/crewai/cli/templates/pipeline_router/crews/normal_crew/config/tasks.yaml]\n",
            "Failed to infer MIME type [tasks.yaml], treat as plain text\n",
            "Ingesting content from [crewAI/src/crewai/cli/templates/pipeline_router/crews/normal_crew/config/agents.yaml]\n",
            "Failed to infer MIME type [agents.yaml], treat as plain text\n",
            "Ingesting content from [crewAI/src/crewai/cli/templates/pipeline_router/config/tasks.yaml]\n",
            "Failed to infer MIME type [tasks.yaml], treat as plain text\n",
            "Ingesting content from [crewAI/src/crewai/cli/templates/pipeline_router/config/agents.yaml]\n",
            "Failed to infer MIME type [agents.yaml], treat as plain text\n",
            "Ingesting content from [crewAI/src/crewai/cli/templates/pipeline_router/tools/custom_tool.py]\n",
            "Ingesting content from [crewAI/src/crewai/cli/templates/pipeline_router/tools/__init__.py]\n",
            "Ignoring empty file [crewAI/src/crewai/cli/templates/pipeline_router/tools/__init__.py].\n",
            "Failed to ingest content from [crewAI/src/crewai/cli/templates/pipeline_router/tools/__init__.py].\n",
            "Ingesting content from [crewAI/src/crewai/cli/templates/pipeline_router/pipelines/pipeline_urgent.py]\n",
            "Ingesting content from [crewAI/src/crewai/cli/templates/pipeline_router/pipelines/pipeline_classifier.py]\n",
            "Ingesting content from [crewAI/src/crewai/cli/templates/pipeline_router/pipelines/__init__.py]\n",
            "Ignoring empty file [crewAI/src/crewai/cli/templates/pipeline_router/pipelines/__init__.py].\n",
            "Failed to ingest content from [crewAI/src/crewai/cli/templates/pipeline_router/pipelines/__init__.py].\n",
            "Ingesting content from [crewAI/src/crewai/cli/templates/pipeline_router/pipelines/pipeline_normal.py]\n",
            "Ingesting content from [crewAI/src/crewai/cli/templates/crew/crew.py]\n",
            "Ingesting content from [crewAI/src/crewai/cli/templates/crew/main.py]\n",
            "Ingesting content from [crewAI/src/crewai/cli/templates/crew/.gitignore]\n",
            "Skipping dot file [.gitignore]\n",
            "Failed to ingest content from [crewAI/src/crewai/cli/templates/crew/.gitignore].\n",
            "Ingesting content from [crewAI/src/crewai/cli/templates/crew/__init__.py]\n",
            "Ignoring empty file [crewAI/src/crewai/cli/templates/crew/__init__.py].\n",
            "Failed to ingest content from [crewAI/src/crewai/cli/templates/crew/__init__.py].\n",
            "Ingesting content from [crewAI/src/crewai/cli/templates/crew/pyproject.toml]\n",
            "Failed to infer MIME type [pyproject.toml], treat as plain text\n",
            "Ingesting content from [crewAI/src/crewai/cli/templates/crew/README.md]\n",
            "Ingesting content from [crewAI/src/crewai/cli/templates/crew/config/tasks.yaml]\n",
            "Failed to infer MIME type [tasks.yaml], treat as plain text\n",
            "Ingesting content from [crewAI/src/crewai/cli/templates/crew/config/agents.yaml]\n",
            "Failed to infer MIME type [agents.yaml], treat as plain text\n",
            "Ingesting content from [crewAI/src/crewai/cli/templates/crew/tools/custom_tool.py]\n",
            "Ingesting content from [crewAI/src/crewai/cli/templates/crew/tools/__init__.py]\n",
            "Ignoring empty file [crewAI/src/crewai/cli/templates/crew/tools/__init__.py].\n",
            "Failed to ingest content from [crewAI/src/crewai/cli/templates/crew/tools/__init__.py].\n",
            "Ingesting content from [crewAI/src/crewai/cli/templates/flow/main.py]\n",
            "Ingesting content from [crewAI/src/crewai/cli/templates/flow/.gitignore]\n",
            "Skipping dot file [.gitignore]\n",
            "Failed to ingest content from [crewAI/src/crewai/cli/templates/flow/.gitignore].\n",
            "Ingesting content from [crewAI/src/crewai/cli/templates/flow/__init__.py]\n",
            "Ignoring empty file [crewAI/src/crewai/cli/templates/flow/__init__.py].\n",
            "Failed to ingest content from [crewAI/src/crewai/cli/templates/flow/__init__.py].\n",
            "Ingesting content from [crewAI/src/crewai/cli/templates/flow/pyproject.toml]\n",
            "Failed to infer MIME type [pyproject.toml], treat as plain text\n",
            "Ingesting content from [crewAI/src/crewai/cli/templates/flow/README.md]\n",
            "Ingesting content from [crewAI/src/crewai/cli/templates/flow/crews/poem_crew/poem_crew.py]\n",
            "Ingesting content from [crewAI/src/crewai/cli/templates/flow/crews/poem_crew/config/tasks.yaml]\n",
            "Failed to infer MIME type [tasks.yaml], treat as plain text\n",
            "Ingesting content from [crewAI/src/crewai/cli/templates/flow/crews/poem_crew/config/agents.yaml]\n",
            "Failed to infer MIME type [agents.yaml], treat as plain text\n",
            "Ingesting content from [crewAI/src/crewai/cli/templates/flow/tools/custom_tool.py]\n",
            "Ingesting content from [crewAI/src/crewai/cli/templates/flow/tools/__init__.py]\n",
            "Ignoring empty file [crewAI/src/crewai/cli/templates/flow/tools/__init__.py].\n",
            "Failed to ingest content from [crewAI/src/crewai/cli/templates/flow/tools/__init__.py].\n",
            "Ingesting content from [crewAI/src/crewai/cli/authentication/constants.py]\n",
            "Ingesting content from [crewAI/src/crewai/cli/authentication/main.py]\n",
            "Ingesting content from [crewAI/src/crewai/cli/authentication/__init__.py]\n",
            "Ingesting content from [crewAI/src/crewai/cli/authentication/utils.py]\n",
            "Ingesting content from [crewAI/src/crewai/cli/deploy/main.py]\n"
          ]
        },
        {
          "output_type": "stream",
          "name": "stderr",
          "text": [
            "\n",
            " 14%|█▍        | 24/171 [00:00<00:01, 122.45it/s]\u001b[A"
          ]
        },
        {
          "output_type": "stream",
          "name": "stdout",
          "text": [
            "Ingesting content from [crewAI/src/crewai/cli/deploy/__init__.py]\n",
            "Ignoring empty file [crewAI/src/crewai/cli/deploy/__init__.py].\n",
            "Failed to ingest content from [crewAI/src/crewai/cli/deploy/__init__.py].\n",
            "Ingesting content from [crewAI/src/crewai/cli/tools/main.py]\n",
            "Ingesting content from [crewAI/src/crewai/cli/tools/__init__.py]\n",
            "Ignoring empty file [crewAI/src/crewai/cli/tools/__init__.py].\n",
            "Failed to ingest content from [crewAI/src/crewai/cli/tools/__init__.py].\n",
            "Ingesting content from [crewAI/src/crewai/tools/cache_tools.py]\n",
            "Ingesting content from [crewAI/src/crewai/tools/__init__.py]\n",
            "Ignoring empty file [crewAI/src/crewai/tools/__init__.py].\n",
            "Failed to ingest content from [crewAI/src/crewai/tools/__init__.py].\n",
            "Ingesting content from [crewAI/src/crewai/tools/tool_calling.py]\n",
            "Ingesting content from [crewAI/src/crewai/tools/agent_tools.py]\n",
            "Ingesting content from [crewAI/src/crewai/tools/tool_usage.py]\n",
            "Ingesting content from [crewAI/src/crewai/agents/__init__.py]\n",
            "Ingesting content from [crewAI/src/crewai/agents/parser.py]\n",
            "Ingesting content from [crewAI/src/crewai/agents/crew_agent_executor.py]\n",
            "Ingesting content from [crewAI/src/crewai/agents/tools_handler.py]\n",
            "Ingesting content from [crewAI/src/crewai/agents/cache/__init__.py]\n",
            "Ingesting content from [crewAI/src/crewai/agents/cache/cache_handler.py]\n",
            "Ingesting content from [crewAI/src/crewai/agents/agent_builder/__init__.py]\n",
            "Ignoring empty file [crewAI/src/crewai/agents/agent_builder/__init__.py].\n",
            "Failed to ingest content from [crewAI/src/crewai/agents/agent_builder/__init__.py].\n",
            "Ingesting content from [crewAI/src/crewai/agents/agent_builder/base_agent.py]\n",
            "Ingesting content from [crewAI/src/crewai/agents/agent_builder/base_agent_executor_mixin.py]\n",
            "Ingesting content from [crewAI/src/crewai/agents/agent_builder/utilities/base_token_process.py]\n",
            "Ingesting content from [crewAI/src/crewai/agents/agent_builder/utilities/base_output_converter.py]\n",
            "Ingesting content from [crewAI/src/crewai/agents/agent_builder/utilities/__init__.py]\n",
            "Ignoring empty file [crewAI/src/crewai/agents/agent_builder/utilities/__init__.py].\n",
            "Failed to ingest content from [crewAI/src/crewai/agents/agent_builder/utilities/__init__.py].\n",
            "Ingesting content from [crewAI/src/crewai/agents/agent_builder/utilities/base_agent_tool.py]\n",
            "Ingesting content from [crewAI/src/crewai/telemetry/telemetry.py]\n",
            "Ingesting content from [crewAI/src/crewai/telemetry/__init__.py]\n",
            "Ingesting content from [crewAI/src/crewai/flow/flow.py]\n",
            "Ingesting content from [crewAI/src/crewai/project/__init__.py]\n",
            "Ingesting content from [crewAI/src/crewai/project/crew_base.py]\n",
            "Ingesting content from [crewAI/src/crewai/project/utils.py]\n",
            "Ingesting content from [crewAI/src/crewai/project/pipeline_base.py]\n",
            "Ingesting content from [crewAI/src/crewai/project/annotations.py]\n",
            "Ingested content [a5a0ce92-0e43-4dd3-89ac-4c4c7e8873f6] from [crewAI/src/crewai/crew.py].\n",
            "Ingested content [4ba4c1e4-04b2-410b-a095-a2911b50c1d7] from [crewAI/src/crewai/process.py].\n",
            "Ingested content [44376c69-3dad-4a9a-803e-95440d57dafb] from [crewAI/src/crewai/agent.py].\n",
            "Ingested content [f4920a5a-3687-4520-a999-f00024799764] from [crewAI/src/crewai/llm.py].\n",
            "Ingested content [c1bbf46b-4230-4ca9-95dd-7eea824f3f98] from [crewAI/src/crewai/__init__.py].\n",
            "Ingested content [45ac3af2-72b3-4067-87fb-1387a3362e53] from [crewAI/src/crewai/routers/router.py].\n",
            "Ingested content [50491a3d-c2dc-496f-b658-81f7caf17740] from [crewAI/src/crewai/routers/__init__.py].\n",
            "Ingested content [5ed71987-24de-4a5c-9849-b736bd46a099] from [crewAI/src/crewai/tasks/task_output.py].\n"
          ]
        },
        {
          "output_type": "stream",
          "name": "stderr",
          "text": [
            "\n",
            " 22%|██▏       | 37/171 [00:06<00:32,  4.13it/s] \u001b[A"
          ]
        },
        {
          "output_type": "stream",
          "name": "stdout",
          "text": [
            "Ingested content [c3ea7ba0-44ac-4a04-ba0f-acd04c5e882b] from [crewAI/src/crewai/task.py].\n",
            "Ingested content [7bef9cb2-ed51-43a3-88aa-9ef409c50282] from [crewAI/src/crewai/utilities/planning_handler.py].\n",
            "Ingested content [6c0950e4-81b4-4d7c-aa12-5a4f606857f1] from [crewAI/src/crewai/cli/templates/pipeline_router/main.py].\n",
            "Ingested content [21ece52c-d5f2-4e45-a79c-dcdda5b13f7f] from [crewAI/src/crewai/utilities/logger.py].\n",
            "Ingested content [1e360fc4-424c-4d86-a2e3-d6dec6c1f5ba] from [crewAI/src/crewai/tasks/output_format.py].\n",
            "Ingested content [841e0cd4-af96-4932-92be-85c36d8f454e] from [crewAI/src/crewai/utilities/training_handler.py].\n",
            "Ingested content [9df822f8-283a-40d5-be28-23de8e84acfa] from [crewAI/src/crewai/tasks/__init__.py].\n"
          ]
        },
        {
          "output_type": "stream",
          "name": "stderr",
          "text": [
            "\n",
            " 26%|██▌       | 44/171 [00:12<00:49,  2.57it/s]\u001b[A"
          ]
        },
        {
          "output_type": "stream",
          "name": "stdout",
          "text": [
            "Ingested content [a509c24f-270b-4167-ab53-1ef196ea2d28] from [crewAI/src/crewai/utilities/task_output_storage_handler.py].\n",
            "Ingested content [9f6656df-d280-46b4-a031-1f8d18d02af8] from [crewAI/src/crewai/utilities/constants.py].\n",
            "Ingested content [b55479a4-d71d-4fd9-b8d8-6388f163e8c0] from [crewAI/src/crewai/utilities/exceptions/context_window_exceeding_exception.py].\n",
            "Ingested content [2d6f35cc-ba69-486c-a180-b5ea7eac0dcc] from [crewAI/src/crewai/utilities/config.py].\n",
            "Ingested content [e8cd102f-1af8-4811-9d2d-b459368f641e] from [crewAI/src/crewai/utilities/parser.py].\n"
          ]
        },
        {
          "output_type": "stream",
          "name": "stderr",
          "text": [
            "\n",
            " 29%|██▊       | 49/171 [00:12<00:38,  3.16it/s]\u001b[A\n",
            " 31%|███       | 53/171 [00:12<00:30,  3.81it/s]\u001b[A"
          ]
        },
        {
          "output_type": "stream",
          "name": "stdout",
          "text": [
            "Ingested content [73c5390e-340d-402c-a4a6-e8561c1fced6] from [crewAI/src/crewai/pipeline/pipeline_kickoff_result.py].\n",
            "Ingested content [9c98348d-ccef-42cc-9dde-86bc29a4ceb9] from [crewAI/src/crewai/crews/__init__.py].\n",
            "Ingested content [e46b3e3e-8e10-4b54-be72-bb4a66e9029b] from [crewAI/src/crewai/memory/entity/entity_memory_item.py].\n",
            "Ingested content [a0310fd3-fdf5-4830-8470-799448b47ef1] from [crewAI/src/crewai/utilities/formatter.py].\n",
            "Ingested content [4c47d444-5627-497a-a4fc-f1250ca55e57] from [crewAI/src/crewai/utilities/crew_json_encoder.py].\n",
            "Ingested content [c6c4c58d-7b93-473f-b85d-15ccfaeea359] from [crewAI/src/crewai/cli/train_crew.py].\n"
          ]
        },
        {
          "output_type": "stream",
          "name": "stderr",
          "text": [
            "\n",
            " 34%|███▍      | 58/171 [00:13<00:22,  4.98it/s]\u001b[A\n",
            " 37%|███▋      | 64/171 [00:13<00:15,  6.85it/s]\u001b[A"
          ]
        },
        {
          "output_type": "stream",
          "name": "stdout",
          "text": [
            "Ingested content [cdf71ef3-aeb4-4d2a-adaf-1dbf2a055a65] from [crewAI/src/crewai/cli/plus_api.py].\n",
            "Ingested content [2ac24c1e-01a6-412d-8b2a-949535423df7] from [crewAI/src/crewai/cli/replay_from_task.py].\n",
            "Ingested content [1a8b6ce0-2282-4778-a013-614dd39c7df6] from [crewAI/src/crewai/utilities/rpm_controller.py].\n",
            "Ingested content [c2b60be0-258d-4e79-a1aa-d2eef8c7b66d] from [crewAI/src/crewai/utilities/paths.py].\n",
            "Ingested content [7c2deae9-e9dc-47ee-9031-abbdd4e632c8] from [crewAI/src/crewai/cli/templates/pipeline/crews/write_linkedin_crew/write_linkedin_crew.py].\n",
            "Ingested content [31abc0b4-2cd8-44a7-9e98-0e178138f828] from [crewAI/src/crewai/utilities/prompts.py].\n",
            "Ingested content [308d652a-13d9-4b20-aacb-c0239ed1d92f] from [crewAI/src/crewai/utilities/evaluators/crew_evaluator_handler.py].\n",
            "Ingested content [2b828892-3677-4a23-82fb-3d2b6a53bcf6] from [crewAI/src/crewai/cli/templates/pipeline/crews/write_x_crew/config/agents.yaml].\n",
            "Ingested content [c843587f-abc5-4dfa-8976-e7616f6a51f4] from [crewAI/src/crewai/utilities/printer.py].\n",
            "Ingested content [f9e5cc7b-63df-4ac1-9653-1852296adf81] from [crewAI/src/crewai/utilities/__init__.py].\n",
            "Ingested content [0b2e93a5-25ee-4f74-a059-f09e9d313d08] from [crewAI/src/crewai/tasks/conditional_task.py].\n",
            "Ingested content [172ff75c-9fb7-40f9-853b-c6cfd7652986] from [crewAI/src/crewai/utilities/token_counter_callback.py].\n",
            "Ingested content [59ded1e4-0d63-4153-b513-4155782919ac] from [crewAI/src/crewai/utilities/converter.py].\n",
            "Ingested content [e48cf80b-e3f0-490b-91a7-312f4e98e9b7] from [crewAI/src/crewai/utilities/crew_pydantic_output_parser.py].\n",
            "Ingested content [91fa248d-b06d-4c64-9d10-ed3fbc5f0508] from [crewAI/src/crewai/memory/long_term/long_term_memory.py].\n"
          ]
        },
        {
          "output_type": "stream",
          "name": "stderr",
          "text": [
            "\n",
            " 41%|████      | 70/171 [00:13<00:13,  7.43it/s]\u001b[A"
          ]
        },
        {
          "output_type": "stream",
          "name": "stdout",
          "text": [
            "Ingested content [fa339893-e112-4d70-a022-35498fcf3b92] from [crewAI/src/crewai/cli/templates/pipeline/crews/research_crew/research_crew.py].\n",
            "Ingested content [80275241-040f-4317-94dd-cfebb49d1807] from [crewAI/src/crewai/cli/install_crew.py].\n",
            "Ingested content [66851bf5-48ab-403e-8e7b-b8fd5f482322] from [crewAI/src/crewai/cli/templates/pipeline_router/crews/classifier_crew/classifier_crew.py].\n"
          ]
        },
        {
          "output_type": "stream",
          "name": "stderr",
          "text": [
            "\n",
            " 43%|████▎     | 73/171 [00:18<00:36,  2.69it/s]\u001b[A"
          ]
        },
        {
          "output_type": "stream",
          "name": "stdout",
          "text": [
            "Ingested content [9555bac4-327c-496d-888f-8ea77f514955] from [crewAI/src/crewai/utilities/file_handler.py].\n",
            "Ingested content [215d9c83-8bb0-46bc-8450-0b76d49c0732] from [crewAI/src/crewai/utilities/evaluators/task_evaluator.py].\n"
          ]
        },
        {
          "output_type": "stream",
          "name": "stderr",
          "text": [
            "\n",
            " 44%|████▍     | 76/171 [00:18<00:30,  3.16it/s]\u001b[A"
          ]
        },
        {
          "output_type": "stream",
          "name": "stdout",
          "text": [
            "Ingested content [9db59411-12ba-4887-9e82-258624807f44] from [crewAI/src/crewai/cli/utils.py].\n",
            "Ingested content [08029574-d4d9-4b91-81de-5c719f26cc96] from [crewAI/src/crewai/utilities/i18n.py].\n",
            "Ingested content [26f177db-2835-42cf-bff4-34cc25ff462f] from [crewAI/src/crewai/types/usage_metrics.py].\n"
          ]
        },
        {
          "output_type": "stream",
          "name": "stderr",
          "text": [
            "\n",
            " 46%|████▌     | 78/171 [00:18<00:26,  3.49it/s]\u001b[A"
          ]
        },
        {
          "output_type": "stream",
          "name": "stdout",
          "text": [
            "Ingested content [9415aa7e-03d4-4e45-b521-9a07c8606a56] from [crewAI/src/crewai/cli/templates/pipeline/pipelines/pipeline.py].\n"
          ]
        },
        {
          "output_type": "stream",
          "name": "stderr",
          "text": [
            "\n",
            " 47%|████▋     | 80/171 [00:18<00:23,  3.89it/s]\u001b[A\n",
            " 50%|████▉     | 85/171 [00:19<00:14,  6.04it/s]\u001b[A"
          ]
        },
        {
          "output_type": "stream",
          "name": "stdout",
          "text": [
            "Ingested content [8e97a4d6-afc7-40dd-8357-3941205075ac] from [crewAI/src/crewai/cli/templates/pipeline/pyproject.toml].\n",
            "Ingested content [4dc2da73-4c98-4451-b30b-2e91104a9407] from [crewAI/src/crewai/cli/templates/pipeline_router/pipelines/pipeline_classifier.py].\n",
            "Ingested content [314324bd-af34-4f7d-8267-6d36c025d8d7] from [crewAI/src/crewai/pipeline/pipeline_output.py].\n",
            "Ingested content [25b25722-c97c-4720-8d85-497e03700067] from [crewAI/src/crewai/cli/templates/pipeline_router/crews/urgent_crew/urgent_crew.py].\n",
            "Ingested content [61cd6b1b-c90e-438e-bc40-8e5f03e62c5d] from [crewAI/src/crewai/cli/create_flow.py].\n",
            "Ingested content [8842122f-f24c-44ac-9642-241fd24d2a2e] from [crewAI/src/crewai/cli/templates/pipeline_router/pipelines/pipeline_normal.py].\n",
            "Ingested content [8aef8484-1a14-47b2-ad9e-dd4a3555545e] from [crewAI/src/crewai/cli/templates/pipeline_router/config/agents.yaml].\n",
            "Ingested content [c512a97e-08b0-4993-acad-a8240c19f260] from [crewAI/src/crewai/cli/templates/pipeline/crews/write_x_crew/write_x_crew.py].\n",
            "Ingested content [a8dee183-4cc2-4e31-9cc7-1cc79827d2eb] from [crewAI/src/crewai/cli/templates/pipeline_router/tools/custom_tool.py].\n",
            "Ingested content [69d28a2a-7f7e-4647-80f8-af14a0adb708] from [crewAI/src/crewai/memory/storage/rag_storage.py].\n",
            "Ingested content [81c696f1-b7de-42f2-81ae-daa96fa4cf5e] from [crewAI/src/crewai/utilities/internal_instructor.py].\n"
          ]
        },
        {
          "output_type": "stream",
          "name": "stderr",
          "text": [
            "\n",
            " 56%|█████▌    | 96/171 [00:19<00:05, 12.57it/s]\u001b[A"
          ]
        },
        {
          "output_type": "stream",
          "name": "stdout",
          "text": [
            "Ingested content [23b86793-bbe5-462d-a33f-e978a9f4376d] from [crewAI/src/crewai/memory/entity/entity_memory.py].\n",
            "Ingested content [440f58bb-fc92-480f-99aa-996e14b8b7cc] from [crewAI/src/crewai/cli/create_pipeline.py].\n",
            "Ingested content [2708f0fd-c2fc-4c97-bdd3-21d97ed65778] from [crewAI/src/crewai/cli/templates/pipeline_router/pyproject.toml].\n",
            "Ingested content [b85138bb-b668-4985-95ec-a111ef96554a] from [crewAI/src/crewai/cli/reset_memories_command.py].\n",
            "Ingested content [f84f6e86-99fe-4644-a3cd-64f22c1c67ea] from [crewAI/src/crewai/cli/templates/pipeline_router/crews/urgent_crew/config/tasks.yaml].\n",
            "Ingested content [62b000b9-61d0-4208-8b3a-6ddd03acde87] from [crewAI/src/crewai/memory/contextual/contextual_memory.py].\n",
            "Ingested content [8ff5a578-e574-4956-8d8b-1342786635c3] from [crewAI/src/crewai/pipeline/__init__.py].\n",
            "Ingested content [d489499b-063b-4c06-b8b4-19f6bbc5fc95] from [crewAI/src/crewai/memory/storage/interface.py].\n",
            "Ingested content [027b4443-a82e-4ba8-a5ad-ce2ddfba7880] from [crewAI/src/crewai/cli/templates/pipeline/crews/write_x_crew/config/tasks.yaml].\n",
            "Ingested content [75c80b6d-7c84-4a1c-b55c-6012d9ca3fdb] from [crewAI/src/crewai/cli/templates/pipeline_router/pipelines/pipeline_urgent.py].\n"
          ]
        },
        {
          "output_type": "stream",
          "name": "stderr",
          "text": [
            "\n",
            " 58%|█████▊    | 100/171 [00:23<00:20,  3.53it/s]\u001b[A"
          ]
        },
        {
          "output_type": "stream",
          "name": "stdout",
          "text": [
            "Ingested content [0bbce872-f264-41ac-8922-ab1b707fe0c8] from [crewAI/src/crewai/cli/templates/pipeline_router/README.md].\n"
          ]
        },
        {
          "output_type": "stream",
          "name": "stderr",
          "text": [
            "\n",
            " 60%|██████    | 103/171 [00:24<00:19,  3.42it/s]\u001b[A"
          ]
        },
        {
          "output_type": "stream",
          "name": "stdout",
          "text": [
            "Ingested content [fd61fc45-a7f4-4f18-b933-8a6a04fcd626] from [crewAI/src/crewai/memory/long_term/long_term_memory_item.py].\n",
            "Ingested content [717a5ac6-0c8d-4079-b384-388dac525024] from [crewAI/src/crewai/memory/storage/kickoff_task_outputs_storage.py].\n",
            "Ingested content [cece003b-6375-40ec-b85e-9bf530c46bd3] from [crewAI/src/crewai/cli/templates/pipeline_router/crews/urgent_crew/config/agents.yaml].\n",
            "Ingested content [8bb372b7-c89c-4414-b7de-b62f6fde306c] from [crewAI/src/crewai/cli/command.py].\n",
            "Ingested content [acb2b689-cc5f-4962-90b1-641521f1f4ee] from [crewAI/src/crewai/cli/templates/pipeline_router/crews/normal_crew/config/agents.yaml].\n",
            "Ingested content [5844dda6-8564-4c94-a9d9-627edda1c71a] from [crewAI/src/crewai/memory/short_term/short_term_memory.py].\n",
            "Ingested content [4cea439e-a15a-4e01-bc1e-31ce050f09c4] from [crewAI/src/crewai/cli/templates/pipeline/crews/research_crew/config/agents.yaml].\n",
            "Ingested content [eb4467b2-1421-4a6b-9cc8-e292ac2da5b1] from [crewAI/src/crewai/cli/templates/pipeline_router/crews/classifier_crew/config/agents.yaml].\n"
          ]
        },
        {
          "output_type": "stream",
          "name": "stderr",
          "text": [
            "\n",
            " 64%|██████▎   | 109/171 [00:24<00:12,  5.03it/s]\u001b[A\n",
            " 65%|██████▌   | 112/171 [00:24<00:09,  5.93it/s]\u001b[A"
          ]
        },
        {
          "output_type": "stream",
          "name": "stdout",
          "text": [
            "Ingested content [38ee1785-2d81-48c8-9b23-aa86dbe88595] from [crewAI/src/crewai/cli/templates/pipeline_router/config/tasks.yaml].\n",
            "Ingested content [757840fa-5c9e-423d-b992-66d9f2db9c04] from [crewAI/src/crewai/utilities/pydantic_schema_parser.py].\n",
            "Ingested content [2c4adaeb-a6f4-451c-a2c6-f7b6edf7eb39] from [crewAI/src/crewai/cli/templates/pipeline/crews/research_crew/config/tasks.yaml].\n",
            "Ingested content [07091e97-d31a-4051-9af4-ad644748ab13] from [crewAI/src/crewai/translations/en.json].\n"
          ]
        },
        {
          "output_type": "stream",
          "name": "stderr",
          "text": [
            "\n",
            " 67%|██████▋   | 115/171 [00:24<00:07,  7.08it/s]\u001b[A"
          ]
        },
        {
          "output_type": "stream",
          "name": "stdout",
          "text": [
            "Ingested content [167595ae-5e85-4a9c-8e67-6a140640cf6b] from [crewAI/src/crewai/memory/storage/ltm_sqlite_storage.py].\n",
            "Ingested content [4589034e-f740-411e-bdfd-5b3899c99b17] from [crewAI/src/crewai/cli/run_crew.py].\n",
            "Ingested content [6284aa4b-026b-4e2b-bad8-85b5d91f05e6] from [crewAI/src/crewai/cli/templates/pipeline_router/crews/classifier_crew/config/tasks.yaml].\n",
            "Ingested content [25495c0c-93b5-42a5-8ccf-46afe6d9ac27] from [crewAI/src/crewai/cli/templates/pipeline/tools/custom_tool.py].\n",
            "Ingested content [ffb09c00-af47-41c4-88d9-cc5af8fd87ca] from [crewAI/src/crewai/cli/evaluate_crew.py].\n"
          ]
        },
        {
          "output_type": "stream",
          "name": "stderr",
          "text": [
            "\n",
            " 69%|██████▉   | 118/171 [00:25<00:08,  6.35it/s]\u001b[A"
          ]
        },
        {
          "output_type": "stream",
          "name": "stdout",
          "text": [
            "Ingested content [3c5cf9f3-90d4-45f3-b0d6-afbefa4d2786] from [crewAI/src/crewai/cli/templates/pipeline/main.py].\n",
            "Ingested content [a8188f6b-9094-4969-9597-54410ab0efe8] from [crewAI/src/crewai/cli/templates/pipeline/README.md].\n"
          ]
        },
        {
          "output_type": "stream",
          "name": "stderr",
          "text": [
            "\n",
            " 70%|███████   | 120/171 [00:26<00:12,  4.00it/s]\u001b[A"
          ]
        },
        {
          "output_type": "stream",
          "name": "stdout",
          "text": [
            "Ingested content [d4d2ee2f-41c3-48cc-b284-eb98a8b37829] from [crewAI/src/crewai/cli/templates/crew/crew.py].\n"
          ]
        },
        {
          "output_type": "stream",
          "name": "stderr",
          "text": [
            "\n",
            " 71%|███████▏  | 122/171 [00:27<00:13,  3.76it/s]\u001b[A"
          ]
        },
        {
          "output_type": "stream",
          "name": "stdout",
          "text": [
            "Ingested content [addb0b7a-0be3-4cc5-b48f-c6eb3623ac5c] from [crewAI/src/crewai/cli/templates/crew/main.py].\n",
            "Ingested content [2c60ceb0-1d58-4c56-8b34-abe055d5cd47] from [crewAI/src/crewai/cli/templates/crew/config/tasks.yaml].\n",
            "Ingested content [46501ab4-240c-45d6-bd44-9b3314f2c137] from [crewAI/src/crewai/cli/templates/crew/README.md].\n"
          ]
        },
        {
          "output_type": "stream",
          "name": "stderr",
          "text": [
            "\n",
            " 73%|███████▎  | 124/171 [00:27<00:12,  3.81it/s]\u001b[A"
          ]
        },
        {
          "output_type": "stream",
          "name": "stdout",
          "text": [
            "Ingested content [40f0d22c-396c-4320-a7d4-769f4a0b01f2] from [crewAI/src/crewai/cli/templates/flow/main.py].\n",
            "Ingested content [811f7208-f51f-4eaf-9e21-ef25c6518183] from [crewAI/src/crewai/cli/authentication/constants.py].\n",
            "Ingested content [265d26d5-c18c-4b08-9010-73a1a2ed45f3] from [crewAI/src/crewai/cli/templates/flow/tools/custom_tool.py].\n"
          ]
        },
        {
          "output_type": "stream",
          "name": "stderr",
          "text": [
            "\n",
            " 74%|███████▍  | 127/171 [00:28<00:09,  4.68it/s]\u001b[A"
          ]
        },
        {
          "output_type": "stream",
          "name": "stdout",
          "text": [
            "Ingested content [133345e5-c552-4b93-8b97-f57a9eb63fc5] from [crewAI/src/crewai/cli/authentication/__init__.py].\n",
            "Ingested content [447ae7b3-31a2-43a0-ba20-0c01a5ffda00] from [crewAI/src/crewai/cli/authentication/main.py].\n",
            "Ingested content [8aea8604-2fc6-4652-aa1f-95d56c2e4390] from [crewAI/src/crewai/cli/deploy/main.py].\n"
          ]
        },
        {
          "output_type": "stream",
          "name": "stderr",
          "text": [
            "\n",
            " 76%|███████▌  | 130/171 [00:28<00:07,  5.64it/s]\u001b[A"
          ]
        },
        {
          "output_type": "stream",
          "name": "stdout",
          "text": [
            "Ingested content [4be210e0-fb57-4c2d-a38e-3123f3c2e895] from [crewAI/src/crewai/tools/tool_calling.py].\n"
          ]
        },
        {
          "output_type": "stream",
          "name": "stderr",
          "text": [
            "\n",
            " 77%|███████▋  | 131/171 [00:28<00:07,  5.24it/s]\u001b[A"
          ]
        },
        {
          "output_type": "stream",
          "name": "stdout",
          "text": [
            "Ingested content [d2ecf20c-fd39-4d15-b454-67d7118c01c0] from [crewAI/src/crewai/cli/templates/flow/crews/poem_crew/poem_crew.py].\n",
            "Ingested content [2b65464b-1fdd-4791-80cf-dcd1d1a8de12] from [crewAI/src/crewai/agents/agent_builder/base_agent_executor_mixin.py].\n"
          ]
        },
        {
          "output_type": "stream",
          "name": "stderr",
          "text": [
            "\n",
            " 78%|███████▊  | 133/171 [00:29<00:08,  4.72it/s]\u001b[A"
          ]
        },
        {
          "output_type": "stream",
          "name": "stdout",
          "text": [
            "Ingested content [f6e150ad-a6cf-481a-9625-e5b426f91b24] from [crewAI/src/crewai/memory/__init__.py].\n"
          ]
        },
        {
          "output_type": "stream",
          "name": "stderr",
          "text": [
            "\n",
            " 78%|███████▊  | 134/171 [00:29<00:08,  4.44it/s]\u001b[A"
          ]
        },
        {
          "output_type": "stream",
          "name": "stdout",
          "text": [
            "Ingested content [69e19ab9-cca1-4313-8133-0ddec33904f6] from [crewAI/src/crewai/pipeline/pipeline.py].\n",
            "Ingested content [c4565036-3037-4684-b568-376278aace3c] from [crewAI/src/crewai/cli/templates/pipeline_router/crews/normal_crew/normal_crew.py].\n"
          ]
        },
        {
          "output_type": "stream",
          "name": "stderr",
          "text": [
            "\n",
            " 80%|███████▉  | 136/171 [00:30<00:08,  4.08it/s]\u001b[A\n",
            " 81%|████████  | 138/171 [00:30<00:06,  5.02it/s]"
          ]
        },
        {
          "output_type": "stream",
          "name": "stdout",
          "text": [
            "Ingested content [8a383174-52d5-465a-b571-4c49a35d54bd] from [crewAI/src/crewai/cli/templates/pipeline_router/crews/normal_crew/config/tasks.yaml].\n",
            "Ingested content [4d96be31-afa8-4668-81d2-23ecf87a1a6b] from [crewAI/src/crewai/memory/short_term/short_term_memory_item.py].\n",
            "Ingested content [e952d264-e048-4803-93a9-dc6be66abbc6] from [crewAI/src/crewai/cli/create_crew.py].\n"
          ]
        },
        {
          "output_type": "stream",
          "name": "stderr",
          "text": [
            "\u001b[A\n",
            " 81%|████████▏ | 139/171 [00:32<00:15,  2.02it/s]\u001b[A\n",
            " 82%|████████▏ | 140/171 [00:32<00:12,  2.40it/s]\u001b[A"
          ]
        },
        {
          "output_type": "stream",
          "name": "stdout",
          "text": [
            "Ingested content [96d4af75-7456-4270-9f0a-cec1008991ea] from [crewAI/src/crewai/cli/templates/crew/pyproject.toml].\n",
            "Ingested content [c83a5fc4-4a99-422a-a8fe-ad012f4415b8] from [crewAI/src/crewai/cli/templates/crew/config/agents.yaml].\n"
          ]
        },
        {
          "output_type": "stream",
          "name": "stderr",
          "text": [
            "\n",
            " 82%|████████▏ | 141/171 [00:32<00:10,  2.85it/s]\u001b[A"
          ]
        },
        {
          "output_type": "stream",
          "name": "stdout",
          "text": [
            "Ingested content [aad0a7d9-3303-4118-81eb-b02a3d0c04c7] from [crewAI/src/crewai/cli/templates/crew/tools/custom_tool.py].\n"
          ]
        },
        {
          "output_type": "stream",
          "name": "stderr",
          "text": [
            "\n",
            " 83%|████████▎ | 142/171 [00:32<00:09,  3.05it/s]\u001b[A\n",
            " 84%|████████▍ | 144/171 [00:32<00:06,  4.38it/s]\u001b[A"
          ]
        },
        {
          "output_type": "stream",
          "name": "stdout",
          "text": [
            "Ingested content [72300034-568e-4ea6-a9be-e6734e94960b] from [crewAI/src/crewai/cli/templates/flow/crews/poem_crew/config/agents.yaml].\n",
            "Ingested content [746727af-cbc5-4265-826e-43b33d9bd26f] from [crewAI/src/crewai/cli/templates/flow/crews/poem_crew/config/tasks.yaml].\n",
            "Ingested content [1b8cf404-b544-4cb5-9566-1d96e4a505fc] from [crewAI/src/crewai/cli/templates/flow/pyproject.toml].\n",
            "Ingested content [37fd803e-2bda-42ce-9eaa-416b382b4d87] from [crewAI/src/crewai/cli/templates/flow/README.md].\n"
          ]
        },
        {
          "output_type": "stream",
          "name": "stderr",
          "text": [
            "\n",
            " 85%|████████▌ | 146/171 [00:33<00:06,  3.89it/s]\u001b[A\n",
            " 86%|████████▌ | 147/171 [00:33<00:05,  4.37it/s]\u001b[A"
          ]
        },
        {
          "output_type": "stream",
          "name": "stdout",
          "text": [
            "Ingested content [3b009f67-5a0c-4701-8773-b29bcca07d5a] from [crewAI/src/crewai/tools/agent_tools.py].\n",
            "Ingested content [fd60b917-62c7-407c-b0c4-3fd012f11dc6] from [crewAI/src/crewai/cli/tools/main.py].\n",
            "Ingested content [9f446355-f064-4fac-8390-f46745050528] from [crewAI/src/crewai/cli/authentication/utils.py].\n"
          ]
        },
        {
          "output_type": "stream",
          "name": "stderr",
          "text": [
            "\n",
            " 87%|████████▋ | 149/171 [00:33<00:03,  5.53it/s]\u001b[A\n",
            " 89%|████████▉ | 153/171 [00:33<00:01,  9.00it/s]\u001b[A"
          ]
        },
        {
          "output_type": "stream",
          "name": "stdout",
          "text": [
            "Ingested content [a94fadaf-7c39-47a7-a1ad-7d62a29f5d4c] from [crewAI/src/crewai/agents/cache/cache_handler.py].\n",
            "Ingested content [776914c9-ed33-4d24-9f88-4abe9791877d] from [crewAI/src/crewai/tools/tool_usage.py].\n",
            "Ingested content [5fd943d9-8815-45df-9ee5-b01dd522b385] from [crewAI/src/crewai/telemetry/__init__.py].\n",
            "Ingested content [193f3d3d-be10-448a-99bb-3c7a3c4e3ac1] from [crewAI/src/crewai/agents/agent_builder/utilities/base_agent_tool.py].\n",
            "Ingested content [218ba63c-d52e-4758-9799-873e31269b1a] from [crewAI/src/crewai/flow/flow.py].\n"
          ]
        },
        {
          "output_type": "stream",
          "name": "stderr",
          "text": [
            "\n",
            " 92%|█████████▏| 157/171 [00:34<00:01, 11.84it/s]\u001b[A"
          ]
        },
        {
          "output_type": "stream",
          "name": "stdout",
          "text": [
            "Ingested content [a42dabb0-411a-481f-9f9b-077b0a08c7ae] from [crewAI/src/crewai/agents/agent_builder/utilities/base_token_process.py].\n",
            "Ingested content [55cacbb7-f512-4071-a3ae-a3b6c917c19d] from [crewAI/src/crewai/agents/parser.py].\n",
            "Ingested content [978c8ebc-d82e-4f1a-8a4e-a0ecc6842b88] from [crewAI/src/crewai/agents/__init__.py].\n",
            "Ingested content [5f9bc69a-f6ae-402c-988f-b9769716338c] from [crewAI/src/crewai/telemetry/telemetry.py].\n",
            "Ingested content [067ef31b-1441-42ef-b00c-ed8d5fe19329] from [crewAI/src/crewai/agents/crew_agent_executor.py].\n",
            "Ingested content [1214e70f-8074-4993-be16-79fe9ad516e2] from [crewAI/src/crewai/agents/agent_builder/utilities/base_output_converter.py].\n",
            "Ingested content [e039662c-b4ad-4f35-97d4-1b0f8049d1f0] from [crewAI/src/crewai/project/utils.py].\n",
            "Ingested content [0d3550cb-f24c-48d6-95c2-0128b963196e] from [crewAI/src/crewai/agents/cache/__init__.py].\n",
            "Ingested content [021460e1-5dfb-4d8b-9907-d244f4d101d1] from [crewAI/src/crewai/tools/cache_tools.py].\n"
          ]
        },
        {
          "output_type": "stream",
          "name": "stderr",
          "text": [
            "\n",
            " 95%|█████████▌| 163/171 [00:34<00:00, 10.08it/s]\u001b[A"
          ]
        },
        {
          "output_type": "stream",
          "name": "stdout",
          "text": [
            "Ingested content [d7f9236b-b73f-4f5b-88a2-63de24dbb1ff] from [crewAI/src/crewai/project/crew_base.py].\n",
            "Ingested content [3bc47271-c105-472a-a9a4-f22e2cd687d6] from [crewAI/src/crewai/project/pipeline_base.py].\n"
          ]
        },
        {
          "output_type": "stream",
          "name": "stderr",
          "text": [
            "\n",
            " 96%|█████████▋| 165/171 [00:35<00:00,  8.46it/s]\u001b[A"
          ]
        },
        {
          "output_type": "stream",
          "name": "stdout",
          "text": [
            "Ingested content [bb06d9b0-05c2-47a8-a79a-ce628ea9889d] from [crewAI/src/crewai/project/__init__.py].\n",
            "Ingested content [efc63109-70c6-4004-b837-7431e2a3ab13] from [crewAI/src/crewai/agents/agent_builder/base_agent.py].\n"
          ]
        },
        {
          "output_type": "stream",
          "name": "stderr",
          "text": [
            "\n",
            " 98%|█████████▊| 167/171 [00:39<00:02,  1.83it/s]\u001b[A"
          ]
        },
        {
          "output_type": "stream",
          "name": "stdout",
          "text": [
            "Ingested content [88ed5400-63c0-40e9-aba7-31752e6aa500] from [crewAI/src/crewai/project/annotations.py].\n"
          ]
        },
        {
          "output_type": "stream",
          "name": "stderr",
          "text": [
            "\n",
            " 98%|█████████▊| 168/171 [00:57<00:08,  2.87s/it]\u001b[A"
          ]
        },
        {
          "output_type": "stream",
          "name": "stdout",
          "text": [
            "Ingested content [44c996bf-0811-414f-a67d-62562a39fec5] from [crewAI/src/crewai/crews/crew_output.py].\n"
          ]
        },
        {
          "output_type": "stream",
          "name": "stderr",
          "text": [
            "\n",
            " 99%|█████████▉| 169/171 [00:59<00:05,  2.63s/it]\u001b[A"
          ]
        },
        {
          "output_type": "stream",
          "name": "stdout",
          "text": [
            "Ingested content [75ac93a7-a72a-4329-9944-42f785de34c6] from [crewAI/src/crewai/memory/memory.py].\n"
          ]
        },
        {
          "output_type": "stream",
          "name": "stderr",
          "text": [
            "\n",
            " 99%|█████████▉| 170/171 [01:00<00:02,  2.32s/it]\u001b[A"
          ]
        },
        {
          "output_type": "stream",
          "name": "stdout",
          "text": [
            "Ingested content [617a90cf-2f09-41bf-b18f-e54fc0f56d48] from [crewAI/src/crewai/cli/cli.py].\n"
          ]
        },
        {
          "output_type": "stream",
          "name": "stderr",
          "text": [
            "\n",
            "100%|██████████| 171/171 [01:04<00:00,  2.75s/it]\u001b[A"
          ]
        },
        {
          "output_type": "stream",
          "name": "stdout",
          "text": [
            "Ingested content [115517f5-8b21-4cc1-8805-a2f65dc02119] from [crewAI/src/crewai/agents/tools_handler.py].\n",
            "Ingested all contents.\n"
          ]
        }
      ]
    },
    {
      "cell_type": "markdown",
      "source": [
        "Execute example RAG prompt with citations"
      ],
      "metadata": {
        "id": "P0jwfpfN6dbJ"
      }
    },
    {
      "cell_type": "code",
      "source": [
        "from IPython.display import display, Markdown, HTML\n",
        "import time\n",
        "\n",
        "# Remove any existing conversations and specifications; only needed for notebook example\n",
        "await delete_all_conversations()\n",
        "await delete_all_specifications()\n",
        "\n",
        "print('Deleted all conversations and specifications.')\n",
        "\n",
        "prompt = \"Walk me through how the short-term and long-term memory works in CrewAI. Be detailed and show code samples.\"\n",
        "\n",
        "model = enums.GoogleModels.GEMINI_1_5_FLASH\n",
        "#model = enums.GoogleModels.GEMINI_1_5_PRO\n",
        "\n",
        "specification_id = await create_google_specification(model)\n",
        "\n",
        "if specification_id is not None:\n",
        "    print(f'Created specification [{specification_id}].')\n",
        "\n",
        "    conversation_id = await create_conversation(specification_id=specification_id)\n",
        "\n",
        "    if conversation_id is not None:\n",
        "        message = await prompt_conversation(conversation_id, prompt)\n",
        "\n",
        "        if message is not None:\n",
        "            display(Markdown('### Conversation:'))\n",
        "            display(Markdown(f'**User:**\\n{prompt}'))\n",
        "            display(Markdown(f'**Assistant:**\\n{message}'))\n",
        "            print()\n"
      ],
      "metadata": {
        "colab": {
          "base_uri": "https://localhost:8080/",
          "height": 1000
        },
        "id": "2NDBOdLzmuq_",
        "outputId": "bae7633f-48f2-44d7-da81-2f218f9fc29c"
      },
      "execution_count": 24,
      "outputs": [
        {
          "output_type": "stream",
          "name": "stdout",
          "text": [
            "Deleted all conversations and specifications.\n",
            "Created specification [939744cc-435e-4c06-a08d-db32523e1f82].\n"
          ]
        },
        {
          "output_type": "display_data",
          "data": {
            "text/plain": [
              "<IPython.core.display.Markdown object>"
            ],
            "text/markdown": "### Conversation:"
          },
          "metadata": {}
        },
        {
          "output_type": "display_data",
          "data": {
            "text/plain": [
              "<IPython.core.display.Markdown object>"
            ],
            "text/markdown": "**User:**\nWalk me through how the short-term and long-term memory works in CrewAI. Be detailed and show code samples."
          },
          "metadata": {}
        },
        {
          "output_type": "display_data",
          "data": {
            "text/plain": [
              "<IPython.core.display.Markdown object>"
            ],
            "text/markdown": "**Assistant:**\nCrewAI provides two types of memory: short-term memory (STM) and long-term memory (LTM). STM is used to store information about the current execution of a crew, while LTM is used to store information about past executions of a crew. This allows CrewAI to learn from its past experiences and improve its performance over time.\n\nSTM is implemented using the `ShortTermMemory` class, which uses a `RAGStorage` instance to store data. The `RAGStorage` class uses SQLite to store data, which is a lightweight and efficient database system. STM is used to store information about the current execution of a crew, such as the inputs to the crew, the outputs of the tasks, and the tools that were used. This information is used by the agents in the crew to make decisions about how to execute the tasks.\n\nLTM is implemented using the `LongTermMemory` class, which also uses a `RAGStorage` instance to store data. LTM is used to store information about past executions of a crew, such as the tasks that were executed, the outputs of the tasks, and the tools that were used. This information is used by the agents in the crew to learn from past experiences and improve their performance. For example, if an agent has previously executed a task successfully, it can use this information to improve its performance on future tasks.\n\nHere is an example of how to use STM and LTM in a CrewAI crew:\n\n```python\nfrom crewai import Crew, Agent, Task, Process\nfrom crewai.memory.short_term.short_term_memory import ShortTermMemory\nfrom crewai.memory.long_term.long_term_memory import LongTermMemory\n\nclass MyCrew(Crew):\n    tasks = [\n        Task(\n            description=\"Research the history of artificial intelligence.\",\n            expected_output=\"A summary of the history of artificial intelligence.\",\n            agent=Agent(\n                role=\"Researcher\",\n                goal=\"To research the history of artificial intelligence.\",\n                backstory=\"You are a researcher who is an expert in the history of artificial intelligence.\"\n            )\n        ),\n        Task(\n            description=\"Write a blog post about the history of artificial intelligence.\",\n            expected_output=\"A blog post about the history of artificial intelligence.\",\n            agent=Agent(\n                role=\"Writer\",\n                goal=\"To write a blog post about the history of artificial intelligence.\",\n                backstory=\"You are a writer who is an expert in the history of artificial intelligence.\"\n            )\n        )\n    ]\n    memory = True\n    short_term_memory = ShortTermMemory()\n    long_term_memory = LongTermMemory()\n    process = Process.sequential\n\nmy_crew = MyCrew()\nmy_crew.kickoff()\n```\n\nIn this example, the `MyCrew` class is defined with two tasks: one for research and one for writing. The `memory` attribute is set to `True`, which indicates that the crew should use memory. The `short_term_memory` and `long_term_memory` attributes are set to instances of the `ShortTermMemory` and `LongTermMemory` classes, respectively. The `process` attribute is set to `Process.sequential`, which indicates that the tasks should be executed sequentially.\n\nWhen the `kickoff()` method is called, the crew will execute the tasks sequentially. The `Researcher` agent will execute the first task, which is to research the history of artificial intelligence. The `Writer` agent will then execute the second task, which is to write a blog post about the history of artificial intelligence. The `ShortTermMemory` instance will be used to store information about the current execution of the crew, such as the inputs to the crew, the outputs of the tasks, and the tools that were used. The `LongTermMemory` instance will be used to store information about past executions of the crew, such as the tasks that were executed, the outputs of the tasks, and the tools that were used.\n\nThe agents in the crew can access the information stored in STM and LTM using the `memory` attribute. For example, the `Writer` agent can access the information stored in STM about the outputs of the `Researcher` agent. This information can be used by the `Writer` agent to improve its performance on the task of writing a blog post about the history of artificial intelligence."
          },
          "metadata": {}
        },
        {
          "output_type": "stream",
          "name": "stdout",
          "text": [
            "\n"
          ]
        }
      ]
    }
  ]
}