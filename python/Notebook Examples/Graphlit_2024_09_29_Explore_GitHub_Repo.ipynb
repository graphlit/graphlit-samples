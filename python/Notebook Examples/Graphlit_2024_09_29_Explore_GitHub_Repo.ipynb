{
  "nbformat": 4,
  "nbformat_minor": 0,
  "metadata": {
    "colab": {
      "provenance": [],
      "authorship_tag": "ABX9TyOLXxfpNslB12OnWaQJAUNc",
      "include_colab_link": true
    },
    "kernelspec": {
      "name": "python3",
      "display_name": "Python 3"
    },
    "language_info": {
      "name": "python"
    }
  },
  "cells": [
    {
      "cell_type": "markdown",
      "metadata": {
        "id": "view-in-github",
        "colab_type": "text"
      },
      "source": [
        "<a href=\"https://colab.research.google.com/github/graphlit/graphlit-samples/blob/main/python/Notebook%20Examples/Graphlit_2024_09_29_Explore_GitHub_Repo.ipynb\" target=\"_parent\"><img src=\"https://colab.research.google.com/assets/colab-badge.svg\" alt=\"Open In Colab\"/></a>"
      ]
    },
    {
      "cell_type": "markdown",
      "source": [
        "**Description**\n",
        "\n",
        "This example shows how to explore a GitHub repository with Graphlit, and the large context window of Google Gemini. Here we show how to use 'augmented content' to bring in the entire code base as context for the RAG prompt."
      ],
      "metadata": {
        "id": "gvxWpDjVamY1"
      }
    },
    {
      "cell_type": "markdown",
      "source": [
        "**Requirements**\n",
        "\n",
        "Prior to running this notebook, you will need to [signup](https://docs.graphlit.dev/getting-started/signup) for Graphlit, and [create a project](https://docs.graphlit.dev/getting-started/create-project).\n",
        "\n",
        "You will need the Graphlit organization ID, preview environment ID and JWT secret from your created project.\n",
        "\n",
        "Assign these properties as Colab secrets: GRAPHLIT_ORGANIZATION_ID, GRAPHLIT_ENVIRONMENT_ID and GRAPHLIT_JWT_SECRET.\n",
        "\n",
        "---"
      ],
      "metadata": {
        "id": "6fUPAkNqaNic"
      }
    },
    {
      "cell_type": "code",
      "source": [
        "!pip install --upgrade graphlit-client"
      ],
      "metadata": {
        "id": "DlIzErtofaWT",
        "colab": {
          "base_uri": "https://localhost:8080/"
        },
        "outputId": "86736278-1732-4455-9714-b1aa15b315d8"
      },
      "execution_count": 1,
      "outputs": [
        {
          "output_type": "stream",
          "name": "stdout",
          "text": [
            "Requirement already satisfied: graphlit-client in /usr/local/lib/python3.10/dist-packages (1.0.20240929002)\n",
            "Requirement already satisfied: httpx in /usr/local/lib/python3.10/dist-packages (from graphlit-client) (0.27.2)\n",
            "Requirement already satisfied: pydantic<3.0.0,>=2.0.0 in /usr/local/lib/python3.10/dist-packages (from graphlit-client) (2.9.2)\n",
            "Requirement already satisfied: PyJWT in /usr/local/lib/python3.10/dist-packages (from graphlit-client) (2.9.0)\n",
            "Requirement already satisfied: websockets in /usr/local/lib/python3.10/dist-packages (from graphlit-client) (13.1)\n",
            "Requirement already satisfied: annotated-types>=0.6.0 in /usr/local/lib/python3.10/dist-packages (from pydantic<3.0.0,>=2.0.0->graphlit-client) (0.7.0)\n",
            "Requirement already satisfied: pydantic-core==2.23.4 in /usr/local/lib/python3.10/dist-packages (from pydantic<3.0.0,>=2.0.0->graphlit-client) (2.23.4)\n",
            "Requirement already satisfied: typing-extensions>=4.6.1 in /usr/local/lib/python3.10/dist-packages (from pydantic<3.0.0,>=2.0.0->graphlit-client) (4.12.2)\n",
            "Requirement already satisfied: anyio in /usr/local/lib/python3.10/dist-packages (from httpx->graphlit-client) (3.7.1)\n",
            "Requirement already satisfied: certifi in /usr/local/lib/python3.10/dist-packages (from httpx->graphlit-client) (2024.8.30)\n",
            "Requirement already satisfied: httpcore==1.* in /usr/local/lib/python3.10/dist-packages (from httpx->graphlit-client) (1.0.5)\n",
            "Requirement already satisfied: idna in /usr/local/lib/python3.10/dist-packages (from httpx->graphlit-client) (3.10)\n",
            "Requirement already satisfied: sniffio in /usr/local/lib/python3.10/dist-packages (from httpx->graphlit-client) (1.3.1)\n",
            "Requirement already satisfied: h11<0.15,>=0.13 in /usr/local/lib/python3.10/dist-packages (from httpcore==1.*->httpx->graphlit-client) (0.14.0)\n",
            "Requirement already satisfied: exceptiongroup in /usr/local/lib/python3.10/dist-packages (from anyio->httpx->graphlit-client) (1.2.2)\n"
          ]
        }
      ]
    },
    {
      "cell_type": "markdown",
      "source": [
        "Clone the repo you want to explore"
      ],
      "metadata": {
        "id": "LgvjqV-Y5GKo"
      }
    },
    {
      "cell_type": "code",
      "source": [
        "!rm -rf crewAI\n",
        "!git clone https://github.com/crewAIInc/crewAI/"
      ],
      "metadata": {
        "colab": {
          "base_uri": "https://localhost:8080/"
        },
        "id": "wx1jyCbfeNU9",
        "outputId": "c1e30127-8013-42aa-af06-577947806a0e"
      },
      "execution_count": 2,
      "outputs": [
        {
          "output_type": "stream",
          "name": "stdout",
          "text": [
            "Cloning into 'crewAI'...\n",
            "remote: Enumerating objects: 10554, done.\u001b[K\n",
            "remote: Counting objects: 100% (4221/4221), done.\u001b[K\n",
            "remote: Compressing objects: 100% (1062/1062), done.\u001b[K\n",
            "remote: Total 10554 (delta 3110), reused 3846 (delta 2925), pack-reused 6333 (from 1)\u001b[K\n",
            "Receiving objects: 100% (10554/10554), 26.17 MiB | 11.81 MiB/s, done.\n",
            "Resolving deltas: 100% (6989/6989), done.\n"
          ]
        }
      ]
    },
    {
      "cell_type": "markdown",
      "source": [
        "Initialize Graphlit"
      ],
      "metadata": {
        "id": "XqGt4RCaagNv"
      }
    },
    {
      "cell_type": "code",
      "source": [
        "import os\n",
        "from google.colab import userdata\n",
        "from graphlit import Graphlit\n",
        "from graphlit_api import input_types, enums, exceptions\n",
        "\n",
        "os.environ['GRAPHLIT_ORGANIZATION_ID'] = userdata.get('GRAPHLIT_ORGANIZATION_ID')\n",
        "os.environ['GRAPHLIT_ENVIRONMENT_ID'] = userdata.get('GRAPHLIT_ENVIRONMENT_ID')\n",
        "os.environ['GRAPHLIT_JWT_SECRET'] = userdata.get('GRAPHLIT_JWT_SECRET')\n",
        "\n",
        "graphlit = Graphlit()"
      ],
      "metadata": {
        "id": "eF6MdPG4aWc7"
      },
      "execution_count": 3,
      "outputs": []
    },
    {
      "cell_type": "markdown",
      "source": [
        "Initialize sample data"
      ],
      "metadata": {
        "id": "rKo8ZqoS5vnD"
      }
    },
    {
      "cell_type": "code",
      "source": [
        "DATA_DIRECTORY = \"crewAI\"\n",
        "\n",
        "PATH_CODE = DATA_DIRECTORY + \"/src/crewai/\""
      ],
      "metadata": {
        "id": "bqzYqYXvf5VA"
      },
      "execution_count": 4,
      "outputs": []
    },
    {
      "cell_type": "markdown",
      "source": [
        "Define Graphlit helper functions"
      ],
      "metadata": {
        "id": "PWRSPFD51pMR"
      }
    },
    {
      "cell_type": "code",
      "source": [
        "import base64\n",
        "import mimetypes\n",
        "import asyncio\n",
        "from typing import List, Optional\n",
        "from tqdm.asyncio import tqdm\n",
        "\n",
        "async def process_file(filename: str, progress_bar, workflow_id: Optional[str] = None):\n",
        "    print(f'Ingesting content from [{filename}]')\n",
        "\n",
        "    content_id = await ingest_file(filename, workflow_id)\n",
        "\n",
        "    if content_id is not None:\n",
        "        print(f'Ingested content [{content_id}] from [{filename}].')\n",
        "    else:\n",
        "        print(f'Failed to ingest content from [{filename}].')\n",
        "\n",
        "    progress_bar.update(1)\n",
        "\n",
        "# NOTE: for local files, load from disk and convert to Base64 data\n",
        "async def ingest_file(file_path: str, workflow_id: Optional[str] = None):\n",
        "    if graphlit.client is None:\n",
        "        return;\n",
        "\n",
        "    try:\n",
        "        file_name = os.path.basename(file_path)\n",
        "        content_name, _ = os.path.splitext(file_name)\n",
        "\n",
        "        if file_name[0] == \".\":\n",
        "            print(f'Skipping dot file [{file_name}]')\n",
        "            return None\n",
        "\n",
        "        mime_type = mimetypes.guess_type(file_name)[0]\n",
        "\n",
        "        if mime_type is None:\n",
        "            print(f'Failed to infer MIME type [{file_name}], treat as plain text')\n",
        "            mime_type = \"text/plain\"\n",
        "\n",
        "        if not os.path.exists(file_path):\n",
        "            print(f'File [{file_path}] does not exist')\n",
        "            return None\n",
        "\n",
        "        with open(file_path, \"rb\") as file:\n",
        "            file_content = file.read()\n",
        "\n",
        "            if file_content is not None and len(file_content) > 0:\n",
        "                base64_content = base64.b64encode(file_content).decode('utf-8')\n",
        "\n",
        "                # Using synchronous mode, so the notebook waits for the content to be ingested\n",
        "                response = await graphlit.client.ingest_encoded_file(name=content_name, data=base64_content, mime_type=mime_type,\n",
        "                                                                    workflow=input_types.EntityReferenceInput(id=workflow_id) if workflow_id is not None else None, is_synchronous=True)\n",
        "\n",
        "                return response.ingest_encoded_file.id if response.ingest_encoded_file is not None else None\n",
        "            else:\n",
        "                print(f'Ignoring empty file [{file_path}].')\n",
        "                return None\n",
        "    except exceptions.GraphQLClientError as e:\n",
        "        print(str(e))\n",
        "        return None\n",
        "\n",
        "async def create_google_specification(model: enums.GoogleModels):\n",
        "    if graphlit.client is None:\n",
        "        return;\n",
        "\n",
        "    input = input_types.SpecificationInput(\n",
        "        name=f\"Google [{str(model)}]\",\n",
        "        type=enums.SpecificationTypes.COMPLETION,\n",
        "        serviceType=enums.ModelServiceTypes.GOOGLE,\n",
        "        google=input_types.GoogleModelPropertiesInput(\n",
        "            model=model,\n",
        "        ),\n",
        "        retrievalStrategy=input_types.RetrievalStrategyInput(\n",
        "            type=enums.RetrievalStrategyTypes.CONTENT, # NOTE: load entire code file, for any search hits\n",
        "            contentLimit=100\n",
        "        )\n",
        "    )\n",
        "\n",
        "    try:\n",
        "        response = await graphlit.client.create_specification(input)\n",
        "\n",
        "        return response.create_specification.id if response.create_specification is not None else None\n",
        "    except exceptions.GraphQLClientError as e:\n",
        "        print(str(e))\n",
        "        return None\n",
        "\n",
        "    return None\n",
        "\n",
        "async def create_conversation(specification_id: str):\n",
        "    if graphlit.client is None:\n",
        "        return;\n",
        "\n",
        "    input = input_types.ConversationInput(\n",
        "        name=\"Conversation\",\n",
        "        specification=input_types.EntityReferenceInput(\n",
        "            id=specification_id\n",
        "        ),\n",
        "        # NOTE: bring in all ingested code as context for the conversation, no matter if it was relevant to the user prompt\n",
        "        augmentedFilter=input_types.ContentCriteriaInput(\n",
        "            types=[enums.ContentTypes.FILE],\n",
        "            fileTypes=[enums.FileTypes.CODE]\n",
        "        )\n",
        "    )\n",
        "\n",
        "    try:\n",
        "        response = await graphlit.client.create_conversation(input)\n",
        "\n",
        "        return response.create_conversation.id if response.create_conversation is not None else None\n",
        "    except exceptions.GraphQLClientError as e:\n",
        "        print(str(e))\n",
        "        return None\n",
        "\n",
        "async def prompt_conversation(conversation_id: str, prompt: str):\n",
        "    if graphlit.client is None:\n",
        "        return None\n",
        "\n",
        "    try:\n",
        "        response = await graphlit.client.prompt_conversation(prompt, conversation_id)\n",
        "\n",
        "        return response.prompt_conversation.message.message if response.prompt_conversation is not None and response.prompt_conversation.message is not None else None\n",
        "    except exceptions.GraphQLClientError as e:\n",
        "        print(str(e))\n",
        "        return None\n",
        "\n",
        "# NOTE: these functions are just used to clean-up old data before executing the example\n",
        "async def delete_all_specifications():\n",
        "    if graphlit.client is None:\n",
        "        return;\n",
        "\n",
        "    _ = await graphlit.client.delete_all_specifications(is_synchronous=True)\n",
        "\n",
        "async def delete_all_conversations():\n",
        "    if graphlit.client is None:\n",
        "        return;\n",
        "\n",
        "    _ = await graphlit.client.delete_all_conversations(is_synchronous=True)\n",
        "\n",
        "async def delete_all_contents():\n",
        "    if graphlit.client is None:\n",
        "        return;\n",
        "\n",
        "    _ = await graphlit.client.delete_all_contents(is_synchronous=True)"
      ],
      "metadata": {
        "id": "cJFYJ0091rKj"
      },
      "execution_count": 5,
      "outputs": []
    },
    {
      "cell_type": "markdown",
      "source": [
        "Ingest code repository"
      ],
      "metadata": {
        "id": "PEmBPRxG17IP"
      }
    },
    {
      "cell_type": "code",
      "source": [
        "# Remove any existing contents; only needed for notebook example\n",
        "await delete_all_contents()\n",
        "\n",
        "print('Deleted all contents.')\n",
        "\n",
        "# List of files to process\n",
        "files = [os.path.join(root, file) for root, _, files in os.walk(PATH_CODE) for file in files]\n",
        "\n",
        "progress_bar = tqdm(total=len(files))\n",
        "\n",
        "tasks = [process_file(filename, progress_bar) for filename in files]\n",
        "\n",
        "await asyncio.gather(*tasks)\n",
        "\n",
        "print('Ingested all contents.')"
      ],
      "metadata": {
        "id": "Zg9Nb0XR13uL",
        "colab": {
          "base_uri": "https://localhost:8080/"
        },
        "outputId": "e6fd1900-ccde-474f-c1d9-b980931d6c50"
      },
      "execution_count": 6,
      "outputs": [
        {
          "output_type": "stream",
          "name": "stdout",
          "text": [
            "Deleted all contents.\n"
          ]
        },
        {
          "output_type": "stream",
          "name": "stderr",
          "text": [
            "  1%|          | 1/171 [00:00<00:20,  8.17it/s]"
          ]
        },
        {
          "output_type": "stream",
          "name": "stdout",
          "text": [
            "Ingesting content from [crewAI/src/crewai/crew.py]\n",
            "Ingesting content from [crewAI/src/crewai/agent.py]\n",
            "Ingesting content from [crewAI/src/crewai/__init__.py]\n",
            "Ingesting content from [crewAI/src/crewai/task.py]\n",
            "Ingesting content from [crewAI/src/crewai/process.py]\n",
            "Ingesting content from [crewAI/src/crewai/llm.py]\n",
            "Ingesting content from [crewAI/src/crewai/routers/__init__.py]\n",
            "Ingesting content from [crewAI/src/crewai/routers/router.py]\n",
            "Ingesting content from [crewAI/src/crewai/tasks/task_output.py]\n",
            "Ingesting content from [crewAI/src/crewai/tasks/__init__.py]\n",
            "Ingesting content from [crewAI/src/crewai/tasks/conditional_task.py]\n",
            "Ingesting content from [crewAI/src/crewai/tasks/output_format.py]\n",
            "Ingesting content from [crewAI/src/crewai/utilities/planning_handler.py]\n",
            "Ingesting content from [crewAI/src/crewai/utilities/crew_json_encoder.py]\n",
            "Ingesting content from [crewAI/src/crewai/utilities/i18n.py]\n",
            "Ingesting content from [crewAI/src/crewai/utilities/config.py]\n",
            "Ingesting content from [crewAI/src/crewai/utilities/constants.py]\n",
            "Ingesting content from [crewAI/src/crewai/utilities/printer.py]\n",
            "Ingesting content from [crewAI/src/crewai/utilities/logger.py]\n",
            "Ingesting content from [crewAI/src/crewai/utilities/prompts.py]\n",
            "Ingesting content from [crewAI/src/crewai/utilities/__init__.py]\n",
            "Ingesting content from [crewAI/src/crewai/utilities/parser.py]\n",
            "Ingesting content from [crewAI/src/crewai/utilities/converter.py]\n",
            "Ingesting content from [crewAI/src/crewai/utilities/file_handler.py]\n",
            "Ingesting content from [crewAI/src/crewai/utilities/formatter.py]\n",
            "Ingesting content from [crewAI/src/crewai/utilities/crew_pydantic_output_parser.py]\n",
            "Ingesting content from [crewAI/src/crewai/utilities/task_output_storage_handler.py]\n",
            "Ingesting content from [crewAI/src/crewai/utilities/token_counter_callback.py]\n",
            "Ingesting content from [crewAI/src/crewai/utilities/paths.py]\n",
            "Ingesting content from [crewAI/src/crewai/utilities/rpm_controller.py]\n",
            "Ingesting content from [crewAI/src/crewai/utilities/training_handler.py]\n",
            "Ingesting content from [crewAI/src/crewai/utilities/internal_instructor.py]\n",
            "Ingesting content from [crewAI/src/crewai/utilities/pydantic_schema_parser.py]\n",
            "Ingesting content from [crewAI/src/crewai/utilities/exceptions/context_window_exceeding_exception.py]\n",
            "Ingesting content from [crewAI/src/crewai/utilities/evaluators/task_evaluator.py]\n",
            "Ingesting content from [crewAI/src/crewai/utilities/evaluators/crew_evaluator_handler.py]\n",
            "Ingesting content from [crewAI/src/crewai/pipeline/__init__.py]\n",
            "Ingesting content from [crewAI/src/crewai/pipeline/pipeline.py]\n",
            "Ingesting content from [crewAI/src/crewai/pipeline/pipeline_output.py]\n",
            "Ingesting content from [crewAI/src/crewai/pipeline/pipeline_kickoff_result.py]\n",
            "Ingesting content from [crewAI/src/crewai/crews/__init__.py]\n",
            "Ingesting content from [crewAI/src/crewai/crews/crew_output.py]\n",
            "Ingesting content from [crewAI/src/crewai/types/__init__.py]\n",
            "Ignoring empty file [crewAI/src/crewai/types/__init__.py].\n",
            "Failed to ingest content from [crewAI/src/crewai/types/__init__.py].\n",
            "Ingesting content from [crewAI/src/crewai/types/usage_metrics.py]\n",
            "Ingesting content from [crewAI/src/crewai/memory/__init__.py]\n",
            "Ingesting content from [crewAI/src/crewai/memory/memory.py]\n",
            "Ingesting content from [crewAI/src/crewai/memory/contextual/__init__.py]\n",
            "Ignoring empty file [crewAI/src/crewai/memory/contextual/__init__.py].\n",
            "Failed to ingest content from [crewAI/src/crewai/memory/contextual/__init__.py].\n",
            "Ingesting content from [crewAI/src/crewai/memory/contextual/contextual_memory.py]\n",
            "Ingesting content from [crewAI/src/crewai/memory/long_term/long_term_memory_item.py]\n",
            "Ingesting content from [crewAI/src/crewai/memory/long_term/__init__.py]\n",
            "Ignoring empty file [crewAI/src/crewai/memory/long_term/__init__.py].\n",
            "Failed to ingest content from [crewAI/src/crewai/memory/long_term/__init__.py].\n",
            "Ingesting content from [crewAI/src/crewai/memory/long_term/long_term_memory.py]\n",
            "Ingesting content from [crewAI/src/crewai/memory/storage/interface.py]\n",
            "Ingesting content from [crewAI/src/crewai/memory/storage/kickoff_task_outputs_storage.py]\n",
            "Ingesting content from [crewAI/src/crewai/memory/storage/ltm_sqlite_storage.py]\n",
            "Ingesting content from [crewAI/src/crewai/memory/storage/rag_storage.py]\n",
            "Ingesting content from [crewAI/src/crewai/memory/entity/__init__.py]\n",
            "Ignoring empty file [crewAI/src/crewai/memory/entity/__init__.py].\n",
            "Failed to ingest content from [crewAI/src/crewai/memory/entity/__init__.py].\n",
            "Ingesting content from [crewAI/src/crewai/memory/entity/entity_memory.py]\n",
            "Ingesting content from [crewAI/src/crewai/memory/entity/entity_memory_item.py]\n",
            "Ingesting content from [crewAI/src/crewai/memory/short_term/__init__.py]\n",
            "Ignoring empty file [crewAI/src/crewai/memory/short_term/__init__.py].\n",
            "Failed to ingest content from [crewAI/src/crewai/memory/short_term/__init__.py].\n",
            "Ingesting content from [crewAI/src/crewai/memory/short_term/short_term_memory.py]\n",
            "Ingesting content from [crewAI/src/crewai/memory/short_term/short_term_memory_item.py]\n",
            "Ingesting content from [crewAI/src/crewai/translations/en.json]\n",
            "Ingesting content from [crewAI/src/crewai/cli/command.py]\n",
            "Ingesting content from [crewAI/src/crewai/cli/create_pipeline.py]\n",
            "Ingesting content from [crewAI/src/crewai/cli/create_flow.py]\n",
            "Ingesting content from [crewAI/src/crewai/cli/train_crew.py]\n",
            "Ingesting content from [crewAI/src/crewai/cli/__init__.py]\n",
            "Ignoring empty file [crewAI/src/crewai/cli/__init__.py].\n",
            "Failed to ingest content from [crewAI/src/crewai/cli/__init__.py].\n",
            "Ingesting content from [crewAI/src/crewai/cli/plus_api.py]\n",
            "Ingesting content from [crewAI/src/crewai/cli/run_crew.py]\n",
            "Ingesting content from [crewAI/src/crewai/cli/reset_memories_command.py]\n",
            "Ingesting content from [crewAI/src/crewai/cli/replay_from_task.py]\n",
            "Ingesting content from [crewAI/src/crewai/cli/install_crew.py]\n",
            "Ingesting content from [crewAI/src/crewai/cli/utils.py]\n",
            "Ingesting content from [crewAI/src/crewai/cli/create_crew.py]\n",
            "Ingesting content from [crewAI/src/crewai/cli/evaluate_crew.py]\n",
            "Ingesting content from [crewAI/src/crewai/cli/cli.py]\n",
            "Ingesting content from [crewAI/src/crewai/cli/templates/__init__.py]\n",
            "Ignoring empty file [crewAI/src/crewai/cli/templates/__init__.py].\n",
            "Failed to ingest content from [crewAI/src/crewai/cli/templates/__init__.py].\n",
            "Ingesting content from [crewAI/src/crewai/cli/templates/pipeline/main.py]\n",
            "Ingesting content from [crewAI/src/crewai/cli/templates/pipeline/.gitignore]\n",
            "Skipping dot file [.gitignore]\n",
            "Failed to ingest content from [crewAI/src/crewai/cli/templates/pipeline/.gitignore].\n",
            "Ingesting content from [crewAI/src/crewai/cli/templates/pipeline/__init__.py]\n",
            "Ignoring empty file [crewAI/src/crewai/cli/templates/pipeline/__init__.py].\n",
            "Failed to ingest content from [crewAI/src/crewai/cli/templates/pipeline/__init__.py].\n",
            "Ingesting content from [crewAI/src/crewai/cli/templates/pipeline/pyproject.toml]\n",
            "Failed to infer MIME type [pyproject.toml], treat as plain text\n",
            "Ingesting content from [crewAI/src/crewai/cli/templates/pipeline/README.md]\n",
            "Ingesting content from [crewAI/src/crewai/cli/templates/pipeline/crews/research_crew/research_crew.py]\n",
            "Ingesting content from [crewAI/src/crewai/cli/templates/pipeline/crews/research_crew/config/tasks.yaml]\n",
            "Failed to infer MIME type [tasks.yaml], treat as plain text\n",
            "Ingesting content from [crewAI/src/crewai/cli/templates/pipeline/crews/research_crew/config/agents.yaml]\n",
            "Failed to infer MIME type [agents.yaml], treat as plain text\n",
            "Ingesting content from [crewAI/src/crewai/cli/templates/pipeline/crews/write_linkedin_crew/write_linkedin_crew.py]\n",
            "Ingesting content from [crewAI/src/crewai/cli/templates/pipeline/crews/write_linkedin_crew/config/tasks.yaml]\n",
            "Failed to infer MIME type [tasks.yaml], treat as plain text\n",
            "Ignoring empty file [crewAI/src/crewai/cli/templates/pipeline/crews/write_linkedin_crew/config/tasks.yaml].\n",
            "Failed to ingest content from [crewAI/src/crewai/cli/templates/pipeline/crews/write_linkedin_crew/config/tasks.yaml]."
          ]
        },
        {
          "output_type": "stream",
          "name": "stderr",
          "text": [
            " 16%|█▌        | 27/171 [00:00<00:01, 93.27it/s]"
          ]
        },
        {
          "output_type": "stream",
          "name": "stdout",
          "text": [
            "\n",
            "Ingesting content from [crewAI/src/crewai/cli/templates/pipeline/crews/write_linkedin_crew/config/agents.yaml]\n",
            "Failed to infer MIME type [agents.yaml], treat as plain text\n",
            "Ignoring empty file [crewAI/src/crewai/cli/templates/pipeline/crews/write_linkedin_crew/config/agents.yaml].\n",
            "Failed to ingest content from [crewAI/src/crewai/cli/templates/pipeline/crews/write_linkedin_crew/config/agents.yaml].\n",
            "Ingesting content from [crewAI/src/crewai/cli/templates/pipeline/crews/write_x_crew/write_x_crew.py]\n",
            "Ingesting content from [crewAI/src/crewai/cli/templates/pipeline/crews/write_x_crew/config/tasks.yaml]\n",
            "Failed to infer MIME type [tasks.yaml], treat as plain text\n",
            "Ingesting content from [crewAI/src/crewai/cli/templates/pipeline/crews/write_x_crew/config/agents.yaml]\n",
            "Failed to infer MIME type [agents.yaml], treat as plain text\n",
            "Ingesting content from [crewAI/src/crewai/cli/templates/pipeline/tools/custom_tool.py]\n",
            "Ingesting content from [crewAI/src/crewai/cli/templates/pipeline/tools/__init__.py]\n",
            "Ignoring empty file [crewAI/src/crewai/cli/templates/pipeline/tools/__init__.py].\n",
            "Failed to ingest content from [crewAI/src/crewai/cli/templates/pipeline/tools/__init__.py].\n",
            "Ingesting content from [crewAI/src/crewai/cli/templates/pipeline/pipelines/__init__.py]\n",
            "Ignoring empty file [crewAI/src/crewai/cli/templates/pipeline/pipelines/__init__.py].\n",
            "Failed to ingest content from [crewAI/src/crewai/cli/templates/pipeline/pipelines/__init__.py].\n",
            "Ingesting content from [crewAI/src/crewai/cli/templates/pipeline/pipelines/pipeline.py]\n",
            "Ingesting content from [crewAI/src/crewai/cli/templates/pipeline_router/main.py]\n",
            "Ingesting content from [crewAI/src/crewai/cli/templates/pipeline_router/.gitignore]\n",
            "Skipping dot file [.gitignore]\n",
            "Failed to ingest content from [crewAI/src/crewai/cli/templates/pipeline_router/.gitignore].\n",
            "Ingesting content from [crewAI/src/crewai/cli/templates/pipeline_router/__init__.py]\n",
            "Ignoring empty file [crewAI/src/crewai/cli/templates/pipeline_router/__init__.py].\n",
            "Failed to ingest content from [crewAI/src/crewai/cli/templates/pipeline_router/__init__.py].\n",
            "Ingesting content from [crewAI/src/crewai/cli/templates/pipeline_router/pyproject.toml]\n",
            "Failed to infer MIME type [pyproject.toml], treat as plain text\n",
            "Ingesting content from [crewAI/src/crewai/cli/templates/pipeline_router/README.md]\n",
            "Ingesting content from [crewAI/src/crewai/cli/templates/pipeline_router/crews/classifier_crew/classifier_crew.py]\n",
            "Ingesting content from [crewAI/src/crewai/cli/templates/pipeline_router/crews/classifier_crew/config/tasks.yaml]\n",
            "Failed to infer MIME type [tasks.yaml], treat as plain text\n",
            "Ingesting content from [crewAI/src/crewai/cli/templates/pipeline_router/crews/classifier_crew/config/agents.yaml]\n",
            "Failed to infer MIME type [agents.yaml], treat as plain text\n",
            "Ingesting content from [crewAI/src/crewai/cli/templates/pipeline_router/crews/urgent_crew/urgent_crew.py]\n",
            "Ingesting content from [crewAI/src/crewai/cli/templates/pipeline_router/crews/urgent_crew/config/tasks.yaml]\n",
            "Failed to infer MIME type [tasks.yaml], treat as plain text\n",
            "Ingesting content from [crewAI/src/crewai/cli/templates/pipeline_router/crews/urgent_crew/config/agents.yaml]\n",
            "Failed to infer MIME type [agents.yaml], treat as plain text\n",
            "Ingesting content from [crewAI/src/crewai/cli/templates/pipeline_router/crews/normal_crew/normal_crew.py]\n",
            "Ingesting content from [crewAI/src/crewai/cli/templates/pipeline_router/crews/normal_crew/config/tasks.yaml]\n",
            "Failed to infer MIME type [tasks.yaml], treat as plain text\n",
            "Ingesting content from [crewAI/src/crewai/cli/templates/pipeline_router/crews/normal_crew/config/agents.yaml]\n",
            "Failed to infer MIME type [agents.yaml], treat as plain text\n",
            "Ingesting content from [crewAI/src/crewai/cli/templates/pipeline_router/config/tasks.yaml]\n",
            "Failed to infer MIME type [tasks.yaml], treat as plain text\n",
            "Ingesting content from [crewAI/src/crewai/cli/templates/pipeline_router/config/agents.yaml]\n",
            "Failed to infer MIME type [agents.yaml], treat as plain text\n",
            "Ingesting content from [crewAI/src/crewai/cli/templates/pipeline_router/tools/custom_tool.py]\n",
            "Ingesting content from [crewAI/src/crewai/cli/templates/pipeline_router/tools/__init__.py]\n",
            "Ignoring empty file [crewAI/src/crewai/cli/templates/pipeline_router/tools/__init__.py].\n",
            "Failed to ingest content from [crewAI/src/crewai/cli/templates/pipeline_router/tools/__init__.py].\n",
            "Ingesting content from [crewAI/src/crewai/cli/templates/pipeline_router/pipelines/pipeline_urgent.py]\n",
            "Ingesting content from [crewAI/src/crewai/cli/templates/pipeline_router/pipelines/pipeline_classifier.py]\n",
            "Ingesting content from [crewAI/src/crewai/cli/templates/pipeline_router/pipelines/__init__.py]\n",
            "Ignoring empty file [crewAI/src/crewai/cli/templates/pipeline_router/pipelines/__init__.py].\n",
            "Failed to ingest content from [crewAI/src/crewai/cli/templates/pipeline_router/pipelines/__init__.py].\n",
            "Ingesting content from [crewAI/src/crewai/cli/templates/pipeline_router/pipelines/pipeline_normal.py]\n",
            "Ingesting content from [crewAI/src/crewai/cli/templates/crew/crew.py]\n",
            "Ingesting content from [crewAI/src/crewai/cli/templates/crew/main.py]\n",
            "Ingesting content from [crewAI/src/crewai/cli/templates/crew/.gitignore]\n",
            "Skipping dot file [.gitignore]\n",
            "Failed to ingest content from [crewAI/src/crewai/cli/templates/crew/.gitignore].\n",
            "Ingesting content from [crewAI/src/crewai/cli/templates/crew/__init__.py]\n",
            "Ignoring empty file [crewAI/src/crewai/cli/templates/crew/__init__.py].\n",
            "Failed to ingest content from [crewAI/src/crewai/cli/templates/crew/__init__.py].\n",
            "Ingesting content from [crewAI/src/crewai/cli/templates/crew/pyproject.toml]\n",
            "Failed to infer MIME type [pyproject.toml], treat as plain text\n",
            "Ingesting content from [crewAI/src/crewai/cli/templates/crew/README.md]\n",
            "Ingesting content from [crewAI/src/crewai/cli/templates/crew/config/tasks.yaml]\n",
            "Failed to infer MIME type [tasks.yaml], treat as plain text\n",
            "Ingesting content from [crewAI/src/crewai/cli/templates/crew/config/agents.yaml]\n",
            "Failed to infer MIME type [agents.yaml], treat as plain text\n",
            "Ingesting content from [crewAI/src/crewai/cli/templates/crew/tools/custom_tool.py]\n",
            "Ingesting content from [crewAI/src/crewai/cli/templates/crew/tools/__init__.py]\n",
            "Ignoring empty file [crewAI/src/crewai/cli/templates/crew/tools/__init__.py].\n",
            "Failed to ingest content from [crewAI/src/crewai/cli/templates/crew/tools/__init__.py].\n",
            "Ingesting content from [crewAI/src/crewai/cli/templates/flow/main.py]\n",
            "Ingesting content from [crewAI/src/crewai/cli/templates/flow/.gitignore]\n",
            "Skipping dot file [.gitignore]\n",
            "Failed to ingest content from [crewAI/src/crewai/cli/templates/flow/.gitignore].\n",
            "Ingesting content from [crewAI/src/crewai/cli/templates/flow/__init__.py]\n",
            "Ignoring empty file [crewAI/src/crewai/cli/templates/flow/__init__.py].\n",
            "Failed to ingest content from [crewAI/src/crewai/cli/templates/flow/__init__.py].\n",
            "Ingesting content from [crewAI/src/crewai/cli/templates/flow/pyproject.toml]\n",
            "Failed to infer MIME type [pyproject.toml], treat as plain text\n",
            "Ingesting content from [crewAI/src/crewai/cli/templates/flow/README.md]\n",
            "Ingesting content from [crewAI/src/crewai/cli/templates/flow/crews/poem_crew/poem_crew.py]\n",
            "Ingesting content from [crewAI/src/crewai/cli/templates/flow/crews/poem_crew/config/tasks.yaml]\n",
            "Failed to infer MIME type [tasks.yaml], treat as plain text\n",
            "Ingesting content from [crewAI/src/crewai/cli/templates/flow/crews/poem_crew/config/agents.yaml]\n",
            "Failed to infer MIME type [agents.yaml], treat as plain text\n",
            "Ingesting content from [crewAI/src/crewai/cli/templates/flow/tools/custom_tool.py]\n",
            "Ingesting content from [crewAI/src/crewai/cli/templates/flow/tools/__init__.py]\n",
            "Ignoring empty file [crewAI/src/crewai/cli/templates/flow/tools/__init__.py].\n",
            "Failed to ingest content from [crewAI/src/crewai/cli/templates/flow/tools/__init__.py].\n",
            "Ingesting content from [crewAI/src/crewai/cli/authentication/constants.py]\n",
            "Ingesting content from [crewAI/src/crewai/cli/authentication/main.py]\n",
            "Ingesting content from [crewAI/src/crewai/cli/authentication/__init__.py]\n",
            "Ingesting content from [crewAI/src/crewai/cli/authentication/utils.py]\n",
            "Ingesting content from [crewAI/src/crewai/cli/deploy/main.py]\n",
            "Ingesting content from [crewAI/src/crewai/cli/deploy/__init__.py]\n",
            "Ignoring empty file [crewAI/src/crewai/cli/deploy/__init__.py].\n",
            "Failed to ingest content from [crewAI/src/crewai/cli/deploy/__init__.py].\n",
            "Ingesting content from [crewAI/src/crewai/cli/tools/main.py]\n",
            "Ingesting content from [crewAI/src/crewai/cli/tools/__init__.py]\n",
            "Ignoring empty file [crewAI/src/crewai/cli/tools/__init__.py].\n",
            "Failed to ingest content from [crewAI/src/crewai/cli/tools/__init__.py].\n",
            "Ingesting content from [crewAI/src/crewai/tools/cache_tools.py]\n",
            "Ingesting content from [crewAI/src/crewai/tools/__init__.py]\n",
            "Ignoring empty file [crewAI/src/crewai/tools/__init__.py].\n",
            "Failed to ingest content from [crewAI/src/crewai/tools/__init__.py].\n",
            "Ingesting content from [crewAI/src/crewai/tools/tool_calling.py]\n",
            "Ingesting content from [crewAI/src/crewai/tools/agent_tools.py]\n",
            "Ingesting content from [crewAI/src/crewai/tools/tool_usage.py]\n",
            "Ingesting content from [crewAI/src/crewai/agents/__init__.py]\n",
            "Ingesting content from [crewAI/src/crewai/agents/parser.py]\n",
            "Ingesting content from [crewAI/src/crewai/agents/crew_agent_executor.py]\n",
            "Ingesting content from [crewAI/src/crewai/agents/tools_handler.py]\n",
            "Ingesting content from [crewAI/src/crewai/agents/cache/__init__.py]\n",
            "Ingesting content from [crewAI/src/crewai/agents/cache/cache_handler.py]\n",
            "Ingesting content from [crewAI/src/crewai/agents/agent_builder/__init__.py]\n",
            "Ignoring empty file [crewAI/src/crewai/agents/agent_builder/__init__.py].\n",
            "Failed to ingest content from [crewAI/src/crewai/agents/agent_builder/__init__.py].\n",
            "Ingesting content from [crewAI/src/crewai/agents/agent_builder/base_agent.py]\n",
            "Ingesting content from [crewAI/src/crewai/agents/agent_builder/base_agent_executor_mixin.py]\n",
            "Ingesting content from [crewAI/src/crewai/agents/agent_builder/utilities/base_token_process.py]\n",
            "Ingesting content from [crewAI/src/crewai/agents/agent_builder/utilities/base_output_converter.py]\n",
            "Ingesting content from [crewAI/src/crewai/agents/agent_builder/utilities/__init__.py]\n",
            "Ignoring empty file [crewAI/src/crewai/agents/agent_builder/utilities/__init__.py].\n",
            "Failed to ingest content from [crewAI/src/crewai/agents/agent_builder/utilities/__init__.py].\n",
            "Ingesting content from [crewAI/src/crewai/agents/agent_builder/utilities/base_agent_tool.py]\n",
            "Ingesting content from [crewAI/src/crewai/telemetry/telemetry.py]\n",
            "Ingesting content from [crewAI/src/crewai/telemetry/__init__.py]\n",
            "Ingesting content from [crewAI/src/crewai/flow/flow.py]\n",
            "Ingesting content from [crewAI/src/crewai/project/__init__.py]\n",
            "Ingesting content from [crewAI/src/crewai/project/crew_base.py]\n",
            "Ingesting content from [crewAI/src/crewai/project/utils.py]\n",
            "Ingesting content from [crewAI/src/crewai/project/pipeline_base.py]\n",
            "Ingesting content from [crewAI/src/crewai/project/annotations.py]\n",
            "Ingested content [c7439ec4-ce1e-4f6f-b482-43686fe0ea72] from [crewAI/src/crewai/utilities/crew_json_encoder.py].\n",
            "Ingested content [cd47375a-72d3-4a42-ac93-e1bff49f14bc] from [crewAI/src/crewai/utilities/crew_pydantic_output_parser.py].\n",
            "Ingested content [9af37000-12fc-4276-9ae2-44c436198464] from [crewAI/src/crewai/utilities/rpm_controller.py].\n",
            "Ingested content [ac359982-74e4-414b-84ef-68478ef61fa1] from [crewAI/src/crewai/tasks/__init__.py].\n",
            "Ingested content [cebbb881-094f-475b-8b7e-488f908ae84c] from [crewAI/src/crewai/utilities/printer.py].\n"
          ]
        },
        {
          "output_type": "stream",
          "name": "stderr",
          "text": [
            "\r 22%|██▏       | 37/171 [00:13<01:08,  1.96it/s]"
          ]
        },
        {
          "output_type": "stream",
          "name": "stdout",
          "text": [
            "Ingested content [e9a047ce-b329-467c-80aa-388106671b9b] from [crewAI/src/crewai/cli/create_pipeline.py].\n",
            "Ingested content [0bd71234-8835-4236-8b2f-aad9911e0fd8] from [crewAI/src/crewai/memory/short_term/short_term_memory_item.py].\n",
            "Ingested content [79ec0197-0a78-4416-9859-8fa28cc1bd59] from [crewAI/src/crewai/tasks/output_format.py].\n",
            "Ingested content [53dcfcd7-048f-434a-a23f-7d4d5698ca5d] from [crewAI/src/crewai/utilities/file_handler.py].\n"
          ]
        },
        {
          "output_type": "stream",
          "name": "stderr",
          "text": [
            "\r 23%|██▎       | 39/171 [00:13<01:01,  2.15it/s]"
          ]
        },
        {
          "output_type": "stream",
          "name": "stdout",
          "text": [
            "Ingested content [7aef1b66-f969-46ef-a53c-dcf79fa7c644] from [crewAI/src/crewai/tasks/conditional_task.py].\n",
            "Ingested content [682d46b1-69eb-4efc-a281-7c541effd1e9] from [crewAI/src/crewai/memory/long_term/long_term_memory.py].\n"
          ]
        },
        {
          "output_type": "stream",
          "name": "stderr",
          "text": [
            " 30%|██▉       | 51/171 [00:17<00:44,  2.71it/s]"
          ]
        },
        {
          "output_type": "stream",
          "name": "stdout",
          "text": [
            "Ingested content [0a45a64f-7059-4da8-88a5-982e20f4cb81] from [crewAI/src/crewai/routers/router.py].\n",
            "Ingested content [61e66d30-e34f-4614-af87-c04939d54988] from [crewAI/src/crewai/utilities/planning_handler.py].\n",
            "Ingested content [2289dd64-18a3-4eb9-918e-dac3c921c5bb] from [crewAI/src/crewai/llm.py].\n",
            "Ingested content [384b7b07-55a5-47e7-b1a5-ec2f960e8d2e] from [crewAI/src/crewai/agent.py].\n",
            "Ingested content [33606439-767a-4f49-97a4-53be60f42532] from [crewAI/src/crewai/task.py].\n",
            "Ingested content [f310228a-f8f1-4dfb-97c7-499c17e576ac] from [crewAI/src/crewai/process.py].\n",
            "Ingested content [baeca262-ae74-46ce-a09e-811a031bdacd] from [crewAI/src/crewai/utilities/constants.py].\n",
            "Ingested content [663ea2c3-2145-4288-98e6-cfd62b9b7172] from [crewAI/src/crewai/__init__.py].\n",
            "Ingested content [05aab302-1a14-4c67-a6b0-a68f4fd041b9] from [crewAI/src/crewai/routers/__init__.py].\n",
            "Ingested content [5f34eb79-b072-4fcf-a7fe-cebd3a8c339e] from [crewAI/src/crewai/crew.py].\n",
            "Ingested content [3ee20279-e9ac-46f0-92c3-c2bdc57078d1] from [crewAI/src/crewai/utilities/i18n.py].\n",
            "Ingested content [7819ffd9-d6e0-46fe-9cae-bb96bf15acd3] from [crewAI/src/crewai/tasks/task_output.py].\n",
            "Ingested content [84195444-8619-4888-9ce3-f116d43b2c80] from [crewAI/src/crewai/utilities/__init__.py].\n",
            "Ingested content [94cb36bc-f734-4f24-b4bb-1146e8839690] from [crewAI/src/crewai/utilities/token_counter_callback.py].\n",
            "Ingested content [7a2406c9-f512-4d52-82cb-4b41465118d0] from [crewAI/src/crewai/utilities/logger.py].\n",
            "Ingested content [7c0687e9-4c47-4ca0-910d-862020baeedc] from [crewAI/src/crewai/utilities/formatter.py].\n"
          ]
        },
        {
          "output_type": "stream",
          "name": "stderr",
          "text": [
            "\r 33%|███▎      | 56/171 [00:17<00:33,  3.48it/s]"
          ]
        },
        {
          "output_type": "stream",
          "name": "stdout",
          "text": [
            "Ingested content [fd9e851c-bc5f-44b4-9fa9-96368608ac85] from [crewAI/src/crewai/memory/storage/kickoff_task_outputs_storage.py].\n",
            "Ingested content [c389d366-f1c1-4d2c-8073-d6a9e0f37d7a] from [crewAI/src/crewai/utilities/internal_instructor.py].\n",
            "Ingested content [d8cc980c-7e1d-4d18-8e7b-adc554c39b7f] from [crewAI/src/crewai/utilities/converter.py].\n",
            "Ingested content [559e437f-b978-4775-b9be-3aadab0ca7bd] from [crewAI/src/crewai/utilities/exceptions/context_window_exceeding_exception.py].\n"
          ]
        },
        {
          "output_type": "stream",
          "name": "stderr",
          "text": [
            "\r 35%|███▌      | 60/171 [00:18<00:29,  3.77it/s]"
          ]
        },
        {
          "output_type": "stream",
          "name": "stdout",
          "text": [
            "Ingested content [3f97e5d5-204a-4ee7-a14e-98317a6e0c47] from [crewAI/src/crewai/memory/contextual/contextual_memory.py].\n"
          ]
        },
        {
          "output_type": "stream",
          "name": "stderr",
          "text": [
            "\r 37%|███▋      | 63/171 [00:23<00:59,  1.82it/s]"
          ]
        },
        {
          "output_type": "stream",
          "name": "stdout",
          "text": [
            "Ingested content [4f614d49-9036-4bc7-ba11-6b8ac9a71041] from [crewAI/src/crewai/crews/crew_output.py].\n",
            "Ingested content [6ab823fd-6a0d-401c-893d-4770abb7cee3] from [crewAI/src/crewai/memory/__init__.py].\n",
            "Ingested content [8d4eaae3-e1d8-47db-9258-8467ffc52b99] from [crewAI/src/crewai/utilities/evaluators/crew_evaluator_handler.py].\n",
            "Ingested content [5ec50f0e-59c7-46c1-9367-0ac74bab394b] from [crewAI/src/crewai/memory/storage/ltm_sqlite_storage.py].\n",
            "Ingested content [b9e3fc36-fb04-4777-a9b9-56cd256c94a1] from [crewAI/src/crewai/cli/templates/pipeline/main.py].\n",
            "Ingested content [41602396-ff81-47c3-8df9-3c95b3db41c5] from [crewAI/src/crewai/cli/templates/pipeline_router/crews/urgent_crew/urgent_crew.py].\n",
            "Ingested content [d8cca4be-9b69-461e-bf16-c6c4ac2f982d] from [crewAI/src/crewai/cli/templates/pipeline/tools/custom_tool.py].\n",
            "Ingested content [ccf09d18-5b5e-4da4-8f66-af46b9a9e3ee] from [crewAI/src/crewai/cli/plus_api.py].\n",
            "Ingested content [973c31bb-b5da-4ffd-b819-f17fe62554b9] from [crewAI/src/crewai/cli/replay_from_task.py].\n",
            "Ingested content [f29f0a71-9d0a-43ff-83fe-68532d136271] from [crewAI/src/crewai/utilities/evaluators/task_evaluator.py].\n",
            "Ingested content [11fc69ea-a11e-4896-97a3-25920c6bba3c] from [crewAI/src/crewai/cli/templates/pipeline_router/pipelines/pipeline_classifier.py].\n",
            "Ingested content [09983c9d-1218-428e-ac8b-79b2f4e0ec7c] from [crewAI/src/crewai/cli/train_crew.py].\n"
          ]
        },
        {
          "output_type": "stream",
          "name": "stderr",
          "text": [
            " 44%|████▍     | 76/171 [00:28<00:41,  2.30it/s]"
          ]
        },
        {
          "output_type": "stream",
          "name": "stdout",
          "text": [
            "Ingested content [64c21c93-69c0-4fa4-86ec-0a3b688fd534] from [crewAI/src/crewai/cli/templates/pipeline_router/main.py].\n",
            "Ingested content [66b48b00-df03-436d-859b-829e06b59dd8] from [crewAI/src/crewai/translations/en.json].\n",
            "Ingested content [78e13dc5-4dc1-4d44-a359-96440c919cff] from [crewAI/src/crewai/cli/templates/pipeline_router/crews/urgent_crew/config/tasks.yaml].\n",
            "Ingested content [f5ccbd92-3c13-495d-b46e-5341939d989e] from [crewAI/src/crewai/utilities/prompts.py].\n",
            "Ingested content [74539d47-892f-4b82-832a-eb8c4b2e13a5] from [crewAI/src/crewai/utilities/paths.py].\n",
            "Ingested content [dc604ca0-b5f7-41df-9aa2-e8b980c87056] from [crewAI/src/crewai/utilities/task_output_storage_handler.py].\n",
            "Ingested content [f2f00af7-542b-4868-a197-686d0b484652] from [crewAI/src/crewai/cli/create_flow.py].\n",
            "Ingested content [82a15fdc-49c6-4ca4-bc01-80fc05a3198f] from [crewAI/src/crewai/cli/templates/pipeline_router/tools/custom_tool.py].\n",
            "Ingested content [08aa3e21-812e-4ba0-8567-f1e940434e95] from [crewAI/src/crewai/cli/install_crew.py].\n",
            "Ingested content [4dcd8b61-77d4-41fa-9e29-50b9f751be9c] from [crewAI/src/crewai/cli/templates/pipeline_router/crews/classifier_crew/classifier_crew.py].\n",
            "Ingested content [0e9542e9-27da-4774-b496-51bd4651e420] from [crewAI/src/crewai/cli/templates/pipeline_router/crews/normal_crew/config/tasks.yaml].\n",
            "Ingested content [0aa41def-a57c-4ae7-b518-96f9a74e9dc4] from [crewAI/src/crewai/utilities/pydantic_schema_parser.py].\n"
          ]
        },
        {
          "output_type": "stream",
          "name": "stderr",
          "text": [
            "\r 50%|████▉     | 85/171 [00:28<00:21,  3.92it/s]"
          ]
        },
        {
          "output_type": "stream",
          "name": "stdout",
          "text": [
            "Ingested content [640161be-8b48-453e-9740-8163dac3d4a9] from [crewAI/src/crewai/cli/templates/pipeline/crews/write_linkedin_crew/write_linkedin_crew.py].\n",
            "Ingested content [47fb2708-0b91-4a13-998f-f28f4062855f] from [crewAI/src/crewai/utilities/training_handler.py].\n",
            "Ingested content [576bce44-8317-48d2-b610-0f05dd1046d2] from [crewAI/src/crewai/pipeline/pipeline_output.py].\n",
            "Ingested content [6dba9611-4e0d-44a3-a2eb-de1acccc0108] from [crewAI/src/crewai/cli/templates/pipeline/crews/research_crew/research_crew.py].\n",
            "Ingested content [42e206ac-7ffd-40f9-9698-57b112685ba2] from [crewAI/src/crewai/memory/storage/interface.py].\n"
          ]
        },
        {
          "output_type": "stream",
          "name": "stderr",
          "text": [
            "\r 53%|█████▎    | 90/171 [00:29<00:17,  4.53it/s]"
          ]
        },
        {
          "output_type": "stream",
          "name": "stdout",
          "text": [
            "Ingested content [59ba187c-98f9-41be-8e20-aac4b305646d] from [crewAI/src/crewai/cli/templates/pipeline_router/crews/classifier_crew/config/agents.yaml].\n",
            "Ingested content [400f79f0-0468-4e5d-a9b4-9ca42e4e526d] from [crewAI/src/crewai/utilities/config.py].\n",
            "Ingested content [8f006add-caf6-4f8d-8525-2f367cebc41b] from [crewAI/src/crewai/cli/reset_memories_command.py].\n"
          ]
        },
        {
          "output_type": "stream",
          "name": "stderr",
          "text": [
            " 57%|█████▋    | 98/171 [00:33<00:22,  3.20it/s]"
          ]
        },
        {
          "output_type": "stream",
          "name": "stdout",
          "text": [
            "Ingested content [54931b18-2f74-4189-b5cd-58df2b30488f] from [crewAI/src/crewai/cli/templates/pipeline_router/crews/urgent_crew/config/agents.yaml].\n",
            "Ingested content [f34ab755-ba94-4db7-8de0-daf7fe251eb7] from [crewAI/src/crewai/memory/short_term/short_term_memory.py].\n",
            "Ingested content [04b2b2bf-0250-43dd-a748-238b22353950] from [crewAI/src/crewai/pipeline/pipeline.py].\n",
            "Ingested content [0a849af9-9eab-47a3-84b2-d742d8a45f44] from [crewAI/src/crewai/cli/create_crew.py].\n",
            "Ingested content [288da3bb-c4b1-4950-b664-9d4a0c2aaf05] from [crewAI/src/crewai/crews/__init__.py].\n",
            "Ingested content [badc0b13-b214-41ea-9f12-5dc36656e657] from [crewAI/src/crewai/cli/templates/pipeline_router/config/agents.yaml].\n",
            "Ingested content [3138ccd0-1c21-462c-8c17-cd06a8b4770c] from [crewAI/src/crewai/cli/templates/pipeline/crews/write_x_crew/config/tasks.yaml].\n",
            "Ingested content [6c8b85b2-6a6c-46d3-b00f-108bff6dd953] from [crewAI/src/crewai/memory/memory.py].\n",
            "Ingested content [837dc965-57ff-4da3-a2ea-88682123f193] from [crewAI/src/crewai/cli/templates/pipeline/README.md].\n",
            "Ingested content [e0b9c1ac-486e-49b1-9286-cd9388f3d986] from [crewAI/src/crewai/cli/templates/pipeline_router/crews/classifier_crew/config/tasks.yaml].\n",
            "Ingested content [d2897699-4313-40b2-823d-79e546a862e8] from [crewAI/src/crewai/pipeline/pipeline_kickoff_result.py].\n"
          ]
        },
        {
          "output_type": "stream",
          "name": "stderr",
          "text": [
            " 69%|██████▉   | 118/171 [00:38<00:12,  4.33it/s]"
          ]
        },
        {
          "output_type": "stream",
          "name": "stdout",
          "text": [
            "Ingested content [d7ac38af-cb51-40dc-9f52-a4fe2e5b40e8] from [crewAI/src/crewai/cli/templates/pipeline/crews/write_x_crew/config/agents.yaml].\n",
            "Ingested content [666f56f5-c165-4779-a756-da160a43082e] from [crewAI/src/crewai/cli/templates/pipeline_router/crews/normal_crew/normal_crew.py].\n",
            "Ingested content [0b0ec670-ca4a-42d1-b32d-a576a4a778dd] from [crewAI/src/crewai/cli/evaluate_crew.py].\n",
            "Ingested content [6bc1b05a-da08-42c5-9c27-d7530ea8a697] from [crewAI/src/crewai/cli/command.py].\n",
            "Ingested content [e9fe572c-ff79-4a2f-beb5-e3d054d1f4d2] from [crewAI/src/crewai/memory/entity/entity_memory_item.py].\n",
            "Ingested content [d19cf047-f4a0-4b15-a6e0-a9032ba8eb7c] from [crewAI/src/crewai/cli/templates/pipeline_router/pipelines/pipeline_normal.py].\n",
            "Ingested content [cf289d2a-e1ef-486f-8be9-bf0276954e30] from [crewAI/src/crewai/cli/templates/pipeline/crews/write_x_crew/write_x_crew.py].\n",
            "Ingested content [b242b7ae-3540-4b7c-8b47-88c6abfe8498] from [crewAI/src/crewai/utilities/parser.py].\n",
            "Ingested content [cd5a552d-4ff3-4d64-955f-61ac17830679] from [crewAI/src/crewai/cli/templates/pipeline/crews/research_crew/config/agents.yaml].\n",
            "Ingested content [a3d1d2a8-d8fc-4eba-a178-742977e721e8] from [crewAI/src/crewai/cli/utils.py].\n",
            "Ingested content [b6d8773e-8432-40e2-a771-553ae6f2f9f5] from [crewAI/src/crewai/memory/entity/entity_memory.py].\n",
            "Ingested content [3e7a0d14-9669-4d20-8eb7-07c6f09f1440] from [crewAI/src/crewai/cli/run_crew.py].\n",
            "Ingested content [01f8918a-2fba-42cb-90e7-dc815fc2bec9] from [crewAI/src/crewai/memory/long_term/long_term_memory_item.py].\n",
            "Ingested content [2dcafae8-de0d-43e3-a673-8ab0edb24cb8] from [crewAI/src/crewai/cli/templates/pipeline_router/config/tasks.yaml].\n",
            "Ingested content [0bc79cfa-45ec-4a09-9028-15ae7ba92633] from [crewAI/src/crewai/cli/templates/pipeline/pipelines/pipeline.py].\n",
            "Ingested content [f67c64d6-d3d8-42ef-b152-4ed7630cc53c] from [crewAI/src/crewai/cli/templates/pipeline/pyproject.toml].\n",
            "Ingested content [62c7b4f5-5d6f-473c-97c0-4a0b5b4773a0] from [crewAI/src/crewai/cli/templates/pipeline_router/pipelines/pipeline_urgent.py].\n",
            "Ingested content [dd0a6504-e87c-4cb1-b0dd-b3349ac7d122] from [crewAI/src/crewai/cli/templates/pipeline_router/crews/normal_crew/config/agents.yaml].\n"
          ]
        },
        {
          "output_type": "stream",
          "name": "stderr",
          "text": [
            "\r 73%|███████▎  | 124/171 [00:38<00:08,  5.59it/s]"
          ]
        },
        {
          "output_type": "stream",
          "name": "stdout",
          "text": [
            "Ingested content [dfe02250-a023-40f4-a184-170be425e4be] from [crewAI/src/crewai/pipeline/__init__.py].\n",
            "Ingested content [0414a36a-65c3-4d89-8365-8329d1c68720] from [crewAI/src/crewai/cli/templates/pipeline_router/README.md].\n",
            "Ingested content [7c23df74-af57-4a04-aad3-15d1436d422b] from [crewAI/src/crewai/cli/templates/pipeline/crews/research_crew/config/tasks.yaml].\n",
            "Ingested content [51419ef1-aad7-49ed-9803-075cfea191b4] from [crewAI/src/crewai/cli/templates/flow/tools/custom_tool.py].\n",
            "Ingested content [f234442b-82e2-4ceb-8ec9-8ac701249730] from [crewAI/src/crewai/tools/cache_tools.py].\n",
            "Ingested content [044ae20d-f914-4968-966d-c3dd6bd5e332] from [crewAI/src/crewai/cli/templates/flow/crews/poem_crew/config/tasks.yaml].\n",
            "Ingested content [25aadd62-1114-4cd8-a9c2-5e93561be14d] from [crewAI/src/crewai/tools/tool_usage.py].\n",
            "Ingested content [eaf0624a-a7f1-4c15-a5b8-0df33ccd77f1] from [crewAI/src/crewai/tools/tool_calling.py].\n"
          ]
        },
        {
          "output_type": "stream",
          "name": "stderr",
          "text": [
            "\r 76%|███████▌  | 130/171 [00:42<00:13,  3.09it/s]"
          ]
        },
        {
          "output_type": "stream",
          "name": "stdout",
          "text": [
            "Ingested content [f96c9597-8c6e-451f-87b8-bca72851ddc2] from [crewAI/src/crewai/tools/agent_tools.py].\n",
            "Ingested content [392d72cf-1298-4e3b-bff2-3a9da4ed107e] from [crewAI/src/crewai/agents/parser.py].\n",
            "Ingested content [f988bdb2-4d82-46b1-90f1-b6874718d89b] from [crewAI/src/crewai/agents/crew_agent_executor.py].\n"
          ]
        },
        {
          "output_type": "stream",
          "name": "stderr",
          "text": [
            "\r 78%|███████▊  | 134/171 [00:43<00:10,  3.55it/s]"
          ]
        },
        {
          "output_type": "stream",
          "name": "stdout",
          "text": [
            "Ingested content [f5daf241-435e-4ec3-b52e-6a9583d4ec2e] from [crewAI/src/crewai/cli/templates/crew/config/tasks.yaml].\n",
            "Ingested content [3ee4e05e-85a3-41ff-bdb9-bd8c00b16468] from [crewAI/src/crewai/types/usage_metrics.py].\n",
            "Ingested content [410ffa4f-301f-46e2-8fc0-3ca8f5b99043] from [crewAI/src/crewai/memory/storage/rag_storage.py].\n",
            "Ingested content [21d19606-04fd-47bb-ac1c-4af8c268cd77] from [crewAI/src/crewai/cli/templates/crew/config/agents.yaml].\n"
          ]
        },
        {
          "output_type": "stream",
          "name": "stderr",
          "text": [
            "\r 80%|████████  | 137/171 [00:43<00:08,  3.82it/s]"
          ]
        },
        {
          "output_type": "stream",
          "name": "stdout",
          "text": [
            "Ingested content [6ebc8759-4b48-4032-8403-23fb5cb17942] from [crewAI/src/crewai/cli/templates/crew/tools/custom_tool.py].\n",
            "Ingested content [d78c0860-ba0a-41b8-9504-17b649458447] from [crewAI/src/crewai/cli/templates/flow/pyproject.toml].\n",
            "Ingested content [1bd008f7-d1f1-433a-85fe-af524c7d0e12] from [crewAI/src/crewai/cli/templates/flow/crews/poem_crew/poem_crew.py].\n"
          ]
        },
        {
          "output_type": "stream",
          "name": "stderr",
          "text": [
            " 83%|████████▎ | 142/171 [00:47<00:11,  2.52it/s]"
          ]
        },
        {
          "output_type": "stream",
          "name": "stdout",
          "text": [
            "Ingested content [668d8af7-de5b-408d-b5bc-c1d2d6efc21b] from [crewAI/src/crewai/cli/authentication/main.py].\n",
            "Ingested content [83f03acd-bd0c-40f6-a9e4-9102c6203d0d] from [crewAI/src/crewai/cli/tools/main.py].\n",
            "Ingested content [d418c897-7db4-499c-8378-49b1c5cd23dd] from [crewAI/src/crewai/cli/authentication/utils.py].\n",
            "Ingested content [42b4cf85-2cb7-446b-9555-7477150129cf] from [crewAI/src/crewai/cli/authentication/constants.py].\n",
            "Ingested content [3466bb86-733e-4695-a259-827b0036c6fd] from [crewAI/src/crewai/cli/authentication/__init__.py].\n",
            "Ingested content [24731b36-86e2-47ae-8a24-da465e43ad16] from [crewAI/src/crewai/cli/templates/crew/crew.py].\n"
          ]
        },
        {
          "output_type": "stream",
          "name": "stderr",
          "text": [
            "\r 87%|████████▋ | 149/171 [00:48<00:05,  4.18it/s]"
          ]
        },
        {
          "output_type": "stream",
          "name": "stdout",
          "text": [
            "Ingested content [f723a96e-1a8a-4039-934e-159bf96b050c] from [crewAI/src/crewai/cli/templates/flow/crews/poem_crew/config/agents.yaml].\n",
            "Ingested content [e6707952-0813-4fec-959e-fc4323f002c1] from [crewAI/src/crewai/cli/deploy/main.py].\n",
            "Ingested content [31af5dc9-e98f-458f-82f6-a514a07c2388] from [crewAI/src/crewai/agents/__init__.py].\n",
            "Ingested content [3eaee157-1a42-494c-92b2-ec737c2edc3c] from [crewAI/src/crewai/cli/templates/crew/pyproject.toml].\n"
          ]
        },
        {
          "output_type": "stream",
          "name": "stderr",
          "text": [
            "\r 88%|████████▊ | 151/171 [00:48<00:04,  4.73it/s]"
          ]
        },
        {
          "output_type": "stream",
          "name": "stdout",
          "text": [
            "Ingested content [f732e825-f42a-4dfe-bb22-4d33d8231f8c] from [crewAI/src/crewai/agents/cache/cache_handler.py].\n",
            "Ingested content [a2c909dd-cb20-4977-a464-f7ef0063b98f] from [crewAI/src/crewai/cli/templates/crew/main.py].\n",
            "Ingested content [7735f738-06ea-4d31-a39c-3777a5c275d7] from [crewAI/src/crewai/cli/templates/crew/README.md].\n"
          ]
        },
        {
          "output_type": "stream",
          "name": "stderr",
          "text": [
            "\r 89%|████████▉ | 153/171 [00:48<00:03,  5.26it/s]"
          ]
        },
        {
          "output_type": "stream",
          "name": "stdout",
          "text": [
            "Ingested content [d2d34eac-e89c-43d0-83d5-e2b0d03c479d] from [crewAI/src/crewai/cli/templates/pipeline_router/pyproject.toml].\n",
            "Ingested content [2dcce650-6594-4c2a-b155-0439cf2215f0] from [crewAI/src/crewai/cli/cli.py].\n"
          ]
        },
        {
          "output_type": "stream",
          "name": "stderr",
          "text": [
            "\r 91%|█████████ | 155/171 [00:48<00:03,  5.18it/s]"
          ]
        },
        {
          "output_type": "stream",
          "name": "stdout",
          "text": [
            "Ingested content [a4757c2a-c509-45f6-bb5c-a8e614ee9391] from [crewAI/src/crewai/agents/agent_builder/utilities/base_token_process.py].\n",
            "Ingested content [48163592-bf1c-49a1-a23e-4458dc9e389a] from [crewAI/src/crewai/cli/templates/flow/main.py].\n"
          ]
        },
        {
          "output_type": "stream",
          "name": "stderr",
          "text": [
            " 94%|█████████▍| 161/171 [00:49<00:01,  8.71it/s]"
          ]
        },
        {
          "output_type": "stream",
          "name": "stdout",
          "text": [
            "Ingested content [3410feb9-423a-4f85-80a4-e178e1ba8214] from [crewAI/src/crewai/cli/templates/flow/README.md].\n",
            "Ingested content [857cb07f-940f-410b-9841-f7d51818a9e7] from [crewAI/src/crewai/project/annotations.py].\n",
            "Ingested content [c7f595a4-fb78-41f4-a1c4-08eaa0ee501b] from [crewAI/src/crewai/flow/flow.py].\n",
            "Ingested content [b37c375c-5384-4a87-aebc-cffbe7045128] from [crewAI/src/crewai/telemetry/__init__.py].\n",
            "Ingested content [4eaf05f6-1efe-4ff8-b2fa-bf4c91b3098d] from [crewAI/src/crewai/agents/agent_builder/utilities/base_agent_tool.py].\n",
            "Ingested content [dc127b24-e587-4553-add5-ba820c0afe12] from [crewAI/src/crewai/project/__init__.py].\n",
            "Ingested content [96b94b64-8dcf-47eb-9163-cfbe4760ffd3] from [crewAI/src/crewai/project/pipeline_base.py].\n"
          ]
        },
        {
          "output_type": "stream",
          "name": "stderr",
          "text": [
            " 97%|█████████▋| 166/171 [00:58<00:03,  1.30it/s]"
          ]
        },
        {
          "output_type": "stream",
          "name": "stdout",
          "text": [
            "Ingested content [b72912b2-4438-4c73-94e2-ed49c5e01a84] from [crewAI/src/crewai/agents/cache/__init__.py].\n",
            "Ingested content [56918499-b96e-488d-be88-053bc2d88f0e] from [crewAI/src/crewai/agents/tools_handler.py].\n",
            "Ingested content [b6f996f9-34b5-45e2-853f-f91d88dfe2a2] from [crewAI/src/crewai/agents/agent_builder/base_agent.py].\n"
          ]
        },
        {
          "output_type": "stream",
          "name": "stderr",
          "text": [
            "\r 98%|█████████▊| 168/171 [00:59<00:02,  1.44it/s]"
          ]
        },
        {
          "output_type": "stream",
          "name": "stdout",
          "text": [
            "Ingested content [bed43a75-6c08-4b3c-8abb-4b7edf0fb67c] from [crewAI/src/crewai/agents/agent_builder/base_agent_executor_mixin.py].\n",
            "Ingested content [21698eae-c81c-4518-b5d1-a92409edb1db] from [crewAI/src/crewai/project/crew_base.py].\n",
            "Ingested content [5de38605-a790-4bc6-8c1a-742d129c9b73] from [crewAI/src/crewai/telemetry/telemetry.py].\n"
          ]
        },
        {
          "output_type": "stream",
          "name": "stderr",
          "text": [
            "\r 99%|█████████▉| 170/171 [01:01<00:00,  1.19it/s]"
          ]
        },
        {
          "output_type": "stream",
          "name": "stdout",
          "text": [
            "Ingested content [5349a8a6-5526-4534-bc29-ecad321a065f] from [crewAI/src/crewai/agents/agent_builder/utilities/base_output_converter.py].\n"
          ]
        },
        {
          "output_type": "stream",
          "name": "stderr",
          "text": [
            "\r100%|██████████| 171/171 [01:04<00:00,  1.09s/it]"
          ]
        },
        {
          "output_type": "stream",
          "name": "stdout",
          "text": [
            "Ingested content [fcd6c327-6c81-4362-acdc-4bcd8b20e9fe] from [crewAI/src/crewai/project/utils.py].\n",
            "Ingested all contents.\n"
          ]
        }
      ]
    },
    {
      "cell_type": "markdown",
      "source": [
        "Execute example RAG prompt with citations"
      ],
      "metadata": {
        "id": "P0jwfpfN6dbJ"
      }
    },
    {
      "cell_type": "code",
      "source": [
        "from IPython.display import display, Markdown, HTML\n",
        "import time\n",
        "\n",
        "# Remove any existing conversations and specifications; only needed for notebook example\n",
        "await delete_all_conversations()\n",
        "await delete_all_specifications()\n",
        "\n",
        "print('Deleted all conversations and specifications.')\n",
        "\n",
        "prompt = \"Walk me through how the short-term and long-term memory works in CrewAI. Be detailed and show code samples.\"\n",
        "\n",
        "model = enums.GoogleModels.GEMINI_1_5_FLASH\n",
        "#model = enums.GoogleModels.GEMINI_1_5_PRO\n",
        "\n",
        "specification_id = await create_google_specification(model)\n",
        "\n",
        "if specification_id is not None:\n",
        "    print(f'Created specification [{specification_id}].')\n",
        "\n",
        "    conversation_id = await create_conversation(specification_id=specification_id)\n",
        "\n",
        "    if conversation_id is not None:\n",
        "        message = await prompt_conversation(conversation_id, prompt)\n",
        "\n",
        "        if message is not None:\n",
        "            display(Markdown('### Conversation:'))\n",
        "            display(Markdown(f'**User:**\\n{prompt}'))\n",
        "            display(Markdown(f'**Assistant:**\\n{message}'))\n",
        "            print()\n"
      ],
      "metadata": {
        "colab": {
          "base_uri": "https://localhost:8080/",
          "height": 1000
        },
        "id": "2NDBOdLzmuq_",
        "outputId": "ef2ba73c-3e46-4f1a-9181-7906b4d15d18"
      },
      "execution_count": 7,
      "outputs": [
        {
          "output_type": "stream",
          "name": "stdout",
          "text": [
            "Deleted all conversations and specifications.\n",
            "Created specification [67193e2b-0bc7-4dd7-bf84-4f21c81d1744].\n"
          ]
        },
        {
          "output_type": "display_data",
          "data": {
            "text/plain": [
              "<IPython.core.display.Markdown object>"
            ],
            "text/markdown": "### Conversation:"
          },
          "metadata": {}
        },
        {
          "output_type": "display_data",
          "data": {
            "text/plain": [
              "<IPython.core.display.Markdown object>"
            ],
            "text/markdown": "**User:**\nWalk me through how the short-term and long-term memory works in CrewAI. Be detailed and show code samples."
          },
          "metadata": {}
        },
        {
          "output_type": "display_data",
          "data": {
            "text/plain": [
              "<IPython.core.display.Markdown object>"
            ],
            "text/markdown": "**Assistant:**\nCrewAI utilizes both short-term memory (STM) and long-term memory (LTM) to enhance the performance of its agents and crews. STM stores recent insights and information gathered during the current execution of a crew, while LTM stores historical data and insights from previous executions. This allows agents to leverage past experiences and context to make more informed decisions.\n\nThe STM is implemented using the `ShortTermMemory` class, which uses a SQLite database to store recent insights. The `save` method of the `ShortTermMemory` class adds new insights to the database, while the `search` method retrieves relevant insights based on a given query.\n\nHere's an example of how STM is used in the `ContextualMemory` class to build context for a task:\n\n```python\nfrom crewai.memory import ShortTermMemory\n\nclass ContextualMemory:\n    def __init__(self, stm: ShortTermMemory, ltm: LongTermMemory, em: EntityMemory):\n        self.stm = stm\n        self.ltm = ltm\n        self.em = em\n    def build_context_for_task(self, task, context) -> str:\n        \"\"\"\n        Automatically builds a minimal, highly relevant set of contextual information\n        for a given task.\n        \"\"\"\n        query = f\"{task.description} {context}\".strip()\n        if query == \"\":\n            return \"\"\n        context = []\n        context.append(self._fetch_ltm_context(task.description))\n        context.append(self._fetch_stm_context(query))\n        context.append(self._fetch_entity_context(query))\n        return \"\\n\".join(filter(None, context))\n    def _fetch_stm_context(self, query) -> str:\n        \"\"\"\n        Fetches recent relevant insights from STM related to the task's description and expected_output,\n        formatted as bullet points.\n        \"\"\"\n        stm_results = self.stm.search(query)\n        formatted_results = \"\\n\".join([f\"- {result}\" for result in stm_results])\n        return f\"Recent Insights:\\n{formatted_results}\" if stm_results else \"\"\n```\n\nThe LTM is implemented using the `LongTermMemory` class, which also uses a SQLite database to store historical data. The `save` method of the `LongTermMemory` class adds new data to the database, while the `search` method retrieves relevant data based on a given query.\n\nHere's an example of how LTM is used in the `ContextualMemory` class to build context for a task:\n\n```python\nfrom crewai.memory import LongTermMemory\n\nclass ContextualMemory:\n    def __init__(self, stm: ShortTermMemory, ltm: LongTermMemory, em: EntityMemory):\n        self.stm = stm\n        self.ltm = ltm\n        self.em = em\n    def build_context_for_task(self, task, context) -> str:\n        \"\"\"\n        Automatically builds a minimal, highly relevant set of contextual information\n        for a given task.\n        \"\"\"\n        query = f\"{task.description} {context}\".strip()\n        if query == \"\":\n            return \"\"\n        context = []\n        context.append(self._fetch_ltm_context(task.description))\n        context.append(self._fetch_stm_context(query))\n        context.append(self._fetch_entity_context(query))\n        return \"\\n\".join(filter(None, context))\n    def _fetch_ltm_context(self, task) -> Optional[str]:\n        \"\"\"\n        Fetches historical data or insights from LTM that are relevant to the task's description and expected_output,\n        formatted as bullet points.\n        \"\"\"\n        ltm_results = self.ltm.search(task, latest_n=2)\n        if not ltm_results:\n            return None\n        formatted_results = [\n            suggestion\n            for result in ltm_results\n            for suggestion in result[\"metadata\"][\"suggestions\"]  # type: ignore # Invalid index type \"str\" for \"str\"; expected type \"SupportsIndex | slice\"\n        ]\n        formatted_results = list(dict.fromkeys(formatted_results))\n        formatted_results = \"\\n\".join([f\"- {result}\" for result in formatted_results])  # type: ignore # Incompatible types in assignment (expression has type \"str\", variable has type \"list[str]\")\n        return f\"Historical Data:\\n{formatted_results}\" if ltm_results else \"\"\n```\n\nIn summary, STM and LTM work together to provide agents with a comprehensive understanding of past and present information, enabling them to make more informed decisions and improve their performance over time."
          },
          "metadata": {}
        },
        {
          "output_type": "stream",
          "name": "stdout",
          "text": [
            "\n"
          ]
        }
      ]
    }
  ]
}