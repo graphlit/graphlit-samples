{
  "nbformat": 4,
  "nbformat_minor": 0,
  "metadata": {
    "colab": {
      "provenance": [],
      "mount_file_id": "1cSnEIDnT7SYyUpfap5KiK6Y_LWLQdk6s",
      "authorship_tag": "ABX9TyNdnr2QdDqss7s+pzrvwJL1",
      "include_colab_link": true
    },
    "kernelspec": {
      "name": "python3",
      "display_name": "Python 3"
    },
    "language_info": {
      "name": "python"
    }
  },
  "cells": [
    {
      "cell_type": "markdown",
      "metadata": {
        "id": "view-in-github",
        "colab_type": "text"
      },
      "source": [
        "<a href=\"https://colab.research.google.com/github/graphlit/graphlit-samples/blob/main/python/Notebook%20Examples/Graphlit_2024_09_04_Publish_Summary_of_Web_Research.ipynb\" target=\"_parent\"><img src=\"https://colab.research.google.com/assets/colab-badge.svg\" alt=\"Open In Colab\"/></a>"
      ]
    },
    {
      "cell_type": "markdown",
      "source": [
        "**Description**\n",
        "\n",
        "This example shows how to search the Web and ingest web pages, and then summarize the contents."
      ],
      "metadata": {
        "id": "pDz1gRPjOtn5"
      }
    },
    {
      "cell_type": "markdown",
      "source": [
        "**Requirements**\n",
        "\n",
        "Prior to running this notebook, you will need to [signup](https://docs.graphlit.dev/getting-started/signup) for Graphlit, and [create a project](https://docs.graphlit.dev/getting-started/create-project).\n",
        "\n",
        "You will need the Graphlit organization ID, preview environment ID and JWT secret from your created project.\n",
        "\n",
        "Assign these properties as Colab secrets: GRAPHLIT_ORGANIZATION_ID, GRAPHLIT_ENVIRONMENT_ID and GRAPHLIT_JWT_SECRET.\n",
        "\n",
        "\n",
        "---"
      ],
      "metadata": {
        "id": "laG2MXUIhNnx"
      }
    },
    {
      "cell_type": "markdown",
      "source": [
        "Install Graphlit Python client SDK"
      ],
      "metadata": {
        "id": "NwRzDHWWienC"
      }
    },
    {
      "cell_type": "code",
      "execution_count": 1,
      "metadata": {
        "id": "fefizrrh4xGD",
        "colab": {
          "base_uri": "https://localhost:8080/"
        },
        "outputId": "9c7ce9fc-67a3-4c42-af24-8c2c21baa4ac"
      },
      "outputs": [
        {
          "output_type": "stream",
          "name": "stdout",
          "text": [
            "Collecting graphlit-client\n",
            "  Downloading graphlit_client-1.0.20241228002-py3-none-any.whl.metadata (3.2 kB)\n",
            "Requirement already satisfied: httpx in /usr/local/lib/python3.10/dist-packages (from graphlit-client) (0.28.1)\n",
            "Requirement already satisfied: pydantic<3.0.0,>=2.0.0 in /usr/local/lib/python3.10/dist-packages (from graphlit-client) (2.10.3)\n",
            "Requirement already satisfied: PyJWT in /usr/local/lib/python3.10/dist-packages (from graphlit-client) (2.10.1)\n",
            "Requirement already satisfied: websockets in /usr/local/lib/python3.10/dist-packages (from graphlit-client) (14.1)\n",
            "Requirement already satisfied: annotated-types>=0.6.0 in /usr/local/lib/python3.10/dist-packages (from pydantic<3.0.0,>=2.0.0->graphlit-client) (0.7.0)\n",
            "Requirement already satisfied: pydantic-core==2.27.1 in /usr/local/lib/python3.10/dist-packages (from pydantic<3.0.0,>=2.0.0->graphlit-client) (2.27.1)\n",
            "Requirement already satisfied: typing-extensions>=4.12.2 in /usr/local/lib/python3.10/dist-packages (from pydantic<3.0.0,>=2.0.0->graphlit-client) (4.12.2)\n",
            "Requirement already satisfied: anyio in /usr/local/lib/python3.10/dist-packages (from httpx->graphlit-client) (3.7.1)\n",
            "Requirement already satisfied: certifi in /usr/local/lib/python3.10/dist-packages (from httpx->graphlit-client) (2024.12.14)\n",
            "Requirement already satisfied: httpcore==1.* in /usr/local/lib/python3.10/dist-packages (from httpx->graphlit-client) (1.0.7)\n",
            "Requirement already satisfied: idna in /usr/local/lib/python3.10/dist-packages (from httpx->graphlit-client) (3.10)\n",
            "Requirement already satisfied: h11<0.15,>=0.13 in /usr/local/lib/python3.10/dist-packages (from httpcore==1.*->httpx->graphlit-client) (0.14.0)\n",
            "Requirement already satisfied: sniffio>=1.1 in /usr/local/lib/python3.10/dist-packages (from anyio->httpx->graphlit-client) (1.3.1)\n",
            "Requirement already satisfied: exceptiongroup in /usr/local/lib/python3.10/dist-packages (from anyio->httpx->graphlit-client) (1.2.2)\n",
            "Downloading graphlit_client-1.0.20241228002-py3-none-any.whl (236 kB)\n",
            "\u001b[2K   \u001b[90m━━━━━━━━━━━━━━━━━━━━━━━━━━━━━━━━━━━━━━━━\u001b[0m \u001b[32m236.6/236.6 kB\u001b[0m \u001b[31m3.9 MB/s\u001b[0m eta \u001b[36m0:00:00\u001b[0m\n",
            "\u001b[?25hInstalling collected packages: graphlit-client\n",
            "Successfully installed graphlit-client-1.0.20241228002\n"
          ]
        }
      ],
      "source": [
        "!pip install --upgrade graphlit-client"
      ]
    },
    {
      "cell_type": "markdown",
      "source": [
        "Initialize Graphlit"
      ],
      "metadata": {
        "id": "abV1114jL-bR"
      }
    },
    {
      "cell_type": "code",
      "source": [
        "import os\n",
        "from google.colab import userdata\n",
        "from graphlit import Graphlit\n",
        "from graphlit_api import input_types, enums, exceptions\n",
        "\n",
        "os.environ['GRAPHLIT_ORGANIZATION_ID'] = userdata.get('GRAPHLIT_ORGANIZATION_ID')\n",
        "os.environ['GRAPHLIT_ENVIRONMENT_ID'] = userdata.get('GRAPHLIT_ENVIRONMENT_ID')\n",
        "os.environ['GRAPHLIT_JWT_SECRET'] = userdata.get('GRAPHLIT_JWT_SECRET')\n",
        "\n",
        "graphlit = Graphlit()"
      ],
      "metadata": {
        "id": "WoMAWD4LLP_q"
      },
      "execution_count": 2,
      "outputs": []
    },
    {
      "cell_type": "markdown",
      "source": [
        "Define Graphlit helper functions"
      ],
      "metadata": {
        "id": "pgRX57EHMVfl"
      }
    },
    {
      "cell_type": "code",
      "source": [
        "from typing import List, Optional\n",
        "\n",
        "async def create_feed(search_text: str, read_limit: int):\n",
        "    if graphlit.client is None:\n",
        "        return;\n",
        "\n",
        "    input = input_types.FeedInput(\n",
        "        name=\"Web Search\",\n",
        "        type=enums.FeedTypes.SEARCH,\n",
        "        search=input_types.SearchFeedPropertiesInput(\n",
        "            text=search_text,\n",
        "            readLimit=read_limit\n",
        "        )\n",
        "    )\n",
        "\n",
        "    try:\n",
        "        response = await graphlit.client.create_feed(input)\n",
        "\n",
        "        return response.create_feed.id if response.create_feed is not None else None\n",
        "    except exceptions.GraphQLClientError as e:\n",
        "        print(str(e))\n",
        "        return None\n",
        "\n",
        "    return None\n",
        "\n",
        "async def is_feed_done(feed_id: str):\n",
        "    if graphlit.client is None:\n",
        "        return;\n",
        "\n",
        "    response = await graphlit.client.is_feed_done(feed_id)\n",
        "\n",
        "    return response.is_feed_done.result if response.is_feed_done is not None else None\n",
        "\n",
        "async def summarize_feed(feed_id: str, prompt: str):\n",
        "    if graphlit.client is None:\n",
        "        return;\n",
        "\n",
        "    try:\n",
        "        response = await graphlit.client.summarize_contents(\n",
        "            filter=input_types.ContentFilter(\n",
        "                # Filter just on feed\n",
        "                feeds=[input_types.EntityReferenceFilter(id=feed_id)],\n",
        "            ),\n",
        "            summarizations=[\n",
        "                input_types.SummarizationStrategyInput(\n",
        "                    type=enums.SummarizationTypes.CUSTOM,\n",
        "                    prompt=prompt\n",
        "                ),\n",
        "            ]\n",
        "        )\n",
        "\n",
        "        return response.summarize_contents\n",
        "    except exceptions.GraphQLClientError as e:\n",
        "        print(str(e))\n",
        "        return None\n",
        "\n",
        "async def publish_feeds(prompt: str, feeds: List[str]):\n",
        "    if graphlit.client is None:\n",
        "        return;\n",
        "\n",
        "    try:\n",
        "        response = await graphlit.client.publish_contents(\n",
        "            name=\"Web Summary\",\n",
        "            connector=input_types.ContentPublishingConnectorInput(\n",
        "               type=enums.ContentPublishingServiceTypes.TEXT,\n",
        "               format=enums.ContentPublishingFormats.MARKDOWN\n",
        "            ),\n",
        "            publish_prompt = prompt,\n",
        "            filter=input_types.ContentFilter(\n",
        "                # Filter just on feeds\n",
        "                feeds=[input_types.EntityReferenceFilter(id=feed_id) for feed_id in feeds],\n",
        "            ),\n",
        "            is_synchronous=True\n",
        "        )\n",
        "\n",
        "        return response.publish_contents.content.markdown if response.publish_contents is not None and response.publish_contents.content is not None else None\n",
        "    except exceptions.GraphQLClientError as e:\n",
        "        print(str(e))\n",
        "        return None\n",
        "\n",
        "async def delete_all_feeds():\n",
        "    if graphlit.client is None:\n",
        "        return;\n",
        "\n",
        "    _ = await graphlit.client.delete_all_feeds(is_synchronous=True)\n"
      ],
      "metadata": {
        "id": "mtwjJsvVOVCh"
      },
      "execution_count": 3,
      "outputs": []
    },
    {
      "cell_type": "markdown",
      "source": [
        "Execute Graphlit example"
      ],
      "metadata": {
        "id": "srzhQt4COLVI"
      }
    },
    {
      "cell_type": "code",
      "source": [
        "from IPython.display import display, Markdown\n",
        "import time\n",
        "\n",
        "# Remove any existing feeds; only needed for notebook example\n",
        "await delete_all_feeds()\n",
        "\n",
        "print('Deleted all feeds.')\n",
        "\n",
        "read_limit = 3 # how many search results to ingest from each feed\n",
        "\n",
        "searches = [\n",
        "    \"Where has Monkeypox been found?\",\n",
        "    \"How does Monkeypox affect the body?\",\n",
        "    \"What vaccines are being developed against Monkeypox?\",\n",
        "]\n",
        "\n",
        "feeds = []\n",
        "\n",
        "for search_text in searches:\n",
        "    feed_id = await create_feed(search_text, read_limit)\n",
        "\n",
        "    if feed_id is not None:\n",
        "        print(f'Created feed [{feed_id}].')\n",
        "\n",
        "        # Wait for feed to complete, since ingestion happens asychronously\n",
        "        done = False\n",
        "        time.sleep(5)\n",
        "        while not done:\n",
        "            done = await is_feed_done(feed_id)\n",
        "\n",
        "            if not done:\n",
        "                time.sleep(2)\n",
        "\n",
        "        print(f'Completed feed [{feed_id}].')\n",
        "\n",
        "        feeds.append(feed_id)\n",
        "\n",
        "prompt = \"\"\"\n",
        "Read the text first, all the way to the end.\n",
        "Condense the text into 5 verbose paragraphs.\n",
        "Be specific when referencing persons, organizations, or any other named entities.\n",
        "\"\"\"\n",
        "\n",
        "print()\n",
        "print('Summarizing feeds...')\n",
        "\n",
        "# First, we will summarize the results of each web search, independently\n",
        "for feed_id in feeds:\n",
        "    summarizations = await summarize_feed(feed_id, prompt)\n",
        "\n",
        "    if summarizations is not None:\n",
        "        print(f'Summarized feed [{feed_id}]:')\n",
        "\n",
        "        for summarization in summarizations:\n",
        "            if summarization is not None and summarization.items is not None:\n",
        "                for item in summarization.items:\n",
        "                    display(Markdown(item.text))\n",
        "\n",
        "publish_prompt = \"\"\"\n",
        "Follow these steps:\n",
        "Step 1: Think about a structure for an engaging AI-generated blog post, with an introduction, an in-depth discussion of 4-6 interesting topics across all provided content, and a wrap-up.\n",
        "Step 2: For each topic, write 2-3 detailed paragraphs discussing it in-depth. Touch on key points for each topic which would be interesting to readers. Mention the content metadata, entities and details from the provided summaries, as appropriate in the discussion.\n",
        "Step 3: Combine all topics into a lengthy blog post. Use friendly but technical conversation to write the post.\n",
        "Step 4: Remove any unnecessary formatting or final notes about being AI generated.\n",
        "\"\"\"\n",
        "\n",
        "print()\n",
        "print('Publishing feeds...')\n",
        "\n",
        "# Next, we will publish a blog post based on all the content, across all the web search feeds\n",
        "published_markdown = await publish_feeds(publish_prompt, feeds)\n",
        "\n",
        "if published_markdown is not None:\n",
        "    display(Markdown(published_markdown))"
      ],
      "metadata": {
        "id": "fOb6COcONZIJ",
        "colab": {
          "base_uri": "https://localhost:8080/",
          "height": 1000
        },
        "outputId": "d1d73189-9b33-4f1c-b226-1d4c1fc0862a"
      },
      "execution_count": 4,
      "outputs": [
        {
          "output_type": "stream",
          "name": "stdout",
          "text": [
            "Deleted all feeds.\n",
            "Created feed [ef3ad852-0c2b-4fd3-bba4-1600adf4ec22].\n",
            "Completed feed [ef3ad852-0c2b-4fd3-bba4-1600adf4ec22].\n",
            "Created feed [ecc70b22-2ce3-461c-91af-c000fc041f7a].\n",
            "Completed feed [ecc70b22-2ce3-461c-91af-c000fc041f7a].\n",
            "Created feed [b8c3d267-84f0-4686-b119-1a031882a4ad].\n",
            "Completed feed [b8c3d267-84f0-4686-b119-1a031882a4ad].\n",
            "\n",
            "Summarizing feeds...\n",
            "Summarized feed [ef3ad852-0c2b-4fd3-bba4-1600adf4ec22]:\n"
          ]
        },
        {
          "output_type": "display_data",
          "data": {
            "text/plain": [
              "<IPython.core.display.Markdown object>"
            ],
            "text/markdown": "Mpox, formerly known as monkeypox, is a viral illness caused by the monkeypox virus, a member of the Orthopoxvirus genus. The virus has two distinct clades: clade I, with subclades Ia and Ib, and clade II, with subclades IIa and IIb. A global outbreak of mpox, primarily caused by the clade IIb strain, began in 2022 and continues to affect various regions, including Africa. The Democratic Republic of the Congo has seen a significant rise in cases due to clades Ia and Ib. Mpox is characterized by symptoms such as a skin rash, fever, headache, muscle aches, and swollen lymph nodes. Transmission occurs through close contact with infected individuals, contaminated materials, or animals. Vaccination is available and should be considered alongside other public health measures.\n\nThe transmission of mpox primarily occurs through close contact with an infected person, including skin-to-skin and respiratory interactions. People with multiple sexual partners are at a higher risk of contracting the virus. Mpox can also spread through contaminated objects, needle injuries, and from mother to child during pregnancy or birth. Animal-to-human transmission is possible through bites, scratches, or handling infected animals. The natural reservoir of the virus remains unknown, but small mammals like squirrels and monkeys are susceptible. Research is ongoing to better understand the virus's transmission dynamics in different settings.\n\nSymptoms of mpox typically appear within a week of exposure and last 2–4 weeks. The disease manifests as a rash that can spread across the body, starting as flat sores that develop into blisters. Other symptoms include fever, sore throat, and swollen lymph nodes. Some individuals may experience severe complications, such as bacterial skin infections, pneumonia, or encephalitis. Diagnosis can be challenging due to symptom overlap with other diseases, making testing crucial. The preferred diagnostic method is PCR testing of samples from the rash. HIV testing is recommended for adults with mpox, and other diagnostic tests may be considered.\n\nTreatment for mpox focuses on symptom management and preventing complications. Vaccination is advised for high-risk groups, including healthcare workers and individuals with multiple sexual partners. The vaccine can also be administered post-exposure to prevent infection. While some antivirals have emergency use authorization, no proven effective antiviral treatment exists for mpox. Supportive care remains a priority, and individuals with HIV should continue antiretroviral therapy. Self-care measures include isolating at home, maintaining hygiene, and avoiding contact with others until recovery. Health workers should adhere to infection prevention protocols when caring for mpox patients.\n\nThe first human case of mpox was reported in 1970 in the Democratic Republic of the Congo. Since the eradication of smallpox, mpox has emerged in various African regions. A notable outbreak in the United States in 2003 was linked to imported animals. In 2022, a global outbreak spread rapidly across Europe, the Americas, and other regions, primarily affecting men who have sex with men. The World Health Organization (WHO) has declared mpox a public health emergency of international concern twice, in May 2022 and August 2024. WHO continues to work with member states to prevent and respond to mpox outbreaks, focusing on equitable access to vaccines and treatments. Stigma and discrimination against affected communities remain significant challenges in managing the outbreak."
          },
          "metadata": {}
        },
        {
          "output_type": "display_data",
          "data": {
            "text/plain": [
              "<IPython.core.display.Markdown object>"
            ],
            "text/markdown": "In May 2022, a significant outbreak of monkeypox was reported, marking an unusual spread of the virus beyond its typical confines in Africa. Historically, monkeypox cases have been largely restricted to 11 African countries, but this outbreak saw the virus identified in 16 countries outside of Africa, including a dozen in Europe, as well as the United States, Australia, Canada, and Israel. This surge in cases is notable because it represents a fourfold increase in the number of countries reporting monkeypox outside Africa compared to the previous 50 years. The outbreak has raised concerns among health experts about the potential for the virus to become more widespread.\n\nThe outbreak has resulted in at least 160 confirmed cases in non-African countries, with the majority occurring in Europe. The United Kingdom reported 56 cases, Spain 41, and Portugal 37, with smaller numbers in Austria, Belgium, Denmark, France, Germany, Italy, the Netherlands, Sweden, and Switzerland. This is a significant development, as the largest previous outbreak in the Western Hemisphere occurred in 2003, when pet prairie dogs infected 47 people in the United States. Anne Rimoin, an epidemiology professor at UCLA, highlighted the importance of this outbreak, noting it as the most significant poxvirus emergence since smallpox eradication.\n\nThe current outbreak has primarily affected young men who have sex with men, suggesting that the virus is spreading through skin-to-skin contact, possibly during sexual activity. This pattern of transmission is unusual for monkeypox, which typically spreads through contact with infected animals. The World Health Organization (WHO) has noted that many of the affected individuals have no recent travel history to Africa or known exposure to infected persons, indicating a new mode of transmission that requires further investigation.\n\nMonkeypox is endemic in the Democratic Republic of the Congo (DRC) and Nigeria, where the virus has been present for decades. The DRC reported over 18,000 confirmed or suspected cases from 2010 to 2019, with more than 6,000 suspected cases in 2020 alone. Nigeria has reported over 200 confirmed cases and more than 500 suspected cases since 2017. The recent cases outside Africa belong to the West African clade of monkeypox, which is less severe than the Congo Basin clade, with a mortality rate of around 1% compared to 10% for the latter.\n\nDespite the low risk to the general population, the outbreak underscores the global nature of infectious diseases. Dr. Agam Rao from the CDC emphasized that all imported cases outside Africa since 2018 have originated from Nigeria. Anne Rimoin reiterated the importance of recognizing that infections can spread globally, highlighting the need for vigilance and preparedness in managing infectious disease outbreaks. This situation serves as a reminder of the interconnectedness of global health and the potential for diseases to transcend geographical boundaries."
          },
          "metadata": {}
        },
        {
          "output_type": "display_data",
          "data": {
            "text/plain": [
              "<IPython.core.display.Markdown object>"
            ],
            "text/markdown": "NBC News has been diligently tracking the spread of mpox cases across the United States, a disease that the World Health Organization (WHO) has classified as an international public health emergency. The coverage, which is updated weekly, provides a comprehensive overview of the situation as it evolves. Initially, the outbreak saw a significant surge, with cases peaking at over 400 per day in August. However, recent data indicates a substantial decline, with fewer than five cases reported daily as of early January. This decline marks a significant reduction from the earlier peak, reflecting the efforts to control the spread of the virus.\n\nThe Centers for Disease Control and Prevention (CDC) has reported that mpox cases have been documented in every U.S. state, a notable increase from the 44 states and Washington, D.C., that had reported cases by the end of July. This expansion of reported cases highlights the widespread nature of the outbreak. Since May, the United States has recorded over 29,000 cases, contributing to a global total that exceeds 80,000. The virus primarily spreads through close physical contact, with recent cases predominantly affecting men who have sex with men.\n\nIn response to the outbreak, several states have taken decisive action. The WHO's declaration of a public health emergency in July prompted states like California, Illinois, and New York to issue their own emergency declarations. These measures underscore the seriousness with which state governments are treating the outbreak and their commitment to mitigating its impact. The emergency declarations are part of broader efforts to mobilize resources and implement strategies to curb the spread of the virus.\n\nThe renaming of monkeypox to mpox by the WHO in November was a significant development, aimed at addressing concerns about racism associated with the original name. This change reflects a broader effort to ensure that public health communications are sensitive and inclusive. The renaming is part of ongoing efforts to address not only the medical aspects of the outbreak but also the social and cultural dimensions that can influence public perception and response.\n\nThe coverage of the mpox outbreak by NBC News is spearheaded by Joe Murphy, a data editor, and Alex Ford, an interactive journalist. Their work, along with contributions from others like Dana Varinsky, provides valuable insights into the dynamics of the outbreak. By analyzing CDC data and other sources, they offer a detailed picture of how the situation is unfolding, helping the public stay informed about the latest developments and the measures being taken to address the crisis."
          },
          "metadata": {}
        },
        {
          "output_type": "stream",
          "name": "stdout",
          "text": [
            "Summarized feed [ecc70b22-2ce3-461c-91af-c000fc041f7a]:\n"
          ]
        },
        {
          "output_type": "display_data",
          "data": {
            "text/plain": [
              "<IPython.core.display.Markdown object>"
            ],
            "text/markdown": "Mpox, formerly known as monkeypox, is a disease caused by the monkeypox virus, which is part of the orthopoxvirus group that includes smallpox. The disease is characterized by flu-like symptoms, a painful rash, and swollen lymph nodes. Historically, mpox was primarily found in Central and West Africa, but in May 2022, cases began to emerge in Europe and the United States, leading to a global outbreak with over 80,000 cases by late November 2022. The Biden administration declared mpox a public health emergency in August 2022, facilitating access to vaccines. Yale Medicine infectious disease specialist Dr. Marwan Azar highlights that prevention and treatment options are available, including the smallpox vaccine Jynneos, which is effective in preventing mpox if administered shortly after exposure. Treatments for smallpox, such as the antiviral tecovirimat, can also help reduce the duration and severity of mpox.\n\nThe monkeypox virus was first identified in 1958 in laboratory monkeys in Denmark, which led to its initial name. In November 2022, the World Health Organization renamed the disease to mpox to reduce stigma. The virus can infect various animals, including rodents and prairie dogs, and can be transmitted to humans through bites, scratches, or contact with bodily fluids. Human-to-human transmission occurs through direct skin contact, respiratory droplets, and, in some cases, from mother to fetus during pregnancy. The 2022 outbreak was primarily driven by person-to-person transmission, particularly among men who have sex with men, although other groups have also been affected. The virus can also spread through contaminated surfaces and materials.\n\nSymptoms of mpox typically appear 4 to 21 days after infection and include fever, headache, muscle aches, swollen lymph nodes, and a rash that progresses from flat spots to blisters filled with pus. The rash can occur on various parts of the body, including the face, palms, soles, and genitals, and may be mistaken for sexually transmitted diseases. Diagnosis involves reviewing the patient's medical history, conducting a physical exam, and performing laboratory tests on skin lesion samples. Treatment focuses on symptom relief, with antivirals like tecovirimat used for severe cases or high-risk individuals. Vaccines such as Jynneos and ACAM2000 are available for prevention, with Jynneos being the preferred option due to its safety profile.\n\nPreventive measures against mpox include vaccination, avoiding close contact with infected individuals, and maintaining good hygiene practices. People with mpox should self-isolate, use separate bathrooms if possible, and avoid contact with others and pets. The outlook for mpox patients is generally positive, with most experiencing mild cases and recovering within two to four weeks. The mortality rate during the 2022 outbreak was very low, at around 0.03%. Yale Medicine has developed a specialized Monkeypox Pathway to support physicians in diagnosing and managing mpox cases, ensuring high-quality care and contributing to outbreak containment efforts.\n\nYale's approach to mpox involves comprehensive guidelines for case recognition, specimen collection, isolation, exposure management, and treatment. These guidelines are regularly updated to align with evolving recommendations from the CDC and the Department of Health. This proactive strategy helps Yale provide exceptional care for patients with suspected or confirmed mpox cases and plays a crucial role in mitigating the outbreak in the New Haven area and beyond. The institution's efforts underscore the importance of coordinated healthcare responses in managing infectious disease outbreaks effectively."
          },
          "metadata": {}
        },
        {
          "output_type": "display_data",
          "data": {
            "text/plain": [
              "<IPython.core.display.Markdown object>"
            ],
            "text/markdown": "Monkeypox, now referred to as mpox by the World Health Organization (WHO) to reduce stigmatization, is a viral disease similar to smallpox, characterized by symptoms such as fever, swollen lymph nodes, and a lesion-like rash. The disease is zoonotic, meaning it can be transmitted from animals to humans and vice versa, as well as from human to human. There are two types of the mpox virus: the West African virus and the Congo Basin virus. Historically, mpox cases were mostly confined to central and western Africa, but as of 2022, the West African strain has been reported in 94 countries worldwide, including regions where it was previously uncommon.\n\nThe mpox virus belongs to the Orthopoxvirus genus, which also includes the smallpox virus. It was first identified in 1958 during outbreaks among research monkeys, hence the name monkeypox. The first human case was recorded in 1970 in the Democratic Republic of the Congo. Symptoms of mpox appear 6 to 13 days after infection and include fever, headache, muscle aches, and a rash that progresses through several stages before scabbing over and falling off. The disease typically lasts 2 to 4 weeks and resolves without treatment, though complications such as bronchopneumonia, sepsis, and encephalitis can occur.\n\nMpox is primarily found in tropical, rural parts of central and western Africa, with the Democratic Republic of the Congo reporting the most cases. However, since 2022, mpox has spread to 87 other countries, prompting the WHO to declare it a Public Health Emergency of International Concern. The virus spreads through direct contact with infected bodily fluids, respiratory droplets, and contaminated objects. It can also be transmitted from pregnant individuals to their fetus. While mpox is rarely fatal, with a 99% survival rate for the West African strain, certain groups, such as those with weakened immune systems, children, and pregnant individuals, are at higher risk for severe illness.\n\nThere is no specific treatment for mpox, but it is self-limiting. Vaccines for smallpox, such as JYNNEOS and ACAM2000, are about 85% effective in preventing mpox. The Centers for Disease Control and Prevention (CDC) recommends vaccination for those exposed to mpox or at increased risk, including healthcare workers and individuals with multiple sexual partners in areas with reported cases. Preventive measures include frequent handwashing and avoiding contact with infected individuals or contaminated objects.\n\nDiagnosis of mpox involves testing fluid from lesions or dry scabs using a polymerase chain reaction (PCR) test or a biopsy. Blood tests are not typically used due to the short duration of the virus in the bloodstream. The disease's initial symptoms include fever and muscle aches, followed by a rash that can appear on various parts of the body. Vaccination, good hygiene practices, and avoiding contact with infected individuals are key to preventing mpox infection."
          },
          "metadata": {}
        },
        {
          "output_type": "display_data",
          "data": {
            "text/plain": [
              "<IPython.core.display.Markdown object>"
            ],
            "text/markdown": "Mpox, previously known as monkeypox, is a viral illness caused by the monkeypox virus, which can be transmitted to humans from animal hosts like rodents and nonhuman primates, as well as from person to person. The disease manifests in humans with flu-like symptoms such as sore throat, runny nose, cough, and an itchy, painful rash. The rash typically appears a few days after the initial symptoms and can spread across the body, including the face, hands, feet, and sometimes the genital area, mouth, or throat. The rash progresses through several stages, from flat spots to pus-filled blisters that eventually scab over and fall off within two to four weeks. While most people recover without complications, some can experience severe illness, and in rare cases, mpox can be fatal. A vaccine is available for those at high risk or recently exposed to the virus.\n\nThe symptoms of mpox usually appear within 21 days of exposure to the virus. In addition to flu-like symptoms, individuals may experience swollen lymph nodes, fever, chills, headache, backache, fatigue, and muscle aches. The rash associated with mpox can vary in severity, with some individuals developing numerous spots while others may have only a few or even just one. The virus can be spread from the onset of symptoms until the rash and scabs have completely healed, posing a risk of transmission to others, including pets. It is crucial to seek medical attention if you develop a new rash or symptoms indicative of mpox, even if you are unaware of any direct contact with an infected person.\n\nMpox is caused by two types of viruses, Clade 1 and Clade 2, with Clade 1 being more prevalent in Central Africa and associated with more severe illness and higher mortality rates. Clade 2 is more common in West Africa and tends to cause less severe disease. The virus can spread through direct contact with the rashes, scabs, or body fluids of an infected person, close face-to-face interactions, intimate activities, and contact with contaminated fabrics or objects. Pregnant individuals can transmit the virus to their unborn babies. Additionally, the virus can spread from infected animals through bites, scratches, or contact with their waste or body fluids. While rodents can carry related viruses, no cases of mpox in these animals have been reported, and it is unclear if pets like cats or dogs can contract the virus.\n\nCertain groups are at higher risk of severe mpox illness, including individuals with weakened immune systems, children under one year old, people with eczema, and pregnant individuals. Complications from mpox can include secondary infections in organs, severe pain from genital rashes, difficulty eating or drinking due to oral or throat rashes, and in some cases, mood disturbances or encephalitis. Preventative measures include vaccination with the Jynneos vaccine, avoiding close contact with infected individuals or animals, and practicing good hygiene, such as frequent handwashing. The vaccine is recommended for those at higher risk, including individuals exposed to the virus, those with sexual risk factors, and certain occupational groups.\n\nDiagnosis of mpox involves a healthcare professional assessing the patient's symptoms and potential exposure history, often accompanied by laboratory testing of fluid samples from the rash. Treatment primarily focuses on symptom relief, with antiviral medication reserved for those at high risk of severe illness. In the United States, mpox is rare and does not spread easily, but individuals with new rashes or symptoms should consult a healthcare professional. Preventative steps are crucial for those at high risk of exposure to the virus. The Mayo Clinic provides comprehensive resources and guidance on mpox, including information on symptoms, transmission, prevention, and treatment options."
          },
          "metadata": {}
        },
        {
          "output_type": "stream",
          "name": "stdout",
          "text": [
            "Summarized feed [b8c3d267-84f0-4686-b119-1a031882a4ad]:\n"
          ]
        },
        {
          "output_type": "display_data",
          "data": {
            "text/plain": [
              "<IPython.core.display.Markdown object>"
            ],
            "text/markdown": "Monkeypox (mpox) is a zoonotic disease caused by the monkeypox virus (MPXV), which poses significant health risks, particularly to pregnant individuals, children, and those with compromised immune systems. The World Health Organization declared a global health emergency in August 2024 due to a recent mpox outbreak, emphasizing the urgent need for effective vaccines. This review explores various vaccine platforms for mpox prevention, including attenuated and non-replicating virus vaccines, viral vector-based vaccines, recombinant protein vaccines, and DNA and mRNA vaccines. Each platform's advantages and limitations are assessed, highlighting the necessity for ongoing research to improve vaccine efficacy and safety. Recent advancements, such as immunostimulatory sequences and improved delivery systems, are discussed for their potential to enhance protection against diverse orthopoxvirus strains.\n\nThe pathophysiology of mpox involves the virus entering the human body through skin wounds, mucous membranes, or the respiratory tract, leading to replication at the entry site and subsequent spread to lymph nodes and other organs. This process results in viremia and systemic symptoms like fever and muscle aches. Lymphadenopathy is a distinctive feature of mpox, and complications are more common in children and immunocompromised individuals. The virus's genetic diversity, driven by genomic changes, underscores the importance of continuous surveillance and vaccine development. Recent vaccine candidates, including multivalent mRNA and DNA vaccines, show promise in providing strong immune responses and comprehensive disease prevention.\n\nCurrent vaccines for MPXV include JYNNEOS, LC16m8, and ACAM2000. JYNNEOS, a live, non-replicating vaccine, is approved in the USA and Mexico and offers a safer option for immunocompromised individuals. LC16m8, used in Japan, is a live attenuated vaccine with a favorable safety profile. ACAM2000, a live, replicating vaccine, is effective but associated with significant side effects, limiting its use to non-pregnant, immunocompetent individuals. The development of vaccines against MPXV leverages the cross-protection between VACV and MPXV, targeting conserved viral proteins. Ongoing clinical trials aim to evaluate the safety, dosage, and efficacy of MPXV vaccines across various populations.\n\nEmerging vaccine platforms, such as viral vector-based, recombinant protein-based, DNA-based, and mRNA vaccines, offer diverse approaches to mpox prevention. Viral vector-based vaccines utilize non-replicating viruses to induce robust immune responses, while recombinant protein-based vaccines use specific viral proteins to trigger immune responses without live pathogens. DNA vaccines introduce plasmids encoding specific antigens, offering simplicity and cost-effectiveness. mRNA vaccines, which do not interact with the genome, provide superior safety and can induce both cellular and humoral immune responses. Each platform has unique advantages and challenges, and ongoing research aims to optimize their efficacy, safety, and logistical feasibility.\n\nFuture strategies for enhancing mpox vaccine efficacy and stability include incorporating immunostimulatory sequences, improving delivery systems, and developing polyvalent vaccines. These approaches aim to provide broader protection against orthopoxvirus strains and address the limitations of current vaccines. The recent global mpox epidemic highlights the urgent need for new, effective vaccines, as first-generation vaccines present significant complications. Continued research and development are essential to ensure population protection against future outbreaks and potential bioterrorist threats. Addressing scientific, logistical, regulatory, and socioeconomic challenges is crucial for efficient immunization and global public health."
          },
          "metadata": {}
        },
        {
          "output_type": "display_data",
          "data": {
            "text/plain": [
              "<IPython.core.display.Markdown object>"
            ],
            "text/markdown": "The monkeypox virus (MPOX), a zoonotic illness caused by an orthopoxvirus, has become a significant public health concern, with 87,113 confirmed cases and 111 fatalities reported across 110 countries as of April 25, 2023. The virus, which presents symptoms similar to smallpox, has seen a resurgence partly due to the cessation of smallpox vaccinations over the past four decades. The World Health Organization (WHO) has recommended the use of affordable MPOX vaccines, which include replicating (ACAM2000), low replicating (LC16m8), and non-replicating (MVA-BN) vaccines. These vaccines, originally developed for smallpox, provide cross-protection against MPOX, with smallpox vaccination being approximately 85% effective in preventing MPOX. However, the effectiveness of these vaccines in the current multi-country outbreak remains to be fully verified.\n\nThe MPOX virus is part of the orthopoxvirus genus, which includes the variola virus responsible for smallpox. The virus is primarily found in African nations, with rodents as the likely primary reservoir. Human-to-human transmission occurs mainly through close contact with symptomatic patients or infected animals. The virus has two major clades, West Africa and the Congo Basin, and has caused several significant outbreaks since 1970. The current outbreak in 2023 has highlighted the need for effective vaccines, as the virus can cause severe illness or death in immunocompromised individuals, children, the elderly, pregnant women, and those with co-morbidities. The re-emergence of MPOX is attributed to the discontinuation of smallpox vaccination, leading to waning immunity in the population.\n\nEfforts to develop vaccines against MPOX have focused on various strategies, including inactivated, live-attenuated, virus-like particles (VLPs), recombinant protein, nucleic acid, and nanoparticle-based vaccines. Traditional vaccines, such as Dryvax and ACAM2000, have been effective but come with side effects, particularly in immunocompromised individuals. Newer vaccines like JYNNEOS, a non-replicating vaccine, offer protection with fewer side effects and are suitable for immunocompromised individuals. The development of novel vaccine platforms, such as mRNA and DNA-based vaccines, is ongoing, with the potential to provide safe and effective protection against MPOX and other orthopoxviruses.\n\nThe current status of MPOX vaccines includes several in advanced clinical development, such as IMVAMUNE, MVA-BN, and Imvanex. These vaccines are being evaluated for their safety and immunogenicity in various populations, including healthcare workers and those at high risk of exposure. The WHO has emphasized the importance of supporting vaccination programs with surveillance and contact tracing, as well as public health messaging and pharmacovigilance. The availability and safety concerns of existing vaccines like ACAM2000 and MVA are being addressed, with a focus on developing new vaccines that are safe, effective, and accessible to all populations.\n\nIn conclusion, the global spread of MPOX necessitates the development of novel vaccines with broad use potential. mRNA-based vaccines have shown promise in inducing strong immune responses and protection against MPOX. However, further studies are needed to assess the long-term safety and efficacy of these vaccines, especially in high-risk populations. The lessons learned from the COVID-19 pandemic highlight the need for rapid development and deployment of vaccines to control and contain MPOX. Advances in bio/nanotechnology and open data sharing have laid the groundwork for the development of new vaccine technologies to address the evolving threat of MPOX."
          },
          "metadata": {}
        },
        {
          "output_type": "display_data",
          "data": {
            "text/plain": [
              "<IPython.core.display.Markdown object>"
            ],
            "text/markdown": "The article discusses the challenges and strategies related to the production and distribution of vaccines for monkeypox (MPX), drawing lessons from the COVID-19 pandemic. Monkeypox is a zoonotic infection caused by a virus related to smallpox, and it has recently spread to over 89 countries, with more than 79,000 cases reported globally. The virus can be transmitted through respiratory droplets, direct contact with bodily fluids, and contaminated objects, as well as through contact with infected animals. The current outbreak is notable for its rapid spread through sexual contact. Despite the severity of the situation, there is no specific medicine or vaccine available for MPX, which poses a significant challenge, especially for middle- and low-income countries already strained by the COVID-19 pandemic.\n\nCurrently, three vaccines—ACAM2000, MVA-BN (JYNNEOS), and LC16—are available for MPX, though they are not widely used due to potential adverse reactions. ACAM2000 is a live attenuated vaccine approved by the FDA for smallpox and MPX, administered via a scarification technique. MVA-BN, also FDA-approved, is a non-replicating vaccine given in two doses. LC16, manufactured by KM Biologics, is not FDA-approved for MPX. The Indian government has issued guidelines for managing MPX, emphasizing monitoring and isolation of contacts. However, the lack of a specific MPX vaccine highlights the need for new vaccine development, considering the potential for cross-reactivity with smallpox vaccines.\n\nThe article highlights the challenges in vaccine production and distribution, particularly the need for a specific MPX vaccine. The re-emergence of MPXV requires addressing new immune evasion mechanisms. The cessation of smallpox vaccination has left a large portion of the population unvaccinated, complicating the rapid production of smallpox vaccines. Additionally, logistical issues such as storage, transportation, and distribution pose significant challenges, especially in remote areas. India's vaccine production capacity is substantial, but the country faces hurdles in vaccine delivery due to decentralized public health systems and vaccine hesitancy, as seen during the COVID-19 pandemic.\n\nThe article emphasizes the importance of international collaboration to overcome challenges during public health emergencies. High-income countries often stockpile vaccines, creating shortages in low- and middle-income countries. The COVID-19 pandemic demonstrated the need for global cooperation rather than competition in vaccine distribution. The article suggests that high-income countries should work with lower-income countries to ensure fair distribution and management of resources. Vaccine donors and pharmaceutical companies should collaborate with healthcare workers and researchers to develop a coordinated response plan.\n\nIn conclusion, the article recommends that infected individuals follow guidelines to prevent the spread of MPX, such as wearing masks and isolating until lesions heal. The WHO advises against mass vaccination, instead recommending active surveillance and isolation. Research into new vaccines using advanced molecular techniques is encouraged to prevent future shortages. International collaboration and support are crucial for effective vaccine manufacturing and distribution. The article underscores the need for a coordinated global response to tackle the MPX health emergency effectively."
          },
          "metadata": {}
        },
        {
          "output_type": "stream",
          "name": "stdout",
          "text": [
            "\n",
            "Publishing feeds...\n"
          ]
        },
        {
          "output_type": "display_data",
          "data": {
            "text/plain": [
              "<IPython.core.display.Markdown object>"
            ],
            "text/markdown": "# Understanding Mpox: A Comprehensive Overview\n\nMpox, formerly known as monkeypox, has emerged as a significant public health concern in recent years. This zoonotic viral disease, caused by the monkeypox virus (MPXV), shares similarities with smallpox and has been the subject of global attention due to its outbreaks across various continents. In this blog post, we delve into the intricacies of mpox, exploring its transmission, symptoms, global spread, vaccine development, and the challenges faced in managing this infectious disease.\n\n## The Nature of Mpox and Its Transmission\n\nMpox is a viral illness caused by the monkeypox virus, a member of the Orthopoxvirus genus. It is primarily a zoonotic disease, meaning it can be transmitted from animals to humans. The virus is known to spread through direct contact with infected animals, such as rodents and nonhuman primates, as well as through human-to-human transmission via respiratory droplets, bodily fluids, and contaminated objects. Notably, the 2022 outbreak highlighted the virus's ability to spread through close physical contact, particularly among men who have sex with men, emphasizing the need for targeted public health interventions.\n\nThe symptoms of mpox are similar to those of smallpox, including fever, headache, muscle aches, and a distinctive rash that progresses through several stages. The rash often begins on the face and spreads to other parts of the body, including the palms, soles, and genitalia. While most cases are mild and self-limiting, complications such as pneumonia, encephalitis, and secondary infections can occur, particularly in immunocompromised individuals and pregnant women.\n\n## Global Spread and Public Health Response\n\nHistorically, mpox was endemic to Central and West Africa, with sporadic cases reported in other regions. However, the 2022 outbreak marked a significant shift, with cases reported in over 89 countries, including the United States, Europe, and Australia. This unprecedented spread prompted the World Health Organization (WHO) to declare mpox a public health emergency of international concern, underscoring the need for coordinated global efforts to control the virus.\n\nThe outbreak has been closely monitored by health organizations worldwide, with the Centers for Disease Control and Prevention (CDC) and WHO playing pivotal roles in tracking cases and providing guidance. Public health measures, including vaccination campaigns, isolation of infected individuals, and contact tracing, have been implemented to curb the spread of the virus. The renaming of monkeypox to mpox by the WHO in November 2022 aimed to reduce stigma and ensure that disease names do not perpetuate discrimination.\n\n## Vaccine Development and Challenges\n\nThe development of effective vaccines against mpox has been a critical focus in the fight against the virus. Current vaccines, such as JYNNEOS and ACAM2000, provide cross-protection against mpox, but their specific effectiveness is still under evaluation. These vaccines are primarily used for smallpox prevention and have been repurposed for mpox due to the genetic similarities between the viruses. However, challenges remain in ensuring vaccine availability, affordability, and distribution, particularly in low- and middle-income countries.\n\nRecent advancements in vaccine technology have introduced novel platforms, including mRNA and DNA vaccines, which offer promising alternatives to traditional vaccines. These platforms have the potential to provide broader protection against diverse orthopoxvirus strains and are being explored in ongoing clinical trials. The success of mRNA vaccines during the COVID-19 pandemic has spurred interest in their application for mpox, highlighting the need for continued research and innovation in vaccine development.\n\n## Lessons from the COVID-19 Pandemic\n\nThe COVID-19 pandemic has provided valuable lessons in managing infectious disease outbreaks, particularly in terms of vaccine distribution and public health preparedness. The rapid development and deployment of COVID-19 vaccines demonstrated the potential of nucleic acid platforms and the importance of international collaboration in addressing global health challenges. These lessons are being applied to the mpox outbreak, with efforts focused on ensuring equitable vaccine distribution and enhancing surveillance and response mechanisms.\n\nPublic acceptance and education efforts are crucial in countering misinformation and building trust in vaccination campaigns. Effective communication strategies and robust safety monitoring systems are essential components of successful immunization efforts, particularly in resource-limited settings. The mpox outbreak serves as a reminder of the interconnectedness of global health systems and the need for coordinated responses to prevent future pandemics.\n\n## Future Directions and Global Preparedness\n\nAs the world continues to grapple with the challenges posed by mpox, ongoing research and development of new vaccines remain a priority. The integration of scientific advancements, such as immunoinformatics and reverse vaccinology, promises to revolutionize vaccine design and enhance immune responses. Collaborative efforts between governments, industry, and academia are vital in advancing vaccine research and ensuring access to vaccines for high-risk populations.\n\nThe mpox outbreak underscores the importance of global health security and the need for robust surveillance and response strategies. By learning from past experiences and leveraging technological innovations, the global community can better prepare for and mitigate the impact of future infectious disease outbreaks."
          },
          "metadata": {}
        }
      ]
    }
  ]
}