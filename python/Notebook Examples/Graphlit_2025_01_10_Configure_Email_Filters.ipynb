{
  "nbformat": 4,
  "nbformat_minor": 0,
  "metadata": {
    "colab": {
      "provenance": [],
      "mount_file_id": "1cSnEIDnT7SYyUpfap5KiK6Y_LWLQdk6s",
      "authorship_tag": "ABX9TyPRU1Gygt3yJbhZmNavsm/+",
      "include_colab_link": true
    },
    "kernelspec": {
      "name": "python3",
      "display_name": "Python 3"
    },
    "language_info": {
      "name": "python"
    }
  },
  "cells": [
    {
      "cell_type": "markdown",
      "metadata": {
        "id": "view-in-github",
        "colab_type": "text"
      },
      "source": [
        "<a href=\"https://colab.research.google.com/github/graphlit/graphlit-samples/blob/main/python/Notebook%20Examples/Graphlit_2025_01_10_Configure_Email_Filters.ipynb\" target=\"_parent\"><img src=\"https://colab.research.google.com/assets/colab-badge.svg\" alt=\"Open In Colab\"/></a>"
      ]
    },
    {
      "cell_type": "markdown",
      "source": [
        "**Description**\n",
        "\n",
        "This example shows how to ingest emails from a user's Microsoft email account, and filter out Sent Items, etc."
      ],
      "metadata": {
        "id": "M7pOtiP1OaKd"
      }
    },
    {
      "cell_type": "markdown",
      "source": [
        "**Requirements**\n",
        "\n",
        "Prior to running this notebook, you will need to [signup](https://docs.graphlit.dev/getting-started/signup) for Graphlit, and [create a project](https://docs.graphlit.dev/getting-started/create-project).\n",
        "\n",
        "You will need the Graphlit organization ID, preview environment ID and JWT secret from your created project.\n",
        "\n",
        "Assign these properties as Colab secrets: GRAPHLIT_ORGANIZATION_ID, GRAPHLIT_ENVIRONMENT_ID and GRAPHLIT_JWT_SECRET.\n",
        "\n",
        "To access your Microsoft email, assign these properties as Colab secrets: MICROSOFT_CLIENT_ID, MICROSOFT_CLIENT_SECRET and MICROSOFT_REFRESH_TOKEN.\n",
        "\n",
        "---"
      ],
      "metadata": {
        "id": "laG2MXUIhNnx"
      }
    },
    {
      "cell_type": "markdown",
      "source": [
        "Install Graphlit Python client SDK"
      ],
      "metadata": {
        "id": "NwRzDHWWienC"
      }
    },
    {
      "cell_type": "code",
      "execution_count": 1,
      "metadata": {
        "id": "fefizrrh4xGD",
        "colab": {
          "base_uri": "https://localhost:8080/"
        },
        "outputId": "60984658-fb0a-4d1b-f67a-bb407e95ad17"
      },
      "outputs": [
        {
          "output_type": "stream",
          "name": "stdout",
          "text": [
            "Collecting graphlit-client\n",
            "  Downloading graphlit_client-1.0.20250110001-py3-none-any.whl.metadata (3.4 kB)\n",
            "Requirement already satisfied: httpx in /usr/local/lib/python3.10/dist-packages (from graphlit-client) (0.28.1)\n",
            "Requirement already satisfied: pydantic<3.0.0,>=2.0.0 in /usr/local/lib/python3.10/dist-packages (from graphlit-client) (2.10.4)\n",
            "Requirement already satisfied: PyJWT in /usr/local/lib/python3.10/dist-packages (from graphlit-client) (2.10.1)\n",
            "Requirement already satisfied: websockets in /usr/local/lib/python3.10/dist-packages (from graphlit-client) (14.1)\n",
            "Requirement already satisfied: annotated-types>=0.6.0 in /usr/local/lib/python3.10/dist-packages (from pydantic<3.0.0,>=2.0.0->graphlit-client) (0.7.0)\n",
            "Requirement already satisfied: pydantic-core==2.27.2 in /usr/local/lib/python3.10/dist-packages (from pydantic<3.0.0,>=2.0.0->graphlit-client) (2.27.2)\n",
            "Requirement already satisfied: typing-extensions>=4.12.2 in /usr/local/lib/python3.10/dist-packages (from pydantic<3.0.0,>=2.0.0->graphlit-client) (4.12.2)\n",
            "Requirement already satisfied: anyio in /usr/local/lib/python3.10/dist-packages (from httpx->graphlit-client) (3.7.1)\n",
            "Requirement already satisfied: certifi in /usr/local/lib/python3.10/dist-packages (from httpx->graphlit-client) (2024.12.14)\n",
            "Requirement already satisfied: httpcore==1.* in /usr/local/lib/python3.10/dist-packages (from httpx->graphlit-client) (1.0.7)\n",
            "Requirement already satisfied: idna in /usr/local/lib/python3.10/dist-packages (from httpx->graphlit-client) (3.10)\n",
            "Requirement already satisfied: h11<0.15,>=0.13 in /usr/local/lib/python3.10/dist-packages (from httpcore==1.*->httpx->graphlit-client) (0.14.0)\n",
            "Requirement already satisfied: sniffio>=1.1 in /usr/local/lib/python3.10/dist-packages (from anyio->httpx->graphlit-client) (1.3.1)\n",
            "Requirement already satisfied: exceptiongroup in /usr/local/lib/python3.10/dist-packages (from anyio->httpx->graphlit-client) (1.2.2)\n",
            "Downloading graphlit_client-1.0.20250110001-py3-none-any.whl (244 kB)\n",
            "\u001b[2K   \u001b[90m━━━━━━━━━━━━━━━━━━━━━━━━━━━━━━━━━━━━━━━━\u001b[0m \u001b[32m244.9/244.9 kB\u001b[0m \u001b[31m9.5 MB/s\u001b[0m eta \u001b[36m0:00:00\u001b[0m\n",
            "\u001b[?25hInstalling collected packages: graphlit-client\n",
            "Successfully installed graphlit-client-1.0.20250110001\n"
          ]
        }
      ],
      "source": [
        "!pip install --upgrade graphlit-client"
      ]
    },
    {
      "cell_type": "markdown",
      "source": [
        "Initialize Graphlit"
      ],
      "metadata": {
        "id": "abV1114jL-bR"
      }
    },
    {
      "cell_type": "code",
      "source": [
        "import os\n",
        "from google.colab import userdata\n",
        "from graphlit import Graphlit\n",
        "from graphlit_api import input_types, enums, exceptions\n",
        "\n",
        "os.environ['GRAPHLIT_ORGANIZATION_ID'] = userdata.get('GRAPHLIT_ORGANIZATION_ID')\n",
        "os.environ['GRAPHLIT_ENVIRONMENT_ID'] = userdata.get('GRAPHLIT_ENVIRONMENT_ID')\n",
        "os.environ['GRAPHLIT_JWT_SECRET'] = userdata.get('GRAPHLIT_JWT_SECRET')\n",
        "\n",
        "graphlit = Graphlit()"
      ],
      "metadata": {
        "id": "WoMAWD4LLP_q"
      },
      "execution_count": 2,
      "outputs": []
    },
    {
      "cell_type": "code",
      "source": [
        "os.environ['MICROSOFT_CLIENT_ID'] = userdata.get('MICROSOFT_CLIENT_ID')\n",
        "os.environ['MICROSOFT_CLIENT_SECRET'] = userdata.get('MICROSOFT_CLIENT_SECRET')\n",
        "os.environ['MICROSOFT_REFRESH_TOKEN'] = userdata.get('MICROSOFT_REFRESH_TOKEN')"
      ],
      "metadata": {
        "id": "OH82BIMRAceL"
      },
      "execution_count": 3,
      "outputs": []
    },
    {
      "cell_type": "markdown",
      "source": [
        "Define Graphlit helper functions"
      ],
      "metadata": {
        "id": "pgRX57EHMVfl"
      }
    },
    {
      "cell_type": "code",
      "source": [
        "from typing import List, Optional\n",
        "import json\n",
        "\n",
        "async def create_feed():\n",
        "    if graphlit.client is None:\n",
        "        return;\n",
        "\n",
        "    input = input_types.FeedInput(\n",
        "        name=\"Microsoft Email\",\n",
        "        type=enums.FeedTypes.EMAIL,\n",
        "        email=input_types.EmailFeedPropertiesInput(\n",
        "            type=enums.FeedServiceTypes.MICROSOFT_EMAIL,\n",
        "            microsoft=input_types.MicrosoftEmailFeedPropertiesInput(\n",
        "                type=enums.EmailListingTypes.PAST,\n",
        "                refreshToken=os.environ['MICROSOFT_REFRESH_TOKEN'],\n",
        "                clientId=os.environ['MICROSOFT_CLIENT_ID'],\n",
        "                clientSecret=os.environ['MICROSOFT_CLIENT_SECRET'],\n",
        "                includeDeletedItems=True,\n",
        "                excludeSentItems=True,\n",
        "                includeSpam=True,\n",
        "                #inboxOnly=True,\n",
        "            ),\n",
        "            readLimit=25 # limiting to 25 emails\n",
        "        )\n",
        "    )\n",
        "\n",
        "    try:\n",
        "        response = await graphlit.client.create_feed(input)\n",
        "\n",
        "        return response.create_feed.id if response.create_feed is not None else None\n",
        "    except exceptions.GraphQLClientError as e:\n",
        "        print(str(e))\n",
        "        return None\n",
        "\n",
        "    return None\n",
        "\n",
        "async def is_feed_done(feed_id: str):\n",
        "    if graphlit.client is None:\n",
        "        return;\n",
        "\n",
        "    response = await graphlit.client.is_feed_done(feed_id)\n",
        "\n",
        "    return response.is_feed_done.result if response.is_feed_done is not None else None\n",
        "\n",
        "async def query_contents(search_text: Optional[str] = None):\n",
        "    if graphlit.client is None:\n",
        "        return;\n",
        "\n",
        "    try:\n",
        "        response = await graphlit.client.query_contents(\n",
        "            filter=input_types.ContentFilter(\n",
        "                search=search_text,\n",
        "                searchType=enums.SearchTypes.HYBRID,\n",
        "                types=[enums.ContentTypes.EMAIL]\n",
        "            )\n",
        "        )\n",
        "\n",
        "        return response.contents.results if response.contents is not None else None\n",
        "    except exceptions.GraphQLClientError as e:\n",
        "        print(str(e))\n",
        "        return None\n",
        "\n",
        "async def delete_all_feeds():\n",
        "    if graphlit.client is None:\n",
        "        return;\n",
        "\n",
        "    _ = await graphlit.client.delete_all_feeds(is_synchronous=True)\n"
      ],
      "metadata": {
        "id": "mtwjJsvVOVCh"
      },
      "execution_count": 21,
      "outputs": []
    },
    {
      "cell_type": "markdown",
      "source": [
        "Execute Graphlit example"
      ],
      "metadata": {
        "id": "srzhQt4COLVI"
      }
    },
    {
      "cell_type": "code",
      "source": [
        "from IPython.display import display, Markdown\n",
        "import time\n",
        "\n",
        "# Remove any existing feeds; only needed for notebook example\n",
        "await delete_all_feeds()\n",
        "\n",
        "print('Deleted all feeds.')"
      ],
      "metadata": {
        "id": "fOb6COcONZIJ",
        "colab": {
          "base_uri": "https://localhost:8080/"
        },
        "outputId": "208937d8-d3c4-48bd-fdc4-7e7b0d1367ed"
      },
      "execution_count": 22,
      "outputs": [
        {
          "output_type": "stream",
          "name": "stdout",
          "text": [
            "Deleted all feeds.\n"
          ]
        }
      ]
    },
    {
      "cell_type": "markdown",
      "source": [
        "Ingest Microsoft emails"
      ],
      "metadata": {
        "id": "DMtVSOqtRL32"
      }
    },
    {
      "cell_type": "code",
      "source": [
        "feed_id = await create_feed()\n",
        "\n",
        "if feed_id is not None:\n",
        "    print(f'Created feed [{feed_id}].')\n",
        "\n",
        "    # Wait for feed to complete, since ingestion happens asychronously\n",
        "    done = False\n",
        "    time.sleep(5)\n",
        "    while not done:\n",
        "        done = await is_feed_done(feed_id)\n",
        "\n",
        "        if not done:\n",
        "            time.sleep(10)\n",
        "\n",
        "    print(f'Completed feed [{feed_id}].')"
      ],
      "metadata": {
        "id": "idevPrm7F0Qg",
        "colab": {
          "base_uri": "https://localhost:8080/"
        },
        "outputId": "d6ff5f20-f063-4edd-f551-6501a4afcda3"
      },
      "execution_count": 23,
      "outputs": [
        {
          "output_type": "stream",
          "name": "stdout",
          "text": [
            "Created feed [2edb46eb-5967-47d0-bbbe-ea63974de967].\n",
            "Completed feed [2edb46eb-5967-47d0-bbbe-ea63974de967].\n"
          ]
        }
      ]
    },
    {
      "cell_type": "markdown",
      "source": [
        "Search within ingested emails"
      ],
      "metadata": {
        "id": "4QrX7Iw9RIEG"
      }
    },
    {
      "cell_type": "code",
      "source": [
        "# NOTE: specify the text to search for in the filtered emails\n",
        "search_text = None # return all email\n",
        "\n",
        "# Query contents by search text\n",
        "contents = await query_contents(search_text)\n",
        "\n",
        "if contents is not None and len(contents) > 0:\n",
        "    for content in contents:\n",
        "        if content is not None:\n",
        "            display(Markdown(f'### Found Microsoft email [{content.id}] that referenced search text [{search_text}].'))\n",
        "\n",
        "            if content.original_date is not None:\n",
        "                print(\"Date: \" + content.original_date)\n",
        "\n",
        "            metadata = content.email\n",
        "\n",
        "            if metadata is not None:\n",
        "                if metadata.subject is not None:\n",
        "                    print(\"Subject: \" + metadata.subject)\n",
        "                if metadata.to is not None and len(metadata.to) > 0:\n",
        "                    print(\"To: \" + \", \".join([f'\"{item.name}\" <{item.email}>' for item in metadata.to if item is not None]))\n",
        "                if metadata.from_ is not None and len(metadata.from_) > 0:\n",
        "                    print(\"From: \" + \", \".join([f'\"{item.name}\" <{item.email}>' for item in metadata.from_ if item is not None]))\n",
        "\n",
        "            # NOTE: uncomment to see email markdown\n",
        "            #display(Markdown(content.markdown))\n",
        "            print()\n",
        "        else:\n",
        "            print('No content found')\n",
        "else:\n",
        "    print(f'No contents found by search [{search_text}].')\n"
      ],
      "metadata": {
        "id": "ziNt4DIzJSBp",
        "colab": {
          "base_uri": "https://localhost:8080/",
          "height": 1000
        },
        "outputId": "3daf1414-80d0-4cd9-ce49-9a249827d5ac"
      },
      "execution_count": 24,
      "outputs": [
        {
          "output_type": "display_data",
          "data": {
            "text/plain": [
              "<IPython.core.display.Markdown object>"
            ],
            "text/markdown": "### Found Microsoft email [e470ddd2-c4e5-48ec-ba56-2af116881183] that referenced search text [None]."
          },
          "metadata": {}
        },
        {
          "output_type": "stream",
          "name": "stdout",
          "text": [
            "Date: 2025-01-11T05:02:32.000Z\n",
            "Subject: [NuGet Gallery] Package published - Graphlit 2025.1.10.1\n",
            "To: \"Kirk Marple\" <kirk@unstrukdata.onmicrosoft.com>\n",
            "From: \"NuGet Gallery\" <support@nuget.org>\n",
            "\n"
          ]
        },
        {
          "output_type": "display_data",
          "data": {
            "text/plain": [
              "<IPython.core.display.Markdown object>"
            ],
            "text/markdown": "### Found Microsoft email [7f061ff2-4a15-4f97-8a17-039bc085b14c] that referenced search text [None]."
          },
          "metadata": {}
        },
        {
          "output_type": "stream",
          "name": "stdout",
          "text": [
            "Date: 2025-01-09T04:29:31.000Z\n",
            "Subject: [NuGet Gallery] Package published - Graphlit 2025.1.8.1\n",
            "To: \"Kirk Marple\" <kirk@unstrukdata.onmicrosoft.com>\n",
            "From: \"NuGet Gallery\" <support@nuget.org>\n",
            "\n"
          ]
        },
        {
          "output_type": "display_data",
          "data": {
            "text/plain": [
              "<IPython.core.display.Markdown object>"
            ],
            "text/markdown": "### Found Microsoft email [a98c3101-6d9d-4c74-bc9a-442ac9bbc21b] that referenced search text [None]."
          },
          "metadata": {}
        },
        {
          "output_type": "stream",
          "name": "stdout",
          "text": [
            "Date: 2025-01-07T01:53:49.000Z\n",
            "Subject: Important: Your account will be covered by a new agreement on March 8, 2025\n",
            "To: \"Kirk Marple\" <kirk@unstrukdata.onmicrosoft.com>\n",
            "From: \"Microsoft\" <microsoft-noreply@microsoft.com>\n",
            "\n"
          ]
        },
        {
          "output_type": "display_data",
          "data": {
            "text/plain": [
              "<IPython.core.display.Markdown object>"
            ],
            "text/markdown": "### Found Microsoft email [f5003794-5523-4b78-8d93-7fc411f0255f] that referenced search text [None]."
          },
          "metadata": {}
        },
        {
          "output_type": "stream",
          "name": "stdout",
          "text": [
            "Date: 2025-01-05T22:58:57.000Z\n",
            "Subject: [NuGet Gallery] Package published - Graphlit 2025.1.5.1\n",
            "To: \"Kirk Marple\" <kirk@unstrukdata.onmicrosoft.com>\n",
            "From: \"NuGet Gallery\" <support@nuget.org>\n",
            "\n"
          ]
        },
        {
          "output_type": "display_data",
          "data": {
            "text/plain": [
              "<IPython.core.display.Markdown object>"
            ],
            "text/markdown": "### Found Microsoft email [e3d6a92c-c7f9-4c88-a38c-607478e3fc07] that referenced search text [None]."
          },
          "metadata": {}
        },
        {
          "output_type": "stream",
          "name": "stdout",
          "text": [
            "Date: 2025-01-04T20:30:43.000Z\n",
            "Subject: [NuGet Gallery] Package published - Graphlit 2025.1.4.1\n",
            "To: \"Kirk Marple\" <kirk@unstrukdata.onmicrosoft.com>\n",
            "From: \"NuGet Gallery\" <support@nuget.org>\n",
            "\n"
          ]
        },
        {
          "output_type": "display_data",
          "data": {
            "text/plain": [
              "<IPython.core.display.Markdown object>"
            ],
            "text/markdown": "### Found Microsoft email [c5fd44ce-26b1-43d8-b86f-2fd6c465f8dd] that referenced search text [None]."
          },
          "metadata": {}
        },
        {
          "output_type": "stream",
          "name": "stdout",
          "text": [
            "Date: 2025-01-04T07:43:37.000Z\n",
            "Subject: You’ve renewed your Microsoft 365 Business Standard subscription\n",
            "To: \"Kirk Marple\" <kirk@unstrukdata.onmicrosoft.com>\n",
            "From: \"Microsoft\" <microsoft-noreply@microsoft.com>\n",
            "\n"
          ]
        },
        {
          "output_type": "display_data",
          "data": {
            "text/plain": [
              "<IPython.core.display.Markdown object>"
            ],
            "text/markdown": "### Found Microsoft email [b64a1238-918f-472f-93b9-9340deb13836] that referenced search text [None]."
          },
          "metadata": {}
        },
        {
          "output_type": "stream",
          "name": "stdout",
          "text": [
            "Date: 2025-01-02T10:43:28.000Z\n",
            "Subject: View your Microsoft 365 Business Standard invoice\n",
            "To: \"Kirk Marple\" <kirk@unstrukdata.onmicrosoft.com>\n",
            "From: \"Microsoft\" <microsoft-noreply@microsoft.com>\n",
            "\n"
          ]
        },
        {
          "output_type": "display_data",
          "data": {
            "text/plain": [
              "<IPython.core.display.Markdown object>"
            ],
            "text/markdown": "### Found Microsoft email [4a0d0f83-32ac-4ed8-a978-d6491777c35e] that referenced search text [None]."
          },
          "metadata": {}
        },
        {
          "output_type": "stream",
          "name": "stdout",
          "text": [
            "Date: 2024-12-30T03:37:54.000Z\n",
            "Subject: [NuGet Gallery] Package published - Graphlit 2024.12.29.2\n",
            "To: \"Kirk Marple\" <kirk@unstrukdata.onmicrosoft.com>\n",
            "From: \"NuGet Gallery\" <support@nuget.org>\n",
            "\n"
          ]
        },
        {
          "output_type": "display_data",
          "data": {
            "text/plain": [
              "<IPython.core.display.Markdown object>"
            ],
            "text/markdown": "### Found Microsoft email [5b65ef67-5778-4080-b51f-20dd5082b683] that referenced search text [None]."
          },
          "metadata": {}
        },
        {
          "output_type": "stream",
          "name": "stdout",
          "text": [
            "Date: 2024-12-29T21:51:43.000Z\n",
            "Subject: [NuGet Gallery] Package published - Graphlit 2024.12.29.1\n",
            "To: \"Kirk Marple\" <kirk@unstrukdata.onmicrosoft.com>\n",
            "From: \"NuGet Gallery\" <support@nuget.org>\n",
            "\n"
          ]
        },
        {
          "output_type": "display_data",
          "data": {
            "text/plain": [
              "<IPython.core.display.Markdown object>"
            ],
            "text/markdown": "### Found Microsoft email [634cb4f2-91de-433a-9227-32ac4f572f68] that referenced search text [None]."
          },
          "metadata": {}
        },
        {
          "output_type": "stream",
          "name": "stdout",
          "text": [
            "Date: 2024-12-29T03:23:16.000Z\n",
            "Subject: [NuGet Gallery] Package published - Graphlit 2024.12.28.2\n",
            "To: \"Kirk Marple\" <kirk@unstrukdata.onmicrosoft.com>\n",
            "From: \"NuGet Gallery\" <support@nuget.org>\n",
            "\n"
          ]
        },
        {
          "output_type": "display_data",
          "data": {
            "text/plain": [
              "<IPython.core.display.Markdown object>"
            ],
            "text/markdown": "### Found Microsoft email [6d594706-d6e8-426c-9d53-87c3e18c9eb0] that referenced search text [None]."
          },
          "metadata": {}
        },
        {
          "output_type": "stream",
          "name": "stdout",
          "text": [
            "Date: 2024-12-28T08:36:51.000Z\n",
            "Subject: [NuGet Gallery] Package published - Graphlit 2024.12.28.1\n",
            "To: \"Kirk Marple\" <kirk@unstrukdata.onmicrosoft.com>\n",
            "From: \"NuGet Gallery\" <support@nuget.org>\n",
            "\n"
          ]
        },
        {
          "output_type": "display_data",
          "data": {
            "text/plain": [
              "<IPython.core.display.Markdown object>"
            ],
            "text/markdown": "### Found Microsoft email [d58c920f-096b-4178-9c44-d911f58ffcc6] that referenced search text [None]."
          },
          "metadata": {}
        },
        {
          "output_type": "stream",
          "name": "stdout",
          "text": [
            "Date: 2024-12-28T07:43:11.000Z\n",
            "Subject: [NuGet Gallery] Package published - Graphlit 2024.12.27.1\n",
            "To: \"Kirk Marple\" <kirk@unstrukdata.onmicrosoft.com>\n",
            "From: \"NuGet Gallery\" <support@nuget.org>\n",
            "\n"
          ]
        },
        {
          "output_type": "display_data",
          "data": {
            "text/plain": [
              "<IPython.core.display.Markdown object>"
            ],
            "text/markdown": "### Found Microsoft email [5557752b-0f5c-4d1f-a066-b4eb65d9ee88] that referenced search text [None]."
          },
          "metadata": {}
        },
        {
          "output_type": "stream",
          "name": "stdout",
          "text": [
            "Date: 2024-12-25T07:01:37.000Z\n",
            "Subject: [NuGet Gallery] Package published - Graphlit 2024.12.24.2\n",
            "To: \"Kirk Marple\" <kirk@unstrukdata.onmicrosoft.com>\n",
            "From: \"NuGet Gallery\" <support@nuget.org>\n",
            "\n"
          ]
        },
        {
          "output_type": "display_data",
          "data": {
            "text/plain": [
              "<IPython.core.display.Markdown object>"
            ],
            "text/markdown": "### Found Microsoft email [7f80e650-3d22-46d9-8fea-cf28693f0415] that referenced search text [None]."
          },
          "metadata": {}
        },
        {
          "output_type": "stream",
          "name": "stdout",
          "text": [
            "Date: 2024-12-24T23:35:37.000Z\n",
            "Subject: [NuGet Gallery] Package published - Graphlit 2024.12.24.1\n",
            "To: \"Kirk Marple\" <kirk@unstrukdata.onmicrosoft.com>\n",
            "From: \"NuGet Gallery\" <support@nuget.org>\n",
            "\n"
          ]
        },
        {
          "output_type": "display_data",
          "data": {
            "text/plain": [
              "<IPython.core.display.Markdown object>"
            ],
            "text/markdown": "### Found Microsoft email [cac9e569-4306-4939-a852-85aa7fd2e1c8] that referenced search text [None]."
          },
          "metadata": {}
        },
        {
          "output_type": "stream",
          "name": "stdout",
          "text": [
            "Date: 2024-12-23T01:45:34.000Z\n",
            "Subject: [NuGet Gallery] Package published - Graphlit 2024.12.22.1\n",
            "To: \"Kirk Marple\" <kirk@unstrukdata.onmicrosoft.com>\n",
            "From: \"NuGet Gallery\" <support@nuget.org>\n",
            "\n"
          ]
        },
        {
          "output_type": "display_data",
          "data": {
            "text/plain": [
              "<IPython.core.display.Markdown object>"
            ],
            "text/markdown": "### Found Microsoft email [be1a043e-1120-4a15-ab47-3e3b1d59e2e1] that referenced search text [None]."
          },
          "metadata": {}
        },
        {
          "output_type": "stream",
          "name": "stdout",
          "text": [
            "Date: 2024-12-16T03:19:31.000Z\n",
            "Subject: View your Microsoft 365 Business Standard invoice\n",
            "To: \"Kirk Marple\" <kirk@unstrukdata.onmicrosoft.com>\n",
            "From: \"Microsoft\" <microsoft-noreply@microsoft.com>\n",
            "\n"
          ]
        },
        {
          "output_type": "display_data",
          "data": {
            "text/plain": [
              "<IPython.core.display.Markdown object>"
            ],
            "text/markdown": "### Found Microsoft email [9faaf61a-3757-4608-91dc-e92252a3dc59] that referenced search text [None]."
          },
          "metadata": {}
        },
        {
          "output_type": "stream",
          "name": "stdout",
          "text": [
            "Date: 2024-12-14T00:03:48.000Z\n",
            "Subject: [NuGet Gallery] Package published - Graphlit 2024.12.13.2\n",
            "To: \"Kirk Marple\" <kirk@unstrukdata.onmicrosoft.com>\n",
            "From: \"NuGet Gallery\" <support@nuget.org>\n",
            "\n"
          ]
        },
        {
          "output_type": "display_data",
          "data": {
            "text/plain": [
              "<IPython.core.display.Markdown object>"
            ],
            "text/markdown": "### Found Microsoft email [249159f1-5276-4411-90ce-632567e77c28] that referenced search text [None]."
          },
          "metadata": {}
        },
        {
          "output_type": "stream",
          "name": "stdout",
          "text": [
            "Date: 2024-12-13T21:39:19.000Z\n",
            "Subject: [NuGet Gallery] Package published - Graphlit 2024.12.13.1\n",
            "To: \"Kirk Marple\" <kirk@unstrukdata.onmicrosoft.com>\n",
            "From: \"NuGet Gallery\" <support@nuget.org>\n",
            "\n"
          ]
        },
        {
          "output_type": "display_data",
          "data": {
            "text/plain": [
              "<IPython.core.display.Markdown object>"
            ],
            "text/markdown": "### Found Microsoft email [279a40c3-6c9e-4490-8e0d-28125faa2385] that referenced search text [None]."
          },
          "metadata": {}
        },
        {
          "output_type": "stream",
          "name": "stdout",
          "text": [
            "Date: 2024-12-13T07:07:58.000Z\n",
            "Subject: [NuGet Gallery] Package published - Graphlit 2024.12.12.4\n",
            "To: \"Kirk Marple\" <kirk@unstrukdata.onmicrosoft.com>\n",
            "From: \"NuGet Gallery\" <support@nuget.org>\n",
            "\n"
          ]
        },
        {
          "output_type": "display_data",
          "data": {
            "text/plain": [
              "<IPython.core.display.Markdown object>"
            ],
            "text/markdown": "### Found Microsoft email [386280ae-01e8-405c-9497-91f041d9b169] that referenced search text [None]."
          },
          "metadata": {}
        },
        {
          "output_type": "stream",
          "name": "stdout",
          "text": [
            "Date: 2024-12-13T05:09:56.000Z\n",
            "Subject: [NuGet Gallery] Package published - Graphlit 2024.12.12.3\n",
            "To: \"Kirk Marple\" <kirk@unstrukdata.onmicrosoft.com>\n",
            "From: \"NuGet Gallery\" <support@nuget.org>\n",
            "\n"
          ]
        },
        {
          "output_type": "display_data",
          "data": {
            "text/plain": [
              "<IPython.core.display.Markdown object>"
            ],
            "text/markdown": "### Found Microsoft email [9ae91697-694e-4bc3-a1bb-02387330b2b6] that referenced search text [None]."
          },
          "metadata": {}
        },
        {
          "output_type": "stream",
          "name": "stdout",
          "text": [
            "Date: 2024-12-13T04:23:41.000Z\n",
            "Subject: [NuGet Gallery] Package published - Graphlit 2024.12.12.2\n",
            "To: \"Kirk Marple\" <kirk@unstrukdata.onmicrosoft.com>\n",
            "From: \"NuGet Gallery\" <support@nuget.org>\n",
            "\n"
          ]
        },
        {
          "output_type": "display_data",
          "data": {
            "text/plain": [
              "<IPython.core.display.Markdown object>"
            ],
            "text/markdown": "### Found Microsoft email [5981e57d-fb27-4d33-b14f-c106579da308] that referenced search text [None]."
          },
          "metadata": {}
        },
        {
          "output_type": "stream",
          "name": "stdout",
          "text": [
            "Date: 2024-12-13T04:15:42.000Z\n",
            "Subject: [NuGet Gallery] Package published - Graphlit 2024.12.12.1\n",
            "To: \"Kirk Marple\" <kirk@unstrukdata.onmicrosoft.com>\n",
            "From: \"NuGet Gallery\" <support@nuget.org>\n",
            "\n"
          ]
        },
        {
          "output_type": "display_data",
          "data": {
            "text/plain": [
              "<IPython.core.display.Markdown object>"
            ],
            "text/markdown": "### Found Microsoft email [75fe71c7-6043-4a0a-83de-7b4412a9bd38] that referenced search text [None]."
          },
          "metadata": {}
        },
        {
          "output_type": "stream",
          "name": "stdout",
          "text": [
            "Date: 2024-12-10T21:43:29.000Z\n",
            "Subject: [NuGet Gallery] Package published - Graphlit 2024.12.10.1\n",
            "To: \"Kirk Marple\" <kirk@unstrukdata.onmicrosoft.com>\n",
            "From: \"NuGet Gallery\" <support@nuget.org>\n",
            "\n"
          ]
        },
        {
          "output_type": "display_data",
          "data": {
            "text/plain": [
              "<IPython.core.display.Markdown object>"
            ],
            "text/markdown": "### Found Microsoft email [f4840bb1-b06e-46bc-b611-db9550c2c594] that referenced search text [None]."
          },
          "metadata": {}
        },
        {
          "output_type": "stream",
          "name": "stdout",
          "text": [
            "Date: 2024-12-10T16:28:47.000Z\n",
            "Subject: Remember to activate your benefits in Partner Center\n",
            "To: \"Kirk Marple\" <kirk@unstrukdata.onmicrosoft.com>\n",
            "From: \"Microsoft ISV Success\" <ISVSuccess@mails.microsoft.com>\n",
            "\n"
          ]
        },
        {
          "output_type": "display_data",
          "data": {
            "text/plain": [
              "<IPython.core.display.Markdown object>"
            ],
            "text/markdown": "### Found Microsoft email [f2c97ce8-e500-4dea-8bbc-a29c17292c09] that referenced search text [None]."
          },
          "metadata": {}
        },
        {
          "output_type": "stream",
          "name": "stdout",
          "text": [
            "Date: 2024-12-10T07:21:23.000Z\n",
            "Subject: [NuGet Gallery] Package published - Graphlit 2024.12.9.1\n",
            "To: \"Kirk Marple\" <kirk@unstrukdata.onmicrosoft.com>\n",
            "From: \"NuGet Gallery\" <support@nuget.org>\n",
            "\n"
          ]
        }
      ]
    }
  ]
}