{
  "nbformat": 4,
  "nbformat_minor": 0,
  "metadata": {
    "colab": {
      "provenance": [],
      "mount_file_id": "1cSnEIDnT7SYyUpfap5KiK6Y_LWLQdk6s",
      "authorship_tag": "ABX9TyPw0n0GmuqI8fD6o6qM4wvT",
      "include_colab_link": true
    },
    "kernelspec": {
      "name": "python3",
      "display_name": "Python 3"
    },
    "language_info": {
      "name": "python"
    }
  },
  "cells": [
    {
      "cell_type": "markdown",
      "metadata": {
        "id": "view-in-github",
        "colab_type": "text"
      },
      "source": [
        "<a href=\"https://colab.research.google.com/github/graphlit/graphlit-samples/blob/main/python/Notebook%20Examples/Graphlit_2024_09_17_Describe_and_Map_Images.ipynb\" target=\"_parent\"><img src=\"https://colab.research.google.com/assets/colab-badge.svg\" alt=\"Open In Colab\"/></a>"
      ]
    },
    {
      "cell_type": "markdown",
      "source": [
        "**Description**\n",
        "\n",
        "This example shows how to TODO"
      ],
      "metadata": {
        "id": "pDz1gRPjOtn5"
      }
    },
    {
      "cell_type": "markdown",
      "source": [
        "**Requirements**\n",
        "\n",
        "Prior to running this notebook, you will need to [signup](https://docs.graphlit.dev/getting-started/signup) for Graphlit, and [create a project](https://docs.graphlit.dev/getting-started/create-project).\n",
        "\n",
        "You will need the Graphlit organization ID, preview environment ID and JWT secret from your created project.\n",
        "\n",
        "Assign these properties as Colab secrets: GRAPHLIT_ORGANIZATION_ID, GRAPHLIT_ENVIRONMENT_ID and GRAPHLIT_JWT_SECRET.\n",
        "\n",
        "\n",
        "---"
      ],
      "metadata": {
        "id": "laG2MXUIhNnx"
      }
    },
    {
      "cell_type": "markdown",
      "source": [
        "Install Graphlit Python client SDK"
      ],
      "metadata": {
        "id": "NwRzDHWWienC"
      }
    },
    {
      "cell_type": "code",
      "execution_count": 2,
      "metadata": {
        "id": "fefizrrh4xGD",
        "colab": {
          "base_uri": "https://localhost:8080/"
        },
        "outputId": "f6d22c64-67c7-4fa0-d40a-02e4c1d292e1"
      },
      "outputs": [
        {
          "output_type": "stream",
          "name": "stdout",
          "text": [
            "Requirement already satisfied: graphlit-client in /usr/local/lib/python3.10/dist-packages (1.0.20240914001)\n",
            "Requirement already satisfied: httpx in /usr/local/lib/python3.10/dist-packages (from graphlit-client) (0.27.2)\n",
            "Requirement already satisfied: pydantic<3.0.0,>=2.0.0 in /usr/local/lib/python3.10/dist-packages (from graphlit-client) (2.9.1)\n",
            "Requirement already satisfied: PyJWT in /usr/local/lib/python3.10/dist-packages (from graphlit-client) (2.9.0)\n",
            "Requirement already satisfied: websockets in /usr/local/lib/python3.10/dist-packages (from graphlit-client) (13.0.1)\n",
            "Requirement already satisfied: annotated-types>=0.6.0 in /usr/local/lib/python3.10/dist-packages (from pydantic<3.0.0,>=2.0.0->graphlit-client) (0.7.0)\n",
            "Requirement already satisfied: pydantic-core==2.23.3 in /usr/local/lib/python3.10/dist-packages (from pydantic<3.0.0,>=2.0.0->graphlit-client) (2.23.3)\n",
            "Requirement already satisfied: typing-extensions>=4.6.1 in /usr/local/lib/python3.10/dist-packages (from pydantic<3.0.0,>=2.0.0->graphlit-client) (4.12.2)\n",
            "Requirement already satisfied: anyio in /usr/local/lib/python3.10/dist-packages (from httpx->graphlit-client) (3.7.1)\n",
            "Requirement already satisfied: certifi in /usr/local/lib/python3.10/dist-packages (from httpx->graphlit-client) (2024.8.30)\n",
            "Requirement already satisfied: httpcore==1.* in /usr/local/lib/python3.10/dist-packages (from httpx->graphlit-client) (1.0.5)\n",
            "Requirement already satisfied: idna in /usr/local/lib/python3.10/dist-packages (from httpx->graphlit-client) (3.8)\n",
            "Requirement already satisfied: sniffio in /usr/local/lib/python3.10/dist-packages (from httpx->graphlit-client) (1.3.1)\n",
            "Requirement already satisfied: h11<0.15,>=0.13 in /usr/local/lib/python3.10/dist-packages (from httpcore==1.*->httpx->graphlit-client) (0.14.0)\n",
            "Requirement already satisfied: exceptiongroup in /usr/local/lib/python3.10/dist-packages (from anyio->httpx->graphlit-client) (1.2.2)\n"
          ]
        }
      ],
      "source": [
        "!pip install --upgrade graphlit-client"
      ]
    },
    {
      "cell_type": "markdown",
      "source": [
        "Install Folium"
      ],
      "metadata": {
        "id": "uE43jLB_nxbA"
      }
    },
    {
      "cell_type": "code",
      "source": [
        "!pip install --upgrade folium"
      ],
      "metadata": {
        "colab": {
          "base_uri": "https://localhost:8080/"
        },
        "id": "s27uoyDjnxBK",
        "outputId": "3501973e-2adf-442b-89ce-8fa42569fed7"
      },
      "execution_count": 3,
      "outputs": [
        {
          "output_type": "stream",
          "name": "stdout",
          "text": [
            "Requirement already satisfied: folium in /usr/local/lib/python3.10/dist-packages (0.17.0)\n",
            "Requirement already satisfied: branca>=0.6.0 in /usr/local/lib/python3.10/dist-packages (from folium) (0.7.2)\n",
            "Requirement already satisfied: jinja2>=2.9 in /usr/local/lib/python3.10/dist-packages (from folium) (3.1.4)\n",
            "Requirement already satisfied: numpy in /usr/local/lib/python3.10/dist-packages (from folium) (1.26.4)\n",
            "Requirement already satisfied: requests in /usr/local/lib/python3.10/dist-packages (from folium) (2.32.3)\n",
            "Requirement already satisfied: xyzservices in /usr/local/lib/python3.10/dist-packages (from folium) (2024.9.0)\n",
            "Requirement already satisfied: MarkupSafe>=2.0 in /usr/local/lib/python3.10/dist-packages (from jinja2>=2.9->folium) (2.1.5)\n",
            "Requirement already satisfied: charset-normalizer<4,>=2 in /usr/local/lib/python3.10/dist-packages (from requests->folium) (3.3.2)\n",
            "Requirement already satisfied: idna<4,>=2.5 in /usr/local/lib/python3.10/dist-packages (from requests->folium) (3.8)\n",
            "Requirement already satisfied: urllib3<3,>=1.21.1 in /usr/local/lib/python3.10/dist-packages (from requests->folium) (2.0.7)\n",
            "Requirement already satisfied: certifi>=2017.4.17 in /usr/local/lib/python3.10/dist-packages (from requests->folium) (2024.8.30)\n"
          ]
        }
      ]
    },
    {
      "cell_type": "markdown",
      "source": [
        "Initialize Graphlit"
      ],
      "metadata": {
        "id": "abV1114jL-bR"
      }
    },
    {
      "cell_type": "code",
      "source": [
        "import os\n",
        "from google.colab import userdata\n",
        "from graphlit import Graphlit\n",
        "from graphlit_api import input_types, enums, exceptions\n",
        "\n",
        "os.environ['GRAPHLIT_ORGANIZATION_ID'] = userdata.get('GRAPHLIT_ORGANIZATION_ID_DEVELOPMENT')\n",
        "os.environ['GRAPHLIT_ENVIRONMENT_ID'] = userdata.get('GRAPHLIT_ENVIRONMENT_ID_DEVELOPMENT')\n",
        "os.environ['GRAPHLIT_JWT_SECRET'] = userdata.get('GRAPHLIT_JWT_SECRET_DEVELOPMENT')\n",
        "\n",
        "graphlit = Graphlit(api_uri=userdata.get('GRAPHLIT_API_URI'))"
      ],
      "metadata": {
        "id": "WoMAWD4LLP_q"
      },
      "execution_count": 4,
      "outputs": []
    },
    {
      "cell_type": "markdown",
      "source": [
        "Define Graphlit helper functions"
      ],
      "metadata": {
        "id": "pgRX57EHMVfl"
      }
    },
    {
      "cell_type": "code",
      "source": [
        "from typing import List, Optional\n",
        "\n",
        "# Create specification for Anthropic Sonnet 3.5\n",
        "async def create_anthropic_specification():\n",
        "    if graphlit.client is None:\n",
        "        return;\n",
        "\n",
        "    input = input_types.SpecificationInput(\n",
        "        name=\"Anthropic Claude Sonnet 3.5\",\n",
        "        type=enums.SpecificationTypes.EXTRACTION,\n",
        "        serviceType=enums.ModelServiceTypes.ANTHROPIC,\n",
        "        anthropic=input_types.AnthropicModelPropertiesInput(\n",
        "            model=enums.AnthropicModels.CLAUDE_3_5_SONNET,\n",
        "        )\n",
        "    )\n",
        "\n",
        "    try:\n",
        "        response = await graphlit.client.create_specification(input)\n",
        "\n",
        "        return response.create_specification.id if response.create_specification is not None else None\n",
        "    except exceptions.GraphQLClientError as e:\n",
        "        print(str(e))\n",
        "        return None\n",
        "\n",
        "    return None\n",
        "\n",
        "async def create_workflow(specification_id: str):\n",
        "    if graphlit.client is None:\n",
        "        return;\n",
        "\n",
        "    input = input_types.WorkflowInput(\n",
        "        name=\"Image Extraction\",\n",
        "        extraction=input_types.ExtractionWorkflowStageInput(\n",
        "            jobs=[\n",
        "                input_types.ExtractionWorkflowJobInput(\n",
        "                    connector=input_types.EntityExtractionConnectorInput(\n",
        "                        type=enums.EntityExtractionServiceTypes.MODEL_IMAGE,\n",
        "                        modelImage=input_types.ModelImageExtractionPropertiesInput(\n",
        "                            specification=input_types.EntityReferenceInput(id=specification_id)\n",
        "                        )\n",
        "                    )\n",
        "                )\n",
        "            ]\n",
        "        )\n",
        "    )\n",
        "\n",
        "    try:\n",
        "        response = await graphlit.client.create_workflow(input)\n",
        "\n",
        "        return response.create_workflow.id if response.create_workflow is not None else None\n",
        "    except exceptions.GraphQLClientError as e:\n",
        "        print(str(e))\n",
        "        return None\n",
        "\n",
        "    return None\n",
        "\n",
        "async def ingest_uri(uri: str, workflow_id: str):\n",
        "    if graphlit.client is None:\n",
        "        return\n",
        "\n",
        "    try:\n",
        "        # Using synchronous mode, so the notebook waits for the content to be ingested\n",
        "        response = await graphlit.client.ingest_uri(uri=uri, workflow=input_types.EntityReferenceInput(id=workflow_id), is_synchronous=True)\n",
        "\n",
        "        return response.ingest_uri.id if response.ingest_uri is not None else None\n",
        "    except exceptions.GraphQLClientError as e:\n",
        "        print(str(e))\n",
        "        return None\n",
        "\n",
        "async def query_contents(search_text: Optional[str] = None):\n",
        "    if graphlit.client is None:\n",
        "        return;\n",
        "\n",
        "    try:\n",
        "        response = await graphlit.client.query_contents(\n",
        "            filter=input_types.ContentFilter(\n",
        "                search=search_text,\n",
        "                searchType=enums.SearchTypes.HYBRID,\n",
        "                fileTypes=[enums.FileTypes.IMAGE],\n",
        "            )\n",
        "        )\n",
        "\n",
        "        return response.contents.results if response.contents is not None else None\n",
        "    except exceptions.GraphQLClientError as e:\n",
        "        print(str(e))\n",
        "        return None\n",
        "\n",
        "async def delete_all_specifications():\n",
        "    if graphlit.client is None:\n",
        "        return;\n",
        "\n",
        "    _ = await graphlit.client.delete_all_specifications(is_synchronous=True)\n",
        "\n",
        "async def delete_all_workflows():\n",
        "    if graphlit.client is None:\n",
        "        return;\n",
        "\n",
        "    _ = await graphlit.client.delete_all_workflows(is_synchronous=True)\n",
        "\n",
        "async def delete_all_contents():\n",
        "    if graphlit.client is None:\n",
        "        return;\n",
        "\n",
        "    _ = await graphlit.client.delete_all_contents(is_synchronous=True)\n"
      ],
      "metadata": {
        "id": "mtwjJsvVOVCh"
      },
      "execution_count": 20,
      "outputs": []
    },
    {
      "cell_type": "markdown",
      "source": [
        "Execute Graphlit example"
      ],
      "metadata": {
        "id": "srzhQt4COLVI"
      }
    },
    {
      "cell_type": "code",
      "source": [
        "from IPython.display import display, Markdown\n",
        "import folium\n",
        "import asyncio\n",
        "\n",
        "# Remove any existing specifications, workflows and contents; only needed for notebook example\n",
        "await delete_all_specifications()\n",
        "await delete_all_workflows()\n",
        "await delete_all_contents()\n",
        "\n",
        "print('Deleted all contents.')\n",
        "\n",
        "uris = [\n",
        "    \"https://graphlitplatform.blob.core.windows.net/samples/Images/Chicago/20170601_081526.jpg\",\n",
        "    \"https://graphlitplatform.blob.core.windows.net/samples/Images/Chicago/20170601_082315.jpg\",\n",
        "    \"https://graphlitplatform.blob.core.windows.net/samples/Images/Chicago/20170601_213903.jpg\",\n",
        "    \"https://graphlitplatform.blob.core.windows.net/samples/Images/Chicago/20170617_145925.jpg\",\n",
        "    \"https://graphlitplatform.blob.core.windows.net/samples/Images/Chicago/20170816_214947.jpg\",\n",
        "    \"https://graphlitplatform.blob.core.windows.net/samples/Images/Chicago/20170816_214950.jpg\",\n",
        "    \"https://graphlitplatform.blob.core.windows.net/samples/Images/Chicago/20170818_090529.jpg\",\n",
        "    \"https://graphlitplatform.blob.core.windows.net/samples/Images/Chicago/20170907_193136.jpg\",\n",
        "    \"https://graphlitplatform.blob.core.windows.net/samples/Images/Chicago/20170907_194427.jpg\",\n",
        "    \"https://graphlitplatform.blob.core.windows.net/samples/Images/Chicago/20170907_194700.jpg\",\n",
        "    \"https://graphlitplatform.blob.core.windows.net/samples/Images/Chicago/20170907_200452.jpg\",\n",
        "    \"https://graphlitplatform.blob.core.windows.net/samples/Images/Chicago/20170907_200458.jpg\",\n",
        "    \"https://graphlitplatform.blob.core.windows.net/samples/Images/Chicago/20170907_201106.jpg\",\n",
        "    \"https://graphlitplatform.blob.core.windows.net/samples/Images/Chicago/20170907_201322.jpg\",\n",
        "    \"https://graphlitplatform.blob.core.windows.net/samples/Images/Chicago/20170907_201729.jpg\",\n",
        "    \"https://graphlitplatform.blob.core.windows.net/samples/Images/Chicago/20170907_201938.jpg\",\n",
        "    \"https://graphlitplatform.blob.core.windows.net/samples/Images/Chicago/20170907_203103.jpg\",\n",
        "    \"https://graphlitplatform.blob.core.windows.net/samples/Images/Chicago/20170907_204549.jpg\",\n",
        "    \"https://graphlitplatform.blob.core.windows.net/samples/Images/Chicago/20170907_204901.jpg\",\n",
        "    \"https://graphlitplatform.blob.core.windows.net/samples/Images/Chicago/20171006_134259.jpg\"\n",
        "]\n",
        "\n",
        "specification_id = await create_anthropic_specification()\n",
        "\n",
        "if specification_id is not None:\n",
        "    print(f'Created specification [{specification_id}].')\n",
        "\n",
        "    workflow_id = await create_workflow(specification_id)\n",
        "\n",
        "    if workflow_id is not None:\n",
        "        print(f'Created workflow [{workflow_id}].')\n",
        "\n",
        "        # Create a list of tasks for ingesting the URIs\n",
        "        tasks = [ingest_uri(uri, workflow_id) for uri in uris]\n",
        "\n",
        "        # Use asyncio.gather() to run all ingestions in parallel\n",
        "        await asyncio.gather(*tasks)\n",
        "\n",
        "        print('Ingested all images.')"
      ],
      "metadata": {
        "id": "fOb6COcONZIJ",
        "colab": {
          "base_uri": "https://localhost:8080/"
        },
        "outputId": "b303b36f-4965-4126-967a-0497b91ed9ea"
      },
      "execution_count": 6,
      "outputs": [
        {
          "output_type": "stream",
          "name": "stdout",
          "text": [
            "Deleted all contents.\n",
            "Created specification [22cb9bfb-62c4-4af0-86a2-525a3921c337].\n",
            "Created workflow [9a682670-f4c8-4e6e-90bb-255461844379].\n",
            "Ingested all images.\n"
          ]
        }
      ]
    },
    {
      "cell_type": "code",
      "source": [
        "        search_text = input('Search by image description (or hit <enter> to map all images):')\n",
        "\n",
        "        if search_text is None or search_text == '':\n",
        "            search_text = None\n",
        "\n",
        "        map = folium.Map(zoom_start=12, max_zoom=22)\n",
        "\n",
        "        contents = await query_contents(search_text)\n",
        "\n",
        "        if contents is not None:\n",
        "            print(f'Found {len(contents)} contents.')\n",
        "\n",
        "            marker_coords = []\n",
        "\n",
        "            for content in contents:\n",
        "                if content is not None and content.location is not None:\n",
        "                    if content.location.latitude is not None and content.location.longitude is not None and content.address is not None and content.image is not None and content.image.description is not None:\n",
        "                        custom_icon = folium.CustomIcon(\n",
        "                            icon_image=content.image_uri,\n",
        "                            icon_size=(100, 100),\n",
        "                            icon_anchor=(50, 50)\n",
        "                        )\n",
        "\n",
        "                        popup_content = f'<b>Address:</b> {content.address.street_address}, {content.address.city} {content.address.region}<br/><br/><b>Description:</b> {content.image.description[:3072]}'\n",
        "                        popup = folium.Popup(popup_content, max_width=400, min_width=300)\n",
        "\n",
        "                        folium.Marker(\n",
        "                            location=[content.location.latitude, content.location.longitude],\n",
        "                            popup=popup,\n",
        "                            icon=custom_icon\n",
        "                        ).add_to(map)\n",
        "\n",
        "                        marker_coords.append([content.location.latitude, content.location.longitude])\n",
        "\n",
        "            map.fit_bounds(marker_coords)\n",
        "\n",
        "            display(map)"
      ],
      "metadata": {
        "colab": {
          "base_uri": "https://localhost:8080/",
          "height": 944
        },
        "id": "wqY8kYq7zpTA",
        "outputId": "8d7fa3ac-d6af-4324-fac7-bbc7f8401bc4"
      },
      "execution_count": 21,
      "outputs": [
        {
          "output_type": "stream",
          "name": "stdout",
          "text": [
            "Search by image description (or hit <enter> to map all images):Wrigley\n",
            "Found 3 contents.\n"
          ]
        },
        {
          "output_type": "display_data",
          "data": {
            "text/plain": [
              "<folium.folium.Map at 0x7ec189229b40>"
            ],
            "text/html": [
              "<div style=\"width:100%;\"><div style=\"position:relative;width:100%;height:0;padding-bottom:60%;\"><span style=\"color:#565656\">Make this Notebook Trusted to load map: File -> Trust Notebook</span><iframe srcdoc=\"&lt;!DOCTYPE html&gt;\n",
              "&lt;html&gt;\n",
              "&lt;head&gt;\n",
              "    \n",
              "    &lt;meta http-equiv=&quot;content-type&quot; content=&quot;text/html; charset=UTF-8&quot; /&gt;\n",
              "    \n",
              "        &lt;script&gt;\n",
              "            L_NO_TOUCH = false;\n",
              "            L_DISABLE_3D = false;\n",
              "        &lt;/script&gt;\n",
              "    \n",
              "    &lt;style&gt;html, body {width: 100%;height: 100%;margin: 0;padding: 0;}&lt;/style&gt;\n",
              "    &lt;style&gt;#map {position:absolute;top:0;bottom:0;right:0;left:0;}&lt;/style&gt;\n",
              "    &lt;script src=&quot;https://cdn.jsdelivr.net/npm/leaflet@1.9.3/dist/leaflet.js&quot;&gt;&lt;/script&gt;\n",
              "    &lt;script src=&quot;https://code.jquery.com/jquery-3.7.1.min.js&quot;&gt;&lt;/script&gt;\n",
              "    &lt;script src=&quot;https://cdn.jsdelivr.net/npm/bootstrap@5.2.2/dist/js/bootstrap.bundle.min.js&quot;&gt;&lt;/script&gt;\n",
              "    &lt;script src=&quot;https://cdnjs.cloudflare.com/ajax/libs/Leaflet.awesome-markers/2.0.2/leaflet.awesome-markers.js&quot;&gt;&lt;/script&gt;\n",
              "    &lt;link rel=&quot;stylesheet&quot; href=&quot;https://cdn.jsdelivr.net/npm/leaflet@1.9.3/dist/leaflet.css&quot;/&gt;\n",
              "    &lt;link rel=&quot;stylesheet&quot; href=&quot;https://cdn.jsdelivr.net/npm/bootstrap@5.2.2/dist/css/bootstrap.min.css&quot;/&gt;\n",
              "    &lt;link rel=&quot;stylesheet&quot; href=&quot;https://netdna.bootstrapcdn.com/bootstrap/3.0.0/css/bootstrap-glyphicons.css&quot;/&gt;\n",
              "    &lt;link rel=&quot;stylesheet&quot; href=&quot;https://cdn.jsdelivr.net/npm/@fortawesome/fontawesome-free@6.2.0/css/all.min.css&quot;/&gt;\n",
              "    &lt;link rel=&quot;stylesheet&quot; href=&quot;https://cdnjs.cloudflare.com/ajax/libs/Leaflet.awesome-markers/2.0.2/leaflet.awesome-markers.css&quot;/&gt;\n",
              "    &lt;link rel=&quot;stylesheet&quot; href=&quot;https://cdn.jsdelivr.net/gh/python-visualization/folium/folium/templates/leaflet.awesome.rotate.min.css&quot;/&gt;\n",
              "    \n",
              "            &lt;meta name=&quot;viewport&quot; content=&quot;width=device-width,\n",
              "                initial-scale=1.0, maximum-scale=1.0, user-scalable=no&quot; /&gt;\n",
              "            &lt;style&gt;\n",
              "                #map_82106e4aec6fdd0e9a9f5d5507f67cb9 {\n",
              "                    position: relative;\n",
              "                    width: 100.0%;\n",
              "                    height: 100.0%;\n",
              "                    left: 0.0%;\n",
              "                    top: 0.0%;\n",
              "                }\n",
              "                .leaflet-container { font-size: 1rem; }\n",
              "            &lt;/style&gt;\n",
              "        \n",
              "&lt;/head&gt;\n",
              "&lt;body&gt;\n",
              "    \n",
              "    \n",
              "            &lt;div class=&quot;folium-map&quot; id=&quot;map_82106e4aec6fdd0e9a9f5d5507f67cb9&quot; &gt;&lt;/div&gt;\n",
              "        \n",
              "&lt;/body&gt;\n",
              "&lt;script&gt;\n",
              "    \n",
              "    \n",
              "            var map_82106e4aec6fdd0e9a9f5d5507f67cb9 = L.map(\n",
              "                &quot;map_82106e4aec6fdd0e9a9f5d5507f67cb9&quot;,\n",
              "                {\n",
              "                    center: [0.0, 0.0],\n",
              "                    crs: L.CRS.EPSG3857,\n",
              "                    zoom: 1,\n",
              "                    zoomControl: true,\n",
              "                    preferCanvas: false,\n",
              "                }\n",
              "            );\n",
              "\n",
              "            \n",
              "\n",
              "        \n",
              "    \n",
              "            var tile_layer_b942cadd84e1ecaeadb700f03344bbdf = L.tileLayer(\n",
              "                &quot;https://tile.openstreetmap.org/{z}/{x}/{y}.png&quot;,\n",
              "                {&quot;attribution&quot;: &quot;\\u0026copy; \\u003ca href=\\&quot;https://www.openstreetmap.org/copyright\\&quot;\\u003eOpenStreetMap\\u003c/a\\u003e contributors&quot;, &quot;detectRetina&quot;: false, &quot;maxNativeZoom&quot;: 19, &quot;maxZoom&quot;: 22, &quot;minZoom&quot;: 0, &quot;noWrap&quot;: false, &quot;opacity&quot;: 1, &quot;subdomains&quot;: &quot;abc&quot;, &quot;tms&quot;: false}\n",
              "            );\n",
              "        \n",
              "    \n",
              "            tile_layer_b942cadd84e1ecaeadb700f03344bbdf.addTo(map_82106e4aec6fdd0e9a9f5d5507f67cb9);\n",
              "        \n",
              "    \n",
              "            var marker_23ac640eaed80701ddbff4243c8d8b7a = L.marker(\n",
              "                [41.888625, -87.62307222222222],\n",
              "                {}\n",
              "            ).addTo(map_82106e4aec6fdd0e9a9f5d5507f67cb9);\n",
              "        \n",
              "    \n",
              "        var custom_icon_8565da9df502c68ce413bdc8195f4543 = L.icon({&quot;iconAnchor&quot;: [50, 50], &quot;iconSize&quot;: [100, 100], &quot;iconUrl&quot;: &quot;https://graphlit202407156de7e4a2.blob.core.windows.net/files/290da966-3fa1-4eee-9d3a-3ce44c34041a/Image/20170907_193136.jpg?sv=2024-08-04\\u0026se=2024-09-18T02%3A30%3A32Z\\u0026sr=c\\u0026sp=rl\\u0026sig=L2mLsCL0ZQTVSvEGWXTNeIyiy5%2BiDbOl4%2BWBa90kiPA%3D&quot;});\n",
              "        marker_23ac640eaed80701ddbff4243c8d8b7a.setIcon(custom_icon_8565da9df502c68ce413bdc8195f4543);\n",
              "        \n",
              "    \n",
              "        var popup_4d6833658807fde64feefe2a3496d463 = L.popup({&quot;maxWidth&quot;: 400, &quot;minWidth&quot;: 300});\n",
              "\n",
              "        \n",
              "            \n",
              "                var html_0ac924c2c875d98ba305c5737d1a1ca9 = $(`&lt;div id=&quot;html_0ac924c2c875d98ba305c5737d1a1ca9&quot; style=&quot;width: 100.0%; height: 100.0%;&quot;&gt;&lt;b&gt;Address:&lt;/b&gt; East Upper Wacker Drive, Chicago IL&lt;br/&gt;&lt;br/&gt;&lt;b&gt;Description:&lt;/b&gt; This image captures an iconic architectural landmark in Chicago, Illinois - the Wrigley Building. The photograph is taken during the twilight hours, showcasing the building&#x27;s stunning illumination against a darkening blue sky.  The Wrigley Building dominates the center of the frame, its distinctive clock tower rising prominently above the surrounding structures. The building&#x27;s white terra cotta façade gleams with a warm, golden light, creating a striking contrast against the cooler tones of the evening sky and neighboring buildings.  The architecture of the Wrigley Building is a prime example of early 20th-century design, featuring elements of Renaissance Revival and French Renaissance styles. Its ornate clock face, visible on all four sides of the tower, serves as a focal point and a nod to the building&#x27;s historical significance in Chicago&#x27;s skyline.  Surrounding the Wrigley Building are other high-rise structures, indicative of Chicago&#x27;s dense urban landscape. To the right, modern glass and steel skyscrapers provide a contemporary counterpoint to the Wrigley Building&#x27;s classical design, illustrating the city&#x27;s architectural evolution over time.  The foreground of the image shows glimpses of the Chicago River, with some lighting elements visible along what appears to be the riverwalk. This adds depth to the composition and places the building in its geographical context along the river.  The timing of the photograph is particularly effective, captured during the &#x27;blue hour&#x27; when the sky retains a deep azure color but is dark enough for the building&#x27;s lights to shine brilliantly. This creates a magical atmosphere and highlights the building&#x27;s intricate details and architectural features.  The composition of the image draws the viewer&#x27;s eye upward, following the vertical lines of the Wrigley Building and emphasizing its height and grandeur. The framing includes enough of the surrounding cityscape to provide context while keeping the focus firmly on the main subject.  The lighting in the photograph is a key element, with the warm, golden illumination of the building creating a welcoming and almost ethereal glow against the cooler tones of the evening. This interplay of warm and cool colors adds visual interest and depth to the scene.  From a technical perspective, the photographer has skillfully balanced the exposure to capture both the bright lights of the building and the subtle hues of the sky, demonstrating a high level of photographic expertise. The image appears sharp and well-focused, allowing viewers to appreciate the fine details of the architecture.  Overall, this photograph not only showcases a beloved Chicago landmark but also captures the essence of the city&#x27;s architectural heritage and its vibrant urban nightlife. It serves as both a documentation of a significant building and an artistic representation of Chicago&#x27;s enduring beauty and character.&lt;/div&gt;`)[0];\n",
              "                popup_4d6833658807fde64feefe2a3496d463.setContent(html_0ac924c2c875d98ba305c5737d1a1ca9);\n",
              "            \n",
              "        \n",
              "\n",
              "        marker_23ac640eaed80701ddbff4243c8d8b7a.bindPopup(popup_4d6833658807fde64feefe2a3496d463)\n",
              "        ;\n",
              "\n",
              "        \n",
              "    \n",
              "    \n",
              "            var marker_355315a78257b39a939304c61eb14a9e = L.marker(\n",
              "                [41.94973611111111, -87.65539722222222],\n",
              "                {}\n",
              "            ).addTo(map_82106e4aec6fdd0e9a9f5d5507f67cb9);\n",
              "        \n",
              "    \n",
              "        var custom_icon_1b34c7f4f64adb92edff5f0aa010cd21 = L.icon({&quot;iconAnchor&quot;: [50, 50], &quot;iconSize&quot;: [100, 100], &quot;iconUrl&quot;: &quot;https://graphlit202407156de7e4a2.blob.core.windows.net/files/c99c9dd0-e686-4498-8e03-07e72a8d6f10/Image/20170816_214947.jpg?sv=2024-08-04\\u0026se=2024-09-18T02%3A30%3A32Z\\u0026sr=c\\u0026sp=rl\\u0026sig=L2mLsCL0ZQTVSvEGWXTNeIyiy5%2BiDbOl4%2BWBa90kiPA%3D&quot;});\n",
              "        marker_355315a78257b39a939304c61eb14a9e.setIcon(custom_icon_1b34c7f4f64adb92edff5f0aa010cd21);\n",
              "        \n",
              "    \n",
              "        var popup_07f5ff67ea52deff11740ff712bf587c = L.popup({&quot;maxWidth&quot;: 400, &quot;minWidth&quot;: 300});\n",
              "\n",
              "        \n",
              "            \n",
              "                var html_1904927f97e0638bee246564e5e1fe62 = $(`&lt;div id=&quot;html_1904927f97e0638bee246564e5e1fe62&quot; style=&quot;width: 100.0%; height: 100.0%;&quot;&gt;&lt;b&gt;Address:&lt;/b&gt; 3721 North Kenmore Avenue, Chicago IL&lt;br/&gt;&lt;br/&gt;&lt;b&gt;Description:&lt;/b&gt; This image captures a nighttime baseball game at Wrigley Field, home of the Chicago Cubs. The photograph provides a wide-angle view of the iconic stadium, showcasing the playing field, scoreboard, and packed stands. The scene is illuminated by bright stadium lights, creating a stark contrast between the dark night sky and the vibrant green of the baseball diamond.  The focal point of the image is the baseball diamond, where a game is in progress. Players can be seen positioned on the field, with a pitcher on the mound and a batter at home plate. The infield dirt and crisp white baselines are clearly visible, highlighting the meticulous maintenance of the playing surface.  Wrigley Field&#x27;s famous manual scoreboard is prominently displayed in the left field, its green panels lit up with the current game statistics. To the right, a large electronic scoreboard shows the Cubs logo and additional game information, including the score and inning. The juxtaposition of the old-school manual scoreboard and the modern electronic display exemplifies the blend of tradition and modernity that characterizes many historic ballparks.  The stands are filled with spectators, creating a sea of blue - the Cubs&#x27; primary color. The crowd&#x27;s presence adds to the electric atmosphere of the night game, with fans visible in various states of engagement with the on-field action. The packed stadium suggests this could be an important game or a popular matchup.  In the outfield, the ivy-covered walls - a hallmark of Wrigley Field - are barely discernible in the nighttime setting, but their presence is implied by the distinctive outfield structure. The outfield grass is immaculately manicured, with visible mowing patterns adding to the aesthetic appeal of the field.  The image captures the essence of America&#x27;s pastime, showcasing the timeless appeal of baseball in an urban setting. The stadium lights create a dramatic effect, casting long shadows across the field and illuminating the players, which adds to the theatrical nature of nighttime baseball.  Advertising elements are visible throughout the stadium, with the most prominent being the Budweiser logo on the right-field scoreboard. This reflects the commercial aspects of modern professional sports while still maintaining the classic feel of the ballpark.  The photograph effectively conveys the scale of the stadium, from the intimate playing field to the towering grandstands and the surrounding neighborhood barely visible beyond the outfield walls. This perspective emphasizes Wrigley Field&#x27;s integration into the urban fabric of Chicago.  Overall, this image encapsulates the magic of night baseball at one of the sport&#x27;s most beloved venues. It captures the intersection of sport, culture, and urban life, showcasing why baseball continues to hold a special place in American culture and why Wrigley Field remains an iconic destination for sports fans.&lt;/div&gt;`)[0];\n",
              "                popup_07f5ff67ea52deff11740ff712bf587c.setContent(html_1904927f97e0638bee246564e5e1fe62);\n",
              "            \n",
              "        \n",
              "\n",
              "        marker_355315a78257b39a939304c61eb14a9e.bindPopup(popup_07f5ff67ea52deff11740ff712bf587c)\n",
              "        ;\n",
              "\n",
              "        \n",
              "    \n",
              "    \n",
              "            var marker_1151e969a18e7dfc6088597a839f0ede = L.marker(\n",
              "                [41.94804722222222, -87.65601388888889],\n",
              "                {}\n",
              "            ).addTo(map_82106e4aec6fdd0e9a9f5d5507f67cb9);\n",
              "        \n",
              "    \n",
              "        var custom_icon_d878f25c7e5ee8d3f5d5911e28531577 = L.icon({&quot;iconAnchor&quot;: [50, 50], &quot;iconSize&quot;: [100, 100], &quot;iconUrl&quot;: &quot;https://graphlit202407156de7e4a2.blob.core.windows.net/files/bbbfd242-dfe1-4ce6-bf2d-9b9b365785aa/Image/20170816_214950.jpg?sv=2024-08-04\\u0026se=2024-09-18T02%3A30%3A32Z\\u0026sr=c\\u0026sp=rl\\u0026sig=L2mLsCL0ZQTVSvEGWXTNeIyiy5%2BiDbOl4%2BWBa90kiPA%3D&quot;});\n",
              "        marker_1151e969a18e7dfc6088597a839f0ede.setIcon(custom_icon_d878f25c7e5ee8d3f5d5911e28531577);\n",
              "        \n",
              "    \n",
              "        var popup_7698e15e26ce99ddf467aa73314f1a39 = L.popup({&quot;maxWidth&quot;: 400, &quot;minWidth&quot;: 300});\n",
              "\n",
              "        \n",
              "            \n",
              "                var html_e3c0b306086060a8bf19ab877791d320 = $(`&lt;div id=&quot;html_e3c0b306086060a8bf19ab877791d320&quot; style=&quot;width: 100.0%; height: 100.0%;&quot;&gt;&lt;b&gt;Address:&lt;/b&gt; 1060 W Addison St, Chicago IL&lt;br/&gt;&lt;br/&gt;&lt;b&gt;Description:&lt;/b&gt; This image captures a vibrant night scene at a baseball stadium, likely Wrigley Field, home of the Chicago Cubs. The photograph provides a wide-angle view of the field and stands, showcasing the electric atmosphere of a game in progress.  The most prominent feature is the large, illuminated scoreboard in the outfield, displaying game information and a digital screen showing crowd shots. This scoreboard, along with the &#x27;Wintrust&#x27; branding visible, helps identify the venue as Wrigley Field.  The playing field is clearly visible, with the characteristic green grass of the outfield and the brown dirt of the infield. Several players can be seen positioned on the field, indicating an ongoing game. The white foul lines and bases are also discernible, marking out the diamond shape of the baseball field.  The stands are packed with spectators, creating a sea of blue - the signature color of the Chicago Cubs. This dense crowd extends from the lower seats visible in the foreground to the upper decks, demonstrating the popularity and excitement of the event.  The image is taken at night, evident from the dark sky and the stadium lighting that illuminates the field and stands. This nighttime setting adds to the dramatic and energetic atmosphere of the game, with the bright lights contrasting against the darkness beyond the stadium.  In the foreground, we can see part of the &#x27;Chicago&#x27; signage, further confirming the location. The photograph appears to be taken from an elevated position, possibly from the upper stands or a press box, providing a comprehensive view of the stadium and action.  The composition of the image effectively captures the scale and energy of a major league baseball game. The wide-angle shot encompasses the playing field, the massive scoreboard, and the packed stands, giving viewers a sense of being present at the event.  The use of color in the image is striking, with the vivid green of the field contrasting against the blue-clad crowd and the dark night sky. The bright lights of the stadium create a warm glow that highlights the action and adds to the overall ambiance.  This photograph not only documents a specific baseball game but also captures the essence of American sports culture. It showcases the communal experience of attending a live sports event, the tradition of baseball, and the modern spectacle of professional sports with its large screens and branding.  Overall, this image effectively conveys the excitement, scale, and atmosphere of a night game at Wrigley Field, one of baseball&#x27;s most iconic venues. It serves as both a record of a specific event and a representation of the broader cultural significance of baseball in American society.&lt;/div&gt;`)[0];\n",
              "                popup_7698e15e26ce99ddf467aa73314f1a39.setContent(html_e3c0b306086060a8bf19ab877791d320);\n",
              "            \n",
              "        \n",
              "\n",
              "        marker_1151e969a18e7dfc6088597a839f0ede.bindPopup(popup_7698e15e26ce99ddf467aa73314f1a39)\n",
              "        ;\n",
              "\n",
              "        \n",
              "    \n",
              "    \n",
              "            map_82106e4aec6fdd0e9a9f5d5507f67cb9.fitBounds(\n",
              "                [[41.888625, -87.62307222222222], [41.94973611111111, -87.65539722222222], [41.94804722222222, -87.65601388888889]],\n",
              "                {}\n",
              "            );\n",
              "        \n",
              "&lt;/script&gt;\n",
              "&lt;/html&gt;\" style=\"position:absolute;width:100%;height:100%;left:0;top:0;border:none !important;\" allowfullscreen webkitallowfullscreen mozallowfullscreen></iframe></div></div>"
            ]
          },
          "metadata": {}
        }
      ]
    }
  ]
}