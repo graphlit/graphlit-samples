{
  "nbformat": 4,
  "nbformat_minor": 0,
  "metadata": {
    "colab": {
      "provenance": [],
      "mount_file_id": "1cSnEIDnT7SYyUpfap5KiK6Y_LWLQdk6s",
      "authorship_tag": "ABX9TyNmWH8uAryV7A20A90is96n",
      "include_colab_link": true
    },
    "kernelspec": {
      "name": "python3",
      "display_name": "Python 3"
    },
    "language_info": {
      "name": "python"
    }
  },
  "cells": [
    {
      "cell_type": "markdown",
      "metadata": {
        "id": "view-in-github",
        "colab_type": "text"
      },
      "source": [
        "<a href=\"https://colab.research.google.com/github/graphlit/graphlit-samples/blob/main/python/Notebook%20Examples/Graphlit_2024_09_17_Describe_and_Map_Images.ipynb\" target=\"_parent\"><img src=\"https://colab.research.google.com/assets/colab-badge.svg\" alt=\"Open In Colab\"/></a>"
      ]
    },
    {
      "cell_type": "markdown",
      "source": [
        "**Description**\n",
        "\n",
        "This example shows how to ingest a series of images, use Anthropic Sonnet 3.5 to automatically generate image descriptions, and then display images on a searchable map."
      ],
      "metadata": {
        "id": "pDz1gRPjOtn5"
      }
    },
    {
      "cell_type": "markdown",
      "source": [
        "**Requirements**\n",
        "\n",
        "Prior to running this notebook, you will need to [signup](https://docs.graphlit.dev/getting-started/signup) for Graphlit, and [create a project](https://docs.graphlit.dev/getting-started/create-project).\n",
        "\n",
        "You will need the Graphlit organization ID, preview environment ID and JWT secret from your created project.\n",
        "\n",
        "Assign these properties as Colab secrets: GRAPHLIT_ORGANIZATION_ID, GRAPHLIT_ENVIRONMENT_ID and GRAPHLIT_JWT_SECRET.\n",
        "\n",
        "\n",
        "---"
      ],
      "metadata": {
        "id": "laG2MXUIhNnx"
      }
    },
    {
      "cell_type": "markdown",
      "source": [
        "Install Graphlit Python client SDK"
      ],
      "metadata": {
        "id": "NwRzDHWWienC"
      }
    },
    {
      "cell_type": "code",
      "execution_count": 22,
      "metadata": {
        "id": "fefizrrh4xGD",
        "colab": {
          "base_uri": "https://localhost:8080/"
        },
        "outputId": "80158f4a-d567-4c68-9940-750f06b764a9"
      },
      "outputs": [
        {
          "output_type": "stream",
          "name": "stdout",
          "text": [
            "Requirement already satisfied: graphlit-client in /usr/local/lib/python3.10/dist-packages (1.0.20240914001)\n",
            "Requirement already satisfied: httpx in /usr/local/lib/python3.10/dist-packages (from graphlit-client) (0.27.2)\n",
            "Requirement already satisfied: pydantic<3.0.0,>=2.0.0 in /usr/local/lib/python3.10/dist-packages (from graphlit-client) (2.9.1)\n",
            "Requirement already satisfied: PyJWT in /usr/local/lib/python3.10/dist-packages (from graphlit-client) (2.9.0)\n",
            "Requirement already satisfied: websockets in /usr/local/lib/python3.10/dist-packages (from graphlit-client) (13.0.1)\n",
            "Requirement already satisfied: annotated-types>=0.6.0 in /usr/local/lib/python3.10/dist-packages (from pydantic<3.0.0,>=2.0.0->graphlit-client) (0.7.0)\n",
            "Requirement already satisfied: pydantic-core==2.23.3 in /usr/local/lib/python3.10/dist-packages (from pydantic<3.0.0,>=2.0.0->graphlit-client) (2.23.3)\n",
            "Requirement already satisfied: typing-extensions>=4.6.1 in /usr/local/lib/python3.10/dist-packages (from pydantic<3.0.0,>=2.0.0->graphlit-client) (4.12.2)\n",
            "Requirement already satisfied: anyio in /usr/local/lib/python3.10/dist-packages (from httpx->graphlit-client) (3.7.1)\n",
            "Requirement already satisfied: certifi in /usr/local/lib/python3.10/dist-packages (from httpx->graphlit-client) (2024.8.30)\n",
            "Requirement already satisfied: httpcore==1.* in /usr/local/lib/python3.10/dist-packages (from httpx->graphlit-client) (1.0.5)\n",
            "Requirement already satisfied: idna in /usr/local/lib/python3.10/dist-packages (from httpx->graphlit-client) (3.8)\n",
            "Requirement already satisfied: sniffio in /usr/local/lib/python3.10/dist-packages (from httpx->graphlit-client) (1.3.1)\n",
            "Requirement already satisfied: h11<0.15,>=0.13 in /usr/local/lib/python3.10/dist-packages (from httpcore==1.*->httpx->graphlit-client) (0.14.0)\n",
            "Requirement already satisfied: exceptiongroup in /usr/local/lib/python3.10/dist-packages (from anyio->httpx->graphlit-client) (1.2.2)\n"
          ]
        }
      ],
      "source": [
        "!pip install --upgrade graphlit-client"
      ]
    },
    {
      "cell_type": "markdown",
      "source": [
        "Install Folium"
      ],
      "metadata": {
        "id": "uE43jLB_nxbA"
      }
    },
    {
      "cell_type": "code",
      "source": [
        "!pip install --upgrade folium"
      ],
      "metadata": {
        "colab": {
          "base_uri": "https://localhost:8080/"
        },
        "id": "s27uoyDjnxBK",
        "outputId": "afda24ea-8487-4cbf-b2b7-9844a325a0f2"
      },
      "execution_count": 23,
      "outputs": [
        {
          "output_type": "stream",
          "name": "stdout",
          "text": [
            "Requirement already satisfied: folium in /usr/local/lib/python3.10/dist-packages (0.17.0)\n",
            "Requirement already satisfied: branca>=0.6.0 in /usr/local/lib/python3.10/dist-packages (from folium) (0.7.2)\n",
            "Requirement already satisfied: jinja2>=2.9 in /usr/local/lib/python3.10/dist-packages (from folium) (3.1.4)\n",
            "Requirement already satisfied: numpy in /usr/local/lib/python3.10/dist-packages (from folium) (1.26.4)\n",
            "Requirement already satisfied: requests in /usr/local/lib/python3.10/dist-packages (from folium) (2.32.3)\n",
            "Requirement already satisfied: xyzservices in /usr/local/lib/python3.10/dist-packages (from folium) (2024.9.0)\n",
            "Requirement already satisfied: MarkupSafe>=2.0 in /usr/local/lib/python3.10/dist-packages (from jinja2>=2.9->folium) (2.1.5)\n",
            "Requirement already satisfied: charset-normalizer<4,>=2 in /usr/local/lib/python3.10/dist-packages (from requests->folium) (3.3.2)\n",
            "Requirement already satisfied: idna<4,>=2.5 in /usr/local/lib/python3.10/dist-packages (from requests->folium) (3.8)\n",
            "Requirement already satisfied: urllib3<3,>=1.21.1 in /usr/local/lib/python3.10/dist-packages (from requests->folium) (2.0.7)\n",
            "Requirement already satisfied: certifi>=2017.4.17 in /usr/local/lib/python3.10/dist-packages (from requests->folium) (2024.8.30)\n"
          ]
        }
      ]
    },
    {
      "cell_type": "markdown",
      "source": [
        "Initialize Graphlit"
      ],
      "metadata": {
        "id": "abV1114jL-bR"
      }
    },
    {
      "cell_type": "code",
      "source": [
        "import os\n",
        "from google.colab import userdata\n",
        "from graphlit import Graphlit\n",
        "from graphlit_api import input_types, enums, exceptions\n",
        "\n",
        "os.environ['GRAPHLIT_ORGANIZATION_ID'] = userdata.get('GRAPHLIT_ORGANIZATION_ID')\n",
        "os.environ['GRAPHLIT_ENVIRONMENT_ID'] = userdata.get('GRAPHLIT_ENVIRONMENT_ID')\n",
        "os.environ['GRAPHLIT_JWT_SECRET'] = userdata.get('GRAPHLIT_JWT_SECRET')\n",
        "\n",
        "graphlit = Graphlit()"
      ],
      "metadata": {
        "id": "WoMAWD4LLP_q"
      },
      "execution_count": 24,
      "outputs": []
    },
    {
      "cell_type": "markdown",
      "source": [
        "Define Graphlit helper functions"
      ],
      "metadata": {
        "id": "pgRX57EHMVfl"
      }
    },
    {
      "cell_type": "code",
      "source": [
        "from typing import List, Optional\n",
        "\n",
        "# Create specification for Anthropic Sonnet 3.5\n",
        "async def create_anthropic_specification():\n",
        "    if graphlit.client is None:\n",
        "        return;\n",
        "\n",
        "    input = input_types.SpecificationInput(\n",
        "        name=\"Anthropic Claude Sonnet 3.5\",\n",
        "        type=enums.SpecificationTypes.EXTRACTION,\n",
        "        serviceType=enums.ModelServiceTypes.ANTHROPIC,\n",
        "        anthropic=input_types.AnthropicModelPropertiesInput(\n",
        "            model=enums.AnthropicModels.CLAUDE_3_5_SONNET,\n",
        "        )\n",
        "    )\n",
        "\n",
        "    try:\n",
        "        response = await graphlit.client.create_specification(input)\n",
        "\n",
        "        return response.create_specification.id if response.create_specification is not None else None\n",
        "    except exceptions.GraphQLClientError as e:\n",
        "        print(str(e))\n",
        "        return None\n",
        "\n",
        "    return None\n",
        "\n",
        "async def create_workflow(specification_id: str):\n",
        "    if graphlit.client is None:\n",
        "        return;\n",
        "\n",
        "    input = input_types.WorkflowInput(\n",
        "        name=\"Image Extraction\",\n",
        "        extraction=input_types.ExtractionWorkflowStageInput(\n",
        "            jobs=[\n",
        "                input_types.ExtractionWorkflowJobInput(\n",
        "                    connector=input_types.EntityExtractionConnectorInput(\n",
        "                        type=enums.EntityExtractionServiceTypes.MODEL_IMAGE,\n",
        "                        modelImage=input_types.ModelImageExtractionPropertiesInput(\n",
        "                            specification=input_types.EntityReferenceInput(id=specification_id)\n",
        "                        )\n",
        "                    )\n",
        "                )\n",
        "            ]\n",
        "        )\n",
        "    )\n",
        "\n",
        "    try:\n",
        "        response = await graphlit.client.create_workflow(input)\n",
        "\n",
        "        return response.create_workflow.id if response.create_workflow is not None else None\n",
        "    except exceptions.GraphQLClientError as e:\n",
        "        print(str(e))\n",
        "        return None\n",
        "\n",
        "    return None\n",
        "\n",
        "async def ingest_uri(uri: str, workflow_id: str):\n",
        "    if graphlit.client is None:\n",
        "        return\n",
        "\n",
        "    try:\n",
        "        # Using synchronous mode, so the notebook waits for the content to be ingested\n",
        "        response = await graphlit.client.ingest_uri(uri=uri, workflow=input_types.EntityReferenceInput(id=workflow_id), is_synchronous=True)\n",
        "\n",
        "        return response.ingest_uri.id if response.ingest_uri is not None else None\n",
        "    except exceptions.GraphQLClientError as e:\n",
        "        print(str(e))\n",
        "        return None\n",
        "\n",
        "async def query_contents(search_text: Optional[str] = None):\n",
        "    if graphlit.client is None:\n",
        "        return;\n",
        "\n",
        "    try:\n",
        "        response = await graphlit.client.query_contents(\n",
        "            filter=input_types.ContentFilter(\n",
        "                search=search_text,\n",
        "                searchType=enums.SearchTypes.HYBRID,\n",
        "                fileTypes=[enums.FileTypes.IMAGE],\n",
        "            )\n",
        "        )\n",
        "\n",
        "        return response.contents.results if response.contents is not None else None\n",
        "    except exceptions.GraphQLClientError as e:\n",
        "        print(str(e))\n",
        "        return None\n",
        "\n",
        "async def delete_all_specifications():\n",
        "    if graphlit.client is None:\n",
        "        return;\n",
        "\n",
        "    _ = await graphlit.client.delete_all_specifications(is_synchronous=True)\n",
        "\n",
        "async def delete_all_workflows():\n",
        "    if graphlit.client is None:\n",
        "        return;\n",
        "\n",
        "    _ = await graphlit.client.delete_all_workflows(is_synchronous=True)\n",
        "\n",
        "async def delete_all_contents():\n",
        "    if graphlit.client is None:\n",
        "        return;\n",
        "\n",
        "    _ = await graphlit.client.delete_all_contents(is_synchronous=True)\n"
      ],
      "metadata": {
        "id": "mtwjJsvVOVCh"
      },
      "execution_count": 25,
      "outputs": []
    },
    {
      "cell_type": "markdown",
      "source": [
        "Execute Graphlit example"
      ],
      "metadata": {
        "id": "srzhQt4COLVI"
      }
    },
    {
      "cell_type": "code",
      "source": [
        "from IPython.display import display, Markdown\n",
        "import folium\n",
        "import asyncio\n",
        "\n",
        "# Remove any existing specifications, workflows and contents; only needed for notebook example\n",
        "await delete_all_specifications()\n",
        "await delete_all_workflows()\n",
        "await delete_all_contents()\n",
        "\n",
        "print('Deleted all contents.')\n",
        "\n",
        "uris = [\n",
        "    \"https://graphlitplatform.blob.core.windows.net/samples/Images/Chicago/20170601_081526.jpg\",\n",
        "    \"https://graphlitplatform.blob.core.windows.net/samples/Images/Chicago/20170601_082315.jpg\",\n",
        "    \"https://graphlitplatform.blob.core.windows.net/samples/Images/Chicago/20170601_213903.jpg\",\n",
        "    \"https://graphlitplatform.blob.core.windows.net/samples/Images/Chicago/20170617_145925.jpg\",\n",
        "    \"https://graphlitplatform.blob.core.windows.net/samples/Images/Chicago/20170816_214947.jpg\",\n",
        "    \"https://graphlitplatform.blob.core.windows.net/samples/Images/Chicago/20170816_214950.jpg\",\n",
        "    \"https://graphlitplatform.blob.core.windows.net/samples/Images/Chicago/20170818_090529.jpg\",\n",
        "    \"https://graphlitplatform.blob.core.windows.net/samples/Images/Chicago/20170907_193136.jpg\",\n",
        "    \"https://graphlitplatform.blob.core.windows.net/samples/Images/Chicago/20170907_194427.jpg\",\n",
        "    \"https://graphlitplatform.blob.core.windows.net/samples/Images/Chicago/20170907_194700.jpg\",\n",
        "    \"https://graphlitplatform.blob.core.windows.net/samples/Images/Chicago/20170907_200452.jpg\",\n",
        "    \"https://graphlitplatform.blob.core.windows.net/samples/Images/Chicago/20170907_200458.jpg\",\n",
        "    \"https://graphlitplatform.blob.core.windows.net/samples/Images/Chicago/20170907_201106.jpg\",\n",
        "    \"https://graphlitplatform.blob.core.windows.net/samples/Images/Chicago/20170907_201322.jpg\",\n",
        "    \"https://graphlitplatform.blob.core.windows.net/samples/Images/Chicago/20170907_201729.jpg\",\n",
        "    \"https://graphlitplatform.blob.core.windows.net/samples/Images/Chicago/20170907_201938.jpg\",\n",
        "    \"https://graphlitplatform.blob.core.windows.net/samples/Images/Chicago/20170907_203103.jpg\",\n",
        "    \"https://graphlitplatform.blob.core.windows.net/samples/Images/Chicago/20170907_204549.jpg\",\n",
        "    \"https://graphlitplatform.blob.core.windows.net/samples/Images/Chicago/20170907_204901.jpg\",\n",
        "    \"https://graphlitplatform.blob.core.windows.net/samples/Images/Chicago/20171006_134259.jpg\"\n",
        "]\n",
        "\n",
        "specification_id = await create_anthropic_specification()\n",
        "\n",
        "if specification_id is not None:\n",
        "    print(f'Created specification [{specification_id}].')\n",
        "\n",
        "    workflow_id = await create_workflow(specification_id)\n",
        "\n",
        "    if workflow_id is not None:\n",
        "        print(f'Created workflow [{workflow_id}].')\n",
        "\n",
        "        # Create a list of tasks for ingesting the URIs\n",
        "        tasks = [ingest_uri(uri, workflow_id) for uri in uris]\n",
        "\n",
        "        # Use asyncio.gather() to run all ingestions in parallel\n",
        "        await asyncio.gather(*tasks)\n",
        "\n",
        "        print('Ingested all images.')"
      ],
      "metadata": {
        "id": "fOb6COcONZIJ",
        "colab": {
          "base_uri": "https://localhost:8080/"
        },
        "outputId": "5794f602-a156-44a0-c899-dd7c9a4a78cc"
      },
      "execution_count": 26,
      "outputs": [
        {
          "output_type": "stream",
          "name": "stdout",
          "text": [
            "Deleted all contents.\n",
            "Created specification [388be350-8f53-433d-b749-658b91e4da79].\n",
            "Created workflow [f9851273-e55f-405d-b796-78c4193fa1b8].\n",
            "Ingested all images.\n"
          ]
        }
      ]
    },
    {
      "cell_type": "code",
      "source": [
        "        search_text = input('Search by image description (or hit <enter> to map all images):')\n",
        "\n",
        "        if search_text == '':\n",
        "            search_text = None\n",
        "\n",
        "        map = folium.Map(zoom_start=12, max_zoom=22)\n",
        "\n",
        "        contents = await query_contents(search_text)\n",
        "\n",
        "        if contents is not None:\n",
        "            print(f'Found {len(contents)} contents.')\n",
        "\n",
        "            marker_coords = []\n",
        "\n",
        "            for content in contents:\n",
        "                # NOTE: image location is automatically parsed from image metadata, and address is automatically looked up based on lat/lon\n",
        "                if content is not None and content.location is not None:\n",
        "                    if content.location.latitude is not None and content.location.longitude is not None and content.address is not None and content.image is not None and content.image.description is not None:\n",
        "                        custom_icon = folium.CustomIcon(\n",
        "                            icon_image=content.image_uri,\n",
        "                            icon_size=(100, 100),\n",
        "                            icon_anchor=(50, 50)\n",
        "                        )\n",
        "\n",
        "                        popup_content = f'<b>Address:</b> {content.address.street_address}, {content.address.city} {content.address.region}<br/><br/><b>Description:</b> {content.image.description[:3072]}'\n",
        "                        popup = folium.Popup(popup_content, max_width=400, min_width=300)\n",
        "\n",
        "                        folium.Marker(\n",
        "                            location=[content.location.latitude, content.location.longitude],\n",
        "                            popup=popup,\n",
        "                            icon=custom_icon\n",
        "                        ).add_to(map)\n",
        "\n",
        "                        marker_coords.append([content.location.latitude, content.location.longitude])\n",
        "\n",
        "            map.fit_bounds(marker_coords)\n",
        "\n",
        "            display(map)"
      ],
      "metadata": {
        "colab": {
          "base_uri": "https://localhost:8080/",
          "height": 944
        },
        "id": "wqY8kYq7zpTA",
        "outputId": "ea52819c-9d9d-4242-fd05-50f9f9c79f58"
      },
      "execution_count": 28,
      "outputs": [
        {
          "output_type": "stream",
          "name": "stdout",
          "text": [
            "Search by image description (or hit <enter> to map all images):Wrigley\n",
            "Found 3 contents.\n"
          ]
        },
        {
          "output_type": "display_data",
          "data": {
            "text/plain": [
              "<folium.folium.Map at 0x7ec17fb58700>"
            ],
            "text/html": [
              "<div style=\"width:100%;\"><div style=\"position:relative;width:100%;height:0;padding-bottom:60%;\"><span style=\"color:#565656\">Make this Notebook Trusted to load map: File -> Trust Notebook</span><iframe srcdoc=\"&lt;!DOCTYPE html&gt;\n",
              "&lt;html&gt;\n",
              "&lt;head&gt;\n",
              "    \n",
              "    &lt;meta http-equiv=&quot;content-type&quot; content=&quot;text/html; charset=UTF-8&quot; /&gt;\n",
              "    \n",
              "        &lt;script&gt;\n",
              "            L_NO_TOUCH = false;\n",
              "            L_DISABLE_3D = false;\n",
              "        &lt;/script&gt;\n",
              "    \n",
              "    &lt;style&gt;html, body {width: 100%;height: 100%;margin: 0;padding: 0;}&lt;/style&gt;\n",
              "    &lt;style&gt;#map {position:absolute;top:0;bottom:0;right:0;left:0;}&lt;/style&gt;\n",
              "    &lt;script src=&quot;https://cdn.jsdelivr.net/npm/leaflet@1.9.3/dist/leaflet.js&quot;&gt;&lt;/script&gt;\n",
              "    &lt;script src=&quot;https://code.jquery.com/jquery-3.7.1.min.js&quot;&gt;&lt;/script&gt;\n",
              "    &lt;script src=&quot;https://cdn.jsdelivr.net/npm/bootstrap@5.2.2/dist/js/bootstrap.bundle.min.js&quot;&gt;&lt;/script&gt;\n",
              "    &lt;script src=&quot;https://cdnjs.cloudflare.com/ajax/libs/Leaflet.awesome-markers/2.0.2/leaflet.awesome-markers.js&quot;&gt;&lt;/script&gt;\n",
              "    &lt;link rel=&quot;stylesheet&quot; href=&quot;https://cdn.jsdelivr.net/npm/leaflet@1.9.3/dist/leaflet.css&quot;/&gt;\n",
              "    &lt;link rel=&quot;stylesheet&quot; href=&quot;https://cdn.jsdelivr.net/npm/bootstrap@5.2.2/dist/css/bootstrap.min.css&quot;/&gt;\n",
              "    &lt;link rel=&quot;stylesheet&quot; href=&quot;https://netdna.bootstrapcdn.com/bootstrap/3.0.0/css/bootstrap-glyphicons.css&quot;/&gt;\n",
              "    &lt;link rel=&quot;stylesheet&quot; href=&quot;https://cdn.jsdelivr.net/npm/@fortawesome/fontawesome-free@6.2.0/css/all.min.css&quot;/&gt;\n",
              "    &lt;link rel=&quot;stylesheet&quot; href=&quot;https://cdnjs.cloudflare.com/ajax/libs/Leaflet.awesome-markers/2.0.2/leaflet.awesome-markers.css&quot;/&gt;\n",
              "    &lt;link rel=&quot;stylesheet&quot; href=&quot;https://cdn.jsdelivr.net/gh/python-visualization/folium/folium/templates/leaflet.awesome.rotate.min.css&quot;/&gt;\n",
              "    \n",
              "            &lt;meta name=&quot;viewport&quot; content=&quot;width=device-width,\n",
              "                initial-scale=1.0, maximum-scale=1.0, user-scalable=no&quot; /&gt;\n",
              "            &lt;style&gt;\n",
              "                #map_8188d4297a140d148f55cadb886de288 {\n",
              "                    position: relative;\n",
              "                    width: 100.0%;\n",
              "                    height: 100.0%;\n",
              "                    left: 0.0%;\n",
              "                    top: 0.0%;\n",
              "                }\n",
              "                .leaflet-container { font-size: 1rem; }\n",
              "            &lt;/style&gt;\n",
              "        \n",
              "&lt;/head&gt;\n",
              "&lt;body&gt;\n",
              "    \n",
              "    \n",
              "            &lt;div class=&quot;folium-map&quot; id=&quot;map_8188d4297a140d148f55cadb886de288&quot; &gt;&lt;/div&gt;\n",
              "        \n",
              "&lt;/body&gt;\n",
              "&lt;script&gt;\n",
              "    \n",
              "    \n",
              "            var map_8188d4297a140d148f55cadb886de288 = L.map(\n",
              "                &quot;map_8188d4297a140d148f55cadb886de288&quot;,\n",
              "                {\n",
              "                    center: [0.0, 0.0],\n",
              "                    crs: L.CRS.EPSG3857,\n",
              "                    zoom: 1,\n",
              "                    zoomControl: true,\n",
              "                    preferCanvas: false,\n",
              "                }\n",
              "            );\n",
              "\n",
              "            \n",
              "\n",
              "        \n",
              "    \n",
              "            var tile_layer_f698b9ddeb499abcae6d3a4564ccf750 = L.tileLayer(\n",
              "                &quot;https://tile.openstreetmap.org/{z}/{x}/{y}.png&quot;,\n",
              "                {&quot;attribution&quot;: &quot;\\u0026copy; \\u003ca href=\\&quot;https://www.openstreetmap.org/copyright\\&quot;\\u003eOpenStreetMap\\u003c/a\\u003e contributors&quot;, &quot;detectRetina&quot;: false, &quot;maxNativeZoom&quot;: 19, &quot;maxZoom&quot;: 22, &quot;minZoom&quot;: 0, &quot;noWrap&quot;: false, &quot;opacity&quot;: 1, &quot;subdomains&quot;: &quot;abc&quot;, &quot;tms&quot;: false}\n",
              "            );\n",
              "        \n",
              "    \n",
              "            tile_layer_f698b9ddeb499abcae6d3a4564ccf750.addTo(map_8188d4297a140d148f55cadb886de288);\n",
              "        \n",
              "    \n",
              "            var marker_6f56abf82b1941a5f71ca3adc1238ff6 = L.marker(\n",
              "                [41.888625, -87.62307222222222],\n",
              "                {}\n",
              "            ).addTo(map_8188d4297a140d148f55cadb886de288);\n",
              "        \n",
              "    \n",
              "        var custom_icon_4231df6687671637e18741d7157cd352 = L.icon({&quot;iconAnchor&quot;: [50, 50], &quot;iconSize&quot;: [100, 100], &quot;iconUrl&quot;: &quot;https://graphlit2024051719fda403.blob.core.windows.net/files/00e2ad38-82c9-40c6-ba47-6cac7e353e84/Image/20170907_193136.jpg?sv=2024-08-04\\u0026se=2024-09-18T03%3A16%3A39Z\\u0026sr=c\\u0026sp=rl\\u0026sig=H4IJhiljNlDFxZMk5INTnjs6ZshsUBSBVcTjxDA40R8%3D&quot;});\n",
              "        marker_6f56abf82b1941a5f71ca3adc1238ff6.setIcon(custom_icon_4231df6687671637e18741d7157cd352);\n",
              "        \n",
              "    \n",
              "        var popup_ce101199b579a9b989948a9f8a34129b = L.popup({&quot;maxWidth&quot;: 400, &quot;minWidth&quot;: 300});\n",
              "\n",
              "        \n",
              "            \n",
              "                var html_bfbc0c94505b9a429afcc36d4dbe1765 = $(`&lt;div id=&quot;html_bfbc0c94505b9a429afcc36d4dbe1765&quot; style=&quot;width: 100.0%; height: 100.0%;&quot;&gt;&lt;b&gt;Address:&lt;/b&gt; East Upper Wacker Drive, Chicago IL&lt;br/&gt;&lt;br/&gt;&lt;b&gt;Description:&lt;/b&gt; This image captures an iconic architectural landmark in Chicago, Illinois - the Wrigley Building. The photograph is taken during the twilight hours, showcasing the building&#x27;s stunning illumination against a darkening blue sky.  The Wrigley Building dominates the center of the frame, its white terra cotta façade gleaming with warm, golden light. The building&#x27;s distinctive clock tower rises prominently, featuring a large clock face that stands out as a focal point. The tower&#x27;s design, with its ornate detailing and spire, exemplifies the Beaux-Arts architectural style popular in the early 20th century.  To the right of the Wrigley Building, we can see part of another structure that appears to be the Tribune Tower, another famous Chicago landmark. This creates a sense of the city&#x27;s rich architectural heritage and skyline.  The composition of the photograph emphasizes the verticality of the buildings, with the Wrigley Building&#x27;s tower stretching towards the top of the frame. This vertical emphasis is balanced by the horizontal elements of the river in the foreground and the neighboring buildings to the sides.  The lighting in the image plays a crucial role in creating atmosphere. The buildings are illuminated from within and by external lighting, creating a warm glow that contrasts beautifully with the cool blue tones of the twilight sky. This interplay of warm and cool colors adds depth and drama to the scene.  In the foreground, we can see a portion of what appears to be the Chicago River. The water reflects some of the city lights, adding a shimmer to the lower part of the image and grounding the towering structures above.  The photograph captures a moment of transition in the city - the time between day and night when artificial lights begin to define the urban landscape. This timing emphasizes the building&#x27;s role as a beacon in the cityscape, drawing the eye and serving as a visual anchor for the surrounding area.  The image conveys a sense of Chicago&#x27;s grandeur and historical significance. The Wrigley Building, completed in 1924, stands as a testament to the city&#x27;s economic power and architectural ambition in the early 20th century. Its prominent position and elaborate design speak to its importance as a symbol of Chicago&#x27;s growth and prosperity.  From a technical perspective, the photographer has skillfully balanced the exposure to capture both the bright illumination of the buildings and the deeper tones of the twilight sky. The image appears to be taken with a wide-angle lens to encompass the full height of the building while including contextual elements of the surrounding cityscape.  Overall, this photograph presents a compelling portrait of Chicago&#x27;s architectural heritage, urban beauty, and the magical transformation that occurs as day turns to night in a bustling metropolis. It invites the viewer to appreciate the timeless elegance of classic architecture while also conveying the vibrant, living nature of a modern city.&lt;/div&gt;`)[0];\n",
              "                popup_ce101199b579a9b989948a9f8a34129b.setContent(html_bfbc0c94505b9a429afcc36d4dbe1765);\n",
              "            \n",
              "        \n",
              "\n",
              "        marker_6f56abf82b1941a5f71ca3adc1238ff6.bindPopup(popup_ce101199b579a9b989948a9f8a34129b)\n",
              "        ;\n",
              "\n",
              "        \n",
              "    \n",
              "    \n",
              "            var marker_99b0672d9d01026cc568c5f0960f7932 = L.marker(\n",
              "                [41.94973611111111, -87.65539722222222],\n",
              "                {}\n",
              "            ).addTo(map_8188d4297a140d148f55cadb886de288);\n",
              "        \n",
              "    \n",
              "        var custom_icon_4fb9ea4ada2ecd83ab9f116700eac97c = L.icon({&quot;iconAnchor&quot;: [50, 50], &quot;iconSize&quot;: [100, 100], &quot;iconUrl&quot;: &quot;https://graphlit2024051719fda403.blob.core.windows.net/files/3cb81368-326d-4619-b04b-9b1d119241f2/Image/20170816_214947.jpg?sv=2024-08-04\\u0026se=2024-09-18T03%3A16%3A39Z\\u0026sr=c\\u0026sp=rl\\u0026sig=H4IJhiljNlDFxZMk5INTnjs6ZshsUBSBVcTjxDA40R8%3D&quot;});\n",
              "        marker_99b0672d9d01026cc568c5f0960f7932.setIcon(custom_icon_4fb9ea4ada2ecd83ab9f116700eac97c);\n",
              "        \n",
              "    \n",
              "        var popup_62a826f9c9e1433db14d6601e317d73f = L.popup({&quot;maxWidth&quot;: 400, &quot;minWidth&quot;: 300});\n",
              "\n",
              "        \n",
              "            \n",
              "                var html_7e8886b2c4a21c6daaec54b6b6734de0 = $(`&lt;div id=&quot;html_7e8886b2c4a21c6daaec54b6b6734de0&quot; style=&quot;width: 100.0%; height: 100.0%;&quot;&gt;&lt;b&gt;Address:&lt;/b&gt; 3721 North Kenmore Avenue, Chicago IL&lt;br/&gt;&lt;br/&gt;&lt;b&gt;Description:&lt;/b&gt; This image captures a nighttime baseball game at Wrigley Field, home of the Chicago Cubs. The photograph provides a wide-angle view of the iconic stadium, showcasing the playing field, scoreboard, and packed stands filled with enthusiastic fans.  The focal point of the image is the baseball diamond, brightly lit against the dark night sky. A pitcher can be seen on the mound, with players positioned around the infield and outfield. The crisp, green grass of the field contrasts sharply with the reddish-brown dirt of the base paths and pitcher&#x27;s mound.  Wrigley Field&#x27;s famous manual scoreboard is visible in the left field, its green panels illuminated to display the game&#x27;s current status. On the right side of the image, a large electronic scoreboard shows the Cubs logo and the current score, adding a modern touch to the historic venue.  The stands are filled to capacity, creating a sea of blue-clad fans that surrounds the field. This packed crowd demonstrates the popularity of the game and the passionate fan base of the Chicago Cubs. The energy of the crowd is palpable, even in this still image.  The stadium&#x27;s lighting creates a dramatic effect, with the bright field contrasting against the dark sky above. This lighting not only allows for night games but also adds to the theatrical atmosphere of the event, highlighting the action on the field.  In the foreground, we can see part of the dugout and some players warming up or observing the game. This gives viewers a sense of being close to the action, almost as if they were sitting in premium seats at the stadium.  The image captures the essence of America&#x27;s pastime, showcasing the blend of tradition and modernity in Major League Baseball. Wrigley Field, known for its ivy-covered walls (though not visible in this night shot), represents the sport&#x27;s rich history, while the electronic scoreboard and night game capabilities reflect its evolution.  The composition of the photograph is well-balanced, with the playing field occupying the central portion of the frame. The scoreboard and stands frame the action, drawing the viewer&#x27;s eye to the game in progress. This perspective allows for a comprehensive view of the stadium experience, from the players on the field to the fans in the stands.  Overall, this image encapsulates the excitement and atmosphere of a professional baseball game. It highlights the unique character of Wrigley Field, the enthusiasm of Cubs fans, and the timeless appeal of baseball as a spectator sport. The photograph serves as both a documentation of a specific game and a representation of the broader cultural significance of baseball in American society.&lt;/div&gt;`)[0];\n",
              "                popup_62a826f9c9e1433db14d6601e317d73f.setContent(html_7e8886b2c4a21c6daaec54b6b6734de0);\n",
              "            \n",
              "        \n",
              "\n",
              "        marker_99b0672d9d01026cc568c5f0960f7932.bindPopup(popup_62a826f9c9e1433db14d6601e317d73f)\n",
              "        ;\n",
              "\n",
              "        \n",
              "    \n",
              "    \n",
              "            var marker_3b7c6a3a39b0ced098f7fea5d42e932d = L.marker(\n",
              "                [41.94804722222222, -87.65601388888889],\n",
              "                {}\n",
              "            ).addTo(map_8188d4297a140d148f55cadb886de288);\n",
              "        \n",
              "    \n",
              "        var custom_icon_9e5bbe64a0ababd89c9dc5b72fc81097 = L.icon({&quot;iconAnchor&quot;: [50, 50], &quot;iconSize&quot;: [100, 100], &quot;iconUrl&quot;: &quot;https://graphlit2024051719fda403.blob.core.windows.net/files/d46f3d89-548f-4f28-bcf0-18b38afe4e52/Image/20170816_214950.jpg?sv=2024-08-04\\u0026se=2024-09-18T03%3A16%3A39Z\\u0026sr=c\\u0026sp=rl\\u0026sig=H4IJhiljNlDFxZMk5INTnjs6ZshsUBSBVcTjxDA40R8%3D&quot;});\n",
              "        marker_3b7c6a3a39b0ced098f7fea5d42e932d.setIcon(custom_icon_9e5bbe64a0ababd89c9dc5b72fc81097);\n",
              "        \n",
              "    \n",
              "        var popup_2cd2223ed66a21dab88de8c78f342e19 = L.popup({&quot;maxWidth&quot;: 400, &quot;minWidth&quot;: 300});\n",
              "\n",
              "        \n",
              "            \n",
              "                var html_1f43905886f6218a531c8377111a414f = $(`&lt;div id=&quot;html_1f43905886f6218a531c8377111a414f&quot; style=&quot;width: 100.0%; height: 100.0%;&quot;&gt;&lt;b&gt;Address:&lt;/b&gt; 1060 W Addison St, Chicago IL&lt;br/&gt;&lt;br/&gt;&lt;b&gt;Description:&lt;/b&gt; This image captures a vibrant night scene at a baseball stadium, likely Wrigley Field, home of the Chicago Cubs. The photograph provides a wide-angle view of the field and stands, showcasing the electric atmosphere of a game in progress.  The most prominent feature is the large, illuminated scoreboard in the outfield, displaying game information and a digital screen showing crowd shots. This scoreboard, along with the &#x27;Wintrust&#x27; branding visible, helps identify the venue as Wrigley Field.  The playing field is clearly visible, with the characteristic green grass of the outfield and the brown dirt of the infield. Several players can be seen positioned on the field, indicating an ongoing game. The white foul lines and bases are also discernible, providing structure to the field of play.  The stands are packed with spectators, creating a sea of blue - the signature color of the Chicago Cubs. This dense crowd extends from the lower levels visible in the foreground all the way up to the upper decks, demonstrating the popularity and excitement of the event.  The image is taken at night, evident from the dark sky and the stadium lighting that illuminates the field and stands. This nighttime setting adds to the dramatic and energetic atmosphere of the game, with the bright lights contrasting against the darkness beyond the stadium.  In the foreground, we can see part of the &#x27;Chicago&#x27; signage, further confirming the location. The perspective suggests that this photo was taken from an elevated position, possibly from the upper levels or a press box, providing a comprehensive view of the stadium and the action.  The digital screen on the scoreboard shows what appears to be fans reacting to the game, adding an interactive element to the stadium experience and highlighting the engagement of the crowd with the event.  Beyond the outfield, glimpses of the surrounding neighborhood can be seen, including some buildings and structures that are part of the iconic Wrigleyville area, known for its integration with the stadium and the local community.  The image captures not just a sporting event, but a cultural experience. It showcases the blend of tradition (in the form of the historic Wrigley Field) with modern elements (like the digital scoreboard), illustrating how baseball continues to evolve while maintaining its classic appeal.  Overall, this photograph encapsulates the essence of a major league baseball game - the excitement of the crowd, the intensity of the competition on the field, and the unique atmosphere of a beloved stadium under the lights. It serves as a powerful representation of America&#x27;s pastime and the communal experience of live sports.&lt;/div&gt;`)[0];\n",
              "                popup_2cd2223ed66a21dab88de8c78f342e19.setContent(html_1f43905886f6218a531c8377111a414f);\n",
              "            \n",
              "        \n",
              "\n",
              "        marker_3b7c6a3a39b0ced098f7fea5d42e932d.bindPopup(popup_2cd2223ed66a21dab88de8c78f342e19)\n",
              "        ;\n",
              "\n",
              "        \n",
              "    \n",
              "    \n",
              "            map_8188d4297a140d148f55cadb886de288.fitBounds(\n",
              "                [[41.888625, -87.62307222222222], [41.94973611111111, -87.65539722222222], [41.94804722222222, -87.65601388888889]],\n",
              "                {}\n",
              "            );\n",
              "        \n",
              "&lt;/script&gt;\n",
              "&lt;/html&gt;\" style=\"position:absolute;width:100%;height:100%;left:0;top:0;border:none !important;\" allowfullscreen webkitallowfullscreen mozallowfullscreen></iframe></div></div>"
            ]
          },
          "metadata": {}
        }
      ]
    }
  ]
}