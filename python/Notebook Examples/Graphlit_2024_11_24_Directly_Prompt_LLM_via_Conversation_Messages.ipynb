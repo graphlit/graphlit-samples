{
  "nbformat": 4,
  "nbformat_minor": 0,
  "metadata": {
    "colab": {
      "provenance": [],
      "mount_file_id": "1cSnEIDnT7SYyUpfap5KiK6Y_LWLQdk6s",
      "authorship_tag": "ABX9TyNaAWXJu3rz+ZjqF87d7CGw",
      "include_colab_link": true
    },
    "kernelspec": {
      "name": "python3",
      "display_name": "Python 3"
    },
    "language_info": {
      "name": "python"
    }
  },
  "cells": [
    {
      "cell_type": "markdown",
      "metadata": {
        "id": "view-in-github",
        "colab_type": "text"
      },
      "source": [
        "<a href=\"https://colab.research.google.com/github/graphlit/graphlit-samples/blob/main/python/Notebook%20Examples/Graphlit_2024_11_24_Directly_Prompt_LLM_via_Conversation_Messages.ipynb\" target=\"_parent\"><img src=\"https://colab.research.google.com/assets/colab-badge.svg\" alt=\"Open In Colab\"/></a>"
      ]
    },
    {
      "cell_type": "markdown",
      "source": [
        "**Description**\n",
        "\n",
        "This example shows how to directly prompt an LLM, bypassing RAG content retrieval."
      ],
      "metadata": {
        "id": "pDz1gRPjOtn5"
      }
    },
    {
      "cell_type": "markdown",
      "source": [
        "**Requirements**\n",
        "\n",
        "Prior to running this notebook, you will need to [signup](https://docs.graphlit.dev/getting-started/signup) for Graphlit, and [create a project](https://docs.graphlit.dev/getting-started/create-project).\n",
        "\n",
        "You will need the Graphlit organization ID, preview environment ID and JWT secret from your created project.\n",
        "\n",
        "Assign these properties as Colab secrets: GRAPHLIT_ORGANIZATION_ID, GRAPHLIT_ENVIRONMENT_ID and GRAPHLIT_JWT_SECRET.\n",
        "\n",
        "\n",
        "---"
      ],
      "metadata": {
        "id": "laG2MXUIhNnx"
      }
    },
    {
      "cell_type": "markdown",
      "source": [
        "Install Graphlit Python client SDK"
      ],
      "metadata": {
        "id": "NwRzDHWWienC"
      }
    },
    {
      "cell_type": "code",
      "execution_count": 7,
      "metadata": {
        "id": "fefizrrh4xGD",
        "colab": {
          "base_uri": "https://localhost:8080/"
        },
        "outputId": "d6cdf6a6-9cc2-4296-a331-097fb791a61e"
      },
      "outputs": [
        {
          "output_type": "stream",
          "name": "stdout",
          "text": [
            "Requirement already satisfied: graphlit-client in /usr/local/lib/python3.10/dist-packages (1.0.20241124001)\n",
            "Requirement already satisfied: httpx in /usr/local/lib/python3.10/dist-packages (from graphlit-client) (0.27.2)\n",
            "Requirement already satisfied: pydantic<3.0.0,>=2.0.0 in /usr/local/lib/python3.10/dist-packages (from graphlit-client) (2.9.2)\n",
            "Requirement already satisfied: PyJWT in /usr/local/lib/python3.10/dist-packages (from graphlit-client) (2.10.0)\n",
            "Requirement already satisfied: websockets in /usr/local/lib/python3.10/dist-packages (from graphlit-client) (14.1)\n",
            "Requirement already satisfied: annotated-types>=0.6.0 in /usr/local/lib/python3.10/dist-packages (from pydantic<3.0.0,>=2.0.0->graphlit-client) (0.7.0)\n",
            "Requirement already satisfied: pydantic-core==2.23.4 in /usr/local/lib/python3.10/dist-packages (from pydantic<3.0.0,>=2.0.0->graphlit-client) (2.23.4)\n",
            "Requirement already satisfied: typing-extensions>=4.6.1 in /usr/local/lib/python3.10/dist-packages (from pydantic<3.0.0,>=2.0.0->graphlit-client) (4.12.2)\n",
            "Requirement already satisfied: anyio in /usr/local/lib/python3.10/dist-packages (from httpx->graphlit-client) (3.7.1)\n",
            "Requirement already satisfied: certifi in /usr/local/lib/python3.10/dist-packages (from httpx->graphlit-client) (2024.8.30)\n",
            "Requirement already satisfied: httpcore==1.* in /usr/local/lib/python3.10/dist-packages (from httpx->graphlit-client) (1.0.7)\n",
            "Requirement already satisfied: idna in /usr/local/lib/python3.10/dist-packages (from httpx->graphlit-client) (3.10)\n",
            "Requirement already satisfied: sniffio in /usr/local/lib/python3.10/dist-packages (from httpx->graphlit-client) (1.3.1)\n",
            "Requirement already satisfied: h11<0.15,>=0.13 in /usr/local/lib/python3.10/dist-packages (from httpcore==1.*->httpx->graphlit-client) (0.14.0)\n",
            "Requirement already satisfied: exceptiongroup in /usr/local/lib/python3.10/dist-packages (from anyio->httpx->graphlit-client) (1.2.2)\n"
          ]
        }
      ],
      "source": [
        "!pip install --upgrade graphlit-client"
      ]
    },
    {
      "cell_type": "markdown",
      "source": [
        "Initialize Graphlit"
      ],
      "metadata": {
        "id": "abV1114jL-bR"
      }
    },
    {
      "cell_type": "code",
      "source": [
        "import os\n",
        "from google.colab import userdata\n",
        "from graphlit import Graphlit\n",
        "from graphlit_api import input_types, enums, exceptions\n",
        "\n",
        "os.environ['GRAPHLIT_ORGANIZATION_ID'] = userdata.get('GRAPHLIT_ORGANIZATION_ID')\n",
        "os.environ['GRAPHLIT_ENVIRONMENT_ID'] = userdata.get('GRAPHLIT_ENVIRONMENT_ID')\n",
        "os.environ['GRAPHLIT_JWT_SECRET'] = userdata.get('GRAPHLIT_JWT_SECRET')\n",
        "\n",
        "graphlit = Graphlit()"
      ],
      "metadata": {
        "id": "WoMAWD4LLP_q"
      },
      "execution_count": 8,
      "outputs": []
    },
    {
      "cell_type": "markdown",
      "source": [
        "Define Graphlit helper functions"
      ],
      "metadata": {
        "id": "pgRX57EHMVfl"
      }
    },
    {
      "cell_type": "code",
      "source": [
        "from typing import List, Optional\n",
        "\n",
        "async def create_openai_specification(model: enums.OpenAIModels):\n",
        "    if graphlit.client is None:\n",
        "        return;\n",
        "\n",
        "    input = input_types.SpecificationInput(\n",
        "        name=f\"OpenAI [{str(model)}]\",\n",
        "        type=enums.SpecificationTypes.COMPLETION,\n",
        "        serviceType=enums.ModelServiceTypes.OPEN_AI,\n",
        "        openAI=input_types.OpenAIModelPropertiesInput(\n",
        "            model=model,\n",
        "        )\n",
        "    )\n",
        "\n",
        "    try:\n",
        "        response = await graphlit.client.create_specification(input)\n",
        "\n",
        "        return response.create_specification.id if response.create_specification is not None else None\n",
        "    except exceptions.GraphQLClientError as e:\n",
        "        print(str(e))\n",
        "        return None\n",
        "\n",
        "    return None\n",
        "\n",
        "async def prompt(prompt: str, specification_id: str, messages: Optional[List[input_types.ConversationMessageInput]] = None):\n",
        "    if graphlit.client is None:\n",
        "        return;\n",
        "\n",
        "    try:\n",
        "        response = await graphlit.client.prompt(prompt=prompt, specification=input_types.EntityReferenceInput(id=specification_id), messages=messages)\n",
        "\n",
        "        return response.prompt.messages if response.prompt is not None and response.prompt.messages is not None else None\n",
        "    except exceptions.GraphQLClientError as e:\n",
        "        print(str(e))\n",
        "        return None\n",
        "\n",
        "async def delete_all_specifications():\n",
        "    if graphlit.client is None:\n",
        "        return;\n",
        "\n",
        "    _ = await graphlit.client.delete_all_specifications(is_synchronous=True)\n"
      ],
      "metadata": {
        "id": "mtwjJsvVOVCh"
      },
      "execution_count": 9,
      "outputs": []
    },
    {
      "cell_type": "markdown",
      "source": [
        "Execute Graphlit example"
      ],
      "metadata": {
        "id": "srzhQt4COLVI"
      }
    },
    {
      "cell_type": "code",
      "source": [
        "from IPython.display import display, Markdown, HTML\n",
        "import time\n",
        "\n",
        "# Remove any existing specifications; only needed for notebook example\n",
        "await delete_all_specifications()\n",
        "\n",
        "print('Deleted all specifications.')\n"
      ],
      "metadata": {
        "id": "fOb6COcONZIJ",
        "colab": {
          "base_uri": "https://localhost:8080/"
        },
        "outputId": "371600fe-f0da-4235-d782-84710975ed22"
      },
      "execution_count": 10,
      "outputs": [
        {
          "output_type": "stream",
          "name": "stdout",
          "text": [
            "Deleted all specifications.\n"
          ]
        }
      ]
    },
    {
      "cell_type": "markdown",
      "source": [
        "Create OpenAI GPT-4o specification."
      ],
      "metadata": {
        "id": "4snKjK2ycVKw"
      }
    },
    {
      "cell_type": "code",
      "source": [
        "messages = None\n",
        "\n",
        "specification_id = await create_openai_specification(enums.OpenAIModels.GPT4O_128K)\n",
        "\n",
        "if specification_id is not None:\n",
        "    print(f'Created specification [{specification_id}].')\n",
        "\n",
        "    user_prompt = \"Discuss the history of hockey.\"\n",
        "\n",
        "    messages = await prompt(user_prompt, specification_id)\n",
        "\n",
        "    if messages is not None:\n",
        "        display(Markdown('### Conversation:'))\n",
        "\n",
        "        for message in messages:\n",
        "            if message is not None:\n",
        "                display(Markdown(f'**{message.role}:**\\n{message.message}'))\n",
        "\n",
        "                if message.role == enums.ConversationRoleTypes.ASSISTANT:\n",
        "                    print()\n",
        "\n",
        "        print()"
      ],
      "metadata": {
        "colab": {
          "base_uri": "https://localhost:8080/",
          "height": 777
        },
        "id": "L5AHVoKocVmD",
        "outputId": "37fca246-51b6-47ac-d045-0ac39878a6cc"
      },
      "execution_count": 11,
      "outputs": [
        {
          "output_type": "stream",
          "name": "stdout",
          "text": [
            "Created specification [733c3bc4-f863-4547-96d2-fee788325134].\n"
          ]
        },
        {
          "output_type": "display_data",
          "data": {
            "text/plain": [
              "<IPython.core.display.Markdown object>"
            ],
            "text/markdown": "### Conversation:"
          },
          "metadata": {}
        },
        {
          "output_type": "display_data",
          "data": {
            "text/plain": [
              "<IPython.core.display.Markdown object>"
            ],
            "text/markdown": "**USER:**\nDiscuss the history of hockey."
          },
          "metadata": {}
        },
        {
          "output_type": "display_data",
          "data": {
            "text/plain": [
              "<IPython.core.display.Markdown object>"
            ],
            "text/markdown": "**ASSISTANT:**\nHockey is a sport with a rich and varied history, evolving over centuries into the modern game we know today. Its origins can be traced back to ancient civilizations, where games involving sticks and balls were played. Here’s a brief overview of the history of hockey:\n\n### Ancient and Medieval Origins\n- **Ancient Games**: Games resembling hockey have been played for thousands of years. Evidence suggests that ancient Egyptians, Greeks, and Romans played stick-and-ball games. In particular, a game called \"hurling\" was played in Ireland, and \"shinty\" in Scotland, both of which are considered precursors to modern hockey.\n- **Medieval Europe**: During the Middle Ages, various stick-and-ball games were played across Europe. These games were often played on fields and involved teams trying to hit a ball into a goal.\n\n### Development of Modern Hockey\n- **Field Hockey**: The modern form of field hockey began to take shape in England in the 18th and 19th centuries. The first formal set of rules was established in the mid-19th century, and the first hockey club, Blackheath Hockey Club, was founded in 1861. The sport spread throughout the British Empire, gaining popularity in countries like India and Australia.\n- **Ice Hockey**: Ice hockey is believed to have developed in Canada in the 19th century, influenced by various stick-and-ball games brought by European immigrants. The first recorded indoor ice hockey game took place in Montreal in 1875. The sport quickly gained popularity, leading to the formation of amateur clubs and leagues.\n\n### Professionalization and Global Spread\n- **National Hockey League (NHL)**: The NHL was founded in 1917 in Montreal, Canada, and has since become the premier professional ice hockey league in the world. It began with just a few teams and has expanded significantly over the years.\n- **International Competitions**: Ice hockey became an Olympic sport in 1920, and the International Ice Hockey Federation (IIHF) was established to govern the sport globally. Field hockey was included in the Olympics in 1908 for men and 1980 for women.\n\n### Modern Era\n- **Field Hockey**: Today, field hockey is played worldwide, with significant followings in Europe, Asia, Africa, and Oceania. The Hockey World Cup and the Olympic Games are the sport's most prestigious tournaments.\n- **Ice Hockey**: Ice hockey remains extremely popular in North America and Europe, with the NHL being the most prominent league. The sport is also played at various levels, from amateur to professional, and is a staple of the Winter Olympics.\n\n### Cultural Impact\nHockey, both field and ice, has had a significant cultural impact, particularly in countries where it is a major sport. It has inspired countless players and fans and has become an integral part of national identities, especially in countries like Canada, where ice hockey is considered a national pastime.\n\nOverall, hockey's history is a testament to its enduring appeal and adaptability, evolving from ancient games to a modern sport enjoyed by millions around the world."
          },
          "metadata": {}
        },
        {
          "output_type": "stream",
          "name": "stdout",
          "text": [
            "\n",
            "\n"
          ]
        }
      ]
    },
    {
      "cell_type": "code",
      "source": [
        "        input_messages = [\n",
        "            input_types.ConversationMessageInput(message=message.message, role=message.role)\n",
        "            for message in messages if message is not None and message.message is not None\n",
        "        ]\n",
        "\n",
        "        user_prompt = \"Great, but focus specifically on the history of hockey in Canada.\"\n",
        "\n",
        "        messages = await prompt(user_prompt, specification_id, input_messages)\n",
        "\n",
        "        if messages is not None:\n",
        "            display(Markdown('### Conversation:'))\n",
        "\n",
        "            for message in messages:\n",
        "                if message is not None:\n",
        "                    display(Markdown(f'**{message.role}:**\\n{message.message}'))\n",
        "\n",
        "                    if message.role == enums.ConversationRoleTypes.ASSISTANT:\n",
        "                        print()\n",
        "\n",
        "            print()"
      ],
      "metadata": {
        "colab": {
          "base_uri": "https://localhost:8080/",
          "height": 1000
        },
        "id": "iDAUPFz09-P7",
        "outputId": "e3a3c63e-18aa-4e62-95ac-7de495b061df"
      },
      "execution_count": 12,
      "outputs": [
        {
          "output_type": "display_data",
          "data": {
            "text/plain": [
              "<IPython.core.display.Markdown object>"
            ],
            "text/markdown": "### Conversation:"
          },
          "metadata": {}
        },
        {
          "output_type": "display_data",
          "data": {
            "text/plain": [
              "<IPython.core.display.Markdown object>"
            ],
            "text/markdown": "**USER:**\nDiscuss the history of hockey."
          },
          "metadata": {}
        },
        {
          "output_type": "display_data",
          "data": {
            "text/plain": [
              "<IPython.core.display.Markdown object>"
            ],
            "text/markdown": "**ASSISTANT:**\nHockey is a sport with a rich and varied history, evolving over centuries into the modern game we know today. Its origins can be traced back to ancient civilizations, where games involving sticks and balls were played. Here’s a brief overview of the history of hockey:\n\n### Ancient and Medieval Origins\n- **Ancient Games**: Games resembling hockey have been played for thousands of years. Evidence suggests that ancient Egyptians, Greeks, and Romans played stick-and-ball games. In particular, a game called \"hurling\" was played in Ireland, and \"shinty\" in Scotland, both of which are considered precursors to modern hockey.\n- **Medieval Europe**: During the Middle Ages, various stick-and-ball games were played across Europe. These games were often played on fields and involved teams trying to hit a ball into a goal.\n\n### Development of Modern Hockey\n- **Field Hockey**: The modern form of field hockey began to take shape in England in the 18th and 19th centuries. The first formal set of rules was established in the mid-19th century, and the first hockey club, Blackheath Hockey Club, was founded in 1861. The sport spread throughout the British Empire, gaining popularity in countries like India and Australia.\n- **Ice Hockey**: Ice hockey is believed to have developed in Canada in the 19th century, influenced by various stick-and-ball games brought by European immigrants. The first recorded indoor ice hockey game took place in Montreal in 1875. The sport quickly gained popularity, leading to the formation of amateur clubs and leagues.\n\n### Professionalization and Global Spread\n- **National Hockey League (NHL)**: The NHL was founded in 1917 in Montreal, Canada, and has since become the premier professional ice hockey league in the world. It began with just a few teams and has expanded significantly over the years.\n- **International Competitions**: Ice hockey became an Olympic sport in 1920, and the International Ice Hockey Federation (IIHF) was established to govern the sport globally. Field hockey was included in the Olympics in 1908 for men and 1980 for women.\n\n### Modern Era\n- **Field Hockey**: Today, field hockey is played worldwide, with significant followings in Europe, Asia, Africa, and Oceania. The Hockey World Cup and the Olympic Games are the sport's most prestigious tournaments.\n- **Ice Hockey**: Ice hockey remains extremely popular in North America and Europe, with the NHL being the most prominent league. The sport is also played at various levels, from amateur to professional, and is a staple of the Winter Olympics.\n\n### Cultural Impact\nHockey, both field and ice, has had a significant cultural impact, particularly in countries where it is a major sport. It has inspired countless players and fans and has become an integral part of national identities, especially in countries like Canada, where ice hockey is considered a national pastime.\n\nOverall, hockey's history is a testament to its enduring appeal and adaptability, evolving from ancient games to a modern sport enjoyed by millions around the world."
          },
          "metadata": {}
        },
        {
          "output_type": "stream",
          "name": "stdout",
          "text": [
            "\n"
          ]
        },
        {
          "output_type": "display_data",
          "data": {
            "text/plain": [
              "<IPython.core.display.Markdown object>"
            ],
            "text/markdown": "**USER:**\nGreat, but focus specifically on the history of hockey in Canada."
          },
          "metadata": {}
        },
        {
          "output_type": "display_data",
          "data": {
            "text/plain": [
              "<IPython.core.display.Markdown object>"
            ],
            "text/markdown": "**ASSISTANT:**\nHockey holds a special place in Canadian culture and history, often considered the country's national sport and a key part of its identity. Here's a detailed look at the history of hockey in Canada:\n\n### Early Beginnings\n- **Indigenous Influence**: Indigenous peoples in Canada played a variety of stick-and-ball games long before European settlers arrived. These games, such as \"shinny,\" are believed to have influenced the development of ice hockey.\n- **European Settlers**: European immigrants brought their own stick-and-ball games to Canada, which evolved into ice hockey. The harsh Canadian winters provided the perfect conditions for playing on frozen ponds and lakes.\n\n### Formalization of the Game\n- **First Recorded Game**: The first recorded indoor ice hockey game took place on March 3, 1875, at the Victoria Skating Rink in Montreal. This game is often cited as the beginning of organized ice hockey in Canada.\n- **McGill University**: In 1877, students at McGill University in Montreal codified the first set of ice hockey rules, which laid the foundation for the modern game.\n\n### Growth and Popularity\n- **Stanley Cup**: In 1893, Lord Stanley of Preston, the Governor General of Canada, donated a trophy to be awarded to the best amateur hockey team in Canada. The Stanley Cup has since become the most prestigious trophy in professional ice hockey.\n- **Amateur Leagues**: The late 19th and early 20th centuries saw the formation of numerous amateur leagues across Canada, including the Ontario Hockey Association and the Manitoba Hockey Association.\n\n### Professionalization\n- **National Hockey Association (NHA)**: Founded in 1909, the NHA was one of the first professional hockey leagues in Canada. It eventually evolved into the National Hockey League (NHL) in 1917.\n- **NHL Expansion**: The NHL began with four Canadian teams and has since expanded to include teams from both Canada and the United States. Canadian teams like the Montreal Canadiens and Toronto Maple Leafs have become iconic franchises.\n\n### International Success\n- **Olympic and World Championships**: Canada has a storied history in international hockey, winning numerous Olympic gold medals and World Championships. The country's dominance in the sport has helped solidify its reputation as a hockey powerhouse.\n- **Summit Series**: The 1972 Summit Series between Canada and the Soviet Union was a defining moment in Canadian hockey history, showcasing the country's talent and passion for the sport.\n\n### Cultural Impact\n- **National Identity**: Hockey is deeply ingrained in Canadian culture, often seen as a symbol of national pride and unity. It is played at all levels, from youth leagues to professional teams, and is a common pastime for many Canadians.\n- **Cultural References**: Hockey has been featured in Canadian literature, film, and music, further embedding it in the national consciousness. Iconic moments and players are celebrated and remembered as part of the country's heritage.\n\n### Modern Era\n- **Grassroots Development**: Hockey Canada, the governing body for the sport in the country, has focused on developing the game at the grassroots level, ensuring that it remains accessible to all Canadians.\n- **Women's Hockey**: Women's hockey has grown significantly in Canada, with the national team achieving great success on the international stage, including multiple Olympic gold medals.\n\nIn summary, hockey in Canada is more than just a sport; it is a vital part of the nation's history and cultural fabric. From its early beginnings to its current status as a global leader in the sport, hockey continues to be a source of pride and passion for Canadians."
          },
          "metadata": {}
        },
        {
          "output_type": "stream",
          "name": "stdout",
          "text": [
            "\n",
            "\n"
          ]
        }
      ]
    },
    {
      "cell_type": "code",
      "source": [
        "            input_messages = [\n",
        "                input_types.ConversationMessageInput(message=message.message, role=message.role)\n",
        "                for message in messages if message is not None and message.message is not None\n",
        "            ]\n",
        "\n",
        "            user_prompt = \"Nice, but focus specifically on only the history of Women's Hockey.\"\n",
        "\n",
        "            messages = await prompt(user_prompt, specification_id, input_messages)\n",
        "\n",
        "            if messages is not None:\n",
        "                display(Markdown('### Conversation:'))\n",
        "\n",
        "                for message in messages:\n",
        "                    if message is not None:\n",
        "                        display(Markdown(f'**{message.role}:**\\n{message.message}'))\n",
        "\n",
        "                        if message.role == enums.ConversationRoleTypes.ASSISTANT:\n",
        "                            print()\n"
      ],
      "metadata": {
        "colab": {
          "base_uri": "https://localhost:8080/",
          "height": 1000
        },
        "id": "nG_gDgBs_HD7",
        "outputId": "c8f37f27-0cc2-4b6c-8c3b-41f9495069fa"
      },
      "execution_count": 13,
      "outputs": [
        {
          "output_type": "display_data",
          "data": {
            "text/plain": [
              "<IPython.core.display.Markdown object>"
            ],
            "text/markdown": "### Conversation:"
          },
          "metadata": {}
        },
        {
          "output_type": "display_data",
          "data": {
            "text/plain": [
              "<IPython.core.display.Markdown object>"
            ],
            "text/markdown": "**USER:**\nDiscuss the history of hockey."
          },
          "metadata": {}
        },
        {
          "output_type": "display_data",
          "data": {
            "text/plain": [
              "<IPython.core.display.Markdown object>"
            ],
            "text/markdown": "**ASSISTANT:**\nHockey is a sport with a rich and varied history, evolving over centuries into the modern game we know today. Its origins can be traced back to ancient civilizations, where games involving sticks and balls were played. Here’s a brief overview of the history of hockey:\n\n### Ancient and Medieval Origins\n- **Ancient Games**: Games resembling hockey have been played for thousands of years. Evidence suggests that ancient Egyptians, Greeks, and Romans played stick-and-ball games. In particular, a game called \"hurling\" was played in Ireland, and \"shinty\" in Scotland, both of which are considered precursors to modern hockey.\n- **Medieval Europe**: During the Middle Ages, various stick-and-ball games were played across Europe. These games were often played on fields and involved teams trying to hit a ball into a goal.\n\n### Development of Modern Hockey\n- **Field Hockey**: The modern form of field hockey began to take shape in England in the 18th and 19th centuries. The first formal set of rules was established in the mid-19th century, and the first hockey club, Blackheath Hockey Club, was founded in 1861. The sport spread throughout the British Empire, gaining popularity in countries like India and Australia.\n- **Ice Hockey**: Ice hockey is believed to have developed in Canada in the 19th century, influenced by various stick-and-ball games brought by European immigrants. The first recorded indoor ice hockey game took place in Montreal in 1875. The sport quickly gained popularity, leading to the formation of amateur clubs and leagues.\n\n### Professionalization and Global Spread\n- **National Hockey League (NHL)**: The NHL was founded in 1917 in Montreal, Canada, and has since become the premier professional ice hockey league in the world. It began with just a few teams and has expanded significantly over the years.\n- **International Competitions**: Ice hockey became an Olympic sport in 1920, and the International Ice Hockey Federation (IIHF) was established to govern the sport globally. Field hockey was included in the Olympics in 1908 for men and 1980 for women.\n\n### Modern Era\n- **Field Hockey**: Today, field hockey is played worldwide, with significant followings in Europe, Asia, Africa, and Oceania. The Hockey World Cup and the Olympic Games are the sport's most prestigious tournaments.\n- **Ice Hockey**: Ice hockey remains extremely popular in North America and Europe, with the NHL being the most prominent league. The sport is also played at various levels, from amateur to professional, and is a staple of the Winter Olympics.\n\n### Cultural Impact\nHockey, both field and ice, has had a significant cultural impact, particularly in countries where it is a major sport. It has inspired countless players and fans and has become an integral part of national identities, especially in countries like Canada, where ice hockey is considered a national pastime.\n\nOverall, hockey's history is a testament to its enduring appeal and adaptability, evolving from ancient games to a modern sport enjoyed by millions around the world."
          },
          "metadata": {}
        },
        {
          "output_type": "stream",
          "name": "stdout",
          "text": [
            "\n"
          ]
        },
        {
          "output_type": "display_data",
          "data": {
            "text/plain": [
              "<IPython.core.display.Markdown object>"
            ],
            "text/markdown": "**USER:**\nGreat, but focus specifically on the history of hockey in Canada."
          },
          "metadata": {}
        },
        {
          "output_type": "display_data",
          "data": {
            "text/plain": [
              "<IPython.core.display.Markdown object>"
            ],
            "text/markdown": "**ASSISTANT:**\nHockey holds a special place in Canadian culture and history, often considered the country's national sport and a key part of its identity. Here's a detailed look at the history of hockey in Canada:\n\n### Early Beginnings\n- **Indigenous Influence**: Indigenous peoples in Canada played a variety of stick-and-ball games long before European settlers arrived. These games, such as \"shinny,\" are believed to have influenced the development of ice hockey.\n- **European Settlers**: European immigrants brought their own stick-and-ball games to Canada, which evolved into ice hockey. The harsh Canadian winters provided the perfect conditions for playing on frozen ponds and lakes.\n\n### Formalization of the Game\n- **First Recorded Game**: The first recorded indoor ice hockey game took place on March 3, 1875, at the Victoria Skating Rink in Montreal. This game is often cited as the beginning of organized ice hockey in Canada.\n- **McGill University**: In 1877, students at McGill University in Montreal codified the first set of ice hockey rules, which laid the foundation for the modern game.\n\n### Growth and Popularity\n- **Stanley Cup**: In 1893, Lord Stanley of Preston, the Governor General of Canada, donated a trophy to be awarded to the best amateur hockey team in Canada. The Stanley Cup has since become the most prestigious trophy in professional ice hockey.\n- **Amateur Leagues**: The late 19th and early 20th centuries saw the formation of numerous amateur leagues across Canada, including the Ontario Hockey Association and the Manitoba Hockey Association.\n\n### Professionalization\n- **National Hockey Association (NHA)**: Founded in 1909, the NHA was one of the first professional hockey leagues in Canada. It eventually evolved into the National Hockey League (NHL) in 1917.\n- **NHL Expansion**: The NHL began with four Canadian teams and has since expanded to include teams from both Canada and the United States. Canadian teams like the Montreal Canadiens and Toronto Maple Leafs have become iconic franchises.\n\n### International Success\n- **Olympic and World Championships**: Canada has a storied history in international hockey, winning numerous Olympic gold medals and World Championships. The country's dominance in the sport has helped solidify its reputation as a hockey powerhouse.\n- **Summit Series**: The 1972 Summit Series between Canada and the Soviet Union was a defining moment in Canadian hockey history, showcasing the country's talent and passion for the sport.\n\n### Cultural Impact\n- **National Identity**: Hockey is deeply ingrained in Canadian culture, often seen as a symbol of national pride and unity. It is played at all levels, from youth leagues to professional teams, and is a common pastime for many Canadians.\n- **Cultural References**: Hockey has been featured in Canadian literature, film, and music, further embedding it in the national consciousness. Iconic moments and players are celebrated and remembered as part of the country's heritage.\n\n### Modern Era\n- **Grassroots Development**: Hockey Canada, the governing body for the sport in the country, has focused on developing the game at the grassroots level, ensuring that it remains accessible to all Canadians.\n- **Women's Hockey**: Women's hockey has grown significantly in Canada, with the national team achieving great success on the international stage, including multiple Olympic gold medals.\n\nIn summary, hockey in Canada is more than just a sport; it is a vital part of the nation's history and cultural fabric. From its early beginnings to its current status as a global leader in the sport, hockey continues to be a source of pride and passion for Canadians."
          },
          "metadata": {}
        },
        {
          "output_type": "stream",
          "name": "stdout",
          "text": [
            "\n"
          ]
        },
        {
          "output_type": "display_data",
          "data": {
            "text/plain": [
              "<IPython.core.display.Markdown object>"
            ],
            "text/markdown": "**USER:**\nNice, but focus specifically on only the history of Women's Hockey."
          },
          "metadata": {}
        },
        {
          "output_type": "display_data",
          "data": {
            "text/plain": [
              "<IPython.core.display.Markdown object>"
            ],
            "text/markdown": "**ASSISTANT:**\nThe history of women's hockey in Canada is a story of perseverance, growth, and success, reflecting broader social changes and the increasing opportunities for women in sports. Here’s an overview of the development of women’s hockey in Canada:\n\n### Early Beginnings\n- **19th Century**: The first recorded women's ice hockey game in Canada took place in 1892 in Barrie, Ontario. During this period, women began forming informal teams and playing games, often at local carnivals and winter festivals.\n- **Early 20th Century**: By the early 1900s, women's hockey was gaining popularity, with teams forming in cities like Ottawa, Toronto, and Montreal. However, opportunities were limited, and the sport was often seen as a novelty.\n\n### Growth and Challenges\n- **1920s and 1930s**: Women's hockey continued to grow, with more teams and leagues forming across Canada. The Preston Rivulettes, one of the most successful teams of the era, dominated the sport, winning numerous championships.\n- **World War II**: The war years saw a decline in women's hockey as many players contributed to the war effort, and resources were diverted to the conflict.\n\n### Post-War Resurgence\n- **1950s and 1960s**: After World War II, women's hockey experienced a resurgence, with more organized leagues and competitions. However, the sport still faced significant challenges, including limited funding and support.\n- **1970s**: The women's liberation movement and increased advocacy for gender equality led to greater opportunities for women in sports, including hockey. This period saw the formation of more teams and leagues, as well as increased media attention.\n\n### Formalization and Recognition\n- **1980s**: The Ontario Women's Hockey Association (OWHA) was established in 1975, providing a more structured framework for the sport. The first national women's hockey championship was held in 1982, marking a significant milestone.\n- **International Competition**: In 1990, the first IIHF Women's World Championship was held in Ottawa, Canada, with the Canadian team winning the gold medal. This event helped raise the profile of women's hockey on the international stage.\n\n### Olympic Inclusion and Success\n- **1998 Nagano Olympics**: Women's ice hockey was included in the Winter Olympics for the first time in 1998. The Canadian team won a silver medal, losing to the United States in the final.\n- **2002 Salt Lake City Olympics and Beyond**: Canada won its first Olympic gold medal in women's hockey in 2002, defeating the United States. The Canadian women's team has since become a dominant force, winning multiple Olympic gold medals and World Championships.\n\n### Modern Era and Professionalization\n- **Professional Leagues**: The creation of professional leagues, such as the Canadian Women's Hockey League (CWHL) in 2007, provided more opportunities for women to play at a high level. Although the CWHL ceased operations in 2019, efforts continue to establish a sustainable professional league for women.\n- **Visibility and Advocacy**: Women's hockey has gained increased visibility, with players advocating for better support, pay, and opportunities. Initiatives like the Professional Women's Hockey Players Association (PWHPA) aim to promote and develop the sport further.\n\n### Cultural Impact\n- **Role Models and Inspiration**: Canadian women's hockey players, such as Hayley Wickenheiser, Marie-Philip Poulin, and Manon Rhéaume, have become role models and trailblazers, inspiring future generations of female athletes.\n- **Community and Grassroots Development**: Efforts to grow the sport at the grassroots level have led to increased participation among young girls, ensuring a bright future for women's hockey in Canada.\n\nIn summary, the history of women's hockey in Canada is marked by significant achievements and ongoing challenges. The sport has grown from its humble beginnings to become a source of national pride, with Canadian women leading the way on the international stage."
          },
          "metadata": {}
        },
        {
          "output_type": "stream",
          "name": "stdout",
          "text": [
            "\n"
          ]
        }
      ]
    }
  ]
}