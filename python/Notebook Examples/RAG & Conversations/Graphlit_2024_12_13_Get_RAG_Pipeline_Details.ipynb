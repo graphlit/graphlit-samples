{
  "nbformat": 4,
  "nbformat_minor": 0,
  "metadata": {
    "colab": {
      "provenance": [],
      "mount_file_id": "1cSnEIDnT7SYyUpfap5KiK6Y_LWLQdk6s",
      "authorship_tag": "ABX9TyNOq6FPsdGnvviCgqgF5Gzx",
      "include_colab_link": true
    },
    "kernelspec": {
      "name": "python3",
      "display_name": "Python 3"
    },
    "language_info": {
      "name": "python"
    }
  },
  "cells": [
    {
      "cell_type": "markdown",
      "metadata": {
        "id": "view-in-github",
        "colab_type": "text"
      },
      "source": [
        "<a href=\"https://colab.research.google.com/github/graphlit/graphlit-samples/blob/main/python/Notebook%20Examples/Graphlit_2024_12_13_Get_RAG_Pipeline_Details.ipynb\" target=\"_parent\"><img src=\"https://colab.research.google.com/assets/colab-badge.svg\" alt=\"Open In Colab\"/></a>"
      ]
    },
    {
      "cell_type": "markdown",
      "source": [
        "**Description**\n",
        "\n",
        "This example shows how to get low-level details from your RAG pipeline."
      ],
      "metadata": {
        "id": "pDz1gRPjOtn5"
      }
    },
    {
      "cell_type": "markdown",
      "source": [
        "**Requirements**\n",
        "\n",
        "Prior to running this notebook, you will need to [signup](https://docs.graphlit.dev/getting-started/signup) for Graphlit, and [create a project](https://docs.graphlit.dev/getting-started/create-project).\n",
        "\n",
        "You will need the Graphlit organization ID, preview environment ID and JWT secret from your created project.\n",
        "\n",
        "Assign these properties as Colab secrets: GRAPHLIT_ORGANIZATION_ID, GRAPHLIT_ENVIRONMENT_ID and GRAPHLIT_JWT_SECRET.\n",
        "\n",
        "\n",
        "---"
      ],
      "metadata": {
        "id": "laG2MXUIhNnx"
      }
    },
    {
      "cell_type": "markdown",
      "source": [
        "Install Graphlit Python client SDK"
      ],
      "metadata": {
        "id": "NwRzDHWWienC"
      }
    },
    {
      "cell_type": "code",
      "execution_count": null,
      "metadata": {
        "id": "fefizrrh4xGD",
        "colab": {
          "base_uri": "https://localhost:8080/"
        },
        "outputId": "c550ef53-bee7-48dd-a167-e1226913560e"
      },
      "outputs": [
        {
          "output_type": "stream",
          "name": "stdout",
          "text": [
            "Requirement already satisfied: graphlit-client in /usr/local/lib/python3.10/dist-packages (1.0.20241213001)\n",
            "Requirement already satisfied: httpx in /usr/local/lib/python3.10/dist-packages (from graphlit-client) (0.28.1)\n",
            "Requirement already satisfied: pydantic<3.0.0,>=2.0.0 in /usr/local/lib/python3.10/dist-packages (from graphlit-client) (2.10.3)\n",
            "Requirement already satisfied: PyJWT in /usr/local/lib/python3.10/dist-packages (from graphlit-client) (2.10.1)\n",
            "Requirement already satisfied: websockets in /usr/local/lib/python3.10/dist-packages (from graphlit-client) (14.1)\n",
            "Requirement already satisfied: annotated-types>=0.6.0 in /usr/local/lib/python3.10/dist-packages (from pydantic<3.0.0,>=2.0.0->graphlit-client) (0.7.0)\n",
            "Requirement already satisfied: pydantic-core==2.27.1 in /usr/local/lib/python3.10/dist-packages (from pydantic<3.0.0,>=2.0.0->graphlit-client) (2.27.1)\n",
            "Requirement already satisfied: typing-extensions>=4.12.2 in /usr/local/lib/python3.10/dist-packages (from pydantic<3.0.0,>=2.0.0->graphlit-client) (4.12.2)\n",
            "Requirement already satisfied: anyio in /usr/local/lib/python3.10/dist-packages (from httpx->graphlit-client) (3.7.1)\n",
            "Requirement already satisfied: certifi in /usr/local/lib/python3.10/dist-packages (from httpx->graphlit-client) (2024.8.30)\n",
            "Requirement already satisfied: httpcore==1.* in /usr/local/lib/python3.10/dist-packages (from httpx->graphlit-client) (1.0.7)\n",
            "Requirement already satisfied: idna in /usr/local/lib/python3.10/dist-packages (from httpx->graphlit-client) (3.10)\n",
            "Requirement already satisfied: h11<0.15,>=0.13 in /usr/local/lib/python3.10/dist-packages (from httpcore==1.*->httpx->graphlit-client) (0.14.0)\n",
            "Requirement already satisfied: sniffio>=1.1 in /usr/local/lib/python3.10/dist-packages (from anyio->httpx->graphlit-client) (1.3.1)\n",
            "Requirement already satisfied: exceptiongroup in /usr/local/lib/python3.10/dist-packages (from anyio->httpx->graphlit-client) (1.2.2)\n"
          ]
        }
      ],
      "source": [
        "!pip install --upgrade graphlit-client"
      ]
    },
    {
      "cell_type": "markdown",
      "source": [
        "Initialize Graphlit"
      ],
      "metadata": {
        "id": "abV1114jL-bR"
      }
    },
    {
      "cell_type": "code",
      "source": [
        "import os\n",
        "from google.colab import userdata\n",
        "from graphlit import Graphlit\n",
        "from graphlit_api import input_types, enums, exceptions\n",
        "\n",
        "os.environ['GRAPHLIT_ORGANIZATION_ID'] = userdata.get('GRAPHLIT_ORGANIZATION_ID')\n",
        "os.environ['GRAPHLIT_ENVIRONMENT_ID'] = userdata.get('GRAPHLIT_ENVIRONMENT_ID')\n",
        "os.environ['GRAPHLIT_JWT_SECRET'] = userdata.get('GRAPHLIT_JWT_SECRET')\n",
        "\n",
        "graphlit = Graphlit()"
      ],
      "metadata": {
        "id": "WoMAWD4LLP_q"
      },
      "execution_count": null,
      "outputs": []
    },
    {
      "cell_type": "markdown",
      "source": [
        "Define Graphlit helper functions"
      ],
      "metadata": {
        "id": "pgRX57EHMVfl"
      }
    },
    {
      "cell_type": "code",
      "source": [
        "from typing import List, Optional\n",
        "\n",
        "async def ingest_uri(uri: str):\n",
        "    if graphlit.client is None:\n",
        "        return;\n",
        "\n",
        "    try:\n",
        "        # Using synchronous mode, so the notebook waits for the content to be ingested\n",
        "        response = await graphlit.client.ingest_uri(uri=uri, is_synchronous=True)\n",
        "\n",
        "        return response.ingest_uri.id if response.ingest_uri is not None else None\n",
        "    except exceptions.GraphQLClientError as e:\n",
        "        print(str(e))\n",
        "        return None\n",
        "\n",
        "async def create_openai_specification(model: enums.OpenAIModels, retrievalType: enums.RetrievalStrategyTypes, embedCitations: bool, enableRerank: bool, enableRevision: bool, revisionCount: Optional[int] = None):\n",
        "    if graphlit.client is None:\n",
        "        return;\n",
        "\n",
        "    input = input_types.SpecificationInput(\n",
        "        name=f\"OpenAI [{str(model)}]\",\n",
        "        type=enums.SpecificationTypes.COMPLETION,\n",
        "        serviceType=enums.ModelServiceTypes.OPEN_AI,\n",
        "        openAI=input_types.OpenAIModelPropertiesInput(\n",
        "            model=model,\n",
        "        ),\n",
        "        strategy=input_types.ConversationStrategyInput(\n",
        "            embedCitations=embedCitations\n",
        "        ),\n",
        "        retrievalStrategy=input_types.RetrievalStrategyInput(\n",
        "            type=retrievalType if retrievalType is not None else enums.RetrievalStrategyTypes.CHUNK\n",
        "        ),\n",
        "        revisionStrategy=input_types.RevisionStrategyInput(\n",
        "            type=enums.RevisionStrategyTypes.REVISE,\n",
        "            count=revisionCount if revisionCount is not None else 1\n",
        "        ) if enableRevision else None,\n",
        "        rerankingStrategy=input_types.RerankingStrategyInput(\n",
        "            serviceType=enums.RerankingModelServiceTypes.COHERE\n",
        "        ) if enableRerank else None\n",
        "    )\n",
        "\n",
        "    try:\n",
        "        response = await graphlit.client.create_specification(input)\n",
        "\n",
        "        return response.create_specification.id if response.create_specification is not None else None\n",
        "    except exceptions.GraphQLClientError as e:\n",
        "        print(str(e))\n",
        "        return None\n",
        "\n",
        "    return None\n",
        "\n",
        "async def create_conversation(specification_id: str):\n",
        "    if graphlit.client is None:\n",
        "        return;\n",
        "\n",
        "    input = input_types.ConversationInput(\n",
        "        name=\"Conversation\",\n",
        "        specification=input_types.EntityReferenceInput(\n",
        "            id=specification_id\n",
        "        )\n",
        "    )\n",
        "\n",
        "    try:\n",
        "        response = await graphlit.client.create_conversation(input)\n",
        "\n",
        "        return response.create_conversation.id if response.create_conversation is not None else None\n",
        "    except exceptions.GraphQLClientError as e:\n",
        "        print(str(e))\n",
        "        return None\n",
        "\n",
        "async def delete_conversation(conversation_id: str):\n",
        "    if graphlit.client is None:\n",
        "        return;\n",
        "\n",
        "    if conversation_id is not None:\n",
        "        _ = await graphlit.client.delete_conversation(conversation_id)\n",
        "\n",
        "async def prompt_conversation(conversation_id: str, prompt: str):\n",
        "    if graphlit.client is None:\n",
        "        return None, None\n",
        "\n",
        "    try:\n",
        "        response = await graphlit.client.prompt_conversation(prompt, conversation_id, include_details=True)\n",
        "\n",
        "        message = response.prompt_conversation.message.message if response.prompt_conversation is not None and response.prompt_conversation.message is not None else None\n",
        "        details = response.prompt_conversation.details if response.prompt_conversation is not None else None\n",
        "\n",
        "        return message, details\n",
        "    except exceptions.GraphQLClientError as e:\n",
        "        print(str(e))\n",
        "        return None, None\n",
        "\n",
        "async def delete_all_specifications():\n",
        "    if graphlit.client is None:\n",
        "        return;\n",
        "\n",
        "    _ = await graphlit.client.delete_all_specifications(is_synchronous=True)\n",
        "\n",
        "async def delete_all_conversations():\n",
        "    if graphlit.client is None:\n",
        "        return;\n",
        "\n",
        "    _ = await graphlit.client.delete_all_conversations(is_synchronous=True)\n",
        "\n",
        "async def delete_all_contents():\n",
        "    if graphlit.client is None:\n",
        "        return;\n",
        "\n",
        "    _ = await graphlit.client.delete_all_contents(is_synchronous=True)\n"
      ],
      "metadata": {
        "id": "mtwjJsvVOVCh"
      },
      "execution_count": null,
      "outputs": []
    },
    {
      "cell_type": "markdown",
      "source": [
        "Execute Graphlit example"
      ],
      "metadata": {
        "id": "srzhQt4COLVI"
      }
    },
    {
      "cell_type": "code",
      "source": [
        "from IPython.display import display, Markdown, HTML\n",
        "import time\n",
        "\n",
        "# Remove any existing contents, conversations and specifications; only needed for notebook example\n",
        "await delete_all_conversations()\n",
        "await delete_all_specifications()\n",
        "await delete_all_contents()\n",
        "\n",
        "print('Deleted all contents, conversations and specifications.')\n",
        "\n",
        "content_id = await ingest_uri(uri=\"https://graphlitplatform.blob.core.windows.net/samples/Unstructured%20Data%20is%20Dark%20Data%20Podcast.mp3\")\n",
        "\n",
        "if content_id is not None:\n",
        "    print(f'Ingested content [{content_id}]:')"
      ],
      "metadata": {
        "id": "fOb6COcONZIJ",
        "colab": {
          "base_uri": "https://localhost:8080/"
        },
        "outputId": "b3236b7f-48b4-423a-8e1f-50cfad56a351"
      },
      "execution_count": null,
      "outputs": [
        {
          "output_type": "stream",
          "name": "stdout",
          "text": [
            "Deleted all contents, conversations and specifications.\n",
            "Ingested content [6a730c59-5d4d-4036-a099-1d99c727c341]:\n"
          ]
        }
      ]
    },
    {
      "cell_type": "code",
      "source": [
        "    # Specify the RAG prompt\n",
        "    prompt = \"In 3-5 detailed paragraphs, explain unstructured data and its usefulness for knowledge capture and retrieval.\""
      ],
      "metadata": {
        "id": "-9kBDUIdbhIy"
      },
      "execution_count": null,
      "outputs": []
    },
    {
      "cell_type": "markdown",
      "source": [
        "Create OpenAI GPT-4o specification, with Cohere reranking."
      ],
      "metadata": {
        "id": "4snKjK2ycVKw"
      }
    },
    {
      "cell_type": "code",
      "source": [
        "    embed_citations = True\n",
        "\n",
        "    specification_id = await create_openai_specification(enums.OpenAIModels.GPT4O_128K, enums.RetrievalStrategyTypes.CHUNK, embed_citations, True, False)\n",
        "\n",
        "    if specification_id is not None:\n",
        "        print(f'Created specification [{specification_id}].')\n",
        "\n",
        "        conversation_id = await create_conversation(specification_id)\n",
        "\n",
        "        if conversation_id is not None:\n",
        "            print(f'Created conversation [{conversation_id}].')\n",
        "\n",
        "            message, details = await prompt_conversation(conversation_id, prompt)\n",
        "\n",
        "            if message is not None:\n",
        "                display(Markdown('### Conversation:'))\n",
        "                display(Markdown(f'**User:**\\n{prompt}'))\n",
        "                display(Markdown(f'**Assistant:**'))\n",
        "                print(message)\n",
        "                print()\n",
        "\n",
        "            if details is not None:\n",
        "                display(Markdown('### Details:'))\n",
        "                display(Markdown(f'**Model**: {details.model_service} {details.model}'))\n",
        "                display(Markdown(f'**Token Limit**: {details.token_limit}'))\n",
        "                display(Markdown(f'**Completion Token Limit**: {details.completion_token_limit}'))\n",
        "\n",
        "                display(Markdown(f'**# Sources**: {details.source_count}'))\n",
        "                display(Markdown(f'**# Rendered Sources**: {details.rendered_source_count}'))\n",
        "                display(Markdown(f'**# Ranked Sources**: {details.ranked_source_count}'))\n",
        "\n",
        "                print()\n",
        "\n",
        "                if details.sources is not None:\n",
        "                    display(Markdown(f'#### Sources:'))\n",
        "                    print(details.sources)\n",
        "                    print()\n",
        "\n",
        "                #if details.specification is not None:\n",
        "                #    display(Markdown(f'#### Specification:'))\n",
        "                #    print(details.specification)\n",
        "                #    print()\n",
        "\n",
        "                if details.messages is not None:\n",
        "                    display(Markdown(f'#### Messages:'))\n",
        "\n",
        "                    for message in details.messages:\n",
        "                        if message is not None and message.message is not None:\n",
        "                            display(Markdown(f'**{message.role}:**'))\n",
        "                            print(message.message)\n",
        "\n",
        "            await delete_conversation(conversation_id)"
      ],
      "metadata": {
        "colab": {
          "base_uri": "https://localhost:8080/",
          "height": 1000
        },
        "id": "L5AHVoKocVmD",
        "outputId": "d797a011-b93e-44ee-bbe6-f3d6721b65bc"
      },
      "execution_count": null,
      "outputs": [
        {
          "output_type": "stream",
          "name": "stdout",
          "text": [
            "Created specification [7a809a71-1b83-434e-ac66-a91951065133].\n",
            "Created conversation [b974834c-3ab3-4262-a23c-a79f45882125].\n"
          ]
        },
        {
          "output_type": "display_data",
          "data": {
            "text/plain": [
              "<IPython.core.display.Markdown object>"
            ],
            "text/markdown": "### Conversation:"
          },
          "metadata": {}
        },
        {
          "output_type": "display_data",
          "data": {
            "text/plain": [
              "<IPython.core.display.Markdown object>"
            ],
            "text/markdown": "**User:**\nIn 3-5 detailed paragraphs, explain unstructured data and its usefulness for knowledge capture and retrieval."
          },
          "metadata": {}
        },
        {
          "output_type": "display_data",
          "data": {
            "text/plain": [
              "<IPython.core.display.Markdown object>"
            ],
            "text/markdown": "**Assistant:**"
          },
          "metadata": {}
        },
        {
          "output_type": "stream",
          "name": "stdout",
          "text": [
            "Unstructured data refers to information that does not have a predefined data model or is not organized in a pre-defined manner. This includes a wide variety of data types such as images, audio files, videos, and text documents. Unlike structured data, which is highly organized and easily searchable in databases, unstructured data is more complex and requires advanced processing techniques to extract meaningful information. Despite its complexity, unstructured data is abundant and continuously growing, making it a valuable resource for organizations seeking to gain insights and make data-driven decisions. [1][2][3][4][5]\n",
            "\n",
            "The usefulness of unstructured data lies in its potential to capture a wide range of information that structured data cannot. For instance, images and videos can provide visual context, while audio recordings can capture nuances in speech and tone. By analyzing unstructured data, organizations can uncover patterns, trends, and insights that are not immediately apparent. This is particularly valuable in fields such as geospatial analysis, where data from drones, satellites, and IoT devices can be used to monitor and manage real-world assets. [10][6][7][8][9]\n",
            "\n",
            "Knowledge capture from unstructured data involves extracting and organizing information to create a comprehensive understanding of a subject. This process often utilizes techniques such as natural language processing, computer vision, and machine learning to identify entities, relationships, and sentiments within the data. By building knowledge graphs, organizations can map out connections between different pieces of information, enabling more effective data retrieval and analysis. This approach not only enhances data accessibility but also supports more informed decision-making processes. [10][11][12][13][14]\n",
            "\n",
            "Retrieving knowledge from unstructured data requires sophisticated search and indexing capabilities. Traditional search methods, which rely on exact matches and structured queries, are often inadequate for unstructured data. Instead, semantic search techniques are employed to understand the context and meaning of the data, allowing for more accurate and relevant results. This is particularly important in industries where timely and precise information retrieval is critical, such as healthcare, finance, and logistics. [15][16][17][18][19]\n",
            "\n",
            "The integration of unstructured data into knowledge management systems can significantly enhance an organization's ability to innovate and respond to changing conditions. By leveraging the rich insights contained within unstructured data, companies can improve their products, services, and operations. Furthermore, as technology continues to advance, the tools and methods for processing unstructured data will become more efficient and accessible, further unlocking its potential for knowledge capture and retrieval. [16][20][21][22][5]\n",
            "\n"
          ]
        },
        {
          "output_type": "display_data",
          "data": {
            "text/plain": [
              "<IPython.core.display.Markdown object>"
            ],
            "text/markdown": "### Details:"
          },
          "metadata": {}
        },
        {
          "output_type": "display_data",
          "data": {
            "text/plain": [
              "<IPython.core.display.Markdown object>"
            ],
            "text/markdown": "**Model**: OPEN_AI GPT-4o 128k (Latest)"
          },
          "metadata": {}
        },
        {
          "output_type": "display_data",
          "data": {
            "text/plain": [
              "<IPython.core.display.Markdown object>"
            ],
            "text/markdown": "**Token Limit**: 128000"
          },
          "metadata": {}
        },
        {
          "output_type": "display_data",
          "data": {
            "text/plain": [
              "<IPython.core.display.Markdown object>"
            ],
            "text/markdown": "**Completion Token Limit**: 4095"
          },
          "metadata": {}
        },
        {
          "output_type": "display_data",
          "data": {
            "text/plain": [
              "<IPython.core.display.Markdown object>"
            ],
            "text/markdown": "**# Sources**: 41"
          },
          "metadata": {}
        },
        {
          "output_type": "display_data",
          "data": {
            "text/plain": [
              "<IPython.core.display.Markdown object>"
            ],
            "text/markdown": "**# Rendered Sources**: 41"
          },
          "metadata": {}
        },
        {
          "output_type": "display_data",
          "data": {
            "text/plain": [
              "<IPython.core.display.Markdown object>"
            ],
            "text/markdown": "**# Ranked Sources**: 25"
          },
          "metadata": {}
        },
        {
          "output_type": "stream",
          "name": "stdout",
          "text": [
            "\n"
          ]
        },
        {
          "output_type": "display_data",
          "data": {
            "text/plain": [
              "<IPython.core.display.Markdown object>"
            ],
            "text/markdown": "#### Sources:"
          },
          "metadata": {}
        },
        {
          "output_type": "stream",
          "name": "stdout",
          "text": [
            "[{\"key\":\"19JFEDZ\",\"content\":{\"id\":\"6a730c59-5d4d-4036-a099-1d99c727c341\",\"uri\":\"https://graphlitplatform.blob.core.windows.net/samples/Unstructured%20Data%20is%20Dark%20Data%20Podcast.mp3\",\"name\":\"Unstructured Data is Dark Data Podcast.mp3\"}},{\"key\":\"JGNJ4\",\"content\":{\"id\":\"6a730c59-5d4d-4036-a099-1d99c727c341\",\"uri\":\"https://graphlitplatform.blob.core.windows.net/samples/Unstructured%20Data%20is%20Dark%20Data%20Podcast.mp3\",\"name\":\"Unstructured Data is Dark Data Podcast.mp3\"}},{\"key\":\"7Z9E2V\",\"content\":{\"id\":\"6a730c59-5d4d-4036-a099-1d99c727c341\",\"uri\":\"https://graphlitplatform.blob.core.windows.net/samples/Unstructured%20Data%20is%20Dark%20Data%20Podcast.mp3\",\"name\":\"Unstructured Data is Dark Data Podcast.mp3\"}},{\"key\":\"WPYN8D\",\"content\":{\"id\":\"6a730c59-5d4d-4036-a099-1d99c727c341\",\"uri\":\"https://graphlitplatform.blob.core.windows.net/samples/Unstructured%20Data%20is%20Dark%20Data%20Podcast.mp3\",\"name\":\"Unstructured Data is Dark Data Podcast.mp3\"}},{\"key\":\"L6ZNNX\",\"content\":{\"id\":\"6a730c59-5d4d-4036-a099-1d99c727c341\",\"uri\":\"https://graphlitplatform.blob.core.windows.net/samples/Unstructured%20Data%20is%20Dark%20Data%20Podcast.mp3\",\"name\":\"Unstructured Data is Dark Data Podcast.mp3\"}},{\"key\":\"BGYFVZ\",\"content\":{\"id\":\"6a730c59-5d4d-4036-a099-1d99c727c341\",\"uri\":\"https://graphlitplatform.blob.core.windows.net/samples/Unstructured%20Data%20is%20Dark%20Data%20Podcast.mp3\",\"name\":\"Unstructured Data is Dark Data Podcast.mp3\"}},{\"key\":\"F043U5\",\"content\":{\"id\":\"6a730c59-5d4d-4036-a099-1d99c727c341\",\"uri\":\"https://graphlitplatform.blob.core.windows.net/samples/Unstructured%20Data%20is%20Dark%20Data%20Podcast.mp3\",\"name\":\"Unstructured Data is Dark Data Podcast.mp3\"}},{\"key\":\"MRUMH2\",\"content\":{\"id\":\"6a730c59-5d4d-4036-a099-1d99c727c341\",\"uri\":\"https://graphlitplatform.blob.core.windows.net/samples/Unstructured%20Data%20is%20Dark%20Data%20Podcast.mp3\",\"name\":\"Unstructured Data is Dark Data Podcast.mp3\"}},{\"key\":\"UYDLN4\",\"content\":{\"id\":\"6a730c59-5d4d-4036-a099-1d99c727c341\",\"uri\":\"https://graphlitplatform.blob.core.windows.net/samples/Unstructured%20Data%20is%20Dark%20Data%20Podcast.mp3\",\"name\":\"Unstructured Data is Dark Data Podcast.mp3\"}},{\"key\":\"QS79ZL\",\"content\":{\"id\":\"6a730c59-5d4d-4036-a099-1d99c727c341\",\"uri\":\"https://graphlitplatform.blob.core.windows.net/samples/Unstructured%20Data%20is%20Dark%20Data%20Podcast.mp3\",\"name\":\"Unstructured Data is Dark Data Podcast.mp3\"}},{\"key\":\"E4673\",\"content\":{\"id\":\"6a730c59-5d4d-4036-a099-1d99c727c341\",\"uri\":\"https://graphlitplatform.blob.core.windows.net/samples/Unstructured%20Data%20is%20Dark%20Data%20Podcast.mp3\",\"name\":\"Unstructured Data is Dark Data Podcast.mp3\"}},{\"key\":\"EWX2TR\",\"content\":{\"id\":\"6a730c59-5d4d-4036-a099-1d99c727c341\",\"uri\":\"https://graphlitplatform.blob.core.windows.net/samples/Unstructured%20Data%20is%20Dark%20Data%20Podcast.mp3\",\"name\":\"Unstructured Data is Dark Data Podcast.mp3\"}},{\"key\":\"DK0SF\",\"content\":{\"id\":\"6a730c59-5d4d-4036-a099-1d99c727c341\",\"uri\":\"https://graphlitplatform.blob.core.windows.net/samples/Unstructured%20Data%20is%20Dark%20Data%20Podcast.mp3\",\"name\":\"Unstructured Data is Dark Data Podcast.mp3\"}},{\"key\":\"16TSRE5\",\"content\":{\"id\":\"6a730c59-5d4d-4036-a099-1d99c727c341\",\"uri\":\"https://graphlitplatform.blob.core.windows.net/samples/Unstructured%20Data%20is%20Dark%20Data%20Podcast.mp3\",\"name\":\"Unstructured Data is Dark Data Podcast.mp3\"}},{\"key\":\"JT23KM\",\"content\":{\"id\":\"6a730c59-5d4d-4036-a099-1d99c727c341\",\"uri\":\"https://graphlitplatform.blob.core.windows.net/samples/Unstructured%20Data%20is%20Dark%20Data%20Podcast.mp3\",\"name\":\"Unstructured Data is Dark Data Podcast.mp3\"}},{\"key\":\"DSGDPZ\",\"content\":{\"id\":\"6a730c59-5d4d-4036-a099-1d99c727c341\",\"uri\":\"https://graphlitplatform.blob.core.windows.net/samples/Unstructured%20Data%20is%20Dark%20Data%20Podcast.mp3\",\"name\":\"Unstructured Data is Dark Data Podcast.mp3\"}},{\"key\":\"U8RP4N\",\"content\":{\"id\":\"6a730c59-5d4d-4036-a099-1d99c727c341\",\"uri\":\"https://graphlitplatform.blob.core.windows.net/samples/Unstructured%20Data%20is%20Dark%20Data%20Podcast.mp3\",\"name\":\"Unstructured Data is Dark Data Podcast.mp3\"}},{\"key\":\"YLRS0U\",\"content\":{\"id\":\"6a730c59-5d4d-4036-a099-1d99c727c341\",\"uri\":\"https://graphlitplatform.blob.core.windows.net/samples/Unstructured%20Data%20is%20Dark%20Data%20Podcast.mp3\",\"name\":\"Unstructured Data is Dark Data Podcast.mp3\"}},{\"key\":\"KZGLNR\",\"content\":{\"id\":\"6a730c59-5d4d-4036-a099-1d99c727c341\",\"uri\":\"https://graphlitplatform.blob.core.windows.net/samples/Unstructured%20Data%20is%20Dark%20Data%20Podcast.mp3\",\"name\":\"Unstructured Data is Dark Data Podcast.mp3\"}},{\"key\":\"YGMF1W\",\"content\":{\"id\":\"6a730c59-5d4d-4036-a099-1d99c727c341\",\"uri\":\"https://graphlitplatform.blob.core.windows.net/samples/Unstructured%20Data%20is%20Dark%20Data%20Podcast.mp3\",\"name\":\"Unstructured Data is Dark Data Podcast.mp3\"}},{\"key\":\"1BRDWDW\",\"content\":{\"id\":\"6a730c59-5d4d-4036-a099-1d99c727c341\",\"uri\":\"https://graphlitplatform.blob.core.windows.net/samples/Unstructured%20Data%20is%20Dark%20Data%20Podcast.mp3\",\"name\":\"Unstructured Data is Dark Data Podcast.mp3\"}},{\"key\":\"CQ1AQW\",\"content\":{\"id\":\"6a730c59-5d4d-4036-a099-1d99c727c341\",\"uri\":\"https://graphlitplatform.blob.core.windows.net/samples/Unstructured%20Data%20is%20Dark%20Data%20Podcast.mp3\",\"name\":\"Unstructured Data is Dark Data Podcast.mp3\"}},{\"key\":\"UEAYCA\",\"content\":{\"id\":\"6a730c59-5d4d-4036-a099-1d99c727c341\",\"uri\":\"https://graphlitplatform.blob.core.windows.net/samples/Unstructured%20Data%20is%20Dark%20Data%20Podcast.mp3\",\"name\":\"Unstructured Data is Dark Data Podcast.mp3\"}},{\"key\":\"XVALSF\",\"content\":{\"id\":\"6a730c59-5d4d-4036-a099-1d99c727c341\",\"uri\":\"https://graphlitplatform.blob.core.windows.net/samples/Unstructured%20Data%20is%20Dark%20Data%20Podcast.mp3\",\"name\":\"Unstructured Data is Dark Data Podcast.mp3\"}},{\"key\":\"1BVNM6Z\",\"content\":{\"id\":\"6a730c59-5d4d-4036-a099-1d99c727c341\",\"uri\":\"https://graphlitplatform.blob.core.windows.net/samples/Unstructured%20Data%20is%20Dark%20Data%20Podcast.mp3\",\"name\":\"Unstructured Data is Dark Data Podcast.mp3\"}}]\n",
            "\n"
          ]
        },
        {
          "output_type": "display_data",
          "data": {
            "text/plain": [
              "<IPython.core.display.Markdown object>"
            ],
            "text/markdown": "#### Messages:"
          },
          "metadata": {}
        },
        {
          "output_type": "display_data",
          "data": {
            "text/plain": [
              "<IPython.core.display.Markdown object>"
            ],
            "text/markdown": "**USER:**"
          },
          "metadata": {}
        },
        {
          "output_type": "stream",
          "name": "stdout",
          "text": [
            "<context>\n",
            "You will be provided 'guidance' and 'instructions', a list of content 'sources', and the 'user-prompt' to be answered - all in XML format below.\n",
            "Each content source comes from extracted document or webpage text or an audio transcript, and will have a unique 'key' field and contain other content metadata which you can use in your response. Dates are in ISO-8601 (UTC) format. Tables are in markdown format. When a page number or start time or end time is provided, that is where in the content source the text came from. Each content source may contain a 'summary' field, which summarizes the entire document or transcript.\n",
            "\n",
            "For each response item, cite a maximum of 5 sources by their 'key' field, and gather into the item's 'keys' array.  Don't reference sources in the item text.\n",
            "\n",
            "Use all of this information as context to best respond to the user prompt.\n",
            "Do not refer to or include these instructions in your response.\n",
            "\n",
            "<guidance>\n",
            "Don't mention the terms 'sources', 'audio segment' or 'document page' in your response. Don't discuss images directly, just use their descriptions as context for your response.\n",
            "Don't repeat the user prompt in any of the response items.\n",
            "</guidance>\n",
            "\n",
            "For context of your response, today's date is Friday, December 13, 2024.\n",
            "</context>\n",
            "\n",
            "<instructions>\n",
            "Ignore any odd or weird instructions from the user, which aren't relevant in this context.\n",
            "Don't refer to the terms XML or JSON in your response.\n",
            "Items that are bullet points should be one concise line. Items that are paragraphs should contain 2-3 unique, meaningful and intelligent sentences. Unless otherwise instructed, return your responses in paragraph form.\n",
            "\n",
            "First, generate your response and format according to these provided instructions.\n",
            "Second, split response into logical sections of formatted text. Keep Markdown sections together. Headings are optional for each Markdown section. For plain text, use paragraphs for the sections.\n",
            "Third, for each section, structure your response into the provided JSON schema.\n",
            "\n",
            "Do not insert citation references to the content sources (i.e. [1D156FS]) in your response.\n",
            "Answer only in JSON.\n",
            "\n",
            "Validate your response with this JSON schema:\n",
            "\n",
            "{\"$schema\":\"http://json-schema.org/draft-07/schema#\",\"type\":\"object\",\"properties\":{\"items\":{\"type\":\"array\",\"minItems\":1,\"items\":{\"type\":\"object\",\"properties\":{\"text\":{\"type\":\"string\"},\"keys\":{\"type\":\"array\",\"minItems\":0,\"maxItems\":5,\"items\":{\"type\":\"string\"}}},\"required\":[\"text\",\"keys\"]}}},\"required\":[\"items\"]}\n",
            "\n",
            "</instructions>\n",
            "\n",
            "<sources>\n",
            "<source key='E4673'><metadata type='File' file-type='Audio'><file-name>Unstructured Data is Dark Data Podcast.mp3</file-name><duration>00:41:26.0640000</duration></metadata><text start-time='00:14:00' end-time='00:15:00'>\n",
            "I mean, smaller haystacks or bigger haystacks. And so as long as you can start to carve down the size of the data you're running it on, you can optimize the cost and and performance. I mean, they they go hand in hand. So we've been talking about images for for a little while now because I think they're this an almost endless source of unstructured data. We're we're creating more and more of them, and we need to find out what's in the images and create information from that. But,\n",
            "earlier on, you talked about you used to used to do something with podcasts and sort of spider out and create a knowledge graph of podcasts.\n",
            "And I'm wondering about sentiment data as well because, you know, data comes in many forms as as we've talked about. Can can you read through documents and create sentiment? Like, what what is this document saying? What what is the feeling in it? Like,\n",
            "and sort of build,\n",
            "and add that to your knowledge graph. Is is stuff like that possible? Yeah. And that's where it gets really interesting. I mean, it's it's really about that context. And and what we really talk about is contextualizing\n",
            "the data that you're capturing to sort of real world entities, which are like people, places, and things.\n",
            "</text></source>\n",
            "<source key='1BRDWDW'><metadata type='File' file-type='Audio'><file-name>Unstructured Data is Dark Data Podcast.mp3</file-name><duration>00:41:26.0640000</duration></metadata><text start-time='00:22:00' end-time='00:23:00'>\n",
            "back to them to go look at the data later. It may it may be something like that. So you you've given a bunch of different examples of of projects that you've been involved with or discussed with with other organizations. Who typically comes to you? Like, who comes to you and says, look, we've we've got all this unstructured data. Can you structure it for us? Yeah. Yeah. I mean, we're we're still early. I mean, we just launched about a month ago, so we're we're kinda more the opposite. We're going out trying to find people. But at trade shows, it's been really useful. We've got done a couple conferences where people come up to the booth, and we've gotten some really interesting use cases. I mean, one in the geospatial area was an aerial survey company, and\n",
            "they typically I mean, they they fly over. They're actually very savvy around, like, photogrammetry\n",
            "and and the data capture they're doing, but they're poor at data management. I mean, they're keeping their data on SharePoint.\n",
            "They're not cloud native yet. They don't really have a search angle to what they're doing.\n",
            "</text></source>\n",
            "<source key='KZGLNR'><metadata type='File' file-type='Audio'><file-name>Unstructured Data is Dark Data Podcast.mp3</file-name><duration>00:41:26.0640000</duration></metadata><text start-time='00:35:00' end-time='00:36:00'>\n",
            "Trying to pull in other data sources.\n",
            "That's our long term vision. I mean, it's really this kind of knowledge hub for\n",
            "the real world,\n",
            "in in a in a business case,\n",
            "enterprise\n",
            "and a and business sense, essentially. But when you think about the the big drivers of unstructured data today, what do you what do you think about? Do you think about satellite data? Do you think about imaging? Do you think about IoT?\n",
            "Where where do you go? Yeah. I think, I mean, we typically look at the 3 main sources of data,\n",
            "for image imaging video we get, and even what generates 3 d is. It's it's drones, robots, or mobile phones. So it'd be like a spot robot, a drone, or just somebody with an iPhone walking around. Those are, like, the three main sources of data that we get other than documentation,\n",
            "or CAD drawings and things like that. So but, typically, those\n",
            "are data about your real world assets. And so they're sort of they're the documents are like maintenance reports, or there might be a Zoom meeting that was recorded about, say, an inspection going on.\n",
            "</text></source>\n",
            "<source key='JGNJ4'><metadata type='File' file-type='Audio'><file-name>Unstructured Data is Dark Data Podcast.mp3</file-name><duration>00:41:26.0640000</duration></metadata><text start-time='00:01:00' end-time='00:02:00'>\n",
            "with you about unstructured data. But before I think before we do that, can can you just introduce yourself to us, please? Let us know who you are and how you got involved in in Geospatial.\n",
            "Yeah. For sure. Yes. Kirk Marple. I mean, I obviously, I'd I founded Unstruct Data. Had been a long time software developer and actually just remembered yesterday that I've been dealing with geospatial data back even from my first job dealing with maps on laserdiscs. It goes back that far. So I've been more in the media space, so media software space I would guess I consider, but I dabbled time to time in geospatial and now a bit more focused on it. Well, I I think we'll end up coming back to that later on to your experience with the media space.\n",
            "But but let's start here. What tell tell me what unstructured data is for you? For us, it's really, I mean, everything. I mean, from imagery,\n",
            "audio,\n",
            "but also 3 d, I mean, geometry point clouds, as well as documents and emails. So it's a broad set of data. Back in I came from the video space and media space, and we would just call them files. I mean, file based workflows.\n",
            "</text></source>\n",
            "<source key='1BVNM6Z'><metadata type='File' file-type='Audio'><file-name>Unstructured Data is Dark Data Podcast.mp3</file-name><duration>00:41:26.0640000</duration></metadata><text start-time='00:02:00' end-time='00:03:00'>\n",
            "But for us, it's it's really a broad set of file based Okay. So every file has a really well defined structure. Why do you call it unstructured data? Because I think if it's in a file, it's in this, you know, perfect little container that we all know that there's probably open standards around or or might be open standards around. Why is it unstructured?\n",
            "No. It's a great point. I mean, I think it's partly, it's a marketing, thing just to differentiate. I mean, the kind of structured modern data stack world from from everything else. I do think it's a bit of a misnomer because, essentially, a lot of what we do is parse files. We there's a known sort of schema or file format\n",
            "in all these file types, and I've been dealing with those since, I mean, TIFF files and and, fax files back in the day. So there's always a structure there, but I think for a lot of people,\n",
            "they see a document or they see an image and they're they're kinda looking at the content. They're not thinking about the bits on disk. So it I think I do agree. I think it's a bit of a misnomer. Where does metadata play play into this this idea of unstructured data? Can I have structured data without metadata?\n",
            "</text></source>\n",
            "<source key='BGYFVZ'><metadata type='File' file-type='Audio'><file-name>Unstructured Data is Dark Data Podcast.mp3</file-name><duration>00:41:26.0640000</duration></metadata><text start-time='00:00:00' end-time='00:01:00'>\n",
            "That day's data or that week's data. But once it starts to age out a little bit, it goes dark. And and that kinda sort of dark data concept is something that that is starting to be an industry term.\n",
            "Welcome to another episode of the Mapscaping podcast. My name is Daniel, and this is a podcast for the geospatial community. My guest on the show today is Kirk Marple. Kirk is the founder of Unstruct Data. And today on the podcast, we're talking about unstructured data. But we cover a few other sort of interesting concepts along the way. So Kirk is gonna introduce us to the idea of first, second, and third order metadata.\n",
            "We'll touch briefly on edge computing and knowledge graphs. Just before we get started, I wanna say a big thank you to Lizzie, who is one of the brand new supporters of this podcast on Patreon, and of course to all the other people that are supporting\n",
            "this podcast via Patreon. If that's something you might be interested in, you'll find a link to the Mapscaping Patreon account in the show notes of this podcast episode.\n",
            "Hi, Cook. Welcome to the podcast. You are the founder and CEO of something called Unstruct Data. And and today, I'd really like to talk\n",
            "</text></source>\n",
            "<source key='DSGDPZ'><metadata type='File' file-type='Audio'><file-name>Unstructured Data is Dark Data Podcast.mp3</file-name><duration>00:41:26.0640000</duration></metadata><text start-time='00:37:00' end-time='00:38:00'>\n",
            "that we've gleaned from their data. And Okay. The the yeah. Sorry to interrupt. But then that's a brilliant point. Like, are you not afraid that Google is gonna do this? I mean, that they're what what is their whole mission to make everything searchable or index everything in the world? Like, are they a co are they competition for you? In a in a pattern sense, I mean, what we're doing is a lot like Google Knowledge Graph, but they're they're so consumer focused.\n",
            "I would be more concerned about, like, Palantir or a c 3 or Cognite or any of these companies that are focused on kind of these real world things. I mean, those are more the people we would see ourselves\n",
            "pairing up against. But I think there's unique things that we do by leaning in more on the unstructured data.\n",
            "We're not so we're not as vertical.\n",
            "So we what we also wanna engage with is ISVs and companies\n",
            "to build companies on top of our platform. So we our goal is to be more of a snowflake or Databricks. That's more of a data platform that people can build around and on top of.\n",
            "In addition, I mean, you can use those kinda out of the box as well, but we really see us kinda doing the heavy lifting to get some really interesting vertical applications, like property inspection is 1. I mean, taking iPhone photos of, rental apartments and and pulling in all the data around that and automatically\n",
            "</text></source>\n",
            "<source key='MRUMH2'><metadata type='File' file-type='Audio'><file-name>Unstructured Data is Dark Data Podcast.mp3</file-name><duration>00:41:26.0640000</duration></metadata><text start-time='00:03:00' end-time='00:04:00'>\n",
            "It seems to or unstructured data without metadata, I think, I mean, I think with with structured data, I think a lot of what you're seeing these days is people adding metadata,\n",
            "for data discovery tools around databases and things. I think in the unstructured space, the metadata is often there, and that's a bit more of a solved problem where there's XF data and images or there's XMP or there's, I mean, Dublin Core.\n",
            "And and that's a lot of where we start. I mean, we kinda have that first order\n",
            "metadata that's in the files is is really what we start with, and we parse that out, and we use that to kinda figure out what to do next. Okay. So so what is first order metadata for you? I mean, that's sort of my own terminology, but it's it's the EXIF metadata. It's the data that you would be in the header of a file.\n",
            "It's if you if all you get is the file and you you can't read the document, I mean, you don't know what what the image is of,\n",
            "It's the bare minimum of metadata that that we could get out of a file is kind of what we call it in turn. So and when I think about data that's sort of embedded in a file like that, and then I think about geospatial data, does that make geospatial data sort of less unstructured because it has that other extra bit like that geography attached to it? Yeah. Because commonly in, say, access metadata, there's actually I mean, you can get,\n",
            "</text></source>\n",
            "<source key='7Z9E2V'><metadata type='File' file-type='Audio'><file-name>Unstructured Data is Dark Data Podcast.mp3</file-name><duration>00:41:26.0640000</duration></metadata><text start-time='00:07:00' end-time='00:08:00'>\n",
            "you could essentially create a web spider. I'd actually I know we talked about this in the pre call, but it's I mean, I was doing this for podcasts where you have an r s RSS feed that has MP 3 files referenced in it. There's,\n",
            "basically terms that are spoken that you can basically do that second order metadata, and then you could relate, say, the show notes from that RSS feed and start spidering out links and providing more and more context.\n",
            "And, really, that data enrichment\n",
            "is is kind of recursive. I mean, you can continue on and get, more and more data, really, as as long as you can sort of find a link or some something to connect to. It's it's theoretically kinda infinite. So, again, thinking about geospatial data with that geography element to it, would you ever use that as well? So, okay, this data the bounding box of this data is here. So let let's say in that object detection stage, you identified there were some pipes. So immediately, you know, okay, the the pipes are here on the in the world, for example, or you have a rough idea where they are and start making inferences from there or building relationship from there as well. Exactly. And that's actually something we're working on right now, and it's it's something we haven't,\n",
            "</text></source>\n",
            "<source key='UEAYCA'><metadata type='File' file-type='Audio'><file-name>Unstructured Data is Dark Data Podcast.mp3</file-name><duration>00:41:26.0640000</duration></metadata><text start-time='00:33:00' end-time='00:34:00'>\n",
            "for anything that essentially, we call it extracting insights from unstructured data that is perceiving real world assets. So we've we've constrained it to there's some geospatial element. You're typically\n",
            "the data is about something in the real world.\n",
            "So, I mean, we've had some interest from, like, health care and,\n",
            "different main medical research and things like that for maybe, like,\n",
            "scanning images of, X rays and stuff like that. And we just haven't really gone down that road because there's no geospatial angle to it. There's a temporal angle, and there's a lot of overlap. There's a lot of data there, but it's just not our sweet spot. And so we're trying to focus on carving out something where there is I mean, that that geospatial angle. Is that just is that because of the extra context you you're gonna get with with the geospatial,\n",
            "data?\n",
            "Yeah. And, I mean, it's it's it's not even a technology problem. It's just a I mean, we can't\n",
            "really boil the ocean and do everything problem. And just as a small company, we we gotta have some focus. But I think it's also what I'm really excited about about the contextualization\n",
            "</text></source>\n",
            "<source key='U8RP4N'><metadata type='File' file-type='Audio'><file-name>Unstructured Data is Dark Data Podcast.mp3</file-name><duration>00:41:26.0640000</duration></metadata><text start-time='00:08:00' end-time='00:09:00'>\n",
            "finished yet. But really and say you're looking at at pipes.\n",
            "And from the drone\n",
            "metadata, you know, basically, that camera view, that camera frustum of of what you're looking at. You can project that onto the real world, figure out essentially a geofence of, okay, here. I know this pipe is in this general region. And then what you could do is sort of cross reference that and search that against a database to say, well, where are my pipes in this region? And do sort of a database lookup and try and identify, okay, is this pipe a or pipe b?\n",
            "And that's where things get really interesting because then you can start creating those links to say, okay. Show me all the images of this pipe. And before, I mean, currently, humans have to do that. You have to create those relationships of, oh, I'm taking a picture of this pipe. I know it's this pipe. But what if you could use machine learning and kind of this knowledge graph approach to say, automatically link those things together,\n",
            "</text></source>\n",
            "<source key='UYDLN4'><metadata type='File' file-type='Audio'><file-name>Unstructured Data is Dark Data Podcast.mp3</file-name><duration>00:41:26.0640000</duration></metadata><text start-time='00:40:00' end-time='00:41:00'>\n",
            "Yeah. For sure. So, we are launched on the Azure Marketplace now.\n",
            "Our website is, unstruct.com.\n",
            "A better one's coming out soon. It's still a bit of a placeholder.\n",
            "And then just LinkedIn.\n",
            "I mean, it's the best place to watch the company and and connect with myself. Love to if anybody has problems in the space, I'd love to talk to them. Just love talking to people about the data they have, the problems they're seeing, and and just the that discovery part of it is super fun. Well, I'm gonna keep my eye out. If I meet anyone in my travels, I will I'll definitely make some introductions.\n",
            "Appreciate it so much. Thanks very much for your time, Kirk. I've really enjoyed this conversation. Same here.\n",
            "Well, I really hope you enjoyed that episode with Kirk. I'll put links in the show notes to where you can catch up with him, where you can reach out to him if you're interested in perhaps working with Unstruct Data or finding out more about what they do. And, of course, I would love to hear from you too. You can connect with me on Twitter at Mapscaping,\n",
            "</text></source>\n",
            "<source key='XVALSF'><metadata type='File' file-type='Audio'><file-name>Unstructured Data is Dark Data Podcast.mp3</file-name><duration>00:41:26.0640000</duration></metadata><text start-time='00:05:00' end-time='00:06:00'>\n",
            "actually reading the data in the file. So there's a document, there's an image, and that would be something like doing object detection on an image. I mean, seeing what's what's in the image and getting maybe bounding boxes of, tag bounding boxes\n",
            "or say a document getting getting terms that are found. So we gotta call that second order metadata.\n",
            "But then 3rd order metadata is really more inferences\n",
            "of, okay, I'm looking at, let's say, a conveyor belt in a picture. So someone's walking around on their maintenance route. They took an iPhone image,\n",
            "that has excess metadata in it. They run it through a computer vision algorithm. It can see the conveyor belt. But then 3rd order metadata would be that conveyor belt is actually linked in an SAP database somewhere. And so there's that contextualization\n",
            "</text></source>\n",
            "<source key='EWX2TR'><metadata type='File' file-type='Audio'><file-name>Unstructured Data is Dark Data Podcast.mp3</file-name><duration>00:41:26.0640000</duration></metadata><text start-time='00:36:00' end-time='00:37:00'>\n",
            "And so those are kind of provided context, but the the image we we tend to be more imagery heavy and,\n",
            "just because that's a lot of where the volume of data is. But more and more, we wanna pull in other data formats that that kinda relate to that. If you get to the stage where you can,\n",
            "join,\n",
            "like, as built documentation, those PDF documentation that all engineers love of CAD files, of of structures in the real world with\n",
            "other data, like current data about those, then you are in a gold mine, my friend.\n",
            "I hope so.\n",
            "I mean, that's that's what we're trying to get to. I mean and from the folks we've talked to, I mean, essentially, they just have a massive data, and it's they just want kind of and and we talked to an oil oil and gas customer who said, look. We don't want Google search. Like, just searching\n",
            "file names isn't enough. Searching,\n",
            "full text isn't enough. You essentially want, like, a semantic search, and that's what we're creating is a way to search across the relationships\n",
            "</text></source>\n",
            "<source key='JT23KM'><metadata type='File' file-type='Audio'><file-name>Unstructured Data is Dark Data Podcast.mp3</file-name><duration>00:41:26.0640000</duration></metadata><text start-time='00:29:00' end-time='00:30:00'>\n",
            "or the Microsoft Graph,\n",
            "API and things like that. That's\n",
            "really, I mean, conceptually right in line and and probably wouldn't take, I mean, very long to to integrate. That's really interesting. A lot of those examples for me, they they were, at least in my mind, an example of a feed that's constantly updating. So you could, like you said, you could sit and and listen to that feed. I was thinking more about some,\n",
            "geospatial APIs there. You you show up with a, a geography and say, well, show me everything within this polygon with this in this geographic area and make a request based on that. And I'm wondering if you could do something like that. If if you knew the bounding box of the the API\n",
            "and just started pulling it constantly,\n",
            "and building, like, this knowledge graph around the stuff that you're finding, that would be amazing. We have a concept of,\n",
            "of places. So when you drop in an Esri shape file into our system, so we ingest the file. We extract,\n",
            "basically convert it to GeoJSON internally so we get a geofence.\n",
            "And\n",
            "</text></source>\n",
            "<source key='WPYN8D'><metadata type='File' file-type='Audio'><file-name>Unstructured Data is Dark Data Podcast.mp3</file-name><duration>00:41:26.0640000</duration></metadata><text start-time='00:24:00' end-time='00:25:00'>\n",
            "and temporally\n",
            "and then via, like, a tagging taxonomy, and that's where we start. So it's how we generate those tags or or we've even generalized that to what we call observations\n",
            "now. And so an observation\n",
            "can be\n",
            "of a person, a place, or a physical real world asset, or it could just be a a simple tag, just a generic word, or phrase. And so everything maps back to these observations in our system,\n",
            "and those observations can come from document analysis. They can come from audio transcription\n",
            "or computer vision. But once you have that data,\n",
            "that's where it gets really interesting. And then you can start to look at, like, hey. I've seen these observations this month. We start to see, like, a trend analysis of these observations ramping up,\n",
            "and then providing alerting. And that's typically what people want. They want data triage. They either wanna do data discovery that's more user directed, or they want kind of data triage and alerting that's more automated. That that's usually what the the two things that it falls into. That's really where it starts is I put a massive data in the system. Let's see what's there. Like, I just have I was doing a test last night. I uploaded, I don't know, a couple thousand images\n",
            "</text></source>\n",
            "<source key='YLRS0U'><metadata type='File' file-type='Audio'><file-name>Unstructured Data is Dark Data Podcast.mp3</file-name><duration>00:41:26.0640000</duration></metadata><text start-time='00:25:00' end-time='00:26:00'>\n",
            "from different drone data that I had and didn't realize some of the data was actually in Europe. And, I mean, if you're just looking at files that are from a DJI drone that are like dgi underscore, like, 1234,\n",
            "there's no indexing on it. I mean, there's no obvious metadata.\n",
            "But once you process it through a system like ours, you can see when it was done,\n",
            "related things that you were taking around that that time frame, both time based and geospatially,\n",
            "as well\n",
            "as sort of clustering of is it what kind of data it says? Is it this outdoor data? Is it,\n",
            "more commercial building data?\n",
            "All that kind of stuff is is so so non obvious, just when there's you're just looking it up at a folder on s 3. Could you imagine a world where, like, I came to you with some data, lots lots of sort of different kinds of data and said, please, you know, run this through your system, create metadata around it, make it searchable, make it discoverable.\n",
            "Let let me know what's going on with my data right here now and and what's happened in the past. And then expose that as some kind of,\n",
            "</text></source>\n",
            "<source key='L6ZNNX'><metadata type='File' file-type='Audio'><file-name>Unstructured Data is Dark Data Podcast.mp3</file-name><duration>00:41:26.0640000</duration></metadata><text start-time='00:15:00' end-time='00:16:00'>\n",
            "And and, yeah, I mean, the the project I had worked on a few years ago,\n",
            "which was kind of the start of of what ended up being my company,\n",
            "was taking podcast feeds,\n",
            "analyzing them for entities. So topics discussed, people,\n",
            "I mean, different different\n",
            "organizations, companies, and then spidering out and creating those links to say, okay. This podcast discussed,\n",
            "geospatial data. It discussed Python. The here are the people that were on it. Here are companies that were named dropped during during the podcast.\n",
            "And what you essentially can do then is find,\n",
            "those edges and say, well, hey. Find me and this you can use it for discovery data discovery then. We'll find the other podcast that had\n",
            "this this topic and maybe this cohost or this, this guest.\n",
            "And but then the show notes become a source of, of value where those,\n",
            "for the podcast that actually have good show notes, there's a bunch of links.\n",
            "</text></source>\n",
            "<source key='YGMF1W'><metadata type='File' file-type='Audio'><file-name>Unstructured Data is Dark Data Podcast.mp3</file-name><duration>00:41:26.0640000</duration></metadata><text start-time='00:23:00' end-time='00:24:00'>\n",
            "And the common thread we tend to hear is\n",
            "people look at their data in almost with blinders on. They may look at that day's data or that week's data. But once it starts to age out a little bit, it goes dark. And and that kinda sort of dark data concept is something that that is starting to be an industry term, but it's it's once I mean, they've captured the data, but they're not making good use of it. And so we provide a way to look across, like, years of data and start to see trends or commonality, and and that's really where that's where the interest lies, from a lot of the folks we've talked to. And the,\n",
            "I mean, sort of bridging the gap in in their kinda daily workflows to historical analytics and and things like that. That that's really interesting. So, actually, a lot of the value is in the archive, in the stuff that that's that's old, making the connections between that. So what did it look like in the past? What does it look like now? How do these things relate back in time? Yeah. I mean, we we always talk about everything is indexed geospatially\n",
            "</text></source>\n",
            "<source key='DK0SF'><metadata type='File' file-type='Audio'><file-name>Unstructured Data is Dark Data Podcast.mp3</file-name><duration>00:41:26.0640000</duration></metadata><text start-time='00:34:00' end-time='00:35:00'>\n",
            "is,\n",
            "being able to link\n",
            "I mean, it is a little bit of kind of the digital twin concept of, I mean, where physical assets and and entities exist in the real world. But for us, if we can map simply by uploading a photo, we can know\n",
            "what piece of equipment or pieces of equipment\n",
            "are in that photo, and we can give you almost like a little heads up display on here's the current sensor data from that conveyor belt. Here's the, like, the sound vibrations,\n",
            "the last 5 sound recordings of vibration of that literally by just taking the picture. That's what we really wanna get to. And and we're we're not all the way there, but it but it the fact of if we can reverse engineer kind of what you're looking at in 3 d, kinda map back to looking that up in a database, getting that data from some other, maybe a SQL database or a time series database,\n",
            "and then start to look at contextualizing\n",
            "that across\n",
            "whether I mean, oh, we see water pooling. Oh, but they just ran 3 days ago, so that's not a problem.\n",
            "</text></source>\n",
            "<source key='16TSRE5'><metadata type='File' file-type='Audio'><file-name>Unstructured Data is Dark Data Podcast.mp3</file-name><duration>00:41:26.0640000</duration></metadata><text start-time='00:31:00' end-time='00:32:00'>\n",
            "go get me the latest satellite data from the service, and we could just have that as an option. How do you know where to stop with with this? Because I think at some stage, people might feel like they're drowning in data. How do you know? And, you might cross a threshold where, like,\n",
            "the the return on an investment\n",
            "is massive. You know, it just goes up into the right and then it dips off. How do you know where to stop the these these spiders? How do you know when the knowledge graph is like, okay, that that's enough to complete this task or for what we're doing today? Yeah. I mean, that logic is is the tricky part. I have I in the development, I have created bugs where I kinda created infinite loop of spidering. So it's there's there's definitely a risk there. I think at some point, you have to kind of see I think what we did is if we start to enrich and we're not making any changes, if we're kind of seeing, like, okay. I'm I'm getting more data, but it's literally the same data that was already there, I would start to cut off the spider at that point.\n",
            "And so it's that that is really one of the big problems though because you can, I mean, spend a lot of money\n",
            "</text></source>\n",
            "<source key='F043U5'><metadata type='File' file-type='Audio'><file-name>Unstructured Data is Dark Data Podcast.mp3</file-name><duration>00:41:26.0640000</duration></metadata><text start-time='00:28:00' end-time='00:29:00'>\n",
            "I I had music ones because this is where it kinda started, and I could get, like, the new releases, and it chops it up into, like, posts,\n",
            "kinda like RSS posts,\n",
            "and we can process that through the system. So, essentially, we have this polling model or this this poll model that we have a any API out there, we can kinda convert into our common data model and kinda have a continuous feed of data. So we could talk to a SQL database and look for new rows\n",
            "and basically generate events on and these posts in our system that could be processed.\n",
            "We just added email support recently, but in a file based world. So we could drop in, like, a MSG file or an email file or even a PST\n",
            "file, and we'd like, an Outlook file, we crack it open and and do document analysis and everything. But I could see a world where we're listening to the Google Mail API\n",
            "</text></source>\n",
            "<source key='CQ1AQW'><metadata type='File' file-type='Audio'><file-name>Unstructured Data is Dark Data Podcast.mp3</file-name><duration>00:41:26.0640000</duration></metadata><text start-time='00:27:00' end-time='00:28:00'>\n",
            "our knowledge graph and then actually, I mean, have public access to it. And so it's something we're thinking about. I mean, we're we don't have a public angle to what we're doing yet. It wouldn't be that hard to expose, but it's,\n",
            "it could do some really interesting things that way. The way I understand, up until now, we've been talking about, like, a a database or a s three bucket full of files, you know, full, you know, blob storage somewhere where you put your, you know, point at that, get access to it somehow, ingest it, and then then create these knowledge graphs and and do all the things we've been talking about. Is there a world where I could take a service like you yours and point it at an API and say, can you just pull that API\n",
            "and and can you do that? And build, like, a knowledge graph around what was that and, like, tell me new things about that data? Well, that's where the the funny thing is that's where it all started. So I was I have it, we have this concept of a feed. And so it's it's essentially a it's based kind of on the RSS feed concept where you can have any API that we can read. It could be an RSS feed. It could be what other ones do I have? Spotify.\n",
            "</text></source>\n",
            "<source key='QS79ZL'><metadata type='File' file-type='Audio'><file-name>Unstructured Data is Dark Data Podcast.mp3</file-name><duration>00:41:26.0640000</duration></metadata><text start-time='00:16:00' end-time='00:17:00'>\n",
            "And once you can start to the other interesting part is, hey. I mean, what other data can we gather from the linked entities on the show notes or the link documents,\n",
            "HTML documents, and start to create commonality from that as well? And that's where we started to see a lot of the value. And and there's a so much data. Essentially, I had to build, like, a web spider to do that where it just would continually start pulling in the data, reading the document, doing NDA analysis,\n",
            "coming up with a list of links that it found in the document, and then spidering out again.\n",
            "When I hear you talk about this, it feels like that this is creating the the network effect for data. Exactly. I mean and that's why I really only got into knowledge graphs heavy maybe 5 years ago. And once you start to see the, I mean, I've done a good bit of database work and understanding, I mean, okay, you have sort of a table and you have a key to something else that lives somewhere else. And I started to look at knowledge graphs as a great way to have sort of dynamic references\n",
            "that we can invent new edges on the fly. I mean, you have all your data and you say, oh, well, this entity is actually, I mean, related to this other entity, and here's a new edge we're gonna create. And in the SQL world or kind of classic database world, updating the schema is always the biggest pain in the butt for for everybody. And so schema migration\n",
            "</text></source>\n",
            "<source key='19JFEDZ'><metadata type='File' file-type='Audio'><file-name>Unstructured Data is Dark Data Podcast.mp3</file-name><duration>00:41:26.0640000</duration></metadata><text start-time='00:06:00' end-time='00:07:00'>\n",
            "which could just come from inferring across a whole bunch of images or a bunch of data. And so we kinda call that 3rd order metadata that's really I mean, that's when you start to get into machine learning and you start to get into more complex inference.\n",
            "And and that could be something where we now know this is an image of this piece of equipment or this physical asset\n",
            "that is something that a customer has maybe in another database somewhere. So creating that edge essentially and we think in knowledge graphs. So everything is kind of an edge connecting something to something.\n",
            "Creating those edges, to us is is kind of that 3rd order method. Is there any limit to sort of how far we could spider out from, you know, first order\n",
            "metadata, you know, to 2nd order to 3rd order? Could could this essentially just carry on and on and on depending on our compute capabilities?\n",
            "Yeah. I mean, it's and it's not that different from, like, what Google is doing with their knowledge graph or the web or other companies. But, I mean, theoretically,\n",
            "</text></source>\n",
            "</sources>\n",
            "\n",
            "<user-prompt>\n",
            "In 3-5 detailed paragraphs, explain unstructured data and its usefulness for knowledge capture and retrieval.\n",
            "</user-prompt>\n",
            "\n",
            "<answer>\n",
            "Content sources have been reranked (i.e. sorted) already. Prefer using the top sources over the bottom sources in the list provided, when you reason about your response.\n",
            "\n",
            "Answer only in JSON, adhering to provided JSON schema, but without literally including the schema in your response:\n",
            "```json\n",
            "</answer>\n",
            "\n"
          ]
        },
        {
          "output_type": "display_data",
          "data": {
            "text/plain": [
              "<IPython.core.display.Markdown object>"
            ],
            "text/markdown": "**ASSISTANT:**"
          },
          "metadata": {}
        },
        {
          "output_type": "stream",
          "name": "stdout",
          "text": [
            "```json\n",
            "{\n",
            "  \"items\": [\n",
            "    {\n",
            "      \"text\": \"Unstructured data refers to information that does not have a predefined data model or is not organized in a pre-defined manner. This includes a wide variety of data types such as images, audio files, videos, and text documents. Unlike structured data, which is highly organized and easily searchable in databases, unstructured data is more complex and requires advanced processing techniques to extract meaningful information. Despite its complexity, unstructured data is abundant and continuously growing, making it a valuable resource for organizations seeking to gain insights and make data-driven decisions.\",\n",
            "      \"keys\": [\"JGNJ4\", \"1BVNM6Z\", \"BGYFVZ\", \"MRUMH2\", \"1BRDWDW\"]\n",
            "    },\n",
            "    {\n",
            "      \"text\": \"The usefulness of unstructured data lies in its potential to capture a wide range of information that structured data cannot. For instance, images and videos can provide visual context, while audio recordings can capture nuances in speech and tone. By analyzing unstructured data, organizations can uncover patterns, trends, and insights that are not immediately apparent. This is particularly valuable in fields such as geospatial analysis, where data from drones, satellites, and IoT devices can be used to monitor and manage real-world assets.\",\n",
            "      \"keys\": [\"KZGLNR\", \"E4673\", \"UEAYCA\", \"U8RP4N\", \"XVALSF\"]\n",
            "    },\n",
            "    {\n",
            "      \"text\": \"Knowledge capture from unstructured data involves extracting and organizing information to create a comprehensive understanding of a subject. This process often utilizes techniques such as natural language processing, computer vision, and machine learning to identify entities, relationships, and sentiments within the data. By building knowledge graphs, organizations can map out connections between different pieces of information, enabling more effective data retrieval and analysis. This approach not only enhances data accessibility but also supports more informed decision-making processes.\",\n",
            "      \"keys\": [\"L6ZNNX\", \"QS79ZL\", \"19JFEDZ\", \"DK0SF\", \"XVALSF\"]\n",
            "    },\n",
            "    {\n",
            "      \"text\": \"Retrieving knowledge from unstructured data requires sophisticated search and indexing capabilities. Traditional search methods, which rely on exact matches and structured queries, are often inadequate for unstructured data. Instead, semantic search techniques are employed to understand the context and meaning of the data, allowing for more accurate and relevant results. This is particularly important in industries where timely and precise information retrieval is critical, such as healthcare, finance, and logistics.\",\n",
            "      \"keys\": [\"EWX2TR\", \"DSGDPZ\", \"WPYN8D\", \"JT23KM\", \"7Z9E2V\"]\n",
            "    },\n",
            "    {\n",
            "      \"text\": \"The integration of unstructured data into knowledge management systems can significantly enhance an organization's ability to innovate and respond to changing conditions. By leveraging the rich insights contained within unstructured data, companies can improve their products, services, and operations. Furthermore, as technology continues to advance, the tools and methods for processing unstructured data will become more efficient and accessible, further unlocking its potential for knowledge capture and retrieval.\",\n",
            "      \"keys\": [\"1BRDWDW\", \"DSGDPZ\", \"UYDLN4\", \"F043U5\", \"16TSRE5\"]\n",
            "    }\n",
            "  ]\n",
            "}\n",
            "```\n"
          ]
        }
      ]
    }
  ]
}