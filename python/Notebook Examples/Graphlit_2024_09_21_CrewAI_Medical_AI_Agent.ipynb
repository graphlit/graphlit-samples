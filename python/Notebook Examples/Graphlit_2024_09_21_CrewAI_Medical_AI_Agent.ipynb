{
  "nbformat": 4,
  "nbformat_minor": 0,
  "metadata": {
    "colab": {
      "provenance": [],
      "authorship_tag": "ABX9TyOxN0+1BB9aTsPjfJX2dKVl",
      "include_colab_link": true
    },
    "kernelspec": {
      "name": "python3",
      "display_name": "Python 3"
    },
    "language_info": {
      "name": "python"
    }
  },
  "cells": [
    {
      "cell_type": "markdown",
      "metadata": {
        "id": "view-in-github",
        "colab_type": "text"
      },
      "source": [
        "<a href=\"https://colab.research.google.com/github/graphlit/graphlit-samples/blob/main/python/Notebook%20Examples/Graphlit_2024_09_21_CrewAI_Medical_AI_Agent.ipynb\" target=\"_parent\"><img src=\"https://colab.research.google.com/assets/colab-badge.svg\" alt=\"Open In Colab\"/></a>"
      ]
    },
    {
      "cell_type": "markdown",
      "source": [
        "**Description**\n",
        "\n",
        "This example shows how to use Graphlit with CrewAI. Based on this [great blog post](https://farzzy.hashnode.dev/building-healthcare-ai-agent-medical-guidelines) and [notebook](https://farzzy.hashnode.dev/building-healthcare-ai-agent-medical-guidelines) written by Farzad Sunavala, we emulate Farzad's workflow and show how to use Graphlit instead of LlamaIndex, while already leveraging Azure AI Search under the hood."
      ],
      "metadata": {
        "id": "gvxWpDjVamY1"
      }
    },
    {
      "cell_type": "markdown",
      "source": [
        "**Requirements**\n",
        "\n",
        "Prior to running this notebook, you will need to [signup](https://docs.graphlit.dev/getting-started/signup) for Graphlit, and [create a project](https://docs.graphlit.dev/getting-started/create-project).\n",
        "\n",
        "You will need the Graphlit organization ID, preview environment ID and JWT secret from your created project.\n",
        "\n",
        "Assign these properties as Colab secrets: GRAPHLIT_ORGANIZATION_ID, GRAPHLIT_ENVIRONMENT_ID and GRAPHLIT_JWT_SECRET.\n",
        "\n",
        "For CrewAI, you will need your OpenAI API key.\n",
        "\n",
        "Assign this property as Colab secret: OPENAI_API_KEY\n",
        "\n",
        "---"
      ],
      "metadata": {
        "id": "6fUPAkNqaNic"
      }
    },
    {
      "cell_type": "code",
      "source": [
        "!pip install --upgrade crewai"
      ],
      "metadata": {
        "id": "mtOGlxwGfjMJ",
        "colab": {
          "base_uri": "https://localhost:8080/"
        },
        "outputId": "2cd87abd-7f75-4a1c-c4f2-02229d5de194"
      },
      "execution_count": 1,
      "outputs": [
        {
          "output_type": "stream",
          "name": "stdout",
          "text": [
            "Requirement already satisfied: crewai in /usr/local/lib/python3.10/dist-packages (0.61.0)\n",
            "Requirement already satisfied: appdirs<2.0.0,>=1.4.4 in /usr/local/lib/python3.10/dist-packages (from crewai) (1.4.4)\n",
            "Requirement already satisfied: auth0-python<5.0.0,>=4.7.1 in /usr/local/lib/python3.10/dist-packages (from crewai) (4.7.2)\n",
            "Requirement already satisfied: click<9.0.0,>=8.1.7 in /usr/local/lib/python3.10/dist-packages (from crewai) (8.1.7)\n",
            "Requirement already satisfied: embedchain<0.2.0,>=0.1.114 in /usr/local/lib/python3.10/dist-packages (from crewai) (0.1.121)\n",
            "Requirement already satisfied: instructor==1.3.3 in /usr/local/lib/python3.10/dist-packages (from crewai) (1.3.3)\n",
            "Requirement already satisfied: json-repair<0.26.0,>=0.25.2 in /usr/local/lib/python3.10/dist-packages (from crewai) (0.25.3)\n",
            "Requirement already satisfied: jsonref<2.0.0,>=1.1.0 in /usr/local/lib/python3.10/dist-packages (from crewai) (1.1.0)\n",
            "Requirement already satisfied: langchain<0.3.0,>=0.2.16 in /usr/local/lib/python3.10/dist-packages (from crewai) (0.2.16)\n",
            "Requirement already satisfied: litellm<2.0.0,>=1.44.22 in /usr/local/lib/python3.10/dist-packages (from crewai) (1.47.1)\n",
            "Requirement already satisfied: openai<2.0.0,>=1.13.3 in /usr/local/lib/python3.10/dist-packages (from crewai) (1.47.0)\n",
            "Requirement already satisfied: opentelemetry-api<2.0.0,>=1.22.0 in /usr/local/lib/python3.10/dist-packages (from crewai) (1.27.0)\n",
            "Requirement already satisfied: opentelemetry-exporter-otlp-proto-http<2.0.0,>=1.22.0 in /usr/local/lib/python3.10/dist-packages (from crewai) (1.27.0)\n",
            "Requirement already satisfied: opentelemetry-sdk<2.0.0,>=1.22.0 in /usr/local/lib/python3.10/dist-packages (from crewai) (1.27.0)\n",
            "Requirement already satisfied: poetry<2.0.0,>=1.8.3 in /usr/local/lib/python3.10/dist-packages (from crewai) (1.8.3)\n",
            "Requirement already satisfied: pydantic<3.0.0,>=2.4.2 in /usr/local/lib/python3.10/dist-packages (from crewai) (2.9.2)\n",
            "Requirement already satisfied: python-dotenv<2.0.0,>=1.0.0 in /usr/local/lib/python3.10/dist-packages (from crewai) (1.0.1)\n",
            "Requirement already satisfied: regex<2025.0.0,>=2024.9.11 in /usr/local/lib/python3.10/dist-packages (from crewai) (2024.9.11)\n",
            "Requirement already satisfied: aiohttp<4.0.0,>=3.9.1 in /usr/local/lib/python3.10/dist-packages (from instructor==1.3.3->crewai) (3.10.5)\n",
            "Requirement already satisfied: docstring-parser<0.17,>=0.16 in /usr/local/lib/python3.10/dist-packages (from instructor==1.3.3->crewai) (0.16)\n",
            "Requirement already satisfied: jiter<0.5.0,>=0.4.1 in /usr/local/lib/python3.10/dist-packages (from instructor==1.3.3->crewai) (0.4.2)\n",
            "Requirement already satisfied: pydantic-core<3.0.0,>=2.18.0 in /usr/local/lib/python3.10/dist-packages (from instructor==1.3.3->crewai) (2.23.4)\n",
            "Requirement already satisfied: rich<14.0.0,>=13.7.0 in /usr/local/lib/python3.10/dist-packages (from instructor==1.3.3->crewai) (13.8.1)\n",
            "Requirement already satisfied: tenacity<9.0.0,>=8.2.3 in /usr/local/lib/python3.10/dist-packages (from instructor==1.3.3->crewai) (8.5.0)\n",
            "Requirement already satisfied: typer<1.0.0,>=0.9.0 in /usr/local/lib/python3.10/dist-packages (from instructor==1.3.3->crewai) (0.12.5)\n",
            "Requirement already satisfied: cryptography<44.0.0,>=43.0.1 in /usr/local/lib/python3.10/dist-packages (from auth0-python<5.0.0,>=4.7.1->crewai) (43.0.1)\n",
            "Requirement already satisfied: pyjwt<3.0.0,>=2.8.0 in /usr/local/lib/python3.10/dist-packages (from auth0-python<5.0.0,>=4.7.1->crewai) (2.9.0)\n",
            "Requirement already satisfied: requests<3.0.0,>=2.31.0 in /usr/local/lib/python3.10/dist-packages (from auth0-python<5.0.0,>=4.7.1->crewai) (2.32.3)\n",
            "Requirement already satisfied: urllib3<3.0.0,>=2.0.7 in /usr/local/lib/python3.10/dist-packages (from auth0-python<5.0.0,>=4.7.1->crewai) (2.0.7)\n",
            "Requirement already satisfied: alembic<2.0.0,>=1.13.1 in /usr/local/lib/python3.10/dist-packages (from embedchain<0.2.0,>=0.1.114->crewai) (1.13.2)\n",
            "Requirement already satisfied: beautifulsoup4<5.0.0,>=4.12.2 in /usr/local/lib/python3.10/dist-packages (from embedchain<0.2.0,>=0.1.114->crewai) (4.12.3)\n",
            "Requirement already satisfied: chromadb<0.5.0,>=0.4.24 in /usr/local/lib/python3.10/dist-packages (from embedchain<0.2.0,>=0.1.114->crewai) (0.4.24)\n",
            "Requirement already satisfied: cohere<6.0,>=5.3 in /usr/local/lib/python3.10/dist-packages (from embedchain<0.2.0,>=0.1.114->crewai) (5.9.4)\n",
            "Requirement already satisfied: google-cloud-aiplatform<2.0.0,>=1.26.1 in /usr/local/lib/python3.10/dist-packages (from embedchain<0.2.0,>=0.1.114->crewai) (1.67.0)\n",
            "Requirement already satisfied: gptcache<0.2.0,>=0.1.43 in /usr/local/lib/python3.10/dist-packages (from embedchain<0.2.0,>=0.1.114->crewai) (0.1.44)\n",
            "Requirement already satisfied: langchain-cohere<0.2.0,>=0.1.4 in /usr/local/lib/python3.10/dist-packages (from embedchain<0.2.0,>=0.1.114->crewai) (0.1.9)\n",
            "Requirement already satisfied: langchain-community<0.3.0,>=0.2.6 in /usr/local/lib/python3.10/dist-packages (from embedchain<0.2.0,>=0.1.114->crewai) (0.2.17)\n",
            "Requirement already satisfied: langchain-openai<0.2.0,>=0.1.7 in /usr/local/lib/python3.10/dist-packages (from embedchain<0.2.0,>=0.1.114->crewai) (0.1.25)\n",
            "Requirement already satisfied: mem0ai<0.0.21,>=0.0.20 in /usr/local/lib/python3.10/dist-packages (from embedchain<0.2.0,>=0.1.114->crewai) (0.0.20)\n",
            "Requirement already satisfied: posthog<4.0.0,>=3.0.2 in /usr/local/lib/python3.10/dist-packages (from embedchain<0.2.0,>=0.1.114->crewai) (3.6.6)\n",
            "Requirement already satisfied: pypdf<5.0.0,>=4.0.1 in /usr/local/lib/python3.10/dist-packages (from embedchain<0.2.0,>=0.1.114->crewai) (4.3.1)\n",
            "Requirement already satisfied: pysbd<0.4.0,>=0.3.4 in /usr/local/lib/python3.10/dist-packages (from embedchain<0.2.0,>=0.1.114->crewai) (0.3.4)\n",
            "Requirement already satisfied: schema<0.8.0,>=0.7.5 in /usr/local/lib/python3.10/dist-packages (from embedchain<0.2.0,>=0.1.114->crewai) (0.7.7)\n",
            "Requirement already satisfied: sqlalchemy<3.0.0,>=2.0.27 in /usr/local/lib/python3.10/dist-packages (from embedchain<0.2.0,>=0.1.114->crewai) (2.0.35)\n",
            "Requirement already satisfied: tiktoken<0.8.0,>=0.7.0 in /usr/local/lib/python3.10/dist-packages (from embedchain<0.2.0,>=0.1.114->crewai) (0.7.0)\n",
            "Requirement already satisfied: PyYAML>=5.3 in /usr/local/lib/python3.10/dist-packages (from langchain<0.3.0,>=0.2.16->crewai) (6.0.2)\n",
            "Requirement already satisfied: async-timeout<5.0.0,>=4.0.0 in /usr/local/lib/python3.10/dist-packages (from langchain<0.3.0,>=0.2.16->crewai) (4.0.3)\n",
            "Requirement already satisfied: langchain-core<0.3.0,>=0.2.38 in /usr/local/lib/python3.10/dist-packages (from langchain<0.3.0,>=0.2.16->crewai) (0.2.41)\n",
            "Requirement already satisfied: langchain-text-splitters<0.3.0,>=0.2.0 in /usr/local/lib/python3.10/dist-packages (from langchain<0.3.0,>=0.2.16->crewai) (0.2.4)\n",
            "Requirement already satisfied: langsmith<0.2.0,>=0.1.17 in /usr/local/lib/python3.10/dist-packages (from langchain<0.3.0,>=0.2.16->crewai) (0.1.125)\n",
            "Requirement already satisfied: numpy<2,>=1 in /usr/local/lib/python3.10/dist-packages (from langchain<0.3.0,>=0.2.16->crewai) (1.26.4)\n",
            "Requirement already satisfied: importlib-metadata>=6.8.0 in /usr/local/lib/python3.10/dist-packages (from litellm<2.0.0,>=1.44.22->crewai) (8.4.0)\n",
            "Requirement already satisfied: jinja2<4.0.0,>=3.1.2 in /usr/local/lib/python3.10/dist-packages (from litellm<2.0.0,>=1.44.22->crewai) (3.1.4)\n",
            "Requirement already satisfied: jsonschema<5.0.0,>=4.22.0 in /usr/local/lib/python3.10/dist-packages (from litellm<2.0.0,>=1.44.22->crewai) (4.23.0)\n",
            "Requirement already satisfied: tokenizers in /usr/local/lib/python3.10/dist-packages (from litellm<2.0.0,>=1.44.22->crewai) (0.19.1)\n",
            "Requirement already satisfied: anyio<5,>=3.5.0 in /usr/local/lib/python3.10/dist-packages (from openai<2.0.0,>=1.13.3->crewai) (3.7.1)\n",
            "Requirement already satisfied: distro<2,>=1.7.0 in /usr/lib/python3/dist-packages (from openai<2.0.0,>=1.13.3->crewai) (1.7.0)\n",
            "Requirement already satisfied: httpx<1,>=0.23.0 in /usr/local/lib/python3.10/dist-packages (from openai<2.0.0,>=1.13.3->crewai) (0.27.2)\n",
            "Requirement already satisfied: sniffio in /usr/local/lib/python3.10/dist-packages (from openai<2.0.0,>=1.13.3->crewai) (1.3.1)\n",
            "Requirement already satisfied: tqdm>4 in /usr/local/lib/python3.10/dist-packages (from openai<2.0.0,>=1.13.3->crewai) (4.66.5)\n",
            "Requirement already satisfied: typing-extensions<5,>=4.11 in /usr/local/lib/python3.10/dist-packages (from openai<2.0.0,>=1.13.3->crewai) (4.12.2)\n",
            "Requirement already satisfied: deprecated>=1.2.6 in /usr/local/lib/python3.10/dist-packages (from opentelemetry-api<2.0.0,>=1.22.0->crewai) (1.2.14)\n",
            "Requirement already satisfied: googleapis-common-protos~=1.52 in /usr/local/lib/python3.10/dist-packages (from opentelemetry-exporter-otlp-proto-http<2.0.0,>=1.22.0->crewai) (1.65.0)\n",
            "Requirement already satisfied: opentelemetry-exporter-otlp-proto-common==1.27.0 in /usr/local/lib/python3.10/dist-packages (from opentelemetry-exporter-otlp-proto-http<2.0.0,>=1.22.0->crewai) (1.27.0)\n",
            "Requirement already satisfied: opentelemetry-proto==1.27.0 in /usr/local/lib/python3.10/dist-packages (from opentelemetry-exporter-otlp-proto-http<2.0.0,>=1.22.0->crewai) (1.27.0)\n",
            "Requirement already satisfied: protobuf<5.0,>=3.19 in /usr/local/lib/python3.10/dist-packages (from opentelemetry-proto==1.27.0->opentelemetry-exporter-otlp-proto-http<2.0.0,>=1.22.0->crewai) (4.25.5)\n",
            "Requirement already satisfied: opentelemetry-semantic-conventions==0.48b0 in /usr/local/lib/python3.10/dist-packages (from opentelemetry-sdk<2.0.0,>=1.22.0->crewai) (0.48b0)\n",
            "Requirement already satisfied: build<2.0.0,>=1.0.3 in /usr/local/lib/python3.10/dist-packages (from poetry<2.0.0,>=1.8.3->crewai) (1.2.2)\n",
            "Requirement already satisfied: cachecontrol<0.15.0,>=0.14.0 in /usr/local/lib/python3.10/dist-packages (from cachecontrol[filecache]<0.15.0,>=0.14.0->poetry<2.0.0,>=1.8.3->crewai) (0.14.0)\n",
            "Requirement already satisfied: cleo<3.0.0,>=2.1.0 in /usr/local/lib/python3.10/dist-packages (from poetry<2.0.0,>=1.8.3->crewai) (2.1.0)\n",
            "Requirement already satisfied: crashtest<0.5.0,>=0.4.1 in /usr/local/lib/python3.10/dist-packages (from poetry<2.0.0,>=1.8.3->crewai) (0.4.1)\n",
            "Requirement already satisfied: dulwich<0.22.0,>=0.21.2 in /usr/local/lib/python3.10/dist-packages (from poetry<2.0.0,>=1.8.3->crewai) (0.21.7)\n",
            "Requirement already satisfied: fastjsonschema<3.0.0,>=2.18.0 in /usr/local/lib/python3.10/dist-packages (from poetry<2.0.0,>=1.8.3->crewai) (2.20.0)\n",
            "Requirement already satisfied: installer<0.8.0,>=0.7.0 in /usr/local/lib/python3.10/dist-packages (from poetry<2.0.0,>=1.8.3->crewai) (0.7.0)\n",
            "Requirement already satisfied: keyring<25.0.0,>=24.0.0 in /usr/local/lib/python3.10/dist-packages (from poetry<2.0.0,>=1.8.3->crewai) (24.3.1)\n",
            "Requirement already satisfied: packaging>=23.1 in /usr/local/lib/python3.10/dist-packages (from poetry<2.0.0,>=1.8.3->crewai) (24.1)\n",
            "Requirement already satisfied: pexpect<5.0.0,>=4.7.0 in /usr/local/lib/python3.10/dist-packages (from poetry<2.0.0,>=1.8.3->crewai) (4.9.0)\n",
            "Requirement already satisfied: pkginfo<2.0,>=1.10 in /usr/local/lib/python3.10/dist-packages (from poetry<2.0.0,>=1.8.3->crewai) (1.11.1)\n",
            "Requirement already satisfied: platformdirs<5,>=3.0.0 in /usr/local/lib/python3.10/dist-packages (from poetry<2.0.0,>=1.8.3->crewai) (4.3.6)\n",
            "Requirement already satisfied: poetry-core==1.9.0 in /usr/local/lib/python3.10/dist-packages (from poetry<2.0.0,>=1.8.3->crewai) (1.9.0)\n",
            "Requirement already satisfied: poetry-plugin-export<2.0.0,>=1.6.0 in /usr/local/lib/python3.10/dist-packages (from poetry<2.0.0,>=1.8.3->crewai) (1.8.0)\n",
            "Requirement already satisfied: pyproject-hooks<2.0.0,>=1.0.0 in /usr/local/lib/python3.10/dist-packages (from poetry<2.0.0,>=1.8.3->crewai) (1.1.0)\n",
            "Requirement already satisfied: requests-toolbelt<2.0.0,>=1.0.0 in /usr/local/lib/python3.10/dist-packages (from poetry<2.0.0,>=1.8.3->crewai) (1.0.0)\n",
            "Requirement already satisfied: shellingham<2.0,>=1.5 in /usr/local/lib/python3.10/dist-packages (from poetry<2.0.0,>=1.8.3->crewai) (1.5.4)\n",
            "Requirement already satisfied: tomli<3.0.0,>=2.0.1 in /usr/local/lib/python3.10/dist-packages (from poetry<2.0.0,>=1.8.3->crewai) (2.0.1)\n",
            "Requirement already satisfied: tomlkit<1.0.0,>=0.11.4 in /usr/local/lib/python3.10/dist-packages (from poetry<2.0.0,>=1.8.3->crewai) (0.13.2)\n",
            "Requirement already satisfied: trove-classifiers>=2022.5.19 in /usr/local/lib/python3.10/dist-packages (from poetry<2.0.0,>=1.8.3->crewai) (2024.9.12)\n",
            "Requirement already satisfied: virtualenv<21.0.0,>=20.23.0 in /usr/local/lib/python3.10/dist-packages (from poetry<2.0.0,>=1.8.3->crewai) (20.26.5)\n",
            "Requirement already satisfied: annotated-types>=0.6.0 in /usr/local/lib/python3.10/dist-packages (from pydantic<3.0.0,>=2.4.2->crewai) (0.7.0)\n",
            "Requirement already satisfied: aiohappyeyeballs>=2.3.0 in /usr/local/lib/python3.10/dist-packages (from aiohttp<4.0.0,>=3.9.1->instructor==1.3.3->crewai) (2.4.0)\n",
            "Requirement already satisfied: aiosignal>=1.1.2 in /usr/local/lib/python3.10/dist-packages (from aiohttp<4.0.0,>=3.9.1->instructor==1.3.3->crewai) (1.3.1)\n",
            "Requirement already satisfied: attrs>=17.3.0 in /usr/local/lib/python3.10/dist-packages (from aiohttp<4.0.0,>=3.9.1->instructor==1.3.3->crewai) (24.2.0)\n",
            "Requirement already satisfied: frozenlist>=1.1.1 in /usr/local/lib/python3.10/dist-packages (from aiohttp<4.0.0,>=3.9.1->instructor==1.3.3->crewai) (1.4.1)\n",
            "Requirement already satisfied: multidict<7.0,>=4.5 in /usr/local/lib/python3.10/dist-packages (from aiohttp<4.0.0,>=3.9.1->instructor==1.3.3->crewai) (6.1.0)\n",
            "Requirement already satisfied: yarl<2.0,>=1.0 in /usr/local/lib/python3.10/dist-packages (from aiohttp<4.0.0,>=3.9.1->instructor==1.3.3->crewai) (1.11.1)\n",
            "Requirement already satisfied: Mako in /usr/local/lib/python3.10/dist-packages (from alembic<2.0.0,>=1.13.1->embedchain<0.2.0,>=0.1.114->crewai) (1.3.5)\n",
            "Requirement already satisfied: idna>=2.8 in /usr/local/lib/python3.10/dist-packages (from anyio<5,>=3.5.0->openai<2.0.0,>=1.13.3->crewai) (3.10)\n",
            "Requirement already satisfied: exceptiongroup in /usr/local/lib/python3.10/dist-packages (from anyio<5,>=3.5.0->openai<2.0.0,>=1.13.3->crewai) (1.2.2)\n",
            "Requirement already satisfied: soupsieve>1.2 in /usr/local/lib/python3.10/dist-packages (from beautifulsoup4<5.0.0,>=4.12.2->embedchain<0.2.0,>=0.1.114->crewai) (2.6)\n",
            "Requirement already satisfied: msgpack<2.0.0,>=0.5.2 in /usr/local/lib/python3.10/dist-packages (from cachecontrol<0.15.0,>=0.14.0->cachecontrol[filecache]<0.15.0,>=0.14.0->poetry<2.0.0,>=1.8.3->crewai) (1.0.8)\n",
            "Requirement already satisfied: filelock>=3.8.0 in /usr/local/lib/python3.10/dist-packages (from cachecontrol[filecache]<0.15.0,>=0.14.0->poetry<2.0.0,>=1.8.3->crewai) (3.16.1)\n",
            "Requirement already satisfied: chroma-hnswlib==0.7.3 in /usr/local/lib/python3.10/dist-packages (from chromadb<0.5.0,>=0.4.24->embedchain<0.2.0,>=0.1.114->crewai) (0.7.3)\n",
            "Requirement already satisfied: fastapi>=0.95.2 in /usr/local/lib/python3.10/dist-packages (from chromadb<0.5.0,>=0.4.24->embedchain<0.2.0,>=0.1.114->crewai) (0.115.0)\n",
            "Requirement already satisfied: uvicorn>=0.18.3 in /usr/local/lib/python3.10/dist-packages (from uvicorn[standard]>=0.18.3->chromadb<0.5.0,>=0.4.24->embedchain<0.2.0,>=0.1.114->crewai) (0.30.6)\n",
            "Requirement already satisfied: pulsar-client>=3.1.0 in /usr/local/lib/python3.10/dist-packages (from chromadb<0.5.0,>=0.4.24->embedchain<0.2.0,>=0.1.114->crewai) (3.5.0)\n",
            "Requirement already satisfied: onnxruntime>=1.14.1 in /usr/local/lib/python3.10/dist-packages (from chromadb<0.5.0,>=0.4.24->embedchain<0.2.0,>=0.1.114->crewai) (1.19.2)\n",
            "Requirement already satisfied: opentelemetry-exporter-otlp-proto-grpc>=1.2.0 in /usr/local/lib/python3.10/dist-packages (from chromadb<0.5.0,>=0.4.24->embedchain<0.2.0,>=0.1.114->crewai) (1.27.0)\n",
            "Requirement already satisfied: opentelemetry-instrumentation-fastapi>=0.41b0 in /usr/local/lib/python3.10/dist-packages (from chromadb<0.5.0,>=0.4.24->embedchain<0.2.0,>=0.1.114->crewai) (0.48b0)\n",
            "Requirement already satisfied: pypika>=0.48.9 in /usr/local/lib/python3.10/dist-packages (from chromadb<0.5.0,>=0.4.24->embedchain<0.2.0,>=0.1.114->crewai) (0.48.9)\n",
            "Requirement already satisfied: overrides>=7.3.1 in /usr/local/lib/python3.10/dist-packages (from chromadb<0.5.0,>=0.4.24->embedchain<0.2.0,>=0.1.114->crewai) (7.7.0)\n",
            "Requirement already satisfied: importlib-resources in /usr/local/lib/python3.10/dist-packages (from chromadb<0.5.0,>=0.4.24->embedchain<0.2.0,>=0.1.114->crewai) (6.4.5)\n",
            "Requirement already satisfied: grpcio>=1.58.0 in /usr/local/lib/python3.10/dist-packages (from chromadb<0.5.0,>=0.4.24->embedchain<0.2.0,>=0.1.114->crewai) (1.64.1)\n",
            "Requirement already satisfied: bcrypt>=4.0.1 in /usr/local/lib/python3.10/dist-packages (from chromadb<0.5.0,>=0.4.24->embedchain<0.2.0,>=0.1.114->crewai) (4.2.0)\n",
            "Requirement already satisfied: kubernetes>=28.1.0 in /usr/local/lib/python3.10/dist-packages (from chromadb<0.5.0,>=0.4.24->embedchain<0.2.0,>=0.1.114->crewai) (31.0.0)\n",
            "Requirement already satisfied: mmh3>=4.0.1 in /usr/local/lib/python3.10/dist-packages (from chromadb<0.5.0,>=0.4.24->embedchain<0.2.0,>=0.1.114->crewai) (5.0.0)\n",
            "Requirement already satisfied: orjson>=3.9.12 in /usr/local/lib/python3.10/dist-packages (from chromadb<0.5.0,>=0.4.24->embedchain<0.2.0,>=0.1.114->crewai) (3.10.7)\n",
            "Requirement already satisfied: rapidfuzz<4.0.0,>=3.0.0 in /usr/local/lib/python3.10/dist-packages (from cleo<3.0.0,>=2.1.0->poetry<2.0.0,>=1.8.3->crewai) (3.9.7)\n",
            "Requirement already satisfied: boto3<2.0.0,>=1.34.0 in /usr/local/lib/python3.10/dist-packages (from cohere<6.0,>=5.3->embedchain<0.2.0,>=0.1.114->crewai) (1.35.24)\n",
            "Requirement already satisfied: fastavro<2.0.0,>=1.9.4 in /usr/local/lib/python3.10/dist-packages (from cohere<6.0,>=5.3->embedchain<0.2.0,>=0.1.114->crewai) (1.9.7)\n",
            "Requirement already satisfied: httpx-sse==0.4.0 in /usr/local/lib/python3.10/dist-packages (from cohere<6.0,>=5.3->embedchain<0.2.0,>=0.1.114->crewai) (0.4.0)\n",
            "Requirement already satisfied: parameterized<0.10.0,>=0.9.0 in /usr/local/lib/python3.10/dist-packages (from cohere<6.0,>=5.3->embedchain<0.2.0,>=0.1.114->crewai) (0.9.0)\n",
            "Requirement already satisfied: types-requests<3.0.0,>=2.0.0 in /usr/local/lib/python3.10/dist-packages (from cohere<6.0,>=5.3->embedchain<0.2.0,>=0.1.114->crewai) (2.32.0.20240914)\n",
            "Requirement already satisfied: cffi>=1.12 in /usr/local/lib/python3.10/dist-packages (from cryptography<44.0.0,>=43.0.1->auth0-python<5.0.0,>=4.7.1->crewai) (1.17.1)\n",
            "Requirement already satisfied: wrapt<2,>=1.10 in /usr/local/lib/python3.10/dist-packages (from deprecated>=1.2.6->opentelemetry-api<2.0.0,>=1.22.0->crewai) (1.16.0)\n",
            "Requirement already satisfied: google-api-core!=2.0.*,!=2.1.*,!=2.2.*,!=2.3.*,!=2.4.*,!=2.5.*,!=2.6.*,!=2.7.*,<3.0.0dev,>=1.34.1 in /usr/local/lib/python3.10/dist-packages (from google-api-core[grpc]!=2.0.*,!=2.1.*,!=2.2.*,!=2.3.*,!=2.4.*,!=2.5.*,!=2.6.*,!=2.7.*,<3.0.0dev,>=1.34.1->google-cloud-aiplatform<2.0.0,>=1.26.1->embedchain<0.2.0,>=0.1.114->crewai) (2.19.2)\n",
            "Requirement already satisfied: google-auth<3.0.0dev,>=2.14.1 in /usr/local/lib/python3.10/dist-packages (from google-cloud-aiplatform<2.0.0,>=1.26.1->embedchain<0.2.0,>=0.1.114->crewai) (2.27.0)\n",
            "Requirement already satisfied: proto-plus<2.0.0dev,>=1.22.3 in /usr/local/lib/python3.10/dist-packages (from google-cloud-aiplatform<2.0.0,>=1.26.1->embedchain<0.2.0,>=0.1.114->crewai) (1.24.0)\n",
            "Requirement already satisfied: google-cloud-storage<3.0.0dev,>=1.32.0 in /usr/local/lib/python3.10/dist-packages (from google-cloud-aiplatform<2.0.0,>=1.26.1->embedchain<0.2.0,>=0.1.114->crewai) (2.8.0)\n",
            "Requirement already satisfied: google-cloud-bigquery!=3.20.0,<4.0.0dev,>=1.15.0 in /usr/local/lib/python3.10/dist-packages (from google-cloud-aiplatform<2.0.0,>=1.26.1->embedchain<0.2.0,>=0.1.114->crewai) (3.25.0)\n",
            "Requirement already satisfied: google-cloud-resource-manager<3.0.0dev,>=1.3.3 in /usr/local/lib/python3.10/dist-packages (from google-cloud-aiplatform<2.0.0,>=1.26.1->embedchain<0.2.0,>=0.1.114->crewai) (1.12.5)\n",
            "Requirement already satisfied: shapely<3.0.0dev in /usr/local/lib/python3.10/dist-packages (from google-cloud-aiplatform<2.0.0,>=1.26.1->embedchain<0.2.0,>=0.1.114->crewai) (2.0.6)\n",
            "Requirement already satisfied: cachetools in /usr/local/lib/python3.10/dist-packages (from gptcache<0.2.0,>=0.1.43->embedchain<0.2.0,>=0.1.114->crewai) (5.5.0)\n",
            "Requirement already satisfied: certifi in /usr/local/lib/python3.10/dist-packages (from httpx<1,>=0.23.0->openai<2.0.0,>=1.13.3->crewai) (2024.8.30)\n",
            "Requirement already satisfied: httpcore==1.* in /usr/local/lib/python3.10/dist-packages (from httpx<1,>=0.23.0->openai<2.0.0,>=1.13.3->crewai) (1.0.5)\n",
            "Requirement already satisfied: h11<0.15,>=0.13 in /usr/local/lib/python3.10/dist-packages (from httpcore==1.*->httpx<1,>=0.23.0->openai<2.0.0,>=1.13.3->crewai) (0.14.0)\n",
            "Requirement already satisfied: zipp>=0.5 in /usr/local/lib/python3.10/dist-packages (from importlib-metadata>=6.8.0->litellm<2.0.0,>=1.44.22->crewai) (3.20.2)\n",
            "Requirement already satisfied: MarkupSafe>=2.0 in /usr/local/lib/python3.10/dist-packages (from jinja2<4.0.0,>=3.1.2->litellm<2.0.0,>=1.44.22->crewai) (2.1.5)\n",
            "Requirement already satisfied: jsonschema-specifications>=2023.03.6 in /usr/local/lib/python3.10/dist-packages (from jsonschema<5.0.0,>=4.22.0->litellm<2.0.0,>=1.44.22->crewai) (2023.12.1)\n",
            "Requirement already satisfied: referencing>=0.28.4 in /usr/local/lib/python3.10/dist-packages (from jsonschema<5.0.0,>=4.22.0->litellm<2.0.0,>=1.44.22->crewai) (0.35.1)\n",
            "Requirement already satisfied: rpds-py>=0.7.1 in /usr/local/lib/python3.10/dist-packages (from jsonschema<5.0.0,>=4.22.0->litellm<2.0.0,>=1.44.22->crewai) (0.20.0)\n",
            "Requirement already satisfied: jaraco.classes in /usr/local/lib/python3.10/dist-packages (from keyring<25.0.0,>=24.0.0->poetry<2.0.0,>=1.8.3->crewai) (3.4.0)\n",
            "Requirement already satisfied: SecretStorage>=3.2 in /usr/lib/python3/dist-packages (from keyring<25.0.0,>=24.0.0->poetry<2.0.0,>=1.8.3->crewai) (3.3.1)\n",
            "Requirement already satisfied: jeepney>=0.4.2 in /usr/lib/python3/dist-packages (from keyring<25.0.0,>=24.0.0->poetry<2.0.0,>=1.8.3->crewai) (0.7.1)\n",
            "Requirement already satisfied: langchain-experimental>=0.0.6 in /usr/local/lib/python3.10/dist-packages (from langchain-cohere<0.2.0,>=0.1.4->embedchain<0.2.0,>=0.1.114->crewai) (0.0.65)\n",
            "Requirement already satisfied: pandas>=1.4.3 in /usr/local/lib/python3.10/dist-packages (from langchain-cohere<0.2.0,>=0.1.4->embedchain<0.2.0,>=0.1.114->crewai) (2.1.4)\n",
            "Requirement already satisfied: tabulate<0.10.0,>=0.9.0 in /usr/local/lib/python3.10/dist-packages (from langchain-cohere<0.2.0,>=0.1.4->embedchain<0.2.0,>=0.1.114->crewai) (0.9.0)\n",
            "Requirement already satisfied: dataclasses-json<0.7,>=0.5.7 in /usr/local/lib/python3.10/dist-packages (from langchain-community<0.3.0,>=0.2.6->embedchain<0.2.0,>=0.1.114->crewai) (0.6.7)\n",
            "Requirement already satisfied: jsonpatch<2.0,>=1.33 in /usr/local/lib/python3.10/dist-packages (from langchain-core<0.3.0,>=0.2.38->langchain<0.3.0,>=0.2.16->crewai) (1.33)\n",
            "Requirement already satisfied: pytz<2025.0,>=2024.1 in /usr/local/lib/python3.10/dist-packages (from mem0ai<0.0.21,>=0.0.20->embedchain<0.2.0,>=0.1.114->crewai) (2024.2)\n",
            "Requirement already satisfied: qdrant-client<2.0.0,>=1.9.1 in /usr/local/lib/python3.10/dist-packages (from mem0ai<0.0.21,>=0.0.20->embedchain<0.2.0,>=0.1.114->crewai) (1.11.2)\n",
            "Requirement already satisfied: ptyprocess>=0.5 in /usr/local/lib/python3.10/dist-packages (from pexpect<5.0.0,>=4.7.0->poetry<2.0.0,>=1.8.3->crewai) (0.7.0)\n",
            "Requirement already satisfied: six>=1.5 in /usr/local/lib/python3.10/dist-packages (from posthog<4.0.0,>=3.0.2->embedchain<0.2.0,>=0.1.114->crewai) (1.16.0)\n",
            "Requirement already satisfied: monotonic>=1.5 in /usr/local/lib/python3.10/dist-packages (from posthog<4.0.0,>=3.0.2->embedchain<0.2.0,>=0.1.114->crewai) (1.6)\n",
            "Requirement already satisfied: backoff>=1.10.0 in /usr/local/lib/python3.10/dist-packages (from posthog<4.0.0,>=3.0.2->embedchain<0.2.0,>=0.1.114->crewai) (2.2.1)\n",
            "Requirement already satisfied: python-dateutil>2.1 in /usr/local/lib/python3.10/dist-packages (from posthog<4.0.0,>=3.0.2->embedchain<0.2.0,>=0.1.114->crewai) (2.8.2)\n",
            "Requirement already satisfied: charset-normalizer<4,>=2 in /usr/local/lib/python3.10/dist-packages (from requests<3.0.0,>=2.31.0->auth0-python<5.0.0,>=4.7.1->crewai) (3.3.2)\n",
            "Requirement already satisfied: markdown-it-py>=2.2.0 in /usr/local/lib/python3.10/dist-packages (from rich<14.0.0,>=13.7.0->instructor==1.3.3->crewai) (3.0.0)\n",
            "Requirement already satisfied: pygments<3.0.0,>=2.13.0 in /usr/local/lib/python3.10/dist-packages (from rich<14.0.0,>=13.7.0->instructor==1.3.3->crewai) (2.18.0)\n",
            "Requirement already satisfied: greenlet!=0.4.17 in /usr/local/lib/python3.10/dist-packages (from sqlalchemy<3.0.0,>=2.0.27->embedchain<0.2.0,>=0.1.114->crewai) (3.1.0)\n",
            "Requirement already satisfied: huggingface-hub<1.0,>=0.16.4 in /usr/local/lib/python3.10/dist-packages (from tokenizers->litellm<2.0.0,>=1.44.22->crewai) (0.24.7)\n",
            "Requirement already satisfied: distlib<1,>=0.3.7 in /usr/local/lib/python3.10/dist-packages (from virtualenv<21.0.0,>=20.23.0->poetry<2.0.0,>=1.8.3->crewai) (0.3.8)\n",
            "Requirement already satisfied: botocore<1.36.0,>=1.35.24 in /usr/local/lib/python3.10/dist-packages (from boto3<2.0.0,>=1.34.0->cohere<6.0,>=5.3->embedchain<0.2.0,>=0.1.114->crewai) (1.35.24)\n",
            "Requirement already satisfied: jmespath<2.0.0,>=0.7.1 in /usr/local/lib/python3.10/dist-packages (from boto3<2.0.0,>=1.34.0->cohere<6.0,>=5.3->embedchain<0.2.0,>=0.1.114->crewai) (1.0.1)\n",
            "Requirement already satisfied: s3transfer<0.11.0,>=0.10.0 in /usr/local/lib/python3.10/dist-packages (from boto3<2.0.0,>=1.34.0->cohere<6.0,>=5.3->embedchain<0.2.0,>=0.1.114->crewai) (0.10.2)\n",
            "Requirement already satisfied: pycparser in /usr/local/lib/python3.10/dist-packages (from cffi>=1.12->cryptography<44.0.0,>=43.0.1->auth0-python<5.0.0,>=4.7.1->crewai) (2.22)\n",
            "Requirement already satisfied: marshmallow<4.0.0,>=3.18.0 in /usr/local/lib/python3.10/dist-packages (from dataclasses-json<0.7,>=0.5.7->langchain-community<0.3.0,>=0.2.6->embedchain<0.2.0,>=0.1.114->crewai) (3.22.0)\n",
            "Requirement already satisfied: typing-inspect<1,>=0.4.0 in /usr/local/lib/python3.10/dist-packages (from dataclasses-json<0.7,>=0.5.7->langchain-community<0.3.0,>=0.2.6->embedchain<0.2.0,>=0.1.114->crewai) (0.9.0)\n",
            "Requirement already satisfied: starlette<0.39.0,>=0.37.2 in /usr/local/lib/python3.10/dist-packages (from fastapi>=0.95.2->chromadb<0.5.0,>=0.4.24->embedchain<0.2.0,>=0.1.114->crewai) (0.38.5)\n",
            "Requirement already satisfied: grpcio-status<2.0.dev0,>=1.33.2 in /usr/local/lib/python3.10/dist-packages (from google-api-core[grpc]!=2.0.*,!=2.1.*,!=2.2.*,!=2.3.*,!=2.4.*,!=2.5.*,!=2.6.*,!=2.7.*,<3.0.0dev,>=1.34.1->google-cloud-aiplatform<2.0.0,>=1.26.1->embedchain<0.2.0,>=0.1.114->crewai) (1.48.2)\n",
            "Requirement already satisfied: pyasn1-modules>=0.2.1 in /usr/local/lib/python3.10/dist-packages (from google-auth<3.0.0dev,>=2.14.1->google-cloud-aiplatform<2.0.0,>=1.26.1->embedchain<0.2.0,>=0.1.114->crewai) (0.4.1)\n",
            "Requirement already satisfied: rsa<5,>=3.1.4 in /usr/local/lib/python3.10/dist-packages (from google-auth<3.0.0dev,>=2.14.1->google-cloud-aiplatform<2.0.0,>=1.26.1->embedchain<0.2.0,>=0.1.114->crewai) (4.9)\n",
            "Requirement already satisfied: google-cloud-core<3.0.0dev,>=1.6.0 in /usr/local/lib/python3.10/dist-packages (from google-cloud-bigquery!=3.20.0,<4.0.0dev,>=1.15.0->google-cloud-aiplatform<2.0.0,>=1.26.1->embedchain<0.2.0,>=0.1.114->crewai) (2.4.1)\n",
            "Requirement already satisfied: google-resumable-media<3.0dev,>=0.6.0 in /usr/local/lib/python3.10/dist-packages (from google-cloud-bigquery!=3.20.0,<4.0.0dev,>=1.15.0->google-cloud-aiplatform<2.0.0,>=1.26.1->embedchain<0.2.0,>=0.1.114->crewai) (2.7.2)\n",
            "Requirement already satisfied: grpc-google-iam-v1<1.0.0dev,>=0.12.4 in /usr/local/lib/python3.10/dist-packages (from google-cloud-resource-manager<3.0.0dev,>=1.3.3->google-cloud-aiplatform<2.0.0,>=1.26.1->embedchain<0.2.0,>=0.1.114->crewai) (0.13.1)\n",
            "Requirement already satisfied: fsspec>=2023.5.0 in /usr/local/lib/python3.10/dist-packages (from huggingface-hub<1.0,>=0.16.4->tokenizers->litellm<2.0.0,>=1.44.22->crewai) (2024.6.1)\n",
            "Requirement already satisfied: jsonpointer>=1.9 in /usr/local/lib/python3.10/dist-packages (from jsonpatch<2.0,>=1.33->langchain-core<0.3.0,>=0.2.38->langchain<0.3.0,>=0.2.16->crewai) (3.0.0)\n",
            "Requirement already satisfied: websocket-client!=0.40.0,!=0.41.*,!=0.42.*,>=0.32.0 in /usr/local/lib/python3.10/dist-packages (from kubernetes>=28.1.0->chromadb<0.5.0,>=0.4.24->embedchain<0.2.0,>=0.1.114->crewai) (1.8.0)\n",
            "Requirement already satisfied: requests-oauthlib in /usr/local/lib/python3.10/dist-packages (from kubernetes>=28.1.0->chromadb<0.5.0,>=0.4.24->embedchain<0.2.0,>=0.1.114->crewai) (1.3.1)\n",
            "Requirement already satisfied: oauthlib>=3.2.2 in /usr/local/lib/python3.10/dist-packages (from kubernetes>=28.1.0->chromadb<0.5.0,>=0.4.24->embedchain<0.2.0,>=0.1.114->crewai) (3.2.2)\n",
            "Requirement already satisfied: durationpy>=0.7 in /usr/local/lib/python3.10/dist-packages (from kubernetes>=28.1.0->chromadb<0.5.0,>=0.4.24->embedchain<0.2.0,>=0.1.114->crewai) (0.7)\n",
            "Requirement already satisfied: mdurl~=0.1 in /usr/local/lib/python3.10/dist-packages (from markdown-it-py>=2.2.0->rich<14.0.0,>=13.7.0->instructor==1.3.3->crewai) (0.1.2)\n",
            "Requirement already satisfied: coloredlogs in /usr/local/lib/python3.10/dist-packages (from onnxruntime>=1.14.1->chromadb<0.5.0,>=0.4.24->embedchain<0.2.0,>=0.1.114->crewai) (15.0.1)\n",
            "Requirement already satisfied: flatbuffers in /usr/local/lib/python3.10/dist-packages (from onnxruntime>=1.14.1->chromadb<0.5.0,>=0.4.24->embedchain<0.2.0,>=0.1.114->crewai) (24.3.25)\n",
            "Requirement already satisfied: sympy in /usr/local/lib/python3.10/dist-packages (from onnxruntime>=1.14.1->chromadb<0.5.0,>=0.4.24->embedchain<0.2.0,>=0.1.114->crewai) (1.13.2)\n",
            "Requirement already satisfied: opentelemetry-instrumentation-asgi==0.48b0 in /usr/local/lib/python3.10/dist-packages (from opentelemetry-instrumentation-fastapi>=0.41b0->chromadb<0.5.0,>=0.4.24->embedchain<0.2.0,>=0.1.114->crewai) (0.48b0)\n",
            "Requirement already satisfied: opentelemetry-instrumentation==0.48b0 in /usr/local/lib/python3.10/dist-packages (from opentelemetry-instrumentation-fastapi>=0.41b0->chromadb<0.5.0,>=0.4.24->embedchain<0.2.0,>=0.1.114->crewai) (0.48b0)\n",
            "Requirement already satisfied: opentelemetry-util-http==0.48b0 in /usr/local/lib/python3.10/dist-packages (from opentelemetry-instrumentation-fastapi>=0.41b0->chromadb<0.5.0,>=0.4.24->embedchain<0.2.0,>=0.1.114->crewai) (0.48b0)\n",
            "Requirement already satisfied: setuptools>=16.0 in /usr/local/lib/python3.10/dist-packages (from opentelemetry-instrumentation==0.48b0->opentelemetry-instrumentation-fastapi>=0.41b0->chromadb<0.5.0,>=0.4.24->embedchain<0.2.0,>=0.1.114->crewai) (71.0.4)\n",
            "Requirement already satisfied: asgiref~=3.0 in /usr/local/lib/python3.10/dist-packages (from opentelemetry-instrumentation-asgi==0.48b0->opentelemetry-instrumentation-fastapi>=0.41b0->chromadb<0.5.0,>=0.4.24->embedchain<0.2.0,>=0.1.114->crewai) (3.8.1)\n",
            "Requirement already satisfied: tzdata>=2022.1 in /usr/local/lib/python3.10/dist-packages (from pandas>=1.4.3->langchain-cohere<0.2.0,>=0.1.4->embedchain<0.2.0,>=0.1.114->crewai) (2024.1)\n",
            "Requirement already satisfied: grpcio-tools>=1.41.0 in /usr/local/lib/python3.10/dist-packages (from qdrant-client<2.0.0,>=1.9.1->mem0ai<0.0.21,>=0.0.20->embedchain<0.2.0,>=0.1.114->crewai) (1.62.3)\n",
            "Requirement already satisfied: portalocker<3.0.0,>=2.7.0 in /usr/local/lib/python3.10/dist-packages (from qdrant-client<2.0.0,>=1.9.1->mem0ai<0.0.21,>=0.0.20->embedchain<0.2.0,>=0.1.114->crewai) (2.10.1)\n",
            "Requirement already satisfied: httptools>=0.5.0 in /usr/local/lib/python3.10/dist-packages (from uvicorn[standard]>=0.18.3->chromadb<0.5.0,>=0.4.24->embedchain<0.2.0,>=0.1.114->crewai) (0.6.1)\n",
            "Requirement already satisfied: uvloop!=0.15.0,!=0.15.1,>=0.14.0 in /usr/local/lib/python3.10/dist-packages (from uvicorn[standard]>=0.18.3->chromadb<0.5.0,>=0.4.24->embedchain<0.2.0,>=0.1.114->crewai) (0.20.0)\n",
            "Requirement already satisfied: watchfiles>=0.13 in /usr/local/lib/python3.10/dist-packages (from uvicorn[standard]>=0.18.3->chromadb<0.5.0,>=0.4.24->embedchain<0.2.0,>=0.1.114->crewai) (0.24.0)\n",
            "Requirement already satisfied: websockets>=10.4 in /usr/local/lib/python3.10/dist-packages (from uvicorn[standard]>=0.18.3->chromadb<0.5.0,>=0.4.24->embedchain<0.2.0,>=0.1.114->crewai) (13.1)\n",
            "Requirement already satisfied: more-itertools in /usr/local/lib/python3.10/dist-packages (from jaraco.classes->keyring<25.0.0,>=24.0.0->poetry<2.0.0,>=1.8.3->crewai) (10.5.0)\n",
            "Requirement already satisfied: google-crc32c<2.0dev,>=1.0 in /usr/local/lib/python3.10/dist-packages (from google-resumable-media<3.0dev,>=0.6.0->google-cloud-bigquery!=3.20.0,<4.0.0dev,>=1.15.0->google-cloud-aiplatform<2.0.0,>=1.26.1->embedchain<0.2.0,>=0.1.114->crewai) (1.6.0)\n",
            "Requirement already satisfied: h2<5,>=3 in /usr/local/lib/python3.10/dist-packages (from httpx[http2]>=0.20.0->qdrant-client<2.0.0,>=1.9.1->mem0ai<0.0.21,>=0.0.20->embedchain<0.2.0,>=0.1.114->crewai) (4.1.0)\n",
            "Requirement already satisfied: pyasn1<0.7.0,>=0.4.6 in /usr/local/lib/python3.10/dist-packages (from pyasn1-modules>=0.2.1->google-auth<3.0.0dev,>=2.14.1->google-cloud-aiplatform<2.0.0,>=1.26.1->embedchain<0.2.0,>=0.1.114->crewai) (0.6.1)\n",
            "Requirement already satisfied: mypy-extensions>=0.3.0 in /usr/local/lib/python3.10/dist-packages (from typing-inspect<1,>=0.4.0->dataclasses-json<0.7,>=0.5.7->langchain-community<0.3.0,>=0.2.6->embedchain<0.2.0,>=0.1.114->crewai) (1.0.0)\n",
            "Requirement already satisfied: humanfriendly>=9.1 in /usr/local/lib/python3.10/dist-packages (from coloredlogs->onnxruntime>=1.14.1->chromadb<0.5.0,>=0.4.24->embedchain<0.2.0,>=0.1.114->crewai) (10.0)\n",
            "Requirement already satisfied: mpmath<1.4,>=1.1.0 in /usr/local/lib/python3.10/dist-packages (from sympy->onnxruntime>=1.14.1->chromadb<0.5.0,>=0.4.24->embedchain<0.2.0,>=0.1.114->crewai) (1.3.0)\n",
            "Requirement already satisfied: hyperframe<7,>=6.0 in /usr/local/lib/python3.10/dist-packages (from h2<5,>=3->httpx[http2]>=0.20.0->qdrant-client<2.0.0,>=1.9.1->mem0ai<0.0.21,>=0.0.20->embedchain<0.2.0,>=0.1.114->crewai) (6.0.1)\n",
            "Requirement already satisfied: hpack<5,>=4.0 in /usr/local/lib/python3.10/dist-packages (from h2<5,>=3->httpx[http2]>=0.20.0->qdrant-client<2.0.0,>=1.9.1->mem0ai<0.0.21,>=0.0.20->embedchain<0.2.0,>=0.1.114->crewai) (4.0.0)\n"
          ]
        }
      ]
    },
    {
      "cell_type": "code",
      "source": [
        "!pip install --upgrade graphlit-tools"
      ],
      "metadata": {
        "id": "DlIzErtofaWT",
        "colab": {
          "base_uri": "https://localhost:8080/"
        },
        "outputId": "659f459d-1944-41e1-c8a5-944ce63cae48"
      },
      "execution_count": 2,
      "outputs": [
        {
          "output_type": "stream",
          "name": "stdout",
          "text": [
            "Collecting graphlit-tools\n",
            "  Using cached graphlit_tools-1.0.20240921020-py3-none-any.whl.metadata (2.4 kB)\n",
            "Collecting graphlit-client (from graphlit-tools)\n",
            "  Using cached graphlit_client-1.0.20240914001-py3-none-any.whl.metadata (2.7 kB)\n",
            "Requirement already satisfied: langchain-core in /usr/local/lib/python3.10/dist-packages (from graphlit-tools) (0.2.41)\n",
            "Requirement already satisfied: httpx in /usr/local/lib/python3.10/dist-packages (from graphlit-client->graphlit-tools) (0.27.2)\n",
            "Requirement already satisfied: pydantic<3.0.0,>=2.0.0 in /usr/local/lib/python3.10/dist-packages (from graphlit-client->graphlit-tools) (2.9.2)\n",
            "Requirement already satisfied: PyJWT in /usr/local/lib/python3.10/dist-packages (from graphlit-client->graphlit-tools) (2.9.0)\n",
            "Requirement already satisfied: websockets in /usr/local/lib/python3.10/dist-packages (from graphlit-client->graphlit-tools) (13.1)\n",
            "Requirement already satisfied: PyYAML>=5.3 in /usr/local/lib/python3.10/dist-packages (from langchain-core->graphlit-tools) (6.0.2)\n",
            "Requirement already satisfied: jsonpatch<2.0,>=1.33 in /usr/local/lib/python3.10/dist-packages (from langchain-core->graphlit-tools) (1.33)\n",
            "Requirement already satisfied: langsmith<0.2.0,>=0.1.112 in /usr/local/lib/python3.10/dist-packages (from langchain-core->graphlit-tools) (0.1.125)\n",
            "Requirement already satisfied: packaging<25,>=23.2 in /usr/local/lib/python3.10/dist-packages (from langchain-core->graphlit-tools) (24.1)\n",
            "Requirement already satisfied: tenacity!=8.4.0,<9.0.0,>=8.1.0 in /usr/local/lib/python3.10/dist-packages (from langchain-core->graphlit-tools) (8.5.0)\n",
            "Requirement already satisfied: typing-extensions>=4.7 in /usr/local/lib/python3.10/dist-packages (from langchain-core->graphlit-tools) (4.12.2)\n",
            "Requirement already satisfied: jsonpointer>=1.9 in /usr/local/lib/python3.10/dist-packages (from jsonpatch<2.0,>=1.33->langchain-core->graphlit-tools) (3.0.0)\n",
            "Requirement already satisfied: orjson<4.0.0,>=3.9.14 in /usr/local/lib/python3.10/dist-packages (from langsmith<0.2.0,>=0.1.112->langchain-core->graphlit-tools) (3.10.7)\n",
            "Requirement already satisfied: requests<3,>=2 in /usr/local/lib/python3.10/dist-packages (from langsmith<0.2.0,>=0.1.112->langchain-core->graphlit-tools) (2.32.3)\n",
            "Requirement already satisfied: anyio in /usr/local/lib/python3.10/dist-packages (from httpx->graphlit-client->graphlit-tools) (3.7.1)\n",
            "Requirement already satisfied: certifi in /usr/local/lib/python3.10/dist-packages (from httpx->graphlit-client->graphlit-tools) (2024.8.30)\n",
            "Requirement already satisfied: httpcore==1.* in /usr/local/lib/python3.10/dist-packages (from httpx->graphlit-client->graphlit-tools) (1.0.5)\n",
            "Requirement already satisfied: idna in /usr/local/lib/python3.10/dist-packages (from httpx->graphlit-client->graphlit-tools) (3.10)\n",
            "Requirement already satisfied: sniffio in /usr/local/lib/python3.10/dist-packages (from httpx->graphlit-client->graphlit-tools) (1.3.1)\n",
            "Requirement already satisfied: h11<0.15,>=0.13 in /usr/local/lib/python3.10/dist-packages (from httpcore==1.*->httpx->graphlit-client->graphlit-tools) (0.14.0)\n",
            "Requirement already satisfied: annotated-types>=0.6.0 in /usr/local/lib/python3.10/dist-packages (from pydantic<3.0.0,>=2.0.0->graphlit-client->graphlit-tools) (0.7.0)\n",
            "Requirement already satisfied: pydantic-core==2.23.4 in /usr/local/lib/python3.10/dist-packages (from pydantic<3.0.0,>=2.0.0->graphlit-client->graphlit-tools) (2.23.4)\n",
            "Requirement already satisfied: charset-normalizer<4,>=2 in /usr/local/lib/python3.10/dist-packages (from requests<3,>=2->langsmith<0.2.0,>=0.1.112->langchain-core->graphlit-tools) (3.3.2)\n",
            "Requirement already satisfied: urllib3<3,>=1.21.1 in /usr/local/lib/python3.10/dist-packages (from requests<3,>=2->langsmith<0.2.0,>=0.1.112->langchain-core->graphlit-tools) (2.0.7)\n",
            "Requirement already satisfied: exceptiongroup in /usr/local/lib/python3.10/dist-packages (from anyio->httpx->graphlit-client->graphlit-tools) (1.2.2)\n",
            "Using cached graphlit_tools-1.0.20240921020-py3-none-any.whl (14 kB)\n",
            "Using cached graphlit_client-1.0.20240914001-py3-none-any.whl (197 kB)\n",
            "Installing collected packages: graphlit-client, graphlit-tools\n",
            "Successfully installed graphlit-client-1.0.20240914001 graphlit-tools-1.0.20240921020\n"
          ]
        }
      ]
    },
    {
      "cell_type": "markdown",
      "source": [
        "Clone the original repo to access the PDFs"
      ],
      "metadata": {
        "id": "LgvjqV-Y5GKo"
      }
    },
    {
      "cell_type": "code",
      "source": [
        "!rm -rf azure-ai-search-python-playground\n",
        "!git clone https://github.com/farzad528/azure-ai-search-python-playground"
      ],
      "metadata": {
        "colab": {
          "base_uri": "https://localhost:8080/"
        },
        "id": "wx1jyCbfeNU9",
        "outputId": "a17395df-5181-4b83-8193-72c4b9d42c19"
      },
      "execution_count": 3,
      "outputs": [
        {
          "output_type": "stream",
          "name": "stdout",
          "text": [
            "Cloning into 'azure-ai-search-python-playground'...\n",
            "remote: Enumerating objects: 244, done.\u001b[K\n",
            "remote: Counting objects: 100% (82/82), done.\u001b[K\n",
            "remote: Compressing objects: 100% (66/66), done.\u001b[K\n",
            "remote: Total 244 (delta 21), reused 77 (delta 16), pack-reused 162 (from 1)\u001b[K\n",
            "Receiving objects: 100% (244/244), 153.70 MiB | 17.62 MiB/s, done.\n",
            "Resolving deltas: 100% (92/92), done.\n",
            "Updating files: 100% (74/74), done.\n"
          ]
        }
      ]
    },
    {
      "cell_type": "markdown",
      "source": [
        "Initialize Graphlit"
      ],
      "metadata": {
        "id": "XqGt4RCaagNv"
      }
    },
    {
      "cell_type": "code",
      "source": [
        "import os\n",
        "from google.colab import userdata\n",
        "from graphlit import Graphlit\n",
        "from graphlit_api import input_types, enums, exceptions\n",
        "\n",
        "os.environ['GRAPHLIT_ORGANIZATION_ID'] = userdata.get('GRAPHLIT_ORGANIZATION_ID')\n",
        "os.environ['GRAPHLIT_ENVIRONMENT_ID'] = userdata.get('GRAPHLIT_ENVIRONMENT_ID')\n",
        "os.environ['GRAPHLIT_JWT_SECRET'] = userdata.get('GRAPHLIT_JWT_SECRET')\n",
        "\n",
        "graphlit = Graphlit()"
      ],
      "metadata": {
        "id": "eF6MdPG4aWc7"
      },
      "execution_count": 4,
      "outputs": []
    },
    {
      "cell_type": "markdown",
      "source": [
        "Initialize sample data"
      ],
      "metadata": {
        "id": "rKo8ZqoS5vnD"
      }
    },
    {
      "cell_type": "code",
      "source": [
        "DATA_DIRECTORY = \"azure-ai-search-python-playground\"\n",
        "\n",
        "PATH_PDFS = DATA_DIRECTORY + \"/data/acc/\""
      ],
      "metadata": {
        "id": "bqzYqYXvf5VA"
      },
      "execution_count": 5,
      "outputs": []
    },
    {
      "cell_type": "markdown",
      "source": [
        "Define Graphlit helper functions"
      ],
      "metadata": {
        "id": "PWRSPFD51pMR"
      }
    },
    {
      "cell_type": "code",
      "source": [
        "import base64\n",
        "import mimetypes\n",
        "import asyncio\n",
        "from typing import List, Optional\n",
        "from tqdm.asyncio import tqdm\n",
        "\n",
        "async def process_file(filename, progress_bar):\n",
        "    pdf_path = os.path.join(PATH_PDFS, filename)\n",
        "\n",
        "    content_id = await ingest_file(pdf_path)\n",
        "\n",
        "    if content_id is not None:\n",
        "        print(f'Ingested content [{content_id}] from [{pdf_path}].')\n",
        "\n",
        "    progress_bar.update(1)\n",
        "\n",
        "# NOTE: for local files, load from disk and convert to Base64 data\n",
        "async def ingest_file(file_path: str):\n",
        "    if graphlit.client is None:\n",
        "        return;\n",
        "\n",
        "    try:\n",
        "        file_name = os.path.basename(file_path)\n",
        "        content_name, _ = os.path.splitext(file_name)\n",
        "\n",
        "        mime_type = mimetypes.guess_type(file_name)[0]\n",
        "\n",
        "        if mime_type is None:\n",
        "            print('Failed to infer MIME type')\n",
        "            return None\n",
        "\n",
        "        with open(file_path, \"rb\") as file:\n",
        "            file_content = file.read()\n",
        "\n",
        "            base64_content = base64.b64encode(file_content).decode('utf-8')\n",
        "\n",
        "            # Using synchronous mode, so the notebook waits for the content to be ingested\n",
        "            response = await graphlit.client.ingest_encoded_file(content_name, base64_content, mime_type, is_synchronous=True)\n",
        "\n",
        "            return response.ingest_encoded_file.id if response.ingest_encoded_file is not None else None\n",
        "    except exceptions.GraphQLClientError as e:\n",
        "        print(str(e))\n",
        "        return None\n",
        "\n",
        "async def create_openai_specification(model: enums.OpenAIModels):\n",
        "    if graphlit.client is None:\n",
        "        return;\n",
        "\n",
        "    input = input_types.SpecificationInput(\n",
        "        name=f\"OpenAI [{str(model)}]\",\n",
        "        type=enums.SpecificationTypes.COMPLETION,\n",
        "        serviceType=enums.ModelServiceTypes.OPEN_AI,\n",
        "        openAI=input_types.OpenAIModelPropertiesInput(\n",
        "            model=model,\n",
        "        ),\n",
        "        strategy=input_types.ConversationStrategyInput(\n",
        "            embedCitations=True\n",
        "        ),\n",
        "        retrievalStrategy=input_types.RetrievalStrategyInput(\n",
        "            type=enums.RetrievalStrategyTypes.SECTION\n",
        "        ),\n",
        "        rerankingStrategy=input_types.RerankingStrategyInput(\n",
        "            serviceType=enums.RerankingModelServiceTypes.COHERE\n",
        "        )\n",
        "    )\n",
        "\n",
        "    try:\n",
        "        response = await graphlit.client.create_specification(input)\n",
        "\n",
        "        return response.create_specification.id if response.create_specification is not None else None\n",
        "    except exceptions.GraphQLClientError as e:\n",
        "        print(str(e))\n",
        "        return None\n",
        "\n",
        "    return None\n",
        "\n",
        "async def create_conversation(specification_id: str):\n",
        "    if graphlit.client is None:\n",
        "        return;\n",
        "\n",
        "    input = input_types.ConversationInput(\n",
        "        name=\"Conversation\",\n",
        "        specification=input_types.EntityReferenceInput(\n",
        "            id=specification_id\n",
        "        )\n",
        "    )\n",
        "\n",
        "    try:\n",
        "        response = await graphlit.client.create_conversation(input)\n",
        "\n",
        "        return response.create_conversation.id if response.create_conversation is not None else None\n",
        "    except exceptions.GraphQLClientError as e:\n",
        "        print(str(e))\n",
        "        return None\n",
        "\n",
        "async def prompt_conversation(conversation_id: str, prompt: str):\n",
        "    if graphlit.client is None:\n",
        "        return None, None\n",
        "\n",
        "    try:\n",
        "        response = await graphlit.client.prompt_conversation(prompt, conversation_id)\n",
        "\n",
        "        message = response.prompt_conversation.message.message if response.prompt_conversation is not None and response.prompt_conversation.message is not None else None\n",
        "        citations = response.prompt_conversation.message.citations if response.prompt_conversation is not None and response.prompt_conversation.message is not None else None\n",
        "\n",
        "        return message, citations\n",
        "    except exceptions.GraphQLClientError as e:\n",
        "        print(str(e))\n",
        "        return None, None\n",
        "\n",
        "# NOTE: these functions are just used to clean-up old data before executing the example\n",
        "async def delete_all_specifications():\n",
        "    if graphlit.client is None:\n",
        "        return;\n",
        "\n",
        "    _ = await graphlit.client.delete_all_specifications(is_synchronous=True)\n",
        "\n",
        "async def delete_all_conversations():\n",
        "    if graphlit.client is None:\n",
        "        return;\n",
        "\n",
        "    _ = await graphlit.client.delete_all_conversations(is_synchronous=True)\n",
        "\n",
        "async def delete_all_contents():\n",
        "    if graphlit.client is None:\n",
        "        return;\n",
        "\n",
        "    _ = await graphlit.client.delete_all_contents(is_synchronous=True)"
      ],
      "metadata": {
        "id": "cJFYJ0091rKj"
      },
      "execution_count": 6,
      "outputs": []
    },
    {
      "cell_type": "markdown",
      "source": [
        "Ingest sample PDFs"
      ],
      "metadata": {
        "id": "PEmBPRxG17IP"
      }
    },
    {
      "cell_type": "code",
      "source": [
        "# Remove any existing contents; only needed for notebook example\n",
        "await delete_all_contents()\n",
        "\n",
        "print('Deleted all contents.')\n",
        "\n",
        "# List of files to process\n",
        "files = os.listdir(PATH_PDFS)\n",
        "\n",
        "progress_bar = tqdm(total=len(files))\n",
        "\n",
        "tasks = [process_file(filename, progress_bar) for filename in files]\n",
        "\n",
        "await asyncio.gather(*tasks)\n",
        "\n",
        "print('Ingested all contents.')"
      ],
      "metadata": {
        "id": "Zg9Nb0XR13uL",
        "colab": {
          "base_uri": "https://localhost:8080/"
        },
        "outputId": "0e9792a2-9b5d-4387-95bd-b2cc9201446b"
      },
      "execution_count": 7,
      "outputs": [
        {
          "output_type": "stream",
          "name": "stdout",
          "text": [
            "Deleted all contents.\n"
          ]
        },
        {
          "output_type": "stream",
          "name": "stderr",
          "text": [
            "  3%|▎         | 1/36 [00:19<11:11, 19.20s/it]"
          ]
        },
        {
          "output_type": "stream",
          "name": "stdout",
          "text": [
            "Ingested content [e96c97e6-0a1e-4832-81b7-6fbecdef1797] from [azure-ai-search-python-playground/data/acc/arnett-et-al-2014-aha-acc-hhs-strategies-to-enhance-application-of-clinical-practice-guidelines-in-patients-with.pdf].\n"
          ]
        },
        {
          "output_type": "stream",
          "name": "stderr",
          "text": [
            "\r  6%|▌         | 2/36 [00:20<04:46,  8.43s/it]"
          ]
        },
        {
          "output_type": "stream",
          "name": "stdout",
          "text": [
            "Ingested content [18f352c8-c1fe-48e5-aca2-de3eb56eb5f2] from [azure-ai-search-python-playground/data/acc/jacobs-et-al-2014-the-evolution-and-future-of-acc-aha-clinical-practice-guidelines-a-30-year-journey.pdf].\n",
            "Ingested content [08d449be-bff4-4c7d-88e5-540d250d8b82] from [azure-ai-search-python-playground/data/acc/smith-et-al-2011-aha-accf-secondary-prevention-and-risk-reduction-therapy-for-patients-with-coronary-and-other.pdf].\n"
          ]
        },
        {
          "output_type": "stream",
          "name": "stderr",
          "text": [
            "\r 11%|█         | 4/36 [00:20<01:42,  3.21s/it]"
          ]
        },
        {
          "output_type": "stream",
          "name": "stdout",
          "text": [
            "Ingested content [2ac4cb21-f6be-4181-a27a-0f16b52d4628] from [azure-ai-search-python-playground/data/acc/chan-et-al-2017-acc-aha-special-report-clinical-practice-guideline-implementation-strategies-a-summary-of-systematic.pdf].\n",
            "Ingested content [c7343903-c4ea-45fb-bbe0-42e3fcddcb2c] from [azure-ai-search-python-playground/data/acc/goff-et-al-2013-2013-acc-aha-guideline-on-the-assessment-of-cardiovascular-risk.pdf].\n"
          ]
        },
        {
          "output_type": "stream",
          "name": "stderr",
          "text": [
            "\r 17%|█▋        | 6/36 [00:23<01:12,  2.42s/it]"
          ]
        },
        {
          "output_type": "stream",
          "name": "stdout",
          "text": [
            "Ingested content [94565798-9913-4364-a0b8-7bbdc070e569] from [azure-ai-search-python-playground/data/acc/mosca-et-al-2011-effectiveness-based-guidelines-for-the-prevention-of-cardiovascular-disease-in-women-2011-update.pdf].\n"
          ]
        },
        {
          "output_type": "stream",
          "name": "stderr",
          "text": [
            "\r 19%|█▉        | 7/36 [00:24<01:00,  2.08s/it]"
          ]
        },
        {
          "output_type": "stream",
          "name": "stdout",
          "text": [
            "Ingested content [fae0287e-2f2a-4845-b15e-2dd5b0063f63] from [azure-ai-search-python-playground/data/acc/anderson-et-al-2013-management-of-patients-with-peripheral-artery-disease-(compilation-of-2005-and-2011-accf-aha.pdf].\n"
          ]
        },
        {
          "output_type": "stream",
          "name": "stderr",
          "text": [
            "\r 22%|██▏       | 8/36 [00:24<00:46,  1.65s/it]"
          ]
        },
        {
          "output_type": "stream",
          "name": "stdout",
          "text": [
            "Ingested content [019bf318-cbe4-476e-8539-3ef7ff0119be] from [azure-ai-search-python-playground/data/acc/halperin-et-al-2015-further-evolution-of-the-acc-aha-clinical-practice-guideline-recommendation-classification-system.pdf].\n"
          ]
        },
        {
          "output_type": "stream",
          "name": "stderr",
          "text": [
            " 28%|██▊       | 10/36 [00:25<00:24,  1.06it/s]"
          ]
        },
        {
          "output_type": "stream",
          "name": "stdout",
          "text": [
            "Ingested content [138eb808-5e65-40ff-9bf2-696d900aa240] from [azure-ai-search-python-playground/data/acc/levine-et-al-2019-recent-innovations-modifications-and-evolution-of-acc-aha-clinical-practice-guidelines-an-update-for.pdf].\n",
            "Ingested content [c2c9e40c-ac47-44f6-bef1-1491241aedb1] from [azure-ai-search-python-playground/data/acc/eckel-et-al-2013-2013-aha-acc-guideline-on-lifestyle-management-to-reduce-cardiovascular-risk.pdf].\n"
          ]
        },
        {
          "output_type": "stream",
          "name": "stderr",
          "text": [
            "\r 31%|███       | 11/36 [00:25<00:18,  1.33it/s]"
          ]
        },
        {
          "output_type": "stream",
          "name": "stdout",
          "text": [
            "Ingested content [2ba839ab-8e92-42ad-b147-2d631f591e0f] from [azure-ai-search-python-playground/data/acc/anderson-et-al-2014-acc-aha-statement-on-cost-value-methodology-in-clinical-practice-guidelines-and-performance-measures.pdf].\n",
            "Ingested content [e1637c02-581b-49f3-b843-bb057dd76e72] from [azure-ai-search-python-playground/data/acc/jacobs-et-al-2012-accf-aha-clinical-practice-guideline-methodology-summit-report.pdf].\n"
          ]
        },
        {
          "output_type": "stream",
          "name": "stderr",
          "text": [
            "\r 36%|███▌      | 13/36 [00:29<00:28,  1.25s/it]"
          ]
        },
        {
          "output_type": "stream",
          "name": "stdout",
          "text": [
            "Ingested content [2bf078cf-3990-4d51-8ae1-5f5c8cc4bcb3] from [azure-ai-search-python-playground/data/acc/o-gara-et-al-2012-2013-accf-aha-guideline-for-the-management-of-st-elevation-myocardial-infarction.pdf].\n"
          ]
        },
        {
          "output_type": "stream",
          "name": "stderr",
          "text": [
            "\r 39%|███▉      | 14/36 [00:30<00:27,  1.26s/it]"
          ]
        },
        {
          "output_type": "stream",
          "name": "stdout",
          "text": [
            "Ingested content [4be922c7-3546-4210-99bb-2daabe62e7dc] from [azure-ai-search-python-playground/data/acc/Methodology Practice Guidelines.pdf].\n"
          ]
        },
        {
          "output_type": "stream",
          "name": "stderr",
          "text": [
            " 44%|████▍     | 16/36 [00:31<00:15,  1.29it/s]"
          ]
        },
        {
          "output_type": "stream",
          "name": "stdout",
          "text": [
            "Ingested content [c6e262a6-9909-4b58-b092-59c9af88ba3c] from [azure-ai-search-python-playground/data/acc/fleisher-et-al-2014-2014-acc-aha-guideline-on-perioperative-cardiovascular-evaluation-and-management-of-patients.pdf].\n",
            "Ingested content [f0c27f1d-6c48-4a0a-8bee-583abf2a45de] from [azure-ai-search-python-playground/data/acc/arnett-et-al-2019-2019-acc-aha-guideline-on-the-primary-prevention-of-cardiovascular-disease.pdf].\n"
          ]
        },
        {
          "output_type": "stream",
          "name": "stderr",
          "text": [
            "\r 47%|████▋     | 17/36 [00:35<00:35,  1.86s/it]"
          ]
        },
        {
          "output_type": "stream",
          "name": "stdout",
          "text": [
            "Ingested content [b02139a7-5467-4ea4-914d-eaf14bb76db2] from [azure-ai-search-python-playground/data/acc/shen-et-al-2017-2017-acc-aha-hrs-guideline-for-the-evaluation-and-management-of-patients-with-syncope.pdf].\n"
          ]
        },
        {
          "output_type": "stream",
          "name": "stderr",
          "text": [
            "\r 50%|█████     | 18/36 [00:40<00:47,  2.64s/it]"
          ]
        },
        {
          "output_type": "stream",
          "name": "stdout",
          "text": [
            "Ingested content [bdbd61de-4a46-46c6-ac13-07bf96de9dd7] from [azure-ai-search-python-playground/data/acc/grundy-et-al-2018-2018-aha-acc-aacvpr-aapa-abc-acpm-ada-ags-apha-aspc-nla-pcna-guideline-on-the-management-of-blood.pdf].\n",
            "Ingested content [3a846731-2657-4336-897a-358dc263ca79] from [azure-ai-search-python-playground/data/acc/brott-et-al-2011-2011-asa-accf-aha-aann-aans-acr-asnr-cns-saip-scai-sir-snis-svm-svs-guideline-on-the-management-of.pdf].\n"
          ]
        },
        {
          "output_type": "stream",
          "name": "stderr",
          "text": [
            "\r 56%|█████▌    | 20/36 [00:41<00:26,  1.68s/it]"
          ]
        },
        {
          "output_type": "stream",
          "name": "stdout",
          "text": [
            "Ingested content [ccd23459-a5a3-4191-9d25-a100671d4ad5] from [azure-ai-search-python-playground/data/acc/stout-et-al-2018-2018-aha-acc-guideline-for-the-management-of-adults-with-congenital-heart-disease.pdf].\n"
          ]
        },
        {
          "output_type": "stream",
          "name": "stderr",
          "text": [
            "\r 58%|█████▊    | 21/36 [00:41<00:20,  1.35s/it]"
          ]
        },
        {
          "output_type": "stream",
          "name": "stdout",
          "text": [
            "Ingested content [7a7e9968-90ab-4594-a845-7e386b6e9047] from [azure-ai-search-python-playground/data/acc/levine-et-al-2016-2016-acc-aha-guideline-focused-update-on-duration-of-dual-antiplatelet-therapy-in-patients-with.pdf].\n"
          ]
        },
        {
          "output_type": "stream",
          "name": "stderr",
          "text": [
            "\r 61%|██████    | 22/36 [00:45<00:28,  2.02s/it]"
          ]
        },
        {
          "output_type": "stream",
          "name": "stdout",
          "text": [
            "Ingested content [560e3b56-f8b8-4c25-8e88-bae33c8f7f81] from [azure-ai-search-python-playground/data/acc/epstein-et-al-2008-acc-aha-hrs-2008-guidelines-for-device-based-therapy-of-cardiac-rhythm-abnormalities.pdf].\n"
          ]
        },
        {
          "output_type": "stream",
          "name": "stderr",
          "text": [
            "\r 64%|██████▍   | 23/36 [00:46<00:23,  1.78s/it]"
          ]
        },
        {
          "output_type": "stream",
          "name": "stdout",
          "text": [
            "Ingested content [9b39cff2-3d20-46af-8e98-4bf414790c41] from [azure-ai-search-python-playground/data/acc/amsterdam-et-al-2014-2014-aha-acc-guideline-for-the-management-of-patients-with-non-st-elevation-acute-coronary.pdf].\n"
          ]
        },
        {
          "output_type": "stream",
          "name": "stderr",
          "text": [
            "\r 67%|██████▋   | 24/36 [00:47<00:17,  1.45s/it]"
          ]
        },
        {
          "output_type": "stream",
          "name": "stdout",
          "text": [
            "Ingested content [4cbeb55c-389b-4579-a962-43b5bbdaf9a0] from [azure-ai-search-python-playground/data/acc/ommen-et-al-2024-2024-aha-acc-amssm-hrs-paces-scmr-guideline-for-the-management-of-hypertrophic-cardiomyopathy.pdf].\n"
          ]
        },
        {
          "output_type": "stream",
          "name": "stderr",
          "text": [
            "\r 69%|██████▉   | 25/36 [00:47<00:12,  1.10s/it]"
          ]
        },
        {
          "output_type": "stream",
          "name": "stdout",
          "text": [
            "Ingested content [b20bb7a4-c050-47e4-b9dd-8be64b57d6b8] from [azure-ai-search-python-playground/data/acc/gornik-et-al-2024-2024-acc-aha-aacvpr-apma-abc-scai-svm-svn-svs-sir-vess-guideline-for-the-management-of-lower.pdf].\n"
          ]
        },
        {
          "output_type": "stream",
          "name": "stderr",
          "text": [
            "\r 72%|███████▏  | 26/36 [00:52<00:21,  2.16s/it]"
          ]
        },
        {
          "output_type": "stream",
          "name": "stdout",
          "text": [
            "Ingested content [f44627be-1ebd-48ce-b2a2-0abc784d8693] from [azure-ai-search-python-playground/data/acc/lawton-et-al-2021-2021-acc-aha-scai-guideline-for-coronary-artery-revascularization.pdf].\n"
          ]
        },
        {
          "output_type": "stream",
          "name": "stderr",
          "text": [
            "\r 75%|███████▌  | 27/36 [00:53<00:16,  1.80s/it]"
          ]
        },
        {
          "output_type": "stream",
          "name": "stdout",
          "text": [
            "Ingested content [7d87c0f2-7e8c-411d-a018-d257ea5ac79c] from [azure-ai-search-python-playground/data/acc/jensen-et-al-2013-2013-aha-acc-tos-guideline-for-the-management-of-overweight-and-obesity-in-adults.pdf].\n"
          ]
        },
        {
          "output_type": "stream",
          "name": "stderr",
          "text": [
            "\r 78%|███████▊  | 28/36 [00:56<00:18,  2.26s/it]"
          ]
        },
        {
          "output_type": "stream",
          "name": "stdout",
          "text": [
            "Ingested content [cbc713c6-44c1-4258-9913-0911f30d4c81] from [azure-ai-search-python-playground/data/acc/kusumoto-et-al-2018-2018-acc-aha-hrs-guideline-on-the-evaluation-and-management-of-patients-with-bradycardia-and.pdf].\n"
          ]
        },
        {
          "output_type": "stream",
          "name": "stderr",
          "text": [
            " 83%|████████▎ | 30/36 [00:57<00:08,  1.37s/it]"
          ]
        },
        {
          "output_type": "stream",
          "name": "stdout",
          "text": [
            "Ingested content [c5c9bd04-2cfe-48f6-9676-421a6a557b6f] from [azure-ai-search-python-playground/data/acc/virani-et-al-2023-2023-aha-acc-accp-aspc-nla-pcna-guideline-for-the-management-of-patients-with-chronic-coronary-disease.pdf].\n",
            "Ingested content [35e87e12-8c7d-4b35-866d-b2e4e0621842] from [azure-ai-search-python-playground/data/acc/gulati-et-al-2021-2021-aha-acc-ase-chest-saem-scct-scmr-guideline-for-the-evaluation-and-diagnosis-of-chest-pain.pdf].\n"
          ]
        },
        {
          "output_type": "stream",
          "name": "stderr",
          "text": [
            " 89%|████████▉ | 32/36 [00:58<00:03,  1.27it/s]"
          ]
        },
        {
          "output_type": "stream",
          "name": "stdout",
          "text": [
            "Ingested content [a92c9c8b-4800-40c2-9e61-5b989cebf38c] from [azure-ai-search-python-playground/data/acc/whelton-et-al-2017-2017-acc-aha-aapa-abc-acpm-ags-apha-ash-aspc-nma-pcna-guideline-for-the-prevention-detection.pdf].\n",
            "Ingested content [f7f79545-848c-4c82-a93e-2746d5872cdb] from [azure-ai-search-python-playground/data/acc/page-et-al-2015-2015-acc-aha-hrs-guideline-for-the-management-of-adult-patients-with-supraventricular-tachycardia.pdf].\n"
          ]
        },
        {
          "output_type": "stream",
          "name": "stderr",
          "text": [
            "\r 92%|█████████▏| 33/36 [01:03<00:06,  2.23s/it]"
          ]
        },
        {
          "output_type": "stream",
          "name": "stdout",
          "text": [
            "Ingested content [f3c03123-09e8-40e1-874e-ab6094fabc22] from [azure-ai-search-python-playground/data/acc/isselbacher-et-al-2022-2022-acc-aha-guideline-for-the-diagnosis-and-management-of-aortic-disease.pdf].\n"
          ]
        },
        {
          "output_type": "stream",
          "name": "stderr",
          "text": [
            "\r 94%|█████████▍| 34/36 [01:08<00:05,  2.86s/it]"
          ]
        },
        {
          "output_type": "stream",
          "name": "stdout",
          "text": [
            "Ingested content [9b650906-243b-4798-a145-4c9c5e0426cb] from [azure-ai-search-python-playground/data/acc/heidenreich-et-al-2022-2022-aha-acc-hfsa-guideline-for-the-management-of-heart-failure.pdf].\n"
          ]
        },
        {
          "output_type": "stream",
          "name": "stderr",
          "text": [
            "\r 97%|█████████▋| 35/36 [01:08<00:02,  2.24s/it]"
          ]
        },
        {
          "output_type": "stream",
          "name": "stdout",
          "text": [
            "Ingested content [91629542-19ff-4aeb-8ca9-a79152e7c5f3] from [azure-ai-search-python-playground/data/acc/al-khatib-et-al-2018-2017-aha-acc-hrs-guideline-for-management-of-patients-with-ventricular-arrhythmias-and-the.pdf].\n"
          ]
        },
        {
          "output_type": "stream",
          "name": "stderr",
          "text": [
            "\r100%|██████████| 36/36 [01:13<00:00,  2.91s/it]"
          ]
        },
        {
          "output_type": "stream",
          "name": "stdout",
          "text": [
            "Ingested content [d99818f6-7e83-4d30-bb4f-391e528a4f28] from [azure-ai-search-python-playground/data/acc/otto-et-al-2020-2020-acc-aha-guideline-for-the-management-of-patients-with-valvular-heart-disease.pdf].\n",
            "Ingested all contents.\n"
          ]
        }
      ]
    },
    {
      "cell_type": "markdown",
      "source": [
        "Copied from original notebook, for patient configuration"
      ],
      "metadata": {
        "id": "_TbmvDU46A0Q"
      }
    },
    {
      "cell_type": "code",
      "source": [
        "# Define complex patient profile\n",
        "patient_profile = {\n",
        "    \"patient_id\": \"43454357890\",\n",
        "    \"name\": \"Sarah Johnson\",\n",
        "    \"age\": 68,\n",
        "    \"gender\": \"Female\",\n",
        "    \"height_cm\": 165,\n",
        "    \"weight_kg\": 72,\n",
        "    \"bmi\": 26.4,\n",
        "    \"blood_type\": \"A-\",\n",
        "    \"allergies\": [\"Sulfa drugs\"],\n",
        "    \"current_medications\": [\n",
        "        \"Flecainide\",\n",
        "        \"Apixaban\",\n",
        "        \"Metoprolol\",\n",
        "        \"Atorvastatin\",\n",
        "        \"Cilostazol\",\n",
        "    ],\n",
        "    \"chronic_conditions\": {\n",
        "        \"atrial_fibrillation\": True,\n",
        "        \"peripheral_arterial_disease\": True,\n",
        "        \"hypertension\": True,\n",
        "        \"hyperlipidemia\": True,\n",
        "        \"coronary_artery_disease\": False,\n",
        "    },\n",
        "    \"family_medical_history\": {\"heart_disease\": True, \"stroke\": True, \"cancer\": False},\n",
        "    \"lifestyle_factors\": {\n",
        "        \"smoking\": \"Former smoker, quit 5 years ago\",\n",
        "        \"alcohol_use\": \"Rare\",\n",
        "        \"physical_activity_per_week\": \"4-5 days\",\n",
        "        \"diet\": \"Heart-healthy, low-sodium\",\n",
        "        \"sleep_hours_per_night\": 6,\n",
        "    },\n",
        "    \"recent_lab_results\": {\n",
        "        \"inr\": 1.4,\n",
        "        \"creatinine_mg_dl\": 1.1,\n",
        "        \"ldl_cholesterol_mg_dl\": 85,\n",
        "        \"hdl_cholesterol_mg_dl\": 55,\n",
        "        \"blood_pressure_mm_hg\": \"135/80\",\n",
        "    },\n",
        "    \"vaccination_status\": {\n",
        "        \"influenza_vaccine\": True,\n",
        "        \"covid_vaccine\": True,\n",
        "        \"pneumonia_vaccine\": True,\n",
        "    },\n",
        "    \"surgical_history\": [\n",
        "        \"Carotid endarterectomy\",\n",
        "        \"Cholecystectomy\",\n",
        "    ],\n",
        "    \"imaging_history\": {\n",
        "        \"last_echocardiogram_date\": \"2024-07-15\",\n",
        "        \"last_carotid_ultrasound_date\": \"2024-06-20\",\n",
        "    },\n",
        "    \"mental_health\": {\n",
        "        \"anxiety\": True,\n",
        "        \"depression\": False,\n",
        "        \"cognitive_function_issues\": False,\n",
        "    },\n",
        "    \"preferences\": {\n",
        "        \"preferred_treatment_type\": [\n",
        "            \"Minimally invasive procedures\",\n",
        "            \"Evidence-based treatments\",\n",
        "        ],\n",
        "        \"end_of_life_care\": \"Yes\",\n",
        "        \"pain_management\": \"Non-opioid\",\n",
        "    },\n",
        "    \"recent_visits\": [\n",
        "        {\n",
        "            \"visit_date\": \"2024-08-25\",\n",
        "            \"reason\": \"Follow-up for atrial fibrillation\",\n",
        "            \"notes\": \"Recurrence of AF despite flecainide. Discussing ablation vs alternative antiarrhythmic options.\",\n",
        "        },\n",
        "        {\n",
        "            \"visit_date\": \"2024-07-10\",\n",
        "            \"reason\": \"Peripheral arterial disease management\",\n",
        "            \"notes\": \"Stable claudication symptoms. Continue current management and exercise program.\",\n",
        "        },\n",
        "    ],\n",
        "    \"af_management\": {\n",
        "        \"current_treatment\": \"Flecainide\",\n",
        "        \"treatment_history\": [\n",
        "            \"Rate control with metoprolol\",\n",
        "            \"Rhythm control with flecainide\",\n",
        "        ],\n",
        "        \"af_recurrence\": True,\n",
        "        \"considering_options\": [\"Catheter ablation\", \"Alternative antiarrhythmic drug\"],\n",
        "        \"chads2_vasc_score\": 4,\n",
        "        \"has_bled_score\": 2,\n",
        "    },\n",
        "    \"pad_management\": {\n",
        "        \"ankle_brachial_index\": 0.78,\n",
        "        \"fontaine_classification\": \"Stage II\",\n",
        "        \"current_treatment\": [\"Cilostazol\", \"Supervised exercise program\"],\n",
        "        \"last_vascular_assessment\": \"2024-06-20\",\n",
        "    },\n",
        "}"
      ],
      "metadata": {
        "id": "DCq-G8p2nT7L"
      },
      "execution_count": 8,
      "outputs": []
    },
    {
      "cell_type": "markdown",
      "source": [
        "Execute example RAG prompt with citations"
      ],
      "metadata": {
        "id": "P0jwfpfN6dbJ"
      }
    },
    {
      "cell_type": "code",
      "source": [
        "from IPython.display import display, Markdown, HTML\n",
        "import time\n",
        "\n",
        "# Remove any existing conversations and specifications; only needed for notebook example\n",
        "await delete_all_conversations()\n",
        "await delete_all_specifications()\n",
        "\n",
        "print('Deleted all conversations and specifications.')\n",
        "\n",
        "# Formulate a query based on Sarah Johnson's profile\n",
        "prompt = (\n",
        "    f\"Which option reduces stroke risk for a {patient_profile['age']}-year-old \"\n",
        "    f\"female with atrial fibrillation and peripheral arterial disease, \"\n",
        "    f\"who is considering catheter ablation or antiarrhythmic drug therapy?\"\n",
        ")\n",
        "\n",
        "model = enums.OpenAIModels.GPT4O_MINI_128K\n",
        "#model = enums.OpenAIModels.O1_MINI_128K\n",
        "\n",
        "specification_id = await create_openai_specification(model)\n",
        "\n",
        "if specification_id is not None:\n",
        "    print(f'Created specification [{specification_id}].')\n",
        "\n",
        "    conversation_id = await create_conversation(specification_id=specification_id)\n",
        "\n",
        "    if conversation_id is not None:\n",
        "        message, citations = await prompt_conversation(conversation_id, prompt)\n",
        "\n",
        "        if message is not None:\n",
        "            display(Markdown(f'### Patient-Specific Question Response for {patient_profile[\"name\"]}:'))\n",
        "            display(Markdown(f'**Final Response:**\\n{message}'))\n",
        "            print()\n",
        "\n",
        "        if citations is not None:\n",
        "            print(\"\\nReference Information:\")\n",
        "\n",
        "            for citation in citations:\n",
        "                if citation is not None and citation.content is not None:\n",
        "                    display(Markdown(f'**Citation [{citation.index}]:** {citation.content.name}'))\n",
        "                    display(Markdown(citation.text))\n",
        "                    print()\n"
      ],
      "metadata": {
        "colab": {
          "base_uri": "https://localhost:8080/",
          "height": 1000
        },
        "id": "2NDBOdLzmuq_",
        "outputId": "c4c47de0-4cf6-4614-9056-f2fa1f68d619"
      },
      "execution_count": 9,
      "outputs": [
        {
          "output_type": "stream",
          "name": "stdout",
          "text": [
            "Deleted all conversations and specifications.\n",
            "Created specification [57e7b740-95e8-4387-84eb-188c1f82f5d8].\n"
          ]
        },
        {
          "output_type": "display_data",
          "data": {
            "text/plain": [
              "<IPython.core.display.Markdown object>"
            ],
            "text/markdown": "### Patient-Specific Question Response for Sarah Johnson:"
          },
          "metadata": {}
        },
        {
          "output_type": "display_data",
          "data": {
            "text/plain": [
              "<IPython.core.display.Markdown object>"
            ],
            "text/markdown": "**Final Response:**\nFor a 68-year-old female with atrial fibrillation (AF) and peripheral arterial disease (PAD), the use of direct oral anticoagulants (DOACs) is recommended as a first-line option for stroke prevention. This recommendation is based on the patient's age and the presence of AF, which significantly increases her risk of thromboembolic events. Additionally, the CHA2DS2-VASc score, which assesses stroke risk, supports the need for anticoagulation in this demographic. [1][2][3][4][5]\n\nWhile catheter ablation can be an effective treatment for AF, it is generally considered when antiarrhythmic drug therapy is ineffective or not preferred. In this case, the decision should also consider the patient's overall health status, the severity of her symptoms, and her preferences regarding treatment options. Antiarrhythmic drugs may help control AF symptoms, but they do not directly address stroke risk as effectively as anticoagulation. [6][7][8][9][10]\n\n"
          },
          "metadata": {}
        },
        {
          "output_type": "stream",
          "name": "stdout",
          "text": [
            "\n",
            "\n",
            "Reference Information:\n"
          ]
        },
        {
          "output_type": "display_data",
          "data": {
            "text/plain": [
              "<IPython.core.display.Markdown object>"
            ],
            "text/markdown": "**Citation [1]:** heidenreich-et-al-2022-2022-aha-acc-hfsa-guideline-for-the-management-of-heart-failure"
          },
          "metadata": {}
        },
        {
          "output_type": "display_data",
          "data": {
            "text/plain": [
              "<IPython.core.display.Markdown object>"
            ],
            "text/markdown": "Recommendation-Specific Supportive Text\n1. The efficacy of long-term warfarin for the prevention of stroke in patients with AF is well established; ran- domized trials have shown reduced embolic rates and mortality. The AHA/ACC/Heart Rhythm Society guide- lines for AF recommend use of the CHA2DS2-VASc score (history of hypertension, age ≥75 [doubled weight], diabetes mellitus, previous stroke or transient ischemic attack or thromboembolism [doubled weight], vascular disease, age 65 to 74 years, sex category) to assess patient risk for adverse outcomes before initiating anticoagulation therapy (1,27,28). Regardless of whether patients receive rhythm or rate control, anticoagulation is recommended for patients with HF and AF for stroke prevention with a CHA2DS2- VASc score of ≥2 (for men) and ≥3 (for women) (2-5).\n2. Trials of DOAC have compared the efficacy and safety with warfarin therapy rather than placebo. Several DOAC are available, including the factor Xa inhibitors apixaban, rivaroxaban, edoxaban, and the direct thrombin inhibitor dabigatran (2-5). These drugs do not need routine anticoagulation monitoring or dose adjustment. The fixed dosing together with fewer in- teractions may simplify patient management, particu- larly with the polypharmacy commonly seen in HF, but cost for some patients can be prohibitive when not covered by insurance. These drugs have a potential for an improved benefit-risk profile compared with warfarin, which may increase their use in practice, especially in those at increased bleeding risk (6-9). In a meta-analysis of 4 trials examining efficacy and safety of DOAC in patients with and without HF, DOAC more effectively reduced the rate of stroke or systemic em- bolism, major bleeding, and intracranial bleeding compared with warfarin, with no treatment heteroge- neity by HF status (10).\n3. The 2 largest RCTs of AF ablation in HF showed a benefit in hospitalizations and mortality with ablation (11,12) although other smaller trials did not. In the AATAC (Ablation Versus Amiodarone for Treatment of Persistent Atrial Fibrillation in Patients with Conges- tive Heart Failure and an Implanted Device) trial, 203 patients with persistent AF, LVEF <40%, and NYHA class II to III HF, ablation improved the likelihood of maintaining normal sinus rhythm at 24 months compared with amiodarone and, in addition, had a 45% decrease in hospitalization and decrease in mortality (8% vs. 18%) (11). The CASTLE AF (Catheter Ablation\nfor Atrial Fibrillation with Heart Failure) trial ran- domized 363 patients with paroxysmal or persistent AF, LVEF <35%, NYHA class II to IV HF, and ICD to ablation versus standard medical care (12). The com- posite endpoint of death or rehospitalization was lower in ablation (28.5%) compared with standard care (44.6%). In addition, there was a lower mortality in the ablation group. In a meta-analysis of 11 RCTs comparing rhythm versus rate control, patients un- dergoing catheter ablation had improved survival (49% relative risk reduction) and reduced hospitalizations (56% relative risk reduction) (13).\n4. If a rhythm control strategy fails or is undesired, and ventricular rates remain rapid despite medical therapy after all other options are exhausted, atrioventricular nodal ablation with implantation of a CRT device can be considered as a treatment option. Ablate and pace is an old strategy for difficult to rate control AF. Early studies with RV pacing showed benefit (15,16). How- ever, when RV pacing was compared with cardiac resynchronization in more recent trials, especially in those with reduced LVEFs, CRT generally produced more benefit than RV pacing (17-21). The PAVE (Left Ventricular-Based Cardiac Stimulation post AV Nodal Ablation Evaluation) and the BLOCK-HF (Biventricular versus Right Ventricular Pacing in Patients with AV block) trials included patients with LVEF >35%, with mean EF 46% (22) in PAVE and 40% in BLOCK-HF (enrolled ≤ 50%). In both of these trials, patients un- dergoing CRT had improved outcomes.\n5. HF is a hypercoagulable state and serves as an inde- pendent risk factor for stroke, systemic embolism, and mortality in the setting of AF (23,24). There are compelling data to support the use of anticoagulation in most patients with HF and concomitant AF, barring contraindications. In patients with HF and a CHA2DS2- VASc score of 1, those with AF had a 3-fold higher risk compared with individuals without concomitant AF (25). In a post hoc analysis of 2 contemporary HF trials, paroxysmal and new onset AF were associated with a greater risk for hospitalization caused by HF or stroke (26). In a recent registry study, the risk of stroke was particularly higher in the initial period after diagnosis of HF among patients with prevalent AF (29). Because HF is a risk factor, additional risk factors may not be required to support the use of anticoagulation in pa- tients with HF, and the decision to anticoagulate can be individualized according to risk versus benefit."
          },
          "metadata": {}
        },
        {
          "output_type": "stream",
          "name": "stdout",
          "text": [
            "\n"
          ]
        },
        {
          "output_type": "display_data",
          "data": {
            "text/plain": [
              "<IPython.core.display.Markdown object>"
            ],
            "text/markdown": "**Citation [2]:** ommen-et-al-2024-2024-aha-acc-amssm-hrs-paces-scmr-guideline-for-the-management-of-hypertrophic-cardiomyopathy"
          },
          "metadata": {}
        },
        {
          "output_type": "display_data",
          "data": {
            "text/plain": [
              "<IPython.core.display.Markdown object>"
            ],
            "text/markdown": "Recommendation-Specific Supportive Text\n1. Clinical AF is AF that causes symptoms for which pa- tients seek medical attention. Although no RCTs have been published, the risk of systemic embolization is high in patients with HCM with AF. A meta-analysis that included 33 studies and 7381 patients revealed an overall prevalence of thromboembolism in patients with HCM with AF of 27.09% and incidence of 3.75 per 10 patients.1 The stroke risk is independent of CHA2DS2-VASc score,30 with a significant number of strokes observed in patients with a score of 0. Several studies have shown that anticoagulation, particularly warfarin with target international normalized ratio 2 to 3, reduces the stroke risk in this population,2,30 whereas other publications have shown DOACs to be at least as effective as warfarin, with additional ad- vantages reported, such as improved patient satisfac- tion and long-term outcomes.3-5 Although left atrial appendage occlusion devices have been evaluated in populations, the number of patients with HCM in these trials was limited. Thus, the role of left atrial appendage occlusion devices in HCM remains un- tested. The recommendations for anticoagulation of patients with atrial flutter are the same as those for patients with AF.14\n2. Similar to patients without HCM, asymptomatic or subclinical AF (SCAF) is detected by cardiac devices in\npatients with HCM as well. SCAF was reported in 16 of 30 patients with HCM (53%) after a median follow-up of 595 days.7 Device-detected AF was identified in 29 of 114 patients with HCM (25%), resulting in an annual- ized incidence of 4% per year.6 In patients without HCM, SCAF has been associated with an increased risk of thromboembolism, albeit lower than the risk described for clinical AF.8 Considerable debate exists regarding the AF duration threshold for initiating anticoagulation in SCAF because the duration used to define and quantify AF varied significantly between different studies. Nevertheless, the data increasingly show that longer duration episodes are associated with greatest risk. One study suggested only episodes >24 hours were associated with increased risk.15 Also influencing risk are the total AF burden11 and the presence of traditional risk factors, whereas very short episodes lasting a few seconds do not appear to in- crease risk.16,17 When making the diagnosis of device- detected AF, review of stored intracardiac ECGs is essential to exclude artifact or false-positives.\n3. Given the poor tolerance of AF in patients with HCM, a rhythm-control strategy is often preferred, because data support improved outcomes with a rhythm- control strategy compared with historical controls.9,10 For those patients for whom a rate-control strategy is chosen (eg, because of patient choice, antiarrhythmic drug failure, or intolerance), a nondihydropyridine calcium channel blocker, a beta blocker, or a combi- nation of the 2 is preferable. A theoretical concern ex- ists that digoxin could exacerbate LVOTO attributable to a positive inotropic effect. However, in the absence of a gradient, digoxin is a potential option, although data on efficacy in this population are lacking. Medi- cation choice should be individually determined ac- cording to age, underlying substrate, comorbidities, and severity of symptoms. Dose adjustments are based on the balance between adequate rate control versus adverse effects, including excessive bradycardia. In patients with hypotension, dyspnea at rest, and very high resting gradients (eg, >100 mm Hg), verapamil should be avoided. Atrioventricular node ablation with pacemaker implantation can be a last option in re- fractory cases.\n4. SCAF is often observed in patients with HCM and implanted cardiac devices6,7 and has been associated with an increased risk of thromboembolism.8 Yet, the minimum duration of SCAF that confers increased risk has not been precisely defined, because a gradient of risk appears to be evident depending on underlying substrate. Although ASSERT (Asymptomatic Atrial Fibrillation and Stroke Evaluation in Pacemaker Pa- tients and the Atrial Fibrillation Reduction Atrial Pac- ing Trial) data suggested only episodes >24 hours\nTABLE 9 Antiarrhythmic Drug Therapy Options for Patients With HCM and AF\nTABLE 9 Antiarrhythmic Drug Therapy Options for Patients With HCM and AF\n| Antiarrhythmic Drug | Efficacy for AF | Adverse Effects | Toxicities | Use in HCM |\n| --- | --- | --- | --- | --- |\n| Disopyramide | Modest | Anticholinergic HF | Prolonged QTc TdP | Particularly with early onset AF Generally used in conjunction with atrioventricular nodal blocking agents |\n| Flecainide and propafenone | ... | Prolonged QRS | Proarrhythmia Typical atrial flutter | Not generally recommended in the absence of an ICD |\n| Sotalol | Modest | Fatigue Bradycardia | Prolonged QTc TdP | Reasonable |\n| Dofetilide | Modest | Headache | Prolonged QTc TdP | Reasonable |\n| Dronedarone | Low | HF | Prolonged QTc | ... |\n| Amiodarone | Modest-high | Bradycardia | Liver, lung, thyroid, skin, neurologic Prolonged QTc | Reasonable |\n\nAF indicates atrial fibrillation; HCM, hypertrophic cardiomyopathy; HF, heart failure; ICD, implantable cardioverter-defibrillator; and TdP, torsades de pointes.\nincreased stroke risk,15 other evidence suggests that shorter duration episodes may pose a risk in patients with traditional risks factors.16 In ASSERT, the absolute stroke risk increased with increasing CHADS2 score, reaching a rate of 3.78 per year in those with score >2.18 Another group stratified risk according to AF duration and CHADS2 score, with a CHADS2 score of 1 increasing the risk only if AF duration was >24 hours, whereas for CHADS2 scores ≥2, episodes >5 minutes increased risk.19 Similar risk stratification is unavailable in HCM, yet risk factors for stroke in the population with HCM have been identified and include advancing age, pre- vious embolic events, NYHA functional class, left atrial diameter, vascular disease, and maximal LV wall thickness.3º When very short AF duration is observed, continued surveillance should be maintained as the burden of AF is likely to progress.\n5. Studies suggest that with current therapies, AF in pa- tients with HCM can be managed effectively, leading to low morbidity and mortality compared with historical controls.9,10 In general, drug selection for rhythm control in patients with HCM is based on extrapolation from studies of the AF population at large. Yet, reports suggest several drugs are safe and effective in patients with HCM (Table 9). Amiodarone has been used over many years and is generally deemed a favored op- tion.10,20 Disopyramide has been safely prescribed for reduction of LVOTO, but its efficacy in AF is not well established.21,22 Data on NYHA functional class IC antiarrhythmic agents are limited because of concerns regarding their use in patients with structural heart disease. When used, therapy with NYHA functional class IC agents is safest in the presence of an ICD.10 NYHA functional class III agents have been used as well; a report in 25 patients with HCM showed dofeti- lide to be well tolerated and facilitated AF manage- ment.13 Sotalol has also been shown to be safe and is commonly used in pediatric patients as well, either in\noral or intravenous forms.23,24,31,32 The U.S. Food and Drug Administration-mandated safety precautions should be adopted when prescribing antiarrhythmic drugs.\n6. Catheter ablation plays an important role in the man- agement of AF in HCM. Although no RCTs exist in this area, several meta-analyses have been published in patients with HCM undergoing catheter ablation for drug refractory AF, including one that compared catheter ablation between patients with HCM versus a cohort without HCM.12,25 In general, the procedure is safe and remains an important tool. However, the re- sults seem less favorable compared with patients without HCM, with a 2-fold higher risk of relapse, more frequent need of repeat procedures, and higher use of concomitant antiarrhythmic drugs. This is attributed to the fact that patients with HCM have a greater degree of electrophysiologic and structural remodeling than the population without HCM.25 Contributing factors for atrial remodeling include LVOTO, diastolic impair- ment, MR, and other factors. It can be postulated that aggressive intervention in the earlier stages of disease would be more effective, but this is unproven, and ongoing remodeling is expected. Some authors have suggested the need for a more extensive ablation approach, with linear lesions and ablation of triggers not associated with the pulmonary veins often required to improve the long-term durability of the procedure.26\n7. AF in patients with HCM is often poorly tolerated; therefore, aggressive rhythm-control strategies are sometimes required. Because of the lower success rate of catheter ablation in patients with HCM compared with the general AF population, surgical AF ablation is a potential rhythm management option, especially in patients already undergoing open heart surgery for a surgical myectomy. In combination with surgical relief of the LVOT gradient and MR, which can limit or even\nreverse negative atrial remodeling, concomitant sur- gical AF ablation may be successful in decreasing AF burden. Several studies have reported satisfactory midterm efficacy, yet these reports universally include a small number of patients, and the durability of the procedure appears to decrease with time.27,29 In a study that represents the largest series of patients with AF treated surgically, freedom from AF recurrence at 1 year was 44% for ablation patients (n = 49) and 75%\nwith the maze procedure (n = 72) (P<0.001).10 In this study, with concomitant surgical ablation, freedom from AF at 3 years was 70%, with left atrial size being a predictor of recurrence.10"
          },
          "metadata": {}
        },
        {
          "output_type": "stream",
          "name": "stdout",
          "text": [
            "\n"
          ]
        },
        {
          "output_type": "display_data",
          "data": {
            "text/plain": [
              "<IPython.core.display.Markdown object>"
            ],
            "text/markdown": "**Citation [3]:** ommen-et-al-2024-2024-aha-acc-amssm-hrs-paces-scmr-guideline-for-the-management-of-hypertrophic-cardiomyopathy"
          },
          "metadata": {}
        },
        {
          "output_type": "display_data",
          "data": {
            "text/plain": [
              "<IPython.core.display.Markdown object>"
            ],
            "text/markdown": "Synopsis\nAF, commonly observed in patients with HCM, is associated with significant morbidity, impaired quality of life, and substantial stroke risk. Therapy includes pre- vention of thromboembolic events and controlling symptoms. Traditional stroke risk scoring systems used in the general population are not predictive in patients with HCM. Vitamin K antagonists are effective for stroke pre- vention, and recent studies support the use of DOACs as well.1-5 Asymptomatic AF detected by cardiac devices or monitors also increases risk of stroke, so the decision to anticoagulate should take into consideration the duration of episodes as well as underlying risk factors. When a rhythm-control strategy is needed, several antiar- rhythmic drugs have been shown to be safe and effective, allowing for individualization according to underlying substrate and patient preference. Catheter ablation is also an option, although the procedure is less effective than in the general population, and there is a more frequent need of repeat procedures and concomitant use of antiar- rhythmic drugs. Surgical AF ablation is a potential rhythm management option in patients undergoing surgical myectomy. Other supraventricular arrhythmias and atrial flutter are likely not increased in incidence in patients with HCM, and treatment is usually similar to populations without HCM."
          },
          "metadata": {}
        },
        {
          "output_type": "stream",
          "name": "stdout",
          "text": [
            "\n"
          ]
        },
        {
          "output_type": "display_data",
          "data": {
            "text/plain": [
              "<IPython.core.display.Markdown object>"
            ],
            "text/markdown": "**Citation [4]:** ommen-et-al-2024-2024-aha-acc-amssm-hrs-paces-scmr-guideline-for-the-management-of-hypertrophic-cardiomyopathy"
          },
          "metadata": {}
        },
        {
          "output_type": "display_data",
          "data": {
            "text/plain": [
              "<IPython.core.display.Markdown object>"
            ],
            "text/markdown": "8.4. Management of Patients With HCM and AF\nRecommendations for Management of Patients With HCM and AF Referenced studies that support the recommendations are summarized in the Online Data Supplement.\n| COR | LOE | RECOMMENDATIONS |\n| --- | --- | --- |\n| 1 | B-NR | 1. In patients with HCM and clinical AF, anticoagulation is recommended with direct-acting oral anticoagu- lants (DOACs) as first-line option and vitamin K antagonists as second-line option, independent of CHA2DS2-VASc score.1-5 |\n| 1 | C-LD | 2. In patients with HCM and subclinical AF detected by internal or external cardiac device or monitor of >24 hours' duration for a given episode, anticoagulation is recommended with DOACs as first-line option and vitamin K antagonists as second-line option, independent of CHA2DS2-VASc score.1,6-8 |\n| 1 | C-LD | 3. In patients with AF in whom rate control strategy is planned, beta blockers, verapamil, or diltiazem are recommended, with the choice of agents according to patient preferences and comorbid conditions.9,10 |\n| 2a | C-LD | 4. In patients with HCM and subclinical AF detected by internal or external device or monitor, of >5 minutes' duration but <24 hours' duration for a given episode, anticoagulation with DOACs as first-line option and vitamin K antagonists as second-line option can be beneficial, taking into consideration duration of AF episodes, total AF burden, underlying risk factors, and bleeding risk.1,6-8,11 |\n| 2a | B-NR | 5. In patients with HCM and poorly tolerated AF, a rhythm-control strategy with cardioversion or antiar- rhythmic drugs can be beneficial with the choice of an agent according to AF symptom severity, patient preferences, and comorbid conditions.9,12-24 |\n| 2a | B-NR | 6. In patients with HCM and symptomatic AF, as part of an AF rhythm- control strategy, catheter ablation for AF can be effective when drug therapy is ineffective, contraindicated, or not the patient's preference.12,25,26 |\n| 2a | B-NR | 7. In patients with HCM and AF who require surgical myectomy, concomitant surgical AF ablation procedure can be beneficial for AF rhythm control. 13,27-29 |\n"
          },
          "metadata": {}
        },
        {
          "output_type": "stream",
          "name": "stdout",
          "text": [
            "\n"
          ]
        },
        {
          "output_type": "display_data",
          "data": {
            "text/plain": [
              "<IPython.core.display.Markdown object>"
            ],
            "text/markdown": "**Citation [5]:** heidenreich-et-al-2022-2022-aha-acc-hfsa-guideline-for-the-management-of-heart-failure"
          },
          "metadata": {}
        },
        {
          "output_type": "display_data",
          "data": {
            "text/plain": [
              "<IPython.core.display.Markdown object>"
            ],
            "text/markdown": "10.1. Management of Comorbidities in Patients With HF\n1. Anker SD, Comin Colet J, Filippatos G, et al. Ferric carboxymaltose in patients with heart failure and iron deficiency. N Engl J Med. 2009;361:2436-2448.\n2. Ponikowski P, van Veldhuisen DJ, Comin-Colet J, et al. Beneficial effects of long-term intravenous iron therapy with ferric carboxymaltose in patients with symptomatic heart failure and iron deficiencydagger. Eur Heart J. 2015;36:657-668.\n3. Beck-da-Silva L, Piardi D, Soder S, et al. IRON-HF study: a randomized trial to assess the effects of iron in heart failure patients with anemia. Int J Cardiol. 2013;168:3439-3442.\n4. Ponikowski P, Kirwan BA, Anker SD, et al. Ferric carboxymaltose for iron deficiency at discharge after acute heart failure: a multicentre, double-blind, rand- omised, controlled trial. Lancet. 2020;396:1895- 1904.\n5. Swedberg K, Young JB, Anand IS, et al. Treatment of anemia with darbepoetin alfa in systolic heart failure. N Engl J Med. 2013;368:1210-1219.\n6. Kang J, Park J, Lee JM, et al. The effects of eryth- ropoiesis stimulating therapy for anemia in chronic heart failure: A meta-analysis of randomized clinical trials. Int J Cardiol. 2016;218:12-22.\n7. Banach M, Bhatia V, Feller MA, et al. Relation of baseline systolic blood pressure and long-term out- comes in ambulatory patients with chronic mild to moderate heart failure. Am J Cardiol. 2011;107:1208- 1214.\n8. Lee TT, Chen J, Cohen DJ, et al. The association between blood pressure and mortality in patients with heart failure. Am Heart J. 2006;151:76-83.\n9. Arzt M, Schroll S, Series F, et al. Auto-servoventi- lation in heart failure with sleep apnea: a randomised controlled trial. Eur Respir J. 2013;42:1244-1254.\n10. Arzt M, Floras JS, Logan AG, et al. Suppression of central sleep apnea by continuous positive airway pressure and transplant-free survival in heart failure: a post hoc analysis of the Canadian Continuous Positive Airway Pressure for Patients with Central Sleep Apnea and Heart Failure Trial (CANPAP). Circulation. 2007;115:3173-3180.\n11. O'Connor CM, Whellan DJ, Fiuzat M, et al. Cardio- vascular outcomes with minute ventilation-targeted adaptive servo-ventilation therapy in heart failure: the CAT-HF trial. J Am Coll Cardiol. 2017;69:1577- 1587.\n12. Cowie MR, Woehrle H, Wegscheider K, et al. Adaptive servo-ventilation for central sleep apnea in systolic heart failure. N Engl J Med. 2015;373:1095- 1105.\n13. Yamamoto S, Yamaga T, Nishie K, et al. Positive airway pressure therapy for the treatment of central sleep apnoea associated with heart failure. Cochrane Database Syst Rev. 2019;12:CD012803.\n14. Zannad F, Ferreira JP, Pocock SJ, et al. SGLT2 in- hibitors in patients with heart failure with reduced\nejection fraction: a meta-analysis of the EMPEROR- Reduced and DAPA-HF trials. Lancet. 2020;396:819- 829.\n15. Kato ET, Silverman MG, Mosenzon O, et al. Effect of dapagliflozin on heart failure and mortality in type 2 diabetes mellitus. Circulation. 2019;139:2528-2536.\n16. McMurray JJV, Solomon SD, Inzucchi SE, et al. Dapagliflozin in patients with heart failure and reduced ejection fraction. N Engl J Med. 2019;381:1995-2008.\n17. Packer M, Anker SD, Butler J, et al. Cardiovascular and renal outcomes with empagliflozin in heart failure. N Engl J Med. 2020;383:1413-1424.\n18. Chamberlain AM, St Sauver JL, Gerber Y, et al. Multimorbidity in heart failure: a community perspec- tive. Am J Med. 2015;128:38-45.\n19. Wong CY, Chaudhry SI, Desai MM, et al. Trends in comorbidity, disability, and polypharmacy in heart failure. Am J Med. 2011;124:136-143.\n20. Angermann CE, Gelbrich G, Stork S, et al. Effect of escitalopram on all-cause mortality and hospitalization in patients with heart failure and depression: the MOOD-HF randomized clinical trial. JAMA. 2016;315: 2683-2693.\n21. Rutledge T, Reis VA, Linke SE, et al. Depression in heart failure a meta-analytic review of prevalence, intervention effects, and associations with clinical outcomes. J Am Coll Cardiol. 2006;48:1527-1537.\n22. Glassman AH, O'Connor CM, Califf RM, et al. Ser- traline treatment of major depression in patients with acute MI or unstable angina. JAMA. 2002;288:701- 709.\n23. Tuegel C, Bansal N. Heart failure in patients with kidney disease. Heart. 2017;103:1848-1853.\n24. Lunney M, Ruospo M, Natale P, et al. Pharmaco- logical interventions for heart failure in people with chronic kidney disease. Cochrane Database Syst Rev. 2020;2:CD012466.\n25. Groenveld HF, Januzzi JL, Damman K, et al. Ane- mia and mortality in heart failure patients a systematic review and meta-analysis. J Am Coll Cardiol. 2008;52: 818-827.\n26. Ebner N, Jankowska EA, Ponikowski P, et al. The impact of iron deficiency and anaemia on exercise ca- pacity and outcomes in patients with chronic heart failure. results from the studies investigating co- morbidities aggravating heart failure. Int J Cardiol. 2016;205:6-12.\n27. Anker SD, Kirwan BA, van Veldhuisen DJ, et al. Effects of ferric carboxymaltose on hospitalisations and mortality rates in iron-deficient heart failure pa- tients: an individual patient data meta-analysis. Eur J Heart Fail. 2018;20:125-133.\n28. Lewis GD, Malhotra R, Hernandez AF, et al. Effect of oral iron repletion on exercise capacity in patients with heart failure with reduced ejection fraction and iron deficiency: the IRONOUT HF randomized clinical trial. JAMA. 2017;317:1958-1966.\n29. Kapoor M, Schleinitz MD, Gemignani A, et al. Outcomes of patients with chronic heart failure and iron deficiency treated with intravenous iron: a meta- analysis. Cardiovasc Hematol Disord Drug Targets. 2013;13:35-44.\n30. Montero D, Haider T, Flammer AJ. Erythropoietin response to anaemia in heart failure. Eur J Prev Cardiol. 2019;26:7-17.\n31. Nagai T, Nishimura K, Honma T, et al. Prognostic significance of endogenous erythropoietin in long- term outcome of patients with acute decompensated heart failure. Eur J Heart Fail. 2016;18:803-813.\n32. Bello NA, Lewis EF, Desai AS, et al. Increased risk of stroke with darbepoetin alfa in anaemic heart failure patients with diabetes and chronic kidney disease. Eur J Heart Fail. 2015;17:1201-1207.\n33. Zhang Y, Liang M, Sun C, et al. Effect of intensive lowering of systolic blood pressure treatment on heart failure events: a meta-analysis of randomized controlled studies. J Hum Hypertens. 2019;33:648- 657.\n34. A randomized trial of intensive versus standard blood-pressure control. N Engl J Med. 2017;377: 2506.\n35. Upadhya B, Rocco M, Lewis CE, et al. Effect of intensive blood pressure treatment on heart failure events in the Systolic Blood Pressure Reduction Intervention Trial. Circ Heart Fail. 2017;10:e003613.\n36. Whelton PK, Carey RM, Aronow WS, et al. 2017 ACC/AHA/AAPA/ABC/ACPM/AGS/APhA/ASH/ASPC/ NMA/PCNA guideline for the prevention, detection, evaluation, and management of high blood pressure in adults: a report of the American College of Cardiology/ American Heart Association Task Force on Clinical Practice Guidelines. J Am Coll Cardiol. 2018;71:e127- e248.\n37. Mehra R, Wang L, Andrews N, et al. Dissociation of objective and subjective daytime sleepiness and bio- markers of systemic inflammation in sleep-disordered breathing and systolic heart failure. J Clin Sleep Med. 2017;13:1411-1422.\n38. Bradley TD, Logan AG, Kimoff RJ, et al. Continuous positive airway pressure for central sleep apnea and heart failure. N Engl J Med. 2005;353:2025-2033.\n39. Zhang XB, Yuan YT, Du YP, et al. Efficacy of pos- itive airway pressure on brain natriuretic peptide in patients with heart failure and sleep-disorder breath- ing: a meta-analysis of randomized controlled trials. Lung. 2015;193:255-260.\n40. Aggarwal S, Nadeem R, Loomba RS, et al. The effects of continuous positive airways pressure therapy on cardiovascular end points in patients with sleep- disordered breathing and heart failure: a meta- analysis of randomized controlled trials. Clin Cardiol. 2014;37:57-65.\n41. Voigt J, Emani S, Gupta S, et al. Meta-analysis comparing outcomes of therapies for patients with central sleep apnea and heart failure with reduced ejection fraction. Am J Cardiol. 2020;127:73-83.\n42. Yamamoto S, Yamaga T, Nishie K, et al. Positive airway pressure therapy for the treatment of central sleep apnoea associated with heart failure. Cochrane Database Syst Rev. 2019;12:CD012803.\n43. American Diabetes Association. Addendum. 9. Pharmacologic approaches to glycemic treatment: standards of medical care in diabetes-2020. Diabetes Care. 2020;43(suppl 1):S98-S110.\n44. McGuire DK, Shih WJ, Cosentino F, et al. Associa- tion of SGLT2 inhibitors with cardiovascular and kidney outcomes in patients with type 2 diabetes: a meta- analysis. JAMA Cardiol. 2021;6:148-158.\n45. Li J, Woodward M, Perkovic V, et al. Mediators of the effects of canagliflozin on heart failure in patients with type 2 diabetes. J Am Coll Cardiol HF. 2020;8:57- 66.\n46. U.S. National Library of Medicine. Clinical Trials. gov. Dapagliflozin Evaluation to Improve the LIVES of Patients With PReserved Ejection Fraction Heart Fail- ure. (DELIVER). 2018. Accessed June 28, 2021. https:// clinicaltrials.gov/ct2/show/NCT03619213\n47. Anker SD, Butler J, Filippatos GS, et al. Evaluation of the effects of sodium-glucose co-transporter 2 in- hibition with empagliflozin on morbidity and mortality in patients with chronic heart failure and a preserved ejection fraction: rationale for and design of the EM- PEROR-Preserved Trial. Eur J Heart Fail. 2019;21:1279- 1287.\n48. Bhatt DL, Szarek M, Steg PG, et al. Sotagliflozin in patients with diabetes and recent worsening heart failure. N Engl J Med. 2021;384:117-128.\n49. Liu D, Chen H, Song F, et al. Adverse drug events observed with the novel sodium/glucose co- transporter 2 inhibitor ipragliflozin for the treatment of patients with type 2 diabetes mellitus: a systematic review and meta-analysis of randomized studies. Adv Ther. 2020;37:4356-4369.\n50. Yancy CW, Jessup M, Bozkurt B, et al. 2013 ACCF/ AHA guideline for the management of heart failure: a report of the American College of Cardiology Foun- dation/American Heart Association Task Force on Practice Guidelines. J Am Coll Cardiol. 2013;62:e147- e239.\n10.2. Management of Atrial Fibrillation (AF) in HF\n1. Mason PK, Lake DE, DiMarco JP, et al. Impact of the CHA2DS2-VASc score on anticoagulation recommen- dations for atrial fibrillation. Am J Med. 2012;125: 603e1-603e6.\n2. Connolly SJ, Ezekowitz MD, Yusuf S, et al. Dabiga- tran versus warfarin in patients with atrial fibrillation. N Engl J Med. 2009;361:1139-1151.\n3. Patel MR, Mahaffey KW, Garg J, et al. Rivaroxaban versus warfarin in nonvalvular atrial fibrillation. N Engl J Med. 2011;365:883-891.\n4. Granger CB, Alexander JH, McMurray JJ, et al. Apixaban versus warfarin in patients with atrial fibril- lation. N Engl J Med. 2011;365:981-982.\n5. Giugliano RP, Ruff CT, Braunwald E, et al. Edoxaban versus warfarin in patients with atrial fibrillation. N Engl J Med. 2013;369:2093-2104.\n6. Ferreira J, Ezekowitz MD, Connolly SJ, et al. Dabi- gatran compared with warfarin in patients with atrial fibrillation and symptomatic heart failure: a subgroup analysis of the RE-LY trial. Eur J Heart Fail. 2013;15: 1053-1061.\n7. McMurray JJ, Ezekowitz JA, Lewis BS, et al. Left ventricular systolic dysfunction, heart failure, and the risk of stroke and systemic embolism in patients with atrial fibrillation: insights from the ARISTOTLE trial. Circ Heart Fail. 2013;6:451-460.\n8. Siller-Matula JM, Pecen L, Patti G, et al. Heart failure subtypes and thromboembolic risk in patients with atrial fibrillation: the PREFER in AF - HF substudy. Int J Cardiol. 2018;265:141-147.\n9. Magnani G, Giugliano RP, Ruff CT, et al. Efficacy and safety of edoxaban compared with warfarin in patients\nwith atrial fibrillation and heart failure: insights from ENGAGE AF-TIMI 48. Eur J Heart Fail. 2016;18:1153- 1161.\n10. Savarese G, Giugliano RP, Rosano GM, et al. Effi- cacy and safety of novel oral anticoagulants in patients with atrial fibrillation and heart failure: a meta-anal- ysis. J Am Coll Cardiol HF. 2016;4:870-880.\n11. Di Biase L, Mohanty P, Mohanty S, et al. Ablation versus amiodarone for treatment of persistent atrial fibrillation in patients with congestive heart failure and an implanted device: results from the AATAC multi- center randomized trial. Circulation. 2016;133:1637- 1644.\n12. Marrouche NF, Brachmann J, Andresen D, et al. Catheter ablation for atrial fibrillation with heart fail- ure. N Engl J Med. 2018;378:417-427.\n13. Chen S, Purerfellner H, Meyer C, et al. Rhythm control for patients with atrial fibrillation complicated with heart failure in the contemporary era of catheter ablation: a stratified pooled analysis of randomized data. Eur Heart J. 2020;41:2863-2873.\n14. Packer DL, Piccini JP, Monahan KH, et al. Ablation versus drug therapy for atrial fibrillation in heart fail- ure: results from the CABANA trial. Circulation. 2021;143:1377-1390.\n15. Wood MA, Brown-Mahoney C, Kay GN, et al. Clin- ical outcomes after ablation and pacing therapy for atrial fibrillation: a meta-analysis. Circulation. 2000;101:1138-1144.\n16. Brignole M, Menozzi C, Gianfranchi L, et al. Assessment of atrioventricular junction ablation and VVIR pacemaker versus pharmacological treatment in patients with heart failure and chronic atrial fibrilla- tion: a randomized, controlled study. Circulation. 1998;98:953-960.\n17. Doshi RN, Daoud EG, Fellows C, et al. Left ventricular-based cardiac stimulation Post AV nodal ablation Evaluation (the PAVE study). J Cardiovasc Electrophysiol. 2005;16:1160-1165.\n18. Brignole M, Gammage M, Puggioni E, et al. Comparative assessment of right, left, and biven- tricular pacing in patients with permanent atrial fibrillation. Eur Heart J. 2005;26:712-722.\n19. Brignole M, Botto G, Mont L, et al. Cardiac resynchronization therapy in patients undergoing atrioventricular junction ablation for permanent atrial fibrillation: a randomized trial. Eur Heart J. 2011;32: 2420-2429.\n20. Brignole M, Pokushalov E, Pentimalli F, et al. A randomized controlled trial of atrioventricular junc- tion ablation and cardiac resynchronization therapy in patients with permanent atrial fibrillation and narrow QRS. Eur Heart J. 2018;39:3999-4008.\n21. Chatterjee NA, Upadhyay GA, Ellenbogen KA, et al. Atrioventricular nodal ablation in atrial fibrillation: a meta-analysis of biventricular vs. right ventricular pacing mode. Eur J Heart Fail. 2012;14: 661-667.\n22. Prabhu S, Taylor AJ, Costello BT, et al. Catheter ablation versus medical rate control in atrial fibrillation and systolic dysfunction: the CAMERA-MRI study. J Am Coll Cardiol. 2017;70:1949-1961.\n23. Freudenberger RS, Hellkamp AS, Halperin JL, et al. Risk of thromboembolism in heart failure: an analysis from the Sudden Cardiac Death in Heart Failure Trial (SCD-HEFT). Circulation. 2007;115:2637-2641.\n24. Camm AJ, Kirchhof P, Lip GY, et al. Guidelines for the management of atrial fibrillation: the Task Force for the Management of Atrial Fibrillation of the Euro- pean Society of Cardiology (ESC). Eur Heart J. 2010;31: 2369-2429.\n25. Melgaard L, Gorst-Rasmussen A, Lane DA, et al. Assessment of the CHA2DS2-VASc score in predicting ischemic stroke, thromboembolism, and death in pa- tients with heart failure with and without atrial fibril- lation. JAMA. 2015;314:1030-1038.\n26. Mogensen UM, Jhund PS, Abraham WT, et al. Type of atrial fibrillation and outcomes in patients with heart failure and reduced ejection fraction. J Am Coll Cardiol. 2017;70:2490-2500.\n27. January CT, Wann LS, Alpert JS, et al. 2014 AHA/ ACC/HRS guideline for the management of patients with atrial fibrillation: a report of the American College of Cardiology/American Heart Association Task Force on Practice Guidelines and the Heart Rhythm Society. J Am Coll Cardiol. 2014;64:e1-e76.\n28. January CT, Wann LS, Calkins CH, et al. 2019 AHA/ ACC/HRS focused update of the 2014 AHA/ACC/HRS guideline for the management of patients with atrial fibrillation: a report of the American College of Car- diology/American Heart Association Task Force on Clinical Practice Guidelines and the Heart Rhythm So- ciety. J Am Coll Cardiol. 2019;74:104-132.\n29. Witt BJ, Brown RD Jr, Jacobsen SJ, et al. Ischemic stroke after heart failure: a community-based study. Am Heart J. 2006;152:102-109."
          },
          "metadata": {}
        },
        {
          "output_type": "stream",
          "name": "stdout",
          "text": [
            "\n"
          ]
        },
        {
          "output_type": "display_data",
          "data": {
            "text/plain": [
              "<IPython.core.display.Markdown object>"
            ],
            "text/markdown": "**Citation [6]:** page-et-al-2015-2015-acc-aha-hrs-guideline-for-the-management-of-adult-patients-with-supraventricular-tachycardia"
          },
          "metadata": {}
        },
        {
          "output_type": "display_data",
          "data": {
            "text/plain": [
              "<IPython.core.display.Markdown object>"
            ],
            "text/markdown": "See Online Data Supplements 16 and 17.\n4. Ongoing management with antithrombotic therapy is recommended in patients with atrial flutter to align with recommended antithrombotic therapy for patients with AF (365).\nThe risk of stroke associated with AF is well established, and several RCTs have demonstrated the efficacy of anticoagulation for stroke prevention in patients with additional risk factors (366). Anticoagulation has also been shown to prevent stroke when administered during the weeks immediately before and after cardioversion (367). Whether atrial flutter carries a risk of stroke similar to that in patients with AF has been debated in the past but is now supported by limited evidence from mechanistic, observational, and prospective studies that include patients primarily with atrial flutter (365-369). Several reports have suggested that the risk of stroke in patients with atrial flutter is mitigated by anticoagulation. Meta-analysis of 13 studies of patients undergoing cardioversion of atrial flutter reported short-term stroke risks ranging from 0% to 7%, and the thromboembolism rate in patients with sustained flutter in 4 studies averaged 3% annually (365). Other studies have reported similar risk and effectiveness of anticoagulation (369). Therefore, on the basis of available data, recommendations for antithrombotic therapy for patients with atrial flutter are similar to those for patients with AF (10).\n| IIa B-R See Online Data Supplements 16 and 17. | 1. The following drugs can be useful to maintain sinus rhythm in patients with symptomatic, recurrent atrial flutter, with the drug choice depending on underlying heart disease and comorbidities: a. Amiodarone (376) b. Dofetilide (346,377) c. Sotalol (378) |\n| In patients in whom ablation is not being considered because of contraindications (such as underlying medical illness) or because of patient preference, a variety of antiarrhythmic drugs are available. These drugs act by suppressing triggers and altering atrial tissue refractoriness. Individual properties of each drug need to be considered for proper use. Much of the data pertaining to use of amiodarone in management of atrial arrhythmias has been derived from use in patients with AF(10). Few data are available for patients with atrial flutter. Amiodarone has significant toxicities, so it is used only when other treatments are contraindicated or ineffective. Nevertheless, administration is reasonable, particularly in patients with heart failure or significant underlying heart disease (376). Dofetilide may be more effective than many other drugs but must be started in an inpatient setting (346,377). The dose is adjusted on the basis of renal function, with close monitoring of the Q-T interval and subsequent monitoring for altered renal function. Sotalol, a class III antiarrhythmic, is generally well tolerated but is associated with typical beta blocker side effects, such as fatigue and bradycardia (378). The major potential cardiac toxicity for both drugs is torsades de pointes. |\n| IIa | B-NR | 2. Catheter ablation is reasonable in patients with CTI-dependent atrial flutter that occurs as the result of flecainide, propafenone, or amiodarone used for treatment of AF (317,379-381). |\n| See Online Data Supplements 16 and 17. | Some patients with AF treated with propafenone, flecainide, or amiodarone will develop atrial flutter. In this circumstance, if flutter becomes the dominant arrhythmia, ablation of the CTI and continued use of the antiarrhythmic drug can decrease the incidence of atrial flutter and facilitate the pharmacological management of AF (379,380). |\n| IIa | C-LD | 3. Catheter ablation of the CTI is reasonable in patients undergoing catheter ablation of AF who also have a history of documented clinical or induced CTI-dependent atrial flutter (381,382). |\n| See Online Data Supplements 16 and 17. | The indications for catheter ablation of AF are discussed in the 2014 AF guideline (10). When AF and atrial flutter coexist, 1 randomized study demonstrated that at 1-year follow-up, greater success in terms of arrhythmia suppression and quality-of-life score resulted from AF ablation (with or without atrial flutter ablation) than from atrial flutter ablation alone (381). It may be that AF ablation alone is sufficient to control both arrhythmias, although CTI ablation reduced the early postablation arrhythmia recurrence rate (382). |\n| IIa C-LD | 4. Catheter ablation is reasonable in patients with recurrent symptomatic non-CTI-dependent flutter as primary therapy, before therapeutic trials of antiarrhythmic drugs, after carefully weighing potential risks and benefits of treatment options (135). |\n| See Online Data Supplement 17. | No prospective RCTs have compared the efficacy or safety of antiarrhythmic drugs with that of catheter ablation for non-CTI-dependent atrial flutter. Observational data, however, support the relative effectiveness and safety of catheter ablation in experienced centers (135,327). Many of the atrial flutters that are observed during the first 3 months after ablation or cardiac surgery will not persist beyond the periprocedural period, so attempts at ablation can be deferred unless attempts at pharmacological therapy or cardioversion are unsuccessful (135). |\n| IIb B-R | 1. Flecainide or propafenone may be considered to maintain sinus rhythm in patients without structural heart disease or ischemic heart disease who have symptomatic recurrent atrial flutter (383-385). |\n| See Online Data Supplements 16 and 17. | Data to support the recommendation for flecainide and propafenone for maintenance of sinus rhythm in patients with atrial flutter is derived from trials that pooled patients with AF and atrial flutter, with the vast majority of the patients having AF. It is therefore possible that these agents are not as effective for treating isolated atrial flutter as they are for AF (386). Flecainide and propafenone may result in slowing of the atrial flutter cycle length, which may lead to a rapid 1:1 ventricular response (387). Because of this, caution is advised with flecainide and propafenone in patients with atrial flutter at risk of 1:1 conduction. The risk may be reduced by coadministration of medications that slow AV nodal conduction, such as beta blockers, verapamil, or diltiazem. |\n\nIIb C-LD"
          },
          "metadata": {}
        },
        {
          "output_type": "stream",
          "name": "stdout",
          "text": [
            "\n"
          ]
        },
        {
          "output_type": "display_data",
          "data": {
            "text/plain": [
              "<IPython.core.display.Markdown object>"
            ],
            "text/markdown": "**Citation [7]:** page-et-al-2015-2015-acc-aha-hrs-guideline-for-the-management-of-adult-patients-with-supraventricular-tachycardia"
          },
          "metadata": {}
        },
        {
          "output_type": "display_data",
          "data": {
            "text/plain": [
              "<IPython.core.display.Markdown object>"
            ],
            "text/markdown": "2. Catheter ablation may be reasonable for asymptomatic patients with recurrent atrial flutter (102,121,372).\nSee Online Data Supplements 16 and 17.\nCatheter ablation of atrial flutter is highly effective, with single-procedure success rates >90% (102) and an excellent safety profile (102,121). In patients with recurrent atrial flutter, long-term maintenance of sinus rhythm is more likely with ablation than with pharmacological therapy (372). Also, ablation may avoid potential development of tachycardia-mediated cardiomyopathy."
          },
          "metadata": {}
        },
        {
          "output_type": "stream",
          "name": "stdout",
          "text": [
            "\n"
          ]
        },
        {
          "output_type": "display_data",
          "data": {
            "text/plain": [
              "<IPython.core.display.Markdown object>"
            ],
            "text/markdown": "**Citation [8]:** whelton-et-al-2017-2017-acc-aha-aapa-abc-acpm-ags-apha-ash-aspc-nma-pcna-guideline-for-the-prevention-detection"
          },
          "metadata": {}
        },
        {
          "output_type": "display_data",
          "data": {
            "text/plain": [
              "<IPython.core.display.Markdown object>"
            ],
            "text/markdown": "9.8. Atrial Fibrillation\nS9.8-1. Healey JS, Baranchuk A, Crystal E, et al. Prevention of atrial fibrillation with angiotensin- converting enzyme inhibitors and angiotensin recep- tor blockers: a meta-analysis. J Am Coll Cardiol. 2005; 45:1832-9.\nS9.8-2. Zhao D, Wang Z-M, Wang L-S. Prevention of atrial fibrillation with renin-angiotensin system in- hibitors on essential hypertensive patients: a meta- analysis of randomized controlled trials. J Biomed Res. 2015;29:475-85.\nS9.8-3. Kistler PM, Sanders P, Fynn SP, et al. Elec- trophysiologic and electroanatomic changes in the human atrium associated with age. J Am Coll Cardiol. 2004;44:109-16.\nS9.8-4. January CT, Wann LS, Alpert JS, et al. 2014 AHA/ACC/HRS guideline for the management of pa- tients with atrial fibrillation: a report of the American College of Cardiology/American Heart Association Task Force on Practice Guidelines and the Heart Rhythm Society. J Am Coll Cardiol. 2014;64:e1-76.\n59.8-5. Olesen JB, Torp-Pedersen C, Hansen ML, et al. The value of the CHA2DS2-VASc score for refining stroke risk stratification in patients with atrial fibrilla- tion with a CHADS2 score 0-1: a nationwide cohort study. Thromb Haemost. 2012;107:1172-9.\nS9.8-6. Healey JS, Connolly SJ. Atrial fibrillation: hypertension as a causative agent, risk factor for\ncomplications, and potential therapeutic target. Am J Cardiol. 2003;91:9G-14G.\nS9.8-7. Hansson L, Lindholm LH, Ekbom T, et al. Randomised trial of old and new antihypertensive drugs in elderly patients: cardiovascular mortality and morbidity. The Swedish Trial in Old Patients with Hypertension-2 study. Lancet. 1999;354:1751-6.\nS9.8-8. Julius S, Kjeldsen SE, Weber M, et al. Outcomes in hypertensive patients at high cardiovas- cular risk treated with regimens based on valsartan or amlodipine: the VALUE randomised trial. Lancet. 2004;363:2022-31.\nS9.8-9. Wachtell K, Lehto M, Gerdts E, et al. Angio- tensin II receptor blockade reduces new-onset atrial fibrillation and subsequent stroke compared to aten- olol: the Losartan Intervention For End Point Reduc- tion in Hypertension (LIFE) study. J Am Coll Cardiol. 2005;45:712-9.\n59.8-10. Haywood LJ, Ford CE, Crow RS, et al. Atrial fibrillation at baseline and during follow-up in ALLHAT (Antihypertensive and Lipid-Lowering Treatment to Prevent Heart Attack Trial). J Am Coll Cardiol. 2009; 54:2023-31.\n59.8-11. Hansson L, Lindholm LH, Niskanen L, et al. Effect of angiotensin-converting-enzyme inhibition compared with conventional therapy on cardiovascular morbidity and mortality in hypertension: the Captopril Prevention Project (CAPPP) randomised trial. Lancet. 1999;353:611-6."
          },
          "metadata": {}
        },
        {
          "output_type": "stream",
          "name": "stdout",
          "text": [
            "\n"
          ]
        },
        {
          "output_type": "display_data",
          "data": {
            "text/plain": [
              "<IPython.core.display.Markdown object>"
            ],
            "text/markdown": "**Citation [9]:** ommen-et-al-2024-2024-aha-acc-amssm-hrs-paces-scmr-guideline-for-the-management-of-hypertrophic-cardiomyopathy"
          },
          "metadata": {}
        },
        {
          "output_type": "display_data",
          "data": {
            "text/plain": [
              "<IPython.core.display.Markdown object>"
            ],
            "text/markdown": "TOP 10 TAKE-HOME MESSAGES\n1. Shared decision-making is essential to provide the best clinical care. This involves thoughtful dialogue among patients, families, and their care team in which health care professionals present all available testing and treatment options; discuss the risks, benefits, and applicability of those options to the individual pa- tient; and ensure the patient expresses their personal preferences and goals to develop their treatment plan.\n2. Although the primary cardiology team can initiate evaluation, treatment, and longitudinal care, referral to multidisciplinary hypertrophic cardiomyopathy (HCM) centers with appropriate expertise can be important to optimizing care for patients with HCM. Challenging treatment decisions-where reasonable alternatives exist, where the strength of recommendation is weak (eg, any decision relying on a Class of Recommendation 2b) or is particularly nuanced (eg, interpretation of genetic testing; primary prevention implantable cardioverter-defibrillator decision-making), and for HCM-specific invasive procedures-may critically benefit from involving specialized HCM centers.\n3. Careful ascertainment of family history, counseling patients with HCM about the potential for genetic transmission of HCM, and options for genetic testing are cornerstones of care. Screening first-degree family members of patients with HCM, using either genetic testing, serial imaging, or electrocardiogramaur- veillance as appropriate, can begin at any age and can be influenced by specifics of the patient and family history and family preference. Because screening recommendations for family members hinge on the pathogenicity of any detected variants, the reported pathogenicity should be reconfirmed every 2 to 3 years, and input from specialized HCM centers with genetics expertise may be valuable.\n4. Assessing a patient's risk for sudden cardiac death is an important component of management. Integrating the presence or absence of established risk markers with tools to estimate individual risk score will facilitate the patient's ability to participate in decision-making regarding implantable cardioverter- defibrillator placement. These discussions should incorporate a patient's personal level of risk tolerance and their specific treatment goals.\n5. The risk factors for sudden cardiac death in children with HCM carry different weights and components than those used in adult patients. Pediatric risk stratification also varies with age and must account for different body sizes. Coupled with the complexity of placing implantable cardioverter-defibrillators in young patients with anticipated growth and a higher risk of device complications, the threshold for\nimplantable cardioverter-defibrillator implantation in children often differs from adults. These differences are best addressed at comprehensive HCM centers with expertise in caring for children with HCM. New risk calculators, specific to children and adolescents, have been validated and can help young patients and their families contextualize their estimated risk of sudden cardiac death.\n6. Cardiac myosin inhibitors are now available to treat patients with symptomatic obstructive HCM. This new class of medication inhibits actin-myosin interaction, thus decreasing cardiac contractility and reducing left ventricular outflow tract obstruction. Mava- camten is currently the only U.S. Food and Drug Administration-approved agent. These agents can be beneficial for patients with obstructive HCM who do not derive adequate symptomatic relief from first-line drug therapy.\n7. Invasive septal reduction therapies (surgical septal myectomy and alcohol septal ablation), when per- formed by experienced HCM teams at dedicated cen- ters, can provide safe and effective symptomatic relief for patients with drug-refractory or severe outflow tract obstruction. Given the data on the significantly improved outcomes at comprehensive HCM centers, these decisions represent an optimal opportunity for referral.\n8. Patients with HCM and persistent or paroxysmal atrial fibrillation have a sufficiently increased risk of stroke such that oral anticoagulation with direct-acting oral anticoagulants (or alternatively warfarin) should be considered the default treatment option irrespective of the CHA2DS2-VASc score. New tools to stratify risk for incident atrial fibrillation have been developed and may assist in determining the frequency of screening patients with ambulatory telemetry. Because rapid atrial fibrillation is often poorly toler- ated in patients with HCM, maintenance of sinus rhythm and rate control are key treatment goals.\n9. Exercise stress testing is particularly helpful in determining overall exercise tolerance and for latent exercise provoked left ventricular outflow tract obstruction. Because children may not describe symptoms readily, routine exercise testing can be particularly important for young patients.\n10. Increasingly, data affirm that the beneficial effects of exercise on general health are extended to patients with HCM. Healthy recreational exercise (light [<3 metabolic equivalents], moderate [3-6 metabolic equivalents], and vigorous [>6 metabolic equivalents] intensity levels) has not been associated with increased risk of ventricular arrhythmia events in short-term studies. If patients pursue rigorous exer- cise training for the purpose of performance or\ncompetition, it is important to engage in a compre- hensive discussion and seek input from expert HCM professionals regarding the potential risks and bene- fits, to develop an individualized training plan, and to establish a regular schedule for reevaluation."
          },
          "metadata": {}
        },
        {
          "output_type": "stream",
          "name": "stdout",
          "text": [
            "\n"
          ]
        },
        {
          "output_type": "display_data",
          "data": {
            "text/plain": [
              "<IPython.core.display.Markdown object>"
            ],
            "text/markdown": "**Citation [10]:** ommen-et-al-2024-2024-aha-acc-amssm-hrs-paces-scmr-guideline-for-the-management-of-hypertrophic-cardiomyopathy"
          },
          "metadata": {}
        },
        {
          "output_type": "display_data",
          "data": {
            "text/plain": [
              "<IPython.core.display.Markdown object>"
            ],
            "text/markdown": "8.5. Management of Patients With HCM and Ventricular Arrhythmias\nRecommendations for the Management of Patients With HCM and Ventricular Arrhythmias Referenced studies that support the recommendations are summarized in the Online Data Supplement.\n| COR | LOE | RECOMMENDATIONS |\n| --- | --- | --- |\n| 1 | B-NR | 1. In patients with HCM and recurrent, poorly tolerated life-threatening ventricular tachyarrhythmias re- fractory to maximal antiarrhythmic drug therapy and ablation, heart transplantation assessment is indi- cated in accordance with current listing criteria.1,2 |\n| 1 | B-NR* C-LD+ | 2. In adults with HCM and symptomatic ventricular arrhythmias or recurrent ICD shocks despite beta-blocker use, antiarrhythmic drug therapy (eg, amiodarone,* dofetilide, t mexiletine, t or sotalolt) is recommended, with the choice of agent guided by age, underlying comorbidities, severity of disease, patient preferences, and balance between efficacy and safety.3-6 |\n| 1 | C-LD | 3. In children with HCM and recurrent ventricular arrhythmias despite beta-blocker use, antiarrhythmic drug therapy (eg, amiodarone,3,4 mexiletine,6 sotalol3,4) is recommended, with the choice of agent guided by age, underlying comorbidities, severity of disease, patient preferences, and balance of efficacy and safety. |\n| 1 | C-LD | 4. In patients with HCM and pacing-capable ICDs, programming antitachycardia pacing is recommended to minimize risk of shocks.7,8 |\n| 2a | C-LD | 5. In patients with HCM and recurrent symptomatic sustained monomorphic VT, or recurrent ICD shocks despite optimal device programming, and in whom antiarrhythmic drug therapy is either ineffective, not tolerated, or not preferred, catheter ablation can be useful for reducing arrhythmia burden.9-11 |\n\n*Indicates the LOE for amiodarone. tIndicates the LOE for dofetilide, mexiletine, or sotalol."
          },
          "metadata": {}
        },
        {
          "output_type": "stream",
          "name": "stdout",
          "text": [
            "\n"
          ]
        }
      ]
    },
    {
      "cell_type": "markdown",
      "source": [
        "Initialize CrewAI"
      ],
      "metadata": {
        "id": "DSLk4gDLazBc"
      }
    },
    {
      "cell_type": "code",
      "source": [
        "from crewai import Agent, Task, Crew, Process\n",
        "from graphlit_tools import PromptTool\n",
        "from textwrap import dedent\n",
        "\n",
        "os.environ['OPENAI_API_KEY'] = userdata.get('OPENAI_API_KEY')\n",
        "\n",
        "prompt_tool = PromptTool(graphlit)\n",
        "\n",
        "# Embed patient profile information into the agent goals\n",
        "# Define the CrewAI agents\n",
        "guideline_expert = Agent(\n",
        "    role=\"Guideline Expert\",\n",
        "    goal=(\n",
        "        f\"Retrieve and summarize relevant ACC guidelines for a {patient_profile['age']}-year-old \"\n",
        "        f\"with atrial fibrillation and peripheral arterial disease. \"\n",
        "        \"Focus on treatment options such as catheter ablation and antiarrhythmic therapy.\"\n",
        "    ),\n",
        "    backstory=\"You are an expert on ACC guidelines for managing atrial fibrillation and PAD.\",\n",
        "    tools=[prompt_tool],\n",
        "    verbose=True,\n",
        ")\n",
        "\n",
        "patient_educator = Agent(\n",
        "    role=\"Patient Educator\",\n",
        "    goal=(\n",
        "        f\"Translate the medical guidelines into easy-to-understand terms for Sarah Johnson. \"\n",
        "        \"Focus on explaining the treatment options available for managing atrial fibrillation.\"\n",
        "    ),\n",
        "    backstory=\"You explain complex medical terms in patient-friendly language.\",\n",
        "    verbose=True,\n",
        ")\n",
        "\n",
        "treatment_planner = Agent(\n",
        "    role=\"Treatment Planner\",\n",
        "    goal=(\n",
        "        f\"Create a personalized treatment plan for Sarah Johnson, considering her preference for minimally invasive procedures \"\n",
        "        f\"and her options of catheter ablation or antiarrhythmic therapy.\"\n",
        "    ),\n",
        "    backstory=\"You specialize in personalized treatment plans based on patient history and preferences.\",\n",
        "    verbose=True,\n",
        ")\n",
        "\n",
        "output_generator = Agent(\n",
        "    role=\"Output Generator\",\n",
        "    goal=(\n",
        "        f\"Compile the information into a comprehensive patient decision aid document for Sarah Johnson, \"\n",
        "        f\"including a clear summary of her treatment options and next steps.\"\n",
        "    ),\n",
        "    backstory=\"You ensure that the medical recommendations are presented clearly and concisely.\",\n",
        "    verbose=True,\n",
        ")\n",
        "\n",
        "# Define tasks for each agent\n",
        "task1 = Task(\n",
        "    description=\"Retrieve ACC guidelines for managing atrial fibrillation and PAD.\",\n",
        "    expected_output=\"Summarized guidelines with a focus on catheter ablation and stroke risk reduction.\",\n",
        "    agent=guideline_expert,\n",
        ")\n",
        "\n",
        "task2 = Task(\n",
        "    description=\"Translate the guidelines into patient-friendly language.\",\n",
        "    expected_output=\"Simplified, patient-friendly explanations of the treatment options.\",\n",
        "    agent=patient_educator,\n",
        ")\n",
        "\n",
        "task3 = Task(\n",
        "    description=\"Personalize the treatment plan according to the patient's preferences.\",\n",
        "    expected_output=\"A treatment plan tailored to the patient's specific conditions and preferences.\",\n",
        "    agent=treatment_planner,\n",
        ")\n",
        "\n",
        "task4 = Task(\n",
        "    description=\"Generate a patient decision aid document.\",\n",
        "    expected_output=\"A final decision aid document summarizing the patient's condition and treatment recommendations.\",\n",
        "    agent=output_generator,\n",
        ")\n",
        "\n",
        "# Create the Crew and define the process flow\n",
        "crew = Crew(\n",
        "    agents=[guideline_expert, patient_educator, treatment_planner, output_generator],\n",
        "    tasks=[task1, task2, task3, task4],\n",
        "    process=Process.sequential,  # Ensures tasks are executed in sequence\n",
        "    verbose=True\n",
        ")\n",
        "\n",
        "# Execute the multi-step reasoning process\n",
        "result = await crew.kickoff_async()\n",
        "\n",
        "# Display the final patient decision aid\n",
        "print(\"Final Patient Decision Aid:\")\n",
        "print(result)"
      ],
      "metadata": {
        "id": "0uZ-KmQ8gTf7",
        "colab": {
          "base_uri": "https://localhost:8080/"
        },
        "outputId": "bbedc74a-d764-45e5-a6c1-ba8fc01eadf6"
      },
      "execution_count": 10,
      "outputs": [
        {
          "output_type": "stream",
          "name": "stdout",
          "text": [
            "\u001b[1m\u001b[95m# Agent:\u001b[00m \u001b[1m\u001b[92mGuideline Expert\u001b[00m\n",
            "\u001b[95m## Task:\u001b[00m \u001b[92mRetrieve ACC guidelines for managing atrial fibrillation and PAD.\u001b[00m\n",
            "\n",
            "\n",
            "\u001b[1m\u001b[95m# Agent:\u001b[00m \u001b[1m\u001b[92mGuideline Expert\u001b[00m\n",
            "\u001b[95m## Thought:\u001b[00m \u001b[92mThought: I need to retrieve the relevant ACC guidelines for managing atrial fibrillation and peripheral arterial disease (PAD), focusing on treatment options such as catheter ablation and stroke risk reduction.\u001b[00m\n",
            "\u001b[95m## Using tool:\u001b[00m \u001b[92mGraphlit prompt tool\u001b[00m\n",
            "\u001b[95m## Tool Input:\u001b[00m \u001b[92m\n",
            "{\n",
            "  \"prompt\": \"Retrieve ACC guidelines for managing atrial fibrillation and peripheral arterial disease with a focus on catheter ablation and stroke risk reduction.\"\n",
            "}\u001b[00m\n",
            "\u001b[95m## Tool Output:\u001b[00m \u001b[92m\n",
            "The 2014 AHA/ACC/HRS guideline for the management of patients with atrial fibrillation includes recommendations on catheter ablation and stroke risk reduction. Catheter ablation is recommended for patients with symptomatic atrial fibrillation who have failed antiarrhythmic drug therapy. Stroke risk reduction is primarily managed through anticoagulation therapy based on the patient's risk factors.\n",
            "\n",
            "The 2019 AHA/ACC/HRS focused update of the 2014 guideline further refines the recommendations for catheter ablation and stroke risk reduction in atrial fibrillation patients. It emphasizes the use of newer anticoagulants and provides updated criteria for patient selection for catheter ablation.\n",
            "\n",
            "The 2024 ACC/AHA guideline for the management of lower extremity peripheral artery disease includes recommendations for catheter-based interventions. For patients with significant symptoms or critical limb ischemia, catheter-based revascularization is recommended. Stroke risk reduction in these patients involves managing cardiovascular risk factors such as hypertension, diabetes, and hyperlipidemia.\n",
            "\n",
            "The 2011 ACCF/AHA focused update on the management of patients with peripheral artery disease highlights the importance of antithrombotic therapy to reduce the risk of stroke and other cardiovascular events. This includes the use of antiplatelet agents like aspirin or clopidogrel.\u001b[00m\n",
            "\n",
            "\n",
            "\u001b[1m\u001b[95m# Agent:\u001b[00m \u001b[1m\u001b[92mGuideline Expert\u001b[00m\n",
            "\u001b[95m## Final Answer:\u001b[00m \u001b[92m\n",
            "### ACC Guidelines on Managing Atrial Fibrillation and Peripheral Arterial Disease\n",
            "\n",
            "#### Atrial Fibrillation\n",
            "\n",
            "**2014 AHA/ACC/HRS Guideline for the Management of Patients with Atrial Fibrillation:**\n",
            "- **Catheter Ablation:**\n",
            "  - Recommended for patients with symptomatic atrial fibrillation who have not had success with antiarrhythmic drug therapy.\n",
            "- **Stroke Risk Reduction:**\n",
            "  - Managed predominantly through anticoagulation therapy based on individual risk factors.\n",
            "\n",
            "**2019 AHA/ACC/HRS Focused Update:**\n",
            "- **Catheter Ablation:**\n",
            "  - Refinement of recommendations, emphasizing updated criteria for patient selection.\n",
            "- **Stroke Risk Reduction:**\n",
            "  - Emphasizes the use of newer anticoagulants.\n",
            "\n",
            "#### Peripheral Arterial Disease (PAD)\n",
            "\n",
            "**2024 ACC/AHA Guideline for the Management of Lower Extremity Peripheral Artery Disease:**\n",
            "- **Catheter-Based Interventions:**\n",
            "  - Recommended for patients with significant symptoms or critical limb ischemia.\n",
            "- **Stroke Risk Reduction:**\n",
            "  - Focus on managing cardiovascular risk factors such as hypertension, diabetes, and hyperlipidemia.\n",
            "\n",
            "**2011 ACCF/AHA Focused Update on the Management of Patients with Peripheral Artery Disease:**\n",
            "- **Antithrombotic Therapy:**\n",
            "  - Highlights the importance for reducing the risk of stroke and other cardiovascular events, including using antiplatelet agents like aspirin or clopidogrel.\n",
            "\n",
            "These guidelines provide a comprehensive framework for the management of atrial fibrillation and peripheral arterial disease, highlighting the importance of catheter ablation and stroke risk reduction strategies.\u001b[00m\n",
            "\u001b[1m\u001b[95m# Agent:\u001b[00m \u001b[1m\u001b[92mPatient Educator\u001b[00m\n",
            "\u001b[95m## Task:\u001b[00m \u001b[92mTranslate the guidelines into patient-friendly language.\u001b[00m\n",
            "\n",
            "\n",
            "\u001b[1m\u001b[95m# Agent:\u001b[00m \u001b[1m\u001b[92mPatient Educator\u001b[00m\n",
            "\u001b[95m## Final Answer:\u001b[00m \u001b[92m\n",
            "Hi Sarah Johnson,\n",
            "\n",
            "I’m here to explain the treatment options available for managing atrial fibrillation (a-fib) in a way that’s easy to understand. A-fib is a condition where your heart beats in an irregular and often rapid manner. Here’s what you need to know about how it can be treated:\n",
            "\n",
            "### 1. Catheter Ablation\n",
            "Catheter ablation is a procedure where a thin tube (catheter) is inserted into your heart to destroy the small area of heart tissue that is causing the irregular heartbeat. This treatment is recommended for people who have symptoms of a-fib and haven't had success with medicines that are supposed to help with the heart rhythm. \n",
            "\n",
            "Experts updated their recommendations in 2019 to make sure that the right patients are selected for this procedure. This means that doctors now have clearer guidelines on who should get this treatment for the best results.\n",
            "\n",
            "### 2. Stroke Risk Reduction\n",
            "If you have a-fib, you are at a higher risk of having a stroke. To reduce this risk, doctors often prescribe medications called anticoagulants. These drugs help keep your blood from clotting too much. Depending on your individual risks and health profile, your doctor will help decide which anticoagulant is best for you. Newer anticoagulants have been found to be very effective and are part of the updated recommendations as of 2019.\n",
            "\n",
            "In summary, the main treatment options for atrial fibrillation include:\n",
            "1. **Catheter Ablation** - a procedure to help correct your heart's rhythm.\n",
            "2. **Anticoagulant medication** - to reduce the risk of stroke.\n",
            "\n",
            "I hope this helps you understand your treatment options a bit better. Always be sure to discuss these with your doctor to figure out what’s best for your particular situation.\n",
            "\n",
            "Best,\n",
            "[Your Name]\u001b[00m\n",
            "\u001b[1m\u001b[95m# Agent:\u001b[00m \u001b[1m\u001b[92mTreatment Planner\u001b[00m\n",
            "\u001b[95m## Task:\u001b[00m \u001b[92mPersonalize the treatment plan according to the patient's preferences.\u001b[00m\n",
            "\n",
            "\n",
            "\u001b[1m\u001b[95m# Agent:\u001b[00m \u001b[1m\u001b[92mTreatment Planner\u001b[00m\n",
            "\u001b[95m## Final Answer:\u001b[00m \u001b[92m\n",
            "Hi Sarah Johnson,\n",
            "\n",
            "I’m here to explain the treatment options available for managing atrial fibrillation (a-fib) in a way that’s easy to understand. A-fib is a condition where your heart beats in an irregular and often rapid manner. Here’s what you need to know about how it can be treated:\n",
            "\n",
            "### 1. Catheter Ablation\n",
            "Catheter ablation is a procedure where a thin tube (catheter) is inserted into your heart to destroy the small area of heart tissue that is causing the irregular heartbeat. This treatment is recommended for people who have symptoms of a-fib and haven't had success with medicines that are supposed to help with the heart rhythm. \n",
            "\n",
            "Experts updated their recommendations in 2019 to make sure that the right patients are selected for this procedure. This means that doctors now have clearer guidelines on who should get this treatment for the best results.\n",
            "\n",
            "### 2. Stroke Risk Reduction\n",
            "If you have a-fib, you are at a higher risk of having a stroke. To reduce this risk, doctors often prescribe medications called anticoagulants. These drugs help keep your blood from clotting too much. Depending on your individual risks and health profile, your doctor will help decide which anticoagulant is best for you. Newer anticoagulants have been found to be very effective and are part of the updated recommendations as of 2019.\n",
            "\n",
            "In summary, the main treatment options for atrial fibrillation include:\n",
            "1. **Catheter Ablation** - a procedure to help correct your heart's rhythm.\n",
            "2. **Anticoagulant medication** - to reduce the risk of stroke.\n",
            "\n",
            "### Personalized Treatment Plan Based on Your Preferences\n",
            "\n",
            "Considering your preference for minimally invasive procedures, the following personalized treatment plan could be most suitable for you:\n",
            "\n",
            "1. **Initial Assessment and Medication Management**\n",
            "   - Start with antiarrhythmic medication to manage and reduce the episodes of atrial fibrillation. Medications like Flecainide or Sotalol could be used, but this will depend on what your doctor considers best based on your health profile. This step is crucial to see if medication alone can effectively manage your condition.\n",
            "\n",
            "2. **Monitoring and Follow-up**\n",
            "   - Regular follow-up appointments to monitor the effectiveness of the antiarrhythmic therapy and to check for potential side effects. Adjustments to the medication dosage may be necessary.\n",
            "\n",
            "3. **Anticoagulant Therapy**\n",
            "   - Alongside your antiarrhythmic medication, taking an anticoagulant to reduce the risk of stroke is essential. Medications like Apixaban or Rivaroxaban may be prescribed, considering their effectiveness and ease of use.\n",
            "\n",
            "4. **Evaluation for Catheter Ablation**\n",
            "   - If the antiarrhythmic medications do not provide sufficient relief or if side effects are intolerable, an evaluation for catheter ablation could be the next step. Given your preference for minimally invasive procedures, catheter ablation represents a safe and effective option with lasting benefits for many patients.\n",
            "\n",
            "5. **Lifestyle and Risk Factor Management**\n",
            "   - Incorporating heart-healthy lifestyle changes such as maintaining a balanced diet, regular exercise, and avoiding excessive caffeine or alcohol intake can support overall heart health and potentially reduce the frequency of a-fib episodes.\n",
            "\n",
            "6. **Education and Support**\n",
            "   - Ensuring you have access to educational resources about a-fib and your treatment options, as well as support groups or counseling if needed, to help manage any anxiety or stress related to your condition.\n",
            "\n",
            "I hope this helps you understand your treatment options better. Always be sure to discuss these with your doctor to figure out what’s best for your particular situation.\n",
            "\n",
            "Best,\n",
            "[Your Name]\u001b[00m\n",
            "\u001b[1m\u001b[95m# Agent:\u001b[00m \u001b[1m\u001b[92mOutput Generator\u001b[00m\n",
            "\u001b[95m## Task:\u001b[00m \u001b[92mGenerate a patient decision aid document.\u001b[00m\n",
            "\n",
            "\n",
            "\u001b[1m\u001b[95m# Agent:\u001b[00m \u001b[1m\u001b[92mOutput Generator\u001b[00m\n",
            "\u001b[95m## Final Answer:\u001b[00m \u001b[92m\n",
            "Hi Sarah Johnson,\n",
            "\n",
            "I’m here to explain the treatment options available for managing atrial fibrillation (a-fib) in a way that’s easy to understand. A-fib is a condition where your heart beats in an irregular and often rapid manner. Here’s what you need to know about how it can be treated:\n",
            "\n",
            "### 1. Catheter Ablation\n",
            "Catheter ablation is a procedure where a thin tube (catheter) is inserted into your heart to destroy the small area of heart tissue that is causing the irregular heartbeat. This treatment is recommended for people who have symptoms of a-fib and haven't had success with medicines that are supposed to help with the heart rhythm. \n",
            "\n",
            "Experts updated their recommendations in 2019 to make sure that the right patients are selected for this procedure. This means that doctors now have clearer guidelines on who should get this treatment for the best results.\n",
            "\n",
            "### 2. Stroke Risk Reduction\n",
            "If you have a-fib, you are at a higher risk of having a stroke. To reduce this risk, doctors often prescribe medications called anticoagulants. These drugs help keep your blood from clotting too much. Depending on your individual risks and health profile, your doctor will help decide which anticoagulant is best for you. Newer anticoagulants have been found to be very effective and are part of the updated recommendations as of 2019.\n",
            "\n",
            "In summary, the main treatment options for atrial fibrillation include:\n",
            "1. **Catheter Ablation** - a procedure to help correct your heart's rhythm.\n",
            "2. **Anticoagulant medication** - to reduce the risk of stroke.\n",
            "\n",
            "### Personalized Treatment Plan Based on Your Preferences\n",
            "\n",
            "Considering your preference for minimally invasive procedures, the following personalized treatment plan could be most suitable for you:\n",
            "\n",
            "1. **Initial Assessment and Medication Management**\n",
            "   - Start with antiarrhythmic medication to manage and reduce the episodes of atrial fibrillation. Medications like Flecainide or Sotalol could be used, but this will depend on what your doctor considers best based on your health profile. This step is crucial to see if medication alone can effectively manage your condition.\n",
            "\n",
            "2. **Monitoring and Follow-up**\n",
            "   - Regular follow-up appointments to monitor the effectiveness of the antiarrhythmic therapy and to check for potential side effects. Adjustments to the medication dosage may be necessary.\n",
            "\n",
            "3. **Anticoagulant Therapy**\n",
            "   - Alongside your antiarrhythmic medication, taking an anticoagulant to reduce the risk of stroke is essential. Medications like Apixaban or Rivaroxaban may be prescribed, considering their effectiveness and ease of use.\n",
            "\n",
            "4. **Evaluation for Catheter Ablation**\n",
            "   - If the antiarrhythmic medications do not provide sufficient relief or if side effects are intolerable, an evaluation for catheter ablation could be the next step. Given your preference for minimally invasive procedures, catheter ablation represents a safe and effective option with lasting benefits for many patients.\n",
            "\n",
            "5. **Lifestyle and Risk Factor Management**\n",
            "   - Incorporating heart-healthy lifestyle changes such as maintaining a balanced diet, regular exercise, and avoiding excessive caffeine or alcohol intake can support overall heart health and potentially reduce the frequency of a-fib episodes.\n",
            "\n",
            "6. **Education and Support**\n",
            "   - Ensuring you have access to educational resources about a-fib and your treatment options, as well as support groups or counseling if needed, to help manage any anxiety or stress related to your condition.\n",
            "\n",
            "I hope this helps you understand your treatment options better. Always be sure to discuss these with your doctor to figure out what’s best for your particular situation.\n",
            "\n",
            "Best,\n",
            "[Your Name]\u001b[00m\n",
            "Final Patient Decision Aid:\n",
            "Hi Sarah Johnson,\n",
            "\n",
            "I’m here to explain the treatment options available for managing atrial fibrillation (a-fib) in a way that’s easy to understand. A-fib is a condition where your heart beats in an irregular and often rapid manner. Here’s what you need to know about how it can be treated:\n",
            "\n",
            "### 1. Catheter Ablation\n",
            "Catheter ablation is a procedure where a thin tube (catheter) is inserted into your heart to destroy the small area of heart tissue that is causing the irregular heartbeat. This treatment is recommended for people who have symptoms of a-fib and haven't had success with medicines that are supposed to help with the heart rhythm. \n",
            "\n",
            "Experts updated their recommendations in 2019 to make sure that the right patients are selected for this procedure. This means that doctors now have clearer guidelines on who should get this treatment for the best results.\n",
            "\n",
            "### 2. Stroke Risk Reduction\n",
            "If you have a-fib, you are at a higher risk of having a stroke. To reduce this risk, doctors often prescribe medications called anticoagulants. These drugs help keep your blood from clotting too much. Depending on your individual risks and health profile, your doctor will help decide which anticoagulant is best for you. Newer anticoagulants have been found to be very effective and are part of the updated recommendations as of 2019.\n",
            "\n",
            "In summary, the main treatment options for atrial fibrillation include:\n",
            "1. **Catheter Ablation** - a procedure to help correct your heart's rhythm.\n",
            "2. **Anticoagulant medication** - to reduce the risk of stroke.\n",
            "\n",
            "### Personalized Treatment Plan Based on Your Preferences\n",
            "\n",
            "Considering your preference for minimally invasive procedures, the following personalized treatment plan could be most suitable for you:\n",
            "\n",
            "1. **Initial Assessment and Medication Management**\n",
            "   - Start with antiarrhythmic medication to manage and reduce the episodes of atrial fibrillation. Medications like Flecainide or Sotalol could be used, but this will depend on what your doctor considers best based on your health profile. This step is crucial to see if medication alone can effectively manage your condition.\n",
            "\n",
            "2. **Monitoring and Follow-up**\n",
            "   - Regular follow-up appointments to monitor the effectiveness of the antiarrhythmic therapy and to check for potential side effects. Adjustments to the medication dosage may be necessary.\n",
            "\n",
            "3. **Anticoagulant Therapy**\n",
            "   - Alongside your antiarrhythmic medication, taking an anticoagulant to reduce the risk of stroke is essential. Medications like Apixaban or Rivaroxaban may be prescribed, considering their effectiveness and ease of use.\n",
            "\n",
            "4. **Evaluation for Catheter Ablation**\n",
            "   - If the antiarrhythmic medications do not provide sufficient relief or if side effects are intolerable, an evaluation for catheter ablation could be the next step. Given your preference for minimally invasive procedures, catheter ablation represents a safe and effective option with lasting benefits for many patients.\n",
            "\n",
            "5. **Lifestyle and Risk Factor Management**\n",
            "   - Incorporating heart-healthy lifestyle changes such as maintaining a balanced diet, regular exercise, and avoiding excessive caffeine or alcohol intake can support overall heart health and potentially reduce the frequency of a-fib episodes.\n",
            "\n",
            "6. **Education and Support**\n",
            "   - Ensuring you have access to educational resources about a-fib and your treatment options, as well as support groups or counseling if needed, to help manage any anxiety or stress related to your condition.\n",
            "\n",
            "I hope this helps you understand your treatment options better. Always be sure to discuss these with your doctor to figure out what’s best for your particular situation.\n",
            "\n",
            "Best,\n",
            "[Your Name]\n"
          ]
        }
      ]
    }
  ]
}