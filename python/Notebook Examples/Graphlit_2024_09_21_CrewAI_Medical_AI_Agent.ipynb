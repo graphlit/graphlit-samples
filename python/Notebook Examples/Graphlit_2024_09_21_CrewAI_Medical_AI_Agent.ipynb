{
  "nbformat": 4,
  "nbformat_minor": 0,
  "metadata": {
    "colab": {
      "provenance": [],
      "authorship_tag": "ABX9TyMTRau+pGNVZ7F4udf5/DZA",
      "include_colab_link": true
    },
    "kernelspec": {
      "name": "python3",
      "display_name": "Python 3"
    },
    "language_info": {
      "name": "python"
    }
  },
  "cells": [
    {
      "cell_type": "markdown",
      "metadata": {
        "id": "view-in-github",
        "colab_type": "text"
      },
      "source": [
        "<a href=\"https://colab.research.google.com/github/graphlit/graphlit-samples/blob/main/python/Notebook%20Examples/Graphlit_2024_09_21_CrewAI_Medical_AI_Agent.ipynb\" target=\"_parent\"><img src=\"https://colab.research.google.com/assets/colab-badge.svg\" alt=\"Open In Colab\"/></a>"
      ]
    },
    {
      "cell_type": "markdown",
      "source": [
        "**Description**\n",
        "\n",
        "This example shows how to use Graphlit with CrewAI. Based on this [great blog post](https://farzzy.hashnode.dev/building-healthcare-ai-agent-medical-guidelines) and [notebook](https://farzzy.hashnode.dev/building-healthcare-ai-agent-medical-guidelines) written by Farzad Sunavala, we emulate Farzad's workflow and show how to use Graphlit instead of LlamaIndex, while already leveraging Azure AI Search under the hood."
      ],
      "metadata": {
        "id": "gvxWpDjVamY1"
      }
    },
    {
      "cell_type": "markdown",
      "source": [
        "**Requirements**\n",
        "\n",
        "Prior to running this notebook, you will need to [signup](https://docs.graphlit.dev/getting-started/signup) for Graphlit, and [create a project](https://docs.graphlit.dev/getting-started/create-project).\n",
        "\n",
        "You will need the Graphlit organization ID, preview environment ID and JWT secret from your created project.\n",
        "\n",
        "Assign these properties as Colab secrets: GRAPHLIT_ORGANIZATION_ID, GRAPHLIT_ENVIRONMENT_ID and GRAPHLIT_JWT_SECRET.\n",
        "\n",
        "For CrewAI, you will need your OpenAI API key.\n",
        "\n",
        "Assign this property as Colab secret: OPENAI_API_KEY\n",
        "\n",
        "---"
      ],
      "metadata": {
        "id": "6fUPAkNqaNic"
      }
    },
    {
      "cell_type": "code",
      "source": [
        "!pip install --upgrade crewai"
      ],
      "metadata": {
        "id": "mtOGlxwGfjMJ",
        "colab": {
          "base_uri": "https://localhost:8080/"
        },
        "outputId": "3d1c29b2-3e04-418b-9523-7ac0845e4d1c"
      },
      "execution_count": 1,
      "outputs": [
        {
          "output_type": "stream",
          "name": "stdout",
          "text": [
            "Collecting crewai\n",
            "  Downloading crewai-0.86.0-py3-none-any.whl.metadata (19 kB)\n",
            "Collecting appdirs>=1.4.4 (from crewai)\n",
            "  Downloading appdirs-1.4.4-py2.py3-none-any.whl.metadata (9.0 kB)\n",
            "Collecting auth0-python>=4.7.1 (from crewai)\n",
            "  Downloading auth0_python-4.7.2-py3-none-any.whl.metadata (8.9 kB)\n",
            "Collecting chromadb>=0.5.18 (from crewai)\n",
            "  Downloading chromadb-0.5.23-py3-none-any.whl.metadata (6.8 kB)\n",
            "Requirement already satisfied: click>=8.1.7 in /usr/local/lib/python3.10/dist-packages (from crewai) (8.1.7)\n",
            "Collecting crewai-tools>=0.17.0 (from crewai)\n",
            "  Downloading crewai_tools-0.17.0-py3-none-any.whl.metadata (4.9 kB)\n",
            "Collecting instructor>=1.3.3 (from crewai)\n",
            "  Downloading instructor-1.7.0-py3-none-any.whl.metadata (17 kB)\n",
            "Collecting json-repair>=0.25.2 (from crewai)\n",
            "  Downloading json_repair-0.30.3-py3-none-any.whl.metadata (11 kB)\n",
            "Collecting jsonref>=1.1.0 (from crewai)\n",
            "  Downloading jsonref-1.1.0-py3-none-any.whl.metadata (2.7 kB)\n",
            "Collecting litellm>=1.44.22 (from crewai)\n",
            "  Downloading litellm-1.54.1-py3-none-any.whl.metadata (33 kB)\n",
            "Requirement already satisfied: openai>=1.13.3 in /usr/local/lib/python3.10/dist-packages (from crewai) (1.54.5)\n",
            "Requirement already satisfied: openpyxl>=3.1.5 in /usr/local/lib/python3.10/dist-packages (from crewai) (3.1.5)\n",
            "Requirement already satisfied: opentelemetry-api>=1.22.0 in /usr/local/lib/python3.10/dist-packages (from crewai) (1.28.2)\n",
            "Collecting opentelemetry-exporter-otlp-proto-http>=1.22.0 (from crewai)\n",
            "  Downloading opentelemetry_exporter_otlp_proto_http-1.28.2-py3-none-any.whl.metadata (2.2 kB)\n",
            "Requirement already satisfied: opentelemetry-sdk>=1.22.0 in /usr/local/lib/python3.10/dist-packages (from crewai) (1.28.2)\n",
            "Collecting pdfplumber>=0.11.4 (from crewai)\n",
            "  Downloading pdfplumber-0.11.4-py3-none-any.whl.metadata (41 kB)\n",
            "\u001b[2K     \u001b[90m━━━━━━━━━━━━━━━━━━━━━━━━━━━━━━━━━━━━━━━━\u001b[0m \u001b[32m42.0/42.0 kB\u001b[0m \u001b[31m2.2 MB/s\u001b[0m eta \u001b[36m0:00:00\u001b[0m\n",
            "\u001b[?25hRequirement already satisfied: pydantic>=2.4.2 in /usr/local/lib/python3.10/dist-packages (from crewai) (2.10.3)\n",
            "Collecting python-dotenv>=1.0.0 (from crewai)\n",
            "  Downloading python_dotenv-1.0.1-py3-none-any.whl.metadata (23 kB)\n",
            "Collecting pyvis>=0.3.2 (from crewai)\n",
            "  Downloading pyvis-0.3.2-py3-none-any.whl.metadata (1.7 kB)\n",
            "Requirement already satisfied: regex>=2024.9.11 in /usr/local/lib/python3.10/dist-packages (from crewai) (2024.9.11)\n",
            "Collecting tomli-w>=1.1.0 (from crewai)\n",
            "  Downloading tomli_w-1.1.0-py3-none-any.whl.metadata (5.7 kB)\n",
            "Requirement already satisfied: tomli>=2.0.2 in /usr/local/lib/python3.10/dist-packages (from crewai) (2.2.1)\n",
            "Collecting uv>=0.4.25 (from crewai)\n",
            "  Downloading uv-0.5.7-py3-none-manylinux_2_17_x86_64.manylinux2014_x86_64.whl.metadata (11 kB)\n",
            "Requirement already satisfied: aiohttp<4.0.0,>=3.8.5 in /usr/local/lib/python3.10/dist-packages (from auth0-python>=4.7.1->crewai) (3.11.9)\n",
            "Requirement already satisfied: cryptography<44.0.0,>=43.0.1 in /usr/local/lib/python3.10/dist-packages (from auth0-python>=4.7.1->crewai) (43.0.3)\n",
            "Requirement already satisfied: pyjwt<3.0.0,>=2.8.0 in /usr/local/lib/python3.10/dist-packages (from auth0-python>=4.7.1->crewai) (2.10.1)\n",
            "Requirement already satisfied: requests<3.0.0,>=2.31.0 in /usr/local/lib/python3.10/dist-packages (from auth0-python>=4.7.1->crewai) (2.32.3)\n",
            "Requirement already satisfied: urllib3<3.0.0,>=2.0.7 in /usr/local/lib/python3.10/dist-packages (from auth0-python>=4.7.1->crewai) (2.2.3)\n",
            "Collecting build>=1.0.3 (from chromadb>=0.5.18->crewai)\n",
            "  Downloading build-1.2.2.post1-py3-none-any.whl.metadata (6.5 kB)\n",
            "Collecting chroma-hnswlib==0.7.6 (from chromadb>=0.5.18->crewai)\n",
            "  Downloading chroma_hnswlib-0.7.6-cp310-cp310-manylinux_2_17_x86_64.manylinux2014_x86_64.whl.metadata (252 bytes)\n",
            "Collecting fastapi>=0.95.2 (from chromadb>=0.5.18->crewai)\n",
            "  Downloading fastapi-0.115.6-py3-none-any.whl.metadata (27 kB)\n",
            "Collecting uvicorn>=0.18.3 (from uvicorn[standard]>=0.18.3->chromadb>=0.5.18->crewai)\n",
            "  Downloading uvicorn-0.32.1-py3-none-any.whl.metadata (6.6 kB)\n",
            "Requirement already satisfied: numpy>=1.22.5 in /usr/local/lib/python3.10/dist-packages (from chromadb>=0.5.18->crewai) (1.26.4)\n",
            "Collecting posthog>=2.4.0 (from chromadb>=0.5.18->crewai)\n",
            "  Downloading posthog-3.7.4-py2.py3-none-any.whl.metadata (2.0 kB)\n",
            "Requirement already satisfied: typing_extensions>=4.5.0 in /usr/local/lib/python3.10/dist-packages (from chromadb>=0.5.18->crewai) (4.12.2)\n",
            "Collecting onnxruntime>=1.14.1 (from chromadb>=0.5.18->crewai)\n",
            "  Downloading onnxruntime-1.20.1-cp310-cp310-manylinux_2_27_x86_64.manylinux_2_28_x86_64.whl.metadata (4.5 kB)\n",
            "Collecting opentelemetry-exporter-otlp-proto-grpc>=1.2.0 (from chromadb>=0.5.18->crewai)\n",
            "  Downloading opentelemetry_exporter_otlp_proto_grpc-1.28.2-py3-none-any.whl.metadata (2.2 kB)\n",
            "Collecting opentelemetry-instrumentation-fastapi>=0.41b0 (from chromadb>=0.5.18->crewai)\n",
            "  Downloading opentelemetry_instrumentation_fastapi-0.49b2-py3-none-any.whl.metadata (2.1 kB)\n",
            "Requirement already satisfied: tokenizers<=0.20.3,>=0.13.2 in /usr/local/lib/python3.10/dist-packages (from chromadb>=0.5.18->crewai) (0.20.3)\n",
            "Collecting pypika>=0.48.9 (from chromadb>=0.5.18->crewai)\n",
            "  Downloading PyPika-0.48.9.tar.gz (67 kB)\n",
            "\u001b[2K     \u001b[90m━━━━━━━━━━━━━━━━━━━━━━━━━━━━━━━━━━━━━━━━\u001b[0m \u001b[32m67.3/67.3 kB\u001b[0m \u001b[31m3.7 MB/s\u001b[0m eta \u001b[36m0:00:00\u001b[0m\n",
            "\u001b[?25h  Installing build dependencies ... \u001b[?25l\u001b[?25hdone\n",
            "  Getting requirements to build wheel ... \u001b[?25l\u001b[?25hdone\n",
            "  Preparing metadata (pyproject.toml) ... \u001b[?25l\u001b[?25hdone\n",
            "Requirement already satisfied: tqdm>=4.65.0 in /usr/local/lib/python3.10/dist-packages (from chromadb>=0.5.18->crewai) (4.66.6)\n",
            "Collecting overrides>=7.3.1 (from chromadb>=0.5.18->crewai)\n",
            "  Downloading overrides-7.7.0-py3-none-any.whl.metadata (5.8 kB)\n",
            "Requirement already satisfied: importlib-resources in /usr/local/lib/python3.10/dist-packages (from chromadb>=0.5.18->crewai) (6.4.5)\n",
            "Requirement already satisfied: grpcio>=1.58.0 in /usr/local/lib/python3.10/dist-packages (from chromadb>=0.5.18->crewai) (1.68.1)\n",
            "Collecting bcrypt>=4.0.1 (from chromadb>=0.5.18->crewai)\n",
            "  Downloading bcrypt-4.2.1-cp39-abi3-manylinux_2_28_x86_64.whl.metadata (9.8 kB)\n",
            "Requirement already satisfied: typer>=0.9.0 in /usr/local/lib/python3.10/dist-packages (from chromadb>=0.5.18->crewai) (0.15.0)\n",
            "Collecting kubernetes>=28.1.0 (from chromadb>=0.5.18->crewai)\n",
            "  Downloading kubernetes-31.0.0-py2.py3-none-any.whl.metadata (1.5 kB)\n",
            "Requirement already satisfied: tenacity>=8.2.3 in /usr/local/lib/python3.10/dist-packages (from chromadb>=0.5.18->crewai) (9.0.0)\n",
            "Requirement already satisfied: PyYAML>=6.0.0 in /usr/local/lib/python3.10/dist-packages (from chromadb>=0.5.18->crewai) (6.0.2)\n",
            "Collecting mmh3>=4.0.1 (from chromadb>=0.5.18->crewai)\n",
            "  Downloading mmh3-5.0.1-cp310-cp310-manylinux_2_5_x86_64.manylinux1_x86_64.manylinux_2_17_x86_64.manylinux2014_x86_64.whl.metadata (14 kB)\n",
            "Requirement already satisfied: orjson>=3.9.12 in /usr/local/lib/python3.10/dist-packages (from chromadb>=0.5.18->crewai) (3.10.12)\n",
            "Requirement already satisfied: httpx>=0.27.0 in /usr/local/lib/python3.10/dist-packages (from chromadb>=0.5.18->crewai) (0.28.0)\n",
            "Requirement already satisfied: rich>=10.11.0 in /usr/local/lib/python3.10/dist-packages (from chromadb>=0.5.18->crewai) (13.9.4)\n",
            "Requirement already satisfied: beautifulsoup4>=4.12.3 in /usr/local/lib/python3.10/dist-packages (from crewai-tools>=0.17.0->crewai) (4.12.3)\n",
            "Collecting docker>=7.1.0 (from crewai-tools>=0.17.0->crewai)\n",
            "  Downloading docker-7.1.0-py3-none-any.whl.metadata (3.8 kB)\n",
            "Collecting docx2txt>=0.8 (from crewai-tools>=0.17.0->crewai)\n",
            "  Downloading docx2txt-0.8.tar.gz (2.8 kB)\n",
            "  Preparing metadata (setup.py) ... \u001b[?25l\u001b[?25hdone\n",
            "Collecting embedchain>=0.1.114 (from crewai-tools>=0.17.0->crewai)\n",
            "  Downloading embedchain-0.1.125-py3-none-any.whl.metadata (9.3 kB)\n",
            "Collecting lancedb>=0.5.4 (from crewai-tools>=0.17.0->crewai)\n",
            "  Downloading lancedb-0.17.0-cp39-abi3-manylinux_2_28_x86_64.whl.metadata (4.7 kB)\n",
            "Collecting pyright>=1.1.350 (from crewai-tools>=0.17.0->crewai)\n",
            "  Downloading pyright-1.1.390-py3-none-any.whl.metadata (6.7 kB)\n",
            "Requirement already satisfied: pytest>=8.0.0 in /usr/local/lib/python3.10/dist-packages (from crewai-tools>=0.17.0->crewai) (8.3.4)\n",
            "Collecting pytube>=15.0.0 (from crewai-tools>=0.17.0->crewai)\n",
            "  Downloading pytube-15.0.0-py3-none-any.whl.metadata (5.0 kB)\n",
            "Collecting selenium>=4.18.1 (from crewai-tools>=0.17.0->crewai)\n",
            "  Downloading selenium-4.27.1-py3-none-any.whl.metadata (7.1 kB)\n",
            "Requirement already satisfied: docstring-parser<0.17,>=0.16 in /usr/local/lib/python3.10/dist-packages (from instructor>=1.3.3->crewai) (0.16)\n",
            "Requirement already satisfied: jinja2<4.0.0,>=3.1.4 in /usr/local/lib/python3.10/dist-packages (from instructor>=1.3.3->crewai) (3.1.4)\n",
            "Collecting jiter<0.7,>=0.6.1 (from instructor>=1.3.3->crewai)\n",
            "  Downloading jiter-0.6.1-cp310-cp310-manylinux_2_17_x86_64.manylinux2014_x86_64.whl.metadata (5.2 kB)\n",
            "Requirement already satisfied: pydantic-core<3.0.0,>=2.18.0 in /usr/local/lib/python3.10/dist-packages (from instructor>=1.3.3->crewai) (2.27.1)\n",
            "Collecting httpx>=0.27.0 (from chromadb>=0.5.18->crewai)\n",
            "  Downloading httpx-0.27.2-py3-none-any.whl.metadata (7.1 kB)\n",
            "Requirement already satisfied: importlib-metadata>=6.8.0 in /usr/local/lib/python3.10/dist-packages (from litellm>=1.44.22->crewai) (8.5.0)\n",
            "Requirement already satisfied: jsonschema<5.0.0,>=4.22.0 in /usr/local/lib/python3.10/dist-packages (from litellm>=1.44.22->crewai) (4.23.0)\n",
            "Collecting openai>=1.13.3 (from crewai)\n",
            "  Downloading openai-1.57.2-py3-none-any.whl.metadata (24 kB)\n",
            "Collecting tiktoken>=0.7.0 (from litellm>=1.44.22->crewai)\n",
            "  Downloading tiktoken-0.8.0-cp310-cp310-manylinux_2_17_x86_64.manylinux2014_x86_64.whl.metadata (6.6 kB)\n",
            "Requirement already satisfied: anyio<5,>=3.5.0 in /usr/local/lib/python3.10/dist-packages (from openai>=1.13.3->crewai) (3.7.1)\n",
            "Requirement already satisfied: distro<2,>=1.7.0 in /usr/local/lib/python3.10/dist-packages (from openai>=1.13.3->crewai) (1.9.0)\n",
            "Requirement already satisfied: sniffio in /usr/local/lib/python3.10/dist-packages (from openai>=1.13.3->crewai) (1.3.1)\n",
            "Requirement already satisfied: et-xmlfile in /usr/local/lib/python3.10/dist-packages (from openpyxl>=3.1.5->crewai) (2.0.0)\n",
            "Requirement already satisfied: deprecated>=1.2.6 in /usr/local/lib/python3.10/dist-packages (from opentelemetry-api>=1.22.0->crewai) (1.2.15)\n",
            "Requirement already satisfied: googleapis-common-protos~=1.52 in /usr/local/lib/python3.10/dist-packages (from opentelemetry-exporter-otlp-proto-http>=1.22.0->crewai) (1.66.0)\n",
            "Collecting opentelemetry-exporter-otlp-proto-common==1.28.2 (from opentelemetry-exporter-otlp-proto-http>=1.22.0->crewai)\n",
            "  Downloading opentelemetry_exporter_otlp_proto_common-1.28.2-py3-none-any.whl.metadata (1.8 kB)\n",
            "Collecting opentelemetry-proto==1.28.2 (from opentelemetry-exporter-otlp-proto-http>=1.22.0->crewai)\n",
            "  Downloading opentelemetry_proto-1.28.2-py3-none-any.whl.metadata (2.3 kB)\n",
            "Collecting protobuf<6.0,>=5.0 (from opentelemetry-proto==1.28.2->opentelemetry-exporter-otlp-proto-http>=1.22.0->crewai)\n",
            "  Downloading protobuf-5.29.1-cp38-abi3-manylinux2014_x86_64.whl.metadata (592 bytes)\n",
            "Requirement already satisfied: opentelemetry-semantic-conventions==0.49b2 in /usr/local/lib/python3.10/dist-packages (from opentelemetry-sdk>=1.22.0->crewai) (0.49b2)\n",
            "Collecting pdfminer.six==20231228 (from pdfplumber>=0.11.4->crewai)\n",
            "  Downloading pdfminer.six-20231228-py3-none-any.whl.metadata (4.2 kB)\n",
            "Requirement already satisfied: Pillow>=9.1 in /usr/local/lib/python3.10/dist-packages (from pdfplumber>=0.11.4->crewai) (11.0.0)\n",
            "Collecting pypdfium2>=4.18.0 (from pdfplumber>=0.11.4->crewai)\n",
            "  Downloading pypdfium2-4.30.0-py3-none-manylinux_2_17_x86_64.manylinux2014_x86_64.whl.metadata (48 kB)\n",
            "\u001b[2K     \u001b[90m━━━━━━━━━━━━━━━━━━━━━━━━━━━━━━━━━━━━━━━━\u001b[0m \u001b[32m48.5/48.5 kB\u001b[0m \u001b[31m2.7 MB/s\u001b[0m eta \u001b[36m0:00:00\u001b[0m\n",
            "\u001b[?25hRequirement already satisfied: charset-normalizer>=2.0.0 in /usr/local/lib/python3.10/dist-packages (from pdfminer.six==20231228->pdfplumber>=0.11.4->crewai) (3.4.0)\n",
            "Requirement already satisfied: annotated-types>=0.6.0 in /usr/local/lib/python3.10/dist-packages (from pydantic>=2.4.2->crewai) (0.7.0)\n",
            "Requirement already satisfied: ipython>=5.3.0 in /usr/local/lib/python3.10/dist-packages (from pyvis>=0.3.2->crewai) (7.34.0)\n",
            "Requirement already satisfied: jsonpickle>=1.4.1 in /usr/local/lib/python3.10/dist-packages (from pyvis>=0.3.2->crewai) (4.0.0)\n",
            "Requirement already satisfied: networkx>=1.11 in /usr/local/lib/python3.10/dist-packages (from pyvis>=0.3.2->crewai) (3.4.2)\n",
            "Requirement already satisfied: aiohappyeyeballs>=2.3.0 in /usr/local/lib/python3.10/dist-packages (from aiohttp<4.0.0,>=3.8.5->auth0-python>=4.7.1->crewai) (2.4.4)\n",
            "Requirement already satisfied: aiosignal>=1.1.2 in /usr/local/lib/python3.10/dist-packages (from aiohttp<4.0.0,>=3.8.5->auth0-python>=4.7.1->crewai) (1.3.1)\n",
            "Requirement already satisfied: async-timeout<6.0,>=4.0 in /usr/local/lib/python3.10/dist-packages (from aiohttp<4.0.0,>=3.8.5->auth0-python>=4.7.1->crewai) (4.0.3)\n",
            "Requirement already satisfied: attrs>=17.3.0 in /usr/local/lib/python3.10/dist-packages (from aiohttp<4.0.0,>=3.8.5->auth0-python>=4.7.1->crewai) (24.2.0)\n",
            "Requirement already satisfied: frozenlist>=1.1.1 in /usr/local/lib/python3.10/dist-packages (from aiohttp<4.0.0,>=3.8.5->auth0-python>=4.7.1->crewai) (1.5.0)\n",
            "Requirement already satisfied: multidict<7.0,>=4.5 in /usr/local/lib/python3.10/dist-packages (from aiohttp<4.0.0,>=3.8.5->auth0-python>=4.7.1->crewai) (6.1.0)\n",
            "Requirement already satisfied: propcache>=0.2.0 in /usr/local/lib/python3.10/dist-packages (from aiohttp<4.0.0,>=3.8.5->auth0-python>=4.7.1->crewai) (0.2.1)\n",
            "Requirement already satisfied: yarl<2.0,>=1.17.0 in /usr/local/lib/python3.10/dist-packages (from aiohttp<4.0.0,>=3.8.5->auth0-python>=4.7.1->crewai) (1.18.3)\n",
            "Requirement already satisfied: idna>=2.8 in /usr/local/lib/python3.10/dist-packages (from anyio<5,>=3.5.0->openai>=1.13.3->crewai) (3.10)\n",
            "Requirement already satisfied: exceptiongroup in /usr/local/lib/python3.10/dist-packages (from anyio<5,>=3.5.0->openai>=1.13.3->crewai) (1.2.2)\n",
            "Requirement already satisfied: soupsieve>1.2 in /usr/local/lib/python3.10/dist-packages (from beautifulsoup4>=4.12.3->crewai-tools>=0.17.0->crewai) (2.6)\n",
            "Requirement already satisfied: packaging>=19.1 in /usr/local/lib/python3.10/dist-packages (from build>=1.0.3->chromadb>=0.5.18->crewai) (24.2)\n",
            "Collecting pyproject_hooks (from build>=1.0.3->chromadb>=0.5.18->crewai)\n",
            "  Downloading pyproject_hooks-1.2.0-py3-none-any.whl.metadata (1.3 kB)\n",
            "Requirement already satisfied: cffi>=1.12 in /usr/local/lib/python3.10/dist-packages (from cryptography<44.0.0,>=43.0.1->auth0-python>=4.7.1->crewai) (1.17.1)\n",
            "Requirement already satisfied: wrapt<2,>=1.10 in /usr/local/lib/python3.10/dist-packages (from deprecated>=1.2.6->opentelemetry-api>=1.22.0->crewai) (1.17.0)\n",
            "Collecting alembic<2.0.0,>=1.13.1 (from embedchain>=0.1.114->crewai-tools>=0.17.0->crewai)\n",
            "  Downloading alembic-1.14.0-py3-none-any.whl.metadata (7.4 kB)\n",
            "Collecting cohere<6.0,>=5.3 (from embedchain>=0.1.114->crewai-tools>=0.17.0->crewai)\n",
            "  Downloading cohere-5.13.3-py3-none-any.whl.metadata (3.5 kB)\n",
            "Requirement already satisfied: google-cloud-aiplatform<2.0.0,>=1.26.1 in /usr/local/lib/python3.10/dist-packages (from embedchain>=0.1.114->crewai-tools>=0.17.0->crewai) (1.73.0)\n",
            "Collecting gptcache<0.2.0,>=0.1.43 (from embedchain>=0.1.114->crewai-tools>=0.17.0->crewai)\n",
            "  Downloading gptcache-0.1.44-py3-none-any.whl.metadata (24 kB)\n",
            "Requirement already satisfied: langchain<0.4.0,>=0.3.1 in /usr/local/lib/python3.10/dist-packages (from embedchain>=0.1.114->crewai-tools>=0.17.0->crewai) (0.3.9)\n",
            "Collecting langchain-cohere<0.4.0,>=0.3.0 (from embedchain>=0.1.114->crewai-tools>=0.17.0->crewai)\n",
            "  Downloading langchain_cohere-0.3.3-py3-none-any.whl.metadata (6.7 kB)\n",
            "Collecting langchain-community<0.4.0,>=0.3.1 (from embedchain>=0.1.114->crewai-tools>=0.17.0->crewai)\n",
            "  Downloading langchain_community-0.3.11-py3-none-any.whl.metadata (2.9 kB)\n",
            "Collecting langchain-openai<0.3.0,>=0.2.1 (from embedchain>=0.1.114->crewai-tools>=0.17.0->crewai)\n",
            "  Downloading langchain_openai-0.2.12-py3-none-any.whl.metadata (2.7 kB)\n",
            "Requirement already satisfied: langsmith<0.2.0,>=0.1.17 in /usr/local/lib/python3.10/dist-packages (from embedchain>=0.1.114->crewai-tools>=0.17.0->crewai) (0.1.147)\n",
            "Collecting mem0ai<0.2.0,>=0.1.29 (from embedchain>=0.1.114->crewai-tools>=0.17.0->crewai)\n",
            "  Downloading mem0ai-0.1.34-py3-none-any.whl.metadata (10 kB)\n",
            "Collecting pypdf<6.0.0,>=5.0.0 (from embedchain>=0.1.114->crewai-tools>=0.17.0->crewai)\n",
            "  Downloading pypdf-5.1.0-py3-none-any.whl.metadata (7.2 kB)\n",
            "Collecting pysbd<0.4.0,>=0.3.4 (from embedchain>=0.1.114->crewai-tools>=0.17.0->crewai)\n",
            "  Downloading pysbd-0.3.4-py3-none-any.whl.metadata (6.1 kB)\n",
            "Collecting schema<0.8.0,>=0.7.5 (from embedchain>=0.1.114->crewai-tools>=0.17.0->crewai)\n",
            "  Downloading schema-0.7.7-py2.py3-none-any.whl.metadata (34 kB)\n",
            "Requirement already satisfied: sqlalchemy<3.0.0,>=2.0.27 in /usr/local/lib/python3.10/dist-packages (from embedchain>=0.1.114->crewai-tools>=0.17.0->crewai) (2.0.36)\n",
            "Collecting tiktoken>=0.7.0 (from litellm>=1.44.22->crewai)\n",
            "  Downloading tiktoken-0.7.0-cp310-cp310-manylinux_2_17_x86_64.manylinux2014_x86_64.whl.metadata (6.6 kB)\n",
            "Collecting starlette<0.42.0,>=0.40.0 (from fastapi>=0.95.2->chromadb>=0.5.18->crewai)\n",
            "  Downloading starlette-0.41.3-py3-none-any.whl.metadata (6.0 kB)\n",
            "Requirement already satisfied: certifi in /usr/local/lib/python3.10/dist-packages (from httpx>=0.27.0->chromadb>=0.5.18->crewai) (2024.8.30)\n",
            "Requirement already satisfied: httpcore==1.* in /usr/local/lib/python3.10/dist-packages (from httpx>=0.27.0->chromadb>=0.5.18->crewai) (1.0.7)\n",
            "Requirement already satisfied: h11<0.15,>=0.13 in /usr/local/lib/python3.10/dist-packages (from httpcore==1.*->httpx>=0.27.0->chromadb>=0.5.18->crewai) (0.14.0)\n",
            "Requirement already satisfied: zipp>=3.20 in /usr/local/lib/python3.10/dist-packages (from importlib-metadata>=6.8.0->litellm>=1.44.22->crewai) (3.21.0)\n",
            "Requirement already satisfied: setuptools>=18.5 in /usr/local/lib/python3.10/dist-packages (from ipython>=5.3.0->pyvis>=0.3.2->crewai) (75.1.0)\n",
            "Collecting jedi>=0.16 (from ipython>=5.3.0->pyvis>=0.3.2->crewai)\n",
            "  Downloading jedi-0.19.2-py2.py3-none-any.whl.metadata (22 kB)\n",
            "Requirement already satisfied: decorator in /usr/local/lib/python3.10/dist-packages (from ipython>=5.3.0->pyvis>=0.3.2->crewai) (4.4.2)\n",
            "Requirement already satisfied: pickleshare in /usr/local/lib/python3.10/dist-packages (from ipython>=5.3.0->pyvis>=0.3.2->crewai) (0.7.5)\n",
            "Requirement already satisfied: traitlets>=4.2 in /usr/local/lib/python3.10/dist-packages (from ipython>=5.3.0->pyvis>=0.3.2->crewai) (5.7.1)\n",
            "Requirement already satisfied: prompt-toolkit!=3.0.0,!=3.0.1,<3.1.0,>=2.0.0 in /usr/local/lib/python3.10/dist-packages (from ipython>=5.3.0->pyvis>=0.3.2->crewai) (3.0.48)\n",
            "Requirement already satisfied: pygments in /usr/local/lib/python3.10/dist-packages (from ipython>=5.3.0->pyvis>=0.3.2->crewai) (2.18.0)\n",
            "Requirement already satisfied: backcall in /usr/local/lib/python3.10/dist-packages (from ipython>=5.3.0->pyvis>=0.3.2->crewai) (0.2.0)\n",
            "Requirement already satisfied: matplotlib-inline in /usr/local/lib/python3.10/dist-packages (from ipython>=5.3.0->pyvis>=0.3.2->crewai) (0.1.7)\n",
            "Requirement already satisfied: pexpect>4.3 in /usr/local/lib/python3.10/dist-packages (from ipython>=5.3.0->pyvis>=0.3.2->crewai) (4.9.0)\n",
            "Requirement already satisfied: MarkupSafe>=2.0 in /usr/local/lib/python3.10/dist-packages (from jinja2<4.0.0,>=3.1.4->instructor>=1.3.3->crewai) (3.0.2)\n",
            "Requirement already satisfied: jsonschema-specifications>=2023.03.6 in /usr/local/lib/python3.10/dist-packages (from jsonschema<5.0.0,>=4.22.0->litellm>=1.44.22->crewai) (2024.10.1)\n",
            "Requirement already satisfied: referencing>=0.28.4 in /usr/local/lib/python3.10/dist-packages (from jsonschema<5.0.0,>=4.22.0->litellm>=1.44.22->crewai) (0.35.1)\n",
            "Requirement already satisfied: rpds-py>=0.7.1 in /usr/local/lib/python3.10/dist-packages (from jsonschema<5.0.0,>=4.22.0->litellm>=1.44.22->crewai) (0.22.3)\n",
            "Requirement already satisfied: six>=1.9.0 in /usr/local/lib/python3.10/dist-packages (from kubernetes>=28.1.0->chromadb>=0.5.18->crewai) (1.16.0)\n",
            "Requirement already satisfied: python-dateutil>=2.5.3 in /usr/local/lib/python3.10/dist-packages (from kubernetes>=28.1.0->chromadb>=0.5.18->crewai) (2.8.2)\n",
            "Requirement already satisfied: google-auth>=1.0.1 in /usr/local/lib/python3.10/dist-packages (from kubernetes>=28.1.0->chromadb>=0.5.18->crewai) (2.27.0)\n",
            "Requirement already satisfied: websocket-client!=0.40.0,!=0.41.*,!=0.42.*,>=0.32.0 in /usr/local/lib/python3.10/dist-packages (from kubernetes>=28.1.0->chromadb>=0.5.18->crewai) (1.8.0)\n",
            "Requirement already satisfied: requests-oauthlib in /usr/local/lib/python3.10/dist-packages (from kubernetes>=28.1.0->chromadb>=0.5.18->crewai) (1.3.1)\n",
            "Requirement already satisfied: oauthlib>=3.2.2 in /usr/local/lib/python3.10/dist-packages (from kubernetes>=28.1.0->chromadb>=0.5.18->crewai) (3.2.2)\n",
            "Collecting durationpy>=0.7 (from kubernetes>=28.1.0->chromadb>=0.5.18->crewai)\n",
            "  Downloading durationpy-0.9-py3-none-any.whl.metadata (338 bytes)\n",
            "Collecting deprecation (from lancedb>=0.5.4->crewai-tools>=0.17.0->crewai)\n",
            "  Downloading deprecation-2.1.0-py2.py3-none-any.whl.metadata (4.6 kB)\n",
            "Collecting pylance==0.20.0 (from lancedb>=0.5.4->crewai-tools>=0.17.0->crewai)\n",
            "  Downloading pylance-0.20.0-cp39-abi3-manylinux_2_28_x86_64.whl.metadata (7.4 kB)\n",
            "Requirement already satisfied: pyarrow>=14 in /usr/local/lib/python3.10/dist-packages (from pylance==0.20.0->lancedb>=0.5.4->crewai-tools>=0.17.0->crewai) (17.0.0)\n",
            "Collecting coloredlogs (from onnxruntime>=1.14.1->chromadb>=0.5.18->crewai)\n",
            "  Downloading coloredlogs-15.0.1-py2.py3-none-any.whl.metadata (12 kB)\n",
            "Requirement already satisfied: flatbuffers in /usr/local/lib/python3.10/dist-packages (from onnxruntime>=1.14.1->chromadb>=0.5.18->crewai) (24.3.25)\n",
            "Requirement already satisfied: sympy in /usr/local/lib/python3.10/dist-packages (from onnxruntime>=1.14.1->chromadb>=0.5.18->crewai) (1.13.1)\n",
            "Collecting opentelemetry-instrumentation-asgi==0.49b2 (from opentelemetry-instrumentation-fastapi>=0.41b0->chromadb>=0.5.18->crewai)\n",
            "  Downloading opentelemetry_instrumentation_asgi-0.49b2-py3-none-any.whl.metadata (1.9 kB)\n",
            "Collecting opentelemetry-instrumentation==0.49b2 (from opentelemetry-instrumentation-fastapi>=0.41b0->chromadb>=0.5.18->crewai)\n",
            "  Downloading opentelemetry_instrumentation-0.49b2-py3-none-any.whl.metadata (6.1 kB)\n",
            "Collecting opentelemetry-util-http==0.49b2 (from opentelemetry-instrumentation-fastapi>=0.41b0->chromadb>=0.5.18->crewai)\n",
            "  Downloading opentelemetry_util_http-0.49b2-py3-none-any.whl.metadata (2.5 kB)\n",
            "Collecting asgiref~=3.0 (from opentelemetry-instrumentation-asgi==0.49b2->opentelemetry-instrumentation-fastapi>=0.41b0->chromadb>=0.5.18->crewai)\n",
            "  Downloading asgiref-3.8.1-py3-none-any.whl.metadata (9.3 kB)\n",
            "Collecting monotonic>=1.5 (from posthog>=2.4.0->chromadb>=0.5.18->crewai)\n",
            "  Downloading monotonic-1.6-py2.py3-none-any.whl.metadata (1.5 kB)\n",
            "Collecting backoff>=1.10.0 (from posthog>=2.4.0->chromadb>=0.5.18->crewai)\n",
            "  Downloading backoff-2.2.1-py3-none-any.whl.metadata (14 kB)\n",
            "Collecting nodeenv>=1.6.0 (from pyright>=1.1.350->crewai-tools>=0.17.0->crewai)\n",
            "  Downloading nodeenv-1.9.1-py2.py3-none-any.whl.metadata (21 kB)\n",
            "Requirement already satisfied: iniconfig in /usr/local/lib/python3.10/dist-packages (from pytest>=8.0.0->crewai-tools>=0.17.0->crewai) (2.0.0)\n",
            "Requirement already satisfied: pluggy<2,>=1.5 in /usr/local/lib/python3.10/dist-packages (from pytest>=8.0.0->crewai-tools>=0.17.0->crewai) (1.5.0)\n",
            "Requirement already satisfied: markdown-it-py>=2.2.0 in /usr/local/lib/python3.10/dist-packages (from rich>=10.11.0->chromadb>=0.5.18->crewai) (3.0.0)\n",
            "Collecting trio~=0.17 (from selenium>=4.18.1->crewai-tools>=0.17.0->crewai)\n",
            "  Downloading trio-0.27.0-py3-none-any.whl.metadata (8.6 kB)\n",
            "Collecting trio-websocket~=0.9 (from selenium>=4.18.1->crewai-tools>=0.17.0->crewai)\n",
            "  Downloading trio_websocket-0.11.1-py3-none-any.whl.metadata (4.7 kB)\n",
            "Requirement already satisfied: huggingface-hub<1.0,>=0.16.4 in /usr/local/lib/python3.10/dist-packages (from tokenizers<=0.20.3,>=0.13.2->chromadb>=0.5.18->crewai) (0.26.3)\n",
            "Requirement already satisfied: shellingham>=1.3.0 in /usr/local/lib/python3.10/dist-packages (from typer>=0.9.0->chromadb>=0.5.18->crewai) (1.5.4)\n",
            "Collecting httptools>=0.6.3 (from uvicorn[standard]>=0.18.3->chromadb>=0.5.18->crewai)\n",
            "  Downloading httptools-0.6.4-cp310-cp310-manylinux_2_5_x86_64.manylinux1_x86_64.manylinux_2_17_x86_64.manylinux2014_x86_64.whl.metadata (3.6 kB)\n",
            "Collecting uvloop!=0.15.0,!=0.15.1,>=0.14.0 (from uvicorn[standard]>=0.18.3->chromadb>=0.5.18->crewai)\n",
            "  Downloading uvloop-0.21.0-cp310-cp310-manylinux_2_17_x86_64.manylinux2014_x86_64.whl.metadata (4.9 kB)\n",
            "Collecting watchfiles>=0.13 (from uvicorn[standard]>=0.18.3->chromadb>=0.5.18->crewai)\n",
            "  Downloading watchfiles-1.0.3-cp310-cp310-manylinux_2_17_x86_64.manylinux2014_x86_64.whl.metadata (4.9 kB)\n",
            "Collecting websockets>=10.4 (from uvicorn[standard]>=0.18.3->chromadb>=0.5.18->crewai)\n",
            "  Downloading websockets-14.1-cp310-cp310-manylinux_2_5_x86_64.manylinux1_x86_64.manylinux_2_17_x86_64.manylinux2014_x86_64.whl.metadata (6.7 kB)\n",
            "Collecting Mako (from alembic<2.0.0,>=1.13.1->embedchain>=0.1.114->crewai-tools>=0.17.0->crewai)\n",
            "  Downloading Mako-1.3.8-py3-none-any.whl.metadata (2.9 kB)\n",
            "Requirement already satisfied: pycparser in /usr/local/lib/python3.10/dist-packages (from cffi>=1.12->cryptography<44.0.0,>=43.0.1->auth0-python>=4.7.1->crewai) (2.22)\n",
            "Collecting fastavro<2.0.0,>=1.9.4 (from cohere<6.0,>=5.3->embedchain>=0.1.114->crewai-tools>=0.17.0->crewai)\n",
            "  Downloading fastavro-1.9.7-cp310-cp310-manylinux_2_17_x86_64.manylinux2014_x86_64.whl.metadata (5.5 kB)\n",
            "Collecting httpx-sse==0.4.0 (from cohere<6.0,>=5.3->embedchain>=0.1.114->crewai-tools>=0.17.0->crewai)\n",
            "  Downloading httpx_sse-0.4.0-py3-none-any.whl.metadata (9.0 kB)\n",
            "Collecting parameterized<0.10.0,>=0.9.0 (from cohere<6.0,>=5.3->embedchain>=0.1.114->crewai-tools>=0.17.0->crewai)\n",
            "  Downloading parameterized-0.9.0-py2.py3-none-any.whl.metadata (18 kB)\n",
            "Collecting types-requests<3.0.0,>=2.0.0 (from cohere<6.0,>=5.3->embedchain>=0.1.114->crewai-tools>=0.17.0->crewai)\n",
            "  Downloading types_requests-2.32.0.20241016-py3-none-any.whl.metadata (1.9 kB)\n",
            "Requirement already satisfied: cachetools<6.0,>=2.0.0 in /usr/local/lib/python3.10/dist-packages (from google-auth>=1.0.1->kubernetes>=28.1.0->chromadb>=0.5.18->crewai) (5.5.0)\n",
            "Requirement already satisfied: pyasn1-modules>=0.2.1 in /usr/local/lib/python3.10/dist-packages (from google-auth>=1.0.1->kubernetes>=28.1.0->chromadb>=0.5.18->crewai) (0.4.1)\n",
            "Requirement already satisfied: rsa<5,>=3.1.4 in /usr/local/lib/python3.10/dist-packages (from google-auth>=1.0.1->kubernetes>=28.1.0->chromadb>=0.5.18->crewai) (4.9)\n",
            "Requirement already satisfied: google-api-core!=2.0.*,!=2.1.*,!=2.2.*,!=2.3.*,!=2.4.*,!=2.5.*,!=2.6.*,!=2.7.*,<3.0.0dev,>=1.34.1 in /usr/local/lib/python3.10/dist-packages (from google-api-core[grpc]!=2.0.*,!=2.1.*,!=2.2.*,!=2.3.*,!=2.4.*,!=2.5.*,!=2.6.*,!=2.7.*,<3.0.0dev,>=1.34.1->google-cloud-aiplatform<2.0.0,>=1.26.1->embedchain>=0.1.114->crewai-tools>=0.17.0->crewai) (2.19.2)\n",
            "Requirement already satisfied: proto-plus<2.0.0dev,>=1.22.3 in /usr/local/lib/python3.10/dist-packages (from google-cloud-aiplatform<2.0.0,>=1.26.1->embedchain>=0.1.114->crewai-tools>=0.17.0->crewai) (1.25.0)\n",
            "Requirement already satisfied: google-cloud-storage<3.0.0dev,>=1.32.0 in /usr/local/lib/python3.10/dist-packages (from google-cloud-aiplatform<2.0.0,>=1.26.1->embedchain>=0.1.114->crewai-tools>=0.17.0->crewai) (2.8.0)\n",
            "Requirement already satisfied: google-cloud-bigquery!=3.20.0,<4.0.0dev,>=1.15.0 in /usr/local/lib/python3.10/dist-packages (from google-cloud-aiplatform<2.0.0,>=1.26.1->embedchain>=0.1.114->crewai-tools>=0.17.0->crewai) (3.25.0)\n",
            "Requirement already satisfied: google-cloud-resource-manager<3.0.0dev,>=1.3.3 in /usr/local/lib/python3.10/dist-packages (from google-cloud-aiplatform<2.0.0,>=1.26.1->embedchain>=0.1.114->crewai-tools>=0.17.0->crewai) (1.13.1)\n",
            "Requirement already satisfied: shapely<3.0.0dev in /usr/local/lib/python3.10/dist-packages (from google-cloud-aiplatform<2.0.0,>=1.26.1->embedchain>=0.1.114->crewai-tools>=0.17.0->crewai) (2.0.6)\n",
            "Requirement already satisfied: filelock in /usr/local/lib/python3.10/dist-packages (from huggingface-hub<1.0,>=0.16.4->tokenizers<=0.20.3,>=0.13.2->chromadb>=0.5.18->crewai) (3.16.1)\n",
            "Requirement already satisfied: fsspec>=2023.5.0 in /usr/local/lib/python3.10/dist-packages (from huggingface-hub<1.0,>=0.16.4->tokenizers<=0.20.3,>=0.13.2->chromadb>=0.5.18->crewai) (2024.10.0)\n",
            "Requirement already satisfied: parso<0.9.0,>=0.8.4 in /usr/local/lib/python3.10/dist-packages (from jedi>=0.16->ipython>=5.3.0->pyvis>=0.3.2->crewai) (0.8.4)\n",
            "Requirement already satisfied: langchain-core<0.4.0,>=0.3.21 in /usr/local/lib/python3.10/dist-packages (from langchain<0.4.0,>=0.3.1->embedchain>=0.1.114->crewai-tools>=0.17.0->crewai) (0.3.21)\n",
            "Requirement already satisfied: langchain-text-splitters<0.4.0,>=0.3.0 in /usr/local/lib/python3.10/dist-packages (from langchain<0.4.0,>=0.3.1->embedchain>=0.1.114->crewai-tools>=0.17.0->crewai) (0.3.2)\n",
            "Collecting langchain-experimental<0.4.0,>=0.3.0 (from langchain-cohere<0.4.0,>=0.3.0->embedchain>=0.1.114->crewai-tools>=0.17.0->crewai)\n",
            "  Downloading langchain_experimental-0.3.3-py3-none-any.whl.metadata (1.7 kB)\n",
            "Requirement already satisfied: pandas>=1.4.3 in /usr/local/lib/python3.10/dist-packages (from langchain-cohere<0.4.0,>=0.3.0->embedchain>=0.1.114->crewai-tools>=0.17.0->crewai) (2.2.2)\n",
            "Requirement already satisfied: tabulate<0.10.0,>=0.9.0 in /usr/local/lib/python3.10/dist-packages (from langchain-cohere<0.4.0,>=0.3.0->embedchain>=0.1.114->crewai-tools>=0.17.0->crewai) (0.9.0)\n",
            "Collecting dataclasses-json<0.7,>=0.5.7 (from langchain-community<0.4.0,>=0.3.1->embedchain>=0.1.114->crewai-tools>=0.17.0->crewai)\n",
            "  Downloading dataclasses_json-0.6.7-py3-none-any.whl.metadata (25 kB)\n",
            "Collecting langchain<0.4.0,>=0.3.1 (from embedchain>=0.1.114->crewai-tools>=0.17.0->crewai)\n",
            "  Downloading langchain-0.3.11-py3-none-any.whl.metadata (7.1 kB)\n",
            "Collecting langchain-core<0.4.0,>=0.3.21 (from langchain<0.4.0,>=0.3.1->embedchain>=0.1.114->crewai-tools>=0.17.0->crewai)\n",
            "  Downloading langchain_core-0.3.24-py3-none-any.whl.metadata (6.3 kB)\n",
            "Collecting pydantic-settings<3.0.0,>=2.4.0 (from langchain-community<0.4.0,>=0.3.1->embedchain>=0.1.114->crewai-tools>=0.17.0->crewai)\n",
            "  Downloading pydantic_settings-2.6.1-py3-none-any.whl.metadata (3.5 kB)\n",
            "Requirement already satisfied: requests-toolbelt<2.0.0,>=1.0.0 in /usr/local/lib/python3.10/dist-packages (from langsmith<0.2.0,>=0.1.17->embedchain>=0.1.114->crewai-tools>=0.17.0->crewai) (1.0.0)\n",
            "Requirement already satisfied: mdurl~=0.1 in /usr/local/lib/python3.10/dist-packages (from markdown-it-py>=2.2.0->rich>=10.11.0->chromadb>=0.5.18->crewai) (0.1.2)\n",
            "Requirement already satisfied: pytz<2025.0,>=2024.1 in /usr/local/lib/python3.10/dist-packages (from mem0ai<0.2.0,>=0.1.29->embedchain>=0.1.114->crewai-tools>=0.17.0->crewai) (2024.2)\n",
            "Collecting qdrant-client<2.0.0,>=1.9.1 (from mem0ai<0.2.0,>=0.1.29->embedchain>=0.1.114->crewai-tools>=0.17.0->crewai)\n",
            "  Downloading qdrant_client-1.12.1-py3-none-any.whl.metadata (10 kB)\n",
            "Requirement already satisfied: ptyprocess>=0.5 in /usr/local/lib/python3.10/dist-packages (from pexpect>4.3->ipython>=5.3.0->pyvis>=0.3.2->crewai) (0.7.0)\n",
            "Requirement already satisfied: wcwidth in /usr/local/lib/python3.10/dist-packages (from prompt-toolkit!=3.0.0,!=3.0.1,<3.1.0,>=2.0.0->ipython>=5.3.0->pyvis>=0.3.2->crewai) (0.2.13)\n",
            "Requirement already satisfied: greenlet!=0.4.17 in /usr/local/lib/python3.10/dist-packages (from sqlalchemy<3.0.0,>=2.0.27->embedchain>=0.1.114->crewai-tools>=0.17.0->crewai) (3.1.1)\n",
            "Collecting sortedcontainers (from trio~=0.17->selenium>=4.18.1->crewai-tools>=0.17.0->crewai)\n",
            "  Downloading sortedcontainers-2.4.0-py2.py3-none-any.whl.metadata (10 kB)\n",
            "Collecting outcome (from trio~=0.17->selenium>=4.18.1->crewai-tools>=0.17.0->crewai)\n",
            "  Downloading outcome-1.3.0.post0-py2.py3-none-any.whl.metadata (2.6 kB)\n",
            "Collecting wsproto>=0.14 (from trio-websocket~=0.9->selenium>=4.18.1->crewai-tools>=0.17.0->crewai)\n",
            "  Downloading wsproto-1.2.0-py3-none-any.whl.metadata (5.6 kB)\n",
            "Requirement already satisfied: pysocks!=1.5.7,<2.0,>=1.5.6 in /usr/local/lib/python3.10/dist-packages (from urllib3[socks]<3,>=1.26->selenium>=4.18.1->crewai-tools>=0.17.0->crewai) (1.7.1)\n",
            "Collecting humanfriendly>=9.1 (from coloredlogs->onnxruntime>=1.14.1->chromadb>=0.5.18->crewai)\n",
            "  Downloading humanfriendly-10.0-py2.py3-none-any.whl.metadata (9.2 kB)\n",
            "Requirement already satisfied: mpmath<1.4,>=1.1.0 in /usr/local/lib/python3.10/dist-packages (from sympy->onnxruntime>=1.14.1->chromadb>=0.5.18->crewai) (1.3.0)\n",
            "Collecting marshmallow<4.0.0,>=3.18.0 (from dataclasses-json<0.7,>=0.5.7->langchain-community<0.4.0,>=0.3.1->embedchain>=0.1.114->crewai-tools>=0.17.0->crewai)\n",
            "  Downloading marshmallow-3.23.1-py3-none-any.whl.metadata (7.5 kB)\n",
            "Collecting typing-inspect<1,>=0.4.0 (from dataclasses-json<0.7,>=0.5.7->langchain-community<0.4.0,>=0.3.1->embedchain>=0.1.114->crewai-tools>=0.17.0->crewai)\n",
            "  Downloading typing_inspect-0.9.0-py3-none-any.whl.metadata (1.5 kB)\n",
            "Requirement already satisfied: grpcio-status<2.0.dev0,>=1.33.2 in /usr/local/lib/python3.10/dist-packages (from google-api-core[grpc]!=2.0.*,!=2.1.*,!=2.2.*,!=2.3.*,!=2.4.*,!=2.5.*,!=2.6.*,!=2.7.*,<3.0.0dev,>=1.34.1->google-cloud-aiplatform<2.0.0,>=1.26.1->embedchain>=0.1.114->crewai-tools>=0.17.0->crewai) (1.62.3)\n",
            "Requirement already satisfied: google-cloud-core<3.0.0dev,>=1.6.0 in /usr/local/lib/python3.10/dist-packages (from google-cloud-bigquery!=3.20.0,<4.0.0dev,>=1.15.0->google-cloud-aiplatform<2.0.0,>=1.26.1->embedchain>=0.1.114->crewai-tools>=0.17.0->crewai) (2.4.1)\n",
            "Requirement already satisfied: google-resumable-media<3.0dev,>=0.6.0 in /usr/local/lib/python3.10/dist-packages (from google-cloud-bigquery!=3.20.0,<4.0.0dev,>=1.15.0->google-cloud-aiplatform<2.0.0,>=1.26.1->embedchain>=0.1.114->crewai-tools>=0.17.0->crewai) (2.7.2)\n",
            "Requirement already satisfied: grpc-google-iam-v1<1.0.0dev,>=0.12.4 in /usr/local/lib/python3.10/dist-packages (from google-cloud-resource-manager<3.0.0dev,>=1.3.3->google-cloud-aiplatform<2.0.0,>=1.26.1->embedchain>=0.1.114->crewai-tools>=0.17.0->crewai) (0.13.1)\n",
            "Requirement already satisfied: jsonpatch<2.0,>=1.33 in /usr/local/lib/python3.10/dist-packages (from langchain-core<0.4.0,>=0.3.21->langchain<0.4.0,>=0.3.1->embedchain>=0.1.114->crewai-tools>=0.17.0->crewai) (1.33)\n",
            "Requirement already satisfied: tzdata>=2022.7 in /usr/local/lib/python3.10/dist-packages (from pandas>=1.4.3->langchain-cohere<0.4.0,>=0.3.0->embedchain>=0.1.114->crewai-tools>=0.17.0->crewai) (2024.2)\n",
            "Requirement already satisfied: pyasn1<0.7.0,>=0.4.6 in /usr/local/lib/python3.10/dist-packages (from pyasn1-modules>=0.2.1->google-auth>=1.0.1->kubernetes>=28.1.0->chromadb>=0.5.18->crewai) (0.6.1)\n",
            "Collecting grpcio-tools>=1.41.0 (from qdrant-client<2.0.0,>=1.9.1->mem0ai<0.2.0,>=0.1.29->embedchain>=0.1.114->crewai-tools>=0.17.0->crewai)\n",
            "  Downloading grpcio_tools-1.68.1-cp310-cp310-manylinux_2_17_x86_64.manylinux2014_x86_64.whl.metadata (5.3 kB)\n",
            "Collecting portalocker<3.0.0,>=2.7.0 (from qdrant-client<2.0.0,>=1.9.1->mem0ai<0.2.0,>=0.1.29->embedchain>=0.1.114->crewai-tools>=0.17.0->crewai)\n",
            "  Downloading portalocker-2.10.1-py3-none-any.whl.metadata (8.5 kB)\n",
            "Requirement already satisfied: google-crc32c<2.0dev,>=1.0 in /usr/local/lib/python3.10/dist-packages (from google-resumable-media<3.0dev,>=0.6.0->google-cloud-bigquery!=3.20.0,<4.0.0dev,>=1.15.0->google-cloud-aiplatform<2.0.0,>=1.26.1->embedchain>=0.1.114->crewai-tools>=0.17.0->crewai) (1.6.0)\n",
            "Collecting h2<5,>=3 (from httpx[http2]>=0.20.0->qdrant-client<2.0.0,>=1.9.1->mem0ai<0.2.0,>=0.1.29->embedchain>=0.1.114->crewai-tools>=0.17.0->crewai)\n",
            "  Downloading h2-4.1.0-py3-none-any.whl.metadata (3.6 kB)\n",
            "Requirement already satisfied: jsonpointer>=1.9 in /usr/local/lib/python3.10/dist-packages (from jsonpatch<2.0,>=1.33->langchain-core<0.4.0,>=0.3.21->langchain<0.4.0,>=0.3.1->embedchain>=0.1.114->crewai-tools>=0.17.0->crewai) (3.0.0)\n",
            "Collecting mypy-extensions>=0.3.0 (from typing-inspect<1,>=0.4.0->dataclasses-json<0.7,>=0.5.7->langchain-community<0.4.0,>=0.3.1->embedchain>=0.1.114->crewai-tools>=0.17.0->crewai)\n",
            "  Downloading mypy_extensions-1.0.0-py3-none-any.whl.metadata (1.1 kB)\n",
            "Collecting hyperframe<7,>=6.0 (from h2<5,>=3->httpx[http2]>=0.20.0->qdrant-client<2.0.0,>=1.9.1->mem0ai<0.2.0,>=0.1.29->embedchain>=0.1.114->crewai-tools>=0.17.0->crewai)\n",
            "  Downloading hyperframe-6.0.1-py3-none-any.whl.metadata (2.7 kB)\n",
            "Collecting hpack<5,>=4.0 (from h2<5,>=3->httpx[http2]>=0.20.0->qdrant-client<2.0.0,>=1.9.1->mem0ai<0.2.0,>=0.1.29->embedchain>=0.1.114->crewai-tools>=0.17.0->crewai)\n",
            "  Downloading hpack-4.0.0-py3-none-any.whl.metadata (2.5 kB)\n",
            "Downloading crewai-0.86.0-py3-none-any.whl (192 kB)\n",
            "\u001b[2K   \u001b[90m━━━━━━━━━━━━━━━━━━━━━━━━━━━━━━━━━━━━━━━━\u001b[0m \u001b[32m192.0/192.0 kB\u001b[0m \u001b[31m9.4 MB/s\u001b[0m eta \u001b[36m0:00:00\u001b[0m\n",
            "\u001b[?25hDownloading appdirs-1.4.4-py2.py3-none-any.whl (9.6 kB)\n",
            "Downloading auth0_python-4.7.2-py3-none-any.whl (131 kB)\n",
            "\u001b[2K   \u001b[90m━━━━━━━━━━━━━━━━━━━━━━━━━━━━━━━━━━━━━━━━\u001b[0m \u001b[32m131.8/131.8 kB\u001b[0m \u001b[31m6.8 MB/s\u001b[0m eta \u001b[36m0:00:00\u001b[0m\n",
            "\u001b[?25hDownloading chromadb-0.5.23-py3-none-any.whl (628 kB)\n",
            "\u001b[2K   \u001b[90m━━━━━━━━━━━━━━━━━━━━━━━━━━━━━━━━━━━━━━━━\u001b[0m \u001b[32m628.3/628.3 kB\u001b[0m \u001b[31m26.1 MB/s\u001b[0m eta \u001b[36m0:00:00\u001b[0m\n",
            "\u001b[?25hDownloading chroma_hnswlib-0.7.6-cp310-cp310-manylinux_2_17_x86_64.manylinux2014_x86_64.whl (2.4 MB)\n",
            "\u001b[2K   \u001b[90m━━━━━━━━━━━━━━━━━━━━━━━━━━━━━━━━━━━━━━━━\u001b[0m \u001b[32m2.4/2.4 MB\u001b[0m \u001b[31m55.0 MB/s\u001b[0m eta \u001b[36m0:00:00\u001b[0m\n",
            "\u001b[?25hDownloading crewai_tools-0.17.0-py3-none-any.whl (467 kB)\n",
            "\u001b[2K   \u001b[90m━━━━━━━━━━━━━━━━━━━━━━━━━━━━━━━━━━━━━━━━\u001b[0m \u001b[32m468.0/468.0 kB\u001b[0m \u001b[31m26.3 MB/s\u001b[0m eta \u001b[36m0:00:00\u001b[0m\n",
            "\u001b[?25hDownloading instructor-1.7.0-py3-none-any.whl (70 kB)\n",
            "\u001b[2K   \u001b[90m━━━━━━━━━━━━━━━━━━━━━━━━━━━━━━━━━━━━━━━━\u001b[0m \u001b[32m70.1/70.1 kB\u001b[0m \u001b[31m4.9 MB/s\u001b[0m eta \u001b[36m0:00:00\u001b[0m\n",
            "\u001b[?25hDownloading json_repair-0.30.3-py3-none-any.whl (18 kB)\n",
            "Downloading jsonref-1.1.0-py3-none-any.whl (9.4 kB)\n",
            "Downloading litellm-1.54.1-py3-none-any.whl (6.4 MB)\n",
            "\u001b[2K   \u001b[90m━━━━━━━━━━━━━━━━━━━━━━━━━━━━━━━━━━━━━━━━\u001b[0m \u001b[32m6.4/6.4 MB\u001b[0m \u001b[31m58.4 MB/s\u001b[0m eta \u001b[36m0:00:00\u001b[0m\n",
            "\u001b[?25hDownloading openai-1.57.2-py3-none-any.whl (389 kB)\n",
            "\u001b[2K   \u001b[90m━━━━━━━━━━━━━━━━━━━━━━━━━━━━━━━━━━━━━━━━\u001b[0m \u001b[32m389.9/389.9 kB\u001b[0m \u001b[31m16.6 MB/s\u001b[0m eta \u001b[36m0:00:00\u001b[0m\n",
            "\u001b[?25hDownloading opentelemetry_exporter_otlp_proto_http-1.28.2-py3-none-any.whl (17 kB)\n",
            "Downloading opentelemetry_exporter_otlp_proto_common-1.28.2-py3-none-any.whl (18 kB)\n",
            "Downloading opentelemetry_proto-1.28.2-py3-none-any.whl (55 kB)\n",
            "\u001b[2K   \u001b[90m━━━━━━━━━━━━━━━━━━━━━━━━━━━━━━━━━━━━━━━━\u001b[0m \u001b[32m55.8/55.8 kB\u001b[0m \u001b[31m3.8 MB/s\u001b[0m eta \u001b[36m0:00:00\u001b[0m\n",
            "\u001b[?25hDownloading pdfplumber-0.11.4-py3-none-any.whl (59 kB)\n",
            "\u001b[2K   \u001b[90m━━━━━━━━━━━━━━━━━━━━━━━━━━━━━━━━━━━━━━━━\u001b[0m \u001b[32m59.2/59.2 kB\u001b[0m \u001b[31m3.7 MB/s\u001b[0m eta \u001b[36m0:00:00\u001b[0m\n",
            "\u001b[?25hDownloading pdfminer.six-20231228-py3-none-any.whl (5.6 MB)\n",
            "\u001b[2K   \u001b[90m━━━━━━━━━━━━━━━━━━━━━━━━━━━━━━━━━━━━━━━━\u001b[0m \u001b[32m5.6/5.6 MB\u001b[0m \u001b[31m54.8 MB/s\u001b[0m eta \u001b[36m0:00:00\u001b[0m\n",
            "\u001b[?25hDownloading python_dotenv-1.0.1-py3-none-any.whl (19 kB)\n",
            "Downloading pyvis-0.3.2-py3-none-any.whl (756 kB)\n",
            "\u001b[2K   \u001b[90m━━━━━━━━━━━━━━━━━━━━━━━━━━━━━━━━━━━━━━━━\u001b[0m \u001b[32m756.0/756.0 kB\u001b[0m \u001b[31m33.1 MB/s\u001b[0m eta \u001b[36m0:00:00\u001b[0m\n",
            "\u001b[?25hDownloading tomli_w-1.1.0-py3-none-any.whl (6.4 kB)\n",
            "Downloading uv-0.5.7-py3-none-manylinux_2_17_x86_64.manylinux2014_x86_64.whl (14.7 MB)\n",
            "\u001b[2K   \u001b[90m━━━━━━━━━━━━━━━━━━━━━━━━━━━━━━━━━━━━━━━━\u001b[0m \u001b[32m14.7/14.7 MB\u001b[0m \u001b[31m77.8 MB/s\u001b[0m eta \u001b[36m0:00:00\u001b[0m\n",
            "\u001b[?25hDownloading bcrypt-4.2.1-cp39-abi3-manylinux_2_28_x86_64.whl (278 kB)\n",
            "\u001b[2K   \u001b[90m━━━━━━━━━━━━━━━━━━━━━━━━━━━━━━━━━━━━━━━━\u001b[0m \u001b[32m278.6/278.6 kB\u001b[0m \u001b[31m18.2 MB/s\u001b[0m eta \u001b[36m0:00:00\u001b[0m\n",
            "\u001b[?25hDownloading build-1.2.2.post1-py3-none-any.whl (22 kB)\n",
            "Downloading docker-7.1.0-py3-none-any.whl (147 kB)\n",
            "\u001b[2K   \u001b[90m━━━━━━━━━━━━━━━━━━━━━━━━━━━━━━━━━━━━━━━━\u001b[0m \u001b[32m147.8/147.8 kB\u001b[0m \u001b[31m10.7 MB/s\u001b[0m eta \u001b[36m0:00:00\u001b[0m\n",
            "\u001b[?25hDownloading embedchain-0.1.125-py3-none-any.whl (211 kB)\n",
            "\u001b[2K   \u001b[90m━━━━━━━━━━━━━━━━━━━━━━━━━━━━━━━━━━━━━━━━\u001b[0m \u001b[32m211.4/211.4 kB\u001b[0m \u001b[31m13.6 MB/s\u001b[0m eta \u001b[36m0:00:00\u001b[0m\n",
            "\u001b[?25hDownloading fastapi-0.115.6-py3-none-any.whl (94 kB)\n",
            "\u001b[2K   \u001b[90m━━━━━━━━━━━━━━━━━━━━━━━━━━━━━━━━━━━━━━━━\u001b[0m \u001b[32m94.8/94.8 kB\u001b[0m \u001b[31m6.9 MB/s\u001b[0m eta \u001b[36m0:00:00\u001b[0m\n",
            "\u001b[?25hDownloading httpx-0.27.2-py3-none-any.whl (76 kB)\n",
            "\u001b[2K   \u001b[90m━━━━━━━━━━━━━━━━━━━━━━━━━━━━━━━━━━━━━━━━\u001b[0m \u001b[32m76.4/76.4 kB\u001b[0m \u001b[31m5.4 MB/s\u001b[0m eta \u001b[36m0:00:00\u001b[0m\n",
            "\u001b[?25hDownloading jiter-0.6.1-cp310-cp310-manylinux_2_17_x86_64.manylinux2014_x86_64.whl (325 kB)\n",
            "\u001b[2K   \u001b[90m━━━━━━━━━━━━━━━━━━━━━━━━━━━━━━━━━━━━━━━━\u001b[0m \u001b[32m325.2/325.2 kB\u001b[0m \u001b[31m20.7 MB/s\u001b[0m eta \u001b[36m0:00:00\u001b[0m\n",
            "\u001b[?25hDownloading kubernetes-31.0.0-py2.py3-none-any.whl (1.9 MB)\n",
            "\u001b[2K   \u001b[90m━━━━━━━━━━━━━━━━━━━━━━━━━━━━━━━━━━━━━━━━\u001b[0m \u001b[32m1.9/1.9 MB\u001b[0m \u001b[31m63.0 MB/s\u001b[0m eta \u001b[36m0:00:00\u001b[0m\n",
            "\u001b[?25hDownloading lancedb-0.17.0-cp39-abi3-manylinux_2_28_x86_64.whl (29.9 MB)\n",
            "\u001b[2K   \u001b[90m━━━━━━━━━━━━━━━━━━━━━━━━━━━━━━━━━━━━━━━━\u001b[0m \u001b[32m29.9/29.9 MB\u001b[0m \u001b[31m19.2 MB/s\u001b[0m eta \u001b[36m0:00:00\u001b[0m\n",
            "\u001b[?25hDownloading pylance-0.20.0-cp39-abi3-manylinux_2_28_x86_64.whl (33.5 MB)\n",
            "\u001b[2K   \u001b[90m━━━━━━━━━━━━━━━━━━━━━━━━━━━━━━━━━━━━━━━━\u001b[0m \u001b[32m33.5/33.5 MB\u001b[0m \u001b[31m30.0 MB/s\u001b[0m eta \u001b[36m0:00:00\u001b[0m\n",
            "\u001b[?25hDownloading mmh3-5.0.1-cp310-cp310-manylinux_2_5_x86_64.manylinux1_x86_64.manylinux_2_17_x86_64.manylinux2014_x86_64.whl (93 kB)\n",
            "\u001b[2K   \u001b[90m━━━━━━━━━━━━━━━━━━━━━━━━━━━━━━━━━━━━━━━━\u001b[0m \u001b[32m93.2/93.2 kB\u001b[0m \u001b[31m6.3 MB/s\u001b[0m eta \u001b[36m0:00:00\u001b[0m\n",
            "\u001b[?25hDownloading onnxruntime-1.20.1-cp310-cp310-manylinux_2_27_x86_64.manylinux_2_28_x86_64.whl (13.3 MB)\n",
            "\u001b[2K   \u001b[90m━━━━━━━━━━━━━━━━━━━━━━━━━━━━━━━━━━━━━━━━\u001b[0m \u001b[32m13.3/13.3 MB\u001b[0m \u001b[31m82.6 MB/s\u001b[0m eta \u001b[36m0:00:00\u001b[0m\n",
            "\u001b[?25hDownloading opentelemetry_exporter_otlp_proto_grpc-1.28.2-py3-none-any.whl (18 kB)\n",
            "Downloading opentelemetry_instrumentation_fastapi-0.49b2-py3-none-any.whl (12 kB)\n",
            "Downloading opentelemetry_instrumentation-0.49b2-py3-none-any.whl (30 kB)\n",
            "Downloading opentelemetry_instrumentation_asgi-0.49b2-py3-none-any.whl (16 kB)\n",
            "Downloading opentelemetry_util_http-0.49b2-py3-none-any.whl (6.9 kB)\n",
            "Downloading overrides-7.7.0-py3-none-any.whl (17 kB)\n",
            "Downloading posthog-3.7.4-py2.py3-none-any.whl (54 kB)\n",
            "\u001b[2K   \u001b[90m━━━━━━━━━━━━━━━━━━━━━━━━━━━━━━━━━━━━━━━━\u001b[0m \u001b[32m54.8/54.8 kB\u001b[0m \u001b[31m4.0 MB/s\u001b[0m eta \u001b[36m0:00:00\u001b[0m\n",
            "\u001b[?25hDownloading pypdfium2-4.30.0-py3-none-manylinux_2_17_x86_64.manylinux2014_x86_64.whl (2.8 MB)\n",
            "\u001b[2K   \u001b[90m━━━━━━━━━━━━━━━━━━━━━━━━━━━━━━━━━━━━━━━━\u001b[0m \u001b[32m2.8/2.8 MB\u001b[0m \u001b[31m74.4 MB/s\u001b[0m eta \u001b[36m0:00:00\u001b[0m\n",
            "\u001b[?25hDownloading pyright-1.1.390-py3-none-any.whl (18 kB)\n",
            "Downloading pytube-15.0.0-py3-none-any.whl (57 kB)\n",
            "\u001b[2K   \u001b[90m━━━━━━━━━━━━━━━━━━━━━━━━━━━━━━━━━━━━━━━━\u001b[0m \u001b[32m57.6/57.6 kB\u001b[0m \u001b[31m3.7 MB/s\u001b[0m eta \u001b[36m0:00:00\u001b[0m\n",
            "\u001b[?25hDownloading selenium-4.27.1-py3-none-any.whl (9.7 MB)\n",
            "\u001b[2K   \u001b[90m━━━━━━━━━━━━━━━━━━━━━━━━━━━━━━━━━━━━━━━━\u001b[0m \u001b[32m9.7/9.7 MB\u001b[0m \u001b[31m86.8 MB/s\u001b[0m eta \u001b[36m0:00:00\u001b[0m\n",
            "\u001b[?25hDownloading tiktoken-0.7.0-cp310-cp310-manylinux_2_17_x86_64.manylinux2014_x86_64.whl (1.1 MB)\n",
            "\u001b[2K   \u001b[90m━━━━━━━━━━━━━━━━━━━━━━━━━━━━━━━━━━━━━━━━\u001b[0m \u001b[32m1.1/1.1 MB\u001b[0m \u001b[31m45.5 MB/s\u001b[0m eta \u001b[36m0:00:00\u001b[0m\n",
            "\u001b[?25hDownloading uvicorn-0.32.1-py3-none-any.whl (63 kB)\n",
            "\u001b[2K   \u001b[90m━━━━━━━━━━━━━━━━━━━━━━━━━━━━━━━━━━━━━━━━\u001b[0m \u001b[32m63.8/63.8 kB\u001b[0m \u001b[31m4.4 MB/s\u001b[0m eta \u001b[36m0:00:00\u001b[0m\n",
            "\u001b[?25hDownloading alembic-1.14.0-py3-none-any.whl (233 kB)\n",
            "\u001b[2K   \u001b[90m━━━━━━━━━━━━━━━━━━━━━━━━━━━━━━━━━━━━━━━━\u001b[0m \u001b[32m233.5/233.5 kB\u001b[0m \u001b[31m15.1 MB/s\u001b[0m eta \u001b[36m0:00:00\u001b[0m\n",
            "\u001b[?25hDownloading backoff-2.2.1-py3-none-any.whl (15 kB)\n",
            "Downloading cohere-5.13.3-py3-none-any.whl (249 kB)\n",
            "\u001b[2K   \u001b[90m━━━━━━━━━━━━━━━━━━━━━━━━━━━━━━━━━━━━━━━━\u001b[0m \u001b[32m249.9/249.9 kB\u001b[0m \u001b[31m17.0 MB/s\u001b[0m eta \u001b[36m0:00:00\u001b[0m\n",
            "\u001b[?25hDownloading httpx_sse-0.4.0-py3-none-any.whl (7.8 kB)\n",
            "Downloading durationpy-0.9-py3-none-any.whl (3.5 kB)\n",
            "Downloading gptcache-0.1.44-py3-none-any.whl (131 kB)\n",
            "\u001b[2K   \u001b[90m━━━━━━━━━━━━━━━━━━━━━━━━━━━━━━━━━━━━━━━━\u001b[0m \u001b[32m131.6/131.6 kB\u001b[0m \u001b[31m10.0 MB/s\u001b[0m eta \u001b[36m0:00:00\u001b[0m\n",
            "\u001b[?25hDownloading httptools-0.6.4-cp310-cp310-manylinux_2_5_x86_64.manylinux1_x86_64.manylinux_2_17_x86_64.manylinux2014_x86_64.whl (442 kB)\n",
            "\u001b[2K   \u001b[90m━━━━━━━━━━━━━━━━━━━━━━━━━━━━━━━━━━━━━━━━\u001b[0m \u001b[32m442.1/442.1 kB\u001b[0m \u001b[31m25.4 MB/s\u001b[0m eta \u001b[36m0:00:00\u001b[0m\n",
            "\u001b[?25hDownloading jedi-0.19.2-py2.py3-none-any.whl (1.6 MB)\n",
            "\u001b[2K   \u001b[90m━━━━━━━━━━━━━━━━━━━━━━━━━━━━━━━━━━━━━━━━\u001b[0m \u001b[32m1.6/1.6 MB\u001b[0m \u001b[31m56.4 MB/s\u001b[0m eta \u001b[36m0:00:00\u001b[0m\n",
            "\u001b[?25hDownloading langchain_cohere-0.3.3-py3-none-any.whl (44 kB)\n",
            "\u001b[2K   \u001b[90m━━━━━━━━━━━━━━━━━━━━━━━━━━━━━━━━━━━━━━━━\u001b[0m \u001b[32m44.3/44.3 kB\u001b[0m \u001b[31m3.0 MB/s\u001b[0m eta \u001b[36m0:00:00\u001b[0m\n",
            "\u001b[?25hDownloading langchain_community-0.3.11-py3-none-any.whl (2.5 MB)\n",
            "\u001b[2K   \u001b[90m━━━━━━━━━━━━━━━━━━━━━━━━━━━━━━━━━━━━━━━━\u001b[0m \u001b[32m2.5/2.5 MB\u001b[0m \u001b[31m63.6 MB/s\u001b[0m eta \u001b[36m0:00:00\u001b[0m\n",
            "\u001b[?25hDownloading langchain-0.3.11-py3-none-any.whl (1.0 MB)\n",
            "\u001b[2K   \u001b[90m━━━━━━━━━━━━━━━━━━━━━━━━━━━━━━━━━━━━━━━━\u001b[0m \u001b[32m1.0/1.0 MB\u001b[0m \u001b[31m43.5 MB/s\u001b[0m eta \u001b[36m0:00:00\u001b[0m\n",
            "\u001b[?25hDownloading langchain_openai-0.2.12-py3-none-any.whl (50 kB)\n",
            "\u001b[2K   \u001b[90m━━━━━━━━━━━━━━━━━━━━━━━━━━━━━━━━━━━━━━━━\u001b[0m \u001b[32m50.7/50.7 kB\u001b[0m \u001b[31m3.3 MB/s\u001b[0m eta \u001b[36m0:00:00\u001b[0m\n",
            "\u001b[?25hDownloading mem0ai-0.1.34-py3-none-any.whl (83 kB)\n",
            "\u001b[2K   \u001b[90m━━━━━━━━━━━━━━━━━━━━━━━━━━━━━━━━━━━━━━━━\u001b[0m \u001b[32m83.2/83.2 kB\u001b[0m \u001b[31m6.0 MB/s\u001b[0m eta \u001b[36m0:00:00\u001b[0m\n",
            "\u001b[?25hDownloading monotonic-1.6-py2.py3-none-any.whl (8.2 kB)\n",
            "Downloading nodeenv-1.9.1-py2.py3-none-any.whl (22 kB)\n",
            "Downloading protobuf-5.29.1-cp38-abi3-manylinux2014_x86_64.whl (319 kB)\n",
            "\u001b[2K   \u001b[90m━━━━━━━━━━━━━━━━━━━━━━━━━━━━━━━━━━━━━━━━\u001b[0m \u001b[32m319.7/319.7 kB\u001b[0m \u001b[31m17.4 MB/s\u001b[0m eta \u001b[36m0:00:00\u001b[0m\n",
            "\u001b[?25hDownloading pypdf-5.1.0-py3-none-any.whl (297 kB)\n",
            "\u001b[2K   \u001b[90m━━━━━━━━━━━━━━━━━━━━━━━━━━━━━━━━━━━━━━━━\u001b[0m \u001b[32m298.0/298.0 kB\u001b[0m \u001b[31m18.5 MB/s\u001b[0m eta \u001b[36m0:00:00\u001b[0m\n",
            "\u001b[?25hDownloading pysbd-0.3.4-py3-none-any.whl (71 kB)\n",
            "\u001b[2K   \u001b[90m━━━━━━━━━━━━━━━━━━━━━━━━━━━━━━━━━━━━━━━━\u001b[0m \u001b[32m71.1/71.1 kB\u001b[0m \u001b[31m4.7 MB/s\u001b[0m eta \u001b[36m0:00:00\u001b[0m\n",
            "\u001b[?25hDownloading schema-0.7.7-py2.py3-none-any.whl (18 kB)\n",
            "Downloading starlette-0.41.3-py3-none-any.whl (73 kB)\n",
            "\u001b[2K   \u001b[90m━━━━━━━━━━━━━━━━━━━━━━━━━━━━━━━━━━━━━━━━\u001b[0m \u001b[32m73.2/73.2 kB\u001b[0m \u001b[31m5.4 MB/s\u001b[0m eta \u001b[36m0:00:00\u001b[0m\n",
            "\u001b[?25hDownloading trio-0.27.0-py3-none-any.whl (481 kB)\n",
            "\u001b[2K   \u001b[90m━━━━━━━━━━━━━━━━━━━━━━━━━━━━━━━━━━━━━━━━\u001b[0m \u001b[32m481.7/481.7 kB\u001b[0m \u001b[31m28.2 MB/s\u001b[0m eta \u001b[36m0:00:00\u001b[0m\n",
            "\u001b[?25hDownloading trio_websocket-0.11.1-py3-none-any.whl (17 kB)\n",
            "Downloading uvloop-0.21.0-cp310-cp310-manylinux_2_17_x86_64.manylinux2014_x86_64.whl (3.8 MB)\n",
            "\u001b[2K   \u001b[90m━━━━━━━━━━━━━━━━━━━━━━━━━━━━━━━━━━━━━━━━\u001b[0m \u001b[32m3.8/3.8 MB\u001b[0m \u001b[31m80.4 MB/s\u001b[0m eta \u001b[36m0:00:00\u001b[0m\n",
            "\u001b[?25hDownloading watchfiles-1.0.3-cp310-cp310-manylinux_2_17_x86_64.manylinux2014_x86_64.whl (443 kB)\n",
            "\u001b[2K   \u001b[90m━━━━━━━━━━━━━━━━━━━━━━━━━━━━━━━━━━━━━━━━\u001b[0m \u001b[32m443.8/443.8 kB\u001b[0m \u001b[31m24.4 MB/s\u001b[0m eta \u001b[36m0:00:00\u001b[0m\n",
            "\u001b[?25hDownloading websockets-14.1-cp310-cp310-manylinux_2_5_x86_64.manylinux1_x86_64.manylinux_2_17_x86_64.manylinux2014_x86_64.whl (168 kB)\n",
            "\u001b[2K   \u001b[90m━━━━━━━━━━━━━━━━━━━━━━━━━━━━━━━━━━━━━━━━\u001b[0m \u001b[32m168.2/168.2 kB\u001b[0m \u001b[31m11.5 MB/s\u001b[0m eta \u001b[36m0:00:00\u001b[0m\n",
            "\u001b[?25hDownloading coloredlogs-15.0.1-py2.py3-none-any.whl (46 kB)\n",
            "\u001b[2K   \u001b[90m━━━━━━━━━━━━━━━━━━━━━━━━━━━━━━━━━━━━━━━━\u001b[0m \u001b[32m46.0/46.0 kB\u001b[0m \u001b[31m2.9 MB/s\u001b[0m eta \u001b[36m0:00:00\u001b[0m\n",
            "\u001b[?25hDownloading deprecation-2.1.0-py2.py3-none-any.whl (11 kB)\n",
            "Downloading pyproject_hooks-1.2.0-py3-none-any.whl (10 kB)\n",
            "Downloading asgiref-3.8.1-py3-none-any.whl (23 kB)\n",
            "Downloading dataclasses_json-0.6.7-py3-none-any.whl (28 kB)\n",
            "Downloading fastavro-1.9.7-cp310-cp310-manylinux_2_17_x86_64.manylinux2014_x86_64.whl (3.1 MB)\n",
            "\u001b[2K   \u001b[90m━━━━━━━━━━━━━━━━━━━━━━━━━━━━━━━━━━━━━━━━\u001b[0m \u001b[32m3.1/3.1 MB\u001b[0m \u001b[31m73.8 MB/s\u001b[0m eta \u001b[36m0:00:00\u001b[0m\n",
            "\u001b[?25hDownloading humanfriendly-10.0-py2.py3-none-any.whl (86 kB)\n",
            "\u001b[2K   \u001b[90m━━━━━━━━━━━━━━━━━━━━━━━━━━━━━━━━━━━━━━━━\u001b[0m \u001b[32m86.8/86.8 kB\u001b[0m \u001b[31m5.9 MB/s\u001b[0m eta \u001b[36m0:00:00\u001b[0m\n",
            "\u001b[?25hDownloading langchain_core-0.3.24-py3-none-any.whl (410 kB)\n",
            "\u001b[2K   \u001b[90m━━━━━━━━━━━━━━━━━━━━━━━━━━━━━━━━━━━━━━━━\u001b[0m \u001b[32m410.6/410.6 kB\u001b[0m \u001b[31m26.4 MB/s\u001b[0m eta \u001b[36m0:00:00\u001b[0m\n",
            "\u001b[?25hDownloading langchain_experimental-0.3.3-py3-none-any.whl (208 kB)\n",
            "\u001b[2K   \u001b[90m━━━━━━━━━━━━━━━━━━━━━━━━━━━━━━━━━━━━━━━━\u001b[0m \u001b[32m209.0/209.0 kB\u001b[0m \u001b[31m14.6 MB/s\u001b[0m eta \u001b[36m0:00:00\u001b[0m\n",
            "\u001b[?25hDownloading parameterized-0.9.0-py2.py3-none-any.whl (20 kB)\n",
            "Downloading pydantic_settings-2.6.1-py3-none-any.whl (28 kB)\n",
            "Downloading qdrant_client-1.12.1-py3-none-any.whl (267 kB)\n",
            "\u001b[2K   \u001b[90m━━━━━━━━━━━━━━━━━━━━━━━━━━━━━━━━━━━━━━━━\u001b[0m \u001b[32m267.2/267.2 kB\u001b[0m \u001b[31m16.9 MB/s\u001b[0m eta \u001b[36m0:00:00\u001b[0m\n",
            "\u001b[?25hDownloading types_requests-2.32.0.20241016-py3-none-any.whl (15 kB)\n",
            "Downloading wsproto-1.2.0-py3-none-any.whl (24 kB)\n",
            "Downloading Mako-1.3.8-py3-none-any.whl (78 kB)\n",
            "\u001b[2K   \u001b[90m━━━━━━━━━━━━━━━━━━━━━━━━━━━━━━━━━━━━━━━━\u001b[0m \u001b[32m78.6/78.6 kB\u001b[0m \u001b[31m5.5 MB/s\u001b[0m eta \u001b[36m0:00:00\u001b[0m\n",
            "\u001b[?25hDownloading outcome-1.3.0.post0-py2.py3-none-any.whl (10 kB)\n",
            "Downloading sortedcontainers-2.4.0-py2.py3-none-any.whl (29 kB)\n",
            "Downloading grpcio_tools-1.68.1-cp310-cp310-manylinux_2_17_x86_64.manylinux2014_x86_64.whl (2.4 MB)\n",
            "\u001b[2K   \u001b[90m━━━━━━━━━━━━━━━━━━━━━━━━━━━━━━━━━━━━━━━━\u001b[0m \u001b[32m2.4/2.4 MB\u001b[0m \u001b[31m64.4 MB/s\u001b[0m eta \u001b[36m0:00:00\u001b[0m\n",
            "\u001b[?25hDownloading marshmallow-3.23.1-py3-none-any.whl (49 kB)\n",
            "\u001b[2K   \u001b[90m━━━━━━━━━━━━━━━━━━━━━━━━━━━━━━━━━━━━━━━━\u001b[0m \u001b[32m49.5/49.5 kB\u001b[0m \u001b[31m3.3 MB/s\u001b[0m eta \u001b[36m0:00:00\u001b[0m\n",
            "\u001b[?25hDownloading portalocker-2.10.1-py3-none-any.whl (18 kB)\n",
            "Downloading typing_inspect-0.9.0-py3-none-any.whl (8.8 kB)\n",
            "Downloading h2-4.1.0-py3-none-any.whl (57 kB)\n",
            "\u001b[2K   \u001b[90m━━━━━━━━━━━━━━━━━━━━━━━━━━━━━━━━━━━━━━━━\u001b[0m \u001b[32m57.5/57.5 kB\u001b[0m \u001b[31m3.7 MB/s\u001b[0m eta \u001b[36m0:00:00\u001b[0m\n",
            "\u001b[?25hDownloading mypy_extensions-1.0.0-py3-none-any.whl (4.7 kB)\n",
            "Downloading hpack-4.0.0-py3-none-any.whl (32 kB)\n",
            "Downloading hyperframe-6.0.1-py3-none-any.whl (12 kB)\n",
            "Building wheels for collected packages: docx2txt, pypika\n",
            "  Building wheel for docx2txt (setup.py) ... \u001b[?25l\u001b[?25hdone\n",
            "  Created wheel for docx2txt: filename=docx2txt-0.8-py3-none-any.whl size=3960 sha256=305bcc77546e908806a7006e5203d5487096cba9da319ebeaae3b79be72b2fc8\n",
            "  Stored in directory: /root/.cache/pip/wheels/22/58/cf/093d0a6c3ecfdfc5f6ddd5524043b88e59a9a199cb02352966\n",
            "  Building wheel for pypika (pyproject.toml) ... \u001b[?25l\u001b[?25hdone\n",
            "  Created wheel for pypika: filename=PyPika-0.48.9-py2.py3-none-any.whl size=53725 sha256=3db220632625abadfebbba01a30d7824153a199db2bdee2142f05979505115a5\n",
            "  Stored in directory: /root/.cache/pip/wheels/e1/26/51/d0bffb3d2fd82256676d7ad3003faea3bd6dddc9577af665f4\n",
            "Successfully built docx2txt pypika\n",
            "Installing collected packages: sortedcontainers, schema, pypika, monotonic, durationpy, docx2txt, appdirs, wsproto, websockets, uvloop, uvicorn, uv, types-requests, tomli-w, pytube, python-dotenv, pysbd, pyproject_hooks, pypdfium2, pypdf, protobuf, portalocker, parameterized, overrides, outcome, opentelemetry-util-http, nodeenv, mypy-extensions, mmh3, marshmallow, Mako, jsonref, json-repair, jiter, jedi, hyperframe, humanfriendly, httpx-sse, httptools, hpack, fastavro, deprecation, chroma-hnswlib, bcrypt, backoff, asgiref, watchfiles, typing-inspect, trio, tiktoken, starlette, pyright, pylance, posthog, opentelemetry-proto, httpx, h2, grpcio-tools, gptcache, docker, coloredlogs, build, alembic, trio-websocket, pyvis, pydantic-settings, pdfminer.six, opentelemetry-exporter-otlp-proto-common, openai, onnxruntime, lancedb, kubernetes, fastapi, dataclasses-json, selenium, qdrant-client, pdfplumber, opentelemetry-instrumentation, litellm, langchain-core, instructor, cohere, auth0-python, opentelemetry-instrumentation-asgi, opentelemetry-exporter-otlp-proto-http, opentelemetry-exporter-otlp-proto-grpc, mem0ai, langchain-openai, opentelemetry-instrumentation-fastapi, langchain, langchain-community, chromadb, langchain-experimental, langchain-cohere, embedchain, crewai-tools, crewai\n",
            "  Attempting uninstall: protobuf\n",
            "    Found existing installation: protobuf 4.25.5\n",
            "    Uninstalling protobuf-4.25.5:\n",
            "      Successfully uninstalled protobuf-4.25.5\n",
            "  Attempting uninstall: jiter\n",
            "    Found existing installation: jiter 0.8.0\n",
            "    Uninstalling jiter-0.8.0:\n",
            "      Successfully uninstalled jiter-0.8.0\n",
            "  Attempting uninstall: httpx\n",
            "    Found existing installation: httpx 0.28.0\n",
            "    Uninstalling httpx-0.28.0:\n",
            "      Successfully uninstalled httpx-0.28.0\n",
            "  Attempting uninstall: openai\n",
            "    Found existing installation: openai 1.54.5\n",
            "    Uninstalling openai-1.54.5:\n",
            "      Successfully uninstalled openai-1.54.5\n",
            "  Attempting uninstall: langchain-core\n",
            "    Found existing installation: langchain-core 0.3.21\n",
            "    Uninstalling langchain-core-0.3.21:\n",
            "      Successfully uninstalled langchain-core-0.3.21\n",
            "  Attempting uninstall: langchain\n",
            "    Found existing installation: langchain 0.3.9\n",
            "    Uninstalling langchain-0.3.9:\n",
            "      Successfully uninstalled langchain-0.3.9\n",
            "\u001b[31mERROR: pip's dependency resolver does not currently take into account all the packages that are installed. This behaviour is the source of the following dependency conflicts.\n",
            "tensorflow 2.17.1 requires protobuf!=4.21.0,!=4.21.1,!=4.21.2,!=4.21.3,!=4.21.4,!=4.21.5,<5.0.0dev,>=3.20.3, but you have protobuf 5.29.1 which is incompatible.\n",
            "tensorflow-metadata 1.13.1 requires protobuf<5,>=3.20.3, but you have protobuf 5.29.1 which is incompatible.\u001b[0m\u001b[31m\n",
            "\u001b[0mSuccessfully installed Mako-1.3.8 alembic-1.14.0 appdirs-1.4.4 asgiref-3.8.1 auth0-python-4.7.2 backoff-2.2.1 bcrypt-4.2.1 build-1.2.2.post1 chroma-hnswlib-0.7.6 chromadb-0.5.23 cohere-5.13.3 coloredlogs-15.0.1 crewai-0.86.0 crewai-tools-0.17.0 dataclasses-json-0.6.7 deprecation-2.1.0 docker-7.1.0 docx2txt-0.8 durationpy-0.9 embedchain-0.1.125 fastapi-0.115.6 fastavro-1.9.7 gptcache-0.1.44 grpcio-tools-1.68.1 h2-4.1.0 hpack-4.0.0 httptools-0.6.4 httpx-0.27.2 httpx-sse-0.4.0 humanfriendly-10.0 hyperframe-6.0.1 instructor-1.7.0 jedi-0.19.2 jiter-0.6.1 json-repair-0.30.3 jsonref-1.1.0 kubernetes-31.0.0 lancedb-0.17.0 langchain-0.3.11 langchain-cohere-0.3.3 langchain-community-0.3.11 langchain-core-0.3.24 langchain-experimental-0.3.3 langchain-openai-0.2.12 litellm-1.54.1 marshmallow-3.23.1 mem0ai-0.1.34 mmh3-5.0.1 monotonic-1.6 mypy-extensions-1.0.0 nodeenv-1.9.1 onnxruntime-1.20.1 openai-1.57.2 opentelemetry-exporter-otlp-proto-common-1.28.2 opentelemetry-exporter-otlp-proto-grpc-1.28.2 opentelemetry-exporter-otlp-proto-http-1.28.2 opentelemetry-instrumentation-0.49b2 opentelemetry-instrumentation-asgi-0.49b2 opentelemetry-instrumentation-fastapi-0.49b2 opentelemetry-proto-1.28.2 opentelemetry-util-http-0.49b2 outcome-1.3.0.post0 overrides-7.7.0 parameterized-0.9.0 pdfminer.six-20231228 pdfplumber-0.11.4 portalocker-2.10.1 posthog-3.7.4 protobuf-5.29.1 pydantic-settings-2.6.1 pylance-0.20.0 pypdf-5.1.0 pypdfium2-4.30.0 pypika-0.48.9 pyproject_hooks-1.2.0 pyright-1.1.390 pysbd-0.3.4 python-dotenv-1.0.1 pytube-15.0.0 pyvis-0.3.2 qdrant-client-1.12.1 schema-0.7.7 selenium-4.27.1 sortedcontainers-2.4.0 starlette-0.41.3 tiktoken-0.7.0 tomli-w-1.1.0 trio-0.27.0 trio-websocket-0.11.1 types-requests-2.32.0.20241016 typing-inspect-0.9.0 uv-0.5.7 uvicorn-0.32.1 uvloop-0.21.0 watchfiles-1.0.3 websockets-14.1 wsproto-1.2.0\n"
          ]
        }
      ]
    },
    {
      "cell_type": "code",
      "source": [
        "!pip install --upgrade graphlit-tools[crewai]"
      ],
      "metadata": {
        "id": "DlIzErtofaWT",
        "colab": {
          "base_uri": "https://localhost:8080/"
        },
        "outputId": "d38677a2-2430-43d7-8b15-214c199e4b6a"
      },
      "execution_count": 2,
      "outputs": [
        {
          "output_type": "stream",
          "name": "stdout",
          "text": [
            "Collecting graphlit-tools[crewai]\n",
            "  Downloading graphlit_tools-1.0.20241209001-py3-none-any.whl.metadata (2.5 kB)\n",
            "Collecting graphlit-client (from graphlit-tools[crewai])\n",
            "  Downloading graphlit_client-1.0.20241210001-py3-none-any.whl.metadata (2.7 kB)\n",
            "Requirement already satisfied: crewai-tools in /usr/local/lib/python3.10/dist-packages (from graphlit-tools[crewai]) (0.17.0)\n",
            "Requirement already satisfied: beautifulsoup4>=4.12.3 in /usr/local/lib/python3.10/dist-packages (from crewai-tools->graphlit-tools[crewai]) (4.12.3)\n",
            "Requirement already satisfied: chromadb>=0.4.22 in /usr/local/lib/python3.10/dist-packages (from crewai-tools->graphlit-tools[crewai]) (0.5.23)\n",
            "Requirement already satisfied: docker>=7.1.0 in /usr/local/lib/python3.10/dist-packages (from crewai-tools->graphlit-tools[crewai]) (7.1.0)\n",
            "Requirement already satisfied: docx2txt>=0.8 in /usr/local/lib/python3.10/dist-packages (from crewai-tools->graphlit-tools[crewai]) (0.8)\n",
            "Requirement already satisfied: embedchain>=0.1.114 in /usr/local/lib/python3.10/dist-packages (from crewai-tools->graphlit-tools[crewai]) (0.1.125)\n",
            "Requirement already satisfied: lancedb>=0.5.4 in /usr/local/lib/python3.10/dist-packages (from crewai-tools->graphlit-tools[crewai]) (0.17.0)\n",
            "Requirement already satisfied: openai>=1.12.0 in /usr/local/lib/python3.10/dist-packages (from crewai-tools->graphlit-tools[crewai]) (1.57.2)\n",
            "Requirement already satisfied: pydantic>=2.6.1 in /usr/local/lib/python3.10/dist-packages (from crewai-tools->graphlit-tools[crewai]) (2.10.3)\n",
            "Requirement already satisfied: pyright>=1.1.350 in /usr/local/lib/python3.10/dist-packages (from crewai-tools->graphlit-tools[crewai]) (1.1.390)\n",
            "Requirement already satisfied: pytest>=8.0.0 in /usr/local/lib/python3.10/dist-packages (from crewai-tools->graphlit-tools[crewai]) (8.3.4)\n",
            "Requirement already satisfied: pytube>=15.0.0 in /usr/local/lib/python3.10/dist-packages (from crewai-tools->graphlit-tools[crewai]) (15.0.0)\n",
            "Requirement already satisfied: requests>=2.31.0 in /usr/local/lib/python3.10/dist-packages (from crewai-tools->graphlit-tools[crewai]) (2.32.3)\n",
            "Requirement already satisfied: selenium>=4.18.1 in /usr/local/lib/python3.10/dist-packages (from crewai-tools->graphlit-tools[crewai]) (4.27.1)\n",
            "Requirement already satisfied: httpx in /usr/local/lib/python3.10/dist-packages (from graphlit-client->graphlit-tools[crewai]) (0.27.2)\n",
            "Requirement already satisfied: PyJWT in /usr/local/lib/python3.10/dist-packages (from graphlit-client->graphlit-tools[crewai]) (2.10.1)\n",
            "Requirement already satisfied: websockets in /usr/local/lib/python3.10/dist-packages (from graphlit-client->graphlit-tools[crewai]) (14.1)\n",
            "Requirement already satisfied: soupsieve>1.2 in /usr/local/lib/python3.10/dist-packages (from beautifulsoup4>=4.12.3->crewai-tools->graphlit-tools[crewai]) (2.6)\n",
            "Requirement already satisfied: build>=1.0.3 in /usr/local/lib/python3.10/dist-packages (from chromadb>=0.4.22->crewai-tools->graphlit-tools[crewai]) (1.2.2.post1)\n",
            "Requirement already satisfied: chroma-hnswlib==0.7.6 in /usr/local/lib/python3.10/dist-packages (from chromadb>=0.4.22->crewai-tools->graphlit-tools[crewai]) (0.7.6)\n",
            "Requirement already satisfied: fastapi>=0.95.2 in /usr/local/lib/python3.10/dist-packages (from chromadb>=0.4.22->crewai-tools->graphlit-tools[crewai]) (0.115.6)\n",
            "Requirement already satisfied: uvicorn>=0.18.3 in /usr/local/lib/python3.10/dist-packages (from uvicorn[standard]>=0.18.3->chromadb>=0.4.22->crewai-tools->graphlit-tools[crewai]) (0.32.1)\n",
            "Requirement already satisfied: numpy>=1.22.5 in /usr/local/lib/python3.10/dist-packages (from chromadb>=0.4.22->crewai-tools->graphlit-tools[crewai]) (1.26.4)\n",
            "Requirement already satisfied: posthog>=2.4.0 in /usr/local/lib/python3.10/dist-packages (from chromadb>=0.4.22->crewai-tools->graphlit-tools[crewai]) (3.7.4)\n",
            "Requirement already satisfied: typing_extensions>=4.5.0 in /usr/local/lib/python3.10/dist-packages (from chromadb>=0.4.22->crewai-tools->graphlit-tools[crewai]) (4.12.2)\n",
            "Requirement already satisfied: onnxruntime>=1.14.1 in /usr/local/lib/python3.10/dist-packages (from chromadb>=0.4.22->crewai-tools->graphlit-tools[crewai]) (1.20.1)\n",
            "Requirement already satisfied: opentelemetry-api>=1.2.0 in /usr/local/lib/python3.10/dist-packages (from chromadb>=0.4.22->crewai-tools->graphlit-tools[crewai]) (1.28.2)\n",
            "Requirement already satisfied: opentelemetry-exporter-otlp-proto-grpc>=1.2.0 in /usr/local/lib/python3.10/dist-packages (from chromadb>=0.4.22->crewai-tools->graphlit-tools[crewai]) (1.28.2)\n",
            "Requirement already satisfied: opentelemetry-instrumentation-fastapi>=0.41b0 in /usr/local/lib/python3.10/dist-packages (from chromadb>=0.4.22->crewai-tools->graphlit-tools[crewai]) (0.49b2)\n",
            "Requirement already satisfied: opentelemetry-sdk>=1.2.0 in /usr/local/lib/python3.10/dist-packages (from chromadb>=0.4.22->crewai-tools->graphlit-tools[crewai]) (1.28.2)\n",
            "Requirement already satisfied: tokenizers<=0.20.3,>=0.13.2 in /usr/local/lib/python3.10/dist-packages (from chromadb>=0.4.22->crewai-tools->graphlit-tools[crewai]) (0.20.3)\n",
            "Requirement already satisfied: pypika>=0.48.9 in /usr/local/lib/python3.10/dist-packages (from chromadb>=0.4.22->crewai-tools->graphlit-tools[crewai]) (0.48.9)\n",
            "Requirement already satisfied: tqdm>=4.65.0 in /usr/local/lib/python3.10/dist-packages (from chromadb>=0.4.22->crewai-tools->graphlit-tools[crewai]) (4.66.6)\n",
            "Requirement already satisfied: overrides>=7.3.1 in /usr/local/lib/python3.10/dist-packages (from chromadb>=0.4.22->crewai-tools->graphlit-tools[crewai]) (7.7.0)\n",
            "Requirement already satisfied: importlib-resources in /usr/local/lib/python3.10/dist-packages (from chromadb>=0.4.22->crewai-tools->graphlit-tools[crewai]) (6.4.5)\n",
            "Requirement already satisfied: grpcio>=1.58.0 in /usr/local/lib/python3.10/dist-packages (from chromadb>=0.4.22->crewai-tools->graphlit-tools[crewai]) (1.68.1)\n",
            "Requirement already satisfied: bcrypt>=4.0.1 in /usr/local/lib/python3.10/dist-packages (from chromadb>=0.4.22->crewai-tools->graphlit-tools[crewai]) (4.2.1)\n",
            "Requirement already satisfied: typer>=0.9.0 in /usr/local/lib/python3.10/dist-packages (from chromadb>=0.4.22->crewai-tools->graphlit-tools[crewai]) (0.15.0)\n",
            "Requirement already satisfied: kubernetes>=28.1.0 in /usr/local/lib/python3.10/dist-packages (from chromadb>=0.4.22->crewai-tools->graphlit-tools[crewai]) (31.0.0)\n",
            "Requirement already satisfied: tenacity>=8.2.3 in /usr/local/lib/python3.10/dist-packages (from chromadb>=0.4.22->crewai-tools->graphlit-tools[crewai]) (9.0.0)\n",
            "Requirement already satisfied: PyYAML>=6.0.0 in /usr/local/lib/python3.10/dist-packages (from chromadb>=0.4.22->crewai-tools->graphlit-tools[crewai]) (6.0.2)\n",
            "Requirement already satisfied: mmh3>=4.0.1 in /usr/local/lib/python3.10/dist-packages (from chromadb>=0.4.22->crewai-tools->graphlit-tools[crewai]) (5.0.1)\n",
            "Requirement already satisfied: orjson>=3.9.12 in /usr/local/lib/python3.10/dist-packages (from chromadb>=0.4.22->crewai-tools->graphlit-tools[crewai]) (3.10.12)\n",
            "Requirement already satisfied: rich>=10.11.0 in /usr/local/lib/python3.10/dist-packages (from chromadb>=0.4.22->crewai-tools->graphlit-tools[crewai]) (13.9.4)\n",
            "Requirement already satisfied: urllib3>=1.26.0 in /usr/local/lib/python3.10/dist-packages (from docker>=7.1.0->crewai-tools->graphlit-tools[crewai]) (2.2.3)\n",
            "Requirement already satisfied: alembic<2.0.0,>=1.13.1 in /usr/local/lib/python3.10/dist-packages (from embedchain>=0.1.114->crewai-tools->graphlit-tools[crewai]) (1.14.0)\n",
            "Requirement already satisfied: cohere<6.0,>=5.3 in /usr/local/lib/python3.10/dist-packages (from embedchain>=0.1.114->crewai-tools->graphlit-tools[crewai]) (5.13.3)\n",
            "Requirement already satisfied: google-cloud-aiplatform<2.0.0,>=1.26.1 in /usr/local/lib/python3.10/dist-packages (from embedchain>=0.1.114->crewai-tools->graphlit-tools[crewai]) (1.73.0)\n",
            "Requirement already satisfied: gptcache<0.2.0,>=0.1.43 in /usr/local/lib/python3.10/dist-packages (from embedchain>=0.1.114->crewai-tools->graphlit-tools[crewai]) (0.1.44)\n",
            "Requirement already satisfied: langchain<0.4.0,>=0.3.1 in /usr/local/lib/python3.10/dist-packages (from embedchain>=0.1.114->crewai-tools->graphlit-tools[crewai]) (0.3.11)\n",
            "Requirement already satisfied: langchain-cohere<0.4.0,>=0.3.0 in /usr/local/lib/python3.10/dist-packages (from embedchain>=0.1.114->crewai-tools->graphlit-tools[crewai]) (0.3.3)\n",
            "Requirement already satisfied: langchain-community<0.4.0,>=0.3.1 in /usr/local/lib/python3.10/dist-packages (from embedchain>=0.1.114->crewai-tools->graphlit-tools[crewai]) (0.3.11)\n",
            "Requirement already satisfied: langchain-openai<0.3.0,>=0.2.1 in /usr/local/lib/python3.10/dist-packages (from embedchain>=0.1.114->crewai-tools->graphlit-tools[crewai]) (0.2.12)\n",
            "Requirement already satisfied: langsmith<0.2.0,>=0.1.17 in /usr/local/lib/python3.10/dist-packages (from embedchain>=0.1.114->crewai-tools->graphlit-tools[crewai]) (0.1.147)\n",
            "Requirement already satisfied: mem0ai<0.2.0,>=0.1.29 in /usr/local/lib/python3.10/dist-packages (from embedchain>=0.1.114->crewai-tools->graphlit-tools[crewai]) (0.1.34)\n",
            "Requirement already satisfied: pypdf<6.0.0,>=5.0.0 in /usr/local/lib/python3.10/dist-packages (from embedchain>=0.1.114->crewai-tools->graphlit-tools[crewai]) (5.1.0)\n",
            "Requirement already satisfied: pysbd<0.4.0,>=0.3.4 in /usr/local/lib/python3.10/dist-packages (from embedchain>=0.1.114->crewai-tools->graphlit-tools[crewai]) (0.3.4)\n",
            "Requirement already satisfied: python-dotenv<2.0.0,>=1.0.0 in /usr/local/lib/python3.10/dist-packages (from embedchain>=0.1.114->crewai-tools->graphlit-tools[crewai]) (1.0.1)\n",
            "Requirement already satisfied: schema<0.8.0,>=0.7.5 in /usr/local/lib/python3.10/dist-packages (from embedchain>=0.1.114->crewai-tools->graphlit-tools[crewai]) (0.7.7)\n",
            "Requirement already satisfied: sqlalchemy<3.0.0,>=2.0.27 in /usr/local/lib/python3.10/dist-packages (from embedchain>=0.1.114->crewai-tools->graphlit-tools[crewai]) (2.0.36)\n",
            "Requirement already satisfied: tiktoken<0.8.0,>=0.7.0 in /usr/local/lib/python3.10/dist-packages (from embedchain>=0.1.114->crewai-tools->graphlit-tools[crewai]) (0.7.0)\n",
            "Requirement already satisfied: anyio in /usr/local/lib/python3.10/dist-packages (from httpx->graphlit-client->graphlit-tools[crewai]) (3.7.1)\n",
            "Requirement already satisfied: certifi in /usr/local/lib/python3.10/dist-packages (from httpx->graphlit-client->graphlit-tools[crewai]) (2024.8.30)\n",
            "Requirement already satisfied: httpcore==1.* in /usr/local/lib/python3.10/dist-packages (from httpx->graphlit-client->graphlit-tools[crewai]) (1.0.7)\n",
            "Requirement already satisfied: idna in /usr/local/lib/python3.10/dist-packages (from httpx->graphlit-client->graphlit-tools[crewai]) (3.10)\n",
            "Requirement already satisfied: sniffio in /usr/local/lib/python3.10/dist-packages (from httpx->graphlit-client->graphlit-tools[crewai]) (1.3.1)\n",
            "Requirement already satisfied: h11<0.15,>=0.13 in /usr/local/lib/python3.10/dist-packages (from httpcore==1.*->httpx->graphlit-client->graphlit-tools[crewai]) (0.14.0)\n",
            "Requirement already satisfied: deprecation in /usr/local/lib/python3.10/dist-packages (from lancedb>=0.5.4->crewai-tools->graphlit-tools[crewai]) (2.1.0)\n",
            "Requirement already satisfied: pylance==0.20.0 in /usr/local/lib/python3.10/dist-packages (from lancedb>=0.5.4->crewai-tools->graphlit-tools[crewai]) (0.20.0)\n",
            "Requirement already satisfied: packaging in /usr/local/lib/python3.10/dist-packages (from lancedb>=0.5.4->crewai-tools->graphlit-tools[crewai]) (24.2)\n",
            "Requirement already satisfied: pyarrow>=14 in /usr/local/lib/python3.10/dist-packages (from pylance==0.20.0->lancedb>=0.5.4->crewai-tools->graphlit-tools[crewai]) (17.0.0)\n",
            "Requirement already satisfied: distro<2,>=1.7.0 in /usr/local/lib/python3.10/dist-packages (from openai>=1.12.0->crewai-tools->graphlit-tools[crewai]) (1.9.0)\n",
            "Requirement already satisfied: jiter<1,>=0.4.0 in /usr/local/lib/python3.10/dist-packages (from openai>=1.12.0->crewai-tools->graphlit-tools[crewai]) (0.6.1)\n",
            "Requirement already satisfied: annotated-types>=0.6.0 in /usr/local/lib/python3.10/dist-packages (from pydantic>=2.6.1->crewai-tools->graphlit-tools[crewai]) (0.7.0)\n",
            "Requirement already satisfied: pydantic-core==2.27.1 in /usr/local/lib/python3.10/dist-packages (from pydantic>=2.6.1->crewai-tools->graphlit-tools[crewai]) (2.27.1)\n",
            "Requirement already satisfied: nodeenv>=1.6.0 in /usr/local/lib/python3.10/dist-packages (from pyright>=1.1.350->crewai-tools->graphlit-tools[crewai]) (1.9.1)\n",
            "Requirement already satisfied: exceptiongroup>=1.0.0rc8 in /usr/local/lib/python3.10/dist-packages (from pytest>=8.0.0->crewai-tools->graphlit-tools[crewai]) (1.2.2)\n",
            "Requirement already satisfied: iniconfig in /usr/local/lib/python3.10/dist-packages (from pytest>=8.0.0->crewai-tools->graphlit-tools[crewai]) (2.0.0)\n",
            "Requirement already satisfied: pluggy<2,>=1.5 in /usr/local/lib/python3.10/dist-packages (from pytest>=8.0.0->crewai-tools->graphlit-tools[crewai]) (1.5.0)\n",
            "Requirement already satisfied: tomli>=1 in /usr/local/lib/python3.10/dist-packages (from pytest>=8.0.0->crewai-tools->graphlit-tools[crewai]) (2.2.1)\n",
            "Requirement already satisfied: charset-normalizer<4,>=2 in /usr/local/lib/python3.10/dist-packages (from requests>=2.31.0->crewai-tools->graphlit-tools[crewai]) (3.4.0)\n",
            "Requirement already satisfied: trio~=0.17 in /usr/local/lib/python3.10/dist-packages (from selenium>=4.18.1->crewai-tools->graphlit-tools[crewai]) (0.27.0)\n",
            "Requirement already satisfied: trio-websocket~=0.9 in /usr/local/lib/python3.10/dist-packages (from selenium>=4.18.1->crewai-tools->graphlit-tools[crewai]) (0.11.1)\n",
            "Requirement already satisfied: websocket-client~=1.8 in /usr/local/lib/python3.10/dist-packages (from selenium>=4.18.1->crewai-tools->graphlit-tools[crewai]) (1.8.0)\n",
            "Requirement already satisfied: Mako in /usr/local/lib/python3.10/dist-packages (from alembic<2.0.0,>=1.13.1->embedchain>=0.1.114->crewai-tools->graphlit-tools[crewai]) (1.3.8)\n",
            "Requirement already satisfied: pyproject_hooks in /usr/local/lib/python3.10/dist-packages (from build>=1.0.3->chromadb>=0.4.22->crewai-tools->graphlit-tools[crewai]) (1.2.0)\n",
            "Requirement already satisfied: fastavro<2.0.0,>=1.9.4 in /usr/local/lib/python3.10/dist-packages (from cohere<6.0,>=5.3->embedchain>=0.1.114->crewai-tools->graphlit-tools[crewai]) (1.9.7)\n",
            "Requirement already satisfied: httpx-sse==0.4.0 in /usr/local/lib/python3.10/dist-packages (from cohere<6.0,>=5.3->embedchain>=0.1.114->crewai-tools->graphlit-tools[crewai]) (0.4.0)\n",
            "Requirement already satisfied: parameterized<0.10.0,>=0.9.0 in /usr/local/lib/python3.10/dist-packages (from cohere<6.0,>=5.3->embedchain>=0.1.114->crewai-tools->graphlit-tools[crewai]) (0.9.0)\n",
            "Requirement already satisfied: types-requests<3.0.0,>=2.0.0 in /usr/local/lib/python3.10/dist-packages (from cohere<6.0,>=5.3->embedchain>=0.1.114->crewai-tools->graphlit-tools[crewai]) (2.32.0.20241016)\n",
            "Requirement already satisfied: starlette<0.42.0,>=0.40.0 in /usr/local/lib/python3.10/dist-packages (from fastapi>=0.95.2->chromadb>=0.4.22->crewai-tools->graphlit-tools[crewai]) (0.41.3)\n",
            "Requirement already satisfied: google-api-core!=2.0.*,!=2.1.*,!=2.2.*,!=2.3.*,!=2.4.*,!=2.5.*,!=2.6.*,!=2.7.*,<3.0.0dev,>=1.34.1 in /usr/local/lib/python3.10/dist-packages (from google-api-core[grpc]!=2.0.*,!=2.1.*,!=2.2.*,!=2.3.*,!=2.4.*,!=2.5.*,!=2.6.*,!=2.7.*,<3.0.0dev,>=1.34.1->google-cloud-aiplatform<2.0.0,>=1.26.1->embedchain>=0.1.114->crewai-tools->graphlit-tools[crewai]) (2.19.2)\n",
            "Requirement already satisfied: google-auth<3.0.0dev,>=2.14.1 in /usr/local/lib/python3.10/dist-packages (from google-cloud-aiplatform<2.0.0,>=1.26.1->embedchain>=0.1.114->crewai-tools->graphlit-tools[crewai]) (2.27.0)\n",
            "Requirement already satisfied: proto-plus<2.0.0dev,>=1.22.3 in /usr/local/lib/python3.10/dist-packages (from google-cloud-aiplatform<2.0.0,>=1.26.1->embedchain>=0.1.114->crewai-tools->graphlit-tools[crewai]) (1.25.0)\n",
            "Requirement already satisfied: protobuf!=4.21.0,!=4.21.1,!=4.21.2,!=4.21.3,!=4.21.4,!=4.21.5,<6.0.0dev,>=3.20.2 in /usr/local/lib/python3.10/dist-packages (from google-cloud-aiplatform<2.0.0,>=1.26.1->embedchain>=0.1.114->crewai-tools->graphlit-tools[crewai]) (5.29.1)\n",
            "Requirement already satisfied: google-cloud-storage<3.0.0dev,>=1.32.0 in /usr/local/lib/python3.10/dist-packages (from google-cloud-aiplatform<2.0.0,>=1.26.1->embedchain>=0.1.114->crewai-tools->graphlit-tools[crewai]) (2.8.0)\n",
            "Requirement already satisfied: google-cloud-bigquery!=3.20.0,<4.0.0dev,>=1.15.0 in /usr/local/lib/python3.10/dist-packages (from google-cloud-aiplatform<2.0.0,>=1.26.1->embedchain>=0.1.114->crewai-tools->graphlit-tools[crewai]) (3.25.0)\n",
            "Requirement already satisfied: google-cloud-resource-manager<3.0.0dev,>=1.3.3 in /usr/local/lib/python3.10/dist-packages (from google-cloud-aiplatform<2.0.0,>=1.26.1->embedchain>=0.1.114->crewai-tools->graphlit-tools[crewai]) (1.13.1)\n",
            "Requirement already satisfied: shapely<3.0.0dev in /usr/local/lib/python3.10/dist-packages (from google-cloud-aiplatform<2.0.0,>=1.26.1->embedchain>=0.1.114->crewai-tools->graphlit-tools[crewai]) (2.0.6)\n",
            "Requirement already satisfied: docstring-parser<1 in /usr/local/lib/python3.10/dist-packages (from google-cloud-aiplatform<2.0.0,>=1.26.1->embedchain>=0.1.114->crewai-tools->graphlit-tools[crewai]) (0.16)\n",
            "Requirement already satisfied: cachetools in /usr/local/lib/python3.10/dist-packages (from gptcache<0.2.0,>=0.1.43->embedchain>=0.1.114->crewai-tools->graphlit-tools[crewai]) (5.5.0)\n",
            "Requirement already satisfied: six>=1.9.0 in /usr/local/lib/python3.10/dist-packages (from kubernetes>=28.1.0->chromadb>=0.4.22->crewai-tools->graphlit-tools[crewai]) (1.16.0)\n",
            "Requirement already satisfied: python-dateutil>=2.5.3 in /usr/local/lib/python3.10/dist-packages (from kubernetes>=28.1.0->chromadb>=0.4.22->crewai-tools->graphlit-tools[crewai]) (2.8.2)\n",
            "Requirement already satisfied: requests-oauthlib in /usr/local/lib/python3.10/dist-packages (from kubernetes>=28.1.0->chromadb>=0.4.22->crewai-tools->graphlit-tools[crewai]) (1.3.1)\n",
            "Requirement already satisfied: oauthlib>=3.2.2 in /usr/local/lib/python3.10/dist-packages (from kubernetes>=28.1.0->chromadb>=0.4.22->crewai-tools->graphlit-tools[crewai]) (3.2.2)\n",
            "Requirement already satisfied: durationpy>=0.7 in /usr/local/lib/python3.10/dist-packages (from kubernetes>=28.1.0->chromadb>=0.4.22->crewai-tools->graphlit-tools[crewai]) (0.9)\n",
            "Requirement already satisfied: aiohttp<4.0.0,>=3.8.3 in /usr/local/lib/python3.10/dist-packages (from langchain<0.4.0,>=0.3.1->embedchain>=0.1.114->crewai-tools->graphlit-tools[crewai]) (3.11.9)\n",
            "Requirement already satisfied: async-timeout<5.0.0,>=4.0.0 in /usr/local/lib/python3.10/dist-packages (from langchain<0.4.0,>=0.3.1->embedchain>=0.1.114->crewai-tools->graphlit-tools[crewai]) (4.0.3)\n",
            "Requirement already satisfied: langchain-core<0.4.0,>=0.3.24 in /usr/local/lib/python3.10/dist-packages (from langchain<0.4.0,>=0.3.1->embedchain>=0.1.114->crewai-tools->graphlit-tools[crewai]) (0.3.24)\n",
            "Requirement already satisfied: langchain-text-splitters<0.4.0,>=0.3.0 in /usr/local/lib/python3.10/dist-packages (from langchain<0.4.0,>=0.3.1->embedchain>=0.1.114->crewai-tools->graphlit-tools[crewai]) (0.3.2)\n",
            "Requirement already satisfied: langchain-experimental<0.4.0,>=0.3.0 in /usr/local/lib/python3.10/dist-packages (from langchain-cohere<0.4.0,>=0.3.0->embedchain>=0.1.114->crewai-tools->graphlit-tools[crewai]) (0.3.3)\n",
            "Requirement already satisfied: pandas>=1.4.3 in /usr/local/lib/python3.10/dist-packages (from langchain-cohere<0.4.0,>=0.3.0->embedchain>=0.1.114->crewai-tools->graphlit-tools[crewai]) (2.2.2)\n",
            "Requirement already satisfied: tabulate<0.10.0,>=0.9.0 in /usr/local/lib/python3.10/dist-packages (from langchain-cohere<0.4.0,>=0.3.0->embedchain>=0.1.114->crewai-tools->graphlit-tools[crewai]) (0.9.0)\n",
            "Requirement already satisfied: dataclasses-json<0.7,>=0.5.7 in /usr/local/lib/python3.10/dist-packages (from langchain-community<0.4.0,>=0.3.1->embedchain>=0.1.114->crewai-tools->graphlit-tools[crewai]) (0.6.7)\n",
            "Requirement already satisfied: pydantic-settings<3.0.0,>=2.4.0 in /usr/local/lib/python3.10/dist-packages (from langchain-community<0.4.0,>=0.3.1->embedchain>=0.1.114->crewai-tools->graphlit-tools[crewai]) (2.6.1)\n",
            "Requirement already satisfied: requests-toolbelt<2.0.0,>=1.0.0 in /usr/local/lib/python3.10/dist-packages (from langsmith<0.2.0,>=0.1.17->embedchain>=0.1.114->crewai-tools->graphlit-tools[crewai]) (1.0.0)\n",
            "Requirement already satisfied: pytz<2025.0,>=2024.1 in /usr/local/lib/python3.10/dist-packages (from mem0ai<0.2.0,>=0.1.29->embedchain>=0.1.114->crewai-tools->graphlit-tools[crewai]) (2024.2)\n",
            "Requirement already satisfied: qdrant-client<2.0.0,>=1.9.1 in /usr/local/lib/python3.10/dist-packages (from mem0ai<0.2.0,>=0.1.29->embedchain>=0.1.114->crewai-tools->graphlit-tools[crewai]) (1.12.1)\n",
            "Requirement already satisfied: coloredlogs in /usr/local/lib/python3.10/dist-packages (from onnxruntime>=1.14.1->chromadb>=0.4.22->crewai-tools->graphlit-tools[crewai]) (15.0.1)\n",
            "Requirement already satisfied: flatbuffers in /usr/local/lib/python3.10/dist-packages (from onnxruntime>=1.14.1->chromadb>=0.4.22->crewai-tools->graphlit-tools[crewai]) (24.3.25)\n",
            "Requirement already satisfied: sympy in /usr/local/lib/python3.10/dist-packages (from onnxruntime>=1.14.1->chromadb>=0.4.22->crewai-tools->graphlit-tools[crewai]) (1.13.1)\n",
            "Requirement already satisfied: deprecated>=1.2.6 in /usr/local/lib/python3.10/dist-packages (from opentelemetry-api>=1.2.0->chromadb>=0.4.22->crewai-tools->graphlit-tools[crewai]) (1.2.15)\n",
            "Requirement already satisfied: importlib-metadata<=8.5.0,>=6.0 in /usr/local/lib/python3.10/dist-packages (from opentelemetry-api>=1.2.0->chromadb>=0.4.22->crewai-tools->graphlit-tools[crewai]) (8.5.0)\n",
            "Requirement already satisfied: googleapis-common-protos~=1.52 in /usr/local/lib/python3.10/dist-packages (from opentelemetry-exporter-otlp-proto-grpc>=1.2.0->chromadb>=0.4.22->crewai-tools->graphlit-tools[crewai]) (1.66.0)\n",
            "Requirement already satisfied: opentelemetry-exporter-otlp-proto-common==1.28.2 in /usr/local/lib/python3.10/dist-packages (from opentelemetry-exporter-otlp-proto-grpc>=1.2.0->chromadb>=0.4.22->crewai-tools->graphlit-tools[crewai]) (1.28.2)\n",
            "Requirement already satisfied: opentelemetry-proto==1.28.2 in /usr/local/lib/python3.10/dist-packages (from opentelemetry-exporter-otlp-proto-grpc>=1.2.0->chromadb>=0.4.22->crewai-tools->graphlit-tools[crewai]) (1.28.2)\n",
            "Requirement already satisfied: opentelemetry-instrumentation-asgi==0.49b2 in /usr/local/lib/python3.10/dist-packages (from opentelemetry-instrumentation-fastapi>=0.41b0->chromadb>=0.4.22->crewai-tools->graphlit-tools[crewai]) (0.49b2)\n",
            "Requirement already satisfied: opentelemetry-instrumentation==0.49b2 in /usr/local/lib/python3.10/dist-packages (from opentelemetry-instrumentation-fastapi>=0.41b0->chromadb>=0.4.22->crewai-tools->graphlit-tools[crewai]) (0.49b2)\n",
            "Requirement already satisfied: opentelemetry-semantic-conventions==0.49b2 in /usr/local/lib/python3.10/dist-packages (from opentelemetry-instrumentation-fastapi>=0.41b0->chromadb>=0.4.22->crewai-tools->graphlit-tools[crewai]) (0.49b2)\n",
            "Requirement already satisfied: opentelemetry-util-http==0.49b2 in /usr/local/lib/python3.10/dist-packages (from opentelemetry-instrumentation-fastapi>=0.41b0->chromadb>=0.4.22->crewai-tools->graphlit-tools[crewai]) (0.49b2)\n",
            "Requirement already satisfied: wrapt<2.0.0,>=1.0.0 in /usr/local/lib/python3.10/dist-packages (from opentelemetry-instrumentation==0.49b2->opentelemetry-instrumentation-fastapi>=0.41b0->chromadb>=0.4.22->crewai-tools->graphlit-tools[crewai]) (1.17.0)\n",
            "Requirement already satisfied: asgiref~=3.0 in /usr/local/lib/python3.10/dist-packages (from opentelemetry-instrumentation-asgi==0.49b2->opentelemetry-instrumentation-fastapi>=0.41b0->chromadb>=0.4.22->crewai-tools->graphlit-tools[crewai]) (3.8.1)\n",
            "Requirement already satisfied: monotonic>=1.5 in /usr/local/lib/python3.10/dist-packages (from posthog>=2.4.0->chromadb>=0.4.22->crewai-tools->graphlit-tools[crewai]) (1.6)\n",
            "Requirement already satisfied: backoff>=1.10.0 in /usr/local/lib/python3.10/dist-packages (from posthog>=2.4.0->chromadb>=0.4.22->crewai-tools->graphlit-tools[crewai]) (2.2.1)\n",
            "Requirement already satisfied: markdown-it-py>=2.2.0 in /usr/local/lib/python3.10/dist-packages (from rich>=10.11.0->chromadb>=0.4.22->crewai-tools->graphlit-tools[crewai]) (3.0.0)\n",
            "Requirement already satisfied: pygments<3.0.0,>=2.13.0 in /usr/local/lib/python3.10/dist-packages (from rich>=10.11.0->chromadb>=0.4.22->crewai-tools->graphlit-tools[crewai]) (2.18.0)\n",
            "Requirement already satisfied: greenlet!=0.4.17 in /usr/local/lib/python3.10/dist-packages (from sqlalchemy<3.0.0,>=2.0.27->embedchain>=0.1.114->crewai-tools->graphlit-tools[crewai]) (3.1.1)\n",
            "Requirement already satisfied: regex>=2022.1.18 in /usr/local/lib/python3.10/dist-packages (from tiktoken<0.8.0,>=0.7.0->embedchain>=0.1.114->crewai-tools->graphlit-tools[crewai]) (2024.9.11)\n",
            "Requirement already satisfied: huggingface-hub<1.0,>=0.16.4 in /usr/local/lib/python3.10/dist-packages (from tokenizers<=0.20.3,>=0.13.2->chromadb>=0.4.22->crewai-tools->graphlit-tools[crewai]) (0.26.3)\n",
            "Requirement already satisfied: attrs>=23.2.0 in /usr/local/lib/python3.10/dist-packages (from trio~=0.17->selenium>=4.18.1->crewai-tools->graphlit-tools[crewai]) (24.2.0)\n",
            "Requirement already satisfied: sortedcontainers in /usr/local/lib/python3.10/dist-packages (from trio~=0.17->selenium>=4.18.1->crewai-tools->graphlit-tools[crewai]) (2.4.0)\n",
            "Requirement already satisfied: outcome in /usr/local/lib/python3.10/dist-packages (from trio~=0.17->selenium>=4.18.1->crewai-tools->graphlit-tools[crewai]) (1.3.0.post0)\n",
            "Requirement already satisfied: wsproto>=0.14 in /usr/local/lib/python3.10/dist-packages (from trio-websocket~=0.9->selenium>=4.18.1->crewai-tools->graphlit-tools[crewai]) (1.2.0)\n",
            "Requirement already satisfied: click>=8.0.0 in /usr/local/lib/python3.10/dist-packages (from typer>=0.9.0->chromadb>=0.4.22->crewai-tools->graphlit-tools[crewai]) (8.1.7)\n",
            "Requirement already satisfied: shellingham>=1.3.0 in /usr/local/lib/python3.10/dist-packages (from typer>=0.9.0->chromadb>=0.4.22->crewai-tools->graphlit-tools[crewai]) (1.5.4)\n",
            "Requirement already satisfied: pysocks!=1.5.7,<2.0,>=1.5.6 in /usr/local/lib/python3.10/dist-packages (from urllib3[socks]<3,>=1.26->selenium>=4.18.1->crewai-tools->graphlit-tools[crewai]) (1.7.1)\n",
            "Requirement already satisfied: httptools>=0.6.3 in /usr/local/lib/python3.10/dist-packages (from uvicorn[standard]>=0.18.3->chromadb>=0.4.22->crewai-tools->graphlit-tools[crewai]) (0.6.4)\n",
            "Requirement already satisfied: uvloop!=0.15.0,!=0.15.1,>=0.14.0 in /usr/local/lib/python3.10/dist-packages (from uvicorn[standard]>=0.18.3->chromadb>=0.4.22->crewai-tools->graphlit-tools[crewai]) (0.21.0)\n",
            "Requirement already satisfied: watchfiles>=0.13 in /usr/local/lib/python3.10/dist-packages (from uvicorn[standard]>=0.18.3->chromadb>=0.4.22->crewai-tools->graphlit-tools[crewai]) (1.0.3)\n",
            "Requirement already satisfied: aiohappyeyeballs>=2.3.0 in /usr/local/lib/python3.10/dist-packages (from aiohttp<4.0.0,>=3.8.3->langchain<0.4.0,>=0.3.1->embedchain>=0.1.114->crewai-tools->graphlit-tools[crewai]) (2.4.4)\n",
            "Requirement already satisfied: aiosignal>=1.1.2 in /usr/local/lib/python3.10/dist-packages (from aiohttp<4.0.0,>=3.8.3->langchain<0.4.0,>=0.3.1->embedchain>=0.1.114->crewai-tools->graphlit-tools[crewai]) (1.3.1)\n",
            "Requirement already satisfied: frozenlist>=1.1.1 in /usr/local/lib/python3.10/dist-packages (from aiohttp<4.0.0,>=3.8.3->langchain<0.4.0,>=0.3.1->embedchain>=0.1.114->crewai-tools->graphlit-tools[crewai]) (1.5.0)\n",
            "Requirement already satisfied: multidict<7.0,>=4.5 in /usr/local/lib/python3.10/dist-packages (from aiohttp<4.0.0,>=3.8.3->langchain<0.4.0,>=0.3.1->embedchain>=0.1.114->crewai-tools->graphlit-tools[crewai]) (6.1.0)\n",
            "Requirement already satisfied: propcache>=0.2.0 in /usr/local/lib/python3.10/dist-packages (from aiohttp<4.0.0,>=3.8.3->langchain<0.4.0,>=0.3.1->embedchain>=0.1.114->crewai-tools->graphlit-tools[crewai]) (0.2.1)\n",
            "Requirement already satisfied: yarl<2.0,>=1.17.0 in /usr/local/lib/python3.10/dist-packages (from aiohttp<4.0.0,>=3.8.3->langchain<0.4.0,>=0.3.1->embedchain>=0.1.114->crewai-tools->graphlit-tools[crewai]) (1.18.3)\n",
            "Requirement already satisfied: marshmallow<4.0.0,>=3.18.0 in /usr/local/lib/python3.10/dist-packages (from dataclasses-json<0.7,>=0.5.7->langchain-community<0.4.0,>=0.3.1->embedchain>=0.1.114->crewai-tools->graphlit-tools[crewai]) (3.23.1)\n",
            "Requirement already satisfied: typing-inspect<1,>=0.4.0 in /usr/local/lib/python3.10/dist-packages (from dataclasses-json<0.7,>=0.5.7->langchain-community<0.4.0,>=0.3.1->embedchain>=0.1.114->crewai-tools->graphlit-tools[crewai]) (0.9.0)\n",
            "Requirement already satisfied: grpcio-status<2.0.dev0,>=1.33.2 in /usr/local/lib/python3.10/dist-packages (from google-api-core[grpc]!=2.0.*,!=2.1.*,!=2.2.*,!=2.3.*,!=2.4.*,!=2.5.*,!=2.6.*,!=2.7.*,<3.0.0dev,>=1.34.1->google-cloud-aiplatform<2.0.0,>=1.26.1->embedchain>=0.1.114->crewai-tools->graphlit-tools[crewai]) (1.62.3)\n",
            "Requirement already satisfied: pyasn1-modules>=0.2.1 in /usr/local/lib/python3.10/dist-packages (from google-auth<3.0.0dev,>=2.14.1->google-cloud-aiplatform<2.0.0,>=1.26.1->embedchain>=0.1.114->crewai-tools->graphlit-tools[crewai]) (0.4.1)\n",
            "Requirement already satisfied: rsa<5,>=3.1.4 in /usr/local/lib/python3.10/dist-packages (from google-auth<3.0.0dev,>=2.14.1->google-cloud-aiplatform<2.0.0,>=1.26.1->embedchain>=0.1.114->crewai-tools->graphlit-tools[crewai]) (4.9)\n",
            "Requirement already satisfied: google-cloud-core<3.0.0dev,>=1.6.0 in /usr/local/lib/python3.10/dist-packages (from google-cloud-bigquery!=3.20.0,<4.0.0dev,>=1.15.0->google-cloud-aiplatform<2.0.0,>=1.26.1->embedchain>=0.1.114->crewai-tools->graphlit-tools[crewai]) (2.4.1)\n",
            "Requirement already satisfied: google-resumable-media<3.0dev,>=0.6.0 in /usr/local/lib/python3.10/dist-packages (from google-cloud-bigquery!=3.20.0,<4.0.0dev,>=1.15.0->google-cloud-aiplatform<2.0.0,>=1.26.1->embedchain>=0.1.114->crewai-tools->graphlit-tools[crewai]) (2.7.2)\n",
            "Requirement already satisfied: grpc-google-iam-v1<1.0.0dev,>=0.12.4 in /usr/local/lib/python3.10/dist-packages (from google-cloud-resource-manager<3.0.0dev,>=1.3.3->google-cloud-aiplatform<2.0.0,>=1.26.1->embedchain>=0.1.114->crewai-tools->graphlit-tools[crewai]) (0.13.1)\n",
            "Requirement already satisfied: filelock in /usr/local/lib/python3.10/dist-packages (from huggingface-hub<1.0,>=0.16.4->tokenizers<=0.20.3,>=0.13.2->chromadb>=0.4.22->crewai-tools->graphlit-tools[crewai]) (3.16.1)\n",
            "Requirement already satisfied: fsspec>=2023.5.0 in /usr/local/lib/python3.10/dist-packages (from huggingface-hub<1.0,>=0.16.4->tokenizers<=0.20.3,>=0.13.2->chromadb>=0.4.22->crewai-tools->graphlit-tools[crewai]) (2024.10.0)\n",
            "Requirement already satisfied: zipp>=3.20 in /usr/local/lib/python3.10/dist-packages (from importlib-metadata<=8.5.0,>=6.0->opentelemetry-api>=1.2.0->chromadb>=0.4.22->crewai-tools->graphlit-tools[crewai]) (3.21.0)\n",
            "Requirement already satisfied: jsonpatch<2.0,>=1.33 in /usr/local/lib/python3.10/dist-packages (from langchain-core<0.4.0,>=0.3.24->langchain<0.4.0,>=0.3.1->embedchain>=0.1.114->crewai-tools->graphlit-tools[crewai]) (1.33)\n",
            "Requirement already satisfied: mdurl~=0.1 in /usr/local/lib/python3.10/dist-packages (from markdown-it-py>=2.2.0->rich>=10.11.0->chromadb>=0.4.22->crewai-tools->graphlit-tools[crewai]) (0.1.2)\n",
            "Requirement already satisfied: tzdata>=2022.7 in /usr/local/lib/python3.10/dist-packages (from pandas>=1.4.3->langchain-cohere<0.4.0,>=0.3.0->embedchain>=0.1.114->crewai-tools->graphlit-tools[crewai]) (2024.2)\n",
            "Requirement already satisfied: grpcio-tools>=1.41.0 in /usr/local/lib/python3.10/dist-packages (from qdrant-client<2.0.0,>=1.9.1->mem0ai<0.2.0,>=0.1.29->embedchain>=0.1.114->crewai-tools->graphlit-tools[crewai]) (1.68.1)\n",
            "Requirement already satisfied: portalocker<3.0.0,>=2.7.0 in /usr/local/lib/python3.10/dist-packages (from qdrant-client<2.0.0,>=1.9.1->mem0ai<0.2.0,>=0.1.29->embedchain>=0.1.114->crewai-tools->graphlit-tools[crewai]) (2.10.1)\n",
            "Requirement already satisfied: humanfriendly>=9.1 in /usr/local/lib/python3.10/dist-packages (from coloredlogs->onnxruntime>=1.14.1->chromadb>=0.4.22->crewai-tools->graphlit-tools[crewai]) (10.0)\n",
            "Requirement already satisfied: MarkupSafe>=0.9.2 in /usr/local/lib/python3.10/dist-packages (from Mako->alembic<2.0.0,>=1.13.1->embedchain>=0.1.114->crewai-tools->graphlit-tools[crewai]) (3.0.2)\n",
            "Requirement already satisfied: mpmath<1.4,>=1.1.0 in /usr/local/lib/python3.10/dist-packages (from sympy->onnxruntime>=1.14.1->chromadb>=0.4.22->crewai-tools->graphlit-tools[crewai]) (1.3.0)\n",
            "Requirement already satisfied: google-crc32c<2.0dev,>=1.0 in /usr/local/lib/python3.10/dist-packages (from google-resumable-media<3.0dev,>=0.6.0->google-cloud-bigquery!=3.20.0,<4.0.0dev,>=1.15.0->google-cloud-aiplatform<2.0.0,>=1.26.1->embedchain>=0.1.114->crewai-tools->graphlit-tools[crewai]) (1.6.0)\n",
            "Requirement already satisfied: setuptools in /usr/local/lib/python3.10/dist-packages (from grpcio-tools>=1.41.0->qdrant-client<2.0.0,>=1.9.1->mem0ai<0.2.0,>=0.1.29->embedchain>=0.1.114->crewai-tools->graphlit-tools[crewai]) (75.1.0)\n",
            "Requirement already satisfied: h2<5,>=3 in /usr/local/lib/python3.10/dist-packages (from httpx[http2]>=0.20.0->qdrant-client<2.0.0,>=1.9.1->mem0ai<0.2.0,>=0.1.29->embedchain>=0.1.114->crewai-tools->graphlit-tools[crewai]) (4.1.0)\n",
            "Requirement already satisfied: jsonpointer>=1.9 in /usr/local/lib/python3.10/dist-packages (from jsonpatch<2.0,>=1.33->langchain-core<0.4.0,>=0.3.24->langchain<0.4.0,>=0.3.1->embedchain>=0.1.114->crewai-tools->graphlit-tools[crewai]) (3.0.0)\n",
            "Requirement already satisfied: pyasn1<0.7.0,>=0.4.6 in /usr/local/lib/python3.10/dist-packages (from pyasn1-modules>=0.2.1->google-auth<3.0.0dev,>=2.14.1->google-cloud-aiplatform<2.0.0,>=1.26.1->embedchain>=0.1.114->crewai-tools->graphlit-tools[crewai]) (0.6.1)\n",
            "Requirement already satisfied: mypy-extensions>=0.3.0 in /usr/local/lib/python3.10/dist-packages (from typing-inspect<1,>=0.4.0->dataclasses-json<0.7,>=0.5.7->langchain-community<0.4.0,>=0.3.1->embedchain>=0.1.114->crewai-tools->graphlit-tools[crewai]) (1.0.0)\n",
            "Requirement already satisfied: hyperframe<7,>=6.0 in /usr/local/lib/python3.10/dist-packages (from h2<5,>=3->httpx[http2]>=0.20.0->qdrant-client<2.0.0,>=1.9.1->mem0ai<0.2.0,>=0.1.29->embedchain>=0.1.114->crewai-tools->graphlit-tools[crewai]) (6.0.1)\n",
            "Requirement already satisfied: hpack<5,>=4.0 in /usr/local/lib/python3.10/dist-packages (from h2<5,>=3->httpx[http2]>=0.20.0->qdrant-client<2.0.0,>=1.9.1->mem0ai<0.2.0,>=0.1.29->embedchain>=0.1.114->crewai-tools->graphlit-tools[crewai]) (4.0.0)\n",
            "Downloading graphlit_client-1.0.20241210001-py3-none-any.whl (225 kB)\n",
            "\u001b[2K   \u001b[90m━━━━━━━━━━━━━━━━━━━━━━━━━━━━━━━━━━━━━━━━\u001b[0m \u001b[32m225.8/225.8 kB\u001b[0m \u001b[31m4.0 MB/s\u001b[0m eta \u001b[36m0:00:00\u001b[0m\n",
            "\u001b[?25hDownloading graphlit_tools-1.0.20241209001-py3-none-any.whl (58 kB)\n",
            "\u001b[2K   \u001b[90m━━━━━━━━━━━━━━━━━━━━━━━━━━━━━━━━━━━━━━━━\u001b[0m \u001b[32m58.7/58.7 kB\u001b[0m \u001b[31m2.2 MB/s\u001b[0m eta \u001b[36m0:00:00\u001b[0m\n",
            "\u001b[?25hInstalling collected packages: graphlit-client, graphlit-tools\n",
            "Successfully installed graphlit-client-1.0.20241210001 graphlit-tools-1.0.20241209001\n"
          ]
        }
      ]
    },
    {
      "cell_type": "markdown",
      "source": [
        "Clone the original repo to access the PDFs"
      ],
      "metadata": {
        "id": "LgvjqV-Y5GKo"
      }
    },
    {
      "cell_type": "code",
      "source": [
        "!rm -rf azure-ai-search-python-playground\n",
        "!git clone https://github.com/farzad528/azure-ai-search-python-playground"
      ],
      "metadata": {
        "id": "wx1jyCbfeNU9",
        "colab": {
          "base_uri": "https://localhost:8080/"
        },
        "outputId": "d0af8db7-392d-4b15-8d8f-c66e4ee710ae"
      },
      "execution_count": 3,
      "outputs": [
        {
          "output_type": "stream",
          "name": "stdout",
          "text": [
            "Cloning into 'azure-ai-search-python-playground'...\n",
            "remote: Enumerating objects: 1068, done.\u001b[K\n",
            "remote: Counting objects: 100% (121/121), done.\u001b[K\n",
            "remote: Compressing objects: 100% (80/80), done.\u001b[K\n",
            "remote: Total 1068 (delta 58), reused 100 (delta 41), pack-reused 947 (from 1)\u001b[K\n",
            "Receiving objects: 100% (1068/1068), 289.17 MiB | 16.36 MiB/s, done.\n",
            "Resolving deltas: 100% (204/204), done.\n",
            "Updating files: 100% (96/96), done.\n"
          ]
        }
      ]
    },
    {
      "cell_type": "markdown",
      "source": [
        "Initialize Graphlit"
      ],
      "metadata": {
        "id": "XqGt4RCaagNv"
      }
    },
    {
      "cell_type": "code",
      "source": [
        "import os\n",
        "from google.colab import userdata\n",
        "from graphlit import Graphlit\n",
        "from graphlit_api import input_types, enums, exceptions\n",
        "\n",
        "os.environ['GRAPHLIT_ORGANIZATION_ID'] = userdata.get('GRAPHLIT_ORGANIZATION_ID')\n",
        "os.environ['GRAPHLIT_ENVIRONMENT_ID'] = userdata.get('GRAPHLIT_ENVIRONMENT_ID')\n",
        "os.environ['GRAPHLIT_JWT_SECRET'] = userdata.get('GRAPHLIT_JWT_SECRET')\n",
        "\n",
        "graphlit = Graphlit()"
      ],
      "metadata": {
        "id": "eF6MdPG4aWc7"
      },
      "execution_count": 4,
      "outputs": []
    },
    {
      "cell_type": "markdown",
      "source": [
        "Initialize sample data"
      ],
      "metadata": {
        "id": "rKo8ZqoS5vnD"
      }
    },
    {
      "cell_type": "code",
      "source": [
        "DATA_DIRECTORY = \"azure-ai-search-python-playground\"\n",
        "\n",
        "PATH_PDFS = DATA_DIRECTORY + \"/data/acc/\""
      ],
      "metadata": {
        "id": "bqzYqYXvf5VA"
      },
      "execution_count": 5,
      "outputs": []
    },
    {
      "cell_type": "markdown",
      "source": [
        "Define Graphlit helper functions"
      ],
      "metadata": {
        "id": "PWRSPFD51pMR"
      }
    },
    {
      "cell_type": "code",
      "source": [
        "import base64\n",
        "import mimetypes\n",
        "import asyncio\n",
        "import time\n",
        "from typing import List, Optional\n",
        "from tqdm.asyncio import tqdm\n",
        "\n",
        "async def process_file(filename, progress_bar):\n",
        "    pdf_path = os.path.join(PATH_PDFS, filename)\n",
        "\n",
        "    print(f'Starting to ingest content from [{pdf_path}].')\n",
        "\n",
        "    content_id = await ingest_file(pdf_path)\n",
        "\n",
        "    if content_id is not None:\n",
        "        print(f'Completed ingesting content [{content_id}] from [{pdf_path}].')\n",
        "\n",
        "    progress_bar.update(1)\n",
        "\n",
        "# NOTE: for local files, load from disk and convert to Base64 data\n",
        "async def ingest_file(file_path: str):\n",
        "    if graphlit.client is None:\n",
        "        return;\n",
        "\n",
        "    try:\n",
        "        file_name = os.path.basename(file_path)\n",
        "        content_name, _ = os.path.splitext(file_name)\n",
        "\n",
        "        mime_type = mimetypes.guess_type(file_name)[0]\n",
        "\n",
        "        if mime_type is None:\n",
        "            print('Failed to infer MIME type')\n",
        "            return None\n",
        "\n",
        "        with open(file_path, \"rb\") as file:\n",
        "            file_content = file.read()\n",
        "\n",
        "        base64_content = base64.b64encode(file_content).decode('utf-8')\n",
        "\n",
        "        response = await graphlit.client.ingest_encoded_file(content_name, base64_content, mime_type, is_synchronous=True)\n",
        "\n",
        "        return response.ingest_encoded_file.id if response.ingest_encoded_file is not None else None\n",
        "    except exceptions.GraphQLClientError as e:\n",
        "        print(str(e))\n",
        "        return None\n",
        "\n",
        "async def create_openai_specification(model: enums.OpenAIModels):\n",
        "    if graphlit.client is None:\n",
        "        return;\n",
        "\n",
        "    input = input_types.SpecificationInput(\n",
        "        name=f\"OpenAI [{str(model)}]\",\n",
        "        type=enums.SpecificationTypes.COMPLETION,\n",
        "        serviceType=enums.ModelServiceTypes.OPEN_AI,\n",
        "        openAI=input_types.OpenAIModelPropertiesInput(\n",
        "            model=model,\n",
        "        ),\n",
        "        strategy=input_types.ConversationStrategyInput(\n",
        "            embedCitations=True\n",
        "        ),\n",
        "        retrievalStrategy=input_types.RetrievalStrategyInput(\n",
        "            type=enums.RetrievalStrategyTypes.SECTION\n",
        "        ),\n",
        "        rerankingStrategy=input_types.RerankingStrategyInput(\n",
        "            serviceType=enums.RerankingModelServiceTypes.COHERE\n",
        "        )\n",
        "    )\n",
        "\n",
        "    try:\n",
        "        response = await graphlit.client.create_specification(input)\n",
        "\n",
        "        return response.create_specification.id if response.create_specification is not None else None\n",
        "    except exceptions.GraphQLClientError as e:\n",
        "        print(str(e))\n",
        "        return None\n",
        "\n",
        "    return None\n",
        "\n",
        "async def create_conversation(specification_id: str):\n",
        "    if graphlit.client is None:\n",
        "        return;\n",
        "\n",
        "    input = input_types.ConversationInput(\n",
        "        name=\"Conversation\",\n",
        "        specification=input_types.EntityReferenceInput(\n",
        "            id=specification_id\n",
        "        )\n",
        "    )\n",
        "\n",
        "    try:\n",
        "        response = await graphlit.client.create_conversation(input)\n",
        "\n",
        "        return response.create_conversation.id if response.create_conversation is not None else None\n",
        "    except exceptions.GraphQLClientError as e:\n",
        "        print(str(e))\n",
        "        return None\n",
        "\n",
        "async def prompt_conversation(conversation_id: str, prompt: str):\n",
        "    if graphlit.client is None:\n",
        "        return None, None\n",
        "\n",
        "    try:\n",
        "        response = await graphlit.client.prompt_conversation(prompt, conversation_id)\n",
        "\n",
        "        message = response.prompt_conversation.message.message if response.prompt_conversation is not None and response.prompt_conversation.message is not None else None\n",
        "        citations = response.prompt_conversation.message.citations if response.prompt_conversation is not None and response.prompt_conversation.message is not None else None\n",
        "\n",
        "        return message, citations\n",
        "    except exceptions.GraphQLClientError as e:\n",
        "        print(str(e))\n",
        "        return None, None\n",
        "\n",
        "# NOTE: these functions are just used to clean-up old data before executing the example\n",
        "async def delete_all_specifications():\n",
        "    if graphlit.client is None:\n",
        "        return;\n",
        "\n",
        "    _ = await graphlit.client.delete_all_specifications(is_synchronous=True)\n",
        "\n",
        "async def delete_all_conversations():\n",
        "    if graphlit.client is None:\n",
        "        return;\n",
        "\n",
        "    _ = await graphlit.client.delete_all_conversations(is_synchronous=True)\n",
        "\n",
        "async def delete_all_contents():\n",
        "    if graphlit.client is None:\n",
        "        return;\n",
        "\n",
        "    _ = await graphlit.client.delete_all_contents(is_synchronous=True)"
      ],
      "metadata": {
        "id": "cJFYJ0091rKj"
      },
      "execution_count": 6,
      "outputs": []
    },
    {
      "cell_type": "markdown",
      "source": [
        "Ingest sample PDFs"
      ],
      "metadata": {
        "id": "PEmBPRxG17IP"
      }
    },
    {
      "cell_type": "code",
      "source": [
        "import nest_asyncio\n",
        "\n",
        "nest_asyncio.apply()"
      ],
      "metadata": {
        "id": "in-I4uU73xv1"
      },
      "execution_count": 7,
      "outputs": []
    },
    {
      "cell_type": "code",
      "source": [
        "# Remove any existing contents; only needed for notebook example\n",
        "await delete_all_contents()\n",
        "\n",
        "print('Deleted all contents.')\n",
        "\n",
        "# List of files to process\n",
        "files = os.listdir(PATH_PDFS)\n",
        "\n",
        "progress_bar = tqdm(total=len(files))\n",
        "\n",
        "tasks = [process_file(filename, progress_bar) for filename in files]\n",
        "\n",
        "await asyncio.gather(*tasks)\n",
        "\n",
        "print('Ingested all contents.')"
      ],
      "metadata": {
        "id": "Zg9Nb0XR13uL",
        "colab": {
          "base_uri": "https://localhost:8080/"
        },
        "outputId": "947ccd2b-3e7d-4362-a5b9-055e2be0caab"
      },
      "execution_count": 8,
      "outputs": [
        {
          "output_type": "stream",
          "name": "stdout",
          "text": [
            "Deleted all contents.\n"
          ]
        },
        {
          "output_type": "stream",
          "name": "stderr",
          "text": [
            "\r  0%|          | 0/36 [00:00<?, ?it/s]"
          ]
        },
        {
          "output_type": "stream",
          "name": "stdout",
          "text": [
            "Starting to ingest content from [azure-ai-search-python-playground/data/acc/shen-et-al-2017-2017-acc-aha-hrs-guideline-for-the-evaluation-and-management-of-patients-with-syncope.pdf].\n",
            "Starting to ingest content from [azure-ai-search-python-playground/data/acc/epstein-et-al-2008-acc-aha-hrs-2008-guidelines-for-device-based-therapy-of-cardiac-rhythm-abnormalities.pdf].\n",
            "Starting to ingest content from [azure-ai-search-python-playground/data/acc/halperin-et-al-2015-further-evolution-of-the-acc-aha-clinical-practice-guideline-recommendation-classification-system.pdf].\n",
            "Starting to ingest content from [azure-ai-search-python-playground/data/acc/o-gara-et-al-2012-2013-accf-aha-guideline-for-the-management-of-st-elevation-myocardial-infarction.pdf].\n",
            "Starting to ingest content from [azure-ai-search-python-playground/data/acc/grundy-et-al-2018-2018-aha-acc-aacvpr-aapa-abc-acpm-ada-ags-apha-aspc-nla-pcna-guideline-on-the-management-of-blood.pdf].\n",
            "Starting to ingest content from [azure-ai-search-python-playground/data/acc/al-khatib-et-al-2018-2017-aha-acc-hrs-guideline-for-management-of-patients-with-ventricular-arrhythmias-and-the.pdf].\n",
            "Starting to ingest content from [azure-ai-search-python-playground/data/acc/page-et-al-2015-2015-acc-aha-hrs-guideline-for-the-management-of-adult-patients-with-supraventricular-tachycardia.pdf].\n",
            "Starting to ingest content from [azure-ai-search-python-playground/data/acc/jensen-et-al-2013-2013-aha-acc-tos-guideline-for-the-management-of-overweight-and-obesity-in-adults.pdf].\n",
            "Starting to ingest content from [azure-ai-search-python-playground/data/acc/chan-et-al-2017-acc-aha-special-report-clinical-practice-guideline-implementation-strategies-a-summary-of-systematic.pdf].\n",
            "Starting to ingest content from [azure-ai-search-python-playground/data/acc/gornik-et-al-2024-2024-acc-aha-aacvpr-apma-abc-scai-svm-svn-svs-sir-vess-guideline-for-the-management-of-lower.pdf].\n",
            "Starting to ingest content from [azure-ai-search-python-playground/data/acc/anderson-et-al-2014-acc-aha-statement-on-cost-value-methodology-in-clinical-practice-guidelines-and-performance-measures.pdf].\n",
            "Starting to ingest content from [azure-ai-search-python-playground/data/acc/anderson-et-al-2013-management-of-patients-with-peripheral-artery-disease-(compilation-of-2005-and-2011-accf-aha.pdf].\n",
            "Starting to ingest content from [azure-ai-search-python-playground/data/acc/levine-et-al-2019-recent-innovations-modifications-and-evolution-of-acc-aha-clinical-practice-guidelines-an-update-for.pdf].\n",
            "Starting to ingest content from [azure-ai-search-python-playground/data/acc/whelton-et-al-2017-2017-acc-aha-aapa-abc-acpm-ags-apha-ash-aspc-nma-pcna-guideline-for-the-prevention-detection.pdf].\n",
            "Starting to ingest content from [azure-ai-search-python-playground/data/acc/fleisher-et-al-2014-2014-acc-aha-guideline-on-perioperative-cardiovascular-evaluation-and-management-of-patients.pdf].\n",
            "Starting to ingest content from [azure-ai-search-python-playground/data/acc/goff-et-al-2013-2013-acc-aha-guideline-on-the-assessment-of-cardiovascular-risk.pdf].\n",
            "Starting to ingest content from [azure-ai-search-python-playground/data/acc/levine-et-al-2016-2016-acc-aha-guideline-focused-update-on-duration-of-dual-antiplatelet-therapy-in-patients-with.pdf].\n",
            "Starting to ingest content from [azure-ai-search-python-playground/data/acc/kusumoto-et-al-2018-2018-acc-aha-hrs-guideline-on-the-evaluation-and-management-of-patients-with-bradycardia-and.pdf].\n",
            "Starting to ingest content from [azure-ai-search-python-playground/data/acc/brott-et-al-2011-2011-asa-accf-aha-aann-aans-acr-asnr-cns-saip-scai-sir-snis-svm-svs-guideline-on-the-management-of.pdf].\n",
            "Starting to ingest content from [azure-ai-search-python-playground/data/acc/mosca-et-al-2011-effectiveness-based-guidelines-for-the-prevention-of-cardiovascular-disease-in-women-2011-update.pdf].\n",
            "Starting to ingest content from [azure-ai-search-python-playground/data/acc/virani-et-al-2023-2023-aha-acc-accp-aspc-nla-pcna-guideline-for-the-management-of-patients-with-chronic-coronary-disease.pdf].\n",
            "Starting to ingest content from [azure-ai-search-python-playground/data/acc/jacobs-et-al-2012-accf-aha-clinical-practice-guideline-methodology-summit-report.pdf].\n",
            "Starting to ingest content from [azure-ai-search-python-playground/data/acc/heidenreich-et-al-2022-2022-aha-acc-hfsa-guideline-for-the-management-of-heart-failure.pdf].\n",
            "Starting to ingest content from [azure-ai-search-python-playground/data/acc/stout-et-al-2018-2018-aha-acc-guideline-for-the-management-of-adults-with-congenital-heart-disease.pdf].\n",
            "Starting to ingest content from [azure-ai-search-python-playground/data/acc/gulati-et-al-2021-2021-aha-acc-ase-chest-saem-scct-scmr-guideline-for-the-evaluation-and-diagnosis-of-chest-pain.pdf].\n",
            "Starting to ingest content from [azure-ai-search-python-playground/data/acc/smith-et-al-2011-aha-accf-secondary-prevention-and-risk-reduction-therapy-for-patients-with-coronary-and-other.pdf].\n",
            "Starting to ingest content from [azure-ai-search-python-playground/data/acc/amsterdam-et-al-2014-2014-aha-acc-guideline-for-the-management-of-patients-with-non-st-elevation-acute-coronary.pdf].\n",
            "Starting to ingest content from [azure-ai-search-python-playground/data/acc/otto-et-al-2020-2020-acc-aha-guideline-for-the-management-of-patients-with-valvular-heart-disease.pdf].\n",
            "Starting to ingest content from [azure-ai-search-python-playground/data/acc/Methodology Practice Guidelines.pdf].\n",
            "Starting to ingest content from [azure-ai-search-python-playground/data/acc/ommen-et-al-2024-2024-aha-acc-amssm-hrs-paces-scmr-guideline-for-the-management-of-hypertrophic-cardiomyopathy.pdf].\n",
            "Starting to ingest content from [azure-ai-search-python-playground/data/acc/arnett-et-al-2019-2019-acc-aha-guideline-on-the-primary-prevention-of-cardiovascular-disease.pdf].\n",
            "Starting to ingest content from [azure-ai-search-python-playground/data/acc/eckel-et-al-2013-2013-aha-acc-guideline-on-lifestyle-management-to-reduce-cardiovascular-risk.pdf].\n",
            "Starting to ingest content from [azure-ai-search-python-playground/data/acc/isselbacher-et-al-2022-2022-acc-aha-guideline-for-the-diagnosis-and-management-of-aortic-disease.pdf].\n",
            "Starting to ingest content from [azure-ai-search-python-playground/data/acc/arnett-et-al-2014-aha-acc-hhs-strategies-to-enhance-application-of-clinical-practice-guidelines-in-patients-with.pdf].\n",
            "Starting to ingest content from [azure-ai-search-python-playground/data/acc/lawton-et-al-2021-2021-acc-aha-scai-guideline-for-coronary-artery-revascularization.pdf].\n",
            "Starting to ingest content from [azure-ai-search-python-playground/data/acc/jacobs-et-al-2014-the-evolution-and-future-of-acc-aha-clinical-practice-guidelines-a-30-year-journey.pdf].\n"
          ]
        },
        {
          "output_type": "stream",
          "name": "stderr",
          "text": [
            "  6%|▌         | 2/36 [00:20<04:42,  8.32s/it]"
          ]
        },
        {
          "output_type": "stream",
          "name": "stdout",
          "text": [
            "Completed ingesting content [9441e59b-e072-404d-8f0e-624d7358a37d] from [azure-ai-search-python-playground/data/acc/arnett-et-al-2014-aha-acc-hhs-strategies-to-enhance-application-of-clinical-practice-guidelines-in-patients-with.pdf].\n",
            "Completed ingesting content [788c2c3a-9804-4c80-bfed-c19b28bc3482] from [azure-ai-search-python-playground/data/acc/anderson-et-al-2013-management-of-patients-with-peripheral-artery-disease-(compilation-of-2005-and-2011-accf-aha.pdf].\n"
          ]
        },
        {
          "output_type": "stream",
          "name": "stderr",
          "text": [
            "\r  8%|▊         | 3/36 [00:20<02:36,  4.75s/it]"
          ]
        },
        {
          "output_type": "stream",
          "name": "stdout",
          "text": [
            "Completed ingesting content [f35a29d4-10a4-4fb9-a0aa-aab47dafed72] from [azure-ai-search-python-playground/data/acc/levine-et-al-2019-recent-innovations-modifications-and-evolution-of-acc-aha-clinical-practice-guidelines-an-update-for.pdf].\n"
          ]
        },
        {
          "output_type": "stream",
          "name": "stderr",
          "text": [
            "\r 11%|█         | 4/36 [00:25<02:28,  4.65s/it]"
          ]
        },
        {
          "output_type": "stream",
          "name": "stdout",
          "text": [
            "Completed ingesting content [098a7169-1ff5-4cfe-97ab-7871d9bb91bf] from [azure-ai-search-python-playground/data/acc/smith-et-al-2011-aha-accf-secondary-prevention-and-risk-reduction-therapy-for-patients-with-coronary-and-other.pdf].\n"
          ]
        },
        {
          "output_type": "stream",
          "name": "stderr",
          "text": [
            "\r 14%|█▍        | 5/36 [00:25<01:35,  3.09s/it]"
          ]
        },
        {
          "output_type": "stream",
          "name": "stdout",
          "text": [
            "Completed ingesting content [abc4525c-8700-452e-a3b2-1e6237111d5c] from [azure-ai-search-python-playground/data/acc/chan-et-al-2017-acc-aha-special-report-clinical-practice-guideline-implementation-strategies-a-summary-of-systematic.pdf].\n"
          ]
        },
        {
          "output_type": "stream",
          "name": "stderr",
          "text": [
            "\r 17%|█▋        | 6/36 [00:25<01:05,  2.17s/it]"
          ]
        },
        {
          "output_type": "stream",
          "name": "stdout",
          "text": [
            "Completed ingesting content [0a2d1e75-aa2f-4279-bbab-db1560e91b53] from [azure-ai-search-python-playground/data/acc/halperin-et-al-2015-further-evolution-of-the-acc-aha-clinical-practice-guideline-recommendation-classification-system.pdf].\n"
          ]
        },
        {
          "output_type": "stream",
          "name": "stderr",
          "text": [
            "\r 19%|█▉        | 7/36 [00:26<00:44,  1.55s/it]"
          ]
        },
        {
          "output_type": "stream",
          "name": "stdout",
          "text": [
            "Completed ingesting content [ecb08a74-623b-4103-8e5c-5aafa58f9ee7] from [azure-ai-search-python-playground/data/acc/eckel-et-al-2013-2013-aha-acc-guideline-on-lifestyle-management-to-reduce-cardiovascular-risk.pdf].\n"
          ]
        },
        {
          "output_type": "stream",
          "name": "stderr",
          "text": [
            "\r 22%|██▏       | 8/36 [00:27<00:38,  1.36s/it]"
          ]
        },
        {
          "output_type": "stream",
          "name": "stdout",
          "text": [
            "Completed ingesting content [e5fc56c5-3323-4a40-8980-9f20642c7f87] from [azure-ai-search-python-playground/data/acc/jacobs-et-al-2014-the-evolution-and-future-of-acc-aha-clinical-practice-guidelines-a-30-year-journey.pdf].\n"
          ]
        },
        {
          "output_type": "stream",
          "name": "stderr",
          "text": [
            "\r 25%|██▌       | 9/36 [00:27<00:29,  1.08s/it]"
          ]
        },
        {
          "output_type": "stream",
          "name": "stdout",
          "text": [
            "Completed ingesting content [e09e627a-a75c-45e5-a627-e3ab1c1e10a4] from [azure-ai-search-python-playground/data/acc/anderson-et-al-2014-acc-aha-statement-on-cost-value-methodology-in-clinical-practice-guidelines-and-performance-measures.pdf].\n"
          ]
        },
        {
          "output_type": "stream",
          "name": "stderr",
          "text": [
            "\r 28%|██▊       | 10/36 [00:30<00:40,  1.54s/it]"
          ]
        },
        {
          "output_type": "stream",
          "name": "stdout",
          "text": [
            "Completed ingesting content [ac3e4913-caa2-442c-a453-603c3db9833b] from [azure-ai-search-python-playground/data/acc/mosca-et-al-2011-effectiveness-based-guidelines-for-the-prevention-of-cardiovascular-disease-in-women-2011-update.pdf].\n"
          ]
        },
        {
          "output_type": "stream",
          "name": "stderr",
          "text": [
            "\r 31%|███       | 11/36 [00:31<00:35,  1.42s/it]"
          ]
        },
        {
          "output_type": "stream",
          "name": "stdout",
          "text": [
            "Completed ingesting content [bbce9656-acc8-4556-b303-8602b39143f6] from [azure-ai-search-python-playground/data/acc/goff-et-al-2013-2013-acc-aha-guideline-on-the-assessment-of-cardiovascular-risk.pdf].\n"
          ]
        },
        {
          "output_type": "stream",
          "name": "stderr",
          "text": [
            "\r 33%|███▎      | 12/36 [00:35<00:52,  2.20s/it]"
          ]
        },
        {
          "output_type": "stream",
          "name": "stdout",
          "text": [
            "Completed ingesting content [e6272b11-b369-4ca0-b894-ef35af256054] from [azure-ai-search-python-playground/data/acc/shen-et-al-2017-2017-acc-aha-hrs-guideline-for-the-evaluation-and-management-of-patients-with-syncope.pdf].\n"
          ]
        },
        {
          "output_type": "stream",
          "name": "stderr",
          "text": [
            "\r 36%|███▌      | 13/36 [00:36<00:42,  1.83s/it]"
          ]
        },
        {
          "output_type": "stream",
          "name": "stdout",
          "text": [
            "Completed ingesting content [1c8d9317-6875-40d8-9923-5fed0173b606] from [azure-ai-search-python-playground/data/acc/jacobs-et-al-2012-accf-aha-clinical-practice-guideline-methodology-summit-report.pdf].\n"
          ]
        },
        {
          "output_type": "stream",
          "name": "stderr",
          "text": [
            "\r 39%|███▉      | 14/36 [00:42<01:07,  3.07s/it]"
          ]
        },
        {
          "output_type": "stream",
          "name": "stdout",
          "text": [
            "Completed ingesting content [db69c904-15a8-43ed-a977-09354498860b] from [azure-ai-search-python-playground/data/acc/o-gara-et-al-2012-2013-accf-aha-guideline-for-the-management-of-st-elevation-myocardial-infarction.pdf].\n"
          ]
        },
        {
          "output_type": "stream",
          "name": "stderr",
          "text": [
            "\r 42%|████▏     | 15/36 [00:46<01:12,  3.46s/it]"
          ]
        },
        {
          "output_type": "stream",
          "name": "stdout",
          "text": [
            "Completed ingesting content [548bec7f-7c44-4500-92b0-9d19a90b13d8] from [azure-ai-search-python-playground/data/acc/epstein-et-al-2008-acc-aha-hrs-2008-guidelines-for-device-based-therapy-of-cardiac-rhythm-abnormalities.pdf].\n"
          ]
        },
        {
          "output_type": "stream",
          "name": "stderr",
          "text": [
            "\r 44%|████▍     | 16/36 [00:47<00:56,  2.82s/it]"
          ]
        },
        {
          "output_type": "stream",
          "name": "stdout",
          "text": [
            "Completed ingesting content [a85a8e83-cfa6-463b-9ba4-dc09844569e2] from [azure-ai-search-python-playground/data/acc/Methodology Practice Guidelines.pdf].\n"
          ]
        },
        {
          "output_type": "stream",
          "name": "stderr",
          "text": [
            "\r 47%|████▋     | 17/36 [00:52<01:02,  3.30s/it]"
          ]
        },
        {
          "output_type": "stream",
          "name": "stdout",
          "text": [
            "Completed ingesting content [ce1c767c-11e4-42f7-bd3e-f28517f7c380] from [azure-ai-search-python-playground/data/acc/brott-et-al-2011-2011-asa-accf-aha-aann-aans-acr-asnr-cns-saip-scai-sir-snis-svm-svs-guideline-on-the-management-of.pdf].\n"
          ]
        },
        {
          "output_type": "stream",
          "name": "stderr",
          "text": [
            "\r 50%|█████     | 18/36 [00:53<00:46,  2.57s/it]"
          ]
        },
        {
          "output_type": "stream",
          "name": "stdout",
          "text": [
            "Completed ingesting content [b23aac8d-5598-48f9-9b18-f94e53e4d091] from [azure-ai-search-python-playground/data/acc/fleisher-et-al-2014-2014-acc-aha-guideline-on-perioperative-cardiovascular-evaluation-and-management-of-patients.pdf].\n"
          ]
        },
        {
          "output_type": "stream",
          "name": "stderr",
          "text": [
            "\r 53%|█████▎    | 19/36 [00:53<00:34,  2.01s/it]"
          ]
        },
        {
          "output_type": "stream",
          "name": "stdout",
          "text": [
            "Completed ingesting content [063facb9-5858-4c8f-97f0-55f61a28b69a] from [azure-ai-search-python-playground/data/acc/grundy-et-al-2018-2018-aha-acc-aacvpr-aapa-abc-acpm-ada-ags-apha-aspc-nla-pcna-guideline-on-the-management-of-blood.pdf].\n"
          ]
        },
        {
          "output_type": "stream",
          "name": "stderr",
          "text": [
            "\r 56%|█████▌    | 20/36 [01:03<01:09,  4.33s/it]"
          ]
        },
        {
          "output_type": "stream",
          "name": "stdout",
          "text": [
            "Completed ingesting content [2032332a-51e1-42c8-9f9f-2304f3af040b] from [azure-ai-search-python-playground/data/acc/arnett-et-al-2019-2019-acc-aha-guideline-on-the-primary-prevention-of-cardiovascular-disease.pdf].\n"
          ]
        },
        {
          "output_type": "stream",
          "name": "stderr",
          "text": [
            "\r 58%|█████▊    | 21/36 [01:11<01:22,  5.52s/it]"
          ]
        },
        {
          "output_type": "stream",
          "name": "stdout",
          "text": [
            "Completed ingesting content [9bfd5bfe-15ba-42d8-88de-fc0c48a2ce42] from [azure-ai-search-python-playground/data/acc/levine-et-al-2016-2016-acc-aha-guideline-focused-update-on-duration-of-dual-antiplatelet-therapy-in-patients-with.pdf].\n"
          ]
        },
        {
          "output_type": "stream",
          "name": "stderr",
          "text": [
            "\r 61%|██████    | 22/36 [01:20<01:32,  6.57s/it]"
          ]
        },
        {
          "output_type": "stream",
          "name": "stdout",
          "text": [
            "Completed ingesting content [b6f78e7d-51f4-4c1c-b670-6d3ef44a42c5] from [azure-ai-search-python-playground/data/acc/ommen-et-al-2024-2024-aha-acc-amssm-hrs-paces-scmr-guideline-for-the-management-of-hypertrophic-cardiomyopathy.pdf].\n"
          ]
        },
        {
          "output_type": "stream",
          "name": "stderr",
          "text": [
            "\r 64%|██████▍   | 23/36 [01:29<01:34,  7.28s/it]"
          ]
        },
        {
          "output_type": "stream",
          "name": "stdout",
          "text": [
            "Completed ingesting content [1860695f-831e-4afa-b603-01a67abe1b72] from [azure-ai-search-python-playground/data/acc/kusumoto-et-al-2018-2018-acc-aha-hrs-guideline-on-the-evaluation-and-management-of-patients-with-bradycardia-and.pdf].\n"
          ]
        },
        {
          "output_type": "stream",
          "name": "stderr",
          "text": [
            "\r 67%|██████▋   | 24/36 [01:30<01:02,  5.24s/it]"
          ]
        },
        {
          "output_type": "stream",
          "name": "stdout",
          "text": [
            "Completed ingesting content [1b353f41-89cf-4355-a212-8cba10f327d6] from [azure-ai-search-python-playground/data/acc/amsterdam-et-al-2014-2014-aha-acc-guideline-for-the-management-of-patients-with-non-st-elevation-acute-coronary.pdf].\n"
          ]
        },
        {
          "output_type": "stream",
          "name": "stderr",
          "text": [
            "\r 69%|██████▉   | 25/36 [01:33<00:50,  4.55s/it]"
          ]
        },
        {
          "output_type": "stream",
          "name": "stdout",
          "text": [
            "Completed ingesting content [5c3caed0-a95e-44f8-8972-017fe481dd1d] from [azure-ai-search-python-playground/data/acc/jensen-et-al-2013-2013-aha-acc-tos-guideline-for-the-management-of-overweight-and-obesity-in-adults.pdf].\n"
          ]
        },
        {
          "output_type": "stream",
          "name": "stderr",
          "text": [
            "\r 72%|███████▏  | 26/36 [01:39<00:51,  5.12s/it]"
          ]
        },
        {
          "output_type": "stream",
          "name": "stdout",
          "text": [
            "Completed ingesting content [a98a27cd-65ae-425a-a6f9-b62823014158] from [azure-ai-search-python-playground/data/acc/stout-et-al-2018-2018-aha-acc-guideline-for-the-management-of-adults-with-congenital-heart-disease.pdf].\n"
          ]
        },
        {
          "output_type": "stream",
          "name": "stderr",
          "text": [
            "\r 75%|███████▌  | 27/36 [01:52<01:06,  7.40s/it]"
          ]
        },
        {
          "output_type": "stream",
          "name": "stdout",
          "text": [
            "Completed ingesting content [49c296e8-b539-4c47-a4bd-89ad9c0f154a] from [azure-ai-search-python-playground/data/acc/gulati-et-al-2021-2021-aha-acc-ase-chest-saem-scct-scmr-guideline-for-the-evaluation-and-diagnosis-of-chest-pain.pdf].\n"
          ]
        },
        {
          "output_type": "stream",
          "name": "stderr",
          "text": [
            "\r 78%|███████▊  | 28/36 [01:53<00:43,  5.48s/it]"
          ]
        },
        {
          "output_type": "stream",
          "name": "stdout",
          "text": [
            "Completed ingesting content [4b5ae7df-e82e-4e5f-ad5a-055539225c62] from [azure-ai-search-python-playground/data/acc/page-et-al-2015-2015-acc-aha-hrs-guideline-for-the-management-of-adult-patients-with-supraventricular-tachycardia.pdf].\n"
          ]
        },
        {
          "output_type": "stream",
          "name": "stderr",
          "text": [
            "\r 81%|████████  | 29/36 [01:56<00:33,  4.80s/it]"
          ]
        },
        {
          "output_type": "stream",
          "name": "stdout",
          "text": [
            "Completed ingesting content [0055c3fa-3bb4-4091-8497-3b4ac360c17f] from [azure-ai-search-python-playground/data/acc/gornik-et-al-2024-2024-acc-aha-aacvpr-apma-abc-scai-svm-svn-svs-sir-vess-guideline-for-the-management-of-lower.pdf].\n"
          ]
        },
        {
          "output_type": "stream",
          "name": "stderr",
          "text": [
            "\r 83%|████████▎ | 30/36 [02:01<00:28,  4.83s/it]"
          ]
        },
        {
          "output_type": "stream",
          "name": "stdout",
          "text": [
            "Completed ingesting content [7bc7f912-6696-41a4-98fb-f3510947eb08] from [azure-ai-search-python-playground/data/acc/lawton-et-al-2021-2021-acc-aha-scai-guideline-for-coronary-artery-revascularization.pdf].\n"
          ]
        },
        {
          "output_type": "stream",
          "name": "stderr",
          "text": [
            "\r 86%|████████▌ | 31/36 [02:02<00:18,  3.74s/it]"
          ]
        },
        {
          "output_type": "stream",
          "name": "stdout",
          "text": [
            "Completed ingesting content [c095b79d-8c40-433a-ba1f-e46771715492] from [azure-ai-search-python-playground/data/acc/whelton-et-al-2017-2017-acc-aha-aapa-abc-acpm-ags-apha-ash-aspc-nma-pcna-guideline-for-the-prevention-detection.pdf].\n"
          ]
        },
        {
          "output_type": "stream",
          "name": "stderr",
          "text": [
            "\r 89%|████████▉ | 32/36 [02:08<00:17,  4.44s/it]"
          ]
        },
        {
          "output_type": "stream",
          "name": "stdout",
          "text": [
            "Completed ingesting content [e21faece-32c7-415b-b236-865e513c65ff] from [azure-ai-search-python-playground/data/acc/isselbacher-et-al-2022-2022-acc-aha-guideline-for-the-diagnosis-and-management-of-aortic-disease.pdf].\n"
          ]
        },
        {
          "output_type": "stream",
          "name": "stderr",
          "text": [
            "\r 92%|█████████▏| 33/36 [02:12<00:12,  4.10s/it]"
          ]
        },
        {
          "output_type": "stream",
          "name": "stdout",
          "text": [
            "Completed ingesting content [1b6031da-e958-468f-96f2-0ec9e080d22a] from [azure-ai-search-python-playground/data/acc/virani-et-al-2023-2023-aha-acc-accp-aspc-nla-pcna-guideline-for-the-management-of-patients-with-chronic-coronary-disease.pdf].\n"
          ]
        },
        {
          "output_type": "stream",
          "name": "stderr",
          "text": [
            "\r 94%|█████████▍| 34/36 [02:17<00:09,  4.55s/it]"
          ]
        },
        {
          "output_type": "stream",
          "name": "stdout",
          "text": [
            "Completed ingesting content [6c8ba084-7c12-4238-917b-83b266c960f9] from [azure-ai-search-python-playground/data/acc/heidenreich-et-al-2022-2022-aha-acc-hfsa-guideline-for-the-management-of-heart-failure.pdf].\n"
          ]
        },
        {
          "output_type": "stream",
          "name": "stderr",
          "text": [
            "\r 97%|█████████▋| 35/36 [02:18<00:03,  3.49s/it]"
          ]
        },
        {
          "output_type": "stream",
          "name": "stdout",
          "text": [
            "Completed ingesting content [05689dd5-b03b-4f8d-a62d-9c9ed0156997] from [azure-ai-search-python-playground/data/acc/otto-et-al-2020-2020-acc-aha-guideline-for-the-management-of-patients-with-valvular-heart-disease.pdf].\n"
          ]
        },
        {
          "output_type": "stream",
          "name": "stderr",
          "text": [
            "\r100%|██████████| 36/36 [02:19<00:00,  2.61s/it]"
          ]
        },
        {
          "output_type": "stream",
          "name": "stdout",
          "text": [
            "Completed ingesting content [4ceca09d-64a1-4214-bebb-8509e880a2dd] from [azure-ai-search-python-playground/data/acc/al-khatib-et-al-2018-2017-aha-acc-hrs-guideline-for-management-of-patients-with-ventricular-arrhythmias-and-the.pdf].\n",
            "Ingested all contents.\n"
          ]
        }
      ]
    },
    {
      "cell_type": "markdown",
      "source": [
        "Copied from original notebook, for patient configuration"
      ],
      "metadata": {
        "id": "_TbmvDU46A0Q"
      }
    },
    {
      "cell_type": "code",
      "source": [
        "# Define complex patient profile\n",
        "patient_profile = {\n",
        "    \"patient_id\": \"43454357890\",\n",
        "    \"name\": \"Sarah Johnson\",\n",
        "    \"age\": 68,\n",
        "    \"gender\": \"Female\",\n",
        "    \"height_cm\": 165,\n",
        "    \"weight_kg\": 72,\n",
        "    \"bmi\": 26.4,\n",
        "    \"blood_type\": \"A-\",\n",
        "    \"allergies\": [\"Sulfa drugs\"],\n",
        "    \"current_medications\": [\n",
        "        \"Flecainide\",\n",
        "        \"Apixaban\",\n",
        "        \"Metoprolol\",\n",
        "        \"Atorvastatin\",\n",
        "        \"Cilostazol\",\n",
        "    ],\n",
        "    \"chronic_conditions\": {\n",
        "        \"atrial_fibrillation\": True,\n",
        "        \"peripheral_arterial_disease\": True,\n",
        "        \"hypertension\": True,\n",
        "        \"hyperlipidemia\": True,\n",
        "        \"coronary_artery_disease\": False,\n",
        "    },\n",
        "    \"family_medical_history\": {\"heart_disease\": True, \"stroke\": True, \"cancer\": False},\n",
        "    \"lifestyle_factors\": {\n",
        "        \"smoking\": \"Former smoker, quit 5 years ago\",\n",
        "        \"alcohol_use\": \"Rare\",\n",
        "        \"physical_activity_per_week\": \"4-5 days\",\n",
        "        \"diet\": \"Heart-healthy, low-sodium\",\n",
        "        \"sleep_hours_per_night\": 6,\n",
        "    },\n",
        "    \"recent_lab_results\": {\n",
        "        \"inr\": 1.4,\n",
        "        \"creatinine_mg_dl\": 1.1,\n",
        "        \"ldl_cholesterol_mg_dl\": 85,\n",
        "        \"hdl_cholesterol_mg_dl\": 55,\n",
        "        \"blood_pressure_mm_hg\": \"135/80\",\n",
        "    },\n",
        "    \"vaccination_status\": {\n",
        "        \"influenza_vaccine\": True,\n",
        "        \"covid_vaccine\": True,\n",
        "        \"pneumonia_vaccine\": True,\n",
        "    },\n",
        "    \"surgical_history\": [\n",
        "        \"Carotid endarterectomy\",\n",
        "        \"Cholecystectomy\",\n",
        "    ],\n",
        "    \"imaging_history\": {\n",
        "        \"last_echocardiogram_date\": \"2024-07-15\",\n",
        "        \"last_carotid_ultrasound_date\": \"2024-06-20\",\n",
        "    },\n",
        "    \"mental_health\": {\n",
        "        \"anxiety\": True,\n",
        "        \"depression\": False,\n",
        "        \"cognitive_function_issues\": False,\n",
        "    },\n",
        "    \"preferences\": {\n",
        "        \"preferred_treatment_type\": [\n",
        "            \"Minimally invasive procedures\",\n",
        "            \"Evidence-based treatments\",\n",
        "        ],\n",
        "        \"end_of_life_care\": \"Yes\",\n",
        "        \"pain_management\": \"Non-opioid\",\n",
        "    },\n",
        "    \"recent_visits\": [\n",
        "        {\n",
        "            \"visit_date\": \"2024-08-25\",\n",
        "            \"reason\": \"Follow-up for atrial fibrillation\",\n",
        "            \"notes\": \"Recurrence of AF despite flecainide. Discussing ablation vs alternative antiarrhythmic options.\",\n",
        "        },\n",
        "        {\n",
        "            \"visit_date\": \"2024-07-10\",\n",
        "            \"reason\": \"Peripheral arterial disease management\",\n",
        "            \"notes\": \"Stable claudication symptoms. Continue current management and exercise program.\",\n",
        "        },\n",
        "    ],\n",
        "    \"af_management\": {\n",
        "        \"current_treatment\": \"Flecainide\",\n",
        "        \"treatment_history\": [\n",
        "            \"Rate control with metoprolol\",\n",
        "            \"Rhythm control with flecainide\",\n",
        "        ],\n",
        "        \"af_recurrence\": True,\n",
        "        \"considering_options\": [\"Catheter ablation\", \"Alternative antiarrhythmic drug\"],\n",
        "        \"chads2_vasc_score\": 4,\n",
        "        \"has_bled_score\": 2,\n",
        "    },\n",
        "    \"pad_management\": {\n",
        "        \"ankle_brachial_index\": 0.78,\n",
        "        \"fontaine_classification\": \"Stage II\",\n",
        "        \"current_treatment\": [\"Cilostazol\", \"Supervised exercise program\"],\n",
        "        \"last_vascular_assessment\": \"2024-06-20\",\n",
        "    },\n",
        "}"
      ],
      "metadata": {
        "id": "DCq-G8p2nT7L"
      },
      "execution_count": 9,
      "outputs": []
    },
    {
      "cell_type": "markdown",
      "source": [
        "Execute example RAG prompt with citations"
      ],
      "metadata": {
        "id": "P0jwfpfN6dbJ"
      }
    },
    {
      "cell_type": "code",
      "source": [
        "import nest_asyncio\n",
        "\n",
        "nest_asyncio.apply()"
      ],
      "metadata": {
        "id": "fp6F_sVMbXc7"
      },
      "execution_count": 10,
      "outputs": []
    },
    {
      "cell_type": "code",
      "source": [
        "from IPython.display import display, Markdown, HTML\n",
        "import time\n",
        "\n",
        "# Remove any existing conversations and specifications; only needed for notebook example\n",
        "await delete_all_conversations()\n",
        "await delete_all_specifications()\n",
        "\n",
        "print('Deleted all conversations and specifications.')\n",
        "\n",
        "# Formulate a query based on Sarah Johnson's profile\n",
        "prompt = (\n",
        "    f\"Which option reduces stroke risk for a {patient_profile['age']}-year-old \"\n",
        "    f\"female with atrial fibrillation and peripheral arterial disease, \"\n",
        "    f\"who is considering catheter ablation or antiarrhythmic drug therapy?\"\n",
        ")\n",
        "\n",
        "model = enums.OpenAIModels.GPT4O_MINI_128K\n",
        "#model = enums.OpenAIModels.O1_MINI_128K\n",
        "\n",
        "specification_id = await create_openai_specification(model)\n",
        "\n",
        "if specification_id is not None:\n",
        "    print(f'Created specification [{specification_id}].')\n",
        "\n",
        "    conversation_id = await create_conversation(specification_id=specification_id)\n",
        "\n",
        "    if conversation_id is not None:\n",
        "        message, citations = await prompt_conversation(conversation_id, prompt)\n",
        "\n",
        "        if message is not None:\n",
        "            display(Markdown(f'### Patient-Specific Question Response for {patient_profile[\"name\"]}:'))\n",
        "            display(Markdown(f'**Final Response:**\\n{message}'))\n",
        "            print()\n",
        "\n",
        "        if citations is not None:\n",
        "            print(\"\\nReference Information:\")\n",
        "\n",
        "            for citation in citations:\n",
        "                if citation is not None and citation.content is not None:\n",
        "                    display(Markdown(f'**Citation [{citation.index}]:** {citation.content.name}'))\n",
        "                    display(Markdown(citation.text))\n",
        "                    print()\n"
      ],
      "metadata": {
        "id": "2NDBOdLzmuq_",
        "colab": {
          "base_uri": "https://localhost:8080/",
          "height": 1000
        },
        "outputId": "34fd2607-10c6-47a6-a007-6e6f8659b363"
      },
      "execution_count": 11,
      "outputs": [
        {
          "output_type": "stream",
          "name": "stdout",
          "text": [
            "Deleted all conversations and specifications.\n",
            "Created specification [0752a4b9-3cf0-4770-b2ed-730ae38c3e86].\n"
          ]
        },
        {
          "output_type": "display_data",
          "data": {
            "text/plain": [
              "<IPython.core.display.Markdown object>"
            ],
            "text/markdown": "### Patient-Specific Question Response for Sarah Johnson:"
          },
          "metadata": {}
        },
        {
          "output_type": "display_data",
          "data": {
            "text/plain": [
              "<IPython.core.display.Markdown object>"
            ],
            "text/markdown": "**Final Response:**\nFor a 68-year-old female with atrial fibrillation (AF) and peripheral arterial disease, the primary option to reduce stroke risk is anticoagulation therapy. Direct-acting oral anticoagulants (DOACs) are recommended as the first-line option for patients with AF, regardless of their CHA2DS2-VASc score, which assesses stroke risk. Additionally, if catheter ablation is being considered, it can be effective in managing AF, but the decision should also factor in the patient's overall health and preferences regarding antiarrhythmic drug therapy. [1][2][3][4][5]"
          },
          "metadata": {}
        },
        {
          "output_type": "stream",
          "name": "stdout",
          "text": [
            "\n",
            "\n",
            "Reference Information:\n"
          ]
        },
        {
          "output_type": "display_data",
          "data": {
            "text/plain": [
              "<IPython.core.display.Markdown object>"
            ],
            "text/markdown": "**Citation [1]:** ommen-et-al-2024-2024-aha-acc-amssm-hrs-paces-scmr-guideline-for-the-management-of-hypertrophic-cardiomyopathy"
          },
          "metadata": {}
        },
        {
          "output_type": "display_data",
          "data": {
            "text/plain": [
              "<IPython.core.display.Markdown object>"
            ],
            "text/markdown": "Synopsis\nAF, commonly observed in patients with HCM, is associated with significant morbidity, impaired quality of life, and substantial stroke risk. Therapy includes pre- vention of thromboembolic events and controlling symptoms. Traditional stroke risk scoring systems used in the general population are not predictive in patients with HCM. Vitamin K antagonists are effective for stroke pre- vention, and recent studies support the use of DOACs as well.1-5 Asymptomatic AF detected by cardiac devices or monitors also increases risk of stroke, so the decision to anticoagulate should take into consideration the duration of episodes as well as underlying risk factors. When a rhythm-control strategy is needed, several antiar- rhythmic drugs have been shown to be safe and effective, allowing for individualization according to underlying substrate and patient preference. Catheter ablation is also an option, although the procedure is less effective than in the general population, and there is a more frequent need of repeat procedures and concomitant use of antiar- rhythmic drugs. Surgical AF ablation is a potential rhythm management option in patients undergoing surgical myectomy. Other supraventricular arrhythmias and atrial flutter are likely not increased in incidence in patients with HCM, and treatment is usually similar to populations without HCM."
          },
          "metadata": {}
        },
        {
          "output_type": "stream",
          "name": "stdout",
          "text": [
            "\n"
          ]
        },
        {
          "output_type": "display_data",
          "data": {
            "text/plain": [
              "<IPython.core.display.Markdown object>"
            ],
            "text/markdown": "**Citation [2]:** ommen-et-al-2024-2024-aha-acc-amssm-hrs-paces-scmr-guideline-for-the-management-of-hypertrophic-cardiomyopathy"
          },
          "metadata": {}
        },
        {
          "output_type": "display_data",
          "data": {
            "text/plain": [
              "<IPython.core.display.Markdown object>"
            ],
            "text/markdown": "Recommendation-Specific Supportive Text\n1. Clinical AF is AF that causes symptoms for which pa- tients seek medical attention. Although no RCTs have been published, the risk of systemic embolization is high in patients with HCM with AF. A meta-analysis that included 33 studies and 7381 patients revealed an overall prevalence of thromboembolism in patients with HCM with AF of 27.09% and incidence of 3.75 per 10 patients.1 The stroke risk is independent of CHA2DS2-VASc score,3º with a significant number of strokes observed in patients with a score of 0. Several studies have shown that anticoagulation, particularly warfarin with target international normalized ratio 2 to 3, reduces the stroke risk in this population,2,30 whereas other publications have shown DOACs to be at least as effective as warfarin, with additional ad- vantages reported, such as improved patient satisfac- tion and long-term outcomes.3-5 Although left atrial appendage occlusion devices have been evaluated in populations, the number of patients with HCM in these trials was limited. Thus, the role of left atrial appendage occlusion devices in HCM remains un- tested. The recommendations for anticoagulation of patients with atrial flutter are the same as those for patients with AF.14\n2. Similar to patients without HCM, asymptomatic or subclinical AF (SCAF) is detected by cardiac devices in\npatients with HCM as well. SCAF was reported in 16 of 30 patients with HCM (53%) after a median follow-up of 595 days.7 Device-detected AF was identified in 29 of 114 patients with HCM (25%), resulting in an annual- ized incidence of 4% per year.6 In patients without HCM, SCAF has been associated with an increased risk of thromboembolism, albeit lower than the risk described for clinical AF.8 Considerable debate exists regarding the AF duration threshold for initiating anticoagulation in SCAF because the duration used to define and quantify AF varied significantly between different studies. Nevertheless, the data increasingly show that longer duration episodes are associated with greatest risk. One study suggested only episodes >24 hours were associated with increased risk.15 Also influencing risk are the total AF burden11 and the presence of traditional risk factors, whereas very short episodes lasting a few seconds do not appear to in- crease risk.16,17 When making the diagnosis of device- detected AF, review of stored intracardiac ECGs is essential to exclude artifact or false-positives.\n3. Given the poor tolerance of AF in patients with HCM, a rhythm-control strategy is often preferred, because data support improved outcomes with a rhythm- control strategy compared with historical controls.9,10 For those patients for whom a rate-control strategy is chosen (eg, because of patient choice, antiarrhythmic drug failure, or intolerance), a nondihydropyridine calcium channel blocker, a beta blocker, or a combi- nation of the 2 is preferable. A theoretical concern ex- ists that digoxin could exacerbate LVOTO attributable to a positive inotropic effect. However, in the absence of a gradient, digoxin is a potential option, although data on efficacy in this population are lacking. Medi- cation choice should be individually determined ac- cording to age, underlying substrate, comorbidities, and severity of symptoms. Dose adjustments are based on the balance between adequate rate control versus adverse effects, including excessive bradycardia. In patients with hypotension, dyspnea at rest, and very high resting gradients (eg, >100 mm Hg), verapamil should be avoided. Atrioventricular node ablation with pacemaker implantation can be a last option in re- fractory cases.\n4. SCAF is often observed in patients with HCM and implanted cardiac devices6,7 and has been associated with an increased risk of thromboembolism.8 Yet, the minimum duration of SCAF that confers increased risk has not been precisely defined, because a gradient of risk appears to be evident depending on underlying substrate. Although ASSERT (Asymptomatic Atrial Fibrillation and Stroke Evaluation in Pacemaker Pa- tients and the Atrial Fibrillation Reduction Atrial Pac- ing Trial) data suggested only episodes >24 hours\n| TABLE 9 Antiarrhythmic Drug Therapy Options for Patients With HCM and AF |  |  |  |  |\n| --- | --- | --- | --- | --- |\n| Antiarrhythmic Drug | Efficacy for AF | Adverse Effects | Toxicities | Use in HCM |\n| Disopyramide | Modest | Anticholinergic HF | Prolonged QTc TdP | Particularly with early onset AF Generally used in conjunction with atrioventricular nodal blocking agents |\n| Flecainide and propafenone | ... | Prolonged QRS | Proarrhythmia Typical atrial flutter | Not generally recommended in the absence of an ICD |\n| Sotalol | Modest | Fatigue Bradycardia | Prolonged QTc TdP | Reasonable |\n| Dofetilide | Modest | Headache | Prolonged QTc TdP | Reasonable |\n| Dronedarone | Low | HF | Prolonged QTc | ... |\n| Amiodarone | Modest-high | Bradycardia | Liver, lung, thyroid, skin, neurologic Prolonged QTc | Reasonable |\n\nAF indicates atrial fibrillation; HCM, hypertrophic cardiomyopathy; HF, heart failure; ICD, implantable cardioverter-defibrillator; and TdP, torsades de pointes.\nincreased stroke risk,15 other evidence suggests that shorter duration episodes may pose a risk in patients with traditional risks factors.16 In ASSERT, the absolute stroke risk increased with increasing CHADS2 score, reaching a rate of 3.78 per year in those with score >2.18 Another group stratified risk according to AF duration and CHADS2 score, with a CHADS2 score of 1 increasing the risk only if AF duration was >24 hours, whereas for CHADS2 scores ≥2, episodes >5 minutes increased risk.19 Similar risk stratification is unavailable in HCM, yet risk factors for stroke in the population with HCM have been identified and include advancing age, pre- vious embolic events, NYHA functional class, left atrial diameter, vascular disease, and maximal LV wall thickness.3º When very short AF duration is observed, continued surveillance should be maintained as the burden of AF is likely to progress.\n5. Studies suggest that with current therapies, AF in pa- tients with HCM can be managed effectively, leading to low morbidity and mortality compared with historical controls.9,10 In general, drug selection for rhythm control in patients with HCM is based on extrapolation from studies of the AF population at large. Yet, reports suggest several drugs are safe and effective in patients with HCM (Table 9). Amiodarone has been used over many years and is generally deemed a favored op- tion.10,20 Disopyramide has been safely prescribed for reduction of LVOTO, but its efficacy in AF is not well established.21,22 Data on NYHA functional class IC antiarrhythmic agents are limited because of concerns regarding their use in patients with structural heart disease. When used, therapy with NYHA functional class IC agents is safest in the presence of an ICD.10 NYHA functional class III agents have been used as well; a report in 25 patients with HCM showed dofeti- lide to be well tolerated and facilitated AF manage- ment.13 Sotalol has also been shown to be safe and is commonly used in pediatric patients as well, either in\noral or intravenous forms.23,24,31,32 The U.S. Food and Drug Administration-mandated safety precautions should be adopted when prescribing antiarrhythmic drugs.\n6. Catheter ablation plays an important role in the man- agement of AF in HCM. Although no RCTs exist in this area, several meta-analyses have been published in patients with HCM undergoing catheter ablation for drug refractory AF, including one that compared catheter ablation between patients with HCM versus a cohort without HCM.12,25 In general, the procedure is safe and remains an important tool. However, the re- sults seem less favorable compared with patients without HCM, with a 2-fold higher risk of relapse, more frequent need of repeat procedures, and higher use of concomitant antiarrhythmic drugs. This is attributed to the fact that patients with HCM have a greater degree of electrophysiologic and structural remodeling than the population without HCM.25 Contributing factors for atrial remodeling include LVOTO, diastolic impair- ment, MR, and other factors. It can be postulated that aggressive intervention in the earlier stages of disease would be more effective, but this is unproven, and ongoing remodeling is expected. Some authors have suggested the need for a more extensive ablation approach, with linear lesions and ablation of triggers not associated with the pulmonary veins often required to improve the long-term durability of the procedure.26\n7. AF in patients with HCM is often poorly tolerated; therefore, aggressive rhythm-control strategies are sometimes required. Because of the lower success rate of catheter ablation in patients with HCM compared with the general AF population, surgical AF ablation is a potential rhythm management option, especially in patients already undergoing open heart surgery for a surgical myectomy. In combination with surgical relief of the LVOT gradient and MR, which can limit or even\nreverse negative atrial remodeling, concomitant sur- gical AF ablation may be successful in decreasing AF burden. Several studies have reported satisfactory midterm efficacy, yet these reports universally include a small number of patients, and the durability of the procedure appears to decrease with time.27,29 In a study that represents the largest series of patients with AF treated surgically, freedom from AF recurrence at 1 year was 44% for ablation patients (n = 49) and 75%\nwith the maze procedure (n = 72) (P<0.001).1º In this study, with concomitant surgical ablation, freedom from AF at 3 years was 70%, with left atrial size being a predictor of recurrence.1º"
          },
          "metadata": {}
        },
        {
          "output_type": "stream",
          "name": "stdout",
          "text": [
            "\n"
          ]
        },
        {
          "output_type": "display_data",
          "data": {
            "text/plain": [
              "<IPython.core.display.Markdown object>"
            ],
            "text/markdown": "**Citation [3]:** ommen-et-al-2024-2024-aha-acc-amssm-hrs-paces-scmr-guideline-for-the-management-of-hypertrophic-cardiomyopathy"
          },
          "metadata": {}
        },
        {
          "output_type": "display_data",
          "data": {
            "text/plain": [
              "<IPython.core.display.Markdown object>"
            ],
            "text/markdown": "8.4. Management of Patients With HCM and AF\nRecommendations for Management of Patients With HCM and AF Referenced studies that support the recommendations are summarized in the Online Data Supplement.\n| COR | LOE | RECOMMENDATIONS |\n| --- | --- | --- |\n| 1 | B-NR | 1. In patients with HCM and clinical AF, anticoagulation is recommended with direct-acting oral anticoagu- lants (DOACs) as first-line option and vitamin K antagonists as second-line option, independent of CHA2DS2-VASc score.1-5 |\n| 1 | C-LD | 2. In patients with HCM and subclinical AF detected by internal or external cardiac device or monitor of >24 hours' duration for a given episode, anticoagulation is recommended with DOACs as first-line option and vitamin K antagonists as second-line option, independent of CHA2DS2-VASc score.1,6-8 |\n| 1 | C-LD | 3. In patients with AF in whom rate control strategy is planned, beta blockers, verapamil, or diltiazem are recommended, with the choice of agents according to patient preferences and comorbid conditions.9,10 |\n| 2a | C-LD | 4. In patients with HCM and subclinical AF detected by internal or external device or monitor, of >5 minutes' duration but <24 hours' duration for a given episode, anticoagulation with DOACs as first-line option and vitamin K antagonists as second-line option can be beneficial, taking into consideration duration of AF episodes, total AF burden, underlying risk factors, and bleeding risk.1,6-8,11 |\n| 2a | B-NR | 5. In patients with HCM and poorly tolerated AF, a rhythm-control strategy with cardioversion or antiar- rhythmic drugs can be beneficial with the choice of an agent according to AF symptom severity, patient preferences, and comorbid conditions.9,12-24 |\n| 2a | B-NR | 6. In patients with HCM and symptomatic AF, as part of an AF rhythm- control strategy, catheter ablation for AF can be effective when drug therapy is ineffective, contraindicated, or not the patient's preference. 12,25,26 |\n| 2a | B-NR | 7. In patients with HCM and AF who require surgical myectomy, concomitant surgical AF ablation procedure can be beneficial for AF rhythm control.13,27-29 |\n"
          },
          "metadata": {}
        },
        {
          "output_type": "stream",
          "name": "stdout",
          "text": [
            "\n"
          ]
        },
        {
          "output_type": "display_data",
          "data": {
            "text/plain": [
              "<IPython.core.display.Markdown object>"
            ],
            "text/markdown": "**Citation [4]:** page-et-al-2015-2015-acc-aha-hrs-guideline-for-the-management-of-adult-patients-with-supraventricular-tachycardia"
          },
          "metadata": {}
        },
        {
          "output_type": "display_data",
          "data": {
            "text/plain": [
              "<IPython.core.display.Markdown object>"
            ],
            "text/markdown": "7.4. Ongoing Management: Recommendations\nRecommendations for Ongoing Management of Atrial Flutter\n| COR | LOE | RECOMMENDATIONS |\n| --- | --- | --- |\n| I | B-R | 1. Catheter ablation of the CTI is useful in patients with atrial flutter that is either symptomatic or refractory to pharmacological rate control (243,372-375). |\n| See Online Data 16 | Supplements and 17. | Rate control can be difficult to achieve in atrial flutter, and a rhythm control strategy is often chosen. Catheter ablation of CTI-dependent atrial flutter is often preferred to long-term pharmacological therapy; in this rhythm, the CTI represents the optimal target for ablation because a line of ablation between the tricuspid valve annulus and inferior vena cava can effectively interrupt the circuit. A variety of techniques are applicable, including various catheter types, energy delivery systems, and mapping and visualization tools; generally, success depends on creation of a complete line of block and permanent interruption of conduction across the CTI (Table 8). Successful ablation is often heralded by intraprocedural interruption of the arrhythmia and subsequent EP demonstration of bidirectional block across the ablated tissue. |\n| I | C-LD | 2. Beta blockers, diltiazem, or verapamil are useful to control the ventricular rate in patients with hemodynamically tolerated atrial flutter (347-349). |\n| See Online Data 16 | and 17. Supplements | In some circumstances of persistent atrial flutter or in patients who have infrequent reasonably well-tolerated episodes of atrial flutter, a rate-control strategy may be chosen. In atrial flutter, the relatively slower atrial rate compared with AF often paradoxically results in more rapid AV nodal conduction because there is less concealed AV nodal conduction. Therefore, achieving adequate rate control can be difficult. Higher doses of beta blockers, diltiazem, or verapamil, and often a combination of agents, may be needed to achieve adequate rate control. Beta blockers are generally preferred in patients with heart failure. Avoidance of beta blockers, diltiazem, and verapamil in patients with pre-excited atrial flutter is recommended, given the potential for accelerated ventricular rates degenerating to ventricular fibrillation, as has been reported to occur rarely in similar patients with AF (274). |\n| I | C-LD | 3. Catheter ablation is useful in patients with recurrent symptomatic non-CTI-dependent flutter after failure of at least 1 antiarrhythmic agent (134,327). |\n| See Online Data 16 | and 17. Supplements | No prospective RCTs have compared the efficacy or safety of antiarrhythmic drugs with that of catheter ablation for non-CTI-dependent atrial flutter. In general, catheter ablation of non-CTI-dependent atrial flutter is substantially more difficult than ablation of CTI-dependent flutter because the anatomic circuits are complex, are often not anatomically defined, and can be difficult to locate. Knowledge of the prior surgical or ablation approach and detailed activation and entrainment mapping of the tachycardia are useful during attempts at ablation (Table 8). The location of the circuit determines ablation approach and risks. Observational data support the relative effectiveness and safety of catheter ablation in experienced centers (134,327). Many of the atrial flutters that are observed during the first 3 months after catheter ablation or cardiac surgery will not persist beyond the periprocedural period, so attempts at ablation can be deferred unless pharmacological therapy and/or cardioversion are unsuccessful (327). |\n| I | B-NR | 4. Ongoing management with antithrombotic therapy is recommended in patients with atrial flutter to align with recommended antithrombotic therapy for patients with AF (365). |\n| See Online Data 16 | Supplements and 17. | The risk of stroke associated with AF is well established, and several RCTs have demonstrated the efficacy of anticoagulation for stroke prevention in patients with additional risk factors (366). Anticoagulation has also been shown to prevent stroke when administered during the weeks immediately before and after cardioversion (367). Whether atrial flutter carries a risk of stroke similar to that in patients with AF has been debated in the past but is now supported by limited evidence from mechanistic, observational, and prospective studies that include patients primarily with atrial flutter (365-369). Several reports have suggested that the risk of stroke in patients with atrial flutter is mitigated by anticoagulation. Meta-analysis of 13 studies of patients undergoing cardioversion of atrial flutter reported short-term stroke risks ranging from 0% to 7%, and the thromboembolism rate in patients with sustained flutter in 4 studies averaged 3% annually (365). Other studies have reported similar risk and effectiveness of anticoagulation (369). Therefore, on the basis of available data, recommendations for antithrombotic therapy for patients with atrial flutter are similar to those for patients with AF (10). |\n\nIIa\nB-R\n1. The following drugs can be useful to maintain sinus rhythm in patients with symptomatic, recurrent atrial flutter, with the drug choice depending on underlying heart disease and comorbidities:\na. Amiodarone (376)\nb. Dofetilide (346,377)\nc. Sotalol (378)\nSee Online Data Supplements 16 and 17.\nIn patients in whom ablation is not being considered because of contraindications (such as underlying medical illness) or because of patient preference, a variety of antiarrhythmic drugs are available. These drugs act by suppressing triggers and altering atrial tissue refractoriness. Individual properties of each drug need to be considered for proper use. Much of the data pertaining to use of amiodarone in management of atrial arrhythmias has been derived from use in patients with AF(10). Few data are available for patients with atrial flutter. Amiodarone has significant toxicities, so it is used only when other treatments are contraindicated or ineffective. Nevertheless, administration is reasonable, particularly in patients with heart failure or significant underlying heart disease (376).\nDofetilide may be more effective than many other drugs but must be started in an inpatient setting (346,377). The dose is adjusted on the basis of renal function, with close monitoring of the Q-T interval and subsequent monitoring for altered renal function.\nSotalol, a class III antiarrhythmic, is generally well tolerated but is associated with typical beta blocker side effects, such as fatigue and bradycardia (378). The major potential cardiac toxicity for both drugs is torsades de pointes.\nIIa\nB-NR\n2. Catheter ablation is reasonable in patients with CTI-dependent atrial flutter that occurs as the result of flecainide, propafenone, or amiodarone used for treatment of AF (317,379-381).\nSee Online Data Supplements 16 and 17.\nSome patients with AF treated with propafenone, flecainide, or amiodarone will develop atrial flutter. In this circumstance, if flutter becomes the dominant arrhythmia, ablation of the CTI and continued use of the antiarrhythmic drug can decrease the incidence of atrial flutter and facilitate the pharmacological management of AF (379,380).\nIIa\nC-LD\n3. Catheter ablation of the CTI is reasonable in patients undergoing catheter ablation of AF who also have a history of documented clinical or induced CTI-dependent atrial flutter (381,382).\nSee Online Data Supplements 16 and 17.\nThe indications for catheter ablation of AF are discussed in the 2014 AF guideline (10). When AF and atrial flutter coexist, 1 randomized study demonstrated that at 1-year follow-up, greater success in terms of arrhythmia suppression and quality-of-life score resulted from AF ablation (with or without atrial flutter ablation) than from atrial flutter ablation alone (381). It may be that AF ablation alone is sufficient to control both arrhythmias, although CTI ablation reduced the early postablation arrhythmia recurrence rate (382).\nIIa\nC-LD\n4. Catheter ablation is reasonable in patients with recurrent symptomatic non-CTI-dependent flutter as primary therapy, before therapeutic trials of antiarrhythmic drugs, after carefully weighing potential risks and benefits of treatment options (135).\nSee Online Data Supplement 17.\nNo prospective RCTs have compared the efficacy or safety of antiarrhythmic drugs with that of catheter ablation for non-CTI-dependent atrial flutter. Observational data, however, support the relative effectiveness and safety of catheter ablation in experienced centers (135,327). Many of the atrial flutters that are observed during the first 3 months after ablation or cardiac surgery will not persist beyond the periprocedural period, so attempts at ablation can be deferred unless attempts at pharmacological therapy or cardioversion are unsuccessful (135).\nIIb\nB-R\n1. Flecainide or propafenone may be considered to maintain sinus rhythm in patients without structural heart disease or ischemic heart disease who have symptomatic recurrent atrial flutter (383-385).\nSee Online Data Supplements 16 and 17.\nData to support the recommendation for flecainide and propafenone for maintenance of sinus rhythm in patients with atrial flutter is derived from trials that pooled patients with AF and atrial flutter, with the vast majority of the patients having AF. It is therefore possible that these agents are not as effective for treating isolated atrial flutter as they are for AF (386). Flecainide and propafenone may result in slowing of the atrial flutter cycle length, which may lead to a rapid 1:1 ventricular response (387). Because of this, caution is advised with flecainide and propafenone in patients with atrial flutter at risk of 1:1 conduction. The risk may be reduced by coadministration of medications that slow AV nodal conduction, such as beta blockers, verapamil, or diltiazem.\n| IIb C-LD | 2. Catheter ablation may be reasonable for asymptomatic patients with recurrent atrial flutter (102,121,372). |\n| See Online Data Supplements 16 and 17. | Catheter ablation of atrial flutter is highly effective, with single-procedure success rates >90% (102) and an excellent safety profile (102,121). In patients with recurrent atrial flutter, long-term maintenance of sinus rhythm is more likely with ablation than with pharmacological therapy (372). Also, ablation may avoid potential development of tachycardia-mediated cardiomyopathy. |\n"
          },
          "metadata": {}
        },
        {
          "output_type": "stream",
          "name": "stdout",
          "text": [
            "\n"
          ]
        },
        {
          "output_type": "display_data",
          "data": {
            "text/plain": [
              "<IPython.core.display.Markdown object>"
            ],
            "text/markdown": "**Citation [5]:** mosca-et-al-2011-effectiveness-based-guidelines-for-the-prevention-of-cardiovascular-disease-in-women-2011-update"
          },
          "metadata": {}
        },
        {
          "output_type": "display_data",
          "data": {
            "text/plain": [
              "<IPython.core.display.Markdown object>"
            ],
            "text/markdown": "Cardiac rehabilitation\nA comprehensive CVD risk-reduction regimen such as cardiovascular or stroke rehabilitation or a physician-guided home- or community-based exercise training program should be recommended to women with a recent acute coronary syndrome or coronary revascularization, new-onset or chronic angina, recent cerebrovascular event, peripheral arterial disease (Class I; Level of Evidence A) or current/prior symptoms of heart failure and an LVEF ≤35% (Class I; Level of Evidence B)."
          },
          "metadata": {}
        },
        {
          "output_type": "stream",
          "name": "stdout",
          "text": [
            "\n"
          ]
        }
      ]
    },
    {
      "cell_type": "markdown",
      "source": [
        "Initialize CrewAI"
      ],
      "metadata": {
        "id": "DSLk4gDLazBc"
      }
    },
    {
      "cell_type": "code",
      "source": [
        "from crewai import Agent, Task, Crew, Process\n",
        "from graphlit_tools import PromptTool, CrewAIConverter\n",
        "from textwrap import dedent\n",
        "\n",
        "os.environ['OPENAI_API_KEY'] = userdata.get('OPENAI_API_KEY')\n",
        "\n",
        "prompt_tool = CrewAIConverter.from_tool(PromptTool(graphlit))\n",
        "\n",
        "# Embed patient profile information into the agent goals\n",
        "# Define the CrewAI agents\n",
        "guideline_expert = Agent(\n",
        "    role=\"Guideline Expert\",\n",
        "    goal=(\n",
        "        f\"Retrieve and summarize relevant ACC guidelines for a {patient_profile['age']}-year-old \"\n",
        "        f\"with atrial fibrillation and peripheral arterial disease. \"\n",
        "        \"Focus on treatment options such as catheter ablation and antiarrhythmic therapy.\"\n",
        "    ),\n",
        "    backstory=\"You are an expert on ACC guidelines for managing atrial fibrillation and PAD.\",\n",
        "    tools=[prompt_tool],\n",
        "    verbose=True,\n",
        ")\n",
        "\n",
        "patient_educator = Agent(\n",
        "    role=\"Patient Educator\",\n",
        "    goal=(\n",
        "        f\"Translate the medical guidelines into easy-to-understand terms for Sarah Johnson. \"\n",
        "        \"Focus on explaining the treatment options available for managing atrial fibrillation.\"\n",
        "    ),\n",
        "    backstory=\"You explain complex medical terms in patient-friendly language.\",\n",
        "    verbose=True,\n",
        ")\n",
        "\n",
        "treatment_planner = Agent(\n",
        "    role=\"Treatment Planner\",\n",
        "    goal=(\n",
        "        f\"Create a personalized treatment plan for Sarah Johnson, considering her preference for minimally invasive procedures \"\n",
        "        f\"and her options of catheter ablation or antiarrhythmic therapy.\"\n",
        "    ),\n",
        "    backstory=\"You specialize in personalized treatment plans based on patient history and preferences.\",\n",
        "    verbose=True,\n",
        ")\n",
        "\n",
        "output_generator = Agent(\n",
        "    role=\"Output Generator\",\n",
        "    goal=(\n",
        "        f\"Compile the information into a comprehensive patient decision aid document for Sarah Johnson, \"\n",
        "        f\"including a clear summary of her treatment options and next steps.\"\n",
        "    ),\n",
        "    backstory=\"You ensure that the medical recommendations are presented clearly and concisely.\",\n",
        "    verbose=True,\n",
        ")\n",
        "\n",
        "# Define tasks for each agent\n",
        "task1 = Task(\n",
        "    description=\"Retrieve ACC guidelines for managing atrial fibrillation and PAD.\",\n",
        "    expected_output=\"Summarized guidelines with a focus on catheter ablation and stroke risk reduction.\",\n",
        "    agent=guideline_expert,\n",
        ")\n",
        "\n",
        "task2 = Task(\n",
        "    description=\"Translate the guidelines into patient-friendly language.\",\n",
        "    expected_output=\"Simplified, patient-friendly explanations of the treatment options.\",\n",
        "    agent=patient_educator,\n",
        ")\n",
        "\n",
        "task3 = Task(\n",
        "    description=\"Personalize the treatment plan according to the patient's preferences.\",\n",
        "    expected_output=\"A treatment plan tailored to the patient's specific conditions and preferences.\",\n",
        "    agent=treatment_planner,\n",
        ")\n",
        "\n",
        "task4 = Task(\n",
        "    description=\"Generate a patient decision aid document.\",\n",
        "    expected_output=\"A final decision aid document summarizing the patient's condition and treatment recommendations.\",\n",
        "    agent=output_generator,\n",
        ")\n",
        "\n",
        "# Create the Crew and define the process flow\n",
        "crew = Crew(\n",
        "    agents=[guideline_expert, patient_educator, treatment_planner, output_generator],\n",
        "    tasks=[task1, task2, task3, task4],\n",
        "    process=Process.sequential,  # Ensures tasks are executed in sequence\n",
        "    verbose=True\n",
        ")\n",
        "\n",
        "# Execute the multi-step reasoning process\n",
        "result = await crew.kickoff_async()\n",
        "\n",
        "# Display the final patient decision aid\n",
        "print(\"Final Patient Decision Aid:\")\n",
        "print(result)"
      ],
      "metadata": {
        "id": "0uZ-KmQ8gTf7",
        "colab": {
          "base_uri": "https://localhost:8080/"
        },
        "outputId": "c1d9c179-bb81-4f10-e6dd-0a144ff7ce72"
      },
      "execution_count": 12,
      "outputs": [
        {
          "output_type": "stream",
          "name": "stdout",
          "text": [
            "\u001b[1m\u001b[95m# Agent:\u001b[00m \u001b[1m\u001b[92mGuideline Expert\u001b[00m\n",
            "\u001b[95m## Task:\u001b[00m \u001b[92mRetrieve ACC guidelines for managing atrial fibrillation and PAD.\u001b[00m\n",
            "\u001b[91m \n",
            "\n",
            "I encountered an error while trying to use the tool. This was the error: Arguments validation failed: 1 validation error for PromptInput\n",
            "prompt\n",
            "  Input should be a valid string [type=string_type, input_value={'description': 'Retrieve... (PAD).', 'type': 'str'}, input_type=dict]\n",
            "    For further information visit https://errors.pydantic.dev/2.10/v/string_type.\n",
            " Tool Graphlit RAG prompt tool accepts these inputs: Tool Name: Graphlit RAG prompt tool\n",
            "Tool Arguments: {'prompt': {'description': 'Text prompt which is provided to LLM for completion, via RAG pipeline.', 'type': 'str'}}\n",
            "Tool Description: Accepts user prompt as string.\n",
            "    Prompts LLM with relevant content and returns completion from RAG pipeline. Returns Markdown text from LLM completion.\n",
            "    Uses vector embeddings and similarity search to retrieve relevant content from knowledge base.\n",
            "    Can search through web pages, PDFs, audio transcripts, and other unstructured data.\n",
            "\u001b[00m\n",
            "\n",
            "\n",
            "\u001b[1m\u001b[95m# Agent:\u001b[00m \u001b[1m\u001b[92mGuideline Expert\u001b[00m\n",
            "\u001b[95m## Thought:\u001b[00m \u001b[92mI need to retrieve the relevant ACC guidelines regarding the management of atrial fibrillation, particularly focusing on treatment options like catheter ablation and considerations for peripheral arterial disease (PAD).\u001b[00m\n",
            "\u001b[95m## Using tool:\u001b[00m \u001b[92mGraphlit RAG prompt tool\u001b[00m\n",
            "\u001b[95m## Tool Input:\u001b[00m \u001b[92m\n",
            "\"{\\\"prompt\\\": {\\\"description\\\": \\\"Retrieve the ACC guidelines for managing atrial fibrillation with a focus on catheter ablation and stroke risk reduction for patients with peripheral arterial disease (PAD).\\\", \\\"type\\\": \\\"str\\\"}}\"\u001b[00m\n",
            "\u001b[95m## Tool Output:\u001b[00m \u001b[92m\n",
            "\n",
            "I encountered an error while trying to use the tool. This was the error: Arguments validation failed: 1 validation error for PromptInput\n",
            "prompt\n",
            "  Input should be a valid string [type=string_type, input_value={'description': 'Retrieve... (PAD).', 'type': 'str'}, input_type=dict]\n",
            "    For further information visit https://errors.pydantic.dev/2.10/v/string_type.\n",
            " Tool Graphlit RAG prompt tool accepts these inputs: Tool Name: Graphlit RAG prompt tool\n",
            "Tool Arguments: {'prompt': {'description': 'Text prompt which is provided to LLM for completion, via RAG pipeline.', 'type': 'str'}}\n",
            "Tool Description: Accepts user prompt as string.\n",
            "    Prompts LLM with relevant content and returns completion from RAG pipeline. Returns Markdown text from LLM completion.\n",
            "    Uses vector embeddings and similarity search to retrieve relevant content from knowledge base.\n",
            "    Can search through web pages, PDFs, audio transcripts, and other unstructured data..\n",
            "Moving on then. I MUST either use a tool (use one at time) OR give my best final answer not both at the same time. To Use the following format:\n",
            "\n",
            "Thought: you should always think about what to do\n",
            "Action: the action to take, should be one of [Graphlit RAG prompt tool]\n",
            "Action Input: the input to the action, dictionary enclosed in curly braces\n",
            "Observation: the result of the action\n",
            "... (this Thought/Action/Action Input/Result can repeat N times)\n",
            "Thought: I now can give a great answer\n",
            "Final Answer: Your final answer must be the great and the most complete as possible, it must be outcome described\n",
            "\n",
            "\u001b[00m\n",
            "\n",
            "\n",
            "\u001b[1m\u001b[95m# Agent:\u001b[00m \u001b[1m\u001b[92mGuideline Expert\u001b[00m\n",
            "\u001b[95m## Thought:\u001b[00m \u001b[92mThought: I need to retrieve the relevant ACC guidelines regarding the management of atrial fibrillation, particularly focusing on treatment options like catheter ablation and considerations for peripheral arterial disease (PAD).\u001b[00m\n",
            "\u001b[95m## Using tool:\u001b[00m \u001b[92mGraphlit RAG prompt tool\u001b[00m\n",
            "\u001b[95m## Tool Input:\u001b[00m \u001b[92m\n",
            "\"{\\\"prompt\\\": \\\"Retrieve the ACC guidelines for managing atrial fibrillation with a focus on catheter ablation and stroke risk reduction for patients with peripheral arterial disease (PAD).\\\"}\"\u001b[00m\n",
            "\u001b[95m## Tool Output:\u001b[00m \u001b[92m\n",
            "The ACC guidelines for managing atrial fibrillation emphasize the importance of catheter ablation as a treatment option for patients who do not respond well to medication. Catheter ablation is recommended for rhythm control in symptomatic patients with atrial fibrillation, particularly when antiarrhythmic drugs are ineffective or not tolerated.\n",
            "\n",
            "For patients with peripheral arterial disease (PAD), the guidelines highlight the need for comprehensive stroke risk reduction strategies. This includes the use of antithrombotic therapy to prevent thromboembolic events, which is crucial given the increased cardiovascular risk associated with PAD.\u001b[00m\n",
            "\n",
            "\n",
            "\u001b[1m\u001b[95m# Agent:\u001b[00m \u001b[1m\u001b[92mGuideline Expert\u001b[00m\n",
            "\u001b[95m## Thought:\u001b[00m \u001b[92mThought: I now need to ensure I have all the relevant details from the guidelines specifically related to catheter ablation and stroke risk reduction for managing atrial fibrillation in patients with PAD.\u001b[00m\n",
            "\u001b[95m## Using tool:\u001b[00m \u001b[92mGraphlit RAG prompt tool\u001b[00m\n",
            "\u001b[95m## Tool Input:\u001b[00m \u001b[92m\n",
            "\"{\\\"prompt\\\": \\\"Please provide the ACC guidelines on catheter ablation for atrial fibrillation management and details on stroke risk reduction for patients with peripheral arterial disease.\\\"}\"\u001b[00m\n",
            "\u001b[95m## Tool Output:\u001b[00m \u001b[92m\n",
            "The ACC guidelines on catheter ablation for atrial fibrillation management emphasize its role in patients who have symptomatic atrial fibrillation despite optimal medical therapy. Catheter ablation is recommended for rhythm control in patients with paroxysmal atrial fibrillation and can be considered for those with persistent atrial fibrillation. The procedure aims to improve symptoms and quality of life, and it is most effective when performed by experienced operators in high-volume centers.\n",
            "\n",
            "For stroke risk reduction in patients with peripheral arterial disease (PAD), the guidelines recommend a comprehensive approach that includes lifestyle modifications, pharmacotherapy, and possibly revascularization procedures. Antiplatelet therapy, such as aspirin or clopidogrel, is commonly used to reduce the risk of cardiovascular events. Additionally, managing risk factors like hypertension, hyperlipidemia, and diabetes is crucial in reducing stroke risk in these patients.\u001b[00m\n",
            "\n",
            "\n",
            "\u001b[1m\u001b[95m# Agent:\u001b[00m \u001b[1m\u001b[92mGuideline Expert\u001b[00m\n",
            "\u001b[95m## Final Answer:\u001b[00m \u001b[92m\n",
            "The ACC guidelines for managing atrial fibrillation in patients, including those with peripheral arterial disease (PAD), outline several key recommendations regarding treatment options, specifically focusing on catheter ablation and stroke risk reduction:\n",
            "\n",
            "1. **Catheter Ablation**:\n",
            "   - **Indication**: Catheter ablation is indicated for patients with symptomatic atrial fibrillation who have not responded adequately to antiarrhythmic medication. This procedure is particularly recommended for:\n",
            "     - Patients with paroxysmal atrial fibrillation.\n",
            "     - Patients with persistent atrial fibrillation who continue to experience symptoms despite optimal drug therapy.\n",
            "   - **Goals**: The primary goals of catheter ablation are to restore and maintain sinus rhythm, reduce symptoms, and improve quality of life.\n",
            "   - **Considerations**: It is advised that the ablation procedure be performed in experienced centers by operators with significant expertise, as this is associated with better outcomes.\n",
            "\n",
            "2. **Stroke Risk Reduction**:\n",
            "   - **Antithrombotic Therapy**: Patients with atrial fibrillation and PAD are at an increased risk for thromboembolic events. Stroke risk reduction strategies should include:\n",
            "     - The use of antiplatelet agents (e.g., aspirin or clopidogrel) to help prevent cardiovascular events.\n",
            "     - Consideration of anticoagulant therapy in certain high-risk patients, particularly those with significant comorbidities and elevated stroke risk based on scoring systems like the CHA2DS2-VASc score.\n",
            "   - **Comprehensive Management**: The guidelines advocate for thorough management of cardiovascular risk factors, including hypertension, hyperlipidemia, and diabetes, as part of a holistic approach in reducing stroke risk.\n",
            "\n",
            "These recommendations highlight the need for a tailored approach in managing atrial fibrillation for patients with peripheral arterial disease, ensuring that effective treatment strategies are implemented to improve outcomes and minimize risks.\u001b[00m\n",
            "\n",
            "\n",
            "\u001b[1m\u001b[95m# Agent:\u001b[00m \u001b[1m\u001b[92mPatient Educator\u001b[00m\n",
            "\u001b[95m## Task:\u001b[00m \u001b[92mTranslate the guidelines into patient-friendly language.\u001b[00m\n",
            "\n",
            "\n",
            "\u001b[1m\u001b[95m# Agent:\u001b[00m \u001b[1m\u001b[92mPatient Educator\u001b[00m\n",
            "\u001b[95m## Final Answer:\u001b[00m \u001b[92m\n",
            "Managing atrial fibrillation (AF), which is an irregular heartbeat, involves several treatment options to help you feel better and reduce your risk of complications, especially if you also have peripheral arterial disease (PAD). Here’s what you need to know about the choices available for managing AF:\n",
            "\n",
            "1. **Catheter Ablation**:\n",
            "   - **What is it?** Catheter ablation is a procedure where doctors use thin, flexible tubes (catheters) to destroy specific areas of the heart that are causing irregular rhythms. \n",
            "   - **Who is it for?** This option is suggested for people with symptoms from their AF who haven’t done well with heart rhythm medications. It’s particularly good for:\n",
            "     - Those who have episodes of AF that come and go (called paroxysmal AF).\n",
            "     - People who have persistent AF and continue to have symptoms despite taking medication as directed.\n",
            "   - **What are the goals?** The main goals of this procedure are to restore a normal heart rhythm (called sinus rhythm), reduce symptoms (like feeling your heart racing or out of breath), and improve your overall quality of life.\n",
            "   - **Important note:** It's crucial to have this procedure done by experienced doctors in reputable heart centers to ensure better results.\n",
            "\n",
            "2. **Stroke Risk Reduction**:\n",
            "   - **Why is it important?** Having AF increases the risk of blood clots and strokes, especially in people with PAD. Therefore, taking steps to reduce this risk is vital.\n",
            "   - **What can help?** \n",
            "     - **Antiplatelet therapy:** You might be advised to take medicines like aspirin or clopidogrel, which help prevent blood clots.\n",
            "     - **Anticoagulant therapy:** In some high-risk cases, like if you have other significant health problems, your doctor might recommend anticoagulants (blood thinners) to further decrease your stroke risk. This is often based on scores like the CHA2DS2-VASc, which assess your overall risk.\n",
            "   - **Managing other health issues:** It's important to keep other health conditions like high blood pressure, high cholesterol, and diabetes under control. Managing these effectively can also help lower your risk of strokes and other cardiovascular problems.\n",
            "\n",
            "In summary, there are effective treatment options for managing atrial fibrillation, especially for those with peripheral arterial disease. Whether it’s considering catheter ablation to restore a normal heartbeat or taking medications to prevent strokes, you and your healthcare team can work together to find the right strategy for you. The goal is to help you live a healthier, more comfortable life while minimizing the risks associated with atrial fibrillation.\u001b[00m\n",
            "\n",
            "\n",
            "\u001b[1m\u001b[95m# Agent:\u001b[00m \u001b[1m\u001b[92mTreatment Planner\u001b[00m\n",
            "\u001b[95m## Task:\u001b[00m \u001b[92mPersonalize the treatment plan according to the patient's preferences.\u001b[00m\n",
            "\n",
            "\n",
            "\u001b[1m\u001b[95m# Agent:\u001b[00m \u001b[1m\u001b[92mTreatment Planner\u001b[00m\n",
            "\u001b[95m## Final Answer:\u001b[00m \u001b[92m\n",
            "**Personalized Treatment Plan for Sarah Johnson**\n",
            "\n",
            "**Patient Profile:**\n",
            "- **Name:** Sarah Johnson\n",
            "- **Condition:** Atrial Fibrillation (AF) with Peripheral Arterial Disease (PAD)\n",
            "- **Preferences:** Strong preference for minimally invasive procedures\n",
            "\n",
            "**Treatment Objectives:**\n",
            "1. Restore normal heart rhythm (sinus rhythm) and reduce symptoms associated with atrial fibrillation.\n",
            "2. Decrease the risk of stroke and other cardiovascular complications, particularly given the presence of PAD.\n",
            "3. Ensure an approach that aligns with Sarah's preference for minimally invasive treatments.\n",
            "\n",
            "**Plan Components:**\n",
            "\n",
            "1. **Procedure Choice - Catheter Ablation:**\n",
            "   - **Rationale:** Given Sarah's preference for minimally invasive procedures and potential ongoing symptoms from AF, catheter ablation is a highly suitable option. This procedure aims to create small scars in the heart tissue that can help eliminate the abnormal electrical signals causing the irregular heart rhythm. \n",
            "   - **Approach:** \n",
            "     - Schedule a consultation with an electrophysiologist experienced in catheter ablation, particularly with patients who have AF and PAD. \n",
            "     - Conduct necessary pre-procedure evaluations (e.g., echocardiogram, holter monitor).\n",
            "     - Explain the procedure, recovery expectations, and potential risks to ensure Sarah is well-informed and comfortable proceeding. \n",
            "\n",
            "2. **Stroke Risk Management:**\n",
            "   - **Anticoagulation Therapy:** Following the ablation procedure, initiate anticoagulant therapy to reduce the risk of stroke, adjusted to Sarah’s specific risk factors based on the CHA2DS2-VASc scoring system.\n",
            "   - **Antiplatelet Therapy:** Consider adding low-dose aspirin or clopidogrel in conjunction with anticoagulants if deemed beneficial based on Sarah's cardiovascular profile and under the close supervision of her healthcare team.\n",
            "   - **Monitoring:** Regularly monitor platelet levels and anticoagulation effectiveness with scheduled follow-up appointments.\n",
            "\n",
            "3. **Lifestyle Modifications:**\n",
            "   - **Health Management:** Encourage Sarah to maintain control over other cardiovascular risk factors:\n",
            "     - Implement lifestyle changes, including a heart-healthy diet, regular physical activity appropriate to her PAD condition, and weight management.\n",
            "     - Schedule routine check-ups for monitoring blood pressure, cholesterol levels, and glucose levels if applicable.\n",
            " \n",
            "4. **Patient Education & Support:**\n",
            "   - Provide educational materials regarding atrial fibrillation, the importance of stroke prevention, and details about the catheter ablation process.\n",
            "   - Discuss discussing support groups or counseling services available for individuals undergoing treatment for AF, emphasizing community resources.\n",
            "\n",
            "5. **Follow-Up Care:**\n",
            "   - **Post-Procedure Monitoring:** Schedule a follow-up appointment 4-6 weeks after the catheter ablation to assess recovery, heart rhythm stability, and adjust medications as necessary.\n",
            "   - **Long-term Management:** Institute a long-term management plan to include regular follow-ups to monitor heart health and review anticoagulation therapy efficacy, potentially aiming to decrease medication burden if sinus rhythm is successfully maintained.\n",
            "\n",
            "**Expected Outcomes:**\n",
            "- Restoration of normal heart rhythm (if successful).\n",
            "- Reduction in AF-related symptoms leading to improved quality of life.\n",
            "- Decreased risk of stroke due to effective management of anticoagulant therapy and vigilant lifestyle modifications.\n",
            "- Continual engagement and support for Sarah to maintain her health and well-being.\n",
            "\n",
            "This personalized treatment plan aims to accommodate Sarah Johnson's preferences while effectively managing her atrial fibrillation and reducing her risk of complications associated with her condition.\u001b[00m\n",
            "\n",
            "\n",
            "\u001b[1m\u001b[95m# Agent:\u001b[00m \u001b[1m\u001b[92mOutput Generator\u001b[00m\n",
            "\u001b[95m## Task:\u001b[00m \u001b[92mGenerate a patient decision aid document.\u001b[00m\n",
            "\n",
            "\n",
            "\u001b[1m\u001b[95m# Agent:\u001b[00m \u001b[1m\u001b[92mOutput Generator\u001b[00m\n",
            "\u001b[95m## Final Answer:\u001b[00m \u001b[92m\n",
            "**Patient Decision Aid Document: Sarah Johnson’s Personalized Treatment Plan**\n",
            "\n",
            "---\n",
            "\n",
            "**Patient Profile:**\n",
            "\n",
            "- **Name:** Sarah Johnson\n",
            "- **Condition:** Atrial Fibrillation (AF) with Peripheral Arterial Disease (PAD)\n",
            "- **Preferences:** Strong preference for minimally invasive procedures\n",
            "\n",
            "---\n",
            "\n",
            "### **Treatment Objectives**\n",
            "\n",
            "1. **Restore normal heart rhythm (sinus rhythm)** and reduce symptoms associated with atrial fibrillation.\n",
            "2. **Decrease the risk of stroke** and other cardiovascular complications, particularly given the presence of PAD.\n",
            "3. **Ensure an approach** that aligns with Sarah's preference for minimally invasive treatments.\n",
            "\n",
            "---\n",
            "\n",
            "### **Plan Components**\n",
            "\n",
            "#### 1. **Procedure Choice - Catheter Ablation**\n",
            "   - **Rationale:** Catheter ablation is highly suitable given Sarah's preference for minimally invasive procedures and her ongoing AF symptoms. This procedure creates small scars in the heart tissue to eliminate the abnormal electrical signals causing AF.\n",
            "   - **Approach:**\n",
            "     - Schedule a consultation with an **electrophysiologist** experienced in catheter ablation, specifically considering patients with both AF and PAD.\n",
            "     - Conduct necessary **pre-procedure evaluations** (e.g., echocardiogram, Holter monitor).\n",
            "     - Discuss the procedure, recovery expectations, and potential risks to ensure Sarah is well-informed and comfortable proceeding.\n",
            "\n",
            "#### 2. **Stroke Risk Management**\n",
            "   - **Anticoagulation Therapy:** After the ablation, initiate **anticoagulant therapy** to mitigate stroke risk, tailored to Sarah’s specific risk factors using the **CHA2DS2-VASc scoring system**.\n",
            "   - **Antiplatelet Therapy:** Consider low-dose **aspirin** or **clopidogrel** alongside anticoagulants based on her cardiovascular profile and under healthcare team supervision.\n",
            "   - **Monitoring:** Regularly assess platelet levels and **anticoagulation effectiveness** with scheduled follow-up appointments.\n",
            "\n",
            "#### 3. **Lifestyle Modifications**\n",
            "   - **Health Management:** Advise Sarah to manage other cardiovascular risk factors:\n",
            "     - Adopt **lifestyle changes**, including a heart-healthy diet, regular physical activity tailored to her PAD, and weight management.\n",
            "     - Schedule routine check-ups to monitor **blood pressure**, **cholesterol**, and **glucose levels** if needed.\n",
            "\n",
            "#### 4. **Patient Education & Support**\n",
            "   - Provide educational materials concerning **atrial fibrillation**, the significance of stroke prevention, and details about the catheter ablation process.\n",
            "   - Discuss available **support groups** or counseling services for those undergoing AF treatment, highlighting community resources.\n",
            "\n",
            "#### 5. **Follow-Up Care**\n",
            "   - **Post-Procedure Monitoring:** Organize a follow-up appointment **4-6 weeks after the catheter ablation** to evaluate recovery, heart rhythm stability, and medication adjustments.\n",
            "   - **Long-term Management:** Develop a long-term plan for regular follow-ups to monitor heart health and review **anticoagulation therapy efficacy**, potentially reducing medication burden if sinus rhythm is established successfully.\n",
            "\n",
            "---\n",
            "\n",
            "### **Expected Outcomes**\n",
            "\n",
            "- Successful restoration of normal heart rhythm, if the procedure is effective.\n",
            "- Reduction in AF-related symptoms, leading to improved **quality of life**.\n",
            "- Decreased risk of stroke due to effective anticoagulant management and proactive lifestyle modifications.\n",
            "- Continued engagement and support for Sarah to promote her health and well-being.\n",
            "\n",
            "---\n",
            "\n",
            "This personalized treatment plan is designed to align with Sarah Johnson's preferences and effectively manage her atrial fibrillation while minimizing the risk of complications arising from her condition. \n",
            "\n",
            "If you have any questions or need further information, please do not hesitate to reach out to your healthcare provider.\u001b[00m\n",
            "\n",
            "\n",
            "Final Patient Decision Aid:\n",
            "**Patient Decision Aid Document: Sarah Johnson’s Personalized Treatment Plan**\n",
            "\n",
            "---\n",
            "\n",
            "**Patient Profile:**\n",
            "\n",
            "- **Name:** Sarah Johnson\n",
            "- **Condition:** Atrial Fibrillation (AF) with Peripheral Arterial Disease (PAD)\n",
            "- **Preferences:** Strong preference for minimally invasive procedures\n",
            "\n",
            "---\n",
            "\n",
            "### **Treatment Objectives**\n",
            "\n",
            "1. **Restore normal heart rhythm (sinus rhythm)** and reduce symptoms associated with atrial fibrillation.\n",
            "2. **Decrease the risk of stroke** and other cardiovascular complications, particularly given the presence of PAD.\n",
            "3. **Ensure an approach** that aligns with Sarah's preference for minimally invasive treatments.\n",
            "\n",
            "---\n",
            "\n",
            "### **Plan Components**\n",
            "\n",
            "#### 1. **Procedure Choice - Catheter Ablation**\n",
            "   - **Rationale:** Catheter ablation is highly suitable given Sarah's preference for minimally invasive procedures and her ongoing AF symptoms. This procedure creates small scars in the heart tissue to eliminate the abnormal electrical signals causing AF.\n",
            "   - **Approach:**\n",
            "     - Schedule a consultation with an **electrophysiologist** experienced in catheter ablation, specifically considering patients with both AF and PAD.\n",
            "     - Conduct necessary **pre-procedure evaluations** (e.g., echocardiogram, Holter monitor).\n",
            "     - Discuss the procedure, recovery expectations, and potential risks to ensure Sarah is well-informed and comfortable proceeding.\n",
            "\n",
            "#### 2. **Stroke Risk Management**\n",
            "   - **Anticoagulation Therapy:** After the ablation, initiate **anticoagulant therapy** to mitigate stroke risk, tailored to Sarah’s specific risk factors using the **CHA2DS2-VASc scoring system**.\n",
            "   - **Antiplatelet Therapy:** Consider low-dose **aspirin** or **clopidogrel** alongside anticoagulants based on her cardiovascular profile and under healthcare team supervision.\n",
            "   - **Monitoring:** Regularly assess platelet levels and **anticoagulation effectiveness** with scheduled follow-up appointments.\n",
            "\n",
            "#### 3. **Lifestyle Modifications**\n",
            "   - **Health Management:** Advise Sarah to manage other cardiovascular risk factors:\n",
            "     - Adopt **lifestyle changes**, including a heart-healthy diet, regular physical activity tailored to her PAD, and weight management.\n",
            "     - Schedule routine check-ups to monitor **blood pressure**, **cholesterol**, and **glucose levels** if needed.\n",
            "\n",
            "#### 4. **Patient Education & Support**\n",
            "   - Provide educational materials concerning **atrial fibrillation**, the significance of stroke prevention, and details about the catheter ablation process.\n",
            "   - Discuss available **support groups** or counseling services for those undergoing AF treatment, highlighting community resources.\n",
            "\n",
            "#### 5. **Follow-Up Care**\n",
            "   - **Post-Procedure Monitoring:** Organize a follow-up appointment **4-6 weeks after the catheter ablation** to evaluate recovery, heart rhythm stability, and medication adjustments.\n",
            "   - **Long-term Management:** Develop a long-term plan for regular follow-ups to monitor heart health and review **anticoagulation therapy efficacy**, potentially reducing medication burden if sinus rhythm is established successfully.\n",
            "\n",
            "---\n",
            "\n",
            "### **Expected Outcomes**\n",
            "\n",
            "- Successful restoration of normal heart rhythm, if the procedure is effective.\n",
            "- Reduction in AF-related symptoms, leading to improved **quality of life**.\n",
            "- Decreased risk of stroke due to effective anticoagulant management and proactive lifestyle modifications.\n",
            "- Continued engagement and support for Sarah to promote her health and well-being.\n",
            "\n",
            "---\n",
            "\n",
            "This personalized treatment plan is designed to align with Sarah Johnson's preferences and effectively manage her atrial fibrillation while minimizing the risk of complications arising from her condition. \n",
            "\n",
            "If you have any questions or need further information, please do not hesitate to reach out to your healthcare provider.\n"
          ]
        }
      ]
    }
  ]
}