{
  "nbformat": 4,
  "nbformat_minor": 0,
  "metadata": {
    "colab": {
      "provenance": [],
      "authorship_tag": "ABX9TyNkJIBMUnvKEyRMyM9OXw+U",
      "include_colab_link": true
    },
    "kernelspec": {
      "name": "python3",
      "display_name": "Python 3"
    },
    "language_info": {
      "name": "python"
    }
  },
  "cells": [
    {
      "cell_type": "markdown",
      "metadata": {
        "id": "view-in-github",
        "colab_type": "text"
      },
      "source": [
        "<a href=\"https://colab.research.google.com/github/graphlit/graphlit-samples/blob/main/python/Notebook%20Examples/Graphlit_2024_09_21_CrewAI_Medical_AI_Agent.ipynb\" target=\"_parent\"><img src=\"https://colab.research.google.com/assets/colab-badge.svg\" alt=\"Open In Colab\"/></a>"
      ]
    },
    {
      "cell_type": "markdown",
      "source": [
        "**Description**\n",
        "\n",
        "This example shows how to use Graphlit with CrewAI. Based on this [great blog post](https://farzzy.hashnode.dev/building-healthcare-ai-agent-medical-guidelines) and [notebook](https://farzzy.hashnode.dev/building-healthcare-ai-agent-medical-guidelines) written by Farzad Sunavala, we emulate Farzad's workflow and show how to use Graphlit instead of LlamaIndex, while already leveraging Azure AI Search under the hood."
      ],
      "metadata": {
        "id": "gvxWpDjVamY1"
      }
    },
    {
      "cell_type": "markdown",
      "source": [
        "**Requirements**\n",
        "\n",
        "Prior to running this notebook, you will need to [signup](https://docs.graphlit.dev/getting-started/signup) for Graphlit, and [create a project](https://docs.graphlit.dev/getting-started/create-project).\n",
        "\n",
        "You will need the Graphlit organization ID, preview environment ID and JWT secret from your created project.\n",
        "\n",
        "Assign these properties as Colab secrets: GRAPHLIT_ORGANIZATION_ID, GRAPHLIT_ENVIRONMENT_ID and GRAPHLIT_JWT_SECRET.\n",
        "\n",
        "For CrewAI, you will need your OpenAI API key.\n",
        "\n",
        "Assign this property as Colab secret: OPENAI_API_KEY\n",
        "\n",
        "---"
      ],
      "metadata": {
        "id": "6fUPAkNqaNic"
      }
    },
    {
      "cell_type": "code",
      "source": [
        "!pip install --upgrade graphlit-tools[crewai]"
      ],
      "metadata": {
        "id": "DlIzErtofaWT"
      },
      "execution_count": null,
      "outputs": []
    },
    {
      "cell_type": "markdown",
      "source": [
        "Clone the original repo to access the PDFs"
      ],
      "metadata": {
        "id": "LgvjqV-Y5GKo"
      }
    },
    {
      "cell_type": "code",
      "source": [
        "!rm -rf azure-ai-search-python-playground\n",
        "!git clone https://github.com/farzad528/azure-ai-search-python-playground"
      ],
      "metadata": {
        "id": "wx1jyCbfeNU9"
      },
      "execution_count": null,
      "outputs": []
    },
    {
      "cell_type": "markdown",
      "source": [
        "Initialize Graphlit"
      ],
      "metadata": {
        "id": "XqGt4RCaagNv"
      }
    },
    {
      "cell_type": "code",
      "source": [
        "import os\n",
        "from google.colab import userdata\n",
        "from graphlit import Graphlit\n",
        "from graphlit_api import input_types, enums, exceptions\n",
        "\n",
        "os.environ['GRAPHLIT_ORGANIZATION_ID'] = userdata.get('GRAPHLIT_ORGANIZATION_ID')\n",
        "os.environ['GRAPHLIT_ENVIRONMENT_ID'] = userdata.get('GRAPHLIT_ENVIRONMENT_ID')\n",
        "os.environ['GRAPHLIT_JWT_SECRET'] = userdata.get('GRAPHLIT_JWT_SECRET')\n",
        "\n",
        "graphlit = Graphlit()"
      ],
      "metadata": {
        "id": "eF6MdPG4aWc7"
      },
      "execution_count": null,
      "outputs": []
    },
    {
      "cell_type": "markdown",
      "source": [
        "Initialize sample data"
      ],
      "metadata": {
        "id": "rKo8ZqoS5vnD"
      }
    },
    {
      "cell_type": "code",
      "source": [
        "DATA_DIRECTORY = \"azure-ai-search-python-playground\"\n",
        "\n",
        "PATH_PDFS = DATA_DIRECTORY + \"/data/acc/\""
      ],
      "metadata": {
        "id": "bqzYqYXvf5VA"
      },
      "execution_count": null,
      "outputs": []
    },
    {
      "cell_type": "markdown",
      "source": [
        "Define Graphlit helper functions"
      ],
      "metadata": {
        "id": "PWRSPFD51pMR"
      }
    },
    {
      "cell_type": "code",
      "source": [
        "import base64\n",
        "import mimetypes\n",
        "import asyncio\n",
        "import time\n",
        "from typing import List, Optional\n",
        "from tqdm.asyncio import tqdm\n",
        "\n",
        "async def process_file(filename, progress_bar):\n",
        "    pdf_path = os.path.join(PATH_PDFS, filename)\n",
        "\n",
        "    print(f'Starting to ingest content from [{pdf_path}].')\n",
        "\n",
        "    content_id = await ingest_file(pdf_path)\n",
        "\n",
        "    if content_id is not None:\n",
        "        print(f'Completed ingesting content [{content_id}] from [{pdf_path}].')\n",
        "\n",
        "    progress_bar.update(1)\n",
        "\n",
        "# NOTE: for local files, load from disk and convert to Base64 data\n",
        "async def ingest_file(file_path: str):\n",
        "    if graphlit.client is None:\n",
        "        return;\n",
        "\n",
        "    try:\n",
        "        file_name = os.path.basename(file_path)\n",
        "        content_name, _ = os.path.splitext(file_name)\n",
        "\n",
        "        mime_type = mimetypes.guess_type(file_name)[0]\n",
        "\n",
        "        if mime_type is None:\n",
        "            print('Failed to infer MIME type')\n",
        "            return None\n",
        "\n",
        "        with open(file_path, \"rb\") as file:\n",
        "            file_content = file.read()\n",
        "\n",
        "        base64_content = base64.b64encode(file_content).decode('utf-8')\n",
        "\n",
        "        response = await graphlit.client.ingest_encoded_file(content_name, base64_content, mime_type, is_synchronous=True)\n",
        "\n",
        "        return response.ingest_encoded_file.id if response.ingest_encoded_file is not None else None\n",
        "    except exceptions.GraphQLClientError as e:\n",
        "        print(str(e))\n",
        "        return None\n",
        "\n",
        "async def create_openai_specification(model: enums.OpenAIModels):\n",
        "    if graphlit.client is None:\n",
        "        return;\n",
        "\n",
        "    input = input_types.SpecificationInput(\n",
        "        name=f\"OpenAI [{str(model)}]\",\n",
        "        type=enums.SpecificationTypes.COMPLETION,\n",
        "        serviceType=enums.ModelServiceTypes.OPEN_AI,\n",
        "        openAI=input_types.OpenAIModelPropertiesInput(\n",
        "            model=model,\n",
        "        ),\n",
        "        strategy=input_types.ConversationStrategyInput(\n",
        "            embedCitations=True\n",
        "        ),\n",
        "        retrievalStrategy=input_types.RetrievalStrategyInput(\n",
        "            type=enums.RetrievalStrategyTypes.SECTION\n",
        "        ),\n",
        "        rerankingStrategy=input_types.RerankingStrategyInput(\n",
        "            serviceType=enums.RerankingModelServiceTypes.COHERE\n",
        "        )\n",
        "    )\n",
        "\n",
        "    try:\n",
        "        response = await graphlit.client.create_specification(input)\n",
        "\n",
        "        return response.create_specification.id if response.create_specification is not None else None\n",
        "    except exceptions.GraphQLClientError as e:\n",
        "        print(str(e))\n",
        "        return None\n",
        "\n",
        "    return None\n",
        "\n",
        "async def create_conversation(specification_id: str):\n",
        "    if graphlit.client is None:\n",
        "        return;\n",
        "\n",
        "    input = input_types.ConversationInput(\n",
        "        name=\"Conversation\",\n",
        "        specification=input_types.EntityReferenceInput(\n",
        "            id=specification_id\n",
        "        )\n",
        "    )\n",
        "\n",
        "    try:\n",
        "        response = await graphlit.client.create_conversation(input)\n",
        "\n",
        "        return response.create_conversation.id if response.create_conversation is not None else None\n",
        "    except exceptions.GraphQLClientError as e:\n",
        "        print(str(e))\n",
        "        return None\n",
        "\n",
        "async def prompt_conversation(conversation_id: str, prompt: str):\n",
        "    if graphlit.client is None:\n",
        "        return None, None\n",
        "\n",
        "    try:\n",
        "        response = await graphlit.client.prompt_conversation(prompt, conversation_id)\n",
        "\n",
        "        message = response.prompt_conversation.message.message if response.prompt_conversation is not None and response.prompt_conversation.message is not None else None\n",
        "        citations = response.prompt_conversation.message.citations if response.prompt_conversation is not None and response.prompt_conversation.message is not None else None\n",
        "\n",
        "        return message, citations\n",
        "    except exceptions.GraphQLClientError as e:\n",
        "        print(str(e))\n",
        "        return None, None\n",
        "\n",
        "# NOTE: these functions are just used to clean-up old data before executing the example\n",
        "async def delete_all_specifications():\n",
        "    if graphlit.client is None:\n",
        "        return;\n",
        "\n",
        "    _ = await graphlit.client.delete_all_specifications(is_synchronous=True)\n",
        "\n",
        "async def delete_all_conversations():\n",
        "    if graphlit.client is None:\n",
        "        return;\n",
        "\n",
        "    _ = await graphlit.client.delete_all_conversations(is_synchronous=True)\n",
        "\n",
        "async def delete_all_contents():\n",
        "    if graphlit.client is None:\n",
        "        return;\n",
        "\n",
        "    _ = await graphlit.client.delete_all_contents(is_synchronous=True)"
      ],
      "metadata": {
        "id": "cJFYJ0091rKj"
      },
      "execution_count": null,
      "outputs": []
    },
    {
      "cell_type": "markdown",
      "source": [
        "Ingest sample PDFs"
      ],
      "metadata": {
        "id": "PEmBPRxG17IP"
      }
    },
    {
      "cell_type": "code",
      "source": [
        "import nest_asyncio\n",
        "\n",
        "nest_asyncio.apply()"
      ],
      "metadata": {
        "id": "in-I4uU73xv1"
      },
      "execution_count": null,
      "outputs": []
    },
    {
      "cell_type": "code",
      "source": [
        "# Remove any existing contents; only needed for notebook example\n",
        "await delete_all_contents()\n",
        "\n",
        "print('Deleted all contents.')\n",
        "\n",
        "# List of files to process\n",
        "files = os.listdir(PATH_PDFS)\n",
        "\n",
        "progress_bar = tqdm(total=len(files))\n",
        "\n",
        "tasks = [process_file(filename, progress_bar) for filename in files]\n",
        "\n",
        "await asyncio.gather(*tasks)\n",
        "\n",
        "print('Ingested all contents.')"
      ],
      "metadata": {
        "id": "Zg9Nb0XR13uL"
      },
      "execution_count": null,
      "outputs": []
    },
    {
      "cell_type": "markdown",
      "source": [
        "Copied from original notebook, for patient configuration"
      ],
      "metadata": {
        "id": "_TbmvDU46A0Q"
      }
    },
    {
      "cell_type": "code",
      "source": [
        "# Define complex patient profile\n",
        "patient_profile = {\n",
        "    \"patient_id\": \"43454357890\",\n",
        "    \"name\": \"Sarah Johnson\",\n",
        "    \"age\": 68,\n",
        "    \"gender\": \"Female\",\n",
        "    \"height_cm\": 165,\n",
        "    \"weight_kg\": 72,\n",
        "    \"bmi\": 26.4,\n",
        "    \"blood_type\": \"A-\",\n",
        "    \"allergies\": [\"Sulfa drugs\"],\n",
        "    \"current_medications\": [\n",
        "        \"Flecainide\",\n",
        "        \"Apixaban\",\n",
        "        \"Metoprolol\",\n",
        "        \"Atorvastatin\",\n",
        "        \"Cilostazol\",\n",
        "    ],\n",
        "    \"chronic_conditions\": {\n",
        "        \"atrial_fibrillation\": True,\n",
        "        \"peripheral_arterial_disease\": True,\n",
        "        \"hypertension\": True,\n",
        "        \"hyperlipidemia\": True,\n",
        "        \"coronary_artery_disease\": False,\n",
        "    },\n",
        "    \"family_medical_history\": {\"heart_disease\": True, \"stroke\": True, \"cancer\": False},\n",
        "    \"lifestyle_factors\": {\n",
        "        \"smoking\": \"Former smoker, quit 5 years ago\",\n",
        "        \"alcohol_use\": \"Rare\",\n",
        "        \"physical_activity_per_week\": \"4-5 days\",\n",
        "        \"diet\": \"Heart-healthy, low-sodium\",\n",
        "        \"sleep_hours_per_night\": 6,\n",
        "    },\n",
        "    \"recent_lab_results\": {\n",
        "        \"inr\": 1.4,\n",
        "        \"creatinine_mg_dl\": 1.1,\n",
        "        \"ldl_cholesterol_mg_dl\": 85,\n",
        "        \"hdl_cholesterol_mg_dl\": 55,\n",
        "        \"blood_pressure_mm_hg\": \"135/80\",\n",
        "    },\n",
        "    \"vaccination_status\": {\n",
        "        \"influenza_vaccine\": True,\n",
        "        \"covid_vaccine\": True,\n",
        "        \"pneumonia_vaccine\": True,\n",
        "    },\n",
        "    \"surgical_history\": [\n",
        "        \"Carotid endarterectomy\",\n",
        "        \"Cholecystectomy\",\n",
        "    ],\n",
        "    \"imaging_history\": {\n",
        "        \"last_echocardiogram_date\": \"2024-07-15\",\n",
        "        \"last_carotid_ultrasound_date\": \"2024-06-20\",\n",
        "    },\n",
        "    \"mental_health\": {\n",
        "        \"anxiety\": True,\n",
        "        \"depression\": False,\n",
        "        \"cognitive_function_issues\": False,\n",
        "    },\n",
        "    \"preferences\": {\n",
        "        \"preferred_treatment_type\": [\n",
        "            \"Minimally invasive procedures\",\n",
        "            \"Evidence-based treatments\",\n",
        "        ],\n",
        "        \"end_of_life_care\": \"Yes\",\n",
        "        \"pain_management\": \"Non-opioid\",\n",
        "    },\n",
        "    \"recent_visits\": [\n",
        "        {\n",
        "            \"visit_date\": \"2024-08-25\",\n",
        "            \"reason\": \"Follow-up for atrial fibrillation\",\n",
        "            \"notes\": \"Recurrence of AF despite flecainide. Discussing ablation vs alternative antiarrhythmic options.\",\n",
        "        },\n",
        "        {\n",
        "            \"visit_date\": \"2024-07-10\",\n",
        "            \"reason\": \"Peripheral arterial disease management\",\n",
        "            \"notes\": \"Stable claudication symptoms. Continue current management and exercise program.\",\n",
        "        },\n",
        "    ],\n",
        "    \"af_management\": {\n",
        "        \"current_treatment\": \"Flecainide\",\n",
        "        \"treatment_history\": [\n",
        "            \"Rate control with metoprolol\",\n",
        "            \"Rhythm control with flecainide\",\n",
        "        ],\n",
        "        \"af_recurrence\": True,\n",
        "        \"considering_options\": [\"Catheter ablation\", \"Alternative antiarrhythmic drug\"],\n",
        "        \"chads2_vasc_score\": 4,\n",
        "        \"has_bled_score\": 2,\n",
        "    },\n",
        "    \"pad_management\": {\n",
        "        \"ankle_brachial_index\": 0.78,\n",
        "        \"fontaine_classification\": \"Stage II\",\n",
        "        \"current_treatment\": [\"Cilostazol\", \"Supervised exercise program\"],\n",
        "        \"last_vascular_assessment\": \"2024-06-20\",\n",
        "    },\n",
        "}"
      ],
      "metadata": {
        "id": "DCq-G8p2nT7L"
      },
      "execution_count": null,
      "outputs": []
    },
    {
      "cell_type": "markdown",
      "source": [
        "Execute example RAG prompt with citations"
      ],
      "metadata": {
        "id": "P0jwfpfN6dbJ"
      }
    },
    {
      "cell_type": "code",
      "source": [
        "import nest_asyncio\n",
        "\n",
        "nest_asyncio.apply()"
      ],
      "metadata": {
        "id": "fp6F_sVMbXc7"
      },
      "execution_count": null,
      "outputs": []
    },
    {
      "cell_type": "code",
      "source": [
        "from IPython.display import display, Markdown, HTML\n",
        "import time\n",
        "\n",
        "# Remove any existing conversations and specifications; only needed for notebook example\n",
        "await delete_all_conversations()\n",
        "await delete_all_specifications()\n",
        "\n",
        "print('Deleted all conversations and specifications.')\n",
        "\n",
        "# Formulate a query based on Sarah Johnson's profile\n",
        "prompt = (\n",
        "    f\"Which option reduces stroke risk for a {patient_profile['age']}-year-old \"\n",
        "    f\"female with atrial fibrillation and peripheral arterial disease, \"\n",
        "    f\"who is considering catheter ablation or antiarrhythmic drug therapy?\"\n",
        ")\n",
        "\n",
        "model = enums.OpenAIModels.GPT4O_MINI_128K\n",
        "#model = enums.OpenAIModels.O1_MINI_128K\n",
        "\n",
        "specification_id = await create_openai_specification(model)\n",
        "\n",
        "if specification_id is not None:\n",
        "    print(f'Created specification [{specification_id}].')\n",
        "\n",
        "    conversation_id = await create_conversation(specification_id=specification_id)\n",
        "\n",
        "    if conversation_id is not None:\n",
        "        message, citations = await prompt_conversation(conversation_id, prompt)\n",
        "\n",
        "        if message is not None:\n",
        "            display(Markdown(f'### Patient-Specific Question Response for {patient_profile[\"name\"]}:'))\n",
        "            display(Markdown(f'**Final Response:**\\n{message}'))\n",
        "            print()\n",
        "\n",
        "        if citations is not None:\n",
        "            print(\"\\nReference Information:\")\n",
        "\n",
        "            for citation in citations:\n",
        "                if citation is not None and citation.content is not None:\n",
        "                    display(Markdown(f'**Citation [{citation.index}]:** {citation.content.name}'))\n",
        "                    display(Markdown(citation.text))\n",
        "                    print()\n"
      ],
      "metadata": {
        "id": "2NDBOdLzmuq_"
      },
      "execution_count": null,
      "outputs": []
    },
    {
      "cell_type": "markdown",
      "source": [
        "Initialize CrewAI"
      ],
      "metadata": {
        "id": "DSLk4gDLazBc"
      }
    },
    {
      "cell_type": "code",
      "source": [
        "from crewai import Agent, Task, Crew, Process\n",
        "from graphlit_tools import PromptTool, CrewAIConverter\n",
        "from textwrap import dedent\n",
        "\n",
        "os.environ['OPENAI_API_KEY'] = userdata.get('OPENAI_API_KEY')\n",
        "\n",
        "prompt_tool = CrewAIConverter.from_tool(PromptTool(graphlit))\n",
        "\n",
        "# Embed patient profile information into the agent goals\n",
        "# Define the CrewAI agents\n",
        "guideline_expert = Agent(\n",
        "    role=\"Guideline Expert\",\n",
        "    goal=(\n",
        "        f\"Retrieve and summarize relevant ACC guidelines for a {patient_profile['age']}-year-old \"\n",
        "        f\"with atrial fibrillation and peripheral arterial disease. \"\n",
        "        \"Focus on treatment options such as catheter ablation and antiarrhythmic therapy.\"\n",
        "    ),\n",
        "    backstory=\"You are an expert on ACC guidelines for managing atrial fibrillation and PAD.\",\n",
        "    tools=[prompt_tool],\n",
        "    verbose=True,\n",
        ")\n",
        "\n",
        "patient_educator = Agent(\n",
        "    role=\"Patient Educator\",\n",
        "    goal=(\n",
        "        f\"Translate the medical guidelines into easy-to-understand terms for Sarah Johnson. \"\n",
        "        \"Focus on explaining the treatment options available for managing atrial fibrillation.\"\n",
        "    ),\n",
        "    backstory=\"You explain complex medical terms in patient-friendly language.\",\n",
        "    verbose=True,\n",
        ")\n",
        "\n",
        "treatment_planner = Agent(\n",
        "    role=\"Treatment Planner\",\n",
        "    goal=(\n",
        "        f\"Create a personalized treatment plan for Sarah Johnson, considering her preference for minimally invasive procedures \"\n",
        "        f\"and her options of catheter ablation or antiarrhythmic therapy.\"\n",
        "    ),\n",
        "    backstory=\"You specialize in personalized treatment plans based on patient history and preferences.\",\n",
        "    verbose=True,\n",
        ")\n",
        "\n",
        "output_generator = Agent(\n",
        "    role=\"Output Generator\",\n",
        "    goal=(\n",
        "        f\"Compile the information into a comprehensive patient decision aid document for Sarah Johnson, \"\n",
        "        f\"including a clear summary of her treatment options and next steps.\"\n",
        "    ),\n",
        "    backstory=\"You ensure that the medical recommendations are presented clearly and concisely.\",\n",
        "    verbose=True,\n",
        ")\n",
        "\n",
        "# Define tasks for each agent\n",
        "task1 = Task(\n",
        "    description=\"Retrieve ACC guidelines for managing atrial fibrillation and PAD.\",\n",
        "    expected_output=\"Summarized guidelines with a focus on catheter ablation and stroke risk reduction.\",\n",
        "    agent=guideline_expert,\n",
        ")\n",
        "\n",
        "task2 = Task(\n",
        "    description=\"Translate the guidelines into patient-friendly language.\",\n",
        "    expected_output=\"Simplified, patient-friendly explanations of the treatment options.\",\n",
        "    agent=patient_educator,\n",
        ")\n",
        "\n",
        "task3 = Task(\n",
        "    description=\"Personalize the treatment plan according to the patient's preferences.\",\n",
        "    expected_output=\"A treatment plan tailored to the patient's specific conditions and preferences.\",\n",
        "    agent=treatment_planner,\n",
        ")\n",
        "\n",
        "task4 = Task(\n",
        "    description=\"Generate a patient decision aid document.\",\n",
        "    expected_output=\"A final decision aid document summarizing the patient's condition and treatment recommendations.\",\n",
        "    agent=output_generator,\n",
        ")\n",
        "\n",
        "# Create the Crew and define the process flow\n",
        "crew = Crew(\n",
        "    agents=[guideline_expert, patient_educator, treatment_planner, output_generator],\n",
        "    tasks=[task1, task2, task3, task4],\n",
        "    process=Process.sequential,  # Ensures tasks are executed in sequence\n",
        "    verbose=True\n",
        ")\n",
        "\n",
        "# Execute the multi-step reasoning process\n",
        "result = await crew.kickoff_async()\n",
        "\n",
        "# Display the final patient decision aid\n",
        "print(\"Final Patient Decision Aid:\")\n",
        "print(result)"
      ],
      "metadata": {
        "id": "0uZ-KmQ8gTf7"
      },
      "execution_count": null,
      "outputs": []
    }
  ]
}