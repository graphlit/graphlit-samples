{
  "nbformat": 4,
  "nbformat_minor": 0,
  "metadata": {
    "colab": {
      "provenance": [],
      "mount_file_id": "1cSnEIDnT7SYyUpfap5KiK6Y_LWLQdk6s",
      "authorship_tag": "ABX9TyORxQoknmFmO/OOZQGlgTgp",
      "include_colab_link": true
    },
    "kernelspec": {
      "name": "python3",
      "display_name": "Python 3"
    },
    "language_info": {
      "name": "python"
    }
  },
  "cells": [
    {
      "cell_type": "markdown",
      "metadata": {
        "id": "view-in-github",
        "colab_type": "text"
      },
      "source": [
        "<a href=\"https://colab.research.google.com/github/graphlit/graphlit-samples/blob/main/python/Notebook%20Examples/Graphlit_2024_09_19_Web_Search_to_RAG.ipynb\" target=\"_parent\"><img src=\"https://colab.research.google.com/assets/colab-badge.svg\" alt=\"Open In Colab\"/></a>"
      ]
    },
    {
      "cell_type": "markdown",
      "source": [
        "**Description**\n",
        "\n",
        "This example shows how to search the Web and ingest web pages, and then search for relevant results and respond based on user prompt."
      ],
      "metadata": {
        "id": "pDz1gRPjOtn5"
      }
    },
    {
      "cell_type": "markdown",
      "source": [
        "**Requirements**\n",
        "\n",
        "Prior to running this notebook, you will need to [signup](https://docs.graphlit.dev/getting-started/signup) for Graphlit, and [create a project](https://docs.graphlit.dev/getting-started/create-project).\n",
        "\n",
        "You will need the Graphlit organization ID, preview environment ID and JWT secret from your created project.\n",
        "\n",
        "Assign these properties as Colab secrets: GRAPHLIT_ORGANIZATION_ID, GRAPHLIT_ENVIRONMENT_ID and GRAPHLIT_JWT_SECRET.\n",
        "\n",
        "\n",
        "---"
      ],
      "metadata": {
        "id": "laG2MXUIhNnx"
      }
    },
    {
      "cell_type": "markdown",
      "source": [
        "Install Graphlit Python client SDK"
      ],
      "metadata": {
        "id": "NwRzDHWWienC"
      }
    },
    {
      "cell_type": "code",
      "execution_count": null,
      "metadata": {
        "id": "fefizrrh4xGD",
        "colab": {
          "base_uri": "https://localhost:8080/"
        },
        "outputId": "cddee1f5-2bfd-4841-e736-3a4c4caec016"
      },
      "outputs": [
        {
          "output_type": "stream",
          "name": "stdout",
          "text": [
            "Requirement already satisfied: graphlit-client in /usr/local/lib/python3.10/dist-packages (1.0.20240914001)\n",
            "Requirement already satisfied: httpx in /usr/local/lib/python3.10/dist-packages (from graphlit-client) (0.27.2)\n",
            "Requirement already satisfied: pydantic<3.0.0,>=2.0.0 in /usr/local/lib/python3.10/dist-packages (from graphlit-client) (2.9.2)\n",
            "Requirement already satisfied: PyJWT in /usr/local/lib/python3.10/dist-packages (from graphlit-client) (2.9.0)\n",
            "Requirement already satisfied: websockets in /usr/local/lib/python3.10/dist-packages (from graphlit-client) (13.0.1)\n",
            "Requirement already satisfied: annotated-types>=0.6.0 in /usr/local/lib/python3.10/dist-packages (from pydantic<3.0.0,>=2.0.0->graphlit-client) (0.7.0)\n",
            "Requirement already satisfied: pydantic-core==2.23.4 in /usr/local/lib/python3.10/dist-packages (from pydantic<3.0.0,>=2.0.0->graphlit-client) (2.23.4)\n",
            "Requirement already satisfied: typing-extensions>=4.6.1 in /usr/local/lib/python3.10/dist-packages (from pydantic<3.0.0,>=2.0.0->graphlit-client) (4.12.2)\n",
            "Requirement already satisfied: anyio in /usr/local/lib/python3.10/dist-packages (from httpx->graphlit-client) (3.7.1)\n",
            "Requirement already satisfied: certifi in /usr/local/lib/python3.10/dist-packages (from httpx->graphlit-client) (2024.8.30)\n",
            "Requirement already satisfied: httpcore==1.* in /usr/local/lib/python3.10/dist-packages (from httpx->graphlit-client) (1.0.5)\n",
            "Requirement already satisfied: idna in /usr/local/lib/python3.10/dist-packages (from httpx->graphlit-client) (3.10)\n",
            "Requirement already satisfied: sniffio in /usr/local/lib/python3.10/dist-packages (from httpx->graphlit-client) (1.3.1)\n",
            "Requirement already satisfied: h11<0.15,>=0.13 in /usr/local/lib/python3.10/dist-packages (from httpcore==1.*->httpx->graphlit-client) (0.14.0)\n",
            "Requirement already satisfied: exceptiongroup in /usr/local/lib/python3.10/dist-packages (from anyio->httpx->graphlit-client) (1.2.2)\n"
          ]
        }
      ],
      "source": [
        "!pip install --upgrade graphlit-client"
      ]
    },
    {
      "cell_type": "markdown",
      "source": [
        "Initialize Graphlit"
      ],
      "metadata": {
        "id": "abV1114jL-bR"
      }
    },
    {
      "cell_type": "code",
      "source": [
        "import os\n",
        "from google.colab import userdata\n",
        "from graphlit import Graphlit\n",
        "from graphlit_api import input_types, enums, exceptions\n",
        "\n",
        "os.environ['GRAPHLIT_ORGANIZATION_ID'] = userdata.get('GRAPHLIT_ORGANIZATION_ID')\n",
        "os.environ['GRAPHLIT_ENVIRONMENT_ID'] = userdata.get('GRAPHLIT_ENVIRONMENT_ID')\n",
        "os.environ['GRAPHLIT_JWT_SECRET'] = userdata.get('GRAPHLIT_JWT_SECRET')\n",
        "\n",
        "graphlit = Graphlit()"
      ],
      "metadata": {
        "id": "WoMAWD4LLP_q"
      },
      "execution_count": null,
      "outputs": []
    },
    {
      "cell_type": "markdown",
      "source": [
        "Define Graphlit helper functions"
      ],
      "metadata": {
        "id": "pgRX57EHMVfl"
      }
    },
    {
      "cell_type": "code",
      "source": [
        "from typing import List, Optional\n",
        "\n",
        "# Create specification for OpenAI GPT-4o Mini\n",
        "async def create_completion_specification(content_limit: Optional[int] = None):\n",
        "    if graphlit.client is None:\n",
        "        return;\n",
        "\n",
        "    input = input_types.SpecificationInput(\n",
        "        name=\"OpenAI GPT-4o\",\n",
        "        type=enums.SpecificationTypes.COMPLETION,\n",
        "        serviceType=enums.ModelServiceTypes.OPEN_AI,\n",
        "        openAI=input_types.OpenAIModelPropertiesInput(\n",
        "            model=enums.OpenAIModels.GPT4O_MINI_128K,\n",
        "        ),\n",
        "        strategy=input_types.ConversationStrategyInput(\n",
        "            embedCitations=True\n",
        "        ),\n",
        "        retrievalStrategy=input_types.RetrievalStrategyInput(\n",
        "            type=enums.RetrievalStrategyTypes.SECTION,\n",
        "            contentLimit=content_limit if content_limit is not None else 5\n",
        "        )\n",
        "    )\n",
        "\n",
        "    try:\n",
        "        response = await graphlit.client.create_specification(input)\n",
        "\n",
        "        return response.create_specification.id if response.create_specification is not None else None\n",
        "    except exceptions.GraphQLClientError as e:\n",
        "        print(str(e))\n",
        "        return None\n",
        "\n",
        "    return None\n",
        "\n",
        "async def create_feed(search_text: str, read_limit: int):\n",
        "    if graphlit.client is None:\n",
        "        return;\n",
        "\n",
        "    # NOTE: Uncomment one of these to select the search service\n",
        "    service_type = enums.SearchServiceTypes.TAVILY\n",
        "    #service_type = enums.SearchServiceTypes.EXA\n",
        "\n",
        "    input = input_types.FeedInput(\n",
        "        name=\"Web Search\",\n",
        "        type=enums.FeedTypes.SEARCH,\n",
        "        search=input_types.SearchFeedPropertiesInput(\n",
        "            type=service_type,\n",
        "            text=search_text,\n",
        "            readLimit=read_limit\n",
        "        )\n",
        "    )\n",
        "\n",
        "    try:\n",
        "        response = await graphlit.client.create_feed(input)\n",
        "\n",
        "        return response.create_feed.id if response.create_feed is not None else None\n",
        "    except exceptions.GraphQLClientError as e:\n",
        "        print(str(e))\n",
        "        return None\n",
        "\n",
        "    return None\n",
        "\n",
        "async def is_feed_done(feed_id: str):\n",
        "    if graphlit.client is None:\n",
        "        return;\n",
        "\n",
        "    response = await graphlit.client.is_feed_done(feed_id)\n",
        "\n",
        "    return response.is_feed_done.result if response.is_feed_done is not None else None\n",
        "\n",
        "async def create_conversation(specification_id: str, feed_id: str):\n",
        "    if graphlit.client is None:\n",
        "        return;\n",
        "\n",
        "    input = input_types.ConversationInput(\n",
        "        name=\"Conversation\",\n",
        "        specification=input_types.EntityReferenceInput(\n",
        "            id=specification_id\n",
        "        ),\n",
        "        filter=input_types.ContentCriteriaInput(\n",
        "            feeds=[\n",
        "                input_types.EntityReferenceInput(id=feed_id)\n",
        "            ]\n",
        "        )\n",
        "    )\n",
        "\n",
        "    try:\n",
        "        response = await graphlit.client.create_conversation(input)\n",
        "\n",
        "        return response.create_conversation.id if response.create_conversation is not None else None\n",
        "    except exceptions.GraphQLClientError as e:\n",
        "        print(str(e))\n",
        "        return None\n",
        "\n",
        "async def delete_conversation(conversation_id: str):\n",
        "    if graphlit.client is None:\n",
        "        return;\n",
        "\n",
        "    if conversation_id is not None:\n",
        "        _ = await graphlit.client.delete_conversation(conversation_id)\n",
        "\n",
        "async def prompt_conversation(conversation_id: str, prompt: str):\n",
        "    if graphlit.client is None:\n",
        "        return None, None\n",
        "\n",
        "    try:\n",
        "        response = await graphlit.client.prompt_conversation(prompt, conversation_id)\n",
        "\n",
        "        message = response.prompt_conversation.message.message if response.prompt_conversation is not None and response.prompt_conversation.message is not None else None\n",
        "        citations = response.prompt_conversation.message.citations if response.prompt_conversation is not None and response.prompt_conversation.message is not None else None\n",
        "\n",
        "        return message, citations\n",
        "    except exceptions.GraphQLClientError as e:\n",
        "        print(str(e))\n",
        "        return None, None\n",
        "\n",
        "async def publish_contents(feed_id: str, specification_id: str, prompt: str, content_limit: Optional[int] = None):\n",
        "    if graphlit.client is None:\n",
        "        return;\n",
        "\n",
        "    try:\n",
        "        response = await graphlit.client.publish_contents(\n",
        "            name=\"Summary\",\n",
        "            connector=input_types.ContentPublishingConnectorInput(\n",
        "               type=enums.ContentPublishingServiceTypes.TEXT,\n",
        "               format=enums.ContentPublishingFormats.MARKDOWN\n",
        "            ),\n",
        "            summary_specification=input_types.EntityReferenceInput(\n",
        "                id=specification_id\n",
        "            ),\n",
        "            publish_prompt = prompt,\n",
        "            publish_specification=input_types.EntityReferenceInput(\n",
        "                id=specification_id\n",
        "            ),\n",
        "            filter=input_types.ContentFilter(\n",
        "                limit=content_limit if content_limit is not None else 5,\n",
        "                search=prompt,\n",
        "                searchType=enums.SearchTypes.VECTOR,\n",
        "                feeds=[\n",
        "                    input_types.EntityReferenceFilter(id=feed_id)\n",
        "                ]\n",
        "            )\n",
        "        )\n",
        "\n",
        "        return response.publish_contents.markdown if response.publish_contents is not None else None\n",
        "    except exceptions.GraphQLClientError as e:\n",
        "        print(str(e))\n",
        "        return None\n",
        "\n",
        "async def delete_all_specifications():\n",
        "    if graphlit.client is None:\n",
        "        return;\n",
        "\n",
        "    _ = await graphlit.client.delete_all_specifications(is_synchronous=True)\n",
        "\n",
        "async def delete_all_conversations():\n",
        "    if graphlit.client is None:\n",
        "        return;\n",
        "\n",
        "    _ = await graphlit.client.delete_all_conversations(is_synchronous=True)\n",
        "\n",
        "async def delete_all_feeds():\n",
        "    if graphlit.client is None:\n",
        "        return;\n",
        "\n",
        "    _ = await graphlit.client.delete_all_feeds(is_synchronous=True)\n"
      ],
      "metadata": {
        "id": "mtwjJsvVOVCh"
      },
      "execution_count": null,
      "outputs": []
    },
    {
      "cell_type": "markdown",
      "source": [
        "Execute Graphlit example"
      ],
      "metadata": {
        "id": "srzhQt4COLVI"
      }
    },
    {
      "cell_type": "code",
      "source": [
        "from IPython.display import display, Markdown, Image\n",
        "import time\n",
        "\n",
        "# Remove any existing specifications, conversations and workflows; only needed for notebook example\n",
        "await delete_all_specifications()\n",
        "await delete_all_conversations()\n",
        "await delete_all_feeds()\n",
        "\n",
        "print('Deleted all specifications, conversations and feeds.')\n",
        "\n",
        "read_limit = 25 # how many search results to ingest from feed\n",
        "\n",
        "prompt = \"What are the current top investment opportunities in private aviation?\"\n",
        "\n",
        "feed_id = await create_feed(prompt, read_limit)\n",
        "\n",
        "if feed_id is not None:\n",
        "    print(f'Created feed [{feed_id}].')\n",
        "\n",
        "    # Wait for feed to complete, since ingestion happens asychronously\n",
        "    done = False\n",
        "    time.sleep(5)\n",
        "    while not done:\n",
        "        done = await is_feed_done(feed_id)\n",
        "\n",
        "        if not done:\n",
        "            print('.', end='')\n",
        "            time.sleep(2)\n",
        "\n",
        "    print()\n",
        "    print(f'Completed feed [{feed_id}].')"
      ],
      "metadata": {
        "id": "fOb6COcONZIJ",
        "colab": {
          "base_uri": "https://localhost:8080/"
        },
        "outputId": "e0a8548a-3f04-4332-e817-427e8cff349d"
      },
      "execution_count": null,
      "outputs": [
        {
          "output_type": "stream",
          "name": "stdout",
          "text": [
            "Deleted all specifications, conversations and feeds.\n",
            "Created feed [6bf0102b-4338-4e44-a8b0-523657adb99d].\n",
            "..........................................................................................................................................................................................\n",
            "Completed feed [6bf0102b-4338-4e44-a8b0-523657adb99d].\n"
          ]
        }
      ]
    },
    {
      "cell_type": "code",
      "source": [
        "    content_limit = 10 # NOTE: Number of ingested web pages to inject into LLM context window\n",
        "\n",
        "    specification_id = await create_completion_specification(content_limit)\n",
        "\n",
        "    if specification_id is not None:\n",
        "        print(f'Created specification [{specification_id}].')\n",
        "\n",
        "        conversation_id = await create_conversation(specification_id, feed_id)\n",
        "\n",
        "        if conversation_id is not None:\n",
        "            print(f'Created conversation [{conversation_id}].')\n",
        "\n",
        "            message, citations = await prompt_conversation(conversation_id, prompt)\n",
        "\n",
        "            if message is not None:\n",
        "                display(Markdown('### Conversation:'))\n",
        "                display(Markdown(f'**User:**\\n{prompt}'))\n",
        "                display(Markdown(f'**Assistant:**\\n{message}'))\n",
        "                print()\n",
        "\n",
        "                if citations is not None:\n",
        "                    for citation in citations:\n",
        "                        if citation is not None and citation.content is not None:\n",
        "                            display(Markdown(f'**Citation [{citation.index}]:** {citation.content.name}'))\n",
        "                            display(Markdown(citation.text))\n",
        "                            print()\n",
        "\n",
        "            await delete_conversation(conversation_id)"
      ],
      "metadata": {
        "colab": {
          "base_uri": "https://localhost:8080/",
          "height": 1000
        },
        "id": "TCwVfYrXEDrJ",
        "outputId": "f85790a5-84b0-40b7-9482-1a332efdfd2d"
      },
      "execution_count": null,
      "outputs": [
        {
          "output_type": "stream",
          "name": "stdout",
          "text": [
            "Created specification [47a4d85a-bdcf-4bea-944c-0e289cd03100].\n",
            "Created conversation [23e0f4b9-72c0-4539-a391-8f4a22a58d39].\n"
          ]
        },
        {
          "output_type": "display_data",
          "data": {
            "text/plain": [
              "<IPython.core.display.Markdown object>"
            ],
            "text/markdown": "### Conversation:"
          },
          "metadata": {}
        },
        {
          "output_type": "display_data",
          "data": {
            "text/plain": [
              "<IPython.core.display.Markdown object>"
            ],
            "text/markdown": "**User:**\nWhat are the current top investment opportunities in private aviation?"
          },
          "metadata": {}
        },
        {
          "output_type": "display_data",
          "data": {
            "text/plain": [
              "<IPython.core.display.Markdown object>"
            ],
            "text/markdown": "**Assistant:**\nThe private aviation sector is witnessing a significant shift towards aircraft leasing, with nearly 50% of the global commercial aircraft fleet now leased rather than owned outright. This trend is driven by airlines seeking flexibility and reduced financial risk, making operating leases an attractive option for managing fleet requirements. [1][2][3][4][5]\n\nPrivate equity is increasingly drawn to the aviation industry due to its strong growth potential and the attractive supply-demand dynamics. With air traffic projected to double over the next two decades, private equity firms are investing heavily in aircraft leasing companies and related infrastructure, positioning themselves to capitalize on the industry's expansion. [6][7][8][9][10]\n\nInvestments in aircraft financing are gaining traction as the post-pandemic recovery in air travel continues. The demand for in-service aircraft is expected to rise, providing opportunities for private credit strategies that focus on leasing aircraft to airlines, particularly in emerging markets where air travel demand is surging. [2][4][5][8][7]\n\nThe ongoing supply chain challenges faced by aircraft manufacturers have created a backlog in new aircraft deliveries, further enhancing the appeal of leasing options. Investors are looking at midlife aircraft, which offer a balance of cost and cash flow potential, as a viable investment strategy in the current market. [6][1][5][9][3]\n\nThe rise of fractional ownership and membership programs in private aviation is attracting new investors. These models not only democratize access to private flying but also create stable revenue streams for operators, making them an appealing investment opportunity in the evolving landscape of private aviation. [4][5][2][7][8]\n\n"
          },
          "metadata": {}
        },
        {
          "output_type": "stream",
          "name": "stdout",
          "text": [
            "\n"
          ]
        },
        {
          "output_type": "display_data",
          "data": {
            "text/plain": [
              "<IPython.core.display.Markdown object>"
            ],
            "text/markdown": "**Citation [1]:** https://www.worldfinance.com/infrastructure-investment/private-equity-takes-flight-in-the-aviation-sector"
          },
          "metadata": {}
        },
        {
          "output_type": "display_data",
          "data": {
            "text/plain": [
              "<IPython.core.display.Markdown object>"
            ],
            "text/markdown": "Search for:\nPrivate equity takes flight in the aviation sector\nMore and more aircraft are being leased, as opposed to airlines owning planes outright. As this trend continues, the role of private equity in the sector is also becoming more prominent Private equity investors are enamoured with the aviation industry as it has an attractive supply and demand dynamic Infrastructure Author: Franklin L Pray, President & CEO, Intrepid Aviation\nTop 5\nTop 5 forces that will shape international finance in 2023 Top 5 female-fronted fintech firms Top 5 Latin American tech hubs Top 5 sustainability pioneers in Europe Top 5 keys to global economic recovery Top 5 WFH habits, according to the world’s most successful business leaders Top 5 pandemic-proof industries Top 5 countries to be world’s next manufacturing hubs Top 5 most influential and inspirational US economists Top 5 ways to boost employee engagement and commitment Top 5 financial services that are ripe for automation Top 5 ways that GDPR has impacted digital banking Top 5 emerging fintech hubs across the globe right now Top 5 ways that the finance industry can prepare for AI Top 5 economic risk factors that must be considered\nSince the early 1970s there has been an increasing trend for airlines around the world to rely on operating leasing as an alternate means to managing their financing and fleet requirements for commercial aircraft.\nUnder an operating lease structure, the airline commits to a long-term lease agreement for the aircraft from a lessor (typically between six to 12 years), with all related operating expenses borne by the airline. At the end of the lease term, the aircraft lease can either be extended for a further period, or the aircraft is returned to the lessor in compliance with the provisions in the lease agreement, which typically relate to the aircraft’s maintenance condition. In the latter case, the lessor will transition the aircraft to another operator, or when the aircraft has reached the end of its useful life, sell it for parts in the spares market.\nGiven the prevalence of operating leasing, the benefits over aircraft ownership have been clearly recognised by airlines\nGiven the prevalence of operating leasing, the benefits over aircraft ownership have been clearly recognised by airlines. Operating lessors control a large portion of the Airbus and Boeing original equipment manufacturer (OEM) order books. Sometimes airlines have difficulty purchasing directly from the OEMs as the order backlog means they are sold out for many years. Airlines will also often approach lessors with regards to leasing solutions. In addition, operating leasing provides attractive fleet flexibility to airlines since aircraft are leased for fixed terms resulting in no residual value asset risk for airlines. Operating leasing is also attractive to bank lenders as it reduces the lending risk profile for them with the operating lessor ‘sandwiched’ between themselves and the operator. Operating leases also improve cash flows for airlines, in that pre-delivery payments to OEMs for lessor orders are borne by the lessor. Security deposits during the lease term are smaller than the equity contributions required for a financing. Given that most lessors are able to draw financings cheaper and from a more diversified pool of debt sources than many airlines, it is no surprise that the percentage of commercial aircraft under operating leases amounts to almost 50 percent of the worlds total commercial aircraft fleet today (see Figs. 1 and 2).\nInvestor interest\nPrivate equity investors have long been attracted to the investment rationales of operating lessors. For example, Cerberus Capital Management, a US based private equity firm, invested in Dutch-based commercial aircraft lessor AerCap, which it took public in 2006. AerCap has subsequently grown to be the largest aircraft lessor in the world through the acquisition of International Lease Finance Corporation (ILFC) from AIG. Cerberus successfully completed its exit from the investment in 2012. Aircastle, another publicly traded commercial aircraft lessor, was founded by private equity firm Fortress Investment Group in 2004 and taken public in 2006. In 2006 Terra Firma, a UK based private equity firm, acquired AWAS for $2.5bn in cash plus the assumption of liabilities from Morgan Stanley. In 2007 Terra Firma then further agreed to purchase Pegasus Aviation from the US private equity firm Oaktree Capital Management, and combined AWAS and Pegasus to create the new AWAS, then the world’s third-largest aircraft leasing business. More recently, Avolon Aerospace Leasing, a lessor founded in 2010, backed by private equity firms Cinven, CVC Capital Partners and Oak Hill Capital Partners, successfully took the business public in December 2014.\nSo why is private equity so enamoured with investing in this space? One of the principal attractions for the aircraft leasing space is that the sector serves a growing airline industry with an attractive aircraft capacity supply and demand dynamic. Air traffic has historically doubled every 15 years and is, according to research by The Airline Monitor, projected to have an average annual growth rate of 4.8 percent for the next 20 years, thereby doubling traffic again over the next 15 years. Air traffic has exceeded GDP growth by approximately 1.9 times over the past 40 years and the sector has been very resilient to external shocks.\nWorld air traffic recovered to a long-term trend only a year after a drop in 2009 and it took only three years for traffic to recover from the events in 2001. The reasons that have contributed to this traffic growth have been the expansion of urban populations, the rise of a global middle class, the rise of low cost carriers and greater globalisation and cross-border economic activity. This increase in travel demand has continuously increased the demand for aircraft capacity.\nWhat is also attractive to private equity is that from a supply side perspective, the industry is dominated by only two major established players, Airbus and Boeing, with smaller players like Brazil’s Embraer, Canada’s Bombardier and France’s ATR competing in the market for turboprop aircraft and smaller jets. Suppliers such as Russia’s Sukhoi, China’s COMAC and Japan’s Mitsubishi have entered the market with small jet offerings but are expected to take several decades before becoming serious competitors to the established players on a global scale."
          },
          "metadata": {}
        },
        {
          "output_type": "stream",
          "name": "stdout",
          "text": [
            "\n"
          ]
        },
        {
          "output_type": "display_data",
          "data": {
            "text/plain": [
              "<IPython.core.display.Markdown object>"
            ],
            "text/markdown": "**Citation [2]:** https://www.alliancebernstein.com/corporate/en/insights/investment-insights/taking-flight-the-opportunity-in-aircraft-financing.html"
          },
          "metadata": {}
        },
        {
          "output_type": "display_data",
          "data": {
            "text/plain": [
              "<IPython.core.display.Markdown object>"
            ],
            "text/markdown": "Taking Flight: The Opportunity in Aircraft Financing March 15, 2024 3 min read Lucas Detor | Managing Principal—AB CarVal James McManus | Managing Director—AB CarVal\nInvestments in aircraft can offer steady cash flow and a return profile that’s uncorrelated to broad market indices.\nThe post-pandemic recovery in commercial air travel is well underway, and a rapidly growing global middle class means the skies will only get more crowded. But aircraft supply is barely keeping up as manufacturers struggle to make up for past capacity cuts and overcome supply chain challenges.\nOver the past 50 years, commercial aviation traffic, as measured by revenue passenger miles, has grown at nearly twice the rate of global gross domestic product—despite the 9/11 terrorist attacks, global financial crisis and COVID-19 pandemic.\nAnd the International Air Transport Association (IATA) projects that traffic will grow by 3.4% annually through 2040. Meeting that demand will require a lot of planes—particularly now that production cuts that accelerated during the pandemic have resulted in a “lost generation” of almost 3,000 aircraft ( Display ). A Lost Generation of Aircraft Production Original Equipment Manager Production Ramp-Up\nCurrent and historical analyses do not guarantee future results.\nAs of July 31, 2023\nSource: Cirium Ascend Consultancy\nCleared for Takeoff\nTaken together, the air-traffic recovery and structural supply constraints create a compelling private credit opportunity to invest in in-service aircraft and lease them to airlines in need of more capacity. We believe this strategy has the potential to produce strong long-term cash flows and provide an uncorrelated source of return.\nIt also provides investors in private credit strategies with long-term exposure to global growth. Aircraft leasing is especially common among emerging-market (EM) air carriers in Asia and the Middle East—regions where rising income levels provide the means and motivation to travel. We think this demand dynamic could last until the global population peaks, which could take 80 years. EM populations will also boom, making them prime candidates for upgrading transportation infrastructure.\nInvesting in Aircraft, Not Airlines\nOperating an airline is something of a feast-or-famine business. Carriers have limited control of their unit costs, due in part to fluctuating fuel prices and a high fixed-cost base. And over the last five years alone, the industry has endured a global pandemic, which bankrupted several airlines, and geopolitical conflict. Put simply, it isn’t easy for carriers to make money.\nWe think owning a global portfolio of airplanes—hard assets with intrinsic value—and leasing them to carriers in need is an effective way to get aviation exposure not tied so closely to individual airlines. If one carrier struggles, the plane can be leased to a different one, because planes are fairly standardized. Think of it as investing in aircraft rather than the companies that fly them.\nIt’s a scalable opportunity, and risk can be segmented across aircraft type and vintage as well as capital structure. A 2022 report by IATA and McKinsey found that the simple average return on invested capital from aircraft leasing has been higher—and steadier—than airline returns in every year but one between 2012 and 2021. And that one year? It wasn’t a pandemic year.\nThe distinction between leasing an aircraft and operating an airline also helps explain why aircraft leasing has shown a very low correlation to related strategies and assets ( Display ), including those dedicated to infrastructure investments, real estate investment trusts and even listed commercial airlines. Flying Solo: Aircraft Leasing’s Uncorrelated Returns Time Period 1995–2022\nCurrent and historical analyses do not guarantee future results.\nALRI (Leased Aircraft) is represented by the Ascend Commercial Aircraft Market Sentiment Index; airlines by MSCI Daily TR Net Airlines Index; infrastructure by the Dow Jones Brookfield Global Infrastructure TR Index; real estate investment trusts (REITs) by the FTSE EPRA/NAREIT Index; shipping by the DAXglobal Shipping USD TR Index.\nAs of December 31, 2022\nWe believe mixing an aircraft leasing strategy into a diversified portfolio has the potential to mitigate downside risk when times get tough.\nFinancing Opportunities Throughout the Cycle\nThere are fewer than 30,000 commercial jets in operation today, and about half are leased. Most have a 30-year life, though frequent upgrades to newer, more fuel-efficient planes keep turnover high and average lease life shorter than the plane’s life. This provides opportunities for aircraft leasing throughout the market cycle.\nLeasing helps airlines stay flexible and responsive to changing supply and demand, which also means aircraft leasing stays active throughout the market cycle. When demand is low, as it was during the pandemic, lessors can enter sale-leaseback arrangements, acquiring planes from airlines in need of liquidity and then leasing them back for regular use.\nWhen conditions improve and travel demand rebounds, large public lessors often sell midlife and older planes to modernize their fleets—a requirement for maintaining their investment-grade ratings.\nThese planes—typically narrow body aircraft that fly shorter routes—are the workhorses of most fleets and can offer attractive value for investors. Focusing on midlife aircraft that still have a long useful life ahead can help create opportunities and reduce risk.\nUnlike the newest generation of aircraft, midlife aircraft are a proven technology. And they can be monetized in multiple ways when the time comes to sell, including via trade, sale and conversion to freighter. Finally, midlife aircraft typically produce ample cash flow relative to cost. Together these factors can make for a favorable risk-return scenario.\nReaping the Benefits Requires Managing the Risks\nOf course, executing these strategies successfully requires robust sourcing and strong management capabilities; owning and leasing aircraft isn’t easy. Doing these things well typically comes down to capabilities and experience.\nExperience can also help when it comes to managing risk. For example, certain factors could reduce travel demand and dampen the outlook for aviation leasing. Escalation of regional conflicts in Ukraine and the Middle East would raise fuel prices and reduce travel demand, so it’s important for aircraft lessors to actively manage regional exposure. And certainly, another global pandemic and similar quarantine measures could halt or greatly curtail travel."
          },
          "metadata": {}
        },
        {
          "output_type": "stream",
          "name": "stdout",
          "text": [
            "\n"
          ]
        },
        {
          "output_type": "display_data",
          "data": {
            "text/plain": [
              "<IPython.core.display.Markdown object>"
            ],
            "text/markdown": "**Citation [3]:** https://www.algoodbody.com/insights-publications/private-equity-investment-in-aviation"
          },
          "metadata": {}
        },
        {
          "output_type": "display_data",
          "data": {
            "text/plain": [
              "<IPython.core.display.Markdown object>"
            ],
            "text/markdown": "Private equity investment in aviation\nIn the annual AirFinance Journal Experts Guide, Aviation & Transport Finance partner David Berkery shares insights on private equity investment in aviation. The article addresses limited partnerships, sidecar joint ventures, loan book acquisitions, along with new and existing leasing platforms. David also takes a look at opportunities for investment within the aviation industry.\nGo to publication\nDate published: 26 November 2021 Print Share Share Linked In Twitter\nRelated Areas Aviation & Transport Finance"
          },
          "metadata": {}
        },
        {
          "output_type": "stream",
          "name": "stdout",
          "text": [
            "\n"
          ]
        },
        {
          "output_type": "display_data",
          "data": {
            "text/plain": [
              "<IPython.core.display.Markdown object>"
            ],
            "text/markdown": "**Citation [4]:** https://avbizjournal.com/cash-flow-private-equity-pumping-billions-into-general-aviation/"
          },
          "metadata": {}
        },
        {
          "output_type": "display_data",
          "data": {
            "text/plain": [
              "<IPython.core.display.Markdown object>"
            ],
            "text/markdown": "Blank noted that Blackstone Infrastructure believes that the private equity and infrastructure community is interested in all trends within business aviation, including AAM support infrastructure and, potentially, start-up AAM original equipment manufacturers (OEMs). “These trends are critical to both making sure current investments are well positioned to grow in the future and to identifying new potential investments,” he pointed out.\nTwo primary factors, according to Blank, are contributing to interest in the general aviation sector by private equity funds. “First, there is COVID and along with that, a decreasing cost of entry has introduced a new cohort of customers to private aviation, many of whom are expected to continue using it,” he remarked. “Second, private aviation is an industry in transition, particularly on matters relating to the future of mobility and sustainability. Private equity is uniquely positioned to facilitate this transition as our long investment horizons allow us to do well by doing good.”\nShawn Vick, a Partner in AE Industrial (AEI) Partners in Boca Raton, Florida, pointed out that private equity has been active in business aviation for decades. “Business aviation has significant industrial infrastructure, and the industry fundamentals are strong. The demand is there for access to private aviation, and will only increase throughout the decades ahead,” he remarked.\nAs a result, said Vick, private equity has over the preceding decades taken significant stakes in large service providers. He cited Blackstone’s recent acquisition of Signature Flight Support and KKR’s purchase of Atlantic Aviation as examples. “These are both very large-scale service providers with several hundred FBOs between them,” he remarked.\nAs Vick explained, business aviation has naturally attracted private equity given the industry’s long period of sustained growth since the early 1960s.\n“What you saw was an evolution in the development of aircraft, airports, MROs, management companies, and the FBO industry offering fuel and hangars,” he noted. “By the 1990s, the fractional ownership and membership programs came along. So really, for the past 60 years, there was a pattern of very rational annual growth, decade after decade.”\nHe added that in the first decade of the 21st century, there was a substantial increase in production by the business aircraft OEMs prompted by rising global GDP and wealth accumulation taking place in the US, Europe, as well as Asia and the Middle East.\n“Then came the Great Recession, which disrupted the industry. Yet, even at the height of the Great Recession, there were still over 1,400 pre-owned transactions, and 600 new aircraft deliveries annually, adding to an installed base of over 17,000 business aircraft at the time. The installed base today is approaching 22,000 world-wide and growing,” Vick explained.\nToday, said Vick, private equity investors see acquisition opportunities where second or third generation long-time owners are seeking either an exit strategy or, alternatively, strong capital partners who understand the industry and are willing to provide capital for growth.\n“For instance, at AEI we are interested in service providers and suppliers who are integral to the OEM supply chain, which includes businesses such as Part 145 MROs, parts manufacturers, component overhaul providers, interior refurbishment, avionics repair, Part 135 operators, and management companies, just to name a few,” he remarked. “We don’t focus on just one element. There are many opportunities to provide growth capital. If you break it down, there are about 30 verticals and 30-40 sub-verticals in the industry presenting those opportunities.” The verticals, Vick added, are the supporting ancillary businesses. In aviation they include MRO, aircraft management, charter services, and FBOs, to name just a few. The sub-verticals support the verticals, and include supply chain companies, manufacturing parts such as wire harnesses, landing gear, tires, wheels, brakes, actuators, and avionics.\nAsked about a role for private equity in airport development, particularly hangar properties, Vick said that he would expect continued interest in this by private equity firms. “We would have an interest in looking at this, but there will be more opportunities for those types of investments through the acquisition of existing service providers, such as FBOs already on the field, that have the local and state relationships necessary to approve development.”\nHe also revealed that AEI is looking closely at AAM, particularly through its early-stage AEI HorizonX venture capital fund, although the company’s focus is more on the power plant and supporting supply chain. As for potential for private equity in SAF, Vick reported that a growth opportunity is there. “SAF is here to stay,” he remarked. “Capacity is quite small right now, so that presents an opportunity for private equity.”\nAccording to Dr. Dirk Laukien, Founder and Active President of Black Forest Ventures, “The general aviation business has always had high barriers to entry,” which he said is what makes it more appealing to investors. The Woodlands, Texas-based private equity firm’s portfolio includes the Galaxy FBO chain—currently with three locations in Texas—along with charter management company Wing Aviation and Paradigm Helicopters.\nLaukien also cited the popularity of fractional ownership and membership models attracting more business and leisure private flyers as adding to the appeal of general aviation to private equity investors. “Most recently, the pandemic changed the landscape for traveling and helped many to see the value and efficiency that GA offers,” he noted. “The trend looks even more positive due to the ongoing interruptions commercial airlines face today.”\nIn tandem with those dynamics, Laukien pointed to the consolidation trends in the general aviation support industry, currently fueled by the large infrastructure funds and the special purpose acquisition companies, which have helped convince many businesses to change hands recently. “That consolidation also brings uncertainty to smaller players as they fear tougher competition in the future,” he said.\nIn spite of the available opportunities, Laukien cautioned that there is another side of the coin. “While the Covid-19 pandemic accelerated the growth in the industry, it also made merger and acquisition activity more difficult,” he said. “For starters, some companies have handcuffed themselves with the government loan restrictions. But more importantly, the heated market that started in late 2020 has skewed many financial models, making due diligence much more difficult.”"
          },
          "metadata": {}
        },
        {
          "output_type": "stream",
          "name": "stdout",
          "text": [
            "\n"
          ]
        },
        {
          "output_type": "display_data",
          "data": {
            "text/plain": [
              "<IPython.core.display.Markdown object>"
            ],
            "text/markdown": "**Citation [5]:** https://www.forbes.com/sites/douggollan/2022/05/23/private-aviation-is-booming-and-bursting-at-the-seams/"
          },
          "metadata": {}
        },
        {
          "output_type": "display_data",
          "data": {
            "text/plain": [
              "<IPython.core.display.Markdown object>"
            ],
            "text/markdown": "Private Aviation Is Booming And Bursting At The Seams Doug Gollan Contributor Opinions expressed by Forbes Contributors are their own. Doug Gollan covers private aviation and the business of luxury travel. Following Click to save this article. You'll be asked to sign into your Forbes account. May 23, 2022, 04:03pm EDT Updated Jun 10, 2022, 12:38pm EDT This article is more than 2 years old. Share to Facebook Share to Twitter Share to Linkedin\nBusiness in private aviation is booming. At the opening lunch for media at the European Business Aviation Conference & Exhibition being held in person in Geneva, Switzerland, for the first time since 2019, Kenny Dichter, Chairman and CEO of Wheels Up Experience, told the audience he has seen a transformation from private aviation being a luxury to an essential part of the lifestyle for his over 12,000 members.\nA demand for private jet travel continues at record levels, the industry is increasingly struggling ... [+] to cope as supply chain issues and labor shortages gum up the system. Doug Gollan\nOne provider says Monkeypox is already spurring calls from potential new customers who want to avoid crowded airports and commercial airplanes. Attendees at the conference bemoaned delays in getting here, the result of airlines canceling flights due to staff shortages.\nDavid Paddock, the President of General Dynamic’s Jet Aviation, speaking at the same welcome session, said after an initial 70% drop in business at the outset of Covid, sales at its FBOs have recovered to nearly 20% ahead of pre-pandemic highs.\nGlobally, around 80% of the 500 operators surveyed by JetNet IQ expect increased utilization in fractional and charter operations seen over the past 12-to-18 months will continue.\nWheels Up Chairman and CEO Kenny Dichter visits the static display during EBACE in Geneva, ... [+] Switzerland. He says private flying has become part of their lifestyle for his over 12,000 members. Doug Gollan\nHowever, the issues that are roiling the airlines and greater economy are also hitting the business aviation segment, somewhat misnamed as much of the boom has been spurred by leisure flyers. In fact, despite records every month, Dichter says corporate flying is still lagging. MORE FROM FORBES ADVISOR\nBest Travel Insurance Companies By Amy Danise Editor\nBest Covid-19 Travel Insurance Plans By Amy Danise Editor\nFor providers, maintaining the high level of service wealthy clients expect has become virtually impossible. Airplanes that would be back flying in four hours after minor maintenance issues are sitting on the ground for four to six days. Passport US\nPassport: Explore the finest destinations and experiences around the world in the Forbes Passport newsletter.\nBy signing up, you agree to receive this newsletter, other updates about Forbes and its affiliates’ offerings, our Terms of Service (including resolving disputes on an individual basis via arbitration), and you acknowledge our Privacy Statement . Forbes is protected by reCAPTCHA, and the Google Privacy Policy and Terms of Service apply.\nYou’re all set! Enjoy Passport! More Newsletters\nYou’re all set! Enjoy Passport! More Newsletters\nVistaJet was hoping to have its fleet-wide refurbishment finished by the end of the year. Ian Moore, Chief Commercial Officer, says it will now likely take until early 2024. What’s usually a four-week process can now drag on for eight weeks.\nOEM delivery dates for new aircraft slip. Executives say near-complete airplanes can’t be shipped as they wait for various components stuck someplace along the supply chain.\nMarine Eugene, International Managing Director of Flexjet, and Michael Amalfitano, CEO of Embraer ... [+] Executive Jets meet during the European Business Aviation Conference & Exhibition being held this week in Geneva, Switzerland. Doug Gollan\nVistaJet’s fleet, which previously could be accessed on a flight-by-flight basis, is now primarily reserved for customers of its membership program. Do not quote days when VistaJet doesn’t allow non-members to book were in effect for 90% of a recent month.\n“I don’t know when a peak day is anymore. Any Wednesday could be a record day,” Moore says. Historical data and forecasting no longer works.\nAccording to one jet membership company, when an airplane is AOG – aircraft on the ground – industry jargon for a maintenance issue, it can take calls to at least 50 operators to find a short-notice replacement.\nWhile on-demand charter re-quotes the trip with a new price, fractional and jet card programs typically provide replacement aircraft at no additional cost to their customers.\nGeneva, Switzerland-based LunaJets CEO Eymeric Segard says he sees bumpy skies ahead despite ... [+] industry euphoria spurred by record demand Doug Gollan\n“The operators gouge us on the price when that happens,” the CEO of one membership provider said. Recently, his company could only find a large cabin Gulfstream to replace a light jet that went AOG. A flight that generated about $25,000 in revenue cost $50,000 to fulfill. Customers were upset about being delayed.\nDeliveries of new airplanes are supposed to reduce some of the system's stress. However, one fleet operator says a new tail scheduled for delivery in March finally arrived in May. Within 10 days, it was sitting on the ground with a maintenance issue. Another operator says depleted capacity for scheduled maintenance, meaning when airplanes hit the mark for mandatory visits to the shop, they must now sit and wait.\nDuring a press conference, Dassault Aviation CEO Eric Trappier says delaying certification for its Falcon 6X until 2023 is in large part due to supply chain issues. In a briefing from Gulfstream Aerospace, also owned by General Dynamics, its President Mark Burns said new FAA procedures to approve software for airplanes in the wake of the Boeing Max crashes are taking more time than in the past."
          },
          "metadata": {}
        },
        {
          "output_type": "stream",
          "name": "stdout",
          "text": [
            "\n"
          ]
        },
        {
          "output_type": "display_data",
          "data": {
            "text/plain": [
              "<IPython.core.display.Markdown object>"
            ],
            "text/markdown": "**Citation [6]:** https://www.forbes.com/sites/douggollan/2024/05/10/measuring-the-private-jet-market-in-2024/"
          },
          "metadata": {}
        },
        {
          "output_type": "display_data",
          "data": {
            "text/plain": [
              "<IPython.core.display.Markdown object>"
            ],
            "text/markdown": "Measuring The Private Jet Market In 2024 Doug Gollan Contributor Opinions expressed by Forbes Contributors are their own. Doug Gollan covers private aviation and the business of luxury travel. Following Click to save this article. You'll be asked to sign into your Forbes account. May 10, 2024, 04:46pm EDT Updated May 10, 2024, 07:05pm EDT Share to Facebook Share to Twitter Share to Linkedin\nLast night, I returned home to Miami after spending a bit longer than I had anticipated in San Diego, where I had been attending the Spring meeting of the International Aircraft Dealers Association, also known as IADA. In fact, I wasn’t supposed to be at home today.\nI was supposed to be visiting my father, who lives in what the airlines call a spoke city. In other words, to get there, you must change flights at one of their hubs.\nThanks to American Airlines, it didn't work out that way, which is as good a segue as any into why private aviation is likely to be more relevant than ever for those who can afford it, emphasis on afford.\nSo how is business in the world of private jets?\nAfter the pandemic led demand spike, is the industry headed up, down, or somewhere in between?\nManaging Director of AeroDynamic Advisory Richard Aboulafia, who has been tracking aviation for more than 30 years, calls it \"one of the more confusing market cycles I've seen.\"\nThe IADA dealers , who operate like real estate agents for consumers and corporations who want to buy private aircraft, particularly preowned ones, are naturally optimistic.\nThe group's members, who represent about 50% of preowned transactions globally, saw a 5.9% year-over-year increase in sales, with 253 closings in the first quarter of 2024.\nLike their brethren in the property market, brokers need something to sell, something that was lacking as inventory hit record lows during 2022.\nRollie Vincent of Rolland Vincent Associates, an industry analyst and former manufacturer and fractional executive, said while inventories are still well below their 10-year averages, they have rebounded from substantially from those low points (image below). MORE FROM FORBES ADVISOR\nBest High-Yield Savings Accounts Of 2024 By Kevin Payne Contributor\nBest 5% Interest Savings Accounts of 2024 By Cassidy Horton Contributor\nAvailable business aircraft inventory is below historic averages but up from the record lows of ... [+] 2022, according to analyst Rolland Vincent & Associates. Rolland Vincent & Associates Passport US\nPassport: Explore the finest destinations and experiences around the world in the Forbes Passport newsletter.\nBy signing up, you agree to receive this newsletter, other updates about Forbes and its affiliates’ offerings, our Terms of Service (including resolving disputes on an individual basis via arbitration), and you acknowledge our Privacy Statement . Forbes is protected by reCAPTCHA, and the Google Privacy Policy and Terms of Service apply.\nYou’re all set! Enjoy Passport! More Newsletters\nYou’re all set! Enjoy Passport! More Newsletters\nBack then, buyers eschewed standards such as pre-buy inspections, which were more difficult due to pandemic restrictions, and simply wired millions of dollars to buy used private jets based on pictures. Many deals were made before aircraft were even listed.\nAs I wrote last year, even as the bloom was off the rose, aircraft owners saw the benefits in being discreet, concerned their pilots would leave before they could sell their jets.\nToday, the outlook is bifurcated.\nVincent surveys over 500 flight departments and users quarterly. His research shows a diminished, slightly negative sentiment over the past eight quarters from North American respondents who represent the industry's largest market of buyers.\nSupply, not demand, is holding back business aviation, according to analyst Richard Aboulafia ... [+] speaking during the International Aircraft Dealers Association Spring Conference, held earlier this week in La Jolla, California. Doug Gollan\nVincent told the audience that their outlook coincides with lower U.S. consumer and business confidence and a shift in the Federal Reserve's approach to interest rates, \"that money should cost money.\"\nAt the same time, Aboulafia's research paints a different picture.\nHe says the industry is constrained not by demand but by supply.\nHe says manufacturers are still struggling to work their way through backlogs, perhaps prudently eschewing the huge investments it would take to ramp up production versus the memories of getting too far over their skies leading up to the 2008 financial crisis.\n\"For the first time, supply is the problem, not demand,\" he told attendees.\nAboulafia said corporate profits and the strength in equities markets are reasons to be bullish about buyers.\nRon Draper, President and CEO of Textron Aviation, told attendees of IADA's Spring Conference, ... [+] despite improvements, OEMs are still dealing with \"acute\" supply chain issues as they work through order books. Doug Gollan\nRuben Kempeneer, President of Aviation International News , a trade publisher, said corporate flight departments are increasingly looking to fractional shares, jet cards, and charter flights, not to replace owning jets, but as additional solutions. Flight trackers who circumvent privacy measures have companies concerned that missions to scout out or negotiate M&A deals could be seen by competitors.\nWhile Argus TraqPak data shows North American private flights in 2023 were down 3.7% from the 2022 peak, last year still ranked as the industry's second busiest year and was 17.5% ahead of 2019's pre-Covid numbers.\nFor those looking to read the tea leaves, perhaps it’s worth tracking deliveries of new private jets to NetJets.\nBy far the biggest buyer and operator of private aircraft, the unit of Berkshire Hathaway has signed options deals for up to almost 2,000 private jets it could buy over the next 15 years."
          },
          "metadata": {}
        },
        {
          "output_type": "stream",
          "name": "stdout",
          "text": [
            "\n"
          ]
        },
        {
          "output_type": "display_data",
          "data": {
            "text/plain": [
              "<IPython.core.display.Markdown object>"
            ],
            "text/markdown": "**Citation [7]:** https://www.forbes.com/sites/brianfoley1/2021/12/13/private-aviation-is-hot-but-investor-returns-have-not-always-a-sure-bet/"
          },
          "metadata": {}
        },
        {
          "output_type": "display_data",
          "data": {
            "text/plain": [
              "<IPython.core.display.Markdown object>"
            ],
            "text/markdown": "Private Aviation Is Hot, But Investor Returns Have Not Always Been A Sure Bet Brian Foley Contributor Opinions expressed by Forbes Contributors are their own. Brian Foley covers aviation topics as an independent industry analyst. Following Click to save this article. You'll be asked to sign into your Forbes account. Dec 13, 2021, 11:53am EST Updated Apr 21, 2022, 09:33am EDT This article is more than 2 years old. Share to Facebook Share to Twitter Share to Linkedin\nEver since pandemic lockdown restrictions were lifted and well-heeled travelers emerged from their bunkers, the private aircraft industry has been on a tear. Conditioned for months to social distance, droves of newcomers flocked to personal aircraft to avoid the hoi polloi at public airports and on airliners. Those who were already private jet savvy doubled down.\nAnd the numbers show it. While the number of commercial flights are still below pre-pandemic levels, business jets have already exceeded those and are reaching levels not seen since the 2008 timeframe.\nAccording to data provider Argus, North American business aircraft flights jumped 45% year-over-year and even 21% compared to pre-pandemic November 2019. Broken down further, fractional activity was up 51% from a year earlier, followed by corporate jumping 48% and charter seeing a 40% gain. Even in Europe where economic recovery has been slower, flights jumped 40% since November 2019 and a full 97% since last year at this time.\nThe rush to private flying has caused the supply of preowned airplanes to dry up to just 3 or 4% of the fleet for sale compared to 10-12% in normal times. Buyers are left with having to place new aircraft orders as their only ownership alternative, resulting in aircraft makers reporting book-to-bill ratios of 2, meaning that for every jet they delivered they received 2 more orders. This has had the effect of manufacturers fattening their order backlogs across the board.\nAll of this flight and sales activity would normally benefit shareholders of stocks in the space. And while that’s largely true, there have been some exceptions.\nThe universe of public stocks representing the private aviation segment is rather limited. Many suppliers who have a footprint in the industry also have much larger ones in the commercial airline and military world, making for a muted upside in the business aviation sector.\nThose investors who foresaw the potential for business jet sales to increase have been aptly rewarded. Year to date the stalwarts of building private aircraft have all done quite well year to date. General Dynamics , which includes the Gulfstream business jet unit, is up by 38%. Textron’s Aviation division, which includes the Cessna Citation line, is up 56% . Outside the U.S. Brazil’s Embraer popped 142% while north of the border Canada’s Bombardier, the only pure-play business jet maker, has risen over 250%. MORE FROM FORBES ADVISOR\nBest Tax Software Of 2022\nBest Tax Software For The Self-Employed Of 2022\nIncome Tax Calculator: Estimate Your Taxes\nBerkshire Hathaway , whose NetJets division is just a tiny fraction of its overall holdings, is up around a 25% year to date which is about on par for the S&P 500 Index overall. With business booming, it suspended charter sales to maintain a nominal service level to its existing customers. It placed an order for up to 100 new Embraer business jets to better accommodate this unexpected influx. DailyDozen US\nForbes Daily: Join over 1 million Forbes Daily subscribers and get our best stories, exclusive reporting and essential analysis of the day’s news in your inbox every weekday.\nBy signing up, you agree to receive this newsletter, other updates about Forbes and its affiliates’ offerings, our Terms of Service (including resolving disputes on an individual basis via arbitration), and you acknowledge our Privacy Statement . Forbes is protected by reCAPTCHA, and the Google Privacy Policy and Terms of Service apply.\nYou’re all set! Enjoy the Daily! More Newsletters\nYou’re all set! Enjoy the Daily! More Newsletters\nGreatly hyped Wheels Up (UP), branding itself as democratizing private aviation through its membership programs, has instead democratized investor paper losses with a decline of over 50% since going public. Despite record revenues and strong member growth, the company lost money anyway, causing some investors to question whether the business is scalable. Once self-proclaiming itself as the Airbnb or Uber of private aviation during pre-IPO days, it has now pivoted claiming it’s losing money just like Amazon did during its formative years. It will take more than name dropping and puffery to succeed in such a capital-intensive industry.\nLikewise, the burgeoning Urban Air Mobility (UAM) industry, which promises Jetson-like pods to whisk just a few passengers around locally, is off to a rough start. Having gone public within the last year or so, Archer Aviation (ACHR), Lilian (LILM) and Joby Aviation (JOBY) have all seen their shares tumble around 40%.\nStocks rising with the private aviation tide have thus far been the established industry participants. The stock market has not been as kind to younger, often SPAC-linked companies. While the future is bright for the general aviation industry with the addressable market having permanently expanded, not all public companies will be able to execute and capitalize on it. Follow me on Twitter or LinkedIn . Check out my website . Brian Foley Following\nBrian Foley Associates (BRiFO) helps aerospace firms and investors with market research and expert witness.  He also formed AvStrategies which brokers founder- and ... Editorial Standards Forbes Accolades"
          },
          "metadata": {}
        },
        {
          "output_type": "stream",
          "name": "stdout",
          "text": [
            "\n"
          ]
        },
        {
          "output_type": "display_data",
          "data": {
            "text/plain": [
              "<IPython.core.display.Markdown object>"
            ],
            "text/markdown": "**Citation [8]:** https://www.whitecase.com/insight-our-thinking/overall-investment-outlook-global-aviation-finance"
          },
          "metadata": {}
        },
        {
          "output_type": "display_data",
          "data": {
            "text/plain": [
              "<IPython.core.display.Markdown object>"
            ],
            "text/markdown": "Overall investment outlook for global aviation finance\nOur exclusive survey of senior executives who have financed the aviation industry in the past three years reveals that the overall investment outlook for the sector is bright, with one region in particular set for larger growth than its global equivalents Insight 15 January 2020 | 3 min read Justin Benson | Christian Hansen\nSubscribe\nStay current on your favorite topics\n61%\nof respondents expect investment in the global aviation sector to increase in 2020\nThe outlook for investment in the aviation sector remains encouraging, despite a backdrop of mounting fears about a global economic slowdown amid various geopolitical tensions. However, while the big picture is one of cautious optimism, the mood varies markedly around the world, with some markets much less upbeat.\nAs our survey findings reveal, more than half of the respondents in this research (61%) expect investment in the sector to increase during 2020; only 26% anticipate a decline in investment.\nBut these headline figures mask significant regional variations. In the APAC region, more than three-quarters of respondents expect to see increased investment, while in EMEA and North America, less than half of respondents agree. Indeed, in both EMEA and North America, almost as many respondents foresee investment falling back over the next 12 months.\nHalf of the private equity firms in this research expect to invest US$1 billion to US$5 billion in the sector over the next year, with airlines and operating lessors also committed to significant levels of funding.\nWhile overall investment in aviation and aircraft financing may be likely to increase, the flow to different regions could be disproportionate. In Asia, for instance, a large, growing middle class population is supporting demand for air travel, while emerging low-cost carriers offer lower fares. In contrast, within Europe, a combination of economic stagnancy and Brexit is having a sizeable impact on the industry.\nExpectations of activity in the aircraft financing market are also mixed. Overall, 61% of respondents anticipate increased activity during 2020, while only 22% predict a decline. However, APAC-based respondents are predominantly optimistic about the outlook, with 83% predicting an increase in aircraft finance, while only 55% of their counterparts in North America say the same. Meanwhile, sentiment in EMEA is depressed, with the number of respondents who expect reduced aircraft financing activity this year (44%) higher than those who look forward to an increase (37%).\nDo you think overall investment in the global aviation sector will increase, decrease or remain the same during 2020? (PDF)\nInevitably, the contrast between APAC and Western markets—EMEA in particular—reflects a broader economic context. The International Monetary Fund's (IMF) latest World Economic Outlook report suggests the US economy is on course to grow by just 2.1% in 2020, due in part to the US-China trade dispute. In Europe, where the Brexit negotiations continue to cause uncertainty, the IMF's prediction is for only 1.4% growth in 2020. Asia's economies, by contrast, are expected to grow considerably more quickly, led by China, albeit at a slower pace than in recent years.\nLocal factors are also at play. For example, Europe's travel sector endured a torrid 12 months with a string of airline and travel industry failures, including the UK's Thomas Cook and FlyBMI, Germania, Iceland's Wow Air and Slovenia's Adria Airways. In the Middle East, concerns remain that the rapid expansion of the region's airlines may have resulted in overcapacity.\nAPAC, on the other hand, is where most aircraft are expected to be delivered over the next ten to 20 years.\nDo you expect aircraft financing in the global aviation sector to increase, decrease or remain the same during 2020? (PDF)\nWhat is your annual global aviation capital investment? (PDF)\nOverall, there likely will be considerable capital flows into the aviation sector globally during 2020, with investment coming from a mixture of sources. Half of the private equity firms in this research expect to invest US$1 billion to US$5 billion in the sector over the next year, with airlines and operating lessors also committed to significant levels of funding.\n\"The demand for airline services has created long-term potential for investors,\" remarks the Director of Finance at one EMEA-based airline, who predicts continuing interest from private equity and others.\nIn the financing market, banks remain committed to providing significant sums to the aviation industry. Indeed, the aircraft financing environment remains remarkably robust, with investors attracted to a market that has seen passenger numbers grow every year since 2010. There are tremendous amounts of liquidity, and competition for assets and talent is fierce.\nWhat is your annual global aviation finance investment? (PDF)\nClick here to read the full magazine\nNavigating turbulence\nThis publication is provided for your convenience and does not constitute legal advice. This publication is protected by copyright.\n© 2020 White & Case LLP\nContacts Justin Benson Partner | London Services Debt Finance , Asset Finance , Aviation , Maritime & Offshore , Financial Institutions Christian Hansen Partner | Mexico City Services Mergers & Acquisitions , Debt Finance , Asset Finance , Aviation , Maritime & Offshore\nService areas Aviation Asset Finance Subscribe Overall%20investment%20outlook%20for%20global%20aviation%20finance\nhttps://www.whitecase.com/insight-our-thinking/overall-investment-outlook-global-aviation-finance\nhttps://news.whitecase.com/5/38/forms/subscribe.asp mailto:?subject=Overall%20investment%20outlook%20for%20global%20aviation%20finance&body=https://www.whitecase.com/insight-our-thinking/overall-investment-outlook-global-aviation-finance https://www.linkedin.com/shareArticle?mini=true&url=https://www.whitecase.com/insight-our-thinking/overall-investment-outlook-global-aviation-finance&title=Overall%20investment%20outlook%20for%20global%20aviation%20finance&source=www.whitecase.com https://twitter.com/intent/tweet?text=Overall%20investment%20outlook%20for%20global%20aviation%20finance&url=https://www.whitecase.com/insight-our-thinking/overall-investment-outlook-global-aviation-finance&via=WhiteCase https://www.facebook.com/share.php?u=https://www.whitecase.com/insight-our-thinking/overall-investment-outlook-global-aviation-finance&t=Overall%20investment%20outlook%20for%20global%20aviation%20finance https://news.whitecase.com/5/38/forms/subscribe.asp Top"
          },
          "metadata": {}
        },
        {
          "output_type": "stream",
          "name": "stdout",
          "text": [
            "\n"
          ]
        },
        {
          "output_type": "display_data",
          "data": {
            "text/plain": [
              "<IPython.core.display.Markdown object>"
            ],
            "text/markdown": "**Citation [9]:** https://thenationonlineng.net/driving-investment-opportunities-in-aviation/"
          },
          "metadata": {}
        },
        {
          "output_type": "display_data",
          "data": {
            "text/plain": [
              "<IPython.core.display.Markdown object>"
            ],
            "text/markdown": "Driving investment opportunities in aviation\nYadudu\nInvestment opportunities are becoming boundless in aviation industry. Regrettably, private sector players in Nigeria  are not taking advantage of existing windows. To reverse this trend, regulators and the airport authority  are meeting in Abuja next month to examine ways of unlocking huge investment windows for the sector, KELVIN OSA OKUNBOR reports.\nGlobal aviation is becoming a huge industry with  massive investment opportunities spanning airport business, airlines,  ground handling, shuttle and hailing services, airline catering, tourism, leasing, financing and other  activities that  boost economic development.\nStudies reveal that public financing options are becoming inadequate to drive these chain of activities, thereby paving the way for massive private sector investment and other intervention models.\nTo bridge this gap, a campaign is mounting among aeronautical agencies on the strategies to be adopted to attract private sector investors.\nThe push for private sector investment continues to gain global traction as regulatory bodies, including Airports Council International (ACI) and International Air Transport Association (IATA), have endorsed the private sector investment model for countries, including Nigeria.\nAccording to the International Air Transport Association (IATA), the global aviation industry supports over $2.7 trillion of the world’s gross domestic product.\nOn the African continent, operations of airlines and airports generate over $10.3 billion yearly to the gross domestic product.\nThe global airline’s regulator said air transport supports over 6.2 million jobs and $ 55.8 billion in Africa.\nBut, Nigeria is yet to fully plug into this window given the size of its aviation.\nTo reverse this trend, the government, through the Ministry of Aviation and Federal Airport Authority of Nigeria (FAAN), will engage players and stakeholders next month in Abuja in discussions on how to pull investment into the  aviation industry at  the maiden edition of National Aviation Conference.\nIn an interview with The Nation last week in Lagos,  Managing Director, FAAN, Captain Rabiu  Yadudu, said its proposed conference could not have come at a better time than when aeronautical authorities were thinking out of the box in  deepening the  space for greater private sector inclusion and investments in aviation and allied sectors.\nHe said the conference would provide a window for Nigeria to interface global air transport expertise in navigating around issues on the implementation of single African air transport market in terms of its prospects and challenges."
          },
          "metadata": {}
        },
        {
          "output_type": "stream",
          "name": "stdout",
          "text": [
            "\n"
          ]
        },
        {
          "output_type": "display_data",
          "data": {
            "text/plain": [
              "<IPython.core.display.Markdown object>"
            ],
            "text/markdown": "**Citation [10]:** https://www.worldfinance.com/infrastructure-investment/private-equity-takes-flight-in-the-aviation-sector"
          },
          "metadata": {}
        },
        {
          "output_type": "display_data",
          "data": {
            "text/plain": [
              "<IPython.core.display.Markdown object>"
            ],
            "text/markdown": "Growth within growth\nInvestors are investing in a growth industry within a growth industry. Driven by air travel demand, the latest Boeing and Airbus forecasts show that the commercial aircraft fleet is expected to more than double over the next two decades from its current level of roughly 20,000 commercial aircraft. Retirements of aircraft at the end of their economic lives (approximately 25 to 30 years) and their replacement by more fuel-efficient types further drives the demand for new aircraft production.\nIn a rising fuel price environment, replacement demand for fuel inefficient aircraft is strong. Whereas fuel cost as a share of total operating expenses was in the mid teens in the years 2003/2004, it has now risen to a stable 30 percent share, further driving replacement demand for older aircraft. Even in an environment with lower fuel prices, this trend is expected to continue. The introduction of more fuel-efficient new technology aircraft will de-risk the negative effects on airlines’ operations in the event of a fuel price spike.\nAnother attraction from an investor’s perspective in this space is that the two largest suppliers to the industry are relatively constrained in terms of their production capacity. Changes to production, whether it is an increase or decrease, is difficult given the long lead times involved and their supply chain capacity constraints. Extensive production backlogs on the most popular models allow Boeing and Airbus to manage their production levels as regional or individual customer demand shocks can be evened out by reallocation of order slots to other customers.\nPrivate equity investors haven taken into account what are significant hurdles to entry into the aircraft leasing space, given that the businesses are very capital intensive with acceptable returns only provided on a levered basis. Private equity investors are familiar with different leverage options making them natural investors in the aircraft leasing space. They often apply a diversified debt funding mix to the lessor with funding ranging from the standard bank financings to export credit supported loans or even the US capital markets.\nInvestors are also drawn to this industry by the fact that investments in operating lessors are in long-lived assets. The value of these assets is relatively predictable. It is also supported by the solid fundamentals given the attractive supply/demand dynamic around aircraft capacity. Relatively predictable new aircraft production levels and a steady outlook in terms of growth and aircraft replacement demand drives such a dynamic. There is volatility in aircraft values, driven by supply/demand and competitive factors. However that volatility is mitigated when looking at aircraft values on a lease encumbered basis, where the lease cash flows and aircraft residual values mitigate a pure asset value view.\nSimilar to investments in real estate, large chunks of equity from investors can be deployed efficiently and quickly, with the most prevalent narrow body aircraft costing upwards to $50m and widebody aircraft prices starting from the low $100m per aircraft. However security lies in the fact that the assets can be moved from one operator to the next, should that be required at the end of a lease be it scheduled or unscheduled. The worldwide mobility of aircraft to different airlines around the world provides tremendous risk mitigation to the investor.\nAircraft leasing businesses are capital-intensive operations and the forward orders with Airbus and Boeing carry significant cash drag through the associated pre-delivery payments. In addition, there is placement risk for the aircraft, interest rate risk and financing risk that need to be managed. For that reason, many lessors tend to focus on sale-lease back transactions or trades from other lessors where all of these risks can be mitigated since the aircraft are already on lease to an operator and financing requirements are near term with very limited interest rate risk exposure.\nTrack record\nEven though the investor focus draws comfort from the underlying asset values, private equity investors tend to invest in businesses and management teams rather than pools of assets themselves. This approach is largely based on the realisation that the aircraft leasing business is a relationship business, where airline and supplier relationships allow for the best realisation of value in transactions.\nPrivate equity firms have now branched out into other aviation leasing areas, such as helicopters, as shown by the $375m of equity capital that funds associated with MSD Capital, Soros and Cartesian Capital Group have committed to helicopter lessor Waypoint Leasing. The attraction for private equity investors to the aircraft leasing business will likely remain strong given the solid fundamentals around asset values, the favourable and predictable supply and demand characteristics of aircraft assets and the long-term steady returns that lessors have provided throughout various industry cycles.\nMost importantly, a positive track record by private equity investments in the aircraft leasing space has been established with several successful investment liquidations, whether private or into the public space. Private equity certainly has an important role to play to capitalise the aircraft lessors that are playing the economic cycles and investments in diverse aircraft assets in various ways. We should certainly be looking for more activity by private equity in the space. Related: From tradition to transformation in the luxury market Tackling the world’s hidden-debt problem Completing the banking puzzle Can extreme weather events threaten the rise of solar? Too much power: the problem of private equity Navigating cryptocurrency regulations Unlocking growth in the experience economy Can immigration fix Canada’s economy? Unprecedented rain in Dubai raises questions The next phase of digital banking"
          },
          "metadata": {}
        },
        {
          "output_type": "stream",
          "name": "stdout",
          "text": [
            "\n"
          ]
        }
      ]
    },
    {
      "cell_type": "code",
      "source": [
        "        published_markdown = await publish_contents(feed_id, specification_id, prompt, content_limit)\n",
        "\n",
        "        if published_markdown is not None:\n",
        "            display(Markdown(published_markdown))"
      ],
      "metadata": {
        "colab": {
          "base_uri": "https://localhost:8080/",
          "height": 558
        },
        "id": "msg4SoA7WVxN",
        "outputId": "fac7eef3-39f2-4a09-942d-d6bc6c9ebf94"
      },
      "execution_count": null,
      "outputs": [
        {
          "output_type": "display_data",
          "data": {
            "text/plain": [
              "<IPython.core.display.Markdown object>"
            ],
            "text/markdown": "### Current Top Investment Opportunities in Private Aviation\n\n1. **Aircraft Leasing**: The trend towards leasing rather than owning aircraft is gaining momentum. Nearly 50% of the world's commercial aircraft fleet is now under operating leases, which provide airlines with flexibility and reduced financial risk. Private equity firms are increasingly investing in aircraft leasing companies due to the stable cash flow and lower correlation with market volatility.\n\n2. **Private Equity Investments**: Private equity is playing a significant role in the aviation sector, particularly in mergers and acquisitions of established businesses like fixed base operators (FBOs) and maintenance, repair, and overhaul (MRO) services. The general aviation industry is seeing substantial investments from private equity firms, driven by stable cash flows and growth potential.\n\n3. **Aircraft Financing**: Investing in aircraft financing offers steady cash flow and returns that are less correlated with broader market indices. The post-pandemic recovery in air travel, driven by a growing global middle class, presents a unique opportunity for investors in this space.\n\n4. **Fractional Ownership and Jet Cards**: Corporate flight departments are increasingly exploring fractional ownership and jet card programs as alternatives to outright ownership. This shift reflects a growing demand for flexible private aviation solutions, creating investment opportunities in these service models.\n\n5. **Emerging Markets**: The Asia-Pacific region is showing significant optimism for investment growth in aviation, driven by rising incomes and increased travel demand. This region presents long-term investment potential, particularly in aircraft leasing and financing.\n\n6. **Sustainable Aviation**: There is a growing interest in sustainable aviation practices, including the development of sustainable aviation fuel (SAF) and advanced air mobility (AAM). While these areas are more suited for venture capital, they represent future investment opportunities as the industry evolves.\n\n7. **Technology and Innovation**: The aviation sector is increasingly recognizing the importance of technology in enhancing operational efficiency and passenger experience. Investments in technology solutions that improve safety and efficiency are becoming critical.\n\n8. **Market Diversification**: Companies like Pen Aviation are offering diverse investment opportunities that span both aviation and non-aviation sectors. This diversification can help mitigate risks and enhance returns for investors.\n\n9. **Regulatory Support**: The push for private sector investment in aviation is gaining momentum, with regulatory bodies supporting initiatives that foster economic growth. This regulatory environment can create favorable conditions for investment.\n\n10. **Networking and Collaboration**: Engaging with industry stakeholders and participating in conferences can provide valuable insights and opportunities for investment. Companies like Pen Aviation emphasize the importance of networking to connect investors with potential projects.\n\nThese investment opportunities reflect the evolving landscape of private aviation, driven by changing consumer preferences, economic growth, and technological advancements."
          },
          "metadata": {}
        }
      ]
    }
  ]
}