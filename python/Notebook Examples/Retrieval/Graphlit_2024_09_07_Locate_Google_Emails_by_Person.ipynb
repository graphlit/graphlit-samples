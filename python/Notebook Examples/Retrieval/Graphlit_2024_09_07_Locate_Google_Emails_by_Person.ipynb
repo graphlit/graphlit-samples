{
  "nbformat": 4,
  "nbformat_minor": 0,
  "metadata": {
    "colab": {
      "provenance": [],
      "mount_file_id": "1cSnEIDnT7SYyUpfap5KiK6Y_LWLQdk6s",
      "authorship_tag": "ABX9TyP37e4WfU+7KSzh6ZxSNsMl",
      "include_colab_link": true
    },
    "kernelspec": {
      "name": "python3",
      "display_name": "Python 3"
    },
    "language_info": {
      "name": "python"
    }
  },
  "cells": [
    {
      "cell_type": "markdown",
      "metadata": {
        "id": "view-in-github",
        "colab_type": "text"
      },
      "source": [
        "<a href=\"https://colab.research.google.com/github/graphlit/graphlit-samples/blob/main/python/Notebook%20Examples/Graphlit_2024_09_07_Locate_Google_Emails_by_Person.ipynb\" target=\"_parent\"><img src=\"https://colab.research.google.com/assets/colab-badge.svg\" alt=\"Open In Colab\"/></a>"
      ]
    },
    {
      "cell_type": "markdown",
      "source": [
        "**Description**\n",
        "\n",
        "This example shows how to ingest emails from a user's Gmail account, automatically extract to/from/cc/bcc as Persons, and filter emails by a specific Person."
      ],
      "metadata": {
        "id": "M7pOtiP1OaKd"
      }
    },
    {
      "cell_type": "markdown",
      "source": [
        "**Requirements**\n",
        "\n",
        "Prior to running this notebook, you will need to [signup](https://docs.graphlit.dev/getting-started/signup) for Graphlit, and [create a project](https://docs.graphlit.dev/getting-started/create-project).\n",
        "\n",
        "You will need the Graphlit organization ID, preview environment ID and JWT secret from your created project.\n",
        "\n",
        "Assign these properties as Colab secrets: GRAPHLIT_ORGANIZATION_ID, GRAPHLIT_ENVIRONMENT_ID and GRAPHLIT_JWT_SECRET.\n",
        "\n",
        "\n",
        "---"
      ],
      "metadata": {
        "id": "laG2MXUIhNnx"
      }
    },
    {
      "cell_type": "markdown",
      "source": [
        "Install Graphlit Python client SDK"
      ],
      "metadata": {
        "id": "NwRzDHWWienC"
      }
    },
    {
      "cell_type": "code",
      "execution_count": null,
      "metadata": {
        "id": "fefizrrh4xGD"
      },
      "outputs": [],
      "source": [
        "!pip install --upgrade graphlit-client"
      ]
    },
    {
      "cell_type": "markdown",
      "source": [
        "Install Google OAuth SDKs"
      ],
      "metadata": {
        "id": "o0n5efoGiYMo"
      }
    },
    {
      "cell_type": "code",
      "source": [
        "!pip install --upgrade google-api-python-client google-auth-httplib2 google-auth-oauthlib"
      ],
      "metadata": {
        "id": "y8aqC1XriPP7"
      },
      "execution_count": null,
      "outputs": []
    },
    {
      "cell_type": "markdown",
      "source": [
        "Initialize Graphlit"
      ],
      "metadata": {
        "id": "abV1114jL-bR"
      }
    },
    {
      "cell_type": "code",
      "source": [
        "import os\n",
        "from google.colab import userdata\n",
        "from graphlit import Graphlit\n",
        "from graphlit_api import input_types, enums, exceptions\n",
        "\n",
        "os.environ['GRAPHLIT_ORGANIZATION_ID'] = userdata.get('GRAPHLIT_ORGANIZATION_ID')\n",
        "os.environ['GRAPHLIT_ENVIRONMENT_ID'] = userdata.get('GRAPHLIT_ENVIRONMENT_ID')\n",
        "os.environ['GRAPHLIT_JWT_SECRET'] = userdata.get('GRAPHLIT_JWT_SECRET')\n",
        "\n",
        "graphlit = Graphlit()"
      ],
      "metadata": {
        "id": "WoMAWD4LLP_q"
      },
      "execution_count": null,
      "outputs": []
    },
    {
      "cell_type": "markdown",
      "source": [
        "Initialize Gmail authentication\n",
        "\n",
        "Requirements:\n",
        "- Create Google OAuth 2.0 Client ID via [Google Cloud Console](https://console.cloud.google.com/apis/credentials), download JSON, and assign text of JSON file as Google Colab secret named GOOGLE_OAUTH_CREDENTIALS.  Make sure to add http://localhost as an authorized redirect URI."
      ],
      "metadata": {
        "id": "3cZmC5T7eZp5"
      }
    },
    {
      "cell_type": "code",
      "source": [
        "from google_auth_oauthlib.flow import Flow\n",
        "import json\n",
        "from google.colab import output\n",
        "\n",
        "# The scope for Gmail API\n",
        "SCOPES = ['https://www.googleapis.com/auth/gmail.readonly']\n",
        "\n",
        "# Get Google OAuth credentials from secret\n",
        "client_secret_json = userdata.get('GOOGLE_OAUTH_CREDENTIALS')\n",
        "\n",
        "client_secrets = json.loads(client_secret_json)\n",
        "\n",
        "# Extract client ID and client secret\n",
        "if \"installed\" in client_secrets:\n",
        "    client_id = client_secrets['installed']['client_id']\n",
        "    client_secret = client_secrets['installed']['client_secret']\n",
        "elif \"web\" in client_secrets:\n",
        "    client_id = client_secrets['web']['client_id']\n",
        "    client_secret = client_secrets['web']['client_secret']\n",
        "else:\n",
        "    raise ValueError(\"Invalid JSON format for OAuth credentials.\")\n",
        "\n",
        "flow = Flow.from_client_config(\n",
        "    client_secrets,\n",
        "    scopes=SCOPES,\n",
        "    redirect_uri='http://localhost' # NOTE: needs to be added as an authorized redirect URI\n",
        ")\n",
        "\n",
        "# Generate the authorization URL with offline access to request a refresh token\n",
        "auth_url, _ = flow.authorization_url(prompt='consent', access_type='offline')\n",
        "\n",
        "# Display the URL for the user to authorize access\n",
        "print(f\"Please go to this URL and authorize access: {auth_url}\")\n",
        "\n",
        "# Open the URL in the browser\n",
        "output.eval_js(f'window.open(\"{auth_url}\");')\n",
        "\n",
        "# After granting permissions to Google, you will be redirected to http://localhost with a \"code\" in the URL\n",
        "# NOTE: The page won't load, but you just need to capture the 'code' parameter from the URL.\n",
        "# http://localhost/?state={state}&code={code}&scope=https://www.googleapis.com/auth/gmail.readonly\n",
        "\n",
        "# Copy the \"code\" parameter from the URL and paste it here\n",
        "code = input(\"Enter the authorization code you received: \")\n",
        "\n",
        "# Exchange the authorization code for credentials (including refresh token)\n",
        "flow.fetch_token(code=code)\n",
        "\n",
        "# Get the credentials\n",
        "credentials = flow.credentials\n",
        "\n",
        "# Now we have the client_id, client_secret and refresh_token to use with Graphlit\n",
        "refresh_token = credentials.refresh_token"
      ],
      "metadata": {
        "id": "uFugL633eOX2"
      },
      "execution_count": null,
      "outputs": []
    },
    {
      "cell_type": "markdown",
      "source": [
        "Define Graphlit helper functions"
      ],
      "metadata": {
        "id": "pgRX57EHMVfl"
      }
    },
    {
      "cell_type": "code",
      "source": [
        "from typing import List, Optional\n",
        "\n",
        "async def create_feed(refresh_token: str):\n",
        "    if graphlit.client is None:\n",
        "        return;\n",
        "\n",
        "    input = input_types.FeedInput(\n",
        "        name=\"Google Email\",\n",
        "        type=enums.FeedTypes.EMAIL,\n",
        "        email=input_types.EmailFeedPropertiesInput(\n",
        "            type=enums.FeedServiceTypes.GOOGLE_EMAIL,\n",
        "            google=input_types.GoogleEmailFeedPropertiesInput(\n",
        "                type=enums.EmailListingTypes.PAST,\n",
        "                refreshToken=refresh_token,\n",
        "                clientId=client_id,\n",
        "                clientSecret=client_secret\n",
        "            ),\n",
        "            readLimit=25 # limiting to 25 emails\n",
        "        )\n",
        "    )\n",
        "\n",
        "    try:\n",
        "        response = await graphlit.client.create_feed(input)\n",
        "\n",
        "        return response.create_feed.id if response.create_feed is not None else None\n",
        "    except exceptions.GraphQLClientError as e:\n",
        "        print(str(e))\n",
        "        return None\n",
        "\n",
        "    return None\n",
        "\n",
        "async def is_feed_done(feed_id: str):\n",
        "    if graphlit.client is None:\n",
        "        return;\n",
        "\n",
        "    response = await graphlit.client.is_feed_done(feed_id)\n",
        "\n",
        "    return response.is_feed_done.result if response.is_feed_done is not None else None\n",
        "\n",
        "async def query_persons(email: str):\n",
        "    if graphlit.client is None:\n",
        "        return;\n",
        "\n",
        "    try:\n",
        "        response = await graphlit.client.query_persons(\n",
        "            filter=input_types.PersonFilter(\n",
        "                email=email\n",
        "            )\n",
        "        )\n",
        "\n",
        "        return response.persons.results if response.persons is not None else None\n",
        "    except exceptions.GraphQLClientError as e:\n",
        "        print(str(e))\n",
        "        return None\n",
        "\n",
        "# Locate contents where person was observed, with relevant search text\n",
        "async def query_contents(person_id: str, search_text: str):\n",
        "    if graphlit.client is None:\n",
        "        return;\n",
        "\n",
        "    try:\n",
        "        response = await graphlit.client.query_contents(\n",
        "            filter=input_types.ContentFilter(\n",
        "                search=search_text,\n",
        "                searchType=enums.SearchTypes.HYBRID,\n",
        "                observations=[\n",
        "                    input_types.ObservationReferenceFilter(\n",
        "                        type=enums.ObservableTypes.PERSON,\n",
        "                        observable=input_types.EntityReferenceFilter(\n",
        "                            id=person_id\n",
        "                        )\n",
        "                    )\n",
        "                ]\n",
        "            )\n",
        "        )\n",
        "\n",
        "        return response.contents.results if response.contents is not None else None\n",
        "    except exceptions.GraphQLClientError as e:\n",
        "        print(str(e))\n",
        "        return None\n",
        "\n",
        "async def delete_all_feeds():\n",
        "    if graphlit.client is None:\n",
        "        return;\n",
        "\n",
        "    _ = await graphlit.client.delete_all_feeds(is_synchronous=True)\n"
      ],
      "metadata": {
        "id": "mtwjJsvVOVCh"
      },
      "execution_count": null,
      "outputs": []
    },
    {
      "cell_type": "markdown",
      "source": [
        "Execute Graphlit example"
      ],
      "metadata": {
        "id": "srzhQt4COLVI"
      }
    },
    {
      "cell_type": "code",
      "source": [
        "from IPython.display import display, Markdown\n",
        "import time\n",
        "\n",
        "# Remove any existing feeds; only needed for notebook example\n",
        "await delete_all_feeds()\n",
        "\n",
        "print('Deleted all feeds.')\n",
        "\n",
        "# NOTE: specify the email of the Person to locate\n",
        "email = \"kirk@graphlit.com\"\n",
        "\n",
        "# NOTE: specify the text to search for in the filtered emails\n",
        "search_text = \"graphlit-client\"\n",
        "\n",
        "if refresh_token is not None:\n",
        "    feed_id = await create_feed(refresh_token)\n",
        "\n",
        "    if feed_id is not None:\n",
        "        print(f'Created feed [{feed_id}].')\n",
        "\n",
        "        # Wait for feed to complete, since ingestion happens asychronously\n",
        "        done = False\n",
        "        time.sleep(5)\n",
        "        while not done:\n",
        "            done = await is_feed_done(feed_id)\n",
        "\n",
        "            if not done:\n",
        "                time.sleep(2)\n",
        "\n",
        "        print(f'Completed feed [{feed_id}].')\n",
        "\n",
        "        persons = await query_persons(email)\n",
        "\n",
        "        person = persons[0] if persons is not None and len(persons) > 0 else None\n",
        "\n",
        "        if person is not None:\n",
        "            print(f'Found person [{person.id}] with email [{person.email}] named [{person.name}].')\n",
        "\n",
        "            # Query contents by person and search text\n",
        "            contents = await query_contents(person.id, search_text)\n",
        "\n",
        "            if contents is not None:\n",
        "                for content in contents:\n",
        "                    if content is not None:\n",
        "                        display(Markdown(f'### Found Google email [{content.id}] that referenced Person [{email}] and search text [{search_text}].'))\n",
        "\n",
        "                        metadata = content.email\n",
        "\n",
        "                        if metadata is not None:\n",
        "                            if metadata.subject is not None:\n",
        "                                print(\"Subject: \" + metadata.subject)\n",
        "                            if metadata.to is not None and len(metadata.to) > 0:\n",
        "                                print(\"To: \" + \", \".join([f'\"{item.name}\" <{item.email}>' for item in metadata.to if item is not None]))\n",
        "                            if metadata.from_ is not None and len(metadata.from_) > 0:\n",
        "                                print(\"From: \" + \", \".join([f'\"{item.name}\" <{item.email}>' for item in metadata.from_ if item is not None]))\n",
        "\n",
        "                        display(Markdown(content.markdown))\n",
        "                        print()\n",
        "        else:\n",
        "            print(f'No person with email [{email}] found.')"
      ],
      "metadata": {
        "id": "fOb6COcONZIJ"
      },
      "execution_count": null,
      "outputs": []
    }
  ]
}