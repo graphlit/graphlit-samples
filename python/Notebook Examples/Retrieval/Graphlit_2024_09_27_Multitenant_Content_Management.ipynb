{
  "nbformat": 4,
  "nbformat_minor": 0,
  "metadata": {
    "colab": {
      "provenance": [],
      "mount_file_id": "1cSnEIDnT7SYyUpfap5KiK6Y_LWLQdk6s",
      "authorship_tag": "ABX9TyPUhOX8+EJkx3MDDKcm1wdD",
      "include_colab_link": true
    },
    "kernelspec": {
      "name": "python3",
      "display_name": "Python 3"
    },
    "language_info": {
      "name": "python"
    }
  },
  "cells": [
    {
      "cell_type": "markdown",
      "metadata": {
        "id": "view-in-github",
        "colab_type": "text"
      },
      "source": [
        "<a href=\"https://colab.research.google.com/github/graphlit/graphlit-samples/blob/main/python/Notebook%20Examples/Graphlit_2024_09_27_Multitenant_Content_Management.ipynb\" target=\"_parent\"><img src=\"https://colab.research.google.com/assets/colab-badge.svg\" alt=\"Open In Colab\"/></a>"
      ]
    },
    {
      "cell_type": "markdown",
      "source": [
        "**Description**\n",
        "\n",
        "This example shows how to leverage multitenancy in Graphlit. We will show how to ingest content at 'project-scope' and 'tenant-scope', and how the data partitioning works when querying content."
      ],
      "metadata": {
        "id": "pDz1gRPjOtn5"
      }
    },
    {
      "cell_type": "markdown",
      "source": [
        "**Requirements**\n",
        "\n",
        "Prior to running this notebook, you will need to [signup](https://docs.graphlit.dev/getting-started/signup) for Graphlit, and [create a project](https://docs.graphlit.dev/getting-started/create-project).\n",
        "\n",
        "You will need the Graphlit organization ID, preview environment ID and JWT secret from your created project.\n",
        "\n",
        "Assign these properties as Colab secrets: GRAPHLIT_ORGANIZATION_ID, GRAPHLIT_ENVIRONMENT_ID and GRAPHLIT_JWT_SECRET.\n",
        "\n",
        "\n",
        "---"
      ],
      "metadata": {
        "id": "laG2MXUIhNnx"
      }
    },
    {
      "cell_type": "markdown",
      "source": [
        "Install Graphlit Python client SDK"
      ],
      "metadata": {
        "id": "NwRzDHWWienC"
      }
    },
    {
      "cell_type": "code",
      "execution_count": 25,
      "metadata": {
        "id": "fefizrrh4xGD",
        "colab": {
          "base_uri": "https://localhost:8080/"
        },
        "outputId": "e86ff189-0a46-46de-d688-9f43c45ab608"
      },
      "outputs": [
        {
          "output_type": "stream",
          "name": "stdout",
          "text": [
            "Requirement already satisfied: graphlit-client in /usr/local/lib/python3.10/dist-packages (1.0.20240927001)\n",
            "Requirement already satisfied: httpx in /usr/local/lib/python3.10/dist-packages (from graphlit-client) (0.27.2)\n",
            "Requirement already satisfied: pydantic<3.0.0,>=2.0.0 in /usr/local/lib/python3.10/dist-packages (from graphlit-client) (2.9.2)\n",
            "Requirement already satisfied: PyJWT in /usr/local/lib/python3.10/dist-packages (from graphlit-client) (2.9.0)\n",
            "Requirement already satisfied: websockets in /usr/local/lib/python3.10/dist-packages (from graphlit-client) (13.1)\n",
            "Requirement already satisfied: annotated-types>=0.6.0 in /usr/local/lib/python3.10/dist-packages (from pydantic<3.0.0,>=2.0.0->graphlit-client) (0.7.0)\n",
            "Requirement already satisfied: pydantic-core==2.23.4 in /usr/local/lib/python3.10/dist-packages (from pydantic<3.0.0,>=2.0.0->graphlit-client) (2.23.4)\n",
            "Requirement already satisfied: typing-extensions>=4.6.1 in /usr/local/lib/python3.10/dist-packages (from pydantic<3.0.0,>=2.0.0->graphlit-client) (4.12.2)\n",
            "Requirement already satisfied: anyio in /usr/local/lib/python3.10/dist-packages (from httpx->graphlit-client) (3.7.1)\n",
            "Requirement already satisfied: certifi in /usr/local/lib/python3.10/dist-packages (from httpx->graphlit-client) (2024.8.30)\n",
            "Requirement already satisfied: httpcore==1.* in /usr/local/lib/python3.10/dist-packages (from httpx->graphlit-client) (1.0.5)\n",
            "Requirement already satisfied: idna in /usr/local/lib/python3.10/dist-packages (from httpx->graphlit-client) (3.10)\n",
            "Requirement already satisfied: sniffio in /usr/local/lib/python3.10/dist-packages (from httpx->graphlit-client) (1.3.1)\n",
            "Requirement already satisfied: h11<0.15,>=0.13 in /usr/local/lib/python3.10/dist-packages (from httpcore==1.*->httpx->graphlit-client) (0.14.0)\n",
            "Requirement already satisfied: exceptiongroup in /usr/local/lib/python3.10/dist-packages (from anyio->httpx->graphlit-client) (1.2.2)\n"
          ]
        }
      ],
      "source": [
        "!pip install --upgrade graphlit-client"
      ]
    },
    {
      "cell_type": "markdown",
      "source": [
        "Initialize Graphlit"
      ],
      "metadata": {
        "id": "abV1114jL-bR"
      }
    },
    {
      "cell_type": "code",
      "source": [
        "import os\n",
        "import uuid\n",
        "from google.colab import userdata\n",
        "from graphlit import Graphlit\n",
        "from graphlit_api import input_types, enums, exceptions\n",
        "\n",
        "os.environ['GRAPHLIT_ORGANIZATION_ID'] = userdata.get('GRAPHLIT_ORGANIZATION_ID')\n",
        "os.environ['GRAPHLIT_ENVIRONMENT_ID'] = userdata.get('GRAPHLIT_ENVIRONMENT_ID')\n",
        "os.environ['GRAPHLIT_JWT_SECRET'] = userdata.get('GRAPHLIT_JWT_SECRET')\n",
        "\n",
        "graphlit = Graphlit()\n",
        "\n",
        "# Configure unique tenant identifiers\n",
        "\n",
        "tenant1_id = str(uuid.uuid4())\n",
        "tenant2_id = str(uuid.uuid4())\n"
      ],
      "metadata": {
        "id": "WoMAWD4LLP_q"
      },
      "execution_count": 26,
      "outputs": []
    },
    {
      "cell_type": "markdown",
      "source": [
        "Define Graphlit helper functions"
      ],
      "metadata": {
        "id": "pgRX57EHMVfl"
      }
    },
    {
      "cell_type": "code",
      "source": [
        "from typing import List, Optional\n",
        "\n",
        "async def ingest_uri(uri: str):\n",
        "    if graphlit.client is None:\n",
        "        return;\n",
        "\n",
        "    try:\n",
        "        # Using synchronous mode, so the notebook waits for the content to be ingested\n",
        "        response = await graphlit.client.ingest_uri(uri=uri, is_synchronous=True)\n",
        "\n",
        "        return response.ingest_uri.id if response.ingest_uri is not None else None\n",
        "    except exceptions.GraphQLClientError as e:\n",
        "        print(str(e))\n",
        "        return None\n",
        "\n",
        "async def query_contents():\n",
        "    if graphlit.client is None:\n",
        "        return;\n",
        "\n",
        "    try:\n",
        "        response = await graphlit.client.query_contents()\n",
        "\n",
        "        return response.contents.results if response.contents is not None else None\n",
        "    except exceptions.GraphQLClientError as e:\n",
        "        print(str(e))\n",
        "        return None\n",
        "\n",
        "async def delete_all_contents():\n",
        "    if graphlit.client is None:\n",
        "        return;\n",
        "\n",
        "    _ = await graphlit.client.delete_all_contents(is_synchronous=True)\n"
      ],
      "metadata": {
        "id": "mtwjJsvVOVCh"
      },
      "execution_count": 27,
      "outputs": []
    },
    {
      "cell_type": "markdown",
      "source": [
        "Execute Graphlit example"
      ],
      "metadata": {
        "id": "srzhQt4COLVI"
      }
    },
    {
      "cell_type": "code",
      "source": [
        "from IPython.display import display, Markdown\n",
        "\n",
        "# Remove any existing contents; only needed for notebook example\n",
        "await delete_all_contents()\n",
        "\n",
        "print('Deleted all contents.')\n",
        "\n",
        "# Tenants will inherit any content from the project-scope, allowing for common content to be injected into all tenant's knowledge bases\n",
        "\n",
        "# Assign unique tenant (owner) identifier and refresh the Graphlit client\n",
        "graphlit.owner_id = tenant1_id\n",
        "graphlit.refresh_client()\n",
        "\n",
        "print()\n",
        "print('Ingesting image into Tenant 1-scope')\n",
        "\n",
        "await ingest_uri(uri=\"https://graphlitplatform.blob.core.windows.net/samples/Images/Chicago/20170617_145925.jpg\")\n",
        "\n",
        "# We should return the one Tenant 1-scoped image\n",
        "contents = await query_contents()\n",
        "\n",
        "if contents is not None:\n",
        "    display(Markdown(f'### Tenant 1-scoped content'))\n",
        "    for content in contents:\n",
        "        if content is not None:\n",
        "            print(f\"[{content.id}]: {content.name}\")\n",
        "\n",
        "display(Markdown(\"We have now uploaded an image into Tenant 1.  When we query Tenant 1's contents, we should return back that one image.\"))\n",
        "\n",
        "# Assign unique tenant (owner) identifier and refresh the Graphlit client\n",
        "graphlit.owner_id = tenant2_id\n",
        "graphlit.refresh_client()\n",
        "\n",
        "print()\n",
        "print('Ingesting image into Tenant 2-scope')\n",
        "\n",
        "await ingest_uri(uri=\"https://graphlitplatform.blob.core.windows.net/samples/Images/Chicago/20170816_214947.jpg\")\n",
        "\n",
        "# We should return the one Tenant 2-scoped image\n",
        "contents = await query_contents()\n",
        "\n",
        "if contents is not None:\n",
        "    display(Markdown(f'### Tenant 2-scoped content'))\n",
        "    for content in contents:\n",
        "        if content is not None:\n",
        "            print(f\"[{content.id}]: {content.name}\")\n",
        "\n",
        "display(Markdown(\"We have now uploaded an image into Tenant 2.  When we query Tenant 2's contents, we should return back that one image.\"))\n",
        "\n",
        "# Reset tenant identifier (to project-scope) and refresh the Graphlit client\n",
        "graphlit.owner_id = None\n",
        "graphlit.refresh_client()\n",
        "\n",
        "print()\n",
        "print('Ingesting image into Project-scope')\n",
        "\n",
        "await ingest_uri(uri=\"https://graphlitplatform.blob.core.windows.net/samples/Images/Chicago/20170601_081526.jpg\")\n",
        "\n",
        "# We should return the one project-scoped image\n",
        "contents = await query_contents()\n",
        "\n",
        "if contents is not None:\n",
        "    display(Markdown(f'### Project-scoped content'))\n",
        "    for content in contents:\n",
        "        if content is not None:\n",
        "            print(f\"[{content.id}]: {content.name}\")\n",
        "\n",
        "display(Markdown(\"We have now uploaded an image into the project.  When we query the project's contents, we should get back three images - one from the project, and one from each tenant. The project has access to all tenant data, but not vice versa. Tenant's only have access to their own data, and any data inherited from the project.\"))\n",
        "\n",
        "# Assign unique tenant (owner) identifier and refresh the Graphlit client\n",
        "graphlit.owner_id = tenant1_id\n",
        "graphlit.refresh_client()\n",
        "\n",
        "print()\n",
        "print('Ingesting image into Tenant 1-scope')\n",
        "\n",
        "await ingest_uri(uri=\"https://graphlitplatform.blob.core.windows.net/samples/Images/Chicago/20170601_082315.jpg\")\n",
        "\n",
        "# We should return the one Tenant 1-scoped image, plus the one project-scoped image\n",
        "contents = await query_contents()\n",
        "\n",
        "if contents is not None:\n",
        "    display(Markdown(f'### Tenant 1-scoped content (including Project-scoped Content)'))\n",
        "    for content in contents:\n",
        "        if content is not None:\n",
        "            print(f\"[{content.id}]: {content.name}\")\n",
        "\n",
        "display(Markdown(\"We have now uploaded another image into Tenant 1, but we also already uploaded an image into the project.  When we query Tenant 1's contents, we should return back that three images - two from the tenant, and one inherited from the project.\"))\n",
        "\n",
        "# Assign unique tenant (owner) identifier and refresh the Graphlit client\n",
        "graphlit.owner_id = tenant2_id\n",
        "graphlit.refresh_client()\n",
        "\n",
        "print()\n",
        "print('Ingesting image into Tenant 2-scope')\n",
        "\n",
        "await ingest_uri(uri=\"https://graphlitplatform.blob.core.windows.net/samples/Images/Chicago/20170601_213903.jpg\")\n",
        "\n",
        "# We should return the one Tenant 2-scoped image, plus the one project-scoped image\n",
        "contents = await query_contents()\n",
        "\n",
        "if contents is not None:\n",
        "    display(Markdown(f'### Tenant 2-scoped content (including Project-scoped Content)'))\n",
        "    for content in contents:\n",
        "        if content is not None:\n",
        "            print(f\"[{content.id}]: {content.name}\")\n",
        "\n",
        "display(Markdown(\"We have now uploaded another image into Tenant 2, but we also already uploaded an image into the project.  When we query Tenant 2's contents, we should return back that three images - two from the tenant, and one inherited from the project.\"))\n",
        "\n",
        "# Reset tenant identifier (to project-scope) and refresh the Graphlit client\n",
        "graphlit.owner_id = None\n",
        "graphlit.refresh_client()\n",
        "\n",
        "# We should return the one project-scoped image, plus the Tenant 1 and Tenant 2-scoped images\n",
        "contents = await query_contents()\n",
        "\n",
        "if contents is not None:\n",
        "    display(Markdown(f'### Project-scoped content (including all Tenant-scoped Content)'))\n",
        "    for content in contents:\n",
        "        if content is not None:\n",
        "            print(f\"[{content.id}]: {content.name}\")\n",
        "\n",
        "display(Markdown(\"When we query the project's contents, we get all the data back from the project including any tenant data.  We should now have 5 images total.\"))\n",
        "\n",
        "# We must clean up each tenant separately, in its own scope; deleting contents at project-scope won't delete contents at tenant-scope\n",
        "\n",
        "graphlit.owner_id = tenant1_id\n",
        "graphlit.refresh_client()\n",
        "\n",
        "await delete_all_contents()\n",
        "\n",
        "graphlit.owner_id = tenant2_id\n",
        "graphlit.refresh_client()\n",
        "\n",
        "await delete_all_contents()\n",
        "\n",
        "# Reset tenant identifier (to project-scope) and refresh the Graphlit client\n",
        "graphlit.owner_id = None\n",
        "graphlit.refresh_client()\n",
        "\n",
        "# We should return the one project-scoped image\n",
        "contents = await query_contents()\n",
        "\n",
        "if contents is not None:\n",
        "    display(Markdown(f'### Project-scoped content'))\n",
        "    for content in contents:\n",
        "        if content is not None:\n",
        "            print(f\"[{content.id}]: {content.name}\")\n",
        "\n",
        "display(Markdown(\"At the end, when we query the project's contents, we should get back the one image we uploaded into the project. All tenant data has already been deleted.\"))\n"
      ],
      "metadata": {
        "id": "fOb6COcONZIJ",
        "colab": {
          "base_uri": "https://localhost:8080/",
          "height": 1000
        },
        "outputId": "53412a0d-7d1e-4905-c38c-8796155cc0a1"
      },
      "execution_count": 28,
      "outputs": [
        {
          "output_type": "stream",
          "name": "stdout",
          "text": [
            "Deleted all contents.\n",
            "\n",
            "Ingesting image into Tenant 1-scope\n"
          ]
        },
        {
          "output_type": "display_data",
          "data": {
            "text/plain": [
              "<IPython.core.display.Markdown object>"
            ],
            "text/markdown": "### Tenant 1-scoped content"
          },
          "metadata": {}
        },
        {
          "output_type": "stream",
          "name": "stdout",
          "text": [
            "[2795fbc3-99d4-4bb5-bbc5-3a960321abff]: 20170617_145925.jpg\n"
          ]
        },
        {
          "output_type": "display_data",
          "data": {
            "text/plain": [
              "<IPython.core.display.Markdown object>"
            ],
            "text/markdown": "We have now uploaded an image into Tenant 1.  When we query Tenant 1's contents, we should return back that one image."
          },
          "metadata": {}
        },
        {
          "output_type": "stream",
          "name": "stdout",
          "text": [
            "\n",
            "Ingesting image into Tenant 2-scope\n"
          ]
        },
        {
          "output_type": "display_data",
          "data": {
            "text/plain": [
              "<IPython.core.display.Markdown object>"
            ],
            "text/markdown": "### Tenant 2-scoped content"
          },
          "metadata": {}
        },
        {
          "output_type": "stream",
          "name": "stdout",
          "text": [
            "[46bdbe70-dd8a-48bc-b97e-961593af0388]: 20170816_214947.jpg\n"
          ]
        },
        {
          "output_type": "display_data",
          "data": {
            "text/plain": [
              "<IPython.core.display.Markdown object>"
            ],
            "text/markdown": "We have now uploaded an image into Tenant 2.  When we query Tenant 2's contents, we should return back that one image."
          },
          "metadata": {}
        },
        {
          "output_type": "stream",
          "name": "stdout",
          "text": [
            "\n",
            "Ingesting image into Project-scope\n"
          ]
        },
        {
          "output_type": "display_data",
          "data": {
            "text/plain": [
              "<IPython.core.display.Markdown object>"
            ],
            "text/markdown": "### Project-scoped content"
          },
          "metadata": {}
        },
        {
          "output_type": "stream",
          "name": "stdout",
          "text": [
            "[46bdbe70-dd8a-48bc-b97e-961593af0388]: 20170816_214947.jpg\n",
            "[2795fbc3-99d4-4bb5-bbc5-3a960321abff]: 20170617_145925.jpg\n",
            "[0357e32f-de24-4370-b8b1-913d566e7d00]: 20170601_081526.jpg\n"
          ]
        },
        {
          "output_type": "display_data",
          "data": {
            "text/plain": [
              "<IPython.core.display.Markdown object>"
            ],
            "text/markdown": "We have now uploaded an image into the project.  When we query the project's contents, we should get back three images - one from the project, and one from each tenant. The project has access to all tenant data, but not vice versa. Tenant's only have access to their own data, and any data inherited from the project."
          },
          "metadata": {}
        },
        {
          "output_type": "stream",
          "name": "stdout",
          "text": [
            "\n",
            "Ingesting image into Tenant 1-scope\n"
          ]
        },
        {
          "output_type": "display_data",
          "data": {
            "text/plain": [
              "<IPython.core.display.Markdown object>"
            ],
            "text/markdown": "### Tenant 1-scoped content (including Project-scoped Content)"
          },
          "metadata": {}
        },
        {
          "output_type": "stream",
          "name": "stdout",
          "text": [
            "[2795fbc3-99d4-4bb5-bbc5-3a960321abff]: 20170617_145925.jpg\n",
            "[f2ac4d8a-064f-4fe4-abf4-7c98c6db51c3]: 20170601_082315.jpg\n",
            "[0357e32f-de24-4370-b8b1-913d566e7d00]: 20170601_081526.jpg\n"
          ]
        },
        {
          "output_type": "display_data",
          "data": {
            "text/plain": [
              "<IPython.core.display.Markdown object>"
            ],
            "text/markdown": "We have now uploaded another image into Tenant 1, but we also already uploaded an image into the project.  When we query Tenant 1's contents, we should return back that three images - two from the tenant, and one inherited from the project."
          },
          "metadata": {}
        },
        {
          "output_type": "stream",
          "name": "stdout",
          "text": [
            "\n",
            "Ingesting image into Tenant 2-scope\n"
          ]
        },
        {
          "output_type": "display_data",
          "data": {
            "text/plain": [
              "<IPython.core.display.Markdown object>"
            ],
            "text/markdown": "### Tenant 2-scoped content (including Project-scoped Content)"
          },
          "metadata": {}
        },
        {
          "output_type": "stream",
          "name": "stdout",
          "text": [
            "[46bdbe70-dd8a-48bc-b97e-961593af0388]: 20170816_214947.jpg\n",
            "[34b472b5-3ebb-483d-8090-5e6b7cfdc994]: 20170601_213903.jpg\n",
            "[0357e32f-de24-4370-b8b1-913d566e7d00]: 20170601_081526.jpg\n"
          ]
        },
        {
          "output_type": "display_data",
          "data": {
            "text/plain": [
              "<IPython.core.display.Markdown object>"
            ],
            "text/markdown": "We have now uploaded another image into Tenant 2, but we also already uploaded an image into the project.  When we query Tenant 2's contents, we should return back that three images - two from the tenant, and one inherited from the project."
          },
          "metadata": {}
        },
        {
          "output_type": "display_data",
          "data": {
            "text/plain": [
              "<IPython.core.display.Markdown object>"
            ],
            "text/markdown": "### Project-scoped content (including all Tenant-scoped Content)"
          },
          "metadata": {}
        },
        {
          "output_type": "stream",
          "name": "stdout",
          "text": [
            "[46bdbe70-dd8a-48bc-b97e-961593af0388]: 20170816_214947.jpg\n",
            "[2795fbc3-99d4-4bb5-bbc5-3a960321abff]: 20170617_145925.jpg\n",
            "[34b472b5-3ebb-483d-8090-5e6b7cfdc994]: 20170601_213903.jpg\n",
            "[f2ac4d8a-064f-4fe4-abf4-7c98c6db51c3]: 20170601_082315.jpg\n",
            "[0357e32f-de24-4370-b8b1-913d566e7d00]: 20170601_081526.jpg\n"
          ]
        },
        {
          "output_type": "display_data",
          "data": {
            "text/plain": [
              "<IPython.core.display.Markdown object>"
            ],
            "text/markdown": "When we query the project's contents, we get all the data back from the project including any tenant data.  We should now have 5 images total."
          },
          "metadata": {}
        },
        {
          "output_type": "display_data",
          "data": {
            "text/plain": [
              "<IPython.core.display.Markdown object>"
            ],
            "text/markdown": "### Project-scoped content"
          },
          "metadata": {}
        },
        {
          "output_type": "stream",
          "name": "stdout",
          "text": [
            "[0357e32f-de24-4370-b8b1-913d566e7d00]: 20170601_081526.jpg\n"
          ]
        },
        {
          "output_type": "display_data",
          "data": {
            "text/plain": [
              "<IPython.core.display.Markdown object>"
            ],
            "text/markdown": "At the end, when we query the project's contents, we should get back the one image we uploaded into the project. All tenant data has already been deleted."
          },
          "metadata": {}
        }
      ]
    }
  ]
}