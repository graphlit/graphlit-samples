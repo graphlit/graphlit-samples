{
  "cells": [
    {
      "cell_type": "markdown",
      "metadata": {
        "id": "view-in-github",
        "colab_type": "text"
      },
      "source": [
        "<a href=\"https://colab.research.google.com/github/graphlit/graphlit-samples/blob/main/python/Notebook%20Examples/Graphlit_2024_12_24_Assign_Labels_at_Ingestion_Time.ipynb\" target=\"_parent\"><img src=\"https://colab.research.google.com/assets/colab-badge.svg\" alt=\"Open In Colab\"/></a>"
      ]
    },
    {
      "cell_type": "markdown",
      "source": [
        "**Description**\n",
        "\n",
        "This example shows how to assign labels to files upon ingestion. As an alternative to using entity extraction to assign labels, this shows how to label content manually."
      ],
      "metadata": {
        "id": "c1okc8m6DZAV"
      }
    },
    {
      "cell_type": "markdown",
      "source": [
        "**Requirements**\n",
        "\n",
        "Prior to running this notebook, you will need to [signup](https://docs.graphlit.dev/getting-started/signup) for Graphlit, and [create a project](https://docs.graphlit.dev/getting-started/create-project).\n",
        "\n",
        "You will need the Graphlit organization ID, preview environment ID and JWT secret from your created project.\n",
        "\n",
        "Assign these properties as Colab secrets: GRAPHLIT_ORGANIZATION_ID, GRAPHLIT_ENVIRONMENT_ID and GRAPHLIT_JWT_SECRET.\n",
        "\n",
        "---"
      ],
      "metadata": {
        "id": "axUoHmsnDhbA"
      }
    },
    {
      "cell_type": "markdown",
      "source": [
        "Install Graphlit Python client SDK"
      ],
      "metadata": {
        "id": "8R4Fa-WTDmXi"
      }
    },
    {
      "cell_type": "code",
      "source": [
        "!pip install --upgrade graphlit-client"
      ],
      "metadata": {
        "colab": {
          "base_uri": "https://localhost:8080/"
        },
        "id": "JW7ipFqbDl-i",
        "outputId": "066e3585-d351-43b5-a5f4-e597cd41b294"
      },
      "execution_count": 22,
      "outputs": [
        {
          "output_type": "stream",
          "name": "stdout",
          "text": [
            "Requirement already satisfied: graphlit-client in /usr/local/lib/python3.10/dist-packages (1.0.20241224002)\n",
            "Requirement already satisfied: httpx in /usr/local/lib/python3.10/dist-packages (from graphlit-client) (0.28.1)\n",
            "Requirement already satisfied: pydantic<3.0.0,>=2.0.0 in /usr/local/lib/python3.10/dist-packages (from graphlit-client) (2.10.3)\n",
            "Requirement already satisfied: PyJWT in /usr/local/lib/python3.10/dist-packages (from graphlit-client) (2.10.1)\n",
            "Requirement already satisfied: websockets in /usr/local/lib/python3.10/dist-packages (from graphlit-client) (14.1)\n",
            "Requirement already satisfied: annotated-types>=0.6.0 in /usr/local/lib/python3.10/dist-packages (from pydantic<3.0.0,>=2.0.0->graphlit-client) (0.7.0)\n",
            "Requirement already satisfied: pydantic-core==2.27.1 in /usr/local/lib/python3.10/dist-packages (from pydantic<3.0.0,>=2.0.0->graphlit-client) (2.27.1)\n",
            "Requirement already satisfied: typing-extensions>=4.12.2 in /usr/local/lib/python3.10/dist-packages (from pydantic<3.0.0,>=2.0.0->graphlit-client) (4.12.2)\n",
            "Requirement already satisfied: anyio in /usr/local/lib/python3.10/dist-packages (from httpx->graphlit-client) (3.7.1)\n",
            "Requirement already satisfied: certifi in /usr/local/lib/python3.10/dist-packages (from httpx->graphlit-client) (2024.12.14)\n",
            "Requirement already satisfied: httpcore==1.* in /usr/local/lib/python3.10/dist-packages (from httpx->graphlit-client) (1.0.7)\n",
            "Requirement already satisfied: idna in /usr/local/lib/python3.10/dist-packages (from httpx->graphlit-client) (3.10)\n",
            "Requirement already satisfied: h11<0.15,>=0.13 in /usr/local/lib/python3.10/dist-packages (from httpcore==1.*->httpx->graphlit-client) (0.14.0)\n",
            "Requirement already satisfied: sniffio>=1.1 in /usr/local/lib/python3.10/dist-packages (from anyio->httpx->graphlit-client) (1.3.1)\n",
            "Requirement already satisfied: exceptiongroup in /usr/local/lib/python3.10/dist-packages (from anyio->httpx->graphlit-client) (1.2.2)\n"
          ]
        }
      ]
    },
    {
      "cell_type": "markdown",
      "source": [
        "Initialize Graphlit"
      ],
      "metadata": {
        "id": "utwiQvPrD3gL"
      }
    },
    {
      "cell_type": "code",
      "source": [
        "import os\n",
        "from google.colab import userdata\n",
        "from graphlit import Graphlit\n",
        "from graphlit_api import input_types, enums, exceptions\n",
        "\n",
        "os.environ['GRAPHLIT_ORGANIZATION_ID'] = userdata.get('GRAPHLIT_ORGANIZATION_ID')\n",
        "os.environ['GRAPHLIT_ENVIRONMENT_ID'] = userdata.get('GRAPHLIT_ENVIRONMENT_ID')\n",
        "os.environ['GRAPHLIT_JWT_SECRET'] = userdata.get('GRAPHLIT_JWT_SECRET')\n",
        "\n",
        "graphlit = Graphlit()"
      ],
      "metadata": {
        "id": "1yvo2BOiD5V1"
      },
      "execution_count": 23,
      "outputs": []
    },
    {
      "cell_type": "markdown",
      "source": [
        "Define Graphlit helper functions"
      ],
      "metadata": {
        "id": "qA1pMX57D-G7"
      }
    },
    {
      "cell_type": "code",
      "source": [
        "from typing import List, Optional\n",
        "import json\n",
        "\n",
        "# NOTE: these are label names\n",
        "async def ingest_uri(uri: str, labels: Optional[List[str]] = None):\n",
        "    if graphlit.client is None:\n",
        "        return;\n",
        "\n",
        "    try:\n",
        "        # Using synchronous mode, so the notebook waits for the content to be ingested\n",
        "        response = await graphlit.client.ingest_uri(\n",
        "            uri=uri,\n",
        "            observations=[input_types.ObservationReferenceInput(type=enums.ObservableTypes.LABEL, observable=input_types.NamedEntityReferenceInput(name=label)) for label in labels] if labels is not None else None,\n",
        "            is_synchronous=True\n",
        "        )\n",
        "\n",
        "        return response.ingest_uri.id if response.ingest_uri is not None else None\n",
        "    except exceptions.GraphQLClientError as e:\n",
        "        print(str(e))\n",
        "        return None\n",
        "\n",
        "async def get_content_observations(id: str):\n",
        "    if graphlit.client is None:\n",
        "        return;\n",
        "\n",
        "    try:\n",
        "        response = await graphlit.client.get_content(id=id)\n",
        "\n",
        "        return response.content.observations if response.content is not None else None\n",
        "    except exceptions.GraphQLClientError as e:\n",
        "        print(str(e))\n",
        "        return None\n",
        "\n",
        "# NOTE: these are label entity IDs\n",
        "async def query_contents(search_text: Optional[str] = None, labels: Optional[List[str]] = None):\n",
        "    if graphlit.client is None:\n",
        "        return;\n",
        "\n",
        "    try:\n",
        "        response = await graphlit.client.query_contents(\n",
        "            filter=input_types.ContentFilter(\n",
        "                search=search_text,\n",
        "                searchType=enums.SearchTypes.HYBRID,\n",
        "                observations=[input_types.ObservationReferenceFilter(type=enums.ObservableTypes.LABEL, observable=input_types.EntityReferenceFilter(id=label)) for label in labels] if labels is not None else None,\n",
        "            )\n",
        "        )\n",
        "\n",
        "        return response.contents.results if response.contents is not None else None\n",
        "    except exceptions.GraphQLClientError as e:\n",
        "        print(str(e))\n",
        "        return None\n",
        "\n",
        "async def query_labels(search_text: Optional[str] = None):\n",
        "    if graphlit.client is None:\n",
        "        return;\n",
        "\n",
        "    try:\n",
        "        response = await graphlit.client.query_labels(\n",
        "            filter=input_types.LabelFilter(\n",
        "                search=search_text\n",
        "            )\n",
        "        )\n",
        "\n",
        "        return response.labels.results if response.labels is not None else None\n",
        "    except exceptions.GraphQLClientError as e:\n",
        "        print(str(e))\n",
        "        return None\n",
        "\n",
        "async def delete_all_contents():\n",
        "    if graphlit.client is None:\n",
        "        return;\n",
        "\n",
        "    _ = await graphlit.client.delete_all_contents(is_synchronous=True)\n",
        "\n",
        "async def delete_all_observables():\n",
        "    if graphlit.client is None:\n",
        "        return;\n",
        "\n",
        "    _ = await graphlit.client.delete_all_persons()\n",
        "    _ = await graphlit.client.delete_all_organizations()\n",
        "    _ = await graphlit.client.delete_all_places()\n",
        "    _ = await graphlit.client.delete_all_events()\n",
        "    _ = await graphlit.client.delete_all_products()\n",
        "    _ = await graphlit.client.delete_all_softwares()\n",
        "    _ = await graphlit.client.delete_all_repos()\n",
        "    _ = await graphlit.client.delete_all_labels()\n",
        "    _ = await graphlit.client.delete_all_categories()\n",
        ""
      ],
      "metadata": {
        "id": "V_86SBCvD_qZ"
      },
      "execution_count": 24,
      "outputs": []
    },
    {
      "cell_type": "code",
      "source": [
        "from IPython.display import display, Markdown\n",
        "import time\n",
        "\n",
        "# Remove any existing contents; only needed for notebook example\n",
        "await delete_all_contents()\n",
        "await delete_all_observables()\n",
        "\n",
        "print('Deleted all contents.')\n",
        "\n",
        "uri = \"https://graphlitplatform.blob.core.windows.net/test/audio/podcasts/Bring%20Order%20To%20The%20Chaos%20Of%20Your%20Unstructured%20Data%20Assets%20With%20Unstruk-Data%20Engineering%20Podcast.mp3\"\n",
        "labels = ['podcast', 'unstructured data']\n",
        "\n",
        "content_id = await ingest_uri(uri=uri, labels=labels)\n",
        "\n",
        "if content_id is not None:\n",
        "    print(f'Ingested content [{content_id}].')\n",
        "\n",
        "    observations = await get_content_observations(content_id)\n",
        "\n",
        "    if observations is not None:\n",
        "        print('Found content observations:')\n",
        "\n",
        "        for observation in observations:\n",
        "            if observation is not None and observation.observable is not None:\n",
        "                print(f'{observation.type}: {observation.observable.name} [{observation.observable.id}]')\n",
        "\n",
        "uri = \"https://graphlitplatform.blob.core.windows.net/test/documents/Unifying%20Large%20Language%20Models%20and%20Knowledge%20Graphs%20A%20Roadmap-2306.08302.pdf\"\n",
        "labels = ['knowledge graphs', 'unstructured data']\n",
        "\n",
        "content_id = await ingest_uri(uri=uri, labels=labels)\n",
        "\n",
        "if content_id is not None:\n",
        "    print(f'Ingested content [{content_id}].')\n",
        "\n",
        "    observations = await get_content_observations(content_id)\n",
        "\n",
        "    if observations is not None:\n",
        "        print('Found content observations:')\n",
        "\n",
        "        for observation in observations:\n",
        "            if observation is not None and observation.observable is not None:\n",
        "                print(f'{observation.type}: {observation.observable.name} [{observation.observable.id}]')\n"
      ],
      "metadata": {
        "colab": {
          "base_uri": "https://localhost:8080/"
        },
        "id": "MmHPaC_bXgGH",
        "outputId": "46785262-04bf-4835-880e-bafde7ea0be5"
      },
      "execution_count": 25,
      "outputs": [
        {
          "output_type": "stream",
          "name": "stdout",
          "text": [
            "Deleted all contents.\n",
            "Ingested content [ea93c1b6-851b-48a1-b110-734b57a02778].\n",
            "Found content observations:\n",
            "LABEL: podcast [5d44b756-6d25-4dde-8e94-76743fa05bcb]\n",
            "LABEL: unstructured data [7fd66dfe-17a3-4fa1-932b-0daf7aa408d2]\n",
            "Ingested content [f9052e0b-fd67-45f2-99d6-1ae22f8e2726].\n",
            "Found content observations:\n",
            "LABEL: knowledge graphs [d6e0d625-5bed-4751-87af-c57485bb4be0]\n",
            "LABEL: unstructured data [7fd66dfe-17a3-4fa1-932b-0daf7aa408d2]\n"
          ]
        }
      ]
    },
    {
      "cell_type": "markdown",
      "source": [
        "Query all labels"
      ],
      "metadata": {
        "id": "z_atx7ETpBp5"
      }
    },
    {
      "cell_type": "code",
      "source": [
        "labels = await query_labels()\n",
        "\n",
        "if labels is not None:\n",
        "    for label in labels:\n",
        "        if label is not None:\n",
        "            print(f'Found Label [{label.id}]: {label.name}')"
      ],
      "metadata": {
        "colab": {
          "base_uri": "https://localhost:8080/"
        },
        "id": "g1-ufiWJo_xu",
        "outputId": "f4fd462d-436a-48d7-e846-bbbeb2e56e0e"
      },
      "execution_count": 26,
      "outputs": [
        {
          "output_type": "stream",
          "name": "stdout",
          "text": [
            "Found Label [d6e0d625-5bed-4751-87af-c57485bb4be0]: knowledge graphs\n",
            "Found Label [5d44b756-6d25-4dde-8e94-76743fa05bcb]: podcast\n",
            "Found Label [7fd66dfe-17a3-4fa1-932b-0daf7aa408d2]: unstructured data\n"
          ]
        }
      ]
    },
    {
      "cell_type": "markdown",
      "source": [
        "Query labels by name, uses full-text search"
      ],
      "metadata": {
        "id": "ZymFA0erpCwM"
      }
    },
    {
      "cell_type": "code",
      "source": [
        "#label_name = 'unstructured data'\n",
        "label_name = 'Knowledge'\n",
        "\n",
        "labels = await query_labels(label_name)\n",
        "label = labels[0] if labels is not None and len(labels) > 0 else None\n",
        "\n",
        "if label is not None:\n",
        "    print(f'Found Label [{label.id}]: {label.name}')"
      ],
      "metadata": {
        "colab": {
          "base_uri": "https://localhost:8080/"
        },
        "id": "Ti6H1A1FgXzI",
        "outputId": "5178aa4d-9a05-4724-a35e-80b5352ded91"
      },
      "execution_count": 27,
      "outputs": [
        {
          "output_type": "stream",
          "name": "stdout",
          "text": [
            "Found Label [d6e0d625-5bed-4751-87af-c57485bb4be0]: knowledge graphs\n"
          ]
        }
      ]
    },
    {
      "cell_type": "markdown",
      "source": [
        "Query contents by label ID"
      ],
      "metadata": {
        "id": "A1Sshw41pOpg"
      }
    },
    {
      "cell_type": "code",
      "source": [
        "if label is not None:\n",
        "    contents = await query_contents(labels=[label.id])\n",
        "\n",
        "    if contents is not None:\n",
        "        print(f'Found contents by label [{label.id}]:')\n",
        "\n",
        "        for content in contents:\n",
        "            if content is not None and content.observations is not None:\n",
        "                print(f'{content.file_type}: {content.name}:')\n",
        "\n",
        "                for observation in content.observations:\n",
        "                    if observation is not None and observation.observable is not None:\n",
        "                        print(f'{observation.type}: {observation.observable.name} [{observation.observable.id}]')"
      ],
      "metadata": {
        "colab": {
          "base_uri": "https://localhost:8080/"
        },
        "id": "dbfEfa7ygeTh",
        "outputId": "71bb6d65-1975-4348-9890-78c8353c612a"
      },
      "execution_count": 28,
      "outputs": [
        {
          "output_type": "stream",
          "name": "stdout",
          "text": [
            "Found contents by label [d6e0d625-5bed-4751-87af-c57485bb4be0]:\n",
            "DOCUMENT: Unifying Large Language Models and Knowledge Graphs A Roadmap-2306.08302.pdf:\n",
            "LABEL: knowledge graphs [d6e0d625-5bed-4751-87af-c57485bb4be0]\n",
            "LABEL: unstructured data [7fd66dfe-17a3-4fa1-932b-0daf7aa408d2]\n"
          ]
        }
      ]
    }
  ],
  "metadata": {
    "colab": {
      "provenance": [],
      "authorship_tag": "ABX9TyPNE3q75mKXEzpoQjfWPJGZ",
      "include_colab_link": true
    },
    "kernelspec": {
      "display_name": "Python 3",
      "name": "python3"
    },
    "language_info": {
      "name": "python"
    }
  },
  "nbformat": 4,
  "nbformat_minor": 0
}