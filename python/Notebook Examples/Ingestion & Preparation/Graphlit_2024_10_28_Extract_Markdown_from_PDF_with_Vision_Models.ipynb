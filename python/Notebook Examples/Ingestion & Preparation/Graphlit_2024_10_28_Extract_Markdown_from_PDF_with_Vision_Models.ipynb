{
  "nbformat": 4,
  "nbformat_minor": 0,
  "metadata": {
    "colab": {
      "provenance": [],
      "mount_file_id": "1cSnEIDnT7SYyUpfap5KiK6Y_LWLQdk6s",
      "authorship_tag": "ABX9TyNzNoFFlZZUbV62Pgx5P6wg",
      "include_colab_link": true
    },
    "kernelspec": {
      "name": "python3",
      "display_name": "Python 3"
    },
    "language_info": {
      "name": "python"
    }
  },
  "cells": [
    {
      "cell_type": "markdown",
      "metadata": {
        "id": "view-in-github",
        "colab_type": "text"
      },
      "source": [
        "<a href=\"https://colab.research.google.com/github/graphlit/graphlit-samples/blob/main/python/Notebook%20Examples/Graphlit_2024_10_28_Extract_Markdown_from_PDF_with_Vision_Models.ipynb\" target=\"_parent\"><img src=\"https://colab.research.google.com/assets/colab-badge.svg\" alt=\"Open In Colab\"/></a>"
      ]
    },
    {
      "cell_type": "markdown",
      "source": [
        "**Description**\n",
        "\n",
        "This example shows how to ingest a PDF from a URL, and extract as Markdown format using the latest vision models, such as Anthropic Sonnet 3.5."
      ],
      "metadata": {
        "id": "pDz1gRPjOtn5"
      }
    },
    {
      "cell_type": "markdown",
      "source": [
        "**Requirements**\n",
        "\n",
        "Prior to running this notebook, you will need to [signup](https://docs.graphlit.dev/getting-started/signup) for Graphlit, and [create a project](https://docs.graphlit.dev/getting-started/create-project).\n",
        "\n",
        "You will need the Graphlit organization ID, preview environment ID and JWT secret from your created project.\n",
        "\n",
        "Assign these properties as Colab secrets: GRAPHLIT_ORGANIZATION_ID, GRAPHLIT_ENVIRONMENT_ID and GRAPHLIT_JWT_SECRET.\n",
        "\n",
        "\n",
        "---"
      ],
      "metadata": {
        "id": "laG2MXUIhNnx"
      }
    },
    {
      "cell_type": "markdown",
      "source": [
        "Install Graphlit Python client SDK"
      ],
      "metadata": {
        "id": "NwRzDHWWienC"
      }
    },
    {
      "cell_type": "code",
      "execution_count": 9,
      "metadata": {
        "id": "fefizrrh4xGD",
        "colab": {
          "base_uri": "https://localhost:8080/"
        },
        "outputId": "c05a9aa6-651f-4796-e914-d948927a7df3"
      },
      "outputs": [
        {
          "output_type": "stream",
          "name": "stdout",
          "text": [
            "Requirement already satisfied: graphlit-client in /usr/local/lib/python3.10/dist-packages (1.0.20241023001)\n",
            "Requirement already satisfied: httpx in /usr/local/lib/python3.10/dist-packages (from graphlit-client) (0.27.2)\n",
            "Requirement already satisfied: pydantic<3.0.0,>=2.0.0 in /usr/local/lib/python3.10/dist-packages (from graphlit-client) (2.9.2)\n",
            "Requirement already satisfied: PyJWT in /usr/local/lib/python3.10/dist-packages (from graphlit-client) (2.9.0)\n",
            "Requirement already satisfied: websockets in /usr/local/lib/python3.10/dist-packages (from graphlit-client) (13.1)\n",
            "Requirement already satisfied: annotated-types>=0.6.0 in /usr/local/lib/python3.10/dist-packages (from pydantic<3.0.0,>=2.0.0->graphlit-client) (0.7.0)\n",
            "Requirement already satisfied: pydantic-core==2.23.4 in /usr/local/lib/python3.10/dist-packages (from pydantic<3.0.0,>=2.0.0->graphlit-client) (2.23.4)\n",
            "Requirement already satisfied: typing-extensions>=4.6.1 in /usr/local/lib/python3.10/dist-packages (from pydantic<3.0.0,>=2.0.0->graphlit-client) (4.12.2)\n",
            "Requirement already satisfied: anyio in /usr/local/lib/python3.10/dist-packages (from httpx->graphlit-client) (3.7.1)\n",
            "Requirement already satisfied: certifi in /usr/local/lib/python3.10/dist-packages (from httpx->graphlit-client) (2024.8.30)\n",
            "Requirement already satisfied: httpcore==1.* in /usr/local/lib/python3.10/dist-packages (from httpx->graphlit-client) (1.0.6)\n",
            "Requirement already satisfied: idna in /usr/local/lib/python3.10/dist-packages (from httpx->graphlit-client) (3.10)\n",
            "Requirement already satisfied: sniffio in /usr/local/lib/python3.10/dist-packages (from httpx->graphlit-client) (1.3.1)\n",
            "Requirement already satisfied: h11<0.15,>=0.13 in /usr/local/lib/python3.10/dist-packages (from httpcore==1.*->httpx->graphlit-client) (0.14.0)\n",
            "Requirement already satisfied: exceptiongroup in /usr/local/lib/python3.10/dist-packages (from anyio->httpx->graphlit-client) (1.2.2)\n"
          ]
        }
      ],
      "source": [
        "!pip install --upgrade graphlit-client"
      ]
    },
    {
      "cell_type": "markdown",
      "source": [
        "Initialize Graphlit"
      ],
      "metadata": {
        "id": "abV1114jL-bR"
      }
    },
    {
      "cell_type": "code",
      "source": [
        "import os\n",
        "from google.colab import userdata\n",
        "from graphlit import Graphlit\n",
        "from graphlit_api import input_types, enums, exceptions\n",
        "\n",
        "os.environ['GRAPHLIT_ORGANIZATION_ID'] = userdata.get('GRAPHLIT_ORGANIZATION_ID')\n",
        "os.environ['GRAPHLIT_ENVIRONMENT_ID'] = userdata.get('GRAPHLIT_ENVIRONMENT_ID')\n",
        "os.environ['GRAPHLIT_JWT_SECRET'] = userdata.get('GRAPHLIT_JWT_SECRET')\n",
        "\n",
        "graphlit = Graphlit()"
      ],
      "metadata": {
        "id": "WoMAWD4LLP_q"
      },
      "execution_count": 10,
      "outputs": []
    },
    {
      "cell_type": "markdown",
      "source": [
        "Define Graphlit helper functions"
      ],
      "metadata": {
        "id": "pgRX57EHMVfl"
      }
    },
    {
      "cell_type": "code",
      "source": [
        "async def create_openai_specification(model: enums.OpenAIModels):\n",
        "    if graphlit.client is None:\n",
        "        return;\n",
        "\n",
        "    input = input_types.SpecificationInput(\n",
        "        name=f\"OpenAI [{model}]\",\n",
        "        type=enums.SpecificationTypes.PREPARATION,\n",
        "        serviceType=enums.ModelServiceTypes.OPEN_AI,\n",
        "        openAI=input_types.OpenAIModelPropertiesInput(\n",
        "            model=model\n",
        "        )\n",
        "    )\n",
        "\n",
        "    try:\n",
        "        response = await graphlit.client.create_specification(input)\n",
        "\n",
        "        return response.create_specification.id if response.create_specification is not None else None\n",
        "    except exceptions.GraphQLClientError as e:\n",
        "        print(str(e))\n",
        "        return None\n",
        "\n",
        "    return None\n",
        "\n",
        "async def create_anthropic_specification(model: enums.AnthropicModels):\n",
        "    if graphlit.client is None:\n",
        "        return;\n",
        "\n",
        "    input = input_types.SpecificationInput(\n",
        "        name=f\"Anthropic [{model}]\",\n",
        "        type=enums.SpecificationTypes.PREPARATION,\n",
        "        serviceType=enums.ModelServiceTypes.ANTHROPIC,\n",
        "        anthropic=input_types.AnthropicModelPropertiesInput(\n",
        "            model=model\n",
        "        )\n",
        "    )\n",
        "\n",
        "    try:\n",
        "        response = await graphlit.client.create_specification(input)\n",
        "\n",
        "        return response.create_specification.id if response.create_specification is not None else None\n",
        "    except exceptions.GraphQLClientError as e:\n",
        "        print(str(e))\n",
        "        return None\n",
        "\n",
        "    return None\n",
        "\n",
        "async def create_google_specification(model: enums.GoogleModels):\n",
        "    if graphlit.client is None:\n",
        "        return;\n",
        "\n",
        "    input = input_types.SpecificationInput(\n",
        "        name=f\"Google [{model}]\",\n",
        "        type=enums.SpecificationTypes.PREPARATION,\n",
        "        serviceType=enums.ModelServiceTypes.GOOGLE,\n",
        "        google=input_types.GoogleModelPropertiesInput(\n",
        "            model=model\n",
        "        )\n",
        "    )\n",
        "\n",
        "    try:\n",
        "        response = await graphlit.client.create_specification(input)\n",
        "\n",
        "        return response.create_specification.id if response.create_specification is not None else None\n",
        "    except exceptions.GraphQLClientError as e:\n",
        "        print(str(e))\n",
        "        return None\n",
        "\n",
        "    return None\n",
        "\n",
        "async def create_workflow(specification_id: str):\n",
        "    if graphlit.client is None:\n",
        "        return;\n",
        "\n",
        "    input = input_types.WorkflowInput(\n",
        "        name=\"Document Preparation\",\n",
        "        preparation=input_types.PreparationWorkflowStageInput(\n",
        "            jobs=[\n",
        "                input_types.PreparationWorkflowJobInput(\n",
        "                    connector=input_types.FilePreparationConnectorInput(\n",
        "                        type=enums.FilePreparationServiceTypes.MODEL_DOCUMENT,\n",
        "                        modelDocument=input_types.ModelDocumentPreparationPropertiesInput(\n",
        "                            specification=input_types.EntityReferenceInput(id=specification_id)\n",
        "                        )\n",
        "                    )\n",
        "                )\n",
        "            ]\n",
        "        )\n",
        "    )\n",
        "\n",
        "    try:\n",
        "        response = await graphlit.client.create_workflow(input)\n",
        "\n",
        "        return response.create_workflow.id if response.create_workflow is not None else None\n",
        "    except exceptions.GraphQLClientError as e:\n",
        "        print(str(e))\n",
        "        return None\n",
        "\n",
        "    return None\n",
        "\n",
        "async def ingest_uri(uri: str, workflow_id: str):\n",
        "    if graphlit.client is None:\n",
        "        return\n",
        "\n",
        "    try:\n",
        "        # Using synchronous mode, so the notebook waits for the content to be ingested\n",
        "        response = await graphlit.client.ingest_uri(uri=uri, workflow=input_types.EntityReferenceInput(id=workflow_id), is_synchronous=True)\n",
        "\n",
        "        return response.ingest_uri.id if response.ingest_uri is not None else None\n",
        "    except exceptions.GraphQLClientError as e:\n",
        "        print(str(e))\n",
        "        return None\n",
        "\n",
        "async def get_content(content_id: str):\n",
        "    if graphlit.client is None:\n",
        "        return;\n",
        "\n",
        "    try:\n",
        "        response = await graphlit.client.get_content(content_id)\n",
        "\n",
        "        return response.content\n",
        "    except exceptions.GraphQLClientError as e:\n",
        "        print(str(e))\n",
        "        return None\n",
        "\n",
        "async def delete_content(content_id: str):\n",
        "    if graphlit.client is None:\n",
        "        return;\n",
        "\n",
        "    try:\n",
        "        _ = await graphlit.client.delete_content(content_id)\n",
        "\n",
        "        return\n",
        "    except exceptions.GraphQLClientError as e:\n",
        "        print(str(e))\n",
        "        return\n",
        "\n",
        "# NOTE: these functions are just used to clean-up old data before executing the example\n",
        "async def delete_all_specifications():\n",
        "    if graphlit.client is None:\n",
        "        return;\n",
        "\n",
        "    _ = await graphlit.client.delete_all_specifications(is_synchronous=True)\n",
        "\n",
        "async def delete_all_workflows():\n",
        "    if graphlit.client is None:\n",
        "        return;\n",
        "\n",
        "    _ = await graphlit.client.delete_all_workflows(is_synchronous=True)\n",
        "\n",
        "async def delete_all_contents():\n",
        "    if graphlit.client is None:\n",
        "        return;\n",
        "\n",
        "    _ = await graphlit.client.delete_all_contents(is_synchronous=True)\n"
      ],
      "metadata": {
        "id": "mtwjJsvVOVCh"
      },
      "execution_count": 11,
      "outputs": []
    },
    {
      "cell_type": "markdown",
      "source": [
        "Execute Graphlit example"
      ],
      "metadata": {
        "id": "srzhQt4COLVI"
      }
    },
    {
      "cell_type": "code",
      "source": [
        "from IPython.display import display, Markdown\n",
        "\n",
        "uri=\"https://graphlitplatform.blob.core.windows.net/test/documents/preparation-sample.pdf\"\n"
      ],
      "metadata": {
        "id": "fOb6COcONZIJ"
      },
      "execution_count": 12,
      "outputs": []
    },
    {
      "cell_type": "markdown",
      "source": [
        "Extract PDF to Markdown using Anthropic Sonnet 3.5 (2024-06-20 version)"
      ],
      "metadata": {
        "id": "AsKSkj4CBggG"
      }
    },
    {
      "cell_type": "code",
      "source": [
        "# Remove any existing contents, specifications and workflows; only needed for notebook example\n",
        "await delete_all_contents()\n",
        "await delete_all_specifications()\n",
        "await delete_all_workflows()\n",
        "\n",
        "print('Deleted all contents, specifications and workflows.')\n",
        "\n",
        "specification_id = await create_anthropic_specification(enums.AnthropicModels.CLAUDE_3_5_SONNET_20240620)\n",
        "\n",
        "if specification_id is not None:\n",
        "    print(f'Created specification [{specification_id}].')\n",
        "\n",
        "    workflow_id = await create_workflow(specification_id)\n",
        "\n",
        "    if workflow_id is not None:\n",
        "        print(f'Created workflow [{workflow_id}].')\n",
        "\n",
        "        content_id = await ingest_uri(uri, workflow_id)\n",
        "\n",
        "        if content_id is not None:\n",
        "            print(f'Ingested content [{content_id}].')\n",
        "\n",
        "            content = await get_content(content_id)\n",
        "\n",
        "            if content is not None:\n",
        "                display(Markdown(content.markdown))\n",
        "\n",
        "                print('-----------------------------------------------------------------------------')\n",
        "                print(content.markdown)\n",
        "                print('-----------------------------------------------------------------------------')\n",
        "\n",
        "            await delete_content(content_id)\n"
      ],
      "metadata": {
        "id": "OvWS7WMDBi6J",
        "colab": {
          "base_uri": "https://localhost:8080/",
          "height": 1000
        },
        "outputId": "7ec6560d-cf57-44f1-a724-7418d679ce59"
      },
      "execution_count": 13,
      "outputs": [
        {
          "output_type": "stream",
          "name": "stdout",
          "text": [
            "Deleted all contents, specifications and workflows.\n",
            "Created specification [7ee99c28-f298-4d38-9ff8-e755e9e8a43a].\n",
            "Created workflow [880066ab-c229-4b20-9566-57e9f08817c6].\n",
            "Ingested content [f288189d-09ff-4827-b9cd-018bdcb30340].\n"
          ]
        },
        {
          "output_type": "display_data",
          "data": {
            "text/plain": [
              "<IPython.core.display.Markdown object>"
            ],
            "text/markdown": "# Item 1. Financial Statements\n\n## Consolidated Balance Sheets\n\n(dollars in thousands)\n(unaudited)\n\n|  | June 30, 2024 | December 31, 2023 \n| --- | --- | --- |\n| ASSETS |  |  |\n| Current Assets |  |  |\n| Cash and Cash Equivalents | $ 307,433 | $ 383,180 |\n| Investments—Consolidated Investment Companies | 72,847 | 70,543 |\n| Investments—Affiliates and Other | 72,599 | 106,952 |\n| Receivables, net of reserve of $21 and $21, respectively | 72,086 | 75,721 |\n| Receivables—Affiliates | 44,472 | 48,694 |\n| Prepaid Expenses | 37,911 | 29,739 |\n| Other Current Assets | 5,953 | 5,900 |\n| Total Current Assets | 613,301 | 720,729 |\n| Long-Term Assets |  |  |\n| Goodwill | 806,069 | 807,156 |\n| Intangible Assets, net of accumulated amortization of $70,045 and $64,112, respectively | 335,554 | 409,449 |\n| Property and Equipment, net of accumulated depreciation of $122,372 and $119,852, respectively | 32,170 | 30,711 |\n| Right-of-Use Assets, net | 92,464 | 99,265 |\n| Other Long-Term Assets | 31,949 | 34,534 |\n| Total Long-Term Assets | 1,298,206 | 1,381,115 |\n| Total Assets | $ 1,911,507 | $ 2,101,844 |\n| LIABILITIES |  |  |\n| Current Liabilities |  |  |\n| Accounts Payable and Accrued Expenses | $ 92,564 | $ 88,290 |\n| Accrued Compensation and Benefits | 93,153 | 158,392 |\n| Lease Liabilities | 16,437 | 16,283 |\n| Other Current Liabilities | 21,226 | 24,378 |\n| Total Current Liabilities | 223,380 | 287,343 |\n| Long-Term Liabilities |  |  |\n| Long-Term Debt | 347,974 | 347,843 |\n| Long-Term Deferred Tax Liability, net | 181,403 | 186,292 |\n| Long-Term Lease Liabilities | 85,748 | 93,816 |\n| Other Long-Term Liabilities | 25,486 | 32,453 |\n| Total Long-Term Liabilities | 640,611 | 660,404 |\n| Total Liabilities | 863,991 | 947,747 |\n| Commitments and Contingencies (Note (17)) |  |  |\n| TEMPORARY EQUITY |  |  |\n| Redeemable Noncontrolling Interests in Subsidiaries | 30,491 | 25,845 |\n| PERMANENT EQUITY |  |  |\n| Federated Hermes, Inc. Shareholders' Equity |  |  |\n| Common Stock: |  |  |\n| Class A, No Par Value, 20,000 Shares Authorized, 9,000 Shares Issued and Outstanding | 189 | 189 |\n| Class B, No Par Value, 900,000,000 Shares Authorized, 99,505,456 Shares Issued | 491,204 | 474,814 |\n| Additional Paid-In Capital from Treasury Stock Transactions | 0 | 2 |\n| Retained Earnings | 1,145,844 | 1,194,561 |\n| Treasury Stock, at Cost, 16,905,080 and 14,664,467 Shares Class B Common Stock, respectively | (595,592) | (521,403) |\n| Accumulated Other Comprehensive Income (Loss), net of tax | (24,620) | (19,911) |\n| Total Permanent Equity | 1,017,025 | 1,128,252 |\n| Total Liabilities, Temporary Equity and Permanent Equity | $ 1,911,507 | $ 2,101,844 |\n\n\n(The accompanying notes are an integral part of these Consolidated Financial Statements.)\n\n4\n\n"
          },
          "metadata": {}
        },
        {
          "output_type": "stream",
          "name": "stdout",
          "text": [
            "-----------------------------------------------------------------------------\n",
            "# Item 1. Financial Statements\n",
            "\n",
            "## Consolidated Balance Sheets\n",
            "\n",
            "(dollars in thousands)\n",
            "(unaudited)\n",
            "\n",
            "|  | June 30, 2024 | December 31, 2023 \n",
            "| --- | --- | --- |\n",
            "| ASSETS |  |  |\n",
            "| Current Assets |  |  |\n",
            "| Cash and Cash Equivalents | $ 307,433 | $ 383,180 |\n",
            "| Investments—Consolidated Investment Companies | 72,847 | 70,543 |\n",
            "| Investments—Affiliates and Other | 72,599 | 106,952 |\n",
            "| Receivables, net of reserve of $21 and $21, respectively | 72,086 | 75,721 |\n",
            "| Receivables—Affiliates | 44,472 | 48,694 |\n",
            "| Prepaid Expenses | 37,911 | 29,739 |\n",
            "| Other Current Assets | 5,953 | 5,900 |\n",
            "| Total Current Assets | 613,301 | 720,729 |\n",
            "| Long-Term Assets |  |  |\n",
            "| Goodwill | 806,069 | 807,156 |\n",
            "| Intangible Assets, net of accumulated amortization of $70,045 and $64,112, respectively | 335,554 | 409,449 |\n",
            "| Property and Equipment, net of accumulated depreciation of $122,372 and $119,852, respectively | 32,170 | 30,711 |\n",
            "| Right-of-Use Assets, net | 92,464 | 99,265 |\n",
            "| Other Long-Term Assets | 31,949 | 34,534 |\n",
            "| Total Long-Term Assets | 1,298,206 | 1,381,115 |\n",
            "| Total Assets | $ 1,911,507 | $ 2,101,844 |\n",
            "| LIABILITIES |  |  |\n",
            "| Current Liabilities |  |  |\n",
            "| Accounts Payable and Accrued Expenses | $ 92,564 | $ 88,290 |\n",
            "| Accrued Compensation and Benefits | 93,153 | 158,392 |\n",
            "| Lease Liabilities | 16,437 | 16,283 |\n",
            "| Other Current Liabilities | 21,226 | 24,378 |\n",
            "| Total Current Liabilities | 223,380 | 287,343 |\n",
            "| Long-Term Liabilities |  |  |\n",
            "| Long-Term Debt | 347,974 | 347,843 |\n",
            "| Long-Term Deferred Tax Liability, net | 181,403 | 186,292 |\n",
            "| Long-Term Lease Liabilities | 85,748 | 93,816 |\n",
            "| Other Long-Term Liabilities | 25,486 | 32,453 |\n",
            "| Total Long-Term Liabilities | 640,611 | 660,404 |\n",
            "| Total Liabilities | 863,991 | 947,747 |\n",
            "| Commitments and Contingencies (Note (17)) |  |  |\n",
            "| TEMPORARY EQUITY |  |  |\n",
            "| Redeemable Noncontrolling Interests in Subsidiaries | 30,491 | 25,845 |\n",
            "| PERMANENT EQUITY |  |  |\n",
            "| Federated Hermes, Inc. Shareholders' Equity |  |  |\n",
            "| Common Stock: |  |  |\n",
            "| Class A, No Par Value, 20,000 Shares Authorized, 9,000 Shares Issued and Outstanding | 189 | 189 |\n",
            "| Class B, No Par Value, 900,000,000 Shares Authorized, 99,505,456 Shares Issued | 491,204 | 474,814 |\n",
            "| Additional Paid-In Capital from Treasury Stock Transactions | 0 | 2 |\n",
            "| Retained Earnings | 1,145,844 | 1,194,561 |\n",
            "| Treasury Stock, at Cost, 16,905,080 and 14,664,467 Shares Class B Common Stock, respectively | (595,592) | (521,403) |\n",
            "| Accumulated Other Comprehensive Income (Loss), net of tax | (24,620) | (19,911) |\n",
            "| Total Permanent Equity | 1,017,025 | 1,128,252 |\n",
            "| Total Liabilities, Temporary Equity and Permanent Equity | $ 1,911,507 | $ 2,101,844 |\n",
            "\n",
            "\n",
            "(The accompanying notes are an integral part of these Consolidated Financial Statements.)\n",
            "\n",
            "4\n",
            "\n",
            "\n",
            "-----------------------------------------------------------------------------\n"
          ]
        }
      ]
    },
    {
      "cell_type": "markdown",
      "source": [
        "Extract PDF to Markdown using Anthropic Sonnet 3.5 (2024-10-22 version)"
      ],
      "metadata": {
        "id": "mXYXrxN1ObYa"
      }
    },
    {
      "cell_type": "code",
      "source": [
        "# Remove any existing contents, specifications and workflows; only needed for notebook example\n",
        "await delete_all_contents()\n",
        "await delete_all_specifications()\n",
        "await delete_all_workflows()\n",
        "\n",
        "print('Deleted all contents, specifications and workflows.')\n",
        "\n",
        "specification_id = await create_anthropic_specification(enums.AnthropicModels.CLAUDE_3_5_SONNET_20241022)\n",
        "\n",
        "if specification_id is not None:\n",
        "    print(f'Created specification [{specification_id}].')\n",
        "\n",
        "    workflow_id = await create_workflow(specification_id)\n",
        "\n",
        "    if workflow_id is not None:\n",
        "        print(f'Created workflow [{workflow_id}].')\n",
        "\n",
        "        content_id = await ingest_uri(uri, workflow_id)\n",
        "\n",
        "        if content_id is not None:\n",
        "            print(f'Ingested content [{content_id}].')\n",
        "\n",
        "            content = await get_content(content_id)\n",
        "\n",
        "            if content is not None:\n",
        "                display(Markdown(content.markdown))\n",
        "\n",
        "                print('-----------------------------------------------------------------------------')\n",
        "                print(content.markdown)\n",
        "                print('-----------------------------------------------------------------------------')\n",
        "\n",
        "            await delete_content(content_id)\n"
      ],
      "metadata": {
        "id": "QIKOeLXgOeuJ",
        "colab": {
          "base_uri": "https://localhost:8080/",
          "height": 1000
        },
        "outputId": "169ecc06-233c-4faa-f7f5-25939af3fdb9"
      },
      "execution_count": 14,
      "outputs": [
        {
          "output_type": "stream",
          "name": "stdout",
          "text": [
            "Deleted all contents, specifications and workflows.\n",
            "Created specification [5a0ab9cc-a41f-490b-966b-a5ebc7ad3336].\n",
            "Created workflow [929f6cb6-87e2-4098-83b6-d361bb33549e].\n",
            "Ingested content [f22f8342-7fe3-459f-a7f3-9674356411f5].\n"
          ]
        },
        {
          "output_type": "display_data",
          "data": {
            "text/plain": [
              "<IPython.core.display.Markdown object>"
            ],
            "text/markdown": "# Item 1. Financial Statements\n\n## Consolidated Balance Sheets\n\n(dollars in thousands)\n(unaudited)\n\n|  | June 30, 2024 | December 31, 2023 \n| --- | --- | --- |\n| ASSETS |  |  |\n| Current Assets |  |  |\n| Cash and Cash Equivalents | $ 307,433 | $ 383,180 |\n| Investments—Consolidated Investment Companies | 72,847 | 70,543 |\n| Investments—Affiliates and Other | 72,599 | 106,952 |\n| Receivables, net of reserve of $21 and $21, respectively | 72,086 | 75,721 |\n| Receivables—Affiliates | 44,472 | 48,694 |\n| Prepaid Expenses | 37,911 | 29,739 |\n| Other Current Assets | 5,953 | 5,900 |\n| Total Current Assets | 613,301 | 720,729 |\n| Long-Term Assets |  |  |\n| Goodwill | 806,069 | 807,156 |\n| Intangible Assets, net of accumulated amortization of $70,045 and $64,112, respectively | 335,554 | 409,449 |\n| Property and Equipment, net of accumulated depreciation of $122,372 and $119,852, respectively | 32,170 | 30,711 |\n| Right-of-Use Assets, net | 92,464 | 99,265 |\n| Other Long-Term Assets | 31,949 | 34,534 |\n| Total Long-Term Assets | 1,298,206 | 1,381,115 |\n| Total Assets | $ 1,911,507 | $ 2,101,844 |\n| LIABILITIES |  |  |\n| Current Liabilities |  |  |\n| Accounts Payable and Accrued Expenses | $ 92,564 | $ 88,290 |\n| Accrued Compensation and Benefits | 93,153 | 158,392 |\n| Lease Liabilities | 16,437 | 16,283 |\n| Other Current Liabilities | 21,226 | 24,378 |\n| Total Current Liabilities | 223,380 | 287,343 |\n| Long-Term Liabilities |  |  |\n| Long-Term Debt | 347,974 | 347,843 |\n| Long-Term Deferred Tax Liability, net | 181,403 | 186,292 |\n| Long-Term Lease Liabilities | 85,748 | 93,816 |\n| Other Long-Term Liabilities | 25,486 | 32,453 |\n| Total Long-Term Liabilities | 640,611 | 660,404 |\n| Total Liabilities | 863,991 | 947,747 |\n| Commitments and Contingencies (Note (17)) |  |  |\n| TEMPORARY EQUITY |  |  |\n| Redeemable Noncontrolling Interests in Subsidiaries | 30,491 | 25,845 |\n| PERMANENT EQUITY |  |  |\n| Federated Hermes, Inc. Shareholders' Equity |  |  |\n| Common Stock: |  |  |\n| Class A, No Par Value, 20,000 Shares Authorized, 9,000 Shares Issued and Outstanding | 189 | 189 |\n| Class B, No Par Value, 900,000,000 Shares Authorized, 99,505,456 Shares Issued | 491,204 | 474,814 |\n| Additional Paid-In Capital from Treasury Stock Transactions | 0 | 2 |\n| Retained Earnings | 1,145,844 | 1,194,561 |\n| Treasury Stock, at Cost, 16,905,080 and 14,664,467 Shares Class B Common Stock, respectively | (595,592) | (521,403) |\n| Accumulated Other Comprehensive Income (Loss), net of tax | (24,620) | (19,911) |\n| Total Permanent Equity | 1,017,025 | 1,128,252 |\n| Total Liabilities, Temporary Equity and Permanent Equity | $ 1,911,507 | $ 2,101,844 |\n\n\n(The accompanying notes are an integral part of these Consolidated Financial Statements.)\n\n"
          },
          "metadata": {}
        },
        {
          "output_type": "stream",
          "name": "stdout",
          "text": [
            "-----------------------------------------------------------------------------\n",
            "# Item 1. Financial Statements\n",
            "\n",
            "## Consolidated Balance Sheets\n",
            "\n",
            "(dollars in thousands)\n",
            "(unaudited)\n",
            "\n",
            "|  | June 30, 2024 | December 31, 2023 \n",
            "| --- | --- | --- |\n",
            "| ASSETS |  |  |\n",
            "| Current Assets |  |  |\n",
            "| Cash and Cash Equivalents | $ 307,433 | $ 383,180 |\n",
            "| Investments—Consolidated Investment Companies | 72,847 | 70,543 |\n",
            "| Investments—Affiliates and Other | 72,599 | 106,952 |\n",
            "| Receivables, net of reserve of $21 and $21, respectively | 72,086 | 75,721 |\n",
            "| Receivables—Affiliates | 44,472 | 48,694 |\n",
            "| Prepaid Expenses | 37,911 | 29,739 |\n",
            "| Other Current Assets | 5,953 | 5,900 |\n",
            "| Total Current Assets | 613,301 | 720,729 |\n",
            "| Long-Term Assets |  |  |\n",
            "| Goodwill | 806,069 | 807,156 |\n",
            "| Intangible Assets, net of accumulated amortization of $70,045 and $64,112, respectively | 335,554 | 409,449 |\n",
            "| Property and Equipment, net of accumulated depreciation of $122,372 and $119,852, respectively | 32,170 | 30,711 |\n",
            "| Right-of-Use Assets, net | 92,464 | 99,265 |\n",
            "| Other Long-Term Assets | 31,949 | 34,534 |\n",
            "| Total Long-Term Assets | 1,298,206 | 1,381,115 |\n",
            "| Total Assets | $ 1,911,507 | $ 2,101,844 |\n",
            "| LIABILITIES |  |  |\n",
            "| Current Liabilities |  |  |\n",
            "| Accounts Payable and Accrued Expenses | $ 92,564 | $ 88,290 |\n",
            "| Accrued Compensation and Benefits | 93,153 | 158,392 |\n",
            "| Lease Liabilities | 16,437 | 16,283 |\n",
            "| Other Current Liabilities | 21,226 | 24,378 |\n",
            "| Total Current Liabilities | 223,380 | 287,343 |\n",
            "| Long-Term Liabilities |  |  |\n",
            "| Long-Term Debt | 347,974 | 347,843 |\n",
            "| Long-Term Deferred Tax Liability, net | 181,403 | 186,292 |\n",
            "| Long-Term Lease Liabilities | 85,748 | 93,816 |\n",
            "| Other Long-Term Liabilities | 25,486 | 32,453 |\n",
            "| Total Long-Term Liabilities | 640,611 | 660,404 |\n",
            "| Total Liabilities | 863,991 | 947,747 |\n",
            "| Commitments and Contingencies (Note (17)) |  |  |\n",
            "| TEMPORARY EQUITY |  |  |\n",
            "| Redeemable Noncontrolling Interests in Subsidiaries | 30,491 | 25,845 |\n",
            "| PERMANENT EQUITY |  |  |\n",
            "| Federated Hermes, Inc. Shareholders' Equity |  |  |\n",
            "| Common Stock: |  |  |\n",
            "| Class A, No Par Value, 20,000 Shares Authorized, 9,000 Shares Issued and Outstanding | 189 | 189 |\n",
            "| Class B, No Par Value, 900,000,000 Shares Authorized, 99,505,456 Shares Issued | 491,204 | 474,814 |\n",
            "| Additional Paid-In Capital from Treasury Stock Transactions | 0 | 2 |\n",
            "| Retained Earnings | 1,145,844 | 1,194,561 |\n",
            "| Treasury Stock, at Cost, 16,905,080 and 14,664,467 Shares Class B Common Stock, respectively | (595,592) | (521,403) |\n",
            "| Accumulated Other Comprehensive Income (Loss), net of tax | (24,620) | (19,911) |\n",
            "| Total Permanent Equity | 1,017,025 | 1,128,252 |\n",
            "| Total Liabilities, Temporary Equity and Permanent Equity | $ 1,911,507 | $ 2,101,844 |\n",
            "\n",
            "\n",
            "(The accompanying notes are an integral part of these Consolidated Financial Statements.)\n",
            "\n",
            "\n",
            "-----------------------------------------------------------------------------\n"
          ]
        }
      ]
    },
    {
      "cell_type": "markdown",
      "source": [
        "Extract PDF to Markdown using Google Gemini 1.5 Pro"
      ],
      "metadata": {
        "id": "7XfBD-iKPl1P"
      }
    },
    {
      "cell_type": "code",
      "source": [
        "specification_id = await create_google_specification(enums.GoogleModels.GEMINI_1_5_PRO_002)\n",
        "\n",
        "if specification_id is not None:\n",
        "    print(f'Created specification [{specification_id}].')\n",
        "\n",
        "    workflow_id = await create_workflow(specification_id)\n",
        "\n",
        "    if workflow_id is not None:\n",
        "        print(f'Created workflow [{workflow_id}].')\n",
        "\n",
        "        content_id = await ingest_uri(uri, workflow_id)\n",
        "\n",
        "        if content_id is not None:\n",
        "            print(f'Ingested content [{content_id}].')\n",
        "\n",
        "            content = await get_content(content_id)\n",
        "\n",
        "            if content is not None:\n",
        "                display(Markdown(content.markdown))\n",
        "\n",
        "                print('-----------------------------------------------------------------------------')\n",
        "                print(content.markdown)\n",
        "                print('-----------------------------------------------------------------------------')\n",
        "\n",
        "            await delete_content(content_id)\n"
      ],
      "metadata": {
        "id": "TcqYTvANPqcF",
        "colab": {
          "base_uri": "https://localhost:8080/",
          "height": 956
        },
        "outputId": "6b11738f-dbdb-4d22-f34a-bcc419d81b80"
      },
      "execution_count": 15,
      "outputs": [
        {
          "output_type": "stream",
          "name": "stdout",
          "text": [
            "Created specification [5e253602-3579-4b3a-84f6-3095e8129fa2].\n",
            "Created workflow [81de74b1-87a9-48cf-bc3d-7309ff93e410].\n",
            "Ingested content [0dc28ec2-c88d-4dba-805e-c1de754388c5].\n"
          ]
        },
        {
          "output_type": "display_data",
          "data": {
            "text/plain": [
              "<IPython.core.display.Markdown object>"
            ],
            "text/markdown": "## Item 1. Financial Statements\n\n### Consolidated Balance Sheets\n\n(dollars in thousands)\n(unaudited)\n\n | June 30,\n2024 | December 31,\n2023 \n| --- | --- |\n| ASSETS |  |  |\n| Current Assets |  |  |\n| Cash and Cash Equivalents | $ 307,433 | $ 383,180 |\n| Investments—Consolidated Investment Companies | 72,847 | 70,543 |\n| Investments—Affiliates and Other | 72,599 | 106,952 |\n| Receivables, net of reserve of $21 and $21, respectively | 72,086 | 75,721 |\n| Receivables—Affiliates | 44,472 | 48,694 |\n| Prepaid Expenses | 37,911 | 29,739 |\n| Other Current Assets | 5,953 | 5,900 |\n| Total Current Assets | 613,301 | 720,729 |\n| Long-Term Assets |  |  |\n| Goodwill | 806,069 | 807,156 |\n| Intangible Assets, net of accumulated amortization of $70,045 and $64,112, respectively | 335,554 | 409,449 |\n| Property and Equipment, net of accumulated depreciation of $122,372 and $119,852, respectively | 32,170 | 30,711 |\n| Right-of-Use Assets, net | 92,464 | 99,265 |\n| Other Long-Term Assets | 31,949 | 34,534 |\n| Total Long-Term Assets | 1,298,206 | 1,381,115 |\n| Total Assets | $ 1,911,507 | $ 2,101,844 |\n\n\n(The accompanying notes are an integral part of these Consolidated Financial Statements.)\n\n"
          },
          "metadata": {}
        },
        {
          "output_type": "stream",
          "name": "stdout",
          "text": [
            "-----------------------------------------------------------------------------\n",
            "## Item 1. Financial Statements\n",
            "\n",
            "### Consolidated Balance Sheets\n",
            "\n",
            "(dollars in thousands)\n",
            "(unaudited)\n",
            "\n",
            " | June 30,\n",
            "2024 | December 31,\n",
            "2023 \n",
            "| --- | --- |\n",
            "| ASSETS |  |  |\n",
            "| Current Assets |  |  |\n",
            "| Cash and Cash Equivalents | $ 307,433 | $ 383,180 |\n",
            "| Investments—Consolidated Investment Companies | 72,847 | 70,543 |\n",
            "| Investments—Affiliates and Other | 72,599 | 106,952 |\n",
            "| Receivables, net of reserve of $21 and $21, respectively | 72,086 | 75,721 |\n",
            "| Receivables—Affiliates | 44,472 | 48,694 |\n",
            "| Prepaid Expenses | 37,911 | 29,739 |\n",
            "| Other Current Assets | 5,953 | 5,900 |\n",
            "| Total Current Assets | 613,301 | 720,729 |\n",
            "| Long-Term Assets |  |  |\n",
            "| Goodwill | 806,069 | 807,156 |\n",
            "| Intangible Assets, net of accumulated amortization of $70,045 and $64,112, respectively | 335,554 | 409,449 |\n",
            "| Property and Equipment, net of accumulated depreciation of $122,372 and $119,852, respectively | 32,170 | 30,711 |\n",
            "| Right-of-Use Assets, net | 92,464 | 99,265 |\n",
            "| Other Long-Term Assets | 31,949 | 34,534 |\n",
            "| Total Long-Term Assets | 1,298,206 | 1,381,115 |\n",
            "| Total Assets | $ 1,911,507 | $ 2,101,844 |\n",
            "\n",
            "\n",
            "(The accompanying notes are an integral part of these Consolidated Financial Statements.)\n",
            "\n",
            "\n",
            "-----------------------------------------------------------------------------\n"
          ]
        }
      ]
    },
    {
      "cell_type": "markdown",
      "source": [
        "Extract PDF to Markdown using OpenAI GPT-4o"
      ],
      "metadata": {
        "id": "3RD3Yn4JP6NG"
      }
    },
    {
      "cell_type": "code",
      "source": [
        "# Remove any existing contents, specifications and workflows; only needed for notebook example\n",
        "await delete_all_contents()\n",
        "await delete_all_specifications()\n",
        "await delete_all_workflows()\n",
        "\n",
        "print('Deleted all contents, specifications and workflows.')\n",
        "\n",
        "specification_id = await create_openai_specification(enums.OpenAIModels.GPT4O_128K)\n",
        "\n",
        "if specification_id is not None:\n",
        "    print(f'Created specification [{specification_id}].')\n",
        "\n",
        "    workflow_id = await create_workflow(specification_id)\n",
        "\n",
        "    if workflow_id is not None:\n",
        "        print(f'Created workflow [{workflow_id}].')\n",
        "\n",
        "        content_id = await ingest_uri(uri, workflow_id)\n",
        "\n",
        "        if content_id is not None:\n",
        "            print(f'Ingested content [{content_id}].')\n",
        "\n",
        "            content = await get_content(content_id)\n",
        "\n",
        "            if content is not None:\n",
        "                display(Markdown(content.markdown))\n",
        "\n",
        "                print('-----------------------------------------------------------------------------')\n",
        "                print(content.markdown)\n",
        "                print('-----------------------------------------------------------------------------')\n",
        "\n",
        "            await delete_content(content_id)\n"
      ],
      "metadata": {
        "id": "F3ciCwAnP8V-",
        "colab": {
          "base_uri": "https://localhost:8080/",
          "height": 1000
        },
        "outputId": "7a5ae085-3024-4141-e550-5d319e2081bb"
      },
      "execution_count": 8,
      "outputs": [
        {
          "output_type": "stream",
          "name": "stdout",
          "text": [
            "Created workflow [fea13602-5d4b-4bcf-a3f7-4a8320c9ceb4].\n",
            "Ingested content [c72e9d51-44c5-4520-a49a-d531b30c9de4].\n"
          ]
        },
        {
          "output_type": "display_data",
          "data": {
            "text/plain": [
              "<IPython.core.display.Markdown object>"
            ],
            "text/markdown": "## Item 1. Financial Statements\n\n# Consolidated Balance Sheets\n\n(dollars in thousands)\n\n(unaudited)\n\n## ASSETS\n\n### Current Assets\n\nCash and Cash Equivalents\n\nInvestments—Consolidated Investment Companies\n\nInvestments—Affiliates and Other\n\nReceivables, net of reserve of $21 and $21, respectively\n\nReceivables—Affiliates\n\nPrepaid Expenses\n\nOther Current Assets\n\nTotal Current Assets\n\n### Long-Term Assets\n\nGoodwill\n\nIntangible Assets, net of accumulated amortization of $70,045 and $64,112, respectively\n\nProperty and Equipment, net of accumulated depreciation of $122,372 and $119,852, respectively\n\nRight-of-Use Assets, net\n\nOther Long-Term Assets\n\nTotal Long-Term Assets\n\nTotal Assets\n\n## LIABILITIES\n\n### Current Liabilities\n\nAccounts Payable and Accrued Expenses\n\nAccrued Compensation and Benefits\n\nLease Liabilities\n\nOther Current Liabilities\n\nTotal Current Liabilities\n\n### Long-Term Liabilities\n\nLong-Term Debt\n\nLong-Term Deferred Tax Liability, net\n\nLong-Term Lease Liabilities\n\nOther Long-Term Liabilities\n\nTotal Long-Term Liabilities\n\nTotal Liabilities\n\nCommitments and Contingencies (Note (17))\n\n## TEMPORARY EQUITY\n\nRedeemable Noncontrolling Interests in Subsidiaries\n\n## PERMANENT EQUITY\n\nFederated Hermes, Inc. Shareholders’ Equity\n\nCommon Stock:\n\nClass A, No Par Value, 20,000 Shares Authorized, 9,000 Shares Issued and Outstanding\n\nClass B, No Par Value, 900,000,000 Shares Authorized, 99,505,456 Shares Issued\n\nAdditional Paid-In Capital from Treasury Stock Transactions\n\nRetained Earnings\n\nTreasury Stock, at Cost, 16,905,080 and 14,664,467 Shares Class B Common Stock, respectively\n\nAccumulated Other Comprehensive Income (Loss), net of tax\n\nTotal Permanent Equity\n\nTotal Liabilities, Temporary Equity and Permanent Equity\n\n(The accompanying notes are an integral part of these Consolidated Financial Statements.)\n\n| June 30, 2024 | December 31, 2023 \n| --- | --- |\n| $ 307,433 | $ 383,180 |\n| 72,847 | 70,543 |\n| 72,599 | 106,952 |\n| 72,086 | 75,721 |\n| 44,472 | 48,694 |\n| 37,911 | 29,739 |\n| 5,953 | 5,900 |\n| 613,301 | 720,729 |\n| 806,069 | 807,156 |\n| 335,554 | 409,449 |\n| 32,170 | 30,711 |\n| 92,464 | 99,265 |\n| 31,949 | 34,534 |\n| 1,298,206 | 1,381,115 |\n| 1,911,507 | 2,101,844 |\n| 92,564 | 88,290 |\n| 93,153 | 158,392 |\n| 16,437 | 16,283 |\n| 21,226 | 24,378 |\n| 223,380 | 287,343 |\n| 347,974 | 347,843 |\n| 181,403 | 186,292 |\n| 85,748 | 93,816 |\n| 25,486 | 32,453 |\n| 640,611 | 660,404 |\n| 863,991 | 947,747 |\n| 30,491 | 25,845 |\n| 189 | 189 |\n| 491,204 | 474,814 |\n| 0 | 2 |\n| 1,145,844 | 1,194,561 |\n| (595,592) | (521,403) |\n| (24,620) | (19,911) |\n| 1,017,025 | 1,128,252 |\n| 1,911,507 | 2,101,844 |\n\n\n"
          },
          "metadata": {}
        },
        {
          "output_type": "stream",
          "name": "stdout",
          "text": [
            "## Item 1. Financial Statements\n",
            "\n",
            "# Consolidated Balance Sheets\n",
            "\n",
            "(dollars in thousands)\n",
            "\n",
            "(unaudited)\n",
            "\n",
            "## ASSETS\n",
            "\n",
            "### Current Assets\n",
            "\n",
            "Cash and Cash Equivalents\n",
            "\n",
            "Investments—Consolidated Investment Companies\n",
            "\n",
            "Investments—Affiliates and Other\n",
            "\n",
            "Receivables, net of reserve of $21 and $21, respectively\n",
            "\n",
            "Receivables—Affiliates\n",
            "\n",
            "Prepaid Expenses\n",
            "\n",
            "Other Current Assets\n",
            "\n",
            "Total Current Assets\n",
            "\n",
            "### Long-Term Assets\n",
            "\n",
            "Goodwill\n",
            "\n",
            "Intangible Assets, net of accumulated amortization of $70,045 and $64,112, respectively\n",
            "\n",
            "Property and Equipment, net of accumulated depreciation of $122,372 and $119,852, respectively\n",
            "\n",
            "Right-of-Use Assets, net\n",
            "\n",
            "Other Long-Term Assets\n",
            "\n",
            "Total Long-Term Assets\n",
            "\n",
            "Total Assets\n",
            "\n",
            "## LIABILITIES\n",
            "\n",
            "### Current Liabilities\n",
            "\n",
            "Accounts Payable and Accrued Expenses\n",
            "\n",
            "Accrued Compensation and Benefits\n",
            "\n",
            "Lease Liabilities\n",
            "\n",
            "Other Current Liabilities\n",
            "\n",
            "Total Current Liabilities\n",
            "\n",
            "### Long-Term Liabilities\n",
            "\n",
            "Long-Term Debt\n",
            "\n",
            "Long-Term Deferred Tax Liability, net\n",
            "\n",
            "Long-Term Lease Liabilities\n",
            "\n",
            "Other Long-Term Liabilities\n",
            "\n",
            "Total Long-Term Liabilities\n",
            "\n",
            "Total Liabilities\n",
            "\n",
            "Commitments and Contingencies (Note (17))\n",
            "\n",
            "## TEMPORARY EQUITY\n",
            "\n",
            "Redeemable Noncontrolling Interests in Subsidiaries\n",
            "\n",
            "## PERMANENT EQUITY\n",
            "\n",
            "Federated Hermes, Inc. Shareholders’ Equity\n",
            "\n",
            "Common Stock:\n",
            "\n",
            "Class A, No Par Value, 20,000 Shares Authorized, 9,000 Shares Issued and Outstanding\n",
            "\n",
            "Class B, No Par Value, 900,000,000 Shares Authorized, 99,505,456 Shares Issued\n",
            "\n",
            "Additional Paid-In Capital from Treasury Stock Transactions\n",
            "\n",
            "Retained Earnings\n",
            "\n",
            "Treasury Stock, at Cost, 16,905,080 and 14,664,467 Shares Class B Common Stock, respectively\n",
            "\n",
            "Accumulated Other Comprehensive Income (Loss), net of tax\n",
            "\n",
            "Total Permanent Equity\n",
            "\n",
            "Total Liabilities, Temporary Equity and Permanent Equity\n",
            "\n",
            "(The accompanying notes are an integral part of these Consolidated Financial Statements.)\n",
            "\n",
            "| June 30, 2024 | December 31, 2023 \n",
            "| --- | --- |\n",
            "| $ 307,433 | $ 383,180 |\n",
            "| 72,847 | 70,543 |\n",
            "| 72,599 | 106,952 |\n",
            "| 72,086 | 75,721 |\n",
            "| 44,472 | 48,694 |\n",
            "| 37,911 | 29,739 |\n",
            "| 5,953 | 5,900 |\n",
            "| 613,301 | 720,729 |\n",
            "| 806,069 | 807,156 |\n",
            "| 335,554 | 409,449 |\n",
            "| 32,170 | 30,711 |\n",
            "| 92,464 | 99,265 |\n",
            "| 31,949 | 34,534 |\n",
            "| 1,298,206 | 1,381,115 |\n",
            "| 1,911,507 | 2,101,844 |\n",
            "| 92,564 | 88,290 |\n",
            "| 93,153 | 158,392 |\n",
            "| 16,437 | 16,283 |\n",
            "| 21,226 | 24,378 |\n",
            "| 223,380 | 287,343 |\n",
            "| 347,974 | 347,843 |\n",
            "| 181,403 | 186,292 |\n",
            "| 85,748 | 93,816 |\n",
            "| 25,486 | 32,453 |\n",
            "| 640,611 | 660,404 |\n",
            "| 863,991 | 947,747 |\n",
            "| 30,491 | 25,845 |\n",
            "| 189 | 189 |\n",
            "| 491,204 | 474,814 |\n",
            "| 0 | 2 |\n",
            "| 1,145,844 | 1,194,561 |\n",
            "| (595,592) | (521,403) |\n",
            "| (24,620) | (19,911) |\n",
            "| 1,017,025 | 1,128,252 |\n",
            "| 1,911,507 | 2,101,844 |\n",
            "\n",
            "\n",
            "\n"
          ]
        }
      ]
    }
  ]
}